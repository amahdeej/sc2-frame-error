{
 "cells": [
  {
   "cell_type": "markdown",
   "metadata": {},
   "source": [
    "# Libraries"
   ]
  },
  {
   "cell_type": "code",
   "execution_count": 1,
   "metadata": {},
   "outputs": [],
   "source": [
    "import sqlite3\n",
    "import numpy as np\n",
    "from collections import OrderedDict, namedtuple\n",
    "from distutils.spawn import find_executable\n",
    "import matplotlib.pyplot as plt\n",
    "\n",
    "import sys\n",
    "import subprocess\n",
    "import pathlib\n",
    "import tempfile\n",
    "import importlib\n",
    "import os\n",
    "import time\n",
    "import random\n",
    "import pickle\n",
    "\n",
    "import math\n",
    "\n",
    "from configparser import ConfigParser\n",
    "\n",
    "# from google.protobuf.json_format import MessageToDict"
   ]
  },
  {
   "cell_type": "code",
   "execution_count": 2,
   "metadata": {},
   "outputs": [],
   "source": [
    "# DEVICE = 0\n",
    "\n",
    "import os\n",
    "import time\n",
    "import pickle\n",
    "import numpy as np\n",
    "from tqdm import tqdm\n",
    "import matplotlib.pyplot as plt\n",
    "import seaborn as sn\n",
    "import pandas as pd\n",
    "\n",
    "import torch\n",
    "torch.backends.cudnn.benchmark = True\n",
    "import torch.optim as optim\n",
    "import torch.nn as nn\n",
    "import torch.nn.functional as F\n",
    "from torch.autograd import Variable\n",
    "from torch.utils import data\n",
    "\n",
    "# torch.cuda.set_device(DEVICE)\n",
    "torch.cuda.empty_cache() \n",
    "torch.backends.cudnn.benchmark=True"
   ]
  },
  {
   "cell_type": "code",
   "execution_count": 3,
   "metadata": {},
   "outputs": [],
   "source": [
    "np.random.seed(0)\n",
    "torch.manual_seed(0)\n",
    "\n",
    "import os\n",
    "os.environ['CUDA_VISIBLE_DEVICES']='0'"
   ]
  },
  {
   "cell_type": "markdown",
   "metadata": {},
   "source": [
    "# load the dataset"
   ]
  },
  {
   "cell_type": "code",
   "execution_count": 4,
   "metadata": {},
   "outputs": [],
   "source": [
    "with open('scrimmage5_link_dataset.pickle', 'rb') as file:\n",
    "    link_dataset = pickle.load(file)"
   ]
  },
  {
   "cell_type": "code",
   "execution_count": 5,
   "metadata": {},
   "outputs": [],
   "source": [
    "train_x_npn = []\n",
    "train_y_npn = []\n",
    "test_x_npn = []\n",
    "test_y_npn = []\n",
    "\n",
    "train_data = []\n",
    "test_data = []\n",
    "\n",
    "\n",
    "for i in range(len(link_dataset)):\n",
    "    datalen = len(link_dataset[i][1])\n",
    "    trainlen = round(datalen*2/3)\n",
    "    testlen = datalen -trainlen        \n",
    "    train_x_npn = link_dataset[i][0][0:trainlen].numpy()   \n",
    "    train_y_npn = link_dataset[i][1][0:trainlen].numpy()\n",
    "    test_x_npn = link_dataset[i][0][trainlen:trainlen+testlen].numpy()\n",
    "    test_y_npn = link_dataset[i][1][trainlen:trainlen+testlen].numpy()\n",
    "\n",
    "    train_data.append([torch.from_numpy(train_x_npn), torch.from_numpy(train_y_npn)])\n",
    "    test_data.append([torch.from_numpy(test_x_npn), torch.from_numpy(test_y_npn)])"
   ]
  },
  {
   "cell_type": "code",
   "execution_count": 6,
   "metadata": {},
   "outputs": [],
   "source": [
    "class LSTMTagger(nn.Module):\n",
    "\n",
    "    def __init__(self, embedding_dim, hidden_dim, tagset_size):\n",
    "        super(LSTMTagger, self).__init__()\n",
    "        self.hidden_dim = hidden_dim\n",
    "\n",
    "        # The LSTM takes word embeddings as inputs, and outputs hidden states\n",
    "        # with dimensionality hidden_dim.\n",
    "        self.lstm = nn.LSTM(embedding_dim, hidden_dim)\n",
    "\n",
    "        # The linear layer that maps from hidden state space to tag space\n",
    "        self.hidden2tag = nn.Linear(hidden_dim, tagset_size)\n",
    "\n",
    "    def forward(self, sentence):\n",
    "        lstm_out, _ = self.lstm(sentence.view(len(sentence), 1, -1))\n",
    "        tag_space = self.hidden2tag(lstm_out.view(len(sentence), -1))\n",
    "        tag_scores = F.log_softmax(tag_space, dim=1)\n",
    "        return tag_scores"
   ]
  },
  {
   "cell_type": "markdown",
   "metadata": {},
   "source": [
    "# Train Model 10 Epoch"
   ]
  },
  {
   "cell_type": "code",
   "execution_count": 7,
   "metadata": {
    "scrolled": false
   },
   "outputs": [
    {
     "name": "stderr",
     "output_type": "stream",
     "text": [
      "Epoch 0/10, Training: 100%|███████████████████████████| 627/627 [11:18<00:00,  1.08s/it]\n",
      "Epoch 0/10, Validation: 100%|█████████████████████████| 627/627 [13:43<00:00,  1.31s/it]\n",
      "Epoch 1/10, Validation:   0%|                                   | 0/627 [00:00<?, ?it/s]"
     ]
    },
    {
     "name": "stdout",
     "output_type": "stream",
     "text": [
      "train loss: 0.61645, test loss: 0.57806\n"
     ]
    },
    {
     "name": "stderr",
     "output_type": "stream",
     "text": [
      "Epoch 1/10, Training: 100%|███████████████████████████| 627/627 [10:06<00:00,  1.03it/s]\n",
      "Epoch 1/10, Validation: 100%|█████████████████████████| 627/627 [12:28<00:00,  1.19s/it]\n",
      "Epoch 2/10, Validation:   0%|                                   | 0/627 [00:00<?, ?it/s]"
     ]
    },
    {
     "name": "stdout",
     "output_type": "stream",
     "text": [
      "train loss: 0.59877, test loss: 0.57773\n"
     ]
    },
    {
     "name": "stderr",
     "output_type": "stream",
     "text": [
      "Epoch 2/10, Training: 100%|███████████████████████████| 627/627 [10:06<00:00,  1.03it/s]\n",
      "Epoch 2/10, Validation: 100%|█████████████████████████| 627/627 [12:28<00:00,  1.19s/it]\n",
      "Epoch 3/10, Validation:   0%|                                   | 0/627 [00:00<?, ?it/s]"
     ]
    },
    {
     "name": "stdout",
     "output_type": "stream",
     "text": [
      "train loss: 0.59573, test loss: 0.58686\n"
     ]
    },
    {
     "name": "stderr",
     "output_type": "stream",
     "text": [
      "Epoch 3/10, Training: 100%|███████████████████████████| 627/627 [10:07<00:00,  1.03it/s]\n",
      "Epoch 3/10, Validation: 100%|█████████████████████████| 627/627 [12:28<00:00,  1.19s/it]\n",
      "Epoch 4/10, Validation:   0%|                                   | 0/627 [00:00<?, ?it/s]"
     ]
    },
    {
     "name": "stdout",
     "output_type": "stream",
     "text": [
      "train loss: 0.59080, test loss: 0.57914\n"
     ]
    },
    {
     "name": "stderr",
     "output_type": "stream",
     "text": [
      "Epoch 4/10, Training: 100%|███████████████████████████| 627/627 [10:07<00:00,  1.03it/s]\n",
      "Epoch 4/10, Validation: 100%|█████████████████████████| 627/627 [12:28<00:00,  1.19s/it]\n",
      "Epoch 5/10, Validation:   0%|                                   | 0/627 [00:00<?, ?it/s]"
     ]
    },
    {
     "name": "stdout",
     "output_type": "stream",
     "text": [
      "train loss: 0.58919, test loss: 0.57566\n"
     ]
    },
    {
     "name": "stderr",
     "output_type": "stream",
     "text": [
      "Epoch 5/10, Training: 100%|███████████████████████████| 627/627 [10:05<00:00,  1.03it/s]\n",
      "Epoch 5/10, Validation: 100%|█████████████████████████| 627/627 [12:27<00:00,  1.19s/it]\n",
      "Epoch 6/10, Validation:   0%|                                   | 0/627 [00:00<?, ?it/s]"
     ]
    },
    {
     "name": "stdout",
     "output_type": "stream",
     "text": [
      "train loss: 0.58670, test loss: 0.57388\n"
     ]
    },
    {
     "name": "stderr",
     "output_type": "stream",
     "text": [
      "Epoch 6/10, Training: 100%|███████████████████████████| 627/627 [10:07<00:00,  1.03it/s]\n",
      "Epoch 6/10, Validation: 100%|█████████████████████████| 627/627 [12:29<00:00,  1.20s/it]\n",
      "Epoch 7/10, Validation:   0%|                                   | 0/627 [00:00<?, ?it/s]"
     ]
    },
    {
     "name": "stdout",
     "output_type": "stream",
     "text": [
      "train loss: 0.58289, test loss: 0.57680\n"
     ]
    },
    {
     "name": "stderr",
     "output_type": "stream",
     "text": [
      "Epoch 7/10, Training: 100%|███████████████████████████| 627/627 [10:08<00:00,  1.03it/s]\n",
      "Epoch 7/10, Validation: 100%|█████████████████████████| 627/627 [12:29<00:00,  1.20s/it]\n",
      "Epoch 8/10, Validation:   0%|                                   | 0/627 [00:00<?, ?it/s]"
     ]
    },
    {
     "name": "stdout",
     "output_type": "stream",
     "text": [
      "train loss: 0.58120, test loss: 0.57678\n"
     ]
    },
    {
     "name": "stderr",
     "output_type": "stream",
     "text": [
      "Epoch 8/10, Training: 100%|███████████████████████████| 627/627 [10:07<00:00,  1.03it/s]\n",
      "Epoch 8/10, Validation: 100%|█████████████████████████| 627/627 [12:29<00:00,  1.19s/it]\n",
      "Epoch 9/10, Validation:   0%|                                   | 0/627 [00:00<?, ?it/s]"
     ]
    },
    {
     "name": "stdout",
     "output_type": "stream",
     "text": [
      "train loss: 0.57800, test loss: 0.57972\n"
     ]
    },
    {
     "name": "stderr",
     "output_type": "stream",
     "text": [
      "Epoch 9/10, Training: 100%|███████████████████████████| 627/627 [10:06<00:00,  1.03it/s]\n",
      "Epoch 9/10, Validation: 100%|█████████████████████████| 627/627 [12:27<00:00,  1.19s/it]"
     ]
    },
    {
     "name": "stdout",
     "output_type": "stream",
     "text": [
      "train loss: 0.57666, test loss: 0.57222\n"
     ]
    },
    {
     "name": "stderr",
     "output_type": "stream",
     "text": [
      "\n"
     ]
    }
   ],
   "source": [
    "EMBEDDING_DIM = 20\n",
    "HIDDEN_DIM = 100\n",
    "TAGSET_SIZE = 2\n",
    "NUM_EPOCHS = 10\n",
    "\n",
    "model = LSTMTagger(EMBEDDING_DIM, HIDDEN_DIM, TAGSET_SIZE).cuda()\n",
    "model.cuda()\n",
    "\n",
    "loss_function = nn.NLLLoss(weight=torch.tensor([2.0,1.0])).cuda()\n",
    "optimizer = optim.Adam(model.parameters(), 0.001)\n",
    "\n",
    "for epoch_idx in range(NUM_EPOCHS): \n",
    "\n",
    "    progress_training_epoch = tqdm(\n",
    "        train_data, \n",
    "        desc=f'Epoch {epoch_idx}/{NUM_EPOCHS}, Training',\n",
    "        miniters=1, ncols=88, position=0,\n",
    "        leave=True, total=len(train_data), smoothing=.9)\n",
    "\n",
    "    progress_validation_epoch = tqdm(\n",
    "        test_data, \n",
    "        desc=f'Epoch {epoch_idx}/{NUM_EPOCHS}, Validation',\n",
    "        miniters=1, ncols=88, position=0, \n",
    "        leave=True, total=len(test_data), smoothing=.9)\n",
    "\n",
    "    train_loss = 0\n",
    "    train_size = 0\n",
    "    model.train()\n",
    "    for idx, (sentence, tags) in enumerate(progress_training_epoch):\n",
    "        sentence = sentence.cuda()\n",
    "        tags = tags.cuda()\n",
    "        model.zero_grad()\n",
    "        tag_scores = model(sentence)\n",
    "        loss = loss_function(tag_scores, tags)\n",
    "        loss.backward()\n",
    "        optimizer.step()\n",
    "        train_loss += loss * tags.size()[0]\n",
    "        train_size += tags.size()[0]\n",
    "\n",
    "    test_loss = 0\n",
    "    test_size = 0\n",
    "    predict = []\n",
    "    target = []\n",
    "    model.eval()\n",
    "    with torch.no_grad():\n",
    "        for idx, (sentence, tags) in enumerate(progress_validation_epoch):\n",
    "            sentence = sentence.cuda()\n",
    "            tags = tags.cuda()\n",
    "            tag_scores = model(sentence)\n",
    "            loss = loss_function(tag_scores, tags)\n",
    "            predict.append(tag_scores.argmax(dim=1).cpu().numpy())\n",
    "            target.append(tags.cpu().numpy())        \n",
    "            test_loss += loss * tags.size()[0]\n",
    "            test_size += tags.size()[0]\n",
    "    predict = np.concatenate(predict, axis=0)\n",
    "    target = np.concatenate(target, axis=0)\n",
    "\n",
    "    print(f'train loss:{train_loss.item()/train_size: .5f}, '\n",
    "          f'test loss:{test_loss.item()/test_size: .5f}')"
   ]
  },
  {
   "cell_type": "markdown",
   "metadata": {},
   "source": [
    "# Test"
   ]
  },
  {
   "cell_type": "code",
   "execution_count": 8,
   "metadata": {},
   "outputs": [
    {
     "name": "stderr",
     "output_type": "stream",
     "text": [
      "Epoch 9/10, Validation: 100%|█████████████████████████| 627/627 [02:18<00:00,  4.52it/s]\n"
     ]
    },
    {
     "name": "stdout",
     "output_type": "stream",
     "text": [
      "True Positive:2226140, True Negative:666974, False Positive:656508, False Negative:340228\n"
     ]
    }
   ],
   "source": [
    "progress_validation_epoch = tqdm(\n",
    "    test_data, \n",
    "    desc=f'Epoch {epoch_idx}/{NUM_EPOCHS}, Validation',\n",
    "    miniters=1, ncols=88, position=0, \n",
    "    leave=True, total=len(test_data), smoothing=.9)\n",
    "\n",
    "predict = []\n",
    "target = []\n",
    "model.eval()\n",
    "with torch.no_grad():\n",
    "    for idx, (sentence, tags) in enumerate(progress_validation_epoch):\n",
    "        sentence = sentence.cuda()\n",
    "        tags = tags.cuda()\n",
    "        tag_scores = model(sentence)\n",
    "        predict.append(tag_scores.argmax(dim=1).cpu().numpy())\n",
    "        target.append(tags.cpu().numpy())        \n",
    "predict = np.concatenate(predict, axis=0)\n",
    "target = np.concatenate(target, axis=0)\n",
    "\n",
    "tp = predict[target==1].sum()\n",
    "tn = (target==0).sum() - predict[target==0].sum()\n",
    "fp = predict[target==0].sum()\n",
    "fn = (target==1).sum() - predict[target==1].sum()\n",
    "\n",
    "print(f'True Positive:{tp}, '\n",
    "      f'True Negative:{tn}, '\n",
    "      f'False Positive:{fp}, '\n",
    "      f'False Negative:{fn}')\n"
   ]
  },
  {
   "cell_type": "code",
   "execution_count": 9,
   "metadata": {},
   "outputs": [
    {
     "name": "stdout",
     "output_type": "stream",
     "text": [
      "Accuracy:0.7437597850816869, Positive Accuracy:0.7722552319950268, Negative Accuracy:0.6622048010230321, Weighted Accuracy:0.7172300165090295\n"
     ]
    }
   ],
   "source": [
    "accr = (tp+tn)/(tp+tn+fp+fn)\n",
    "posaccr = tp/(tp+fp)\n",
    "negaccr = tn/(tn+fn)\n",
    "print(f'Accuracy:{accr}, '\n",
    "      f'Positive Accuracy:{posaccr}, '\n",
    "      f'Negative Accuracy:{negaccr}, '\n",
    "      f'Weighted Accuracy:{0.5*(posaccr+negaccr)}')"
   ]
  },
  {
   "cell_type": "markdown",
   "metadata": {},
   "source": [
    "# Bagging 9"
   ]
  },
  {
   "cell_type": "code",
   "execution_count": 7,
   "metadata": {},
   "outputs": [],
   "source": [
    "with open('scrimmage5_link_dataset.pickle', 'rb') as file:\n",
    "    link_dataset = pickle.load(file)"
   ]
  },
  {
   "cell_type": "code",
   "execution_count": 8,
   "metadata": {
    "scrolled": false
   },
   "outputs": [
    {
     "name": "stderr",
     "output_type": "stream",
     "text": [
      "Epoch 0/3, Training: 100%|████████████████████████████| 200/200 [03:21<00:00,  1.01s/it]\n",
      "Epoch 0/3, Validation: 100%|██████████████████████████| 627/627 [05:15<00:00,  1.99it/s]\n",
      "Epoch 1/3, Validation:   0%|                                    | 0/627 [00:00<?, ?it/s]"
     ]
    },
    {
     "name": "stdout",
     "output_type": "stream",
     "text": [
      "train loss: 0.52163, test loss: 0.54226\n"
     ]
    },
    {
     "name": "stderr",
     "output_type": "stream",
     "text": [
      "Epoch 1/3, Training: 100%|████████████████████████████| 200/200 [04:02<00:00,  1.21s/it]\n",
      "Epoch 1/3, Validation: 100%|██████████████████████████| 627/627 [06:00<00:00,  1.74it/s]\n",
      "Epoch 2/3, Validation:   0%|                                    | 0/627 [00:00<?, ?it/s]"
     ]
    },
    {
     "name": "stdout",
     "output_type": "stream",
     "text": [
      "train loss: 0.48213, test loss: 0.54379\n"
     ]
    },
    {
     "name": "stderr",
     "output_type": "stream",
     "text": [
      "Epoch 2/3, Training: 100%|████████████████████████████| 200/200 [03:56<00:00,  1.18s/it]\n",
      "Epoch 2/3, Validation: 100%|██████████████████████████| 627/627 [06:01<00:00,  1.74it/s]\n",
      "Epoch 0/3, Validation:   0%|                                    | 0/627 [00:00<?, ?it/s]"
     ]
    },
    {
     "name": "stdout",
     "output_type": "stream",
     "text": [
      "train loss: 0.47600, test loss: 0.54329\n"
     ]
    },
    {
     "name": "stderr",
     "output_type": "stream",
     "text": [
      "Epoch 0/3, Training: 100%|████████████████████████████| 200/200 [04:00<00:00,  1.20s/it]\n",
      "Epoch 0/3, Validation: 100%|██████████████████████████| 627/627 [05:56<00:00,  1.76it/s]\n",
      "Epoch 1/3, Validation:   0%|                                    | 0/627 [00:00<?, ?it/s]"
     ]
    },
    {
     "name": "stdout",
     "output_type": "stream",
     "text": [
      "train loss: 0.50847, test loss: 0.58690\n"
     ]
    },
    {
     "name": "stderr",
     "output_type": "stream",
     "text": [
      "Epoch 1/3, Training: 100%|████████████████████████████| 200/200 [03:33<00:00,  1.07s/it]\n",
      "Epoch 1/3, Validation: 100%|██████████████████████████| 627/627 [05:03<00:00,  2.07it/s]\n",
      "Epoch 2/3, Validation:   0%|                                    | 0/627 [00:00<?, ?it/s]"
     ]
    },
    {
     "name": "stdout",
     "output_type": "stream",
     "text": [
      "train loss: 0.47427, test loss: 0.59228\n"
     ]
    },
    {
     "name": "stderr",
     "output_type": "stream",
     "text": [
      "Epoch 2/3, Training: 100%|████████████████████████████| 200/200 [03:05<00:00,  1.08it/s]\n",
      "Epoch 2/3, Validation: 100%|██████████████████████████| 627/627 [04:34<00:00,  2.29it/s]\n",
      "Epoch 0/3, Validation:   0%|                                    | 0/627 [00:00<?, ?it/s]"
     ]
    },
    {
     "name": "stdout",
     "output_type": "stream",
     "text": [
      "train loss: 0.47106, test loss: 0.58071\n"
     ]
    },
    {
     "name": "stderr",
     "output_type": "stream",
     "text": [
      "Epoch 0/3, Training: 100%|████████████████████████████| 200/200 [02:51<00:00,  1.17it/s]\n",
      "Epoch 0/3, Validation: 100%|██████████████████████████| 627/627 [04:09<00:00,  2.51it/s]\n",
      "Epoch 1/3, Validation:   0%|                                    | 0/627 [00:00<?, ?it/s]"
     ]
    },
    {
     "name": "stdout",
     "output_type": "stream",
     "text": [
      "train loss: 0.52137, test loss: 0.59540\n"
     ]
    },
    {
     "name": "stderr",
     "output_type": "stream",
     "text": [
      "Epoch 1/3, Training: 100%|████████████████████████████| 200/200 [02:35<00:00,  1.28it/s]\n",
      "Epoch 1/3, Validation: 100%|██████████████████████████| 627/627 [03:46<00:00,  2.77it/s]\n",
      "Epoch 2/3, Validation:   0%|                                    | 0/627 [00:00<?, ?it/s]"
     ]
    },
    {
     "name": "stdout",
     "output_type": "stream",
     "text": [
      "train loss: 0.47101, test loss: 0.59263\n"
     ]
    },
    {
     "name": "stderr",
     "output_type": "stream",
     "text": [
      "Epoch 2/3, Training: 100%|████████████████████████████| 200/200 [02:31<00:00,  1.32it/s]\n",
      "Epoch 2/3, Validation: 100%|██████████████████████████| 627/627 [03:53<00:00,  2.69it/s]\n",
      "Epoch 0/3, Validation:   0%|                                    | 0/627 [00:00<?, ?it/s]"
     ]
    },
    {
     "name": "stdout",
     "output_type": "stream",
     "text": [
      "train loss: 0.46509, test loss: 0.58387\n"
     ]
    },
    {
     "name": "stderr",
     "output_type": "stream",
     "text": [
      "Epoch 0/3, Training: 100%|████████████████████████████| 200/200 [02:44<00:00,  1.21it/s]\n",
      "Epoch 0/3, Validation: 100%|██████████████████████████| 627/627 [04:06<00:00,  2.55it/s]\n",
      "Epoch 1/3, Validation:   0%|                                    | 0/627 [00:00<?, ?it/s]"
     ]
    },
    {
     "name": "stdout",
     "output_type": "stream",
     "text": [
      "train loss: 0.54676, test loss: 0.58501\n"
     ]
    },
    {
     "name": "stderr",
     "output_type": "stream",
     "text": [
      "Epoch 1/3, Training: 100%|████████████████████████████| 200/200 [02:45<00:00,  1.21it/s]\n",
      "Epoch 1/3, Validation: 100%|██████████████████████████| 627/627 [04:06<00:00,  2.54it/s]\n",
      "Epoch 2/3, Validation:   0%|                                    | 0/627 [00:00<?, ?it/s]"
     ]
    },
    {
     "name": "stdout",
     "output_type": "stream",
     "text": [
      "train loss: 0.50288, test loss: 0.56364\n"
     ]
    },
    {
     "name": "stderr",
     "output_type": "stream",
     "text": [
      "Epoch 2/3, Training: 100%|████████████████████████████| 200/200 [02:44<00:00,  1.22it/s]\n",
      "Epoch 2/3, Validation: 100%|██████████████████████████| 627/627 [04:05<00:00,  2.55it/s]\n",
      "Epoch 0/3, Validation:   0%|                                    | 0/627 [00:00<?, ?it/s]"
     ]
    },
    {
     "name": "stdout",
     "output_type": "stream",
     "text": [
      "train loss: 0.49496, test loss: 0.57046\n"
     ]
    },
    {
     "name": "stderr",
     "output_type": "stream",
     "text": [
      "Epoch 0/3, Training: 100%|████████████████████████████| 200/200 [02:38<00:00,  1.26it/s]\n",
      "Epoch 0/3, Validation: 100%|██████████████████████████| 627/627 [03:59<00:00,  2.62it/s]\n",
      "Epoch 1/3, Validation:   0%|                                    | 0/627 [00:00<?, ?it/s]"
     ]
    },
    {
     "name": "stdout",
     "output_type": "stream",
     "text": [
      "train loss: 0.51409, test loss: 0.60030\n"
     ]
    },
    {
     "name": "stderr",
     "output_type": "stream",
     "text": [
      "Epoch 1/3, Training: 100%|████████████████████████████| 200/200 [02:37<00:00,  1.27it/s]\n",
      "Epoch 1/3, Validation: 100%|██████████████████████████| 627/627 [03:59<00:00,  2.62it/s]\n",
      "Epoch 2/3, Validation:   0%|                                    | 0/627 [00:00<?, ?it/s]"
     ]
    },
    {
     "name": "stdout",
     "output_type": "stream",
     "text": [
      "train loss: 0.47113, test loss: 0.61570\n"
     ]
    },
    {
     "name": "stderr",
     "output_type": "stream",
     "text": [
      "Epoch 2/3, Training: 100%|████████████████████████████| 200/200 [02:38<00:00,  1.26it/s]\n",
      "Epoch 2/3, Validation: 100%|██████████████████████████| 627/627 [04:00<00:00,  2.61it/s]\n",
      "Epoch 0/3, Validation:   0%|                                    | 0/627 [00:00<?, ?it/s]"
     ]
    },
    {
     "name": "stdout",
     "output_type": "stream",
     "text": [
      "train loss: 0.46755, test loss: 0.59637\n"
     ]
    },
    {
     "name": "stderr",
     "output_type": "stream",
     "text": [
      "Epoch 0/3, Training: 100%|████████████████████████████| 200/200 [02:45<00:00,  1.21it/s]\n",
      "Epoch 0/3, Validation: 100%|██████████████████████████| 627/627 [04:07<00:00,  2.54it/s]\n",
      "Epoch 1/3, Validation:   0%|                                    | 0/627 [00:00<?, ?it/s]"
     ]
    },
    {
     "name": "stdout",
     "output_type": "stream",
     "text": [
      "train loss: 0.55313, test loss: 0.59836\n"
     ]
    },
    {
     "name": "stderr",
     "output_type": "stream",
     "text": [
      "Epoch 1/3, Training: 100%|████████████████████████████| 200/200 [02:44<00:00,  1.22it/s]\n",
      "Epoch 1/3, Validation: 100%|██████████████████████████| 627/627 [03:54<00:00,  2.67it/s]\n",
      "Epoch 2/3, Validation:   0%|                                    | 0/627 [00:00<?, ?it/s]"
     ]
    },
    {
     "name": "stdout",
     "output_type": "stream",
     "text": [
      "train loss: 0.53042, test loss: 0.57159\n"
     ]
    },
    {
     "name": "stderr",
     "output_type": "stream",
     "text": [
      "Epoch 2/3, Training: 100%|████████████████████████████| 200/200 [02:45<00:00,  1.21it/s]\n",
      "Epoch 2/3, Validation: 100%|██████████████████████████| 627/627 [04:07<00:00,  2.53it/s]\n",
      "Epoch 0/3, Validation:   0%|                                    | 0/627 [00:00<?, ?it/s]"
     ]
    },
    {
     "name": "stdout",
     "output_type": "stream",
     "text": [
      "train loss: 0.52417, test loss: 0.56435\n"
     ]
    },
    {
     "name": "stderr",
     "output_type": "stream",
     "text": [
      "Epoch 0/3, Training: 100%|████████████████████████████| 200/200 [02:48<00:00,  1.19it/s]\n",
      "Epoch 0/3, Validation: 100%|██████████████████████████| 627/627 [04:09<00:00,  2.51it/s]\n",
      "Epoch 1/3, Validation:   0%|                                    | 0/627 [00:00<?, ?it/s]"
     ]
    },
    {
     "name": "stdout",
     "output_type": "stream",
     "text": [
      "train loss: 0.52533, test loss: 0.56291\n"
     ]
    },
    {
     "name": "stderr",
     "output_type": "stream",
     "text": [
      "Epoch 1/3, Training: 100%|████████████████████████████| 200/200 [02:48<00:00,  1.18it/s]\n",
      "Epoch 1/3, Validation: 100%|██████████████████████████| 627/627 [04:10<00:00,  2.50it/s]\n",
      "Epoch 2/3, Validation:   0%|                                    | 0/627 [00:00<?, ?it/s]"
     ]
    },
    {
     "name": "stdout",
     "output_type": "stream",
     "text": [
      "train loss: 0.47571, test loss: 0.54868\n"
     ]
    },
    {
     "name": "stderr",
     "output_type": "stream",
     "text": [
      "Epoch 2/3, Training: 100%|████████████████████████████| 200/200 [02:47<00:00,  1.19it/s]\n",
      "Epoch 2/3, Validation: 100%|██████████████████████████| 627/627 [04:09<00:00,  2.52it/s]\n",
      "Epoch 0/3, Validation:   0%|                                    | 0/627 [00:00<?, ?it/s]"
     ]
    },
    {
     "name": "stdout",
     "output_type": "stream",
     "text": [
      "train loss: 0.46703, test loss: 0.54929\n"
     ]
    },
    {
     "name": "stderr",
     "output_type": "stream",
     "text": [
      "Epoch 0/3, Training: 100%|████████████████████████████| 200/200 [02:44<00:00,  1.22it/s]\n",
      "Epoch 0/3, Validation: 100%|██████████████████████████| 627/627 [04:06<00:00,  2.55it/s]\n",
      "Epoch 1/3, Validation:   0%|                                    | 0/627 [00:00<?, ?it/s]"
     ]
    },
    {
     "name": "stdout",
     "output_type": "stream",
     "text": [
      "train loss: 0.55086, test loss: 0.57860\n"
     ]
    },
    {
     "name": "stderr",
     "output_type": "stream",
     "text": [
      "Epoch 1/3, Training: 100%|████████████████████████████| 200/200 [02:44<00:00,  1.21it/s]\n",
      "Epoch 1/3, Validation: 100%|██████████████████████████| 627/627 [04:06<00:00,  2.55it/s]\n",
      "Epoch 2/3, Validation:   0%|                                    | 0/627 [00:00<?, ?it/s]"
     ]
    },
    {
     "name": "stdout",
     "output_type": "stream",
     "text": [
      "train loss: 0.50788, test loss: 0.57910\n"
     ]
    },
    {
     "name": "stderr",
     "output_type": "stream",
     "text": [
      "Epoch 2/3, Training: 100%|████████████████████████████| 200/200 [02:44<00:00,  1.22it/s]\n",
      "Epoch 2/3, Validation: 100%|██████████████████████████| 627/627 [04:05<00:00,  2.56it/s]\n",
      "Epoch 0/3, Validation:   0%|                                    | 0/627 [00:00<?, ?it/s]"
     ]
    },
    {
     "name": "stdout",
     "output_type": "stream",
     "text": [
      "train loss: 0.49832, test loss: 0.57083\n"
     ]
    },
    {
     "name": "stderr",
     "output_type": "stream",
     "text": [
      "Epoch 0/3, Training: 100%|████████████████████████████| 200/200 [02:54<00:00,  1.15it/s]\n",
      "Epoch 0/3, Validation: 100%|██████████████████████████| 627/627 [04:41<00:00,  2.23it/s]\n",
      "Epoch 1/3, Validation:   0%|                                    | 0/627 [00:00<?, ?it/s]"
     ]
    },
    {
     "name": "stdout",
     "output_type": "stream",
     "text": [
      "train loss: 0.55269, test loss: 0.58592\n"
     ]
    },
    {
     "name": "stderr",
     "output_type": "stream",
     "text": [
      "Epoch 1/3, Training: 100%|████████████████████████████| 200/200 [03:41<00:00,  1.11s/it]\n",
      "Epoch 1/3, Validation: 100%|██████████████████████████| 627/627 [05:27<00:00,  1.91it/s]\n",
      "Epoch 2/3, Validation:   0%|                                    | 0/627 [00:00<?, ?it/s]"
     ]
    },
    {
     "name": "stdout",
     "output_type": "stream",
     "text": [
      "train loss: 0.50917, test loss: 0.55248\n"
     ]
    },
    {
     "name": "stderr",
     "output_type": "stream",
     "text": [
      "Epoch 2/3, Training: 100%|████████████████████████████| 200/200 [03:45<00:00,  1.13s/it]\n",
      "Epoch 2/3, Validation: 100%|██████████████████████████| 627/627 [05:32<00:00,  1.89it/s]"
     ]
    },
    {
     "name": "stdout",
     "output_type": "stream",
     "text": [
      "train loss: 0.49878, test loss: 0.55000\n"
     ]
    },
    {
     "name": "stderr",
     "output_type": "stream",
     "text": [
      "\n"
     ]
    }
   ],
   "source": [
    "EMBEDDING_DIM = 20\n",
    "HIDDEN_DIM = 100\n",
    "TAGSET_SIZE = 2\n",
    "NUM_EPOCHS = 3\n",
    "model_list = []\n",
    "\n",
    "for model_idx in range(9):\n",
    "    \n",
    "    train_data = []\n",
    "    for link_idx in np.random.choice(200,size=200,replace=True):\n",
    "        train_data.append(link_dataset[link_idx])\n",
    "    \n",
    "    model = LSTMTagger(EMBEDDING_DIM, HIDDEN_DIM, TAGSET_SIZE)\n",
    "    model.cuda()\n",
    "    loss_function = nn.NLLLoss().cuda()\n",
    "    optimizer = optim.Adam(model.parameters(), 0.001)\n",
    "\n",
    "    model.train()\n",
    "    for epoch_idx in range(NUM_EPOCHS):  \n",
    "\n",
    "        progress_training_epoch = tqdm(\n",
    "            train_data, \n",
    "            desc=f'Epoch {epoch_idx}/{NUM_EPOCHS}, Training',\n",
    "            miniters=1, ncols=88, position=0,\n",
    "            leave=True, total=len(train_data), smoothing=.9)\n",
    "\n",
    "        progress_validation_epoch = tqdm(\n",
    "            test_data, \n",
    "            desc=f'Epoch {epoch_idx}/{NUM_EPOCHS}, Validation',\n",
    "            miniters=1, ncols=88, position=0, \n",
    "            leave=True, total=len(test_data), smoothing=.9)\n",
    "\n",
    "        train_loss = 0\n",
    "        train_size = 0\n",
    "        model.train()\n",
    "        for idx, (sentence, tags) in enumerate(progress_training_epoch):\n",
    "            sentence = sentence.cuda()\n",
    "            tags = tags.cuda()\n",
    "            model.zero_grad()\n",
    "            tag_scores = model(sentence)\n",
    "            loss = loss_function(tag_scores, tags)\n",
    "            loss.backward()\n",
    "            optimizer.step()\n",
    "            train_loss += loss * tags.size()[0]\n",
    "            train_size += tags.size()[0]\n",
    "\n",
    "        test_loss = 0\n",
    "        test_size = 0\n",
    "        model.eval()\n",
    "        with torch.no_grad():\n",
    "            for idx, (sentence, tags) in enumerate(progress_validation_epoch):\n",
    "                sentence = sentence.cuda()\n",
    "                tags = tags.cuda()\n",
    "                tag_scores = model(sentence)\n",
    "                loss = loss_function(tag_scores, tags) \n",
    "                test_loss += loss * tags.size()[0]\n",
    "                test_size += tags.size()[0]\n",
    "\n",
    "        print(f'train loss:{train_loss.item()/train_size: .5f}, '\n",
    "              f'test loss:{test_loss.item()/test_size: .5f}')\n",
    "        \n",
    "    model_list.append(model)"
   ]
  },
  {
   "cell_type": "markdown",
   "metadata": {},
   "source": [
    "# Test"
   ]
  },
  {
   "cell_type": "code",
   "execution_count": 9,
   "metadata": {},
   "outputs": [
    {
     "name": "stderr",
     "output_type": "stream",
     "text": [
      "Epoch 2/3, Validation: 100%|██████████████████████████| 627/627 [02:37<00:00,  3.97it/s]\n",
      "Epoch 2/3, Validation: 100%|██████████████████████████| 627/627 [02:57<00:00,  3.52it/s]\n",
      "Epoch 2/3, Validation: 100%|██████████████████████████| 627/627 [02:58<00:00,  3.52it/s]\n",
      "Epoch 2/3, Validation: 100%|██████████████████████████| 627/627 [02:57<00:00,  3.52it/s]\n",
      "Epoch 2/3, Validation: 100%|██████████████████████████| 627/627 [02:57<00:00,  3.53it/s]\n",
      "Epoch 2/3, Validation: 100%|██████████████████████████| 627/627 [02:57<00:00,  3.52it/s]\n",
      "Epoch 2/3, Validation: 100%|██████████████████████████| 627/627 [02:55<00:00,  3.57it/s]\n",
      "Epoch 2/3, Validation: 100%|██████████████████████████| 627/627 [02:21<00:00,  4.43it/s]\n",
      "Epoch 2/3, Validation: 100%|██████████████████████████| 627/627 [02:21<00:00,  4.42it/s]\n"
     ]
    },
    {
     "name": "stdout",
     "output_type": "stream",
     "text": [
      "True Positive:2495048, True Negative:312782, False Positive:1010700, False Negative:71320\n"
     ]
    }
   ],
   "source": [
    "predict_agg = []\n",
    "target_agg = []\n",
    "\n",
    "for model in model_list:\n",
    "    \n",
    "    progress_validation_epoch = tqdm(\n",
    "        test_data, \n",
    "        desc=f'Epoch {epoch_idx}/{NUM_EPOCHS}, Validation',\n",
    "        miniters=1, ncols=88, position=0, \n",
    "        leave=True, total=len(test_data), smoothing=.9)\n",
    "    \n",
    "    predict = []\n",
    "    target = []\n",
    "    model.eval()\n",
    "    with torch.no_grad():\n",
    "        for idx, (sentence, tags) in enumerate(progress_validation_epoch):\n",
    "            sentence = sentence.cuda()\n",
    "            tags = tags.cuda()\n",
    "            tag_scores = model(sentence)\n",
    "            predict.append(tag_scores.argmax(dim=1).cpu().numpy())\n",
    "            target.append(tags.cpu().numpy())        \n",
    "    predict = np.concatenate(predict, axis=0)\n",
    "    target = np.concatenate(target, axis=0)\n",
    "    \n",
    "    predict_agg.append(predict)\n",
    "    target_agg.append(target)\n",
    "    \n",
    "predict = (np.array(predict_agg).sum(axis=0) > 4.5)\n",
    "target = target_agg[0]\n",
    "tp = predict[target==1].sum()\n",
    "tn = (target==0).sum() - predict[target==0].sum()\n",
    "fp = predict[target==0].sum()\n",
    "fn = (target==1).sum() - predict[target==1].sum()\n",
    "\n",
    "tp = predict[target==1].sum()\n",
    "tn = (target==0).sum() - predict[target==0].sum()\n",
    "fp = predict[target==0].sum()\n",
    "fn = (target==1).sum() - predict[target==1].sum()\n",
    "\n",
    "print(f'True Positive:{tp}, '\n",
    "      f'True Negative:{tn}, '\n",
    "      f'False Positive:{fp}, '\n",
    "      f'False Negative:{fn}')\n"
   ]
  },
  {
   "cell_type": "code",
   "execution_count": 10,
   "metadata": {},
   "outputs": [
    {
     "name": "stdout",
     "output_type": "stream",
     "text": [
      "Accuracy:0.7218350321991851, Positive Accuracy:0.7117020390512951, Negative Accuracy:0.814320154542283, Weighted Accuracy:0.7630110967967891\n"
     ]
    }
   ],
   "source": [
    "accr = (tp+tn)/(tp+tn+fp+fn)\n",
    "posaccr = tp/(tp+fp)\n",
    "negaccr = tn/(tn+fn)\n",
    "print(f'Accuracy:{accr}, '\n",
    "      f'Positive Accuracy:{posaccr}, '\n",
    "      f'Negative Accuracy:{negaccr}, '\n",
    "      f'Weighted Accuracy:{0.5*(posaccr+negaccr)}')"
   ]
  },
  {
   "cell_type": "code",
   "execution_count": null,
   "metadata": {},
   "outputs": [],
   "source": []
  }
 ],
 "metadata": {
  "kernelspec": {
   "display_name": "Python 3",
   "language": "python",
   "name": "python3"
  },
  "language_info": {
   "codemirror_mode": {
    "name": "ipython",
    "version": 3
   },
   "file_extension": ".py",
   "mimetype": "text/x-python",
   "name": "python",
   "nbconvert_exporter": "python",
   "pygments_lexer": "ipython3",
   "version": "3.7.4"
  }
 },
 "nbformat": 4,
 "nbformat_minor": 2
}
