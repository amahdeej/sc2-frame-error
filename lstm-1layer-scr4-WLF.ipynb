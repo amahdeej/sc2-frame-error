{
 "cells": [
  {
   "cell_type": "markdown",
   "metadata": {},
   "source": [
    "# Libraries"
   ]
  },
  {
   "cell_type": "code",
   "execution_count": 1,
   "metadata": {},
   "outputs": [],
   "source": [
    "import sqlite3\n",
    "import numpy as np\n",
    "from collections import OrderedDict, namedtuple\n",
    "from distutils.spawn import find_executable\n",
    "import matplotlib.pyplot as plt\n",
    "\n",
    "import sys\n",
    "import subprocess\n",
    "import pathlib\n",
    "import tempfile\n",
    "import importlib\n",
    "import os\n",
    "import time\n",
    "import random\n",
    "import pickle\n",
    "\n",
    "import math\n",
    "\n",
    "from configparser import ConfigParser\n",
    "\n",
    "# from google.protobuf.json_format import MessageToDict"
   ]
  },
  {
   "cell_type": "code",
   "execution_count": 2,
   "metadata": {},
   "outputs": [],
   "source": [
    "# DEVICE = 0\n",
    "\n",
    "import os\n",
    "import time\n",
    "import pickle\n",
    "import numpy as np\n",
    "from tqdm import tqdm\n",
    "import matplotlib.pyplot as plt\n",
    "import seaborn as sn\n",
    "import pandas as pd\n",
    "\n",
    "import torch\n",
    "torch.backends.cudnn.benchmark = True\n",
    "import torch.optim as optim\n",
    "import torch.nn as nn\n",
    "import torch.nn.functional as F\n",
    "from torch.autograd import Variable\n",
    "from torch.utils import data\n",
    "\n",
    "# torch.cuda.set_device(DEVICE)\n",
    "torch.cuda.empty_cache() \n",
    "torch.backends.cudnn.benchmark=True"
   ]
  },
  {
   "cell_type": "code",
   "execution_count": 3,
   "metadata": {},
   "outputs": [],
   "source": [
    "np.random.seed(0)\n",
    "torch.manual_seed(0)\n",
    "\n",
    "import os\n",
    "os.environ['CUDA_VISIBLE_DEVICES']='0'"
   ]
  },
  {
   "cell_type": "markdown",
   "metadata": {},
   "source": [
    "# load the dataset"
   ]
  },
  {
   "cell_type": "code",
   "execution_count": 4,
   "metadata": {},
   "outputs": [],
   "source": [
    "with open('scrimmage4_link_dataset.pickle', 'rb') as file:\n",
    "    link_dataset = pickle.load(file)"
   ]
  },
  {
   "cell_type": "code",
   "execution_count": 5,
   "metadata": {},
   "outputs": [],
   "source": [
    "train_data = link_dataset[:200] \n",
    "test_data = link_dataset[200:]"
   ]
  },
  {
   "cell_type": "code",
   "execution_count": 6,
   "metadata": {},
   "outputs": [],
   "source": [
    "class LSTMTagger(nn.Module):\n",
    "\n",
    "    def __init__(self, embedding_dim, hidden_dim, tagset_size):\n",
    "        super(LSTMTagger, self).__init__()\n",
    "        self.hidden_dim = hidden_dim\n",
    "\n",
    "        # The LSTM takes word embeddings as inputs, and outputs hidden states\n",
    "        # with dimensionality hidden_dim.\n",
    "        self.lstm = nn.LSTM(embedding_dim, hidden_dim)\n",
    "\n",
    "        # The linear layer that maps from hidden state space to tag space\n",
    "        self.hidden2tag = nn.Linear(hidden_dim, tagset_size)\n",
    "\n",
    "    def forward(self, sentence):\n",
    "        lstm_out, _ = self.lstm(sentence.view(len(sentence), 1, -1))\n",
    "        tag_space = self.hidden2tag(lstm_out.view(len(sentence), -1))\n",
    "        tag_scores = F.log_softmax(tag_space, dim=1)\n",
    "        return tag_scores"
   ]
  },
  {
   "cell_type": "markdown",
   "metadata": {},
   "source": [
    "# Train Model 10 Epoch"
   ]
  },
  {
   "cell_type": "code",
   "execution_count": null,
   "metadata": {
    "scrolled": false
   },
   "outputs": [
    {
     "name": "stderr",
     "output_type": "stream",
     "text": [
      "Epoch 0/10, Training: 100%|███████████████████████████| 200/200 [04:08<00:00,  1.24s/it]\n",
      "Epoch 0/10, Validation: 100%|███████████████████████████| 84/84 [05:01<00:00,  3.59s/it]\n",
      "Epoch 1/10, Validation:   0%|                                    | 0/84 [00:00<?, ?it/s]"
     ]
    },
    {
     "name": "stdout",
     "output_type": "stream",
     "text": [
      "train loss: 0.61354, test loss: 0.64159\n"
     ]
    },
    {
     "name": "stderr",
     "output_type": "stream",
     "text": [
      "Epoch 1/10, Training: 100%|███████████████████████████| 200/200 [04:18<00:00,  1.29s/it]\n",
      "Epoch 1/10, Validation: 100%|███████████████████████████| 84/84 [05:11<00:00,  3.71s/it]\n",
      "Epoch 2/10, Validation:   0%|                                    | 0/84 [00:00<?, ?it/s]"
     ]
    },
    {
     "name": "stdout",
     "output_type": "stream",
     "text": [
      "train loss: 0.58971, test loss: 0.61626\n"
     ]
    },
    {
     "name": "stderr",
     "output_type": "stream",
     "text": [
      "Epoch 2/10, Training: 100%|███████████████████████████| 200/200 [04:17<00:00,  1.29s/it]\n",
      "Epoch 2/10, Validation: 100%|███████████████████████████| 84/84 [05:11<00:00,  3.70s/it]\n",
      "Epoch 3/10, Validation:   0%|                                    | 0/84 [00:00<?, ?it/s]"
     ]
    },
    {
     "name": "stdout",
     "output_type": "stream",
     "text": [
      "train loss: 0.57617, test loss: 0.61224\n"
     ]
    },
    {
     "name": "stderr",
     "output_type": "stream",
     "text": [
      "Epoch 3/10, Training: 100%|███████████████████████████| 200/200 [04:17<00:00,  1.29s/it]\n",
      "Epoch 3/10, Validation: 100%|███████████████████████████| 84/84 [05:11<00:00,  3.71s/it]\n",
      "Epoch 4/10, Validation:   0%|                                    | 0/84 [00:00<?, ?it/s]"
     ]
    },
    {
     "name": "stdout",
     "output_type": "stream",
     "text": [
      "train loss: 0.57179, test loss: 0.61025\n"
     ]
    },
    {
     "name": "stderr",
     "output_type": "stream",
     "text": [
      "Epoch 4/10, Training: 100%|███████████████████████████| 200/200 [04:18<00:00,  1.29s/it]\n",
      "Epoch 4/10, Validation: 100%|███████████████████████████| 84/84 [05:12<00:00,  3.72s/it]\n",
      "Epoch 5/10, Validation:   0%|                                    | 0/84 [00:00<?, ?it/s]"
     ]
    },
    {
     "name": "stdout",
     "output_type": "stream",
     "text": [
      "train loss: 0.56893, test loss: 0.60987\n"
     ]
    },
    {
     "name": "stderr",
     "output_type": "stream",
     "text": [
      "Epoch 5/10, Training: 100%|███████████████████████████| 200/200 [04:18<00:00,  1.29s/it]\n",
      "Epoch 5/10, Validation: 100%|███████████████████████████| 84/84 [05:12<00:00,  3.71s/it]\n",
      "Epoch 6/10, Validation:   0%|                                    | 0/84 [00:00<?, ?it/s]"
     ]
    },
    {
     "name": "stdout",
     "output_type": "stream",
     "text": [
      "train loss: 0.56591, test loss: 0.61633\n"
     ]
    },
    {
     "name": "stderr",
     "output_type": "stream",
     "text": [
      "Epoch 6/10, Training: 100%|███████████████████████████| 200/200 [04:19<00:00,  1.30s/it]\n",
      "Epoch 6/10, Validation: 100%|███████████████████████████| 84/84 [05:13<00:00,  3.73s/it]\n",
      "Epoch 7/10, Validation:   0%|                                    | 0/84 [00:00<?, ?it/s]"
     ]
    },
    {
     "name": "stdout",
     "output_type": "stream",
     "text": [
      "train loss: 0.56256, test loss: 0.61212\n"
     ]
    },
    {
     "name": "stderr",
     "output_type": "stream",
     "text": [
      "Epoch 7/10, Training: 100%|███████████████████████████| 200/200 [04:19<00:00,  1.30s/it]\n",
      "Epoch 7/10, Validation: 100%|███████████████████████████| 84/84 [05:13<00:00,  3.74s/it]\n",
      "Epoch 8/10, Validation:   0%|                                    | 0/84 [00:00<?, ?it/s]"
     ]
    },
    {
     "name": "stdout",
     "output_type": "stream",
     "text": [
      "train loss: 0.55683, test loss: 0.61592\n"
     ]
    },
    {
     "name": "stderr",
     "output_type": "stream",
     "text": [
      "Epoch 8/10, Training:  53%|██████████████▎            | 106/200 [02:16<01:08,  1.38it/s]"
     ]
    }
   ],
   "source": [
    "EMBEDDING_DIM = 20\n",
    "HIDDEN_DIM = 100\n",
    "TAGSET_SIZE = 2\n",
    "NUM_EPOCHS = 10\n",
    "\n",
    "model = LSTMTagger(EMBEDDING_DIM, HIDDEN_DIM, TAGSET_SIZE).cuda()\n",
    "model.cuda()\n",
    "\n",
    "loss_function = nn.NLLLoss(weight=torch.tensor([2.0,1.0])).cuda()\n",
    "optimizer = optim.Adam(model.parameters(), 0.001)\n",
    "\n",
    "for epoch_idx in range(NUM_EPOCHS): \n",
    "\n",
    "    progress_training_epoch = tqdm(\n",
    "        train_data, \n",
    "        desc=f'Epoch {epoch_idx}/{NUM_EPOCHS}, Training',\n",
    "        miniters=1, ncols=88, position=0,\n",
    "        leave=True, total=len(train_data), smoothing=.9)\n",
    "\n",
    "    progress_validation_epoch = tqdm(\n",
    "        test_data, \n",
    "        desc=f'Epoch {epoch_idx}/{NUM_EPOCHS}, Validation',\n",
    "        miniters=1, ncols=88, position=0, \n",
    "        leave=True, total=len(test_data), smoothing=.9)\n",
    "\n",
    "    train_loss = 0\n",
    "    train_size = 0\n",
    "    model.train()\n",
    "    for idx, (sentence, tags) in enumerate(progress_training_epoch):\n",
    "        sentence = sentence.cuda()\n",
    "        tags = tags.cuda()\n",
    "        model.zero_grad()\n",
    "        tag_scores = model(sentence)\n",
    "        loss = loss_function(tag_scores, tags)\n",
    "        loss.backward()\n",
    "        optimizer.step()\n",
    "        train_loss += loss * tags.size()[0]\n",
    "        train_size += tags.size()[0]\n",
    "\n",
    "    test_loss = 0\n",
    "    test_size = 0\n",
    "    predict = []\n",
    "    target = []\n",
    "    model.eval()\n",
    "    with torch.no_grad():\n",
    "        for idx, (sentence, tags) in enumerate(progress_validation_epoch):\n",
    "            sentence = sentence.cuda()\n",
    "            tags = tags.cuda()\n",
    "            tag_scores = model(sentence)\n",
    "            loss = loss_function(tag_scores, tags)\n",
    "            predict.append(tag_scores.argmax(dim=1).cpu().numpy())\n",
    "            target.append(tags.cpu().numpy())        \n",
    "            test_loss += loss * tags.size()[0]\n",
    "            test_size += tags.size()[0]\n",
    "    predict = np.concatenate(predict, axis=0)\n",
    "    target = np.concatenate(target, axis=0)\n",
    "\n",
    "    print(f'train loss:{train_loss.item()/train_size: .5f}, '\n",
    "          f'test loss:{test_loss.item()/test_size: .5f}')"
   ]
  },
  {
   "cell_type": "markdown",
   "metadata": {},
   "source": [
    "# Test"
   ]
  },
  {
   "cell_type": "code",
   "execution_count": null,
   "metadata": {},
   "outputs": [],
   "source": [
    "progress_validation_epoch = tqdm(\n",
    "    test_data, \n",
    "    desc=f'Epoch {epoch_idx}/{NUM_EPOCHS}, Validation',\n",
    "    miniters=1, ncols=88, position=0, \n",
    "    leave=True, total=len(test_data), smoothing=.9)\n",
    "\n",
    "predict = []\n",
    "target = []\n",
    "model.eval()\n",
    "with torch.no_grad():\n",
    "    for idx, (sentence, tags) in enumerate(progress_validation_epoch):\n",
    "        sentence = sentence.cuda()\n",
    "        tags = tags.cuda()\n",
    "        tag_scores = model(sentence)\n",
    "        predict.append(tag_scores.argmax(dim=1).cpu().numpy())\n",
    "        target.append(tags.cpu().numpy())        \n",
    "predict = np.concatenate(predict, axis=0)\n",
    "target = np.concatenate(target, axis=0)\n",
    "tp = predict[target==1].sum()\n",
    "tn = (target==0).sum() - predict[target==0].sum()\n",
    "fp = predict[target==0].sum()\n",
    "fn = (target==1).sum() - predict[target==1].sum()\n",
    "\n",
    "print(f'True Positive:{tp}, '\n",
    "      f'True Negative:{tn}, '\n",
    "      f'False Positive:{fp}, '\n",
    "      f'False Negative:{fn}')\n"
   ]
  },
  {
   "cell_type": "code",
   "execution_count": null,
   "metadata": {},
   "outputs": [],
   "source": [
    "accr = (tp+tn)/(tp+tn+fp+fn)\n",
    "posaccr = tp/(tp+fp)\n",
    "negaccr = tn/(tn+fn)\n",
    "print(f'Accuracy:{accr}, '\n",
    "      f'Positive Accuracy:{posaccr}, '\n",
    "      f'Negative Accuracy:{negaccr}, '\n",
    "      f'Weighted Accuracy:{0.5*(posaccr+negaccr)}')"
   ]
  },
  {
   "cell_type": "markdown",
   "metadata": {},
   "source": [
    "# Bagging 9"
   ]
  },
  {
   "cell_type": "code",
   "execution_count": 7,
   "metadata": {},
   "outputs": [],
   "source": [
    "with open('scrimmage4_link_dataset.pickle', 'rb') as file:\n",
    "    link_dataset = pickle.load(file)"
   ]
  },
  {
   "cell_type": "code",
   "execution_count": 8,
   "metadata": {
    "scrolled": false
   },
   "outputs": [
    {
     "name": "stderr",
     "output_type": "stream",
     "text": [
      "Epoch 0/6, Training: 100%|████████████████████████████| 200/200 [02:40<00:00,  1.25it/s]\n",
      "Epoch 0/6, Validation: 100%|████████████████████████████| 84/84 [03:16<00:00,  2.34s/it]\n",
      "Epoch 1/6, Validation:   0%|                                     | 0/84 [00:00<?, ?it/s]"
     ]
    },
    {
     "name": "stdout",
     "output_type": "stream",
     "text": [
      "train loss: 0.59789, test loss: 0.61102\n"
     ]
    },
    {
     "name": "stderr",
     "output_type": "stream",
     "text": [
      "Epoch 1/6, Training: 100%|████████████████████████████| 200/200 [02:57<00:00,  1.13it/s]\n",
      "Epoch 1/6, Validation: 100%|████████████████████████████| 84/84 [03:33<00:00,  2.54s/it]\n",
      "Epoch 2/6, Validation:   0%|                                     | 0/84 [00:00<?, ?it/s]"
     ]
    },
    {
     "name": "stdout",
     "output_type": "stream",
     "text": [
      "train loss: 0.56285, test loss: 0.60935\n"
     ]
    },
    {
     "name": "stderr",
     "output_type": "stream",
     "text": [
      "Epoch 2/6, Training: 100%|████████████████████████████| 200/200 [02:57<00:00,  1.13it/s]\n",
      "Epoch 2/6, Validation: 100%|████████████████████████████| 84/84 [03:33<00:00,  2.54s/it]\n",
      "Epoch 3/6, Validation:   0%|                                     | 0/84 [00:00<?, ?it/s]"
     ]
    },
    {
     "name": "stdout",
     "output_type": "stream",
     "text": [
      "train loss: 0.55255, test loss: 0.60922\n"
     ]
    },
    {
     "name": "stderr",
     "output_type": "stream",
     "text": [
      "Epoch 3/6, Training: 100%|████████████████████████████| 200/200 [02:57<00:00,  1.13it/s]\n",
      "Epoch 3/6, Validation: 100%|████████████████████████████| 84/84 [03:33<00:00,  2.54s/it]\n",
      "Epoch 4/6, Validation:   0%|                                     | 0/84 [00:00<?, ?it/s]"
     ]
    },
    {
     "name": "stdout",
     "output_type": "stream",
     "text": [
      "train loss: 0.54234, test loss: 0.61057\n"
     ]
    },
    {
     "name": "stderr",
     "output_type": "stream",
     "text": [
      "Epoch 4/6, Training: 100%|████████████████████████████| 200/200 [02:58<00:00,  1.12it/s]\n",
      "Epoch 4/6, Validation: 100%|████████████████████████████| 84/84 [03:33<00:00,  2.55s/it]\n",
      "Epoch 5/6, Validation:   0%|                                     | 0/84 [00:00<?, ?it/s]"
     ]
    },
    {
     "name": "stdout",
     "output_type": "stream",
     "text": [
      "train loss: 0.53509, test loss: 0.60792\n"
     ]
    },
    {
     "name": "stderr",
     "output_type": "stream",
     "text": [
      "Epoch 5/6, Training: 100%|████████████████████████████| 200/200 [02:58<00:00,  1.12it/s]\n",
      "Epoch 5/6, Validation: 100%|████████████████████████████| 84/84 [03:34<00:00,  2.55s/it]\n",
      "Epoch 0/6, Validation:   0%|                                     | 0/84 [00:00<?, ?it/s]"
     ]
    },
    {
     "name": "stdout",
     "output_type": "stream",
     "text": [
      "train loss: 0.52799, test loss: 0.62136\n"
     ]
    },
    {
     "name": "stderr",
     "output_type": "stream",
     "text": [
      "Epoch 0/6, Training: 100%|████████████████████████████| 200/200 [02:55<00:00,  1.14it/s]\n",
      "Epoch 0/6, Validation: 100%|████████████████████████████| 84/84 [03:31<00:00,  2.52s/it]\n",
      "Epoch 1/6, Validation:   0%|                                     | 0/84 [00:00<?, ?it/s]"
     ]
    },
    {
     "name": "stdout",
     "output_type": "stream",
     "text": [
      "train loss: 0.62883, test loss: 0.61644\n"
     ]
    },
    {
     "name": "stderr",
     "output_type": "stream",
     "text": [
      "Epoch 1/6, Training: 100%|████████████████████████████| 200/200 [02:55<00:00,  1.14it/s]\n",
      "Epoch 1/6, Validation: 100%|████████████████████████████| 84/84 [03:31<00:00,  2.52s/it]\n",
      "Epoch 2/6, Validation:   0%|                                     | 0/84 [00:00<?, ?it/s]"
     ]
    },
    {
     "name": "stdout",
     "output_type": "stream",
     "text": [
      "train loss: 0.58027, test loss: 0.62318\n"
     ]
    },
    {
     "name": "stderr",
     "output_type": "stream",
     "text": [
      "Epoch 2/6, Training: 100%|████████████████████████████| 200/200 [02:56<00:00,  1.14it/s]\n",
      "Epoch 2/6, Validation: 100%|████████████████████████████| 84/84 [03:31<00:00,  2.52s/it]\n",
      "Epoch 3/6, Validation:   0%|                                     | 0/84 [00:00<?, ?it/s]"
     ]
    },
    {
     "name": "stdout",
     "output_type": "stream",
     "text": [
      "train loss: 0.56970, test loss: 0.62519\n"
     ]
    },
    {
     "name": "stderr",
     "output_type": "stream",
     "text": [
      "Epoch 3/6, Training: 100%|████████████████████████████| 200/200 [02:55<00:00,  1.14it/s]\n",
      "Epoch 3/6, Validation: 100%|████████████████████████████| 84/84 [03:31<00:00,  2.52s/it]\n",
      "Epoch 4/6, Validation:   0%|                                     | 0/84 [00:00<?, ?it/s]"
     ]
    },
    {
     "name": "stdout",
     "output_type": "stream",
     "text": [
      "train loss: 0.56173, test loss: 0.61719\n"
     ]
    },
    {
     "name": "stderr",
     "output_type": "stream",
     "text": [
      "Epoch 4/6, Training: 100%|████████████████████████████| 200/200 [02:55<00:00,  1.14it/s]\n",
      "Epoch 4/6, Validation: 100%|████████████████████████████| 84/84 [03:31<00:00,  2.52s/it]\n",
      "Epoch 5/6, Validation:   0%|                                     | 0/84 [00:00<?, ?it/s]"
     ]
    },
    {
     "name": "stdout",
     "output_type": "stream",
     "text": [
      "train loss: 0.55277, test loss: 0.62051\n"
     ]
    },
    {
     "name": "stderr",
     "output_type": "stream",
     "text": [
      "Epoch 5/6, Training: 100%|████████████████████████████| 200/200 [02:56<00:00,  1.13it/s]\n",
      "Epoch 5/6, Validation: 100%|████████████████████████████| 84/84 [03:32<00:00,  2.53s/it]\n",
      "Epoch 0/6, Training:   0%|▏                             | 1/200 [00:00<00:37,  5.25it/s]"
     ]
    },
    {
     "name": "stdout",
     "output_type": "stream",
     "text": [
      "train loss: 0.55329, test loss: 0.61499\n"
     ]
    },
    {
     "name": "stderr",
     "output_type": "stream",
     "text": [
      "Epoch 0/6, Training: 100%|████████████████████████████| 200/200 [02:50<00:00,  1.18it/s]\n",
      "Epoch 0/6, Validation: 100%|████████████████████████████| 84/84 [03:25<00:00,  2.45s/it]\n",
      "Epoch 1/6, Training:   0%|▏                             | 1/200 [00:00<00:39,  5.01it/s]"
     ]
    },
    {
     "name": "stdout",
     "output_type": "stream",
     "text": [
      "train loss: 0.62978, test loss: 0.64414\n"
     ]
    },
    {
     "name": "stderr",
     "output_type": "stream",
     "text": [
      "Epoch 1/6, Training: 100%|████████████████████████████| 200/200 [02:50<00:00,  1.17it/s]\n",
      "Epoch 1/6, Validation: 100%|████████████████████████████| 84/84 [03:26<00:00,  2.46s/it]\n",
      "Epoch 2/6, Validation:   0%|                                     | 0/84 [00:00<?, ?it/s]"
     ]
    },
    {
     "name": "stdout",
     "output_type": "stream",
     "text": [
      "train loss: 0.59182, test loss: 0.63464\n"
     ]
    },
    {
     "name": "stderr",
     "output_type": "stream",
     "text": [
      "Epoch 2/6, Training: 100%|████████████████████████████| 200/200 [02:50<00:00,  1.17it/s]\n",
      "Epoch 2/6, Validation: 100%|████████████████████████████| 84/84 [03:26<00:00,  2.45s/it]\n",
      "Epoch 3/6, Validation:   0%|                                     | 0/84 [00:00<?, ?it/s]"
     ]
    },
    {
     "name": "stdout",
     "output_type": "stream",
     "text": [
      "train loss: 0.57629, test loss: 0.63320\n"
     ]
    },
    {
     "name": "stderr",
     "output_type": "stream",
     "text": [
      "Epoch 3/6, Training: 100%|████████████████████████████| 200/200 [02:50<00:00,  1.17it/s]\n",
      "Epoch 3/6, Validation: 100%|████████████████████████████| 84/84 [03:26<00:00,  2.46s/it]\n",
      "Epoch 4/6, Validation:   0%|                                     | 0/84 [00:00<?, ?it/s]"
     ]
    },
    {
     "name": "stdout",
     "output_type": "stream",
     "text": [
      "train loss: 0.57138, test loss: 0.63236\n"
     ]
    },
    {
     "name": "stderr",
     "output_type": "stream",
     "text": [
      "Epoch 4/6, Training: 100%|████████████████████████████| 200/200 [02:50<00:00,  1.17it/s]\n",
      "Epoch 4/6, Validation: 100%|████████████████████████████| 84/84 [03:26<00:00,  2.46s/it]\n",
      "Epoch 5/6, Training:   0%|▏                             | 1/200 [00:00<00:38,  5.10it/s]"
     ]
    },
    {
     "name": "stdout",
     "output_type": "stream",
     "text": [
      "train loss: 0.56344, test loss: 0.63519\n"
     ]
    },
    {
     "name": "stderr",
     "output_type": "stream",
     "text": [
      "Epoch 5/6, Training: 100%|████████████████████████████| 200/200 [02:51<00:00,  1.17it/s]\n",
      "Epoch 5/6, Validation: 100%|████████████████████████████| 84/84 [03:27<00:00,  2.47s/it]\n",
      "Epoch 0/6, Validation:   0%|                                     | 0/84 [00:00<?, ?it/s]"
     ]
    },
    {
     "name": "stdout",
     "output_type": "stream",
     "text": [
      "train loss: 0.55332, test loss: 0.63702\n"
     ]
    },
    {
     "name": "stderr",
     "output_type": "stream",
     "text": [
      "Epoch 0/6, Training: 100%|████████████████████████████| 200/200 [02:35<00:00,  1.28it/s]\n",
      "Epoch 0/6, Validation: 100%|████████████████████████████| 84/84 [03:11<00:00,  2.28s/it]\n",
      "Epoch 1/6, Validation:   0%|                                     | 0/84 [00:00<?, ?it/s]"
     ]
    },
    {
     "name": "stdout",
     "output_type": "stream",
     "text": [
      "train loss: 0.59909, test loss: 0.63013\n"
     ]
    },
    {
     "name": "stderr",
     "output_type": "stream",
     "text": [
      "Epoch 1/6, Training: 100%|████████████████████████████| 200/200 [02:36<00:00,  1.28it/s]\n",
      "Epoch 1/6, Validation: 100%|████████████████████████████| 84/84 [03:11<00:00,  2.29s/it]\n",
      "Epoch 2/6, Validation:   0%|                                     | 0/84 [00:00<?, ?it/s]"
     ]
    },
    {
     "name": "stdout",
     "output_type": "stream",
     "text": [
      "train loss: 0.56395, test loss: 0.63504\n"
     ]
    },
    {
     "name": "stderr",
     "output_type": "stream",
     "text": [
      "Epoch 2/6, Training: 100%|████████████████████████████| 200/200 [02:36<00:00,  1.28it/s]\n",
      "Epoch 2/6, Validation: 100%|████████████████████████████| 84/84 [03:11<00:00,  2.28s/it]\n",
      "Epoch 3/6, Validation:   0%|                                     | 0/84 [00:00<?, ?it/s]"
     ]
    },
    {
     "name": "stdout",
     "output_type": "stream",
     "text": [
      "train loss: 0.55616, test loss: 0.63077\n"
     ]
    },
    {
     "name": "stderr",
     "output_type": "stream",
     "text": [
      "Epoch 3/6, Training: 100%|████████████████████████████| 200/200 [02:36<00:00,  1.28it/s]\n",
      "Epoch 3/6, Validation: 100%|████████████████████████████| 84/84 [03:11<00:00,  2.28s/it]\n",
      "Epoch 4/6, Validation:   0%|                                     | 0/84 [00:00<?, ?it/s]"
     ]
    },
    {
     "name": "stdout",
     "output_type": "stream",
     "text": [
      "train loss: 0.54993, test loss: 0.63114\n"
     ]
    },
    {
     "name": "stderr",
     "output_type": "stream",
     "text": [
      "Epoch 4/6, Training: 100%|████████████████████████████| 200/200 [02:36<00:00,  1.28it/s]\n",
      "Epoch 4/6, Validation: 100%|████████████████████████████| 84/84 [03:12<00:00,  2.29s/it]\n",
      "Epoch 5/6, Validation:   0%|                                     | 0/84 [00:00<?, ?it/s]"
     ]
    },
    {
     "name": "stdout",
     "output_type": "stream",
     "text": [
      "train loss: 0.54122, test loss: 0.63949\n"
     ]
    },
    {
     "name": "stderr",
     "output_type": "stream",
     "text": [
      "Epoch 5/6, Training: 100%|████████████████████████████| 200/200 [02:36<00:00,  1.28it/s]\n",
      "Epoch 5/6, Validation: 100%|████████████████████████████| 84/84 [03:12<00:00,  2.29s/it]\n",
      "Epoch 0/6, Validation:   0%|                                     | 0/84 [00:00<?, ?it/s]"
     ]
    },
    {
     "name": "stdout",
     "output_type": "stream",
     "text": [
      "train loss: 0.53726, test loss: 0.64924\n"
     ]
    },
    {
     "name": "stderr",
     "output_type": "stream",
     "text": [
      "Epoch 0/6, Training: 100%|████████████████████████████| 200/200 [02:51<00:00,  1.16it/s]\n",
      "Epoch 0/6, Validation: 100%|████████████████████████████| 84/84 [03:27<00:00,  2.47s/it]\n",
      "Epoch 1/6, Validation:   0%|                                     | 0/84 [00:00<?, ?it/s]"
     ]
    },
    {
     "name": "stdout",
     "output_type": "stream",
     "text": [
      "train loss: 0.60195, test loss: 0.61047\n"
     ]
    },
    {
     "name": "stderr",
     "output_type": "stream",
     "text": [
      "Epoch 1/6, Training: 100%|████████████████████████████| 200/200 [02:51<00:00,  1.16it/s]\n",
      "Epoch 1/6, Validation: 100%|████████████████████████████| 84/84 [03:27<00:00,  2.47s/it]\n",
      "Epoch 2/6, Validation:   0%|                                     | 0/84 [00:00<?, ?it/s]"
     ]
    },
    {
     "name": "stdout",
     "output_type": "stream",
     "text": [
      "train loss: 0.56862, test loss: 0.61805\n"
     ]
    },
    {
     "name": "stderr",
     "output_type": "stream",
     "text": [
      "Epoch 2/6, Training: 100%|████████████████████████████| 200/200 [02:52<00:00,  1.16it/s]\n",
      "Epoch 2/6, Validation: 100%|████████████████████████████| 84/84 [03:28<00:00,  2.48s/it]\n",
      "Epoch 3/6, Validation:   0%|                                     | 0/84 [00:00<?, ?it/s]"
     ]
    },
    {
     "name": "stdout",
     "output_type": "stream",
     "text": [
      "train loss: 0.56453, test loss: 0.62983\n"
     ]
    },
    {
     "name": "stderr",
     "output_type": "stream",
     "text": [
      "Epoch 3/6, Training: 100%|████████████████████████████| 200/200 [02:52<00:00,  1.16it/s]\n",
      "Epoch 3/6, Validation: 100%|████████████████████████████| 84/84 [03:28<00:00,  2.48s/it]\n",
      "Epoch 4/6, Validation:   0%|                                     | 0/84 [00:00<?, ?it/s]"
     ]
    },
    {
     "name": "stdout",
     "output_type": "stream",
     "text": [
      "train loss: 0.55945, test loss: 0.64595\n"
     ]
    },
    {
     "name": "stderr",
     "output_type": "stream",
     "text": [
      "Epoch 4/6, Training: 100%|████████████████████████████| 200/200 [02:52<00:00,  1.16it/s]\n",
      "Epoch 4/6, Validation: 100%|████████████████████████████| 84/84 [03:28<00:00,  2.48s/it]\n",
      "Epoch 5/6, Validation:   0%|                                     | 0/84 [00:00<?, ?it/s]"
     ]
    },
    {
     "name": "stdout",
     "output_type": "stream",
     "text": [
      "train loss: 0.55111, test loss: 0.68133\n"
     ]
    },
    {
     "name": "stderr",
     "output_type": "stream",
     "text": [
      "Epoch 5/6, Training: 100%|████████████████████████████| 200/200 [02:52<00:00,  1.16it/s]\n",
      "Epoch 5/6, Validation: 100%|████████████████████████████| 84/84 [03:28<00:00,  2.49s/it]\n",
      "Epoch 0/6, Validation:   0%|                                     | 0/84 [00:00<?, ?it/s]"
     ]
    },
    {
     "name": "stdout",
     "output_type": "stream",
     "text": [
      "train loss: 0.54284, test loss: 0.67730\n"
     ]
    },
    {
     "name": "stderr",
     "output_type": "stream",
     "text": [
      "Epoch 0/6, Training: 100%|████████████████████████████| 200/200 [03:00<00:00,  1.11it/s]\n",
      "Epoch 0/6, Validation: 100%|████████████████████████████| 84/84 [03:36<00:00,  2.57s/it]\n",
      "Epoch 1/6, Validation:   0%|                                     | 0/84 [00:00<?, ?it/s]"
     ]
    },
    {
     "name": "stdout",
     "output_type": "stream",
     "text": [
      "train loss: 0.59951, test loss: 0.62444\n"
     ]
    },
    {
     "name": "stderr",
     "output_type": "stream",
     "text": [
      "Epoch 1/6, Training: 100%|████████████████████████████| 200/200 [03:00<00:00,  1.11it/s]\n",
      "Epoch 1/6, Validation: 100%|████████████████████████████| 84/84 [03:36<00:00,  2.58s/it]\n",
      "Epoch 2/6, Validation:   0%|                                     | 0/84 [00:00<?, ?it/s]"
     ]
    },
    {
     "name": "stdout",
     "output_type": "stream",
     "text": [
      "train loss: 0.56468, test loss: 0.62525\n"
     ]
    },
    {
     "name": "stderr",
     "output_type": "stream",
     "text": [
      "Epoch 2/6, Training: 100%|████████████████████████████| 200/200 [03:00<00:00,  1.11it/s]\n",
      "Epoch 2/6, Validation: 100%|████████████████████████████| 84/84 [03:36<00:00,  2.58s/it]\n",
      "Epoch 3/6, Validation:   0%|                                     | 0/84 [00:00<?, ?it/s]"
     ]
    },
    {
     "name": "stdout",
     "output_type": "stream",
     "text": [
      "train loss: 0.55620, test loss: 0.62649\n"
     ]
    },
    {
     "name": "stderr",
     "output_type": "stream",
     "text": [
      "Epoch 3/6, Training: 100%|████████████████████████████| 200/200 [03:00<00:00,  1.11it/s]\n",
      "Epoch 3/6, Validation: 100%|████████████████████████████| 84/84 [03:36<00:00,  2.58s/it]\n",
      "Epoch 4/6, Validation:   0%|                                     | 0/84 [00:00<?, ?it/s]"
     ]
    },
    {
     "name": "stdout",
     "output_type": "stream",
     "text": [
      "train loss: 0.54864, test loss: 0.62749\n"
     ]
    },
    {
     "name": "stderr",
     "output_type": "stream",
     "text": [
      "Epoch 4/6, Training: 100%|████████████████████████████| 200/200 [03:01<00:00,  1.10it/s]\n",
      "Epoch 4/6, Validation: 100%|████████████████████████████| 84/84 [03:36<00:00,  2.58s/it]\n",
      "Epoch 5/6, Validation:   0%|                                     | 0/84 [00:00<?, ?it/s]"
     ]
    },
    {
     "name": "stdout",
     "output_type": "stream",
     "text": [
      "train loss: 0.53582, test loss: 0.63592\n"
     ]
    },
    {
     "name": "stderr",
     "output_type": "stream",
     "text": [
      "Epoch 5/6, Training: 100%|████████████████████████████| 200/200 [03:01<00:00,  1.10it/s]\n",
      "Epoch 5/6, Validation: 100%|████████████████████████████| 84/84 [03:37<00:00,  2.59s/it]\n",
      "Epoch 0/6, Validation:   0%|                                     | 0/84 [00:00<?, ?it/s]"
     ]
    },
    {
     "name": "stdout",
     "output_type": "stream",
     "text": [
      "train loss: 0.52650, test loss: 0.62954\n"
     ]
    },
    {
     "name": "stderr",
     "output_type": "stream",
     "text": [
      "Epoch 0/6, Training: 100%|████████████████████████████| 200/200 [02:41<00:00,  1.24it/s]\n",
      "Epoch 0/6, Validation: 100%|████████████████████████████| 84/84 [03:16<00:00,  2.34s/it]\n",
      "Epoch 1/6, Validation:   0%|                                     | 0/84 [00:00<?, ?it/s]"
     ]
    },
    {
     "name": "stdout",
     "output_type": "stream",
     "text": [
      "train loss: 0.62702, test loss: 0.61351\n"
     ]
    },
    {
     "name": "stderr",
     "output_type": "stream",
     "text": [
      "Epoch 1/6, Training: 100%|████████████████████████████| 200/200 [02:41<00:00,  1.24it/s]\n",
      "Epoch 1/6, Validation: 100%|████████████████████████████| 84/84 [03:16<00:00,  2.34s/it]\n",
      "Epoch 2/6, Validation:   0%|                                     | 0/84 [00:00<?, ?it/s]"
     ]
    },
    {
     "name": "stdout",
     "output_type": "stream",
     "text": [
      "train loss: 0.57365, test loss: 0.60978\n"
     ]
    },
    {
     "name": "stderr",
     "output_type": "stream",
     "text": [
      "Epoch 2/6, Training: 100%|████████████████████████████| 200/200 [02:41<00:00,  1.24it/s]\n",
      "Epoch 2/6, Validation: 100%|████████████████████████████| 84/84 [03:16<00:00,  2.34s/it]\n",
      "Epoch 3/6, Validation:   0%|                                     | 0/84 [00:00<?, ?it/s]"
     ]
    },
    {
     "name": "stdout",
     "output_type": "stream",
     "text": [
      "train loss: 0.56257, test loss: 0.61551\n"
     ]
    },
    {
     "name": "stderr",
     "output_type": "stream",
     "text": [
      "Epoch 3/6, Training: 100%|████████████████████████████| 200/200 [02:41<00:00,  1.24it/s]\n",
      "Epoch 3/6, Validation: 100%|████████████████████████████| 84/84 [03:17<00:00,  2.35s/it]\n",
      "Epoch 4/6, Validation:   0%|                                     | 0/84 [00:00<?, ?it/s]"
     ]
    },
    {
     "name": "stdout",
     "output_type": "stream",
     "text": [
      "train loss: 0.55337, test loss: 0.63346\n"
     ]
    },
    {
     "name": "stderr",
     "output_type": "stream",
     "text": [
      "Epoch 4/6, Training: 100%|████████████████████████████| 200/200 [02:41<00:00,  1.24it/s]\n",
      "Epoch 4/6, Validation: 100%|████████████████████████████| 84/84 [03:17<00:00,  2.35s/it]\n",
      "Epoch 5/6, Validation:   0%|                                     | 0/84 [00:00<?, ?it/s]"
     ]
    },
    {
     "name": "stdout",
     "output_type": "stream",
     "text": [
      "train loss: 0.54507, test loss: 0.63907\n"
     ]
    },
    {
     "name": "stderr",
     "output_type": "stream",
     "text": [
      "Epoch 5/6, Training: 100%|████████████████████████████| 200/200 [02:42<00:00,  1.23it/s]\n",
      "Epoch 5/6, Validation: 100%|████████████████████████████| 84/84 [03:18<00:00,  2.36s/it]\n",
      "Epoch 0/6, Validation:   0%|                                     | 0/84 [00:00<?, ?it/s]"
     ]
    },
    {
     "name": "stdout",
     "output_type": "stream",
     "text": [
      "train loss: 0.54531, test loss: 0.62533\n"
     ]
    },
    {
     "name": "stderr",
     "output_type": "stream",
     "text": [
      "Epoch 0/6, Training: 100%|████████████████████████████| 200/200 [02:51<00:00,  1.16it/s]\n",
      "Epoch 0/6, Validation: 100%|████████████████████████████| 84/84 [03:27<00:00,  2.47s/it]\n",
      "Epoch 1/6, Validation:   0%|                                     | 0/84 [00:00<?, ?it/s]"
     ]
    },
    {
     "name": "stdout",
     "output_type": "stream",
     "text": [
      "train loss: 0.61830, test loss: 0.62311\n"
     ]
    },
    {
     "name": "stderr",
     "output_type": "stream",
     "text": [
      "Epoch 1/6, Training: 100%|████████████████████████████| 200/200 [02:51<00:00,  1.16it/s]\n",
      "Epoch 1/6, Validation: 100%|████████████████████████████| 84/84 [03:27<00:00,  2.47s/it]\n",
      "Epoch 2/6, Validation:   0%|                                     | 0/84 [00:00<?, ?it/s]"
     ]
    },
    {
     "name": "stdout",
     "output_type": "stream",
     "text": [
      "train loss: 0.57402, test loss: 0.61809\n"
     ]
    },
    {
     "name": "stderr",
     "output_type": "stream",
     "text": [
      "Epoch 2/6, Training: 100%|████████████████████████████| 200/200 [02:52<00:00,  1.16it/s]\n",
      "Epoch 2/6, Validation: 100%|████████████████████████████| 84/84 [03:28<00:00,  2.48s/it]\n",
      "Epoch 3/6, Validation:   0%|                                     | 0/84 [00:00<?, ?it/s]"
     ]
    },
    {
     "name": "stdout",
     "output_type": "stream",
     "text": [
      "train loss: 0.56343, test loss: 0.62001\n"
     ]
    },
    {
     "name": "stderr",
     "output_type": "stream",
     "text": [
      "Epoch 3/6, Training: 100%|████████████████████████████| 200/200 [02:51<00:00,  1.16it/s]\n",
      "Epoch 3/6, Validation: 100%|████████████████████████████| 84/84 [03:27<00:00,  2.47s/it]\n",
      "Epoch 4/6, Validation:   0%|                                     | 0/84 [00:00<?, ?it/s]"
     ]
    },
    {
     "name": "stdout",
     "output_type": "stream",
     "text": [
      "train loss: 0.55584, test loss: 0.62828\n"
     ]
    },
    {
     "name": "stderr",
     "output_type": "stream",
     "text": [
      "Epoch 4/6, Training: 100%|████████████████████████████| 200/200 [02:52<00:00,  1.16it/s]\n",
      "Epoch 4/6, Validation: 100%|████████████████████████████| 84/84 [03:28<00:00,  2.48s/it]\n",
      "Epoch 5/6, Validation:   0%|                                     | 0/84 [00:00<?, ?it/s]"
     ]
    },
    {
     "name": "stdout",
     "output_type": "stream",
     "text": [
      "train loss: 0.54592, test loss: 0.62930\n"
     ]
    },
    {
     "name": "stderr",
     "output_type": "stream",
     "text": [
      "Epoch 5/6, Training: 100%|████████████████████████████| 200/200 [02:52<00:00,  1.16it/s]\n",
      "Epoch 5/6, Validation: 100%|████████████████████████████| 84/84 [03:28<00:00,  2.48s/it]\n",
      "Epoch 0/6, Validation:   0%|                                     | 0/84 [00:00<?, ?it/s]"
     ]
    },
    {
     "name": "stdout",
     "output_type": "stream",
     "text": [
      "train loss: 0.54008, test loss: 0.63421\n"
     ]
    },
    {
     "name": "stderr",
     "output_type": "stream",
     "text": [
      "Epoch 0/6, Training: 100%|████████████████████████████| 200/200 [02:46<00:00,  1.20it/s]\n",
      "Epoch 0/6, Validation: 100%|████████████████████████████| 84/84 [03:21<00:00,  2.40s/it]\n",
      "Epoch 1/6, Validation:   0%|                                     | 0/84 [00:00<?, ?it/s]"
     ]
    },
    {
     "name": "stdout",
     "output_type": "stream",
     "text": [
      "train loss: 0.63154, test loss: 0.62476\n"
     ]
    },
    {
     "name": "stderr",
     "output_type": "stream",
     "text": [
      "Epoch 1/6, Training: 100%|████████████████████████████| 200/200 [02:47<00:00,  1.19it/s]\n",
      "Epoch 1/6, Validation: 100%|████████████████████████████| 84/84 [03:23<00:00,  2.42s/it]\n",
      "Epoch 2/6, Validation:   0%|                                     | 0/84 [00:00<?, ?it/s]"
     ]
    },
    {
     "name": "stdout",
     "output_type": "stream",
     "text": [
      "train loss: 0.58079, test loss: 0.62800\n"
     ]
    },
    {
     "name": "stderr",
     "output_type": "stream",
     "text": [
      "Epoch 2/6, Training: 100%|████████████████████████████| 200/200 [02:46<00:00,  1.20it/s]\n",
      "Epoch 2/6, Validation: 100%|████████████████████████████| 84/84 [03:22<00:00,  2.41s/it]\n",
      "Epoch 3/6, Validation:   0%|                                     | 0/84 [00:00<?, ?it/s]"
     ]
    },
    {
     "name": "stdout",
     "output_type": "stream",
     "text": [
      "train loss: 0.56854, test loss: 0.63726\n"
     ]
    },
    {
     "name": "stderr",
     "output_type": "stream",
     "text": [
      "Epoch 3/6, Training: 100%|████████████████████████████| 200/200 [02:46<00:00,  1.20it/s]\n",
      "Epoch 3/6, Validation: 100%|████████████████████████████| 84/84 [03:22<00:00,  2.41s/it]\n",
      "Epoch 4/6, Validation:   0%|                                     | 0/84 [00:00<?, ?it/s]"
     ]
    },
    {
     "name": "stdout",
     "output_type": "stream",
     "text": [
      "train loss: 0.56332, test loss: 0.62863\n"
     ]
    },
    {
     "name": "stderr",
     "output_type": "stream",
     "text": [
      "Epoch 4/6, Training: 100%|████████████████████████████| 200/200 [02:46<00:00,  1.20it/s]\n",
      "Epoch 4/6, Validation: 100%|████████████████████████████| 84/84 [03:22<00:00,  2.41s/it]\n",
      "Epoch 5/6, Validation:   0%|                                     | 0/84 [00:00<?, ?it/s]"
     ]
    },
    {
     "name": "stdout",
     "output_type": "stream",
     "text": [
      "train loss: 0.55085, test loss: 0.62564\n"
     ]
    },
    {
     "name": "stderr",
     "output_type": "stream",
     "text": [
      "Epoch 5/6, Training: 100%|████████████████████████████| 200/200 [02:47<00:00,  1.19it/s]\n",
      "Epoch 5/6, Validation: 100%|████████████████████████████| 84/84 [03:23<00:00,  2.42s/it]"
     ]
    },
    {
     "name": "stdout",
     "output_type": "stream",
     "text": [
      "train loss: 0.54193, test loss: 0.61808\n"
     ]
    },
    {
     "name": "stderr",
     "output_type": "stream",
     "text": [
      "\n"
     ]
    }
   ],
   "source": [
    "EMBEDDING_DIM = 20\n",
    "HIDDEN_DIM = 100\n",
    "TAGSET_SIZE = 2\n",
    "NUM_EPOCHS = 6\n",
    "model_list = []\n",
    "\n",
    "for model_idx in range(9):\n",
    "    \n",
    "    train_data = []\n",
    "    for link_idx in np.random.choice(200,size=200,replace=True):\n",
    "        train_data.append(link_dataset[link_idx])\n",
    "    \n",
    "    model = LSTMTagger(EMBEDDING_DIM, HIDDEN_DIM, TAGSET_SIZE)\n",
    "    model.cuda()\n",
    "    loss_function = nn.NLLLoss(weight=torch.tensor([2.0,1.0])).cuda()\n",
    "    optimizer = optim.Adam(model.parameters(), 0.001)\n",
    "\n",
    "    model.train()\n",
    "    for epoch_idx in range(NUM_EPOCHS):  \n",
    "\n",
    "        progress_training_epoch = tqdm(\n",
    "            train_data, \n",
    "            desc=f'Epoch {epoch_idx}/{NUM_EPOCHS}, Training',\n",
    "            miniters=1, ncols=88, position=0,\n",
    "            leave=True, total=len(train_data), smoothing=.9)\n",
    "\n",
    "        progress_validation_epoch = tqdm(\n",
    "            test_data, \n",
    "            desc=f'Epoch {epoch_idx}/{NUM_EPOCHS}, Validation',\n",
    "            miniters=1, ncols=88, position=0, \n",
    "            leave=True, total=len(test_data), smoothing=.9)\n",
    "\n",
    "        train_loss = 0\n",
    "        train_size = 0\n",
    "        model.train()\n",
    "        for idx, (sentence, tags) in enumerate(progress_training_epoch):\n",
    "            sentence = sentence.cuda()\n",
    "            tags = tags.cuda()\n",
    "            model.zero_grad()\n",
    "            tag_scores = model(sentence)\n",
    "            loss = loss_function(tag_scores, tags)\n",
    "            loss.backward()\n",
    "            optimizer.step()\n",
    "            train_loss += loss * tags.size()[0]\n",
    "            train_size += tags.size()[0]\n",
    "\n",
    "        test_loss = 0\n",
    "        test_size = 0\n",
    "        model.eval()\n",
    "        with torch.no_grad():\n",
    "            for idx, (sentence, tags) in enumerate(progress_validation_epoch):\n",
    "                sentence = sentence.cuda()\n",
    "                tags = tags.cuda()\n",
    "                tag_scores = model(sentence)\n",
    "                loss = loss_function(tag_scores, tags) \n",
    "                test_loss += loss * tags.size()[0]\n",
    "                test_size += tags.size()[0]\n",
    "\n",
    "        print(f'train loss:{train_loss.item()/train_size: .5f}, '\n",
    "              f'test loss:{test_loss.item()/test_size: .5f}')\n",
    "        \n",
    "    model_list.append(model)"
   ]
  },
  {
   "cell_type": "markdown",
   "metadata": {},
   "source": [
    "# Test"
   ]
  },
  {
   "cell_type": "code",
   "execution_count": 9,
   "metadata": {},
   "outputs": [
    {
     "name": "stderr",
     "output_type": "stream",
     "text": [
      "Epoch 5/6, Validation: 100%|████████████████████████████| 84/84 [00:35<00:00,  2.35it/s]\n",
      "Epoch 5/6, Validation: 100%|████████████████████████████| 84/84 [00:35<00:00,  2.35it/s]\n",
      "Epoch 5/6, Validation: 100%|████████████████████████████| 84/84 [00:35<00:00,  2.35it/s]\n",
      "Epoch 5/6, Validation: 100%|████████████████████████████| 84/84 [00:35<00:00,  2.34it/s]\n",
      "Epoch 5/6, Validation: 100%|████████████████████████████| 84/84 [00:35<00:00,  2.34it/s]\n",
      "Epoch 5/6, Validation: 100%|████████████████████████████| 84/84 [00:35<00:00,  2.34it/s]\n",
      "Epoch 5/6, Validation: 100%|████████████████████████████| 84/84 [00:35<00:00,  2.34it/s]\n",
      "Epoch 5/6, Validation: 100%|████████████████████████████| 84/84 [00:35<00:00,  2.35it/s]\n",
      "Epoch 5/6, Validation: 100%|████████████████████████████| 84/84 [00:35<00:00,  2.35it/s]"
     ]
    },
    {
     "name": "stdout",
     "output_type": "stream",
     "text": [
      "True Positive:1132991, True Negative:356388, False Positive:335030, False Negative:222521\n"
     ]
    },
    {
     "name": "stderr",
     "output_type": "stream",
     "text": [
      "\n"
     ]
    }
   ],
   "source": [
    "predict_agg = []\n",
    "target_agg = []\n",
    "\n",
    "for model in model_list:\n",
    "    \n",
    "    progress_validation_epoch = tqdm(\n",
    "        test_data, \n",
    "        desc=f'Epoch {epoch_idx}/{NUM_EPOCHS}, Validation',\n",
    "        miniters=1, ncols=88, position=0, \n",
    "        leave=True, total=len(test_data), smoothing=.9)\n",
    "    \n",
    "    predict = []\n",
    "    target = []\n",
    "    model.eval()\n",
    "    with torch.no_grad():\n",
    "        for idx, (sentence, tags) in enumerate(progress_validation_epoch):\n",
    "            sentence = sentence.cuda()\n",
    "            tags = tags.cuda()\n",
    "            tag_scores = model(sentence)\n",
    "            predict.append(tag_scores.argmax(dim=1).cpu().numpy())\n",
    "            target.append(tags.cpu().numpy())        \n",
    "    predict = np.concatenate(predict, axis=0)\n",
    "    target = np.concatenate(target, axis=0)\n",
    "    \n",
    "    predict_agg.append(predict)\n",
    "    target_agg.append(target)\n",
    "    \n",
    "predict = (np.array(predict_agg).sum(axis=0) > 4.5)\n",
    "target = target_agg[0]\n",
    "tp = predict[target==1].sum()\n",
    "tn = (target==0).sum() - predict[target==0].sum()\n",
    "fp = predict[target==0].sum()\n",
    "fn = (target==1).sum() - predict[target==1].sum()\n",
    "\n",
    "print(f'True Positive:{tp}, '\n",
    "      f'True Negative:{tn}, '\n",
    "      f'False Positive:{fp}, '\n",
    "      f'False Negative:{fn}')\n"
   ]
  },
  {
   "cell_type": "code",
   "execution_count": 10,
   "metadata": {},
   "outputs": [
    {
     "name": "stdout",
     "output_type": "stream",
     "text": [
      "Accuracy:0.727615990776431, Positive Accuracy:0.7717811938657553, Negative Accuracy:0.6156200715483781, Weighted Accuracy:0.6937006327070667\n"
     ]
    }
   ],
   "source": [
    "accr = (tp+tn)/(tp+tn+fp+fn)\n",
    "posaccr = tp/(tp+fp)\n",
    "negaccr = tn/(tn+fn)\n",
    "print(f'Accuracy:{accr}, '\n",
    "      f'Positive Accuracy:{posaccr}, '\n",
    "      f'Negative Accuracy:{negaccr}, '\n",
    "      f'Weighted Accuracy:{0.5*(posaccr+negaccr)}')"
   ]
  },
  {
   "cell_type": "code",
   "execution_count": null,
   "metadata": {},
   "outputs": [],
   "source": []
  }
 ],
 "metadata": {
  "kernelspec": {
   "display_name": "Python 3",
   "language": "python",
   "name": "python3"
  },
  "language_info": {
   "codemirror_mode": {
    "name": "ipython",
    "version": 3
   },
   "file_extension": ".py",
   "mimetype": "text/x-python",
   "name": "python",
   "nbconvert_exporter": "python",
   "pygments_lexer": "ipython3",
   "version": "3.7.5"
  }
 },
 "nbformat": 4,
 "nbformat_minor": 2
}
