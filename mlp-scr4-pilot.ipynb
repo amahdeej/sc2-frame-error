{
 "cells": [
  {
   "cell_type": "markdown",
   "metadata": {},
   "source": [
    "# Libraries"
   ]
  },
  {
   "cell_type": "code",
   "execution_count": 1,
   "metadata": {},
   "outputs": [],
   "source": [
    "import sqlite3\n",
    "import numpy as np\n",
    "from collections import OrderedDict, namedtuple\n",
    "from distutils.spawn import find_executable\n",
    "import matplotlib.pyplot as plt\n",
    "\n",
    "import sys\n",
    "import subprocess\n",
    "import pathlib\n",
    "import tempfile\n",
    "import importlib\n",
    "import os\n",
    "import time\n",
    "import random\n",
    "import pickle\n",
    "\n",
    "import math\n",
    "\n",
    "from configparser import ConfigParser\n",
    "\n",
    "# from google.protobuf.json_format import MessageToDict"
   ]
  },
  {
   "cell_type": "code",
   "execution_count": 2,
   "metadata": {},
   "outputs": [],
   "source": [
    "# DEVICE = 0\n",
    "\n",
    "import os\n",
    "import time\n",
    "import pickle\n",
    "import numpy as np\n",
    "from tqdm import tqdm\n",
    "import matplotlib.pyplot as plt\n",
    "import seaborn as sn\n",
    "import pandas as pd\n",
    "\n",
    "import torch\n",
    "torch.backends.cudnn.benchmark = True\n",
    "import torch.optim as optim\n",
    "import torch.nn as nn\n",
    "import torch.nn.functional as F\n",
    "from torch.autograd import Variable\n",
    "from torch.utils import data\n",
    "\n",
    "# torch.cuda.set_device(DEVICE)\n",
    "torch.cuda.empty_cache() \n",
    "torch.backends.cudnn.benchmark=True"
   ]
  },
  {
   "cell_type": "code",
   "execution_count": 3,
   "metadata": {},
   "outputs": [],
   "source": [
    "np.random.seed(0)\n",
    "torch.manual_seed(0)\n",
    "\n",
    "\n",
    "import os\n",
    "os.environ['CUDA_VISIBLE_DEVICES']='1'"
   ]
  },
  {
   "cell_type": "markdown",
   "metadata": {},
   "source": [
    "# load the dataset"
   ]
  },
  {
   "cell_type": "code",
   "execution_count": 4,
   "metadata": {},
   "outputs": [],
   "source": [
    "with open('scrimmage4_link_dataset.pickle', 'rb') as file:\n",
    "    link_dataset = pickle.load(file)"
   ]
  },
  {
   "cell_type": "code",
   "execution_count": 5,
   "metadata": {},
   "outputs": [],
   "source": [
    "train_x_npn = []\n",
    "train_y_npn = []\n",
    "test_x_npn = []\n",
    "test_y_npn = []\n",
    "\n",
    "for i in range(len(link_dataset)):\n",
    "    datalen = len(link_dataset[i][1])\n",
    "    trainlen = round(datalen*2/3)\n",
    "    testlen = datalen -trainlen        \n",
    "    train_x_npn.append(link_dataset[i][0][0:trainlen].numpy())    \n",
    "    train_y_npn.append(link_dataset[i][1][0:trainlen].numpy())\n",
    "    test_x_npn.append(link_dataset[i][0][trainlen:trainlen+testlen].numpy())\n",
    "    test_y_npn.append(link_dataset[i][1][trainlen:trainlen+testlen].numpy())"
   ]
  },
  {
   "cell_type": "code",
   "execution_count": 6,
   "metadata": {},
   "outputs": [],
   "source": [
    "train_x_np = np.concatenate(train_x_npn)\n",
    "train_y_np = np.concatenate(train_y_npn)\n",
    "test_x_np = np.concatenate(test_x_npn)\n",
    "test_y_np = np.concatenate(test_y_npn)"
   ]
  },
  {
   "cell_type": "code",
   "execution_count": 7,
   "metadata": {},
   "outputs": [],
   "source": [
    "train_x = torch.from_numpy(train_x_np)\n",
    "#train_x = train_x.view(-1,1,20)\n",
    "test_x = torch.from_numpy(test_x_np)\n",
    "#test_x = test_x.view(-1,1,20)\n",
    "train_y = torch.from_numpy(train_y_np)\n",
    "test_y = torch.from_numpy(test_y_np)"
   ]
  },
  {
   "cell_type": "code",
   "execution_count": 8,
   "metadata": {},
   "outputs": [
    {
     "data": {
      "text/plain": [
       "torch.Size([2174082, 20])"
      ]
     },
     "execution_count": 8,
     "metadata": {},
     "output_type": "execute_result"
    }
   ],
   "source": [
    "test_x.size()"
   ]
  },
  {
   "cell_type": "code",
   "execution_count": 9,
   "metadata": {},
   "outputs": [],
   "source": [
    "class MLP(nn.Module):\n",
    "    def __init__(self):\n",
    "        super().__init__()\n",
    "\n",
    "        self.linear1 = nn.Linear(20, 128)\n",
    "        self.linear2 = nn.Linear(128, 128)\n",
    "        self.linear3 = nn.Linear(128, 128)\n",
    "        self.linear4 = nn.Linear(128, 128)\n",
    "        self.linear5 = nn.Linear(128, 2)\n",
    "        \n",
    "        self.relu = nn.ReLU()\n",
    "        \n",
    "#         self.dropout = nn.Dropout(0.6)\n",
    "\n",
    "    \n",
    "    def forward(self, input):\n",
    "\n",
    "        output = self.linear1(input)\n",
    "        output = self.relu(output)\n",
    "#         output = self.dropout(output)\n",
    "\n",
    "        output = self.linear2(output)\n",
    "        output = self.relu(output)\n",
    "#         output = self.dropout(output)\n",
    "\n",
    "        output = self.linear3(output)\n",
    "        output = self.relu(output)\n",
    "#         output = self.dropout(output)\n",
    "\n",
    "        output = self.linear4(output)\n",
    "        output = self.relu(output)\n",
    "#         output = self.dropout(output)\n",
    "\n",
    "        output = self.linear5(output)\n",
    "        \n",
    "        return output"
   ]
  },
  {
   "cell_type": "markdown",
   "metadata": {},
   "source": [
    "# Train Model"
   ]
  },
  {
   "cell_type": "code",
   "execution_count": 10,
   "metadata": {
    "scrolled": false
   },
   "outputs": [
    {
     "name": "stderr",
     "output_type": "stream",
     "text": [
      "Epoch 0/10, Training: 100%|█████████████████████████| 4247/4247 [02:27<00:00, 28.86it/s]\n",
      "Epoch 0/10, Validation: 100%|███████████████████████| 2124/2124 [03:21<00:00, 10.56it/s]\n",
      "Epoch 1/10, Validation:   0%|                                  | 0/2124 [00:00<?, ?it/s]"
     ]
    },
    {
     "name": "stdout",
     "output_type": "stream",
     "text": [
      "train loss: 0.45093, test loss: 0.70734\n"
     ]
    },
    {
     "name": "stderr",
     "output_type": "stream",
     "text": [
      "Epoch 1/10, Training: 100%|█████████████████████████| 4247/4247 [02:25<00:00, 29.24it/s]\n",
      "Epoch 1/10, Validation: 100%|███████████████████████| 2124/2124 [03:19<00:00, 10.65it/s]\n",
      "Epoch 2/10, Validation:   0%|                                  | 0/2124 [00:00<?, ?it/s]"
     ]
    },
    {
     "name": "stdout",
     "output_type": "stream",
     "text": [
      "train loss: 0.42505, test loss: 0.70533\n"
     ]
    },
    {
     "name": "stderr",
     "output_type": "stream",
     "text": [
      "Epoch 2/10, Training: 100%|█████████████████████████| 4247/4247 [02:25<00:00, 29.18it/s]\n",
      "Epoch 2/10, Validation: 100%|███████████████████████| 2124/2124 [03:19<00:00, 10.65it/s]\n",
      "Epoch 3/10, Validation:   0%|                                  | 0/2124 [00:00<?, ?it/s]"
     ]
    },
    {
     "name": "stdout",
     "output_type": "stream",
     "text": [
      "train loss: 0.41971, test loss: 0.66791\n"
     ]
    },
    {
     "name": "stderr",
     "output_type": "stream",
     "text": [
      "Epoch 3/10, Training: 100%|█████████████████████████| 4247/4247 [02:24<00:00, 29.40it/s]\n",
      "Epoch 3/10, Validation: 100%|███████████████████████| 2124/2124 [03:18<00:00, 10.70it/s]\n",
      "Epoch 4/10, Validation:   0%|                                  | 0/2124 [00:00<?, ?it/s]"
     ]
    },
    {
     "name": "stdout",
     "output_type": "stream",
     "text": [
      "train loss: 0.41703, test loss: 0.68557\n"
     ]
    },
    {
     "name": "stderr",
     "output_type": "stream",
     "text": [
      "Epoch 4/10, Training: 100%|█████████████████████████| 4247/4247 [02:25<00:00, 29.14it/s]\n",
      "Epoch 4/10, Validation: 100%|███████████████████████| 2124/2124 [03:19<00:00, 10.64it/s]\n",
      "Epoch 5/10, Validation:   0%|                                  | 0/2124 [00:00<?, ?it/s]"
     ]
    },
    {
     "name": "stdout",
     "output_type": "stream",
     "text": [
      "train loss: 0.41533, test loss: 0.68372\n"
     ]
    },
    {
     "name": "stderr",
     "output_type": "stream",
     "text": [
      "Epoch 5/10, Training: 100%|█████████████████████████| 4247/4247 [02:24<00:00, 29.45it/s]\n",
      "Epoch 5/10, Validation: 100%|███████████████████████| 2124/2124 [03:18<00:00, 10.70it/s]\n",
      "Epoch 6/10, Validation:   0%|                                  | 0/2124 [00:00<?, ?it/s]"
     ]
    },
    {
     "name": "stdout",
     "output_type": "stream",
     "text": [
      "train loss: 0.41393, test loss: 0.68991\n"
     ]
    },
    {
     "name": "stderr",
     "output_type": "stream",
     "text": [
      "Epoch 6/10, Training: 100%|█████████████████████████| 4247/4247 [02:26<00:00, 29.01it/s]\n",
      "Epoch 6/10, Validation: 100%|███████████████████████| 2124/2124 [03:20<00:00, 10.61it/s]\n",
      "Epoch 7/10, Validation:   0%|                                  | 0/2124 [00:00<?, ?it/s]"
     ]
    },
    {
     "name": "stdout",
     "output_type": "stream",
     "text": [
      "train loss: 0.41297, test loss: 0.70290\n"
     ]
    },
    {
     "name": "stderr",
     "output_type": "stream",
     "text": [
      "Epoch 7/10, Training: 100%|█████████████████████████| 4247/4247 [02:25<00:00, 29.12it/s]\n",
      "Epoch 7/10, Validation: 100%|███████████████████████| 2124/2124 [03:19<00:00, 10.62it/s]\n",
      "Epoch 8/10, Validation:   0%|                                  | 0/2124 [00:00<?, ?it/s]"
     ]
    },
    {
     "name": "stdout",
     "output_type": "stream",
     "text": [
      "train loss: 0.41217, test loss: 0.70346\n"
     ]
    },
    {
     "name": "stderr",
     "output_type": "stream",
     "text": [
      "Epoch 8/10, Training: 100%|█████████████████████████| 4247/4247 [02:24<00:00, 29.29it/s]\n",
      "Epoch 8/10, Validation: 100%|███████████████████████| 2124/2124 [03:17<00:00, 10.74it/s]\n",
      "Epoch 9/10, Validation:   0%|                                  | 0/2124 [00:00<?, ?it/s]"
     ]
    },
    {
     "name": "stdout",
     "output_type": "stream",
     "text": [
      "train loss: 0.41155, test loss: 0.70072\n"
     ]
    },
    {
     "name": "stderr",
     "output_type": "stream",
     "text": [
      "Epoch 9/10, Training: 100%|█████████████████████████| 4247/4247 [02:25<00:00, 29.16it/s]\n",
      "Epoch 9/10, Validation: 100%|███████████████████████| 2124/2124 [03:19<00:00, 10.65it/s]\n"
     ]
    },
    {
     "name": "stdout",
     "output_type": "stream",
     "text": [
      "train loss: 0.41100, test loss: 0.68969\n"
     ]
    }
   ],
   "source": [
    "NUM_EPOCHS = 10\n",
    "BATCH_SIZE = 1024\n",
    "\n",
    "model = MLP()\n",
    "model.cuda()\n",
    "\n",
    "loss_function = nn.CrossEntropyLoss(weight=torch.tensor([1.0,1.0])).cuda()\n",
    "optimizer = optim.Adam(model.parameters(), 0.001)\n",
    "# optimizer = optim.SGD(model.parameters(), lr=0.001)\n",
    "\n",
    "train_dataloader = data.DataLoader(\n",
    "    dataset=data.TensorDataset(train_x,train_y), \n",
    "    batch_size=BATCH_SIZE, shuffle=True, num_workers=16, pin_memory=True)\n",
    "\n",
    "test_dataloader = data.DataLoader(\n",
    "    data.TensorDataset(test_x,test_y), \n",
    "    batch_size=BATCH_SIZE, shuffle=False, num_workers=16, pin_memory=True)\n",
    "\n",
    "model.train()\n",
    "for epoch_idx in range(NUM_EPOCHS):  # again, normally you would NOT do 300 epochs, it is toy data\n",
    "\n",
    "    progress_training_epoch = tqdm(\n",
    "        train_dataloader, \n",
    "        desc=f'Epoch {epoch_idx}/{NUM_EPOCHS}, Training',\n",
    "        miniters=1, ncols=88, position=0,\n",
    "        leave=True, total=len(train_dataloader), smoothing=.9)\n",
    "\n",
    "    progress_validation_epoch = tqdm(\n",
    "        test_dataloader, \n",
    "        desc=f'Epoch {epoch_idx}/{NUM_EPOCHS}, Validation',\n",
    "        miniters=1, ncols=88, position=0, \n",
    "        leave=True, total=len(test_dataloader), smoothing=.9)\n",
    "\n",
    "    train_loss = 0\n",
    "    train_size = 0\n",
    "    for idx, (input, target) in enumerate(progress_training_epoch):\n",
    "        input = input.cuda()\n",
    "        target = target.cuda()\n",
    "        model.zero_grad()\n",
    "        predict = model(input)\n",
    "        loss = loss_function(predict, target)\n",
    "        loss.backward()\n",
    "        optimizer.step()\n",
    "        train_loss += loss * target.size()[0]\n",
    "        train_size += target.size()[0]\n",
    "\n",
    "    test_loss = 0\n",
    "    test_size = 0\n",
    "    predict = []\n",
    "    target = []\n",
    "    model.eval()\n",
    "    with torch.no_grad():\n",
    "        for idx, (batch_input, batch_target) in enumerate(progress_validation_epoch):\n",
    "            batch_input = batch_input.cuda()\n",
    "            batch_target = batch_target.cuda()\n",
    "            batch_predict = model(batch_input)\n",
    "            loss = loss_function(batch_predict, batch_target)\n",
    "            predict.append(batch_predict.argmax(dim=1).cpu().numpy())\n",
    "            target.append(batch_target.cpu().numpy())        \n",
    "            test_loss += loss * batch_target.size()[0]\n",
    "            test_size += batch_target.size()[0]\n",
    "    predict = np.concatenate(predict, axis=0)\n",
    "    target = np.concatenate(target, axis=0)\n",
    "\n",
    "#     print(f'train loss:{train_loss.item()/train_size: .5f}, '\n",
    "#           f'test loss:{test_loss.item()/test_size: .5f}, '\n",
    "#           f'overall accuracy:{(predict == target).sum() / target.size}, '\n",
    "#           f'positive accuracy:{predict[target==1].sum() / target.sum()}, '\n",
    "#           f'negative accuracy:{(np.logical_not(target).sum() - predict[np.logical_not(target)].sum()) / np.logical_not(target).sum()}')\n",
    "\n",
    "    print(f'train loss:{train_loss.item()/train_size: .5f}, '\n",
    "          f'test loss:{test_loss.item()/test_size: .5f}')"
   ]
  },
  {
   "cell_type": "code",
   "execution_count": 11,
   "metadata": {},
   "outputs": [
    {
     "name": "stdout",
     "output_type": "stream",
     "text": [
      "True Positive:1063048, True Negative:327771, False Positive:639228, False Negative:144035\n"
     ]
    }
   ],
   "source": [
    "test_dataloader = data.DataLoader(\n",
    "    data.TensorDataset(test_x,test_y), \n",
    "    batch_size=BATCH_SIZE, shuffle=False, num_workers=16, pin_memory=True)\n",
    "\n",
    "predict = []\n",
    "target = []\n",
    "model.eval()\n",
    "with torch.no_grad():\n",
    "    for idx, (batch_input, batch_target) in enumerate(progress_validation_epoch):\n",
    "        batch_input = batch_input.cuda()\n",
    "        batch_target = batch_target.cuda()\n",
    "        batch_predict = model(batch_input)\n",
    "        predict.append(batch_predict.argmax(dim=1).cpu().numpy())\n",
    "        target.append(batch_target.cpu().numpy())        \n",
    "predict = np.concatenate(predict, axis=0)\n",
    "target = np.concatenate(target, axis=0)\n",
    "\n",
    "tp = predict[target==1].sum()\n",
    "tn = (target==0).sum() - predict[target==0].sum()\n",
    "fp = predict[target==0].sum()\n",
    "fn = (target==1).sum() - predict[target==1].sum()\n",
    "\n",
    "print(f'True Positive:{tp}, '\n",
    "      f'True Negative:{tn}, '\n",
    "      f'False Positive:{fp}, '\n",
    "      f'False Negative:{fn}')"
   ]
  },
  {
   "cell_type": "code",
   "execution_count": 12,
   "metadata": {},
   "outputs": [
    {
     "name": "stdout",
     "output_type": "stream",
     "text": [
      "Accuracy:0.6397270204159733, Positive Accuracy:0.6244862760210448, Negative Accuracy:0.6947156246423318, Weighted Accuracy:0.6596009503316883\n"
     ]
    }
   ],
   "source": [
    "accr = (tp+tn)/(tp+tn+fp+fn)\n",
    "posaccr = tp/(tp+fp)\n",
    "negaccr = tn/(tn+fn)\n",
    "print(f'Accuracy:{accr}, '\n",
    "      f'Positive Accuracy:{posaccr}, '\n",
    "      f'Negative Accuracy:{negaccr}, '\n",
    "      f'Weighted Accuracy:{0.5*(posaccr+negaccr)}')"
   ]
  },
  {
   "cell_type": "markdown",
   "metadata": {},
   "source": [
    "# Train Model 1 Epoch"
   ]
  },
  {
   "cell_type": "code",
   "execution_count": 13,
   "metadata": {},
   "outputs": [
    {
     "name": "stderr",
     "output_type": "stream",
     "text": [
      "Epoch 0/1, Training: 100%|██████████████████████████| 4247/4247 [02:23<00:00, 29.58it/s]\n",
      "Epoch 0/1, Validation: 100%|████████████████████████| 2124/2124 [03:17<00:00, 10.74it/s]"
     ]
    },
    {
     "name": "stdout",
     "output_type": "stream",
     "text": [
      "train loss: 0.45168, test loss: 0.65422\n"
     ]
    },
    {
     "name": "stderr",
     "output_type": "stream",
     "text": [
      "\n"
     ]
    }
   ],
   "source": [
    "NUM_EPOCHS = 1\n",
    "BATCH_SIZE = 1024\n",
    "\n",
    "model = MLP()\n",
    "model.cuda()\n",
    "\n",
    "loss_function = nn.CrossEntropyLoss(weight=torch.tensor([1.0,1.0])).cuda()\n",
    "optimizer = optim.Adam(model.parameters(), 0.001)\n",
    "# optimizer = optim.SGD(model.parameters(), lr=0.001)\n",
    "\n",
    "train_dataloader = data.DataLoader(\n",
    "    dataset=data.TensorDataset(train_x,train_y), \n",
    "    batch_size=BATCH_SIZE, shuffle=True, num_workers=16, pin_memory=True)\n",
    "\n",
    "test_dataloader = data.DataLoader(\n",
    "    data.TensorDataset(test_x,test_y), \n",
    "    batch_size=BATCH_SIZE, shuffle=False, num_workers=16, pin_memory=True)\n",
    "\n",
    "model.train()\n",
    "for epoch_idx in range(NUM_EPOCHS):  # again, normally you would NOT do 300 epochs, it is toy data\n",
    "\n",
    "    progress_training_epoch = tqdm(\n",
    "        train_dataloader, \n",
    "        desc=f'Epoch {epoch_idx}/{NUM_EPOCHS}, Training',\n",
    "        miniters=1, ncols=88, position=0,\n",
    "        leave=True, total=len(train_dataloader), smoothing=.9)\n",
    "\n",
    "    progress_validation_epoch = tqdm(\n",
    "        test_dataloader, \n",
    "        desc=f'Epoch {epoch_idx}/{NUM_EPOCHS}, Validation',\n",
    "        miniters=1, ncols=88, position=0, \n",
    "        leave=True, total=len(test_dataloader), smoothing=.9)\n",
    "\n",
    "    train_loss = 0\n",
    "    train_size = 0\n",
    "    for idx, (input, target) in enumerate(progress_training_epoch):\n",
    "        input = input.cuda()\n",
    "        target = target.cuda()\n",
    "        model.zero_grad()\n",
    "        predict = model(input)\n",
    "        loss = loss_function(predict, target)\n",
    "        loss.backward()\n",
    "        optimizer.step()\n",
    "        train_loss += loss * target.size()[0]\n",
    "        train_size += target.size()[0]\n",
    "\n",
    "    test_loss = 0\n",
    "    test_size = 0\n",
    "    predict = []\n",
    "    target = []\n",
    "    model.eval()\n",
    "    with torch.no_grad():\n",
    "        for idx, (batch_input, batch_target) in enumerate(progress_validation_epoch):\n",
    "            batch_input = batch_input.cuda()\n",
    "            batch_target = batch_target.cuda()\n",
    "            batch_predict = model(batch_input)\n",
    "            loss = loss_function(batch_predict, batch_target)\n",
    "            predict.append(batch_predict.argmax(dim=1).cpu().numpy())\n",
    "            target.append(batch_target.cpu().numpy())        \n",
    "            test_loss += loss * batch_target.size()[0]\n",
    "            test_size += batch_target.size()[0]\n",
    "    predict = np.concatenate(predict, axis=0)\n",
    "    target = np.concatenate(target, axis=0)\n",
    "\n",
    "#     print(f'train loss:{train_loss.item()/train_size: .5f}, '\n",
    "#           f'test loss:{test_loss.item()/test_size: .5f}, '\n",
    "#           f'overall accuracy:{(predict == target).sum() / target.size}, '\n",
    "#           f'positive accuracy:{predict[target==1].sum() / target.sum()}, '\n",
    "#           f'negative accuracy:{(np.logical_not(target).sum() - predict[np.logical_not(target)].sum()) / np.logical_not(target).sum()}')\n",
    "\n",
    "    print(f'train loss:{train_loss.item()/train_size: .5f}, '\n",
    "          f'test loss:{test_loss.item()/test_size: .5f}')"
   ]
  },
  {
   "cell_type": "markdown",
   "metadata": {},
   "source": [
    "# Test"
   ]
  },
  {
   "cell_type": "code",
   "execution_count": 14,
   "metadata": {},
   "outputs": [
    {
     "name": "stdout",
     "output_type": "stream",
     "text": [
      "True Positive:1038181, True Negative:388208, False Positive:578791, False Negative:168902\n"
     ]
    }
   ],
   "source": [
    "test_dataloader = data.DataLoader(\n",
    "    data.TensorDataset(test_x,test_y), \n",
    "    batch_size=BATCH_SIZE, shuffle=False, num_workers=16, pin_memory=True)\n",
    "\n",
    "predict = []\n",
    "target = []\n",
    "model.eval()\n",
    "with torch.no_grad():\n",
    "    for idx, (batch_input, batch_target) in enumerate(progress_validation_epoch):\n",
    "        batch_input = batch_input.cuda()\n",
    "        batch_target = batch_target.cuda()\n",
    "        batch_predict = model(batch_input)\n",
    "        predict.append(batch_predict.argmax(dim=1).cpu().numpy())\n",
    "        target.append(batch_target.cpu().numpy())        \n",
    "predict = np.concatenate(predict, axis=0)\n",
    "target = np.concatenate(target, axis=0)\n",
    "\n",
    "tp = predict[target==1].sum()\n",
    "tn = (target==0).sum() - predict[target==0].sum()\n",
    "fp = predict[target==0].sum()\n",
    "fn = (target==1).sum() - predict[target==1].sum()\n",
    "\n",
    "print(f'True Positive:{predict[target==1].sum()}, '\n",
    "      f'True Negative:{(target==0).sum() - predict[target==0].sum()}, '\n",
    "      f'False Positive:{predict[target==0].sum()}, '\n",
    "      f'False Negative:{(target==1).sum() - predict[target==1].sum()}')"
   ]
  },
  {
   "cell_type": "code",
   "execution_count": 15,
   "metadata": {},
   "outputs": [
    {
     "name": "stdout",
     "output_type": "stream",
     "text": [
      "Accuracy:0.6560879488446157, Positive Accuracy:0.6420525525488382, Negative Accuracy:0.6968246845326775, Weighted Accuracy:0.6694386185407579\n"
     ]
    }
   ],
   "source": [
    "accr = (tp+tn)/(tp+tn+fp+fn)\n",
    "posaccr = tp/(tp+fp)\n",
    "negaccr = tn/(tn+fn)\n",
    "print(f'Accuracy:{accr}, '\n",
    "      f'Positive Accuracy:{posaccr}, '\n",
    "      f'Negative Accuracy:{negaccr}, '\n",
    "      f'Weighted Accuracy:{0.5*(posaccr+negaccr)}')"
   ]
  },
  {
   "cell_type": "markdown",
   "metadata": {},
   "source": [
    "# Bagging 9"
   ]
  },
  {
   "cell_type": "code",
   "execution_count": 16,
   "metadata": {},
   "outputs": [],
   "source": [
    "with open('scrimmage4_link_dataset.pickle', 'rb') as file:\n",
    "    link_dataset = pickle.load(file)"
   ]
  },
  {
   "cell_type": "code",
   "execution_count": 17,
   "metadata": {},
   "outputs": [
    {
     "name": "stderr",
     "output_type": "stream",
     "text": [
      "Epoch 0/1, Training: 100%|██████████████████████████| 4473/4473 [02:34<00:00, 28.93it/s]\n",
      "Epoch 0/1, Validation: 100%|████████████████████████| 1999/1999 [03:09<00:00, 10.53it/s]\n"
     ]
    },
    {
     "name": "stdout",
     "output_type": "stream",
     "text": [
      "train loss: 0.41754, test loss: 0.67639\n"
     ]
    },
    {
     "name": "stderr",
     "output_type": "stream",
     "text": [
      "Epoch 0/1, Training: 100%|██████████████████████████| 4415/4415 [02:31<00:00, 29.11it/s]\n",
      "Epoch 0/1, Validation: 100%|████████████████████████| 1999/1999 [03:07<00:00, 10.68it/s]\n"
     ]
    },
    {
     "name": "stdout",
     "output_type": "stream",
     "text": [
      "train loss: 0.42712, test loss: 0.67806\n"
     ]
    },
    {
     "name": "stderr",
     "output_type": "stream",
     "text": [
      "Epoch 0/1, Training: 100%|██████████████████████████| 4283/4283 [02:26<00:00, 29.23it/s]\n",
      "Epoch 0/1, Validation: 100%|████████████████████████| 1999/1999 [03:01<00:00, 11.01it/s]\n"
     ]
    },
    {
     "name": "stdout",
     "output_type": "stream",
     "text": [
      "train loss: 0.42591, test loss: 0.67377\n"
     ]
    },
    {
     "name": "stderr",
     "output_type": "stream",
     "text": [
      "Epoch 0/1, Training: 100%|██████████████████████████| 3929/3929 [02:16<00:00, 28.88it/s]\n",
      "Epoch 0/1, Validation: 100%|████████████████████████| 1999/1999 [02:51<00:00, 11.66it/s]\n"
     ]
    },
    {
     "name": "stdout",
     "output_type": "stream",
     "text": [
      "train loss: 0.40468, test loss: 0.69187\n"
     ]
    },
    {
     "name": "stderr",
     "output_type": "stream",
     "text": [
      "Epoch 0/1, Training: 100%|██████████████████████████| 4327/4327 [02:29<00:00, 29.03it/s]\n",
      "Epoch 0/1, Validation: 100%|████████████████████████| 1999/1999 [03:04<00:00, 10.86it/s]\n"
     ]
    },
    {
     "name": "stdout",
     "output_type": "stream",
     "text": [
      "train loss: 0.42798, test loss: 0.68584\n"
     ]
    },
    {
     "name": "stderr",
     "output_type": "stream",
     "text": [
      "Epoch 0/1, Training: 100%|██████████████████████████| 4549/4549 [02:37<00:00, 28.80it/s]\n",
      "Epoch 0/1, Validation: 100%|████████████████████████| 1999/1999 [03:13<00:00, 10.32it/s]\n"
     ]
    },
    {
     "name": "stdout",
     "output_type": "stream",
     "text": [
      "train loss: 0.41122, test loss: 0.66147\n"
     ]
    },
    {
     "name": "stderr",
     "output_type": "stream",
     "text": [
      "Epoch 0/1, Training: 100%|██████████████████████████| 4049/4049 [02:19<00:00, 29.10it/s]\n",
      "Epoch 0/1, Validation: 100%|████████████████████████| 1999/1999 [02:53<00:00, 11.49it/s]\n"
     ]
    },
    {
     "name": "stdout",
     "output_type": "stream",
     "text": [
      "train loss: 0.41466, test loss: 0.69620\n"
     ]
    },
    {
     "name": "stderr",
     "output_type": "stream",
     "text": [
      "Epoch 0/1, Training: 100%|██████████████████████████| 4322/4322 [02:27<00:00, 29.24it/s]\n",
      "Epoch 0/1, Validation: 100%|████████████████████████| 1999/1999 [03:03<00:00, 10.90it/s]\n"
     ]
    },
    {
     "name": "stdout",
     "output_type": "stream",
     "text": [
      "train loss: 0.42795, test loss: 0.66682\n"
     ]
    },
    {
     "name": "stderr",
     "output_type": "stream",
     "text": [
      "Epoch 0/1, Training: 100%|██████████████████████████| 4186/4186 [02:24<00:00, 29.01it/s]\n",
      "Epoch 0/1, Validation: 100%|████████████████████████| 1999/1999 [02:59<00:00, 11.13it/s]"
     ]
    },
    {
     "name": "stdout",
     "output_type": "stream",
     "text": [
      "train loss: 0.42750, test loss: 0.67823\n"
     ]
    },
    {
     "name": "stderr",
     "output_type": "stream",
     "text": [
      "\n"
     ]
    }
   ],
   "source": [
    "NUM_EPOCHS = 1\n",
    "model_list = []\n",
    "BATCH_SIZE = 1024\n",
    "\n",
    "for model_idx in range(9):\n",
    "    \n",
    "    train_data = []\n",
    "    for link_idx in np.random.choice(200,size=200,replace=True):\n",
    "        train_data.append(link_dataset[link_idx])\n",
    "    test_data = link_dataset[200:]\n",
    "    \n",
    "    train_x = torch.cat(tuple(link[0] for link in train_data),dim=0)\n",
    "    train_y = torch.cat(tuple(link[1] for link in train_data),dim=0)\n",
    "    test_x = torch.cat(tuple(link[0] for link in test_data),dim=0)\n",
    "    test_y = torch.cat(tuple(link[1] for link in test_data),dim=0)\n",
    "\n",
    "    model = MLP()\n",
    "    model.cuda()\n",
    "\n",
    "    loss_function = nn.CrossEntropyLoss(weight=torch.tensor([1.0,1.0])).cuda()\n",
    "    optimizer = optim.Adam(model.parameters(), 0.001)\n",
    "\n",
    "    train_dataloader = data.DataLoader(\n",
    "        dataset=data.TensorDataset(train_x,train_y), \n",
    "        batch_size=BATCH_SIZE, shuffle=True, num_workers=16, pin_memory=True)\n",
    "\n",
    "    test_dataloader = data.DataLoader(\n",
    "        data.TensorDataset(test_x,test_y), \n",
    "        batch_size=BATCH_SIZE, shuffle=False, num_workers=16, pin_memory=True)\n",
    "\n",
    "    model.train()\n",
    "    for epoch_idx in range(NUM_EPOCHS):  # again, normally you would NOT do 300 epochs, it is toy data\n",
    "\n",
    "        progress_training_epoch = tqdm(\n",
    "            train_dataloader, \n",
    "            desc=f'Epoch {epoch_idx}/{NUM_EPOCHS}, Training',\n",
    "            miniters=1, ncols=88, position=0,\n",
    "            leave=True, total=len(train_dataloader), smoothing=.9)\n",
    "\n",
    "        progress_validation_epoch = tqdm(\n",
    "            test_dataloader, \n",
    "            desc=f'Epoch {epoch_idx}/{NUM_EPOCHS}, Validation',\n",
    "            miniters=1, ncols=88, position=0, \n",
    "            leave=True, total=len(test_dataloader), smoothing=.9)\n",
    "\n",
    "        train_loss = 0\n",
    "        train_size = 0\n",
    "        for idx, (input, target) in enumerate(progress_training_epoch):\n",
    "            input = input.cuda()\n",
    "            target = target.cuda()\n",
    "            model.zero_grad()\n",
    "            predict = model(input)\n",
    "            loss = loss_function(predict, target)\n",
    "            loss.backward()\n",
    "            optimizer.step()\n",
    "            train_loss += loss * target.size()[0]\n",
    "            train_size += target.size()[0]\n",
    "\n",
    "        test_loss = 0\n",
    "        test_size = 0\n",
    "        model.eval()\n",
    "        with torch.no_grad():\n",
    "            for idx, (batch_input, batch_target) in enumerate(progress_validation_epoch):\n",
    "                batch_input = batch_input.cuda()\n",
    "                batch_target = batch_target.cuda()\n",
    "                batch_predict = model(batch_input)\n",
    "                loss = loss_function(batch_predict, batch_target)\n",
    "                test_loss += loss * batch_target.size()[0]\n",
    "                test_size += batch_target.size()[0]\n",
    "\n",
    "        print(f'train loss:{train_loss.item()/train_size: .5f}, '\n",
    "              f'test loss:{test_loss.item()/test_size: .5f}')\n",
    "        \n",
    "    model_list.append(model) "
   ]
  },
  {
   "cell_type": "markdown",
   "metadata": {},
   "source": [
    "# Test"
   ]
  },
  {
   "cell_type": "code",
   "execution_count": 18,
   "metadata": {
    "scrolled": false
   },
   "outputs": [
    {
     "name": "stderr",
     "output_type": "stream",
     "text": [
      "Epoch 0/1, Validation: 100%|████████████████████████| 1999/1999 [00:35<00:00, 56.51it/s]\n",
      "Epoch 0/1, Validation: 100%|████████████████████████| 1999/1999 [00:35<00:00, 56.53it/s]\n",
      "Epoch 0/1, Validation: 100%|████████████████████████| 1999/1999 [00:35<00:00, 56.73it/s]\n",
      "Epoch 0/1, Validation: 100%|████████████████████████| 1999/1999 [00:35<00:00, 55.81it/s]\n",
      "Epoch 0/1, Validation: 100%|████████████████████████| 1999/1999 [00:35<00:00, 55.68it/s]\n",
      "Epoch 0/1, Validation: 100%|████████████████████████| 1999/1999 [00:36<00:00, 55.42it/s]\n",
      "Epoch 0/1, Validation: 100%|████████████████████████| 1999/1999 [00:36<00:00, 55.50it/s]\n",
      "Epoch 0/1, Validation: 100%|████████████████████████| 1999/1999 [00:35<00:00, 55.78it/s]\n",
      "Epoch 0/1, Validation: 100%|████████████████████████| 1999/1999 [00:35<00:00, 56.07it/s]\n"
     ]
    },
    {
     "name": "stdout",
     "output_type": "stream",
     "text": [
      "True Positive:1305103, True Negative:102475, False Positive:588943, False Negative:50409\n"
     ]
    }
   ],
   "source": [
    "predict_agg = []\n",
    "target_agg = []\n",
    "\n",
    "for model in model_list:\n",
    "    \n",
    "    test_dataloader = data.DataLoader(\n",
    "        data.TensorDataset(test_x,test_y), \n",
    "        batch_size=BATCH_SIZE, shuffle=False, num_workers=16, pin_memory=True)\n",
    "\n",
    "    progress_validation_epoch = tqdm(\n",
    "        test_dataloader, \n",
    "        desc=f'Epoch {epoch_idx}/{NUM_EPOCHS}, Validation',\n",
    "        miniters=1, ncols=88, position=0, \n",
    "        leave=True, total=len(test_dataloader), smoothing=.9)\n",
    "    \n",
    "    predict = []\n",
    "    target = []\n",
    "    model.eval()\n",
    "    with torch.no_grad():\n",
    "        for idx, (batch_input, batch_target) in enumerate(progress_validation_epoch):\n",
    "            batch_input = batch_input.cuda()\n",
    "            batch_target = batch_target.cuda()\n",
    "            batch_predict = model(batch_input)\n",
    "            predict.append(batch_predict.argmax(dim=1).cpu().numpy())\n",
    "            target.append(batch_target.cpu().numpy())        \n",
    "    predict = np.concatenate(predict, axis=0)\n",
    "    target = np.concatenate(target, axis=0)\n",
    "    \n",
    "    predict_agg.append(predict)\n",
    "    target_agg.append(target)\n",
    "\n",
    "predict = (np.array(predict_agg).sum(axis=0) > 1.5)\n",
    "target = target_agg[0]\n",
    "tp = predict[target==1].sum()\n",
    "tn = (target==0).sum() - predict[target==0].sum()\n",
    "fp = predict[target==0].sum()\n",
    "fn = (target==1).sum() - predict[target==1].sum()\n",
    "print(f'True Positive:{tp}, '\n",
    "      f'True Negative:{tn}, '\n",
    "      f'False Positive:{fp}, '\n",
    "      f'False Negative:{fn}')\n",
    "#print(f'True Positive:{predict[target==1].sum()}, '\n",
    "      #f'True Negative:{(target==0).sum() - predict[target==0].sum()}, '\n",
    "      #f'False Positive:{predict[target==0].sum()}, '\n",
    "      #f'False Negative:{(target==1).sum() - predict[target==1].sum()}')"
   ]
  },
  {
   "cell_type": "code",
   "execution_count": 19,
   "metadata": {},
   "outputs": [
    {
     "name": "stdout",
     "output_type": "stream",
     "text": [
      "Accuracy:0.687653217257063, Positive Accuracy:0.6890555984384751, Negative Accuracy:0.6702794275398342, Weighted Accuracy:0.6796675129891546\n"
     ]
    }
   ],
   "source": [
    "accr = (tp+tn)/(tp+tn+fp+fn)\n",
    "posaccr = tp/(tp+fp)\n",
    "negaccr = tn/(tn+fn)\n",
    "print(f'Accuracy:{accr}, '\n",
    "      f'Positive Accuracy:{posaccr}, '\n",
    "      f'Negative Accuracy:{negaccr}, '\n",
    "      f'Weighted Accuracy:{0.5*(posaccr+negaccr)}')"
   ]
  },
  {
   "cell_type": "code",
   "execution_count": null,
   "metadata": {},
   "outputs": [],
   "source": []
  }
 ],
 "metadata": {
  "kernelspec": {
   "display_name": "Python 3",
   "language": "python",
   "name": "python3"
  },
  "language_info": {
   "codemirror_mode": {
    "name": "ipython",
    "version": 3
   },
   "file_extension": ".py",
   "mimetype": "text/x-python",
   "name": "python",
   "nbconvert_exporter": "python",
   "pygments_lexer": "ipython3",
   "version": "3.7.5"
  }
 },
 "nbformat": 4,
 "nbformat_minor": 2
}
