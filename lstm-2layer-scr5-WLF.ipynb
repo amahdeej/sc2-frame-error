{
 "cells": [
  {
   "cell_type": "markdown",
   "metadata": {},
   "source": [
    "# Libraries"
   ]
  },
  {
   "cell_type": "code",
   "execution_count": 1,
   "metadata": {},
   "outputs": [],
   "source": [
    "import sqlite3\n",
    "import numpy as np\n",
    "from collections import OrderedDict, namedtuple\n",
    "from distutils.spawn import find_executable\n",
    "import matplotlib.pyplot as plt\n",
    "\n",
    "import sys\n",
    "import subprocess\n",
    "import pathlib\n",
    "import tempfile\n",
    "import importlib\n",
    "import os\n",
    "import time\n",
    "import random\n",
    "import pickle\n",
    "\n",
    "import math\n",
    "\n",
    "from configparser import ConfigParser\n",
    "\n",
    "# from google.protobuf.json_format import MessageToDict"
   ]
  },
  {
   "cell_type": "code",
   "execution_count": 2,
   "metadata": {},
   "outputs": [],
   "source": [
    "# DEVICE = 0\n",
    "\n",
    "import os\n",
    "import time\n",
    "import pickle\n",
    "import numpy as np\n",
    "from tqdm import tqdm\n",
    "import matplotlib.pyplot as plt\n",
    "import seaborn as sn\n",
    "import pandas as pd\n",
    "\n",
    "import torch\n",
    "torch.backends.cudnn.benchmark = True\n",
    "import torch.optim as optim\n",
    "import torch.nn as nn\n",
    "import torch.nn.functional as F\n",
    "from torch.autograd import Variable\n",
    "from torch.utils import data\n",
    "\n",
    "# torch.cuda.set_device(DEVICE)\n",
    "torch.cuda.empty_cache() \n",
    "torch.backends.cudnn.benchmark=True"
   ]
  },
  {
   "cell_type": "code",
   "execution_count": 3,
   "metadata": {},
   "outputs": [],
   "source": [
    "np.random.seed(0)\n",
    "torch.manual_seed(0)\n",
    "\n",
    "import os\n",
    "os.environ['CUDA_VISIBLE_DEVICES']='1'"
   ]
  },
  {
   "cell_type": "markdown",
   "metadata": {},
   "source": [
    "# load the dataset"
   ]
  },
  {
   "cell_type": "code",
   "execution_count": 4,
   "metadata": {},
   "outputs": [],
   "source": [
    "with open('scrimmage5_link_dataset.pickle', 'rb') as file:\n",
    "    link_dataset = pickle.load(file)"
   ]
  },
  {
   "cell_type": "code",
   "execution_count": 5,
   "metadata": {},
   "outputs": [],
   "source": [
    "train_data = link_dataset[:400] \n",
    "test_data = link_dataset[400:]"
   ]
  },
  {
   "cell_type": "code",
   "execution_count": 6,
   "metadata": {},
   "outputs": [],
   "source": [
    "class LSTMTagger(nn.Module):\n",
    "\n",
    "    def __init__(self, embedding_dim, hidden_dim, tagset_size):\n",
    "        super(LSTMTagger, self).__init__()\n",
    "        self.hidden_dim = hidden_dim\n",
    "\n",
    "        # The LSTM takes word embeddings as inputs, and outputs hidden states\n",
    "        # with dimensionality hidden_dim.\n",
    "        self.lstm = nn.LSTM(embedding_dim, hidden_dim, 2)\n",
    "\n",
    "        # The linear layer that maps from hidden state space to tag space\n",
    "        self.hidden2tag = nn.Linear(hidden_dim, tagset_size)\n",
    "\n",
    "    def forward(self, sentence):\n",
    "        lstm_out, _ = self.lstm(sentence.view(len(sentence), 1, -1))\n",
    "        tag_space = self.hidden2tag(lstm_out.view(len(sentence), -1))\n",
    "        tag_scores = F.log_softmax(tag_space, dim=1)\n",
    "        return tag_scores"
   ]
  },
  {
   "cell_type": "markdown",
   "metadata": {},
   "source": [
    "# Train Model 10 Epoch"
   ]
  },
  {
   "cell_type": "code",
   "execution_count": 7,
   "metadata": {
    "scrolled": false
   },
   "outputs": [
    {
     "name": "stderr",
     "output_type": "stream",
     "text": [
      "Epoch 0/10, Training: 100%|███████████████████████████| 400/400 [29:17<00:00,  4.39s/it]\n",
      "Epoch 0/10, Validation: 100%|█████████████████████████| 227/227 [37:01<00:00,  9.79s/it]\n",
      "Epoch 1/10, Validation:   0%|                                   | 0/227 [00:00<?, ?it/s]"
     ]
    },
    {
     "name": "stdout",
     "output_type": "stream",
     "text": [
      "train loss: 0.62462, test loss: 0.59115\n"
     ]
    },
    {
     "name": "stderr",
     "output_type": "stream",
     "text": [
      "Epoch 1/10, Training: 100%|███████████████████████████| 400/400 [29:35<00:00,  4.44s/it]\n",
      "Epoch 1/10, Validation: 100%|█████████████████████████| 227/227 [37:17<00:00,  9.86s/it]\n",
      "Epoch 2/10, Validation:   0%|                                   | 0/227 [00:00<?, ?it/s]"
     ]
    },
    {
     "name": "stdout",
     "output_type": "stream",
     "text": [
      "train loss: 0.59980, test loss: 0.59602\n"
     ]
    },
    {
     "name": "stderr",
     "output_type": "stream",
     "text": [
      "Epoch 2/10, Training: 100%|███████████████████████████| 400/400 [29:23<00:00,  4.41s/it]\n",
      "Epoch 2/10, Validation: 100%|█████████████████████████| 227/227 [37:07<00:00,  9.81s/it]\n",
      "Epoch 3/10, Validation:   0%|                                   | 0/227 [00:00<?, ?it/s]"
     ]
    },
    {
     "name": "stdout",
     "output_type": "stream",
     "text": [
      "train loss: 0.59599, test loss: 0.59422\n"
     ]
    },
    {
     "name": "stderr",
     "output_type": "stream",
     "text": [
      "Epoch 3/10, Training: 100%|███████████████████████████| 400/400 [29:33<00:00,  4.43s/it]\n",
      "Epoch 3/10, Validation: 100%|█████████████████████████| 227/227 [37:17<00:00,  9.86s/it]\n",
      "Epoch 4/10, Validation:   0%|                                   | 0/227 [00:00<?, ?it/s]"
     ]
    },
    {
     "name": "stdout",
     "output_type": "stream",
     "text": [
      "train loss: 0.59221, test loss: 0.59120\n"
     ]
    },
    {
     "name": "stderr",
     "output_type": "stream",
     "text": [
      "Epoch 4/10, Training: 100%|███████████████████████████| 400/400 [29:31<00:00,  4.43s/it]\n",
      "Epoch 4/10, Validation: 100%|█████████████████████████| 227/227 [37:18<00:00,  9.86s/it]\n",
      "Epoch 5/10, Validation:   0%|                                   | 0/227 [00:00<?, ?it/s]"
     ]
    },
    {
     "name": "stdout",
     "output_type": "stream",
     "text": [
      "train loss: 0.58893, test loss: 0.59022\n"
     ]
    },
    {
     "name": "stderr",
     "output_type": "stream",
     "text": [
      "Epoch 5/10, Training: 100%|███████████████████████████| 400/400 [29:43<00:00,  4.46s/it]\n",
      "Epoch 5/10, Validation: 100%|█████████████████████████| 227/227 [37:31<00:00,  9.92s/it]\n",
      "Epoch 6/10, Validation:   0%|                                   | 0/227 [00:00<?, ?it/s]"
     ]
    },
    {
     "name": "stdout",
     "output_type": "stream",
     "text": [
      "train loss: 0.58573, test loss: 0.59415\n"
     ]
    },
    {
     "name": "stderr",
     "output_type": "stream",
     "text": [
      "Epoch 6/10, Training: 100%|███████████████████████████| 400/400 [29:50<00:00,  4.48s/it]\n",
      "Epoch 6/10, Validation: 100%|█████████████████████████| 227/227 [37:43<00:00,  9.97s/it]\n",
      "Epoch 7/10, Validation:   0%|                                   | 0/227 [00:00<?, ?it/s]"
     ]
    },
    {
     "name": "stdout",
     "output_type": "stream",
     "text": [
      "train loss: 0.58357, test loss: 0.59868\n"
     ]
    },
    {
     "name": "stderr",
     "output_type": "stream",
     "text": [
      "Epoch 7/10, Training: 100%|███████████████████████████| 400/400 [29:50<00:00,  4.48s/it]\n",
      "Epoch 7/10, Validation: 100%|█████████████████████████| 227/227 [37:43<00:00,  9.97s/it]\n",
      "Epoch 8/10, Validation:   0%|                                   | 0/227 [00:00<?, ?it/s]"
     ]
    },
    {
     "name": "stdout",
     "output_type": "stream",
     "text": [
      "train loss: 0.57990, test loss: 0.60153\n"
     ]
    },
    {
     "name": "stderr",
     "output_type": "stream",
     "text": [
      "Epoch 8/10, Training: 100%|███████████████████████████| 400/400 [29:55<00:00,  4.49s/it]\n",
      "Epoch 8/10, Validation: 100%|█████████████████████████| 227/227 [37:49<00:00, 10.00s/it]\n",
      "Epoch 9/10, Validation:   0%|                                   | 0/227 [00:00<?, ?it/s]"
     ]
    },
    {
     "name": "stdout",
     "output_type": "stream",
     "text": [
      "train loss: 0.57574, test loss: 0.60103\n"
     ]
    },
    {
     "name": "stderr",
     "output_type": "stream",
     "text": [
      "Epoch 9/10, Training: 100%|███████████████████████████| 400/400 [29:57<00:00,  4.49s/it]\n",
      "Epoch 9/10, Validation: 100%|█████████████████████████| 227/227 [37:53<00:00, 10.01s/it]"
     ]
    },
    {
     "name": "stdout",
     "output_type": "stream",
     "text": [
      "train loss: 0.57293, test loss: 0.61177\n"
     ]
    },
    {
     "name": "stderr",
     "output_type": "stream",
     "text": [
      "\n"
     ]
    }
   ],
   "source": [
    "EMBEDDING_DIM = 20\n",
    "HIDDEN_DIM = 100\n",
    "TAGSET_SIZE = 2\n",
    "NUM_EPOCHS = 10\n",
    "\n",
    "model = LSTMTagger(EMBEDDING_DIM, HIDDEN_DIM, TAGSET_SIZE).cuda()\n",
    "model.cuda()\n",
    "\n",
    "loss_function = nn.NLLLoss(weight=torch.tensor([2.0,1.0])).cuda()\n",
    "optimizer = optim.Adam(model.parameters(), 0.001)\n",
    "\n",
    "for epoch_idx in range(NUM_EPOCHS): \n",
    "\n",
    "    progress_training_epoch = tqdm(\n",
    "        train_data, \n",
    "        desc=f'Epoch {epoch_idx}/{NUM_EPOCHS}, Training',\n",
    "        miniters=1, ncols=88, position=0,\n",
    "        leave=True, total=len(train_data), smoothing=.9)\n",
    "\n",
    "    progress_validation_epoch = tqdm(\n",
    "        test_data, \n",
    "        desc=f'Epoch {epoch_idx}/{NUM_EPOCHS}, Validation',\n",
    "        miniters=1, ncols=88, position=0, \n",
    "        leave=True, total=len(test_data), smoothing=.9)\n",
    "\n",
    "    train_loss = 0\n",
    "    train_size = 0\n",
    "    model.train()\n",
    "    for idx, (sentence, tags) in enumerate(progress_training_epoch):\n",
    "        sentence = sentence.cuda()\n",
    "        tags = tags.cuda()\n",
    "        model.zero_grad()\n",
    "        tag_scores = model(sentence)\n",
    "        loss = loss_function(tag_scores, tags)\n",
    "        loss.backward()\n",
    "        optimizer.step()\n",
    "        train_loss += loss * tags.size()[0]\n",
    "        train_size += tags.size()[0]\n",
    "\n",
    "    test_loss = 0\n",
    "    test_size = 0\n",
    "    predict = []\n",
    "    target = []\n",
    "    model.eval()\n",
    "    with torch.no_grad():\n",
    "        for idx, (sentence, tags) in enumerate(progress_validation_epoch):\n",
    "            sentence = sentence.cuda()\n",
    "            tags = tags.cuda()\n",
    "            tag_scores = model(sentence)\n",
    "            loss = loss_function(tag_scores, tags)\n",
    "            predict.append(tag_scores.argmax(dim=1).cpu().numpy())\n",
    "            target.append(tags.cpu().numpy())        \n",
    "            test_loss += loss * tags.size()[0]\n",
    "            test_size += tags.size()[0]\n",
    "    predict = np.concatenate(predict, axis=0)\n",
    "    target = np.concatenate(target, axis=0)\n",
    "\n",
    "    print(f'train loss:{train_loss.item()/train_size: .5f}, '\n",
    "          f'test loss:{test_loss.item()/test_size: .5f}')"
   ]
  },
  {
   "cell_type": "markdown",
   "metadata": {},
   "source": [
    "# Test"
   ]
  },
  {
   "cell_type": "code",
   "execution_count": 8,
   "metadata": {},
   "outputs": [
    {
     "name": "stderr",
     "output_type": "stream",
     "text": [
      "Epoch 9/10, Validation: 100%|█████████████████████████| 227/227 [07:51<00:00,  2.08s/it]"
     ]
    },
    {
     "name": "stdout",
     "output_type": "stream",
     "text": [
      "True Positive:2128194, True Negative:639025, False Positive:481819, False Negative:813612\n"
     ]
    },
    {
     "name": "stderr",
     "output_type": "stream",
     "text": [
      "\n"
     ]
    }
   ],
   "source": [
    "progress_validation_epoch = tqdm(\n",
    "    test_data, \n",
    "    desc=f'Epoch {epoch_idx}/{NUM_EPOCHS}, Validation',\n",
    "    miniters=1, ncols=88, position=0, \n",
    "    leave=True, total=len(test_data), smoothing=.9)\n",
    "\n",
    "predict = []\n",
    "target = []\n",
    "model.eval()\n",
    "with torch.no_grad():\n",
    "    for idx, (sentence, tags) in enumerate(progress_validation_epoch):\n",
    "        sentence = sentence.cuda()\n",
    "        tags = tags.cuda()\n",
    "        tag_scores = model(sentence)\n",
    "        predict.append(tag_scores.argmax(dim=1).cpu().numpy())\n",
    "        target.append(tags.cpu().numpy())\n",
    "        \n",
    "predict = np.concatenate(predict, axis=0)\n",
    "target = np.concatenate(target, axis=0)\n",
    "tp = predict[target==1].sum()\n",
    "tn = (target==0).sum() - predict[target==0].sum()\n",
    "fp = predict[target==0].sum()\n",
    "fn = (target==1).sum() - predict[target==1].sum()\n",
    "\n",
    "print(f'True Positive:{tp}, '\n",
    "      f'True Negative:{tn}, '\n",
    "      f'False Positive:{fp}, '\n",
    "      f'False Negative:{fn}')\n"
   ]
  },
  {
   "cell_type": "code",
   "execution_count": 9,
   "metadata": {},
   "outputs": [
    {
     "name": "stdout",
     "output_type": "stream",
     "text": [
      "Accuracy:0.6811364503464488, Positive Accuracy:0.8153959386409186, Negative Accuracy:0.43990687281130797, Weighted Accuracy:0.6276514057261133\n"
     ]
    }
   ],
   "source": [
    "accr = (tp+tn)/(tp+tn+fp+fn)\n",
    "posaccr = tp/(tp+fp)\n",
    "negaccr = tn/(tn+fn)\n",
    "print(f'Accuracy:{accr}, '\n",
    "      f'Positive Accuracy:{posaccr}, '\n",
    "      f'Negative Accuracy:{negaccr}, '\n",
    "      f'Weighted Accuracy:{0.5*(posaccr+negaccr)}')"
   ]
  },
  {
   "cell_type": "markdown",
   "metadata": {},
   "source": [
    "# Bagging 9"
   ]
  },
  {
   "cell_type": "code",
   "execution_count": 10,
   "metadata": {},
   "outputs": [],
   "source": [
    "with open('scrimmage5_link_dataset.pickle', 'rb') as file:\n",
    "    link_dataset = pickle.load(file)"
   ]
  },
  {
   "cell_type": "code",
   "execution_count": 11,
   "metadata": {},
   "outputs": [
    {
     "name": "stderr",
     "output_type": "stream",
     "text": [
      "Epoch 0/6, Training: 100%|████████████████████████████| 200/200 [13:45<00:00,  4.13s/it]\n",
      "Epoch 0/6, Validation: 100%|██████████████████████████| 227/227 [21:23<00:00,  5.65s/it]\n",
      "Epoch 1/6, Validation:   0%|                                    | 0/227 [00:00<?, ?it/s]"
     ]
    },
    {
     "name": "stdout",
     "output_type": "stream",
     "text": [
      "train loss: 0.61099, test loss: 0.59136\n"
     ]
    },
    {
     "name": "stderr",
     "output_type": "stream",
     "text": [
      "Epoch 1/6, Training: 100%|████████████████████████████| 200/200 [13:43<00:00,  4.12s/it]\n",
      "Epoch 1/6, Validation: 100%|██████████████████████████| 227/227 [21:22<00:00,  5.65s/it]\n",
      "Epoch 2/6, Validation:   0%|                                    | 0/227 [00:00<?, ?it/s]"
     ]
    },
    {
     "name": "stdout",
     "output_type": "stream",
     "text": [
      "train loss: 0.56906, test loss: 0.60457\n"
     ]
    },
    {
     "name": "stderr",
     "output_type": "stream",
     "text": [
      "Epoch 2/6, Training: 100%|████████████████████████████| 200/200 [13:45<00:00,  4.13s/it]\n",
      "Epoch 2/6, Validation: 100%|██████████████████████████| 227/227 [21:27<00:00,  5.67s/it]\n",
      "Epoch 3/6, Validation:   0%|                                    | 0/227 [00:00<?, ?it/s]"
     ]
    },
    {
     "name": "stdout",
     "output_type": "stream",
     "text": [
      "train loss: 0.55922, test loss: 0.59632\n"
     ]
    },
    {
     "name": "stderr",
     "output_type": "stream",
     "text": [
      "Epoch 3/6, Training: 100%|████████████████████████████| 200/200 [13:45<00:00,  4.13s/it]\n",
      "Epoch 3/6, Validation: 100%|██████████████████████████| 227/227 [21:28<00:00,  5.68s/it]\n",
      "Epoch 4/6, Validation:   0%|                                    | 0/227 [00:00<?, ?it/s]"
     ]
    },
    {
     "name": "stdout",
     "output_type": "stream",
     "text": [
      "train loss: 0.55676, test loss: 0.59354\n"
     ]
    },
    {
     "name": "stderr",
     "output_type": "stream",
     "text": [
      "Epoch 4/6, Training: 100%|████████████████████████████| 200/200 [13:49<00:00,  4.15s/it]\n",
      "Epoch 4/6, Validation: 100%|██████████████████████████| 227/227 [21:35<00:00,  5.71s/it]\n",
      "Epoch 5/6, Validation:   0%|                                    | 0/227 [00:00<?, ?it/s]"
     ]
    },
    {
     "name": "stdout",
     "output_type": "stream",
     "text": [
      "train loss: 0.54955, test loss: 0.59807\n"
     ]
    },
    {
     "name": "stderr",
     "output_type": "stream",
     "text": [
      "Epoch 5/6, Training: 100%|████████████████████████████| 200/200 [13:47<00:00,  4.14s/it]\n",
      "Epoch 5/6, Validation: 100%|██████████████████████████| 227/227 [21:39<00:00,  5.73s/it]\n",
      "Epoch 0/6, Validation:   0%|                                    | 0/227 [00:00<?, ?it/s]"
     ]
    },
    {
     "name": "stdout",
     "output_type": "stream",
     "text": [
      "train loss: 0.54800, test loss: 0.60132\n"
     ]
    },
    {
     "name": "stderr",
     "output_type": "stream",
     "text": [
      "Epoch 0/6, Training: 100%|████████████████████████████| 200/200 [13:41<00:00,  4.11s/it]\n",
      "Epoch 0/6, Validation: 100%|██████████████████████████| 227/227 [21:22<00:00,  5.65s/it]\n",
      "Epoch 1/6, Validation:   0%|                                    | 0/227 [00:00<?, ?it/s]"
     ]
    },
    {
     "name": "stdout",
     "output_type": "stream",
     "text": [
      "train loss: 0.60224, test loss: 0.63380\n"
     ]
    },
    {
     "name": "stderr",
     "output_type": "stream",
     "text": [
      "Epoch 1/6, Training: 100%|████████████████████████████| 200/200 [13:45<00:00,  4.13s/it]\n",
      "Epoch 1/6, Validation: 100%|██████████████████████████| 227/227 [21:30<00:00,  5.69s/it]\n",
      "Epoch 2/6, Validation:   0%|                                    | 0/227 [00:00<?, ?it/s]"
     ]
    },
    {
     "name": "stdout",
     "output_type": "stream",
     "text": [
      "train loss: 0.56798, test loss: 0.63242\n"
     ]
    },
    {
     "name": "stderr",
     "output_type": "stream",
     "text": [
      "Epoch 2/6, Training: 100%|████████████████████████████| 200/200 [13:50<00:00,  4.15s/it]\n",
      "Epoch 2/6, Validation: 100%|██████████████████████████| 227/227 [21:32<00:00,  5.69s/it]\n",
      "Epoch 3/6, Validation:   0%|                                    | 0/227 [00:00<?, ?it/s]"
     ]
    },
    {
     "name": "stdout",
     "output_type": "stream",
     "text": [
      "train loss: 0.55615, test loss: 0.62994\n"
     ]
    },
    {
     "name": "stderr",
     "output_type": "stream",
     "text": [
      "Epoch 3/6, Training: 100%|████████████████████████████| 200/200 [13:51<00:00,  4.16s/it]\n",
      "Epoch 3/6, Validation: 100%|██████████████████████████| 227/227 [21:36<00:00,  5.71s/it]\n",
      "Epoch 4/6, Validation:   0%|                                    | 0/227 [00:00<?, ?it/s]"
     ]
    },
    {
     "name": "stdout",
     "output_type": "stream",
     "text": [
      "train loss: 0.55237, test loss: 0.63047\n"
     ]
    },
    {
     "name": "stderr",
     "output_type": "stream",
     "text": [
      "Epoch 4/6, Training: 100%|████████████████████████████| 200/200 [13:51<00:00,  4.16s/it]\n",
      "Epoch 4/6, Validation: 100%|██████████████████████████| 227/227 [21:37<00:00,  5.71s/it]\n",
      "Epoch 5/6, Validation:   0%|                                    | 0/227 [00:00<?, ?it/s]"
     ]
    },
    {
     "name": "stdout",
     "output_type": "stream",
     "text": [
      "train loss: 0.54562, test loss: 0.62876\n"
     ]
    },
    {
     "name": "stderr",
     "output_type": "stream",
     "text": [
      "Epoch 5/6, Training: 100%|████████████████████████████| 200/200 [13:53<00:00,  4.17s/it]\n",
      "Epoch 5/6, Validation: 100%|██████████████████████████| 227/227 [21:38<00:00,  5.72s/it]\n",
      "Epoch 0/6, Validation:   0%|                                    | 0/227 [00:00<?, ?it/s]"
     ]
    },
    {
     "name": "stdout",
     "output_type": "stream",
     "text": [
      "train loss: 0.53827, test loss: 0.62322\n"
     ]
    },
    {
     "name": "stderr",
     "output_type": "stream",
     "text": [
      "Epoch 0/6, Training: 100%|████████████████████████████| 200/200 [13:27<00:00,  4.04s/it]\n",
      "Epoch 0/6, Validation: 100%|██████████████████████████| 227/227 [21:03<00:00,  5.57s/it]\n",
      "Epoch 1/6, Validation:   0%|                                    | 0/227 [00:00<?, ?it/s]"
     ]
    },
    {
     "name": "stdout",
     "output_type": "stream",
     "text": [
      "train loss: 0.59495, test loss: 0.62701\n"
     ]
    },
    {
     "name": "stderr",
     "output_type": "stream",
     "text": [
      "Epoch 1/6, Training: 100%|████████████████████████████| 200/200 [13:33<00:00,  4.07s/it]\n",
      "Epoch 1/6, Validation: 100%|██████████████████████████| 227/227 [21:12<00:00,  5.61s/it]\n",
      "Epoch 2/6, Validation:   0%|                                    | 0/227 [00:00<?, ?it/s]"
     ]
    },
    {
     "name": "stdout",
     "output_type": "stream",
     "text": [
      "train loss: 0.55995, test loss: 0.61581\n"
     ]
    },
    {
     "name": "stderr",
     "output_type": "stream",
     "text": [
      "Epoch 2/6, Training: 100%|████████████████████████████| 200/200 [13:34<00:00,  4.07s/it]\n",
      "Epoch 2/6, Validation: 100%|██████████████████████████| 227/227 [21:13<00:00,  5.61s/it]\n",
      "Epoch 3/6, Validation:   0%|                                    | 0/227 [00:00<?, ?it/s]"
     ]
    },
    {
     "name": "stdout",
     "output_type": "stream",
     "text": [
      "train loss: 0.55219, test loss: 0.61602\n"
     ]
    },
    {
     "name": "stderr",
     "output_type": "stream",
     "text": [
      "Epoch 3/6, Training: 100%|████████████████████████████| 200/200 [13:30<00:00,  4.05s/it]\n",
      "Epoch 3/6, Validation: 100%|██████████████████████████| 227/227 [21:10<00:00,  5.60s/it]\n",
      "Epoch 4/6, Validation:   0%|                                    | 0/227 [00:00<?, ?it/s]"
     ]
    },
    {
     "name": "stdout",
     "output_type": "stream",
     "text": [
      "train loss: 0.54936, test loss: 0.61430\n"
     ]
    },
    {
     "name": "stderr",
     "output_type": "stream",
     "text": [
      "Epoch 4/6, Training: 100%|████████████████████████████| 200/200 [13:34<00:00,  4.07s/it]\n",
      "Epoch 4/6, Validation: 100%|██████████████████████████| 227/227 [21:16<00:00,  5.63s/it]\n",
      "Epoch 5/6, Validation:   0%|                                    | 0/227 [00:00<?, ?it/s]"
     ]
    },
    {
     "name": "stdout",
     "output_type": "stream",
     "text": [
      "train loss: 0.54453, test loss: 0.61784\n"
     ]
    },
    {
     "name": "stderr",
     "output_type": "stream",
     "text": [
      "Epoch 5/6, Training: 100%|████████████████████████████| 200/200 [13:36<00:00,  4.08s/it]\n",
      "Epoch 5/6, Validation: 100%|██████████████████████████| 227/227 [21:22<00:00,  5.65s/it]\n",
      "Epoch 0/6, Validation:   0%|                                    | 0/227 [00:00<?, ?it/s]"
     ]
    },
    {
     "name": "stdout",
     "output_type": "stream",
     "text": [
      "train loss: 0.54198, test loss: 0.61634\n"
     ]
    },
    {
     "name": "stderr",
     "output_type": "stream",
     "text": [
      "Epoch 0/6, Training: 100%|████████████████████████████| 200/200 [14:35<00:00,  4.38s/it]\n",
      "Epoch 0/6, Validation: 100%|██████████████████████████| 227/227 [22:21<00:00,  5.91s/it]\n",
      "Epoch 1/6, Validation:   0%|                                    | 0/227 [00:00<?, ?it/s]"
     ]
    },
    {
     "name": "stdout",
     "output_type": "stream",
     "text": [
      "train loss: 0.62939, test loss: 0.62505\n"
     ]
    },
    {
     "name": "stderr",
     "output_type": "stream",
     "text": [
      "Epoch 1/6, Training: 100%|████████████████████████████| 200/200 [14:40<00:00,  4.40s/it]\n",
      "Epoch 1/6, Validation: 100%|██████████████████████████| 227/227 [22:24<00:00,  5.92s/it]\n",
      "Epoch 2/6, Validation:   0%|                                    | 0/227 [00:00<?, ?it/s]"
     ]
    },
    {
     "name": "stdout",
     "output_type": "stream",
     "text": [
      "train loss: 0.58376, test loss: 0.62065\n"
     ]
    },
    {
     "name": "stderr",
     "output_type": "stream",
     "text": [
      "Epoch 2/6, Training: 100%|████████████████████████████| 200/200 [14:39<00:00,  4.40s/it]\n",
      "Epoch 2/6, Validation: 100%|██████████████████████████| 227/227 [22:23<00:00,  5.92s/it]\n",
      "Epoch 3/6, Validation:   0%|                                    | 0/227 [00:00<?, ?it/s]"
     ]
    },
    {
     "name": "stdout",
     "output_type": "stream",
     "text": [
      "train loss: 0.57040, test loss: 0.62203\n"
     ]
    },
    {
     "name": "stderr",
     "output_type": "stream",
     "text": [
      "Epoch 3/6, Training: 100%|████████████████████████████| 200/200 [14:41<00:00,  4.41s/it]\n",
      "Epoch 3/6, Validation: 100%|██████████████████████████| 227/227 [22:26<00:00,  5.93s/it]\n",
      "Epoch 4/6, Validation:   0%|                                    | 0/227 [00:00<?, ?it/s]"
     ]
    },
    {
     "name": "stdout",
     "output_type": "stream",
     "text": [
      "train loss: 0.56439, test loss: 0.62565\n"
     ]
    },
    {
     "name": "stderr",
     "output_type": "stream",
     "text": [
      "Epoch 4/6, Training: 100%|████████████████████████████| 200/200 [14:38<00:00,  4.39s/it]\n",
      "Epoch 4/6, Validation: 100%|██████████████████████████| 227/227 [22:26<00:00,  5.93s/it]\n",
      "Epoch 5/6, Validation:   0%|                                    | 0/227 [00:00<?, ?it/s]"
     ]
    },
    {
     "name": "stdout",
     "output_type": "stream",
     "text": [
      "train loss: 0.56029, test loss: 0.62465\n"
     ]
    },
    {
     "name": "stderr",
     "output_type": "stream",
     "text": [
      "Epoch 5/6, Training: 100%|████████████████████████████| 200/200 [14:42<00:00,  4.41s/it]\n",
      "Epoch 5/6, Validation: 100%|██████████████████████████| 227/227 [22:31<00:00,  5.95s/it]\n",
      "Epoch 0/6, Validation:   0%|                                    | 0/227 [00:00<?, ?it/s]"
     ]
    },
    {
     "name": "stdout",
     "output_type": "stream",
     "text": [
      "train loss: 0.55264, test loss: 0.61949\n"
     ]
    },
    {
     "name": "stderr",
     "output_type": "stream",
     "text": [
      "Epoch 0/6, Training: 100%|████████████████████████████| 200/200 [13:43<00:00,  4.12s/it]\n",
      "Epoch 0/6, Validation: 100%|██████████████████████████| 227/227 [21:28<00:00,  5.68s/it]\n",
      "Epoch 1/6, Validation:   0%|                                    | 0/227 [00:00<?, ?it/s]"
     ]
    },
    {
     "name": "stdout",
     "output_type": "stream",
     "text": [
      "train loss: 0.59914, test loss: 0.63081\n"
     ]
    },
    {
     "name": "stderr",
     "output_type": "stream",
     "text": [
      "Epoch 1/6, Training: 100%|████████████████████████████| 200/200 [13:45<00:00,  4.13s/it]\n",
      "Epoch 1/6, Validation: 100%|██████████████████████████| 227/227 [21:32<00:00,  5.69s/it]\n",
      "Epoch 2/6, Validation:   0%|                                    | 0/227 [00:00<?, ?it/s]"
     ]
    },
    {
     "name": "stdout",
     "output_type": "stream",
     "text": [
      "train loss: 0.56043, test loss: 0.63105\n"
     ]
    },
    {
     "name": "stderr",
     "output_type": "stream",
     "text": [
      "Epoch 2/6, Training: 100%|████████████████████████████| 200/200 [13:41<00:00,  4.11s/it]\n",
      "Epoch 2/6, Validation: 100%|██████████████████████████| 227/227 [21:25<00:00,  5.66s/it]\n",
      "Epoch 3/6, Validation:   0%|                                    | 0/227 [00:00<?, ?it/s]"
     ]
    },
    {
     "name": "stdout",
     "output_type": "stream",
     "text": [
      "train loss: 0.55414, test loss: 0.62813\n"
     ]
    },
    {
     "name": "stderr",
     "output_type": "stream",
     "text": [
      "Epoch 3/6, Training: 100%|████████████████████████████| 200/200 [13:41<00:00,  4.11s/it]\n",
      "Epoch 3/6, Validation: 100%|██████████████████████████| 227/227 [21:25<00:00,  5.66s/it]\n",
      "Epoch 4/6, Validation:   0%|                                    | 0/227 [00:00<?, ?it/s]"
     ]
    },
    {
     "name": "stdout",
     "output_type": "stream",
     "text": [
      "train loss: 0.54915, test loss: 0.62742\n"
     ]
    },
    {
     "name": "stderr",
     "output_type": "stream",
     "text": [
      "Epoch 4/6, Training: 100%|████████████████████████████| 200/200 [12:48<00:00,  3.84s/it]\n",
      "Epoch 4/6, Validation: 100%|██████████████████████████| 227/227 [19:13<00:00,  5.08s/it]\n",
      "Epoch 5/6, Validation:   0%|                                    | 0/227 [00:00<?, ?it/s]"
     ]
    },
    {
     "name": "stdout",
     "output_type": "stream",
     "text": [
      "train loss: 0.54249, test loss: 0.61557\n"
     ]
    },
    {
     "name": "stderr",
     "output_type": "stream",
     "text": [
      "Epoch 5/6, Training: 100%|████████████████████████████| 200/200 [11:22<00:00,  3.41s/it]\n",
      "Epoch 5/6, Validation: 100%|██████████████████████████| 227/227 [17:15<00:00,  4.56s/it]\n",
      "Epoch 0/6, Validation:   0%|                                    | 0/227 [00:00<?, ?it/s]"
     ]
    },
    {
     "name": "stdout",
     "output_type": "stream",
     "text": [
      "train loss: 0.54015, test loss: 0.61802\n"
     ]
    },
    {
     "name": "stderr",
     "output_type": "stream",
     "text": [
      "Epoch 0/6, Training: 100%|████████████████████████████| 200/200 [09:25<00:00,  2.83s/it]\n",
      "Epoch 0/6, Validation: 100%|██████████████████████████| 227/227 [14:33<00:00,  3.85s/it]\n",
      "Epoch 1/6, Validation:   0%|                                    | 0/227 [00:00<?, ?it/s]"
     ]
    },
    {
     "name": "stdout",
     "output_type": "stream",
     "text": [
      "train loss: 0.62864, test loss: 0.60413\n"
     ]
    },
    {
     "name": "stderr",
     "output_type": "stream",
     "text": [
      "Epoch 1/6, Training: 100%|████████████████████████████| 200/200 [09:26<00:00,  2.83s/it]\n",
      "Epoch 1/6, Validation: 100%|██████████████████████████| 227/227 [14:33<00:00,  3.85s/it]\n",
      "Epoch 2/6, Validation:   0%|                                    | 0/227 [00:00<?, ?it/s]"
     ]
    },
    {
     "name": "stdout",
     "output_type": "stream",
     "text": [
      "train loss: 0.61235, test loss: 0.59824\n"
     ]
    },
    {
     "name": "stderr",
     "output_type": "stream",
     "text": [
      "Epoch 2/6, Training: 100%|████████████████████████████| 200/200 [09:29<00:00,  2.85s/it]\n",
      "Epoch 2/6, Validation: 100%|██████████████████████████| 227/227 [14:37<00:00,  3.87s/it]\n",
      "Epoch 3/6, Validation:   0%|                                    | 0/227 [00:00<?, ?it/s]"
     ]
    },
    {
     "name": "stdout",
     "output_type": "stream",
     "text": [
      "train loss: 0.60204, test loss: 0.59861\n"
     ]
    },
    {
     "name": "stderr",
     "output_type": "stream",
     "text": [
      "Epoch 3/6, Training: 100%|████████████████████████████| 200/200 [09:32<00:00,  2.86s/it]\n",
      "Epoch 3/6, Validation: 100%|██████████████████████████| 227/227 [14:41<00:00,  3.88s/it]\n",
      "Epoch 4/6, Validation:   0%|                                    | 0/227 [00:00<?, ?it/s]"
     ]
    },
    {
     "name": "stdout",
     "output_type": "stream",
     "text": [
      "train loss: 0.59527, test loss: 0.59165\n"
     ]
    },
    {
     "name": "stderr",
     "output_type": "stream",
     "text": [
      "Epoch 4/6, Training: 100%|████████████████████████████| 200/200 [09:35<00:00,  2.88s/it]\n",
      "Epoch 4/6, Validation: 100%|██████████████████████████| 227/227 [14:45<00:00,  3.90s/it]\n",
      "Epoch 5/6, Validation:   0%|                                    | 0/227 [00:00<?, ?it/s]"
     ]
    },
    {
     "name": "stdout",
     "output_type": "stream",
     "text": [
      "train loss: 0.58710, test loss: 0.60094\n"
     ]
    },
    {
     "name": "stderr",
     "output_type": "stream",
     "text": [
      "Epoch 5/6, Training: 100%|████████████████████████████| 200/200 [09:35<00:00,  2.88s/it]\n",
      "Epoch 5/6, Validation: 100%|██████████████████████████| 227/227 [14:47<00:00,  3.91s/it]\n",
      "Epoch 0/6, Validation:   0%|                                    | 0/227 [00:00<?, ?it/s]"
     ]
    },
    {
     "name": "stdout",
     "output_type": "stream",
     "text": [
      "train loss: 0.58256, test loss: 0.60136\n"
     ]
    },
    {
     "name": "stderr",
     "output_type": "stream",
     "text": [
      "Epoch 0/6, Training: 100%|████████████████████████████| 200/200 [09:25<00:00,  2.83s/it]\n",
      "Epoch 0/6, Validation: 100%|██████████████████████████| 227/227 [14:26<00:00,  3.82s/it]\n",
      "Epoch 1/6, Validation:   0%|                                    | 0/227 [00:00<?, ?it/s]"
     ]
    },
    {
     "name": "stdout",
     "output_type": "stream",
     "text": [
      "train loss: 0.61029, test loss: 0.61217\n"
     ]
    },
    {
     "name": "stderr",
     "output_type": "stream",
     "text": [
      "Epoch 1/6, Training: 100%|████████████████████████████| 200/200 [09:27<00:00,  2.84s/it]\n",
      "Epoch 1/6, Validation: 100%|██████████████████████████| 227/227 [14:06<00:00,  3.73s/it]\n",
      "Epoch 2/6, Validation:   0%|                                    | 0/227 [00:00<?, ?it/s]"
     ]
    },
    {
     "name": "stdout",
     "output_type": "stream",
     "text": [
      "train loss: 0.56779, test loss: 0.61311\n"
     ]
    },
    {
     "name": "stderr",
     "output_type": "stream",
     "text": [
      "Epoch 2/6, Training: 100%|████████████████████████████| 200/200 [07:02<00:00,  2.11s/it]\n",
      "Epoch 2/6, Validation: 100%|██████████████████████████| 227/227 [10:46<00:00,  2.85s/it]\n",
      "Epoch 3/6, Validation:   0%|                                    | 0/227 [00:00<?, ?it/s]"
     ]
    },
    {
     "name": "stdout",
     "output_type": "stream",
     "text": [
      "train loss: 0.55710, test loss: 0.61417\n"
     ]
    },
    {
     "name": "stderr",
     "output_type": "stream",
     "text": [
      "Epoch 3/6, Training: 100%|████████████████████████████| 200/200 [07:03<00:00,  2.12s/it]\n",
      "Epoch 3/6, Validation: 100%|██████████████████████████| 227/227 [10:48<00:00,  2.86s/it]\n",
      "Epoch 4/6, Validation:   0%|                                    | 0/227 [00:00<?, ?it/s]"
     ]
    },
    {
     "name": "stdout",
     "output_type": "stream",
     "text": [
      "train loss: 0.54917, test loss: 0.61401\n"
     ]
    },
    {
     "name": "stderr",
     "output_type": "stream",
     "text": [
      "Epoch 4/6, Training: 100%|████████████████████████████| 200/200 [07:04<00:00,  2.12s/it]\n",
      "Epoch 4/6, Validation: 100%|██████████████████████████| 227/227 [10:50<00:00,  2.86s/it]\n",
      "Epoch 5/6, Validation:   0%|                                    | 0/227 [00:00<?, ?it/s]"
     ]
    },
    {
     "name": "stdout",
     "output_type": "stream",
     "text": [
      "train loss: 0.54424, test loss: 0.60937\n"
     ]
    },
    {
     "name": "stderr",
     "output_type": "stream",
     "text": [
      "Epoch 5/6, Training: 100%|████████████████████████████| 200/200 [07:04<00:00,  2.12s/it]\n",
      "Epoch 5/6, Validation: 100%|██████████████████████████| 227/227 [10:49<00:00,  2.86s/it]\n",
      "Epoch 0/6, Validation:   0%|                                    | 0/227 [00:00<?, ?it/s]"
     ]
    },
    {
     "name": "stdout",
     "output_type": "stream",
     "text": [
      "train loss: 0.53772, test loss: 0.61378\n"
     ]
    },
    {
     "name": "stderr",
     "output_type": "stream",
     "text": [
      "Epoch 0/6, Training: 100%|████████████████████████████| 200/200 [06:52<00:00,  2.06s/it]\n",
      "Epoch 0/6, Validation: 100%|██████████████████████████| 227/227 [10:34<00:00,  2.80s/it]\n",
      "Epoch 1/6, Validation:   0%|                                    | 0/227 [00:00<?, ?it/s]"
     ]
    },
    {
     "name": "stdout",
     "output_type": "stream",
     "text": [
      "train loss: 0.63917, test loss: 0.62340\n"
     ]
    },
    {
     "name": "stderr",
     "output_type": "stream",
     "text": [
      "Epoch 1/6, Training: 100%|████████████████████████████| 200/200 [06:50<00:00,  2.05s/it]\n",
      "Epoch 1/6, Validation: 100%|██████████████████████████| 227/227 [10:32<00:00,  2.79s/it]\n",
      "Epoch 2/6, Validation:   0%|                                    | 0/227 [00:00<?, ?it/s]"
     ]
    },
    {
     "name": "stdout",
     "output_type": "stream",
     "text": [
      "train loss: 0.59162, test loss: 0.60991\n"
     ]
    },
    {
     "name": "stderr",
     "output_type": "stream",
     "text": [
      "Epoch 2/6, Training: 100%|████████████████████████████| 200/200 [04:52<00:00,  1.46s/it]\n",
      "Epoch 2/6, Validation: 100%|██████████████████████████| 227/227 [07:16<00:00,  1.92s/it]\n",
      "Epoch 3/6, Validation:   0%|                                    | 0/227 [00:00<?, ?it/s]"
     ]
    },
    {
     "name": "stdout",
     "output_type": "stream",
     "text": [
      "train loss: 0.58222, test loss: 0.60762\n"
     ]
    },
    {
     "name": "stderr",
     "output_type": "stream",
     "text": [
      "Epoch 3/6, Training: 100%|████████████████████████████| 200/200 [05:57<00:00,  1.79s/it]\n",
      "Epoch 3/6, Validation: 100%|██████████████████████████| 227/227 [09:34<00:00,  2.53s/it]\n",
      "Epoch 4/6, Validation:   0%|                                    | 0/227 [00:00<?, ?it/s]"
     ]
    },
    {
     "name": "stdout",
     "output_type": "stream",
     "text": [
      "train loss: 0.57680, test loss: 0.60819\n"
     ]
    },
    {
     "name": "stderr",
     "output_type": "stream",
     "text": [
      "Epoch 4/6, Training: 100%|████████████████████████████| 200/200 [06:50<00:00,  2.05s/it]\n",
      "Epoch 4/6, Validation: 100%|██████████████████████████| 227/227 [09:52<00:00,  2.61s/it]\n",
      "Epoch 5/6, Validation:   0%|                                    | 0/227 [00:00<?, ?it/s]"
     ]
    },
    {
     "name": "stdout",
     "output_type": "stream",
     "text": [
      "train loss: 0.57015, test loss: 0.60899\n"
     ]
    },
    {
     "name": "stderr",
     "output_type": "stream",
     "text": [
      "Epoch 5/6, Training: 100%|████████████████████████████| 200/200 [04:35<00:00,  1.38s/it]\n",
      "Epoch 5/6, Validation: 100%|██████████████████████████| 227/227 [06:06<00:00,  1.61s/it]\n",
      "Epoch 0/6, Validation:   0%|                                    | 0/227 [00:00<?, ?it/s]"
     ]
    },
    {
     "name": "stdout",
     "output_type": "stream",
     "text": [
      "train loss: 0.56480, test loss: 0.61387\n"
     ]
    },
    {
     "name": "stderr",
     "output_type": "stream",
     "text": [
      "Epoch 0/6, Training: 100%|████████████████████████████| 200/200 [02:37<00:00,  1.27it/s]\n",
      "Epoch 0/6, Validation: 100%|██████████████████████████| 227/227 [04:12<00:00,  1.11s/it]\n",
      "Epoch 1/6, Validation:   0%|                                    | 0/227 [00:00<?, ?it/s]"
     ]
    },
    {
     "name": "stdout",
     "output_type": "stream",
     "text": [
      "train loss: 0.62673, test loss: 0.60336\n"
     ]
    },
    {
     "name": "stderr",
     "output_type": "stream",
     "text": [
      "Epoch 1/6, Training: 100%|████████████████████████████| 200/200 [02:37<00:00,  1.27it/s]\n",
      "Epoch 1/6, Validation: 100%|██████████████████████████| 227/227 [04:12<00:00,  1.11s/it]\n",
      "Epoch 2/6, Validation:   0%|                                    | 0/227 [00:00<?, ?it/s]"
     ]
    },
    {
     "name": "stdout",
     "output_type": "stream",
     "text": [
      "train loss: 0.59132, test loss: 0.59986\n"
     ]
    },
    {
     "name": "stderr",
     "output_type": "stream",
     "text": [
      "Epoch 2/6, Training: 100%|████████████████████████████| 200/200 [02:37<00:00,  1.27it/s]\n",
      "Epoch 2/6, Validation: 100%|██████████████████████████| 227/227 [04:12<00:00,  1.11s/it]\n",
      "Epoch 3/6, Validation:   0%|                                    | 0/227 [00:00<?, ?it/s]"
     ]
    },
    {
     "name": "stdout",
     "output_type": "stream",
     "text": [
      "train loss: 0.58460, test loss: 0.59816\n"
     ]
    },
    {
     "name": "stderr",
     "output_type": "stream",
     "text": [
      "Epoch 3/6, Training: 100%|████████████████████████████| 200/200 [02:37<00:00,  1.27it/s]\n",
      "Epoch 3/6, Validation: 100%|██████████████████████████| 227/227 [04:12<00:00,  1.11s/it]\n",
      "Epoch 4/6, Validation:   0%|                                    | 0/227 [00:00<?, ?it/s]"
     ]
    },
    {
     "name": "stdout",
     "output_type": "stream",
     "text": [
      "train loss: 0.57553, test loss: 0.59454\n"
     ]
    },
    {
     "name": "stderr",
     "output_type": "stream",
     "text": [
      "Epoch 4/6, Training: 100%|████████████████████████████| 200/200 [02:37<00:00,  1.27it/s]\n",
      "Epoch 4/6, Validation: 100%|██████████████████████████| 227/227 [04:12<00:00,  1.11s/it]\n",
      "Epoch 5/6, Validation:   0%|                                    | 0/227 [00:00<?, ?it/s]"
     ]
    },
    {
     "name": "stdout",
     "output_type": "stream",
     "text": [
      "train loss: 0.57102, test loss: 0.60041\n"
     ]
    },
    {
     "name": "stderr",
     "output_type": "stream",
     "text": [
      "Epoch 5/6, Training: 100%|████████████████████████████| 200/200 [02:37<00:00,  1.27it/s]\n",
      "Epoch 5/6, Validation: 100%|██████████████████████████| 227/227 [04:12<00:00,  1.11s/it]"
     ]
    },
    {
     "name": "stdout",
     "output_type": "stream",
     "text": [
      "train loss: 0.56444, test loss: 0.59857\n"
     ]
    },
    {
     "name": "stderr",
     "output_type": "stream",
     "text": [
      "\n"
     ]
    }
   ],
   "source": [
    "EMBEDDING_DIM = 20\n",
    "HIDDEN_DIM = 100\n",
    "TAGSET_SIZE = 2\n",
    "NUM_EPOCHS = 6\n",
    "model_list = []\n",
    "\n",
    "for model_idx in range(9):\n",
    "    \n",
    "    train_data = []\n",
    "    for link_idx in np.random.choice(200,size=200,replace=True):\n",
    "        train_data.append(link_dataset[link_idx])\n",
    "    \n",
    "    model = LSTMTagger(EMBEDDING_DIM, HIDDEN_DIM, TAGSET_SIZE)\n",
    "    model.cuda()\n",
    "    loss_function = nn.NLLLoss(weight=torch.tensor([2.0,1.0])).cuda()\n",
    "    optimizer = optim.Adam(model.parameters(), 0.001)\n",
    "\n",
    "    model.train()\n",
    "    for epoch_idx in range(NUM_EPOCHS):  \n",
    "\n",
    "        progress_training_epoch = tqdm(\n",
    "            train_data, \n",
    "            desc=f'Epoch {epoch_idx}/{NUM_EPOCHS}, Training',\n",
    "            miniters=1, ncols=88, position=0,\n",
    "            leave=True, total=len(train_data), smoothing=.9)\n",
    "\n",
    "        progress_validation_epoch = tqdm(\n",
    "            test_data, \n",
    "            desc=f'Epoch {epoch_idx}/{NUM_EPOCHS}, Validation',\n",
    "            miniters=1, ncols=88, position=0, \n",
    "            leave=True, total=len(test_data), smoothing=.9)\n",
    "\n",
    "        train_loss = 0\n",
    "        train_size = 0\n",
    "        model.train()\n",
    "        for idx, (sentence, tags) in enumerate(progress_training_epoch):\n",
    "            sentence = sentence.cuda()\n",
    "            tags = tags.cuda()\n",
    "            model.zero_grad()\n",
    "            tag_scores = model(sentence)\n",
    "            loss = loss_function(tag_scores, tags)\n",
    "            loss.backward()\n",
    "            optimizer.step()\n",
    "            train_loss += loss * tags.size()[0]\n",
    "            train_size += tags.size()[0]\n",
    "\n",
    "        test_loss = 0\n",
    "        test_size = 0\n",
    "        model.eval()\n",
    "        with torch.no_grad():\n",
    "            for idx, (sentence, tags) in enumerate(progress_validation_epoch):\n",
    "                sentence = sentence.cuda()\n",
    "                tags = tags.cuda()\n",
    "                tag_scores = model(sentence)\n",
    "                loss = loss_function(tag_scores, tags) \n",
    "                test_loss += loss * tags.size()[0]\n",
    "                test_size += tags.size()[0]\n",
    "\n",
    "        print(f'train loss:{train_loss.item()/train_size: .5f}, '\n",
    "              f'test loss:{test_loss.item()/test_size: .5f}')\n",
    "        \n",
    "    model_list.append(model)"
   ]
  },
  {
   "cell_type": "markdown",
   "metadata": {},
   "source": [
    "# Test"
   ]
  },
  {
   "cell_type": "code",
   "execution_count": 12,
   "metadata": {},
   "outputs": [
    {
     "name": "stderr",
     "output_type": "stream",
     "text": [
      "Epoch 5/6, Validation: 100%|██████████████████████████| 227/227 [01:35<00:00,  2.39it/s]\n",
      "Epoch 5/6, Validation: 100%|██████████████████████████| 227/227 [01:18<00:00,  2.90it/s]\n",
      "Epoch 5/6, Validation: 100%|██████████████████████████| 227/227 [01:17<00:00,  2.92it/s]\n",
      "Epoch 5/6, Validation: 100%|██████████████████████████| 227/227 [01:27<00:00,  2.61it/s]\n",
      "Epoch 5/6, Validation: 100%|██████████████████████████| 227/227 [01:18<00:00,  2.91it/s]\n",
      "Epoch 5/6, Validation: 100%|██████████████████████████| 227/227 [01:17<00:00,  2.92it/s]\n",
      "Epoch 5/6, Validation: 100%|██████████████████████████| 227/227 [01:17<00:00,  2.93it/s]\n",
      "Epoch 5/6, Validation: 100%|██████████████████████████| 227/227 [01:35<00:00,  2.38it/s]\n",
      "Epoch 5/6, Validation: 100%|██████████████████████████| 227/227 [01:18<00:00,  2.91it/s]\n"
     ]
    },
    {
     "name": "stdout",
     "output_type": "stream",
     "text": [
      "True Positive:2710149, True Negative:376752, False Positive:744092, False Negative:231657\n"
     ]
    }
   ],
   "source": [
    "predict_agg = []\n",
    "target_agg = []\n",
    "\n",
    "for model in model_list:\n",
    "    \n",
    "    progress_validation_epoch = tqdm(\n",
    "        test_data, \n",
    "        desc=f'Epoch {epoch_idx}/{NUM_EPOCHS}, Validation',\n",
    "        miniters=1, ncols=88, position=0, \n",
    "        leave=True, total=len(test_data), smoothing=.9)\n",
    "    \n",
    "    predict = []\n",
    "    target = []\n",
    "    model.eval()\n",
    "    with torch.no_grad():\n",
    "        for idx, (sentence, tags) in enumerate(progress_validation_epoch):\n",
    "            sentence = sentence.cuda()\n",
    "            tags = tags.cuda()\n",
    "            tag_scores = model(sentence)\n",
    "            predict.append(tag_scores.argmax(dim=1).cpu().numpy())\n",
    "            target.append(tags.cpu().numpy())        \n",
    "    predict = np.concatenate(predict, axis=0)\n",
    "    target = np.concatenate(target, axis=0)\n",
    "    \n",
    "    predict_agg.append(predict)\n",
    "    target_agg.append(target)\n",
    "    \n",
    "predict = (np.array(predict_agg).sum(axis=0) > 4.5)\n",
    "target = target_agg[0]\n",
    "tp = predict[target==1].sum()\n",
    "tn = (target==0).sum() - predict[target==0].sum()\n",
    "fp = predict[target==0].sum()\n",
    "fn = (target==1).sum() - predict[target==1].sum()\n",
    "\n",
    "print(f'True Positive:{tp}, '\n",
    "      f'True Negative:{tn}, '\n",
    "      f'False Positive:{fp}, '\n",
    "      f'False Negative:{fn}')"
   ]
  },
  {
   "cell_type": "code",
   "execution_count": 13,
   "metadata": {},
   "outputs": [
    {
     "name": "stdout",
     "output_type": "stream",
     "text": [
      "Accuracy:0.7598244987877371, Positive Accuracy:0.7845859625891766, Negative Accuracy:0.6192413327219025, Weighted Accuracy:0.7019136476555395\n"
     ]
    }
   ],
   "source": [
    "accr = (tp+tn)/(tp+tn+fp+fn)\n",
    "posaccr = tp/(tp+fp)\n",
    "negaccr = tn/(tn+fn)\n",
    "print(f'Accuracy:{accr}, '\n",
    "      f'Positive Accuracy:{posaccr}, '\n",
    "      f'Negative Accuracy:{negaccr}, '\n",
    "      f'Weighted Accuracy:{0.5*(posaccr+negaccr)}')"
   ]
  }
 ],
 "metadata": {
  "kernelspec": {
   "display_name": "Python 3",
   "language": "python",
   "name": "python3"
  },
  "language_info": {
   "codemirror_mode": {
    "name": "ipython",
    "version": 3
   },
   "file_extension": ".py",
   "mimetype": "text/x-python",
   "name": "python",
   "nbconvert_exporter": "python",
   "pygments_lexer": "ipython3",
   "version": "3.7.5"
  }
 },
 "nbformat": 4,
 "nbformat_minor": 2
}
