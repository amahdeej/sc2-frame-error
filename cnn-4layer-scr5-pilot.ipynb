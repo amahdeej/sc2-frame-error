{
 "cells": [
  {
   "cell_type": "markdown",
   "metadata": {},
   "source": [
    "# Libraries"
   ]
  },
  {
   "cell_type": "code",
   "execution_count": 1,
   "metadata": {},
   "outputs": [],
   "source": [
    "import sqlite3\n",
    "import numpy as np\n",
    "from collections import OrderedDict, namedtuple\n",
    "from distutils.spawn import find_executable\n",
    "import matplotlib.pyplot as plt\n",
    "\n",
    "import sys\n",
    "import subprocess\n",
    "import pathlib\n",
    "import tempfile\n",
    "import importlib\n",
    "import time\n",
    "import random\n",
    "import pickle\n",
    "\n",
    "import math\n",
    "\n",
    "from configparser import ConfigParser\n",
    "\n",
    "# from google.protobuf.json_format import MessageToDict"
   ]
  },
  {
   "cell_type": "code",
   "execution_count": 2,
   "metadata": {},
   "outputs": [],
   "source": [
    "# DEVICE = 0\n",
    "\n",
    "import os\n",
    "import time\n",
    "import pickle\n",
    "import numpy as np\n",
    "from tqdm import tqdm\n",
    "import matplotlib.pyplot as plt\n",
    "import seaborn as sn\n",
    "import pandas as pd\n",
    "\n",
    "import torch\n",
    "torch.backends.cudnn.benchmark = True\n",
    "import torch.optim as optim\n",
    "import torch.nn as nn\n",
    "import torch.nn.functional as F\n",
    "from torch.autograd import Variable\n",
    "from torch.utils import data\n",
    "\n",
    "# torch.cuda.set_device(DEVICE)\n",
    "torch.cuda.empty_cache() \n",
    "torch.backends.cudnn.benchmark=True"
   ]
  },
  {
   "cell_type": "code",
   "execution_count": 3,
   "metadata": {},
   "outputs": [],
   "source": [
    "np.random.seed(0)\n",
    "torch.manual_seed(0)\n",
    "\n",
    "import os\n",
    "os.environ['CUDA_VISIBLE_DEVICES']='0'"
   ]
  },
  {
   "cell_type": "markdown",
   "metadata": {},
   "source": [
    "# load the dataset"
   ]
  },
  {
   "cell_type": "code",
   "execution_count": 4,
   "metadata": {},
   "outputs": [],
   "source": [
    "with open('scrimmage5_link_dataset.pickle', 'rb') as file:\n",
    "    link_dataset = pickle.load(file)"
   ]
  },
  {
   "cell_type": "code",
   "execution_count": 5,
   "metadata": {},
   "outputs": [],
   "source": [
    "train_x_npn = []\n",
    "train_y_npn = []\n",
    "test_x_npn = []\n",
    "test_y_npn = []\n",
    "\n",
    "for i in range(len(link_dataset)):\n",
    "    datalen = len(link_dataset[i][1])\n",
    "    trainlen = round(datalen*2/3)\n",
    "    testlen = datalen -trainlen        \n",
    "    train_x_npn.append(link_dataset[i][0][0:trainlen].numpy())    \n",
    "    train_y_npn.append(link_dataset[i][1][0:trainlen].numpy())\n",
    "    test_x_npn.append(link_dataset[i][0][trainlen:trainlen+testlen].numpy())\n",
    "    test_y_npn.append(link_dataset[i][1][trainlen:trainlen+testlen].numpy())"
   ]
  },
  {
   "cell_type": "code",
   "execution_count": 6,
   "metadata": {},
   "outputs": [],
   "source": [
    "train_x_np = np.concatenate(train_x_npn)\n",
    "train_y_np = np.concatenate(train_y_npn)\n",
    "test_x_np = np.concatenate(test_x_npn)\n",
    "test_y_np = np.concatenate(test_y_npn)"
   ]
  },
  {
   "cell_type": "code",
   "execution_count": 7,
   "metadata": {},
   "outputs": [],
   "source": [
    "train_x = torch.from_numpy(train_x_np)\n",
    "train_x = train_x.view(-1,1,20)\n",
    "test_x = torch.from_numpy(test_x_np)\n",
    "test_x = test_x.view(-1,1,20)\n",
    "train_y = torch.from_numpy(train_y_np)\n",
    "test_y = torch.from_numpy(test_y_np)"
   ]
  },
  {
   "cell_type": "code",
   "execution_count": 8,
   "metadata": {},
   "outputs": [
    {
     "data": {
      "text/plain": [
       "torch.Size([3889850, 1, 20])"
      ]
     },
     "execution_count": 8,
     "metadata": {},
     "output_type": "execute_result"
    }
   ],
   "source": [
    "test_x.size()"
   ]
  },
  {
   "cell_type": "code",
   "execution_count": 9,
   "metadata": {},
   "outputs": [],
   "source": [
    "class CNN(nn.Module):\n",
    "\n",
    "    def __init__(self):\n",
    "        super(CNN, self).__init__()\n",
    "        self.conv1 = nn.Conv1d(in_channels=1, out_channels=16, kernel_size=3, padding=1)\n",
    "        self.norm1 = nn.BatchNorm1d(num_features=16)\n",
    "        \n",
    "        self.conv2 = nn.Conv1d(in_channels=16, out_channels=16, kernel_size=3, padding=1)\n",
    "        self.norm2 = nn.BatchNorm1d(num_features=16)\n",
    "        \n",
    "        self.conv3 = nn.Conv1d(in_channels=16, out_channels=16, kernel_size=3, padding=1)\n",
    "        self.norm3 = nn.BatchNorm1d(num_features=16)\n",
    "        \n",
    "        self.conv4 = nn.Conv1d(in_channels=16, out_channels=16, kernel_size=3, padding=1)\n",
    "        self.norm4 = nn.BatchNorm1d(num_features=16)\n",
    "        \n",
    "        self.dropout = nn.Dropout(p=0.5)\n",
    "        self.linear = nn.Linear(in_features=16*20, out_features=2)\n",
    "\n",
    "    def forward(self, input):\n",
    "        output = self.conv1(input)\n",
    "        output = self.norm1(output)\n",
    "        output = F.relu(output)\n",
    "        \n",
    "        output = self.conv2(output)\n",
    "        output = self.norm2(output)\n",
    "        output = F.relu(output)\n",
    "        \n",
    "        output = self.conv3(output)\n",
    "        output = self.norm3(output)\n",
    "        output = F.relu(output)\n",
    "        \n",
    "        output = self.conv4(output)\n",
    "        output = self.norm4(output)\n",
    "        output = F.relu(output)\n",
    "        \n",
    "        output = output.view(-1,16*20)\n",
    "        output = self.dropout(output)\n",
    "        output = self.linear(output)\n",
    "        \n",
    "        return output"
   ]
  },
  {
   "cell_type": "markdown",
   "metadata": {},
   "source": [
    "# Train Model"
   ]
  },
  {
   "cell_type": "code",
   "execution_count": 10,
   "metadata": {
    "scrolled": false
   },
   "outputs": [
    {
     "name": "stderr",
     "output_type": "stream",
     "text": [
      "Epoch 0/10, Training: 100%|█████████████████████████| 7598/7598 [04:02<00:00, 31.31it/s]\n",
      "Epoch 0/10, Validation: 100%|███████████████████████| 3799/3799 [05:42<00:00, 11.10it/s]\n",
      "Epoch 1/10, Validation:   0%|                                  | 0/3799 [00:00<?, ?it/s]"
     ]
    },
    {
     "name": "stdout",
     "output_type": "stream",
     "text": [
      "train loss: 0.47897, test loss: 0.55814\n"
     ]
    },
    {
     "name": "stderr",
     "output_type": "stream",
     "text": [
      "Epoch 1/10, Training: 100%|█████████████████████████| 7598/7598 [03:58<00:00, 31.85it/s]\n",
      "Epoch 1/10, Validation: 100%|███████████████████████| 3799/3799 [05:36<00:00, 11.29it/s]\n",
      "Epoch 2/10, Validation:   0%|                                  | 0/3799 [00:00<?, ?it/s]"
     ]
    },
    {
     "name": "stdout",
     "output_type": "stream",
     "text": [
      "train loss: 0.44064, test loss: 0.58177\n"
     ]
    },
    {
     "name": "stderr",
     "output_type": "stream",
     "text": [
      "Epoch 2/10, Training: 100%|█████████████████████████| 7598/7598 [03:59<00:00, 31.73it/s]\n",
      "Epoch 2/10, Validation: 100%|███████████████████████| 3799/3799 [05:43<00:00, 11.05it/s]\n",
      "Epoch 3/10, Validation:   0%|                                  | 0/3799 [00:00<?, ?it/s]"
     ]
    },
    {
     "name": "stdout",
     "output_type": "stream",
     "text": [
      "train loss: 0.43263, test loss: 0.61236\n"
     ]
    },
    {
     "name": "stderr",
     "output_type": "stream",
     "text": [
      "Epoch 3/10, Training: 100%|█████████████████████████| 7598/7598 [03:55<00:00, 32.33it/s]\n",
      "Epoch 3/10, Validation: 100%|███████████████████████| 3799/3799 [05:42<00:00, 11.10it/s]\n",
      "Epoch 4/10, Validation:   0%|                                  | 0/3799 [00:00<?, ?it/s]"
     ]
    },
    {
     "name": "stdout",
     "output_type": "stream",
     "text": [
      "train loss: 0.42962, test loss: 0.59229\n"
     ]
    },
    {
     "name": "stderr",
     "output_type": "stream",
     "text": [
      "Epoch 4/10, Training: 100%|█████████████████████████| 7598/7598 [03:56<00:00, 32.14it/s]\n",
      "Epoch 4/10, Validation: 100%|███████████████████████| 3799/3799 [05:36<00:00, 11.27it/s]\n",
      "Epoch 5/10, Validation:   0%|                                  | 0/3799 [00:00<?, ?it/s]"
     ]
    },
    {
     "name": "stdout",
     "output_type": "stream",
     "text": [
      "train loss: 0.42765, test loss: 0.59763\n"
     ]
    },
    {
     "name": "stderr",
     "output_type": "stream",
     "text": [
      "Epoch 5/10, Training: 100%|█████████████████████████| 7598/7598 [03:53<00:00, 32.54it/s]\n",
      "Epoch 5/10, Validation: 100%|███████████████████████| 3799/3799 [05:36<00:00, 11.29it/s]\n",
      "Epoch 6/10, Validation:   0%|                                  | 0/3799 [00:00<?, ?it/s]"
     ]
    },
    {
     "name": "stdout",
     "output_type": "stream",
     "text": [
      "train loss: 0.42629, test loss: 0.60472\n"
     ]
    },
    {
     "name": "stderr",
     "output_type": "stream",
     "text": [
      "Epoch 6/10, Training: 100%|█████████████████████████| 7598/7598 [03:56<00:00, 32.14it/s]\n",
      "Epoch 6/10, Validation: 100%|███████████████████████| 3799/3799 [05:41<00:00, 11.13it/s]\n",
      "Epoch 7/10, Validation:   0%|                                  | 0/3799 [00:00<?, ?it/s]"
     ]
    },
    {
     "name": "stdout",
     "output_type": "stream",
     "text": [
      "train loss: 0.42535, test loss: 0.60085\n"
     ]
    },
    {
     "name": "stderr",
     "output_type": "stream",
     "text": [
      "Epoch 7/10, Training: 100%|█████████████████████████| 7598/7598 [04:01<00:00, 31.46it/s]\n",
      "Epoch 7/10, Validation: 100%|███████████████████████| 3799/3799 [05:44<00:00, 11.03it/s]\n",
      "Epoch 8/10, Validation:   0%|                                  | 0/3799 [00:00<?, ?it/s]"
     ]
    },
    {
     "name": "stdout",
     "output_type": "stream",
     "text": [
      "train loss: 0.42469, test loss: 0.60815\n"
     ]
    },
    {
     "name": "stderr",
     "output_type": "stream",
     "text": [
      "Epoch 8/10, Training: 100%|█████████████████████████| 7598/7598 [04:01<00:00, 31.42it/s]\n",
      "Epoch 8/10, Validation: 100%|███████████████████████| 3799/3799 [05:44<00:00, 11.03it/s]\n",
      "Epoch 9/10, Validation:   0%|                                  | 0/3799 [00:00<?, ?it/s]"
     ]
    },
    {
     "name": "stdout",
     "output_type": "stream",
     "text": [
      "train loss: 0.42410, test loss: 0.59438\n"
     ]
    },
    {
     "name": "stderr",
     "output_type": "stream",
     "text": [
      "Epoch 9/10, Training: 100%|█████████████████████████| 7598/7598 [04:02<00:00, 31.32it/s]\n",
      "Epoch 9/10, Validation: 100%|███████████████████████| 3799/3799 [05:44<00:00, 11.02it/s]"
     ]
    },
    {
     "name": "stdout",
     "output_type": "stream",
     "text": [
      "train loss: 0.42350, test loss: 0.60560\n"
     ]
    },
    {
     "name": "stderr",
     "output_type": "stream",
     "text": [
      "\n"
     ]
    }
   ],
   "source": [
    "NUM_EPOCHS = 10\n",
    "BATCH_SIZE = 1024\n",
    "\n",
    "model = CNN()\n",
    "model.cuda()\n",
    "\n",
    "loss_function = nn.CrossEntropyLoss(weight=torch.tensor([1.0,1.0])).cuda()\n",
    "optimizer = optim.Adam(model.parameters(), 0.001)\n",
    "# optimizer = optim.SGD(model.parameters(), lr=0.001)\n",
    "\n",
    "train_dataloader = data.DataLoader(\n",
    "    dataset=data.TensorDataset(train_x,train_y), \n",
    "    batch_size=BATCH_SIZE, shuffle=True, num_workers=16, pin_memory=True)\n",
    "\n",
    "test_dataloader = data.DataLoader(\n",
    "    data.TensorDataset(test_x,test_y), \n",
    "    batch_size=BATCH_SIZE, shuffle=False, num_workers=16, pin_memory=True)\n",
    "\n",
    "model.train()\n",
    "for epoch_idx in range(NUM_EPOCHS):  # again, normally you would NOT do 300 epochs, it is toy data\n",
    "\n",
    "    progress_training_epoch = tqdm(\n",
    "        train_dataloader, \n",
    "        desc=f'Epoch {epoch_idx}/{NUM_EPOCHS}, Training',\n",
    "        miniters=1, ncols=88, position=0,\n",
    "        leave=True, total=len(train_dataloader), smoothing=.9)\n",
    "\n",
    "    progress_validation_epoch = tqdm(\n",
    "        test_dataloader, \n",
    "        desc=f'Epoch {epoch_idx}/{NUM_EPOCHS}, Validation',\n",
    "        miniters=1, ncols=88, position=0, \n",
    "        leave=True, total=len(test_dataloader), smoothing=.9)\n",
    "\n",
    "    train_loss = 0\n",
    "    train_size = 0\n",
    "    for idx, (input, target) in enumerate(progress_training_epoch):\n",
    "        input = input.cuda()\n",
    "        target = target.cuda()\n",
    "        model.zero_grad()\n",
    "        predict = model(input)\n",
    "        loss = loss_function(predict, target)\n",
    "        loss.backward()\n",
    "        optimizer.step()\n",
    "        train_loss += loss * target.size()[0]\n",
    "        train_size += target.size()[0]\n",
    "\n",
    "    test_loss = 0\n",
    "    test_size = 0\n",
    "    predict = []\n",
    "    target = []\n",
    "    model.eval()\n",
    "    with torch.no_grad():\n",
    "        for idx, (batch_input, batch_target) in enumerate(progress_validation_epoch):\n",
    "            batch_input = batch_input.cuda()\n",
    "            batch_target = batch_target.cuda()\n",
    "            batch_predict = model(batch_input)\n",
    "            loss = loss_function(batch_predict, batch_target)\n",
    "            predict.append(batch_predict.argmax(dim=1).cpu().numpy())\n",
    "            target.append(batch_target.cpu().numpy())        \n",
    "            test_loss += loss * batch_target.size()[0]\n",
    "            test_size += batch_target.size()[0]\n",
    "    predict = np.concatenate(predict, axis=0)\n",
    "    target = np.concatenate(target, axis=0)\n",
    "\n",
    "#     print(f'train loss:{train_loss.item()/train_size: .5f}, '\n",
    "#           f'test loss:{test_loss.item()/test_size: .5f}, '\n",
    "#           f'overall accuracy:{(predict == target).sum() / target.size}, '\n",
    "#           f'positive accuracy:{predict[target==1].sum() / target.sum()}, '\n",
    "#           f'negative accuracy:{(np.logical_not(target).sum() - predict[np.logical_not(target)].sum()) / np.logical_not(target).sum()}')\n",
    "    \n",
    "    print(f'train loss:{train_loss.item()/train_size: .5f}, '\n",
    "          f'test loss:{test_loss.item()/test_size: .5f}')"
   ]
  },
  {
   "cell_type": "code",
   "execution_count": 11,
   "metadata": {},
   "outputs": [
    {
     "name": "stdout",
     "output_type": "stream",
     "text": [
      "True Positive:2300044, True Negative:428289, False Positive:895193, False Negative:266324\n"
     ]
    }
   ],
   "source": [
    "test_dataloader = data.DataLoader(\n",
    "    data.TensorDataset(test_x,test_y), \n",
    "    batch_size=BATCH_SIZE, shuffle=False, num_workers=16, pin_memory=True)\n",
    "\n",
    "predict = []\n",
    "target = []\n",
    "model.eval()\n",
    "with torch.no_grad():\n",
    "    for idx, (batch_input, batch_target) in enumerate(progress_validation_epoch):\n",
    "        batch_input = batch_input.cuda()\n",
    "        batch_target = batch_target.cuda()\n",
    "        batch_predict = model(batch_input)\n",
    "        predict.append(batch_predict.argmax(dim=1).cpu().numpy())\n",
    "        target.append(batch_target.cpu().numpy())        \n",
    "predict = np.concatenate(predict, axis=0)\n",
    "target = np.concatenate(target, axis=0)\n",
    "tp = predict[target==1].sum()\n",
    "tn = (target==0).sum() - predict[target==0].sum()\n",
    "fp = predict[target==0].sum()\n",
    "fn = (target==1).sum() - predict[target==1].sum()\n",
    "print(f'True Positive:{predict[target==1].sum()}, '\n",
    "      f'True Negative:{(target==0).sum() - predict[target==0].sum()}, '\n",
    "      f'False Positive:{predict[target==0].sum()}, '\n",
    "      f'False Negative:{(target==1).sum() - predict[target==1].sum()}')\n"
   ]
  },
  {
   "cell_type": "code",
   "execution_count": 12,
   "metadata": {},
   "outputs": [
    {
     "name": "stdout",
     "output_type": "stream",
     "text": [
      "Accuracy:0.701397997352083, Positive Accuracy:0.7198351796752479, Negative Accuracy:0.6165865021242044, Weighted Accuracy:0.6682108408997262\n"
     ]
    }
   ],
   "source": [
    "accr = (tp+tn)/(tp+tn+fp+fn)\n",
    "posaccr = tp/(tp+fp)\n",
    "negaccr = tn/(tn+fn)\n",
    "print(f'Accuracy:{accr}, '\n",
    "      f'Positive Accuracy:{posaccr}, '\n",
    "      f'Negative Accuracy:{negaccr}, '\n",
    "      f'Weighted Accuracy:{0.5*(posaccr+negaccr)}')"
   ]
  },
  {
   "cell_type": "markdown",
   "metadata": {},
   "source": [
    "# Train Model 1 Epoch"
   ]
  },
  {
   "cell_type": "code",
   "execution_count": 13,
   "metadata": {},
   "outputs": [
    {
     "name": "stderr",
     "output_type": "stream",
     "text": [
      "Epoch 0/1, Training: 100%|██████████████████████████| 7598/7598 [03:56<00:00, 32.13it/s]\n",
      "Epoch 0/1, Validation: 100%|████████████████████████| 3799/3799 [05:29<00:00, 11.54it/s]\n"
     ]
    },
    {
     "name": "stdout",
     "output_type": "stream",
     "text": [
      "train loss: 0.47801, test loss: 0.56638\n"
     ]
    }
   ],
   "source": [
    "NUM_EPOCHS = 1\n",
    "BATCH_SIZE = 1024\n",
    "\n",
    "model = CNN()\n",
    "model.cuda()\n",
    "\n",
    "loss_function = nn.CrossEntropyLoss(weight=torch.tensor([1.0,1.0])).cuda()\n",
    "optimizer = optim.Adam(model.parameters(), 0.001)\n",
    "# optimizer = optim.SGD(model.parameters(), lr=0.001)\n",
    "\n",
    "train_dataloader = data.DataLoader(\n",
    "    dataset=data.TensorDataset(train_x,train_y), \n",
    "    batch_size=BATCH_SIZE, shuffle=True, num_workers=16, pin_memory=True)\n",
    "\n",
    "test_dataloader = data.DataLoader(\n",
    "    data.TensorDataset(test_x,test_y), \n",
    "    batch_size=BATCH_SIZE, shuffle=False, num_workers=16, pin_memory=True)\n",
    "\n",
    "model.train()\n",
    "for epoch_idx in range(NUM_EPOCHS):  # again, normally you would NOT do 300 epochs, it is toy data\n",
    "\n",
    "    progress_training_epoch = tqdm(\n",
    "        train_dataloader, \n",
    "        desc=f'Epoch {epoch_idx}/{NUM_EPOCHS}, Training',\n",
    "        miniters=1, ncols=88, position=0,\n",
    "        leave=True, total=len(train_dataloader), smoothing=.9)\n",
    "\n",
    "    progress_validation_epoch = tqdm(\n",
    "        test_dataloader, \n",
    "        desc=f'Epoch {epoch_idx}/{NUM_EPOCHS}, Validation',\n",
    "        miniters=1, ncols=88, position=0, \n",
    "        leave=True, total=len(test_dataloader), smoothing=.9)\n",
    "\n",
    "    train_loss = 0\n",
    "    train_size = 0\n",
    "    for idx, (input, target) in enumerate(progress_training_epoch):\n",
    "        input = input.cuda()\n",
    "        target = target.cuda()\n",
    "        model.zero_grad()\n",
    "        predict = model(input)\n",
    "        loss = loss_function(predict, target)\n",
    "        loss.backward()\n",
    "        optimizer.step()\n",
    "        train_loss += loss * target.size()[0]\n",
    "        train_size += target.size()[0]\n",
    "\n",
    "    test_loss = 0\n",
    "    test_size = 0\n",
    "    predict = []\n",
    "    target = []\n",
    "    model.eval()\n",
    "    with torch.no_grad():\n",
    "        for idx, (batch_input, batch_target) in enumerate(progress_validation_epoch):\n",
    "            batch_input = batch_input.cuda()\n",
    "            batch_target = batch_target.cuda()\n",
    "            batch_predict = model(batch_input)\n",
    "            loss = loss_function(batch_predict, batch_target)\n",
    "            predict.append(batch_predict.argmax(dim=1).cpu().numpy())\n",
    "            target.append(batch_target.cpu().numpy())        \n",
    "            test_loss += loss * batch_target.size()[0]\n",
    "            test_size += batch_target.size()[0]\n",
    "    predict = np.concatenate(predict, axis=0)\n",
    "    target = np.concatenate(target, axis=0)\n",
    "\n",
    "#     print(f'train loss:{train_loss.item()/train_size: .5f}, '\n",
    "#           f'test loss:{test_loss.item()/test_size: .5f}, '\n",
    "#           f'overall accuracy:{(predict == target).sum() / target.size}, '\n",
    "#           f'positive accuracy:{predict[target==1].sum() / target.sum()}, '\n",
    "#           f'negative accuracy:{(np.logical_not(target).sum() - predict[np.logical_not(target)].sum()) / np.logical_not(target).sum()}')\n",
    "    \n",
    "    print(f'train loss:{train_loss.item()/train_size: .5f}, '\n",
    "          f'test loss:{test_loss.item()/test_size: .5f}')"
   ]
  },
  {
   "cell_type": "markdown",
   "metadata": {},
   "source": [
    "# Test"
   ]
  },
  {
   "cell_type": "code",
   "execution_count": 14,
   "metadata": {},
   "outputs": [
    {
     "name": "stdout",
     "output_type": "stream",
     "text": [
      "True Positive:2460388, True Negative:303706, False Positive:1019776, False Negative:105980\n"
     ]
    }
   ],
   "source": [
    "test_dataloader = data.DataLoader(\n",
    "    data.TensorDataset(test_x,test_y), \n",
    "    batch_size=BATCH_SIZE, shuffle=False, num_workers=16, pin_memory=True)\n",
    "\n",
    "predict = []\n",
    "target = []\n",
    "model.eval()\n",
    "with torch.no_grad():\n",
    "    for idx, (batch_input, batch_target) in enumerate(progress_validation_epoch):\n",
    "        batch_input = batch_input.cuda()\n",
    "        batch_target = batch_target.cuda()\n",
    "        batch_predict = model(batch_input)\n",
    "        predict.append(batch_predict.argmax(dim=1).cpu().numpy())\n",
    "        target.append(batch_target.cpu().numpy())        \n",
    "predict = np.concatenate(predict, axis=0)\n",
    "target = np.concatenate(target, axis=0)\n",
    "tp = predict[target==1].sum()\n",
    "tn = (target==0).sum() - predict[target==0].sum()\n",
    "fp = predict[target==0].sum()\n",
    "fn = (target==1).sum() - predict[target==1].sum()\n",
    "print(f'True Positive:{predict[target==1].sum()}, '\n",
    "      f'True Negative:{(target==0).sum() - predict[target==0].sum()}, '\n",
    "      f'False Positive:{predict[target==0].sum()}, '\n",
    "      f'False Negative:{(target==1).sum() - predict[target==1].sum()}')"
   ]
  },
  {
   "cell_type": "code",
   "execution_count": 15,
   "metadata": {},
   "outputs": [
    {
     "name": "stdout",
     "output_type": "stream",
     "text": [
      "Accuracy:0.7105914109798578, Positive Accuracy:0.7069747287771496, Negative Accuracy:0.7413140795633729, Weighted Accuracy:0.7241444041702613\n"
     ]
    }
   ],
   "source": [
    "accr = (tp+tn)/(tp+tn+fp+fn)\n",
    "posaccr = tp/(tp+fp)\n",
    "negaccr = tn/(tn+fn)\n",
    "print(f'Accuracy:{accr}, '\n",
    "      f'Positive Accuracy:{posaccr}, '\n",
    "      f'Negative Accuracy:{negaccr}, '\n",
    "      f'Weighted Accuracy:{0.5*(posaccr+negaccr)}')"
   ]
  },
  {
   "cell_type": "markdown",
   "metadata": {},
   "source": [
    "# Bagging 9"
   ]
  },
  {
   "cell_type": "code",
   "execution_count": 10,
   "metadata": {},
   "outputs": [],
   "source": [
    "with open('scrimmage5_link_dataset.pickle', 'rb') as file:\n",
    "    link_dataset = pickle.load(file)"
   ]
  },
  {
   "cell_type": "code",
   "execution_count": 11,
   "metadata": {},
   "outputs": [
    {
     "name": "stderr",
     "output_type": "stream",
     "text": [
      "Epoch 0/1, Training: 100%|██████████████████████████| 3472/3472 [01:08<00:00, 50.86it/s]\n",
      "Epoch 0/1, Validation: 100%|████████████████████████| 7810/7810 [02:33<00:00, 50.76it/s]\n"
     ]
    },
    {
     "name": "stdout",
     "output_type": "stream",
     "text": [
      "train loss: 0.43925, test loss: 0.56862\n"
     ]
    },
    {
     "name": "stderr",
     "output_type": "stream",
     "text": [
      "Epoch 0/1, Training: 100%|██████████████████████████| 3482/3482 [01:12<00:00, 47.70it/s]\n",
      "Epoch 0/1, Validation: 100%|████████████████████████| 7810/7810 [02:49<00:00, 46.21it/s]\n"
     ]
    },
    {
     "name": "stdout",
     "output_type": "stream",
     "text": [
      "train loss: 0.42385, test loss: 0.56646\n"
     ]
    },
    {
     "name": "stderr",
     "output_type": "stream",
     "text": [
      "Epoch 0/1, Training: 100%|██████████████████████████| 3408/3408 [01:16<00:00, 44.51it/s]\n",
      "Epoch 0/1, Validation: 100%|████████████████████████| 7810/7810 [02:51<00:00, 45.51it/s]\n"
     ]
    },
    {
     "name": "stdout",
     "output_type": "stream",
     "text": [
      "train loss: 0.43788, test loss: 0.57663\n"
     ]
    },
    {
     "name": "stderr",
     "output_type": "stream",
     "text": [
      "Epoch 0/1, Training: 100%|██████████████████████████| 3643/3643 [01:25<00:00, 42.83it/s]\n",
      "Epoch 0/1, Validation: 100%|████████████████████████| 7810/7810 [02:52<00:00, 45.27it/s]\n"
     ]
    },
    {
     "name": "stdout",
     "output_type": "stream",
     "text": [
      "train loss: 0.45127, test loss: 0.57226\n"
     ]
    },
    {
     "name": "stderr",
     "output_type": "stream",
     "text": [
      "Epoch 0/1, Training: 100%|██████████████████████████| 3495/3495 [01:20<00:00, 43.16it/s]\n",
      "Epoch 0/1, Validation: 100%|████████████████████████| 7810/7810 [02:42<00:00, 47.94it/s]\n"
     ]
    },
    {
     "name": "stdout",
     "output_type": "stream",
     "text": [
      "train loss: 0.43254, test loss: 0.57368\n"
     ]
    },
    {
     "name": "stderr",
     "output_type": "stream",
     "text": [
      "Epoch 0/1, Training: 100%|██████████████████████████| 3657/3657 [01:31<00:00, 39.87it/s]\n",
      "Epoch 0/1, Validation: 100%|████████████████████████| 7810/7810 [02:56<00:00, 44.17it/s]\n"
     ]
    },
    {
     "name": "stdout",
     "output_type": "stream",
     "text": [
      "train loss: 0.48303, test loss: 0.56050\n"
     ]
    },
    {
     "name": "stderr",
     "output_type": "stream",
     "text": [
      "Epoch 0/1, Training: 100%|██████████████████████████| 3698/3698 [01:25<00:00, 43.04it/s]\n",
      "Epoch 0/1, Validation: 100%|████████████████████████| 7810/7810 [02:52<00:00, 45.14it/s]\n"
     ]
    },
    {
     "name": "stdout",
     "output_type": "stream",
     "text": [
      "train loss: 0.42593, test loss: 0.57178\n"
     ]
    },
    {
     "name": "stderr",
     "output_type": "stream",
     "text": [
      "Epoch 0/1, Training: 100%|██████████████████████████| 3623/3623 [01:25<00:00, 42.40it/s]\n",
      "Epoch 0/1, Validation: 100%|████████████████████████| 7810/7810 [02:49<00:00, 46.18it/s]\n"
     ]
    },
    {
     "name": "stdout",
     "output_type": "stream",
     "text": [
      "train loss: 0.45693, test loss: 0.56945\n"
     ]
    },
    {
     "name": "stderr",
     "output_type": "stream",
     "text": [
      "Epoch 0/1, Training: 100%|██████████████████████████| 3669/3669 [01:14<00:00, 48.93it/s]\n",
      "Epoch 0/1, Validation: 100%|████████████████████████| 7810/7810 [02:25<00:00, 53.68it/s]"
     ]
    },
    {
     "name": "stdout",
     "output_type": "stream",
     "text": [
      "train loss: 0.46046, test loss: 0.57043\n"
     ]
    },
    {
     "name": "stderr",
     "output_type": "stream",
     "text": [
      "\n"
     ]
    }
   ],
   "source": [
    "NUM_EPOCHS = 1\n",
    "model_list = []\n",
    "BATCH_SIZE = 1024\n",
    "\n",
    "for model_idx in range(9):\n",
    "    \n",
    "    train_data = []\n",
    "    for link_idx in np.random.choice(200,size=200,replace=True):\n",
    "        train_data.append(link_dataset[link_idx])\n",
    "    test_data = link_dataset[200:]\n",
    "    \n",
    "    train_x = torch.cat(tuple(link[0] for link in train_data),dim=0)\n",
    "    train_y = torch.cat(tuple(link[1] for link in train_data),dim=0)\n",
    "    test_x = torch.cat(tuple(link[0] for link in test_data),dim=0)\n",
    "    test_y = torch.cat(tuple(link[1] for link in test_data),dim=0)\n",
    "    \n",
    "    train_x = train_x.view(-1,1,20)\n",
    "    test_x = test_x.view(-1,1,20)\n",
    "\n",
    "    model = CNN()\n",
    "    model.cuda()\n",
    "\n",
    "    loss_function = nn.CrossEntropyLoss(weight=torch.tensor([1.0,1.0])).cuda()\n",
    "    optimizer = optim.Adam(model.parameters(), 0.001)\n",
    "\n",
    "    train_dataloader = data.DataLoader(\n",
    "        dataset=data.TensorDataset(train_x,train_y), \n",
    "        batch_size=BATCH_SIZE, shuffle=True, num_workers=16, pin_memory=True)\n",
    "\n",
    "    test_dataloader = data.DataLoader(\n",
    "        data.TensorDataset(test_x,test_y), \n",
    "        batch_size=BATCH_SIZE, shuffle=False, num_workers=16, pin_memory=True)\n",
    "\n",
    "    model.train()\n",
    "    for epoch_idx in range(NUM_EPOCHS):  # again, normally you would NOT do 300 epochs, it is toy data\n",
    "\n",
    "        progress_training_epoch = tqdm(\n",
    "            train_dataloader, \n",
    "            desc=f'Epoch {epoch_idx}/{NUM_EPOCHS}, Training',\n",
    "            miniters=1, ncols=88, position=0,\n",
    "            leave=True, total=len(train_dataloader), smoothing=.9)\n",
    "\n",
    "        progress_validation_epoch = tqdm(\n",
    "            test_dataloader, \n",
    "            desc=f'Epoch {epoch_idx}/{NUM_EPOCHS}, Validation',\n",
    "            miniters=1, ncols=88, position=0, \n",
    "            leave=True, total=len(test_dataloader), smoothing=.9)\n",
    "\n",
    "        train_loss = 0\n",
    "        train_size = 0\n",
    "        for idx, (input, target) in enumerate(progress_training_epoch):\n",
    "            input = input.cuda()\n",
    "            target = target.cuda()\n",
    "            model.zero_grad()\n",
    "            predict = model(input)\n",
    "            loss = loss_function(predict, target)\n",
    "            loss.backward()\n",
    "            optimizer.step()\n",
    "            train_loss += loss * target.size()[0]\n",
    "            train_size += target.size()[0]\n",
    "\n",
    "        test_loss = 0\n",
    "        test_size = 0\n",
    "        model.eval()\n",
    "        with torch.no_grad():\n",
    "            for idx, (batch_input, batch_target) in enumerate(progress_validation_epoch):\n",
    "                batch_input = batch_input.cuda()\n",
    "                batch_target = batch_target.cuda()\n",
    "                batch_predict = model(batch_input)\n",
    "                loss = loss_function(batch_predict, batch_target)\n",
    "                test_loss += loss * batch_target.size()[0]\n",
    "                test_size += batch_target.size()[0]\n",
    "\n",
    "        print(f'train loss:{train_loss.item()/train_size: .5f}, '\n",
    "              f'test loss:{test_loss.item()/test_size: .5f}')\n",
    "        \n",
    "    model_list.append(model) "
   ]
  },
  {
   "cell_type": "markdown",
   "metadata": {},
   "source": [
    "# Test"
   ]
  },
  {
   "cell_type": "code",
   "execution_count": 12,
   "metadata": {},
   "outputs": [
    {
     "name": "stderr",
     "output_type": "stream",
     "text": [
      "Epoch 0/1, Validation: 100%|███████████████████████| 7810/7810 [01:04<00:00, 122.03it/s]\n",
      "Epoch 0/1, Validation: 100%|███████████████████████| 7810/7810 [01:05<00:00, 119.65it/s]\n",
      "Epoch 0/1, Validation: 100%|███████████████████████| 7810/7810 [01:04<00:00, 121.91it/s]\n",
      "Epoch 0/1, Validation: 100%|███████████████████████| 7810/7810 [01:03<00:00, 122.68it/s]\n",
      "Epoch 0/1, Validation: 100%|███████████████████████| 7810/7810 [01:03<00:00, 122.90it/s]\n",
      "Epoch 0/1, Validation: 100%|███████████████████████| 7810/7810 [01:02<00:00, 124.61it/s]\n",
      "Epoch 0/1, Validation: 100%|███████████████████████| 7810/7810 [01:02<00:00, 124.03it/s]\n",
      "Epoch 0/1, Validation: 100%|███████████████████████| 7810/7810 [00:58<00:00, 133.52it/s]\n",
      "Epoch 0/1, Validation: 100%|███████████████████████| 7810/7810 [00:51<00:00, 150.98it/s]\n"
     ]
    },
    {
     "name": "stdout",
     "output_type": "stream",
     "text": [
      "True Positive:5448244, True Negative:471414, False Positive:1831884, False Negative:245396\n"
     ]
    }
   ],
   "source": [
    "predict_agg = []\n",
    "target_agg = []\n",
    "\n",
    "for model in model_list:\n",
    "    \n",
    "    test_dataloader = data.DataLoader(\n",
    "        data.TensorDataset(test_x,test_y), \n",
    "        batch_size=BATCH_SIZE, shuffle=False, num_workers=16, pin_memory=True)\n",
    "\n",
    "    progress_validation_epoch = tqdm(\n",
    "        test_dataloader, \n",
    "        desc=f'Epoch {epoch_idx}/{NUM_EPOCHS}, Validation',\n",
    "        miniters=1, ncols=88, position=0, \n",
    "        leave=True, total=len(test_dataloader), smoothing=.9)\n",
    "    \n",
    "    predict = []\n",
    "    target = []\n",
    "    model.eval()\n",
    "    with torch.no_grad():\n",
    "        for idx, (batch_input, batch_target) in enumerate(progress_validation_epoch):\n",
    "            batch_input = batch_input.cuda()\n",
    "            batch_target = batch_target.cuda()\n",
    "            batch_predict = model(batch_input)\n",
    "            predict.append(batch_predict.argmax(dim=1).cpu().numpy())\n",
    "            target.append(batch_target.cpu().numpy())        \n",
    "    predict = np.concatenate(predict, axis=0)\n",
    "    target = np.concatenate(target, axis=0)\n",
    "    \n",
    "    predict_agg.append(predict)\n",
    "    target_agg.append(target)\n",
    "\n",
    "predict = (np.array(predict_agg).sum(axis=0) > 4.5)\n",
    "target = target_agg[0]\n",
    "tp = predict[target==1].sum()\n",
    "tn = (target==0).sum() - predict[target==0].sum()\n",
    "fp = predict[target==0].sum()\n",
    "fn = (target==1).sum() - predict[target==1].sum()\n",
    "print(f'True Positive:{predict[target==1].sum()}, '\n",
    "      f'True Negative:{(target==0).sum() - predict[target==0].sum()}, '\n",
    "      f'False Positive:{predict[target==0].sum()}, '\n",
    "      f'False Negative:{(target==1).sum() - predict[target==1].sum()}')"
   ]
  },
  {
   "cell_type": "code",
   "execution_count": 13,
   "metadata": {},
   "outputs": [
    {
     "name": "stdout",
     "output_type": "stream",
     "text": [
      "Accuracy:0.7402405770808778, Positive Accuracy:0.748372006646037, Negative Accuracy:0.6576554456550551, Weighted Accuracy:0.703013726150546\n"
     ]
    }
   ],
   "source": [
    "accr = (tp+tn)/(tp+tn+fp+fn)\n",
    "posaccr = tp/(tp+fp)\n",
    "negaccr = tn/(tn+fn)\n",
    "print(f'Accuracy:{accr}, '\n",
    "      f'Positive Accuracy:{posaccr}, '\n",
    "      f'Negative Accuracy:{negaccr}, '\n",
    "      f'Weighted Accuracy:{0.5*(posaccr+negaccr)}')"
   ]
  },
  {
   "cell_type": "code",
   "execution_count": null,
   "metadata": {},
   "outputs": [],
   "source": []
  }
 ],
 "metadata": {
  "kernelspec": {
   "display_name": "Python 3",
   "language": "python",
   "name": "python3"
  },
  "language_info": {
   "codemirror_mode": {
    "name": "ipython",
    "version": 3
   },
   "file_extension": ".py",
   "mimetype": "text/x-python",
   "name": "python",
   "nbconvert_exporter": "python",
   "pygments_lexer": "ipython3",
   "version": "3.7.4"
  }
 },
 "nbformat": 4,
 "nbformat_minor": 2
}
