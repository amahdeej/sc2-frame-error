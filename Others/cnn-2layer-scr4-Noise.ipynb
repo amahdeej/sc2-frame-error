{
 "cells": [
  {
   "cell_type": "markdown",
   "metadata": {},
   "source": [
    "# Libraries"
   ]
  },
  {
   "cell_type": "code",
   "execution_count": 1,
   "metadata": {},
   "outputs": [],
   "source": [
    "import sqlite3\n",
    "import numpy as np\n",
    "from collections import OrderedDict, namedtuple\n",
    "from distutils.spawn import find_executable\n",
    "import matplotlib.pyplot as plt\n",
    "\n",
    "import sys\n",
    "import subprocess\n",
    "import pathlib\n",
    "import tempfile\n",
    "import importlib\n",
    "import time\n",
    "import random\n",
    "import pickle\n",
    "\n",
    "import math\n",
    "\n",
    "from configparser import ConfigParser\n",
    "\n",
    "# from google.protobuf.json_format import MessageToDict"
   ]
  },
  {
   "cell_type": "code",
   "execution_count": 2,
   "metadata": {},
   "outputs": [],
   "source": [
    "# DEVICE = 0\n",
    "\n",
    "import os\n",
    "import time\n",
    "import pickle\n",
    "import numpy as np\n",
    "from tqdm import tqdm\n",
    "import matplotlib.pyplot as plt\n",
    "import seaborn as sn\n",
    "import pandas as pd\n",
    "\n",
    "import torch\n",
    "torch.backends.cudnn.benchmark = True\n",
    "import torch.optim as optim\n",
    "import torch.nn as nn\n",
    "import torch.nn.functional as F\n",
    "from torch.autograd import Variable\n",
    "from torch.utils import data\n",
    "\n",
    "# torch.cuda.set_device(DEVICE)\n",
    "torch.cuda.empty_cache() \n",
    "torch.backends.cudnn.benchmark=True"
   ]
  },
  {
   "cell_type": "code",
   "execution_count": 3,
   "metadata": {},
   "outputs": [],
   "source": [
    "np.random.seed(0)\n",
    "torch.manual_seed(0)\n",
    "\n",
    "import os\n",
    "os.environ['CUDA_VISIBLE_DEVICES']='0'"
   ]
  },
  {
   "cell_type": "markdown",
   "metadata": {},
   "source": [
    "# load the dataset"
   ]
  },
  {
   "cell_type": "code",
   "execution_count": 4,
   "metadata": {},
   "outputs": [],
   "source": [
    "with open('../scrimmage4_link_dataset.pickle', 'rb') as file:\n",
    "    link_dataset = pickle.load(file)"
   ]
  },
  {
   "cell_type": "code",
   "execution_count": 11,
   "metadata": {},
   "outputs": [
    {
     "data": {
      "text/plain": [
       "tensor([[-0.2985,  0.3226,  1.2543,  ...,  0.5738, -0.5512,  0.6914],\n",
       "        [-0.2330,  0.3226,  1.2543,  ...,  0.5738, -0.5512,  0.6914],\n",
       "        [ 1.0010,  0.3226,  1.2543,  ...,  0.5738, -0.5512,  0.6914],\n",
       "        ...,\n",
       "        [-0.7411,  0.3226, -1.5726,  ..., -1.0466,  0.2578,  0.4582],\n",
       "        [-0.9636,  0.3226, -1.5726,  ..., -1.0466,  0.2578,  0.4582],\n",
       "        [-0.6419,  0.3226, -1.5726,  ..., -1.0466,  0.2578,  0.4582]])"
      ]
     },
     "execution_count": 11,
     "metadata": {},
     "output_type": "execute_result"
    }
   ],
   "source": [
    "link_dataset[200][0]"
   ]
  },
  {
   "cell_type": "code",
   "execution_count": 12,
   "metadata": {},
   "outputs": [],
   "source": [
    "train_data = link_dataset[:200] \n",
    "test_data = link_dataset[200:]"
   ]
  },
  {
   "cell_type": "code",
   "execution_count": 13,
   "metadata": {},
   "outputs": [],
   "source": [
    "train_x = torch.cat(tuple(link[0] for link in train_data),dim=0)\n",
    "train_y = torch.cat(tuple(link[1] for link in train_data),dim=0)\n",
    "\n",
    "test_x = torch.cat(tuple(link[0] for link in test_data),dim=0)\n",
    "test_y = torch.cat(tuple(link[1] for link in test_data),dim=0)"
   ]
  },
  {
   "cell_type": "code",
   "execution_count": 15,
   "metadata": {},
   "outputs": [
    {
     "data": {
      "text/plain": [
       "torch.Size([2046930, 20])"
      ]
     },
     "execution_count": 15,
     "metadata": {},
     "output_type": "execute_result"
    }
   ],
   "source": [
    "test_x.size()"
   ]
  },
  {
   "cell_type": "code",
   "execution_count": 7,
   "metadata": {},
   "outputs": [],
   "source": [
    "train_x = train_x.view(-1,1,20)\n",
    "test_x = test_x.view(-1,1,20)"
   ]
  },
  {
   "cell_type": "code",
   "execution_count": 8,
   "metadata": {},
   "outputs": [
    {
     "data": {
      "text/plain": [
       "torch.Size([2046930, 1, 20])"
      ]
     },
     "execution_count": 8,
     "metadata": {},
     "output_type": "execute_result"
    }
   ],
   "source": [
    "test_x.size()"
   ]
  },
  {
   "cell_type": "code",
   "execution_count": 9,
   "metadata": {},
   "outputs": [],
   "source": [
    "class GaussianNoise(nn.Module):\n",
    "    def __init__(self, stddev):\n",
    "        super().__init__()\n",
    "        self.stddev = stddev\n",
    "\n",
    "    def forward(self, din):\n",
    "        if self.training:\n",
    "            return din + torch.autograd.Variable(torch.randn(din.size()).cuda() * self.stddev)\n",
    "        return din"
   ]
  },
  {
   "cell_type": "code",
   "execution_count": 10,
   "metadata": {},
   "outputs": [],
   "source": [
    "class CNN(nn.Module):\n",
    "\n",
    "    def __init__(self):\n",
    "        super(CNN, self).__init__()\n",
    "        self.noise1 = GaussianNoise(0.1)\n",
    "        self.conv1 = nn.Conv1d(in_channels=1, out_channels=16, kernel_size=3, padding=1)\n",
    "        self.norm1 = nn.BatchNorm1d(num_features=16)\n",
    "        self.noise2 = GaussianNoise(0.1)\n",
    "        self.conv2 = nn.Conv1d(in_channels=16, out_channels=16, kernel_size=3, padding=1)\n",
    "        self.norm2 = nn.BatchNorm1d(num_features=16)\n",
    "        self.noise3 = GaussianNoise(0.1)\n",
    "        self.dropout = nn.Dropout(p=0.5)\n",
    "        self.linear = nn.Linear(in_features=16*20, out_features=2)\n",
    "        \n",
    "\n",
    "    def forward(self, input):\n",
    "        output = self.noise1(input)\n",
    "        output = self.conv1(output)\n",
    "        output = self.norm1(output)\n",
    "        output = self.noise2(output)\n",
    "        output = F.relu(output)\n",
    "        output = self.conv2(output)\n",
    "        output = self.norm2(output)\n",
    "        output = self.noise3(output)\n",
    "        output = F.relu(output)\n",
    "        \n",
    "        output = output.view(-1,16*20)\n",
    "        output = self.dropout(output)\n",
    "        output = self.linear(output)\n",
    "        \n",
    "        \n",
    "        return output"
   ]
  },
  {
   "cell_type": "markdown",
   "metadata": {},
   "source": [
    "# Train Model"
   ]
  },
  {
   "cell_type": "code",
   "execution_count": 11,
   "metadata": {
    "scrolled": false
   },
   "outputs": [
    {
     "name": "stderr",
     "output_type": "stream",
     "text": [
      "Epoch 1/10, Training: 100%|████████████████████████| 4371/4371 [00:36<00:00, 120.15it/s]\n",
      "Epoch 1/10, Validation: 100%|███████████████████████| 1999/1999 [00:39<00:00, 50.11it/s]\n",
      "Epoch 2/10, Validation:   0%|                                  | 0/1999 [00:00<?, ?it/s]"
     ]
    },
    {
     "name": "stdout",
     "output_type": "stream",
     "text": [
      "train loss: 0.54430, test loss: 0.57366\n"
     ]
    },
    {
     "name": "stderr",
     "output_type": "stream",
     "text": [
      "Epoch 2/10, Training: 100%|████████████████████████| 4371/4371 [00:14<00:00, 306.99it/s]\n",
      "Epoch 2/10, Validation: 100%|██████████████████████| 1999/1999 [00:17<00:00, 112.13it/s]\n",
      "Epoch 3/10, Validation:   0%|                                  | 0/1999 [00:00<?, ?it/s]"
     ]
    },
    {
     "name": "stdout",
     "output_type": "stream",
     "text": [
      "train loss: 0.49545, test loss: 0.60376\n"
     ]
    },
    {
     "name": "stderr",
     "output_type": "stream",
     "text": [
      "Epoch 3/10, Training: 100%|████████████████████████| 4371/4371 [00:14<00:00, 308.25it/s]\n",
      "Epoch 3/10, Validation: 100%|██████████████████████| 1999/1999 [00:17<00:00, 112.83it/s]\n",
      "Epoch 4/10, Validation:   0%|                                  | 0/1999 [00:00<?, ?it/s]"
     ]
    },
    {
     "name": "stdout",
     "output_type": "stream",
     "text": [
      "train loss: 0.48579, test loss: 0.61577\n"
     ]
    },
    {
     "name": "stderr",
     "output_type": "stream",
     "text": [
      "Epoch 4/10, Training: 100%|████████████████████████| 4371/4371 [00:13<00:00, 312.23it/s]\n",
      "Epoch 4/10, Validation: 100%|██████████████████████| 1999/1999 [00:17<00:00, 113.01it/s]\n",
      "Epoch 5/10, Validation:   0%|                                  | 0/1999 [00:00<?, ?it/s]"
     ]
    },
    {
     "name": "stdout",
     "output_type": "stream",
     "text": [
      "train loss: 0.48265, test loss: 0.62756\n"
     ]
    },
    {
     "name": "stderr",
     "output_type": "stream",
     "text": [
      "Epoch 5/10, Training: 100%|████████████████████████| 4371/4371 [00:14<00:00, 302.53it/s]\n",
      "Epoch 5/10, Validation: 100%|██████████████████████| 1999/1999 [00:18<00:00, 109.04it/s]\n",
      "Epoch 6/10, Validation:   0%|                                  | 0/1999 [00:00<?, ?it/s]"
     ]
    },
    {
     "name": "stdout",
     "output_type": "stream",
     "text": [
      "train loss: 0.48088, test loss: 0.63383\n"
     ]
    },
    {
     "name": "stderr",
     "output_type": "stream",
     "text": [
      "Epoch 6/10, Training: 100%|████████████████████████| 4371/4371 [00:14<00:00, 307.21it/s]\n",
      "Epoch 6/10, Validation: 100%|██████████████████████| 1999/1999 [00:18<00:00, 110.87it/s]\n",
      "Epoch 7/10, Validation:   0%|                                  | 0/1999 [00:00<?, ?it/s]"
     ]
    },
    {
     "name": "stdout",
     "output_type": "stream",
     "text": [
      "train loss: 0.47970, test loss: 0.63269\n"
     ]
    },
    {
     "name": "stderr",
     "output_type": "stream",
     "text": [
      "Epoch 7/10, Training: 100%|████████████████████████| 4371/4371 [00:14<00:00, 302.72it/s]\n",
      "Epoch 7/10, Validation: 100%|██████████████████████| 1999/1999 [00:18<00:00, 108.08it/s]\n",
      "Epoch 8/10, Validation:   0%|                                  | 0/1999 [00:00<?, ?it/s]"
     ]
    },
    {
     "name": "stdout",
     "output_type": "stream",
     "text": [
      "train loss: 0.47877, test loss: 0.63586\n"
     ]
    },
    {
     "name": "stderr",
     "output_type": "stream",
     "text": [
      "Epoch 8/10, Training: 100%|████████████████████████| 4371/4371 [00:14<00:00, 308.01it/s]\n",
      "Epoch 8/10, Validation: 100%|██████████████████████| 1999/1999 [00:17<00:00, 113.21it/s]\n",
      "Epoch 9/10, Validation:   0%|                                  | 0/1999 [00:00<?, ?it/s]"
     ]
    },
    {
     "name": "stdout",
     "output_type": "stream",
     "text": [
      "train loss: 0.47798, test loss: 0.63816\n"
     ]
    },
    {
     "name": "stderr",
     "output_type": "stream",
     "text": [
      "Epoch 9/10, Training: 100%|████████████████████████| 4371/4371 [00:14<00:00, 311.73it/s]\n",
      "Epoch 9/10, Validation: 100%|██████████████████████| 1999/1999 [00:17<00:00, 112.41it/s]\n",
      "Epoch 10/10, Validation:   0%|                                 | 0/1999 [00:00<?, ?it/s]"
     ]
    },
    {
     "name": "stdout",
     "output_type": "stream",
     "text": [
      "train loss: 0.47750, test loss: 0.64713\n"
     ]
    },
    {
     "name": "stderr",
     "output_type": "stream",
     "text": [
      "Epoch 10/10, Training: 100%|███████████████████████| 4371/4371 [00:14<00:00, 310.62it/s]\n",
      "Epoch 10/10, Validation: 100%|█████████████████████| 1999/1999 [00:17<00:00, 113.18it/s]"
     ]
    },
    {
     "name": "stdout",
     "output_type": "stream",
     "text": [
      "train loss: 0.47711, test loss: 0.64254\n"
     ]
    },
    {
     "name": "stderr",
     "output_type": "stream",
     "text": [
      "\n"
     ]
    }
   ],
   "source": [
    "NUM_EPOCHS = 10\n",
    "BATCH_SIZE = 1024\n",
    "\n",
    "model = CNN()\n",
    "model.cuda()\n",
    "\n",
    "loss_function = nn.CrossEntropyLoss(weight=torch.tensor([1.0,1.0])).cuda()\n",
    "optimizer = optim.Adam(model.parameters(), 0.001)\n",
    "# optimizer = optim.SGD(model.parameters(), lr=0.001)\n",
    "\n",
    "train_dataloader = data.DataLoader(\n",
    "    dataset=data.TensorDataset(train_x,train_y), \n",
    "    batch_size=BATCH_SIZE, shuffle=True, num_workers=16, pin_memory=True)\n",
    "\n",
    "test_dataloader = data.DataLoader(\n",
    "    data.TensorDataset(test_x,test_y), \n",
    "    batch_size=BATCH_SIZE, shuffle=False, num_workers=16, pin_memory=True)\n",
    "\n",
    "model.train()\n",
    "for epoch_idx in range(NUM_EPOCHS):  # again, normally you would NOT do 300 epochs, it is toy data\n",
    "\n",
    "    progress_training_epoch = tqdm(\n",
    "        train_dataloader, \n",
    "        desc=f'Epoch {epoch_idx+1}/{NUM_EPOCHS}, Training',\n",
    "        miniters=1, ncols=88, position=0,\n",
    "        leave=True, total=len(train_dataloader), smoothing=.9)\n",
    "\n",
    "    progress_validation_epoch = tqdm(\n",
    "        test_dataloader, \n",
    "        desc=f'Epoch {epoch_idx+1}/{NUM_EPOCHS}, Validation',\n",
    "        miniters=1, ncols=88, position=0, \n",
    "        leave=True, total=len(test_dataloader), smoothing=.9)\n",
    "\n",
    "    train_loss = 0\n",
    "    train_size = 0\n",
    "    for idx, (input, target) in enumerate(progress_training_epoch):\n",
    "        input = input.cuda()\n",
    "        target = target.cuda()\n",
    "        model.zero_grad()\n",
    "        predict = model(input)\n",
    "        loss = loss_function(predict, target)\n",
    "        loss.backward()\n",
    "        optimizer.step()\n",
    "        train_loss += loss * target.size()[0]\n",
    "        train_size += target.size()[0]\n",
    "\n",
    "    test_loss = 0\n",
    "    test_size = 0\n",
    "    predict = []\n",
    "    target = []\n",
    "    model.eval()\n",
    "    with torch.no_grad():\n",
    "        for idx, (batch_input, batch_target) in enumerate(progress_validation_epoch):\n",
    "            batch_input = batch_input.cuda()\n",
    "            batch_target = batch_target.cuda()\n",
    "            batch_predict = model(batch_input)\n",
    "            loss = loss_function(batch_predict, batch_target)\n",
    "            predict.append(batch_predict.argmax(dim=1).cpu().numpy())\n",
    "            target.append(batch_target.cpu().numpy())        \n",
    "            test_loss += loss * batch_target.size()[0]\n",
    "            test_size += batch_target.size()[0]\n",
    "    predict = np.concatenate(predict, axis=0)\n",
    "    target = np.concatenate(target, axis=0)\n",
    "\n",
    "#     print(f'train loss:{train_loss.item()/train_size: .5f}, '\n",
    "#           f'test loss:{test_loss.item()/test_size: .5f}, '\n",
    "#           f'overall accuracy:{(predict == target).sum() / target.size}, '\n",
    "#           f'positive accuracy:{predict[target==1].sum() / target.sum()}, '\n",
    "#           f'negative accuracy:{(np.logical_not(target).sum() - predict[np.logical_not(target)].sum()) / np.logical_not(target).sum()}')\n",
    "    \n",
    "    print(f'train loss:{train_loss.item()/train_size: .5f}, '\n",
    "          f'test loss:{test_loss.item()/test_size: .5f}')"
   ]
  },
  {
   "cell_type": "code",
   "execution_count": 12,
   "metadata": {},
   "outputs": [
    {
     "name": "stdout",
     "output_type": "stream",
     "text": [
      "True Positive:1088103, True Negative:287153, False Positive:404265, False Negative:267409\n"
     ]
    }
   ],
   "source": [
    "test_dataloader = data.DataLoader(\n",
    "    data.TensorDataset(test_x,test_y), \n",
    "    batch_size=BATCH_SIZE, shuffle=False, num_workers=16, pin_memory=True)\n",
    "\n",
    "predict = []\n",
    "target = []\n",
    "model.eval()\n",
    "with torch.no_grad():\n",
    "    for idx, (batch_input, batch_target) in enumerate(progress_validation_epoch):\n",
    "        batch_input = batch_input.cuda()\n",
    "        batch_target = batch_target.cuda()\n",
    "        batch_predict = model(batch_input)\n",
    "        predict.append(batch_predict.argmax(dim=1).cpu().numpy())\n",
    "        target.append(batch_target.cpu().numpy())        \n",
    "predict = np.concatenate(predict, axis=0)\n",
    "target = np.concatenate(target, axis=0)\n",
    "\n",
    "tp = predict[target==1].sum()\n",
    "tn = (target==0).sum() - predict[target==0].sum()\n",
    "fp = predict[target==0].sum()\n",
    "fn = (target==1).sum() - predict[target==1].sum()\n",
    "\n",
    "print(f'True Positive:{tp}, '\n",
    "      f'True Negative:{tn}, '\n",
    "      f'False Positive:{fp}, '\n",
    "      f'False Negative:{fn}')"
   ]
  },
  {
   "cell_type": "code",
   "execution_count": 13,
   "metadata": {},
   "outputs": [
    {
     "name": "stdout",
     "output_type": "stream",
     "text": [
      "Accuracy:0.6718627407874231, Positive Accuracy:0.729111720433566, Negative Accuracy:0.5178014360883003, Weighted Accuracy:0.6234565782609331\n"
     ]
    }
   ],
   "source": [
    "accr = (tp+tn)/(tp+tn+fp+fn)\n",
    "posaccr = tp/(tp+fp)\n",
    "negaccr = tn/(tn+fn)\n",
    "print(f'Accuracy:{accr}, '\n",
    "      f'Positive Accuracy:{posaccr}, '\n",
    "      f'Negative Accuracy:{negaccr}, '\n",
    "      f'Weighted Accuracy:{0.5*(posaccr+negaccr)}')"
   ]
  },
  {
   "cell_type": "markdown",
   "metadata": {},
   "source": [
    "# Train Model 1 Epoch"
   ]
  },
  {
   "cell_type": "code",
   "execution_count": 14,
   "metadata": {},
   "outputs": [
    {
     "name": "stderr",
     "output_type": "stream",
     "text": [
      "Epoch 1/1, Training: 100%|█████████████████████████| 4371/4371 [00:34<00:00, 125.52it/s]\n",
      "Epoch 1/1, Validation: 100%|████████████████████████| 1999/1999 [00:38<00:00, 51.64it/s]"
     ]
    },
    {
     "name": "stdout",
     "output_type": "stream",
     "text": [
      "train loss: 0.54599, test loss: 0.57601\n"
     ]
    },
    {
     "name": "stderr",
     "output_type": "stream",
     "text": [
      "\n"
     ]
    }
   ],
   "source": [
    "NUM_EPOCHS = 1\n",
    "BATCH_SIZE = 1024\n",
    "\n",
    "model = CNN()\n",
    "model.cuda()\n",
    "\n",
    "loss_function = nn.CrossEntropyLoss(weight=torch.tensor([1.0,1.0])).cuda()\n",
    "optimizer = optim.Adam(model.parameters(), 0.001)\n",
    "# optimizer = optim.SGD(model.parameters(), lr=0.001)\n",
    "\n",
    "train_dataloader = data.DataLoader(\n",
    "    dataset=data.TensorDataset(train_x,train_y), \n",
    "    batch_size=BATCH_SIZE, shuffle=True, num_workers=16, pin_memory=True)\n",
    "\n",
    "test_dataloader = data.DataLoader(\n",
    "    data.TensorDataset(test_x,test_y), \n",
    "    batch_size=BATCH_SIZE, shuffle=False, num_workers=16, pin_memory=True)\n",
    "\n",
    "model.train()\n",
    "for epoch_idx in range(NUM_EPOCHS):  # again, normally you would NOT do 300 epochs, it is toy data\n",
    "\n",
    "    progress_training_epoch = tqdm(\n",
    "        train_dataloader, \n",
    "        desc=f'Epoch {epoch_idx+1}/{NUM_EPOCHS}, Training',\n",
    "        miniters=1, ncols=88, position=0,\n",
    "        leave=True, total=len(train_dataloader), smoothing=.9)\n",
    "\n",
    "    progress_validation_epoch = tqdm(\n",
    "        test_dataloader, \n",
    "        desc=f'Epoch {epoch_idx+1}/{NUM_EPOCHS}, Validation',\n",
    "        miniters=1, ncols=88, position=0, \n",
    "        leave=True, total=len(test_dataloader), smoothing=.9)\n",
    "\n",
    "    train_loss = 0\n",
    "    train_size = 0\n",
    "    for idx, (input, target) in enumerate(progress_training_epoch):\n",
    "        input = input.cuda()\n",
    "        target = target.cuda()\n",
    "        model.zero_grad()\n",
    "        predict = model(input)\n",
    "        loss = loss_function(predict, target)\n",
    "        loss.backward()\n",
    "        optimizer.step()\n",
    "        train_loss += loss * target.size()[0]\n",
    "        train_size += target.size()[0]\n",
    "\n",
    "    test_loss = 0\n",
    "    test_size = 0\n",
    "    predict = []\n",
    "    target = []\n",
    "    model.eval()\n",
    "    with torch.no_grad():\n",
    "        for idx, (batch_input, batch_target) in enumerate(progress_validation_epoch):\n",
    "            batch_input = batch_input.cuda()\n",
    "            batch_target = batch_target.cuda()\n",
    "            batch_predict = model(batch_input)\n",
    "            loss = loss_function(batch_predict, batch_target)\n",
    "            predict.append(batch_predict.argmax(dim=1).cpu().numpy())\n",
    "            target.append(batch_target.cpu().numpy())        \n",
    "            test_loss += loss * batch_target.size()[0]\n",
    "            test_size += batch_target.size()[0]\n",
    "    predict = np.concatenate(predict, axis=0)\n",
    "    target = np.concatenate(target, axis=0)\n",
    "\n",
    "#     print(f'train loss:{train_loss.item()/train_size: .5f}, '\n",
    "#           f'test loss:{test_loss.item()/test_size: .5f}, '\n",
    "#           f'overall accuracy:{(predict == target).sum() / target.size}, '\n",
    "#           f'positive accuracy:{predict[target==1].sum() / target.sum()}, '\n",
    "#           f'negative accuracy:{(np.logical_not(target).sum() - predict[np.logical_not(target)].sum()) / np.logical_not(target).sum()}')\n",
    "    \n",
    "    print(f'train loss:{train_loss.item()/train_size: .5f}, '\n",
    "          f'test loss:{test_loss.item()/test_size: .5f}')"
   ]
  },
  {
   "cell_type": "markdown",
   "metadata": {},
   "source": [
    "# Test"
   ]
  },
  {
   "cell_type": "code",
   "execution_count": 15,
   "metadata": {},
   "outputs": [
    {
     "name": "stdout",
     "output_type": "stream",
     "text": [
      "True Positive:1224055, True Negative:276115, False Positive:415303, False Negative:131457\n"
     ]
    }
   ],
   "source": [
    "test_dataloader = data.DataLoader(\n",
    "    data.TensorDataset(test_x,test_y), \n",
    "    batch_size=BATCH_SIZE, shuffle=False, num_workers=16, pin_memory=True)\n",
    "\n",
    "predict = []\n",
    "target = []\n",
    "model.eval()\n",
    "with torch.no_grad():\n",
    "    for idx, (batch_input, batch_target) in enumerate(progress_validation_epoch):\n",
    "        batch_input = batch_input.cuda()\n",
    "        batch_target = batch_target.cuda()\n",
    "        batch_predict = model(batch_input)\n",
    "        predict.append(batch_predict.argmax(dim=1).cpu().numpy())\n",
    "        target.append(batch_target.cpu().numpy())        \n",
    "predict = np.concatenate(predict, axis=0)\n",
    "target = np.concatenate(target, axis=0)\n",
    "\n",
    "tp = predict[target==1].sum()\n",
    "tn = (target==0).sum() - predict[target==0].sum()\n",
    "fp = predict[target==0].sum()\n",
    "fn = (target==1).sum() - predict[target==1].sum()\n",
    "\n",
    "print(f'True Positive:{tp}, '\n",
    "      f'True Negative:{tn}, '\n",
    "      f'False Positive:{fp}, '\n",
    "      f'False Negative:{fn}')"
   ]
  },
  {
   "cell_type": "code",
   "execution_count": 16,
   "metadata": {},
   "outputs": [
    {
     "name": "stdout",
     "output_type": "stream",
     "text": [
      "Accuracy:0.7328877880533287, Positive Accuracy:0.7466672929280853, Negative Accuracy:0.6774631230800938, Weighted Accuracy:0.7120652080040896\n"
     ]
    }
   ],
   "source": [
    "accr = (tp+tn)/(tp+tn+fp+fn)\n",
    "posaccr = tp/(tp+fp)\n",
    "negaccr = tn/(tn+fn)\n",
    "print(f'Accuracy:{accr}, '\n",
    "      f'Positive Accuracy:{posaccr}, '\n",
    "      f'Negative Accuracy:{negaccr}, '\n",
    "      f'Weighted Accuracy:{0.5*(posaccr+negaccr)}')"
   ]
  },
  {
   "cell_type": "markdown",
   "metadata": {},
   "source": [
    "# Bagging 9"
   ]
  },
  {
   "cell_type": "code",
   "execution_count": 21,
   "metadata": {},
   "outputs": [],
   "source": [
    "with open('../scrimmage4_link_dataset.pickle', 'rb') as file:\n",
    "    link_dataset = pickle.load(file)"
   ]
  },
  {
   "cell_type": "code",
   "execution_count": 22,
   "metadata": {},
   "outputs": [
    {
     "name": "stderr",
     "output_type": "stream",
     "text": [
      "Epoch 1/5, Training 1/9: 100%|█████████████████████| 4534/4534 [00:43<00:00, 104.24it/s]\n",
      "Epoch 1/5, Validation 1/9: 100%|████████████████████| 1999/1999 [00:48<00:00, 41.22it/s]\n",
      "Epoch 2/5, Validation 1/9:   0%|                               | 0/1999 [00:00<?, ?it/s]"
     ]
    },
    {
     "name": "stdout",
     "output_type": "stream",
     "text": [
      "train loss: 0.54223, test loss: 0.58075\n"
     ]
    },
    {
     "name": "stderr",
     "output_type": "stream",
     "text": [
      "Epoch 2/5, Training 1/9: 100%|█████████████████████| 4534/4534 [00:22<00:00, 200.05it/s]\n",
      "Epoch 2/5, Validation 1/9: 100%|████████████████████| 1999/1999 [00:28<00:00, 70.61it/s]\n",
      "Epoch 3/5, Validation 1/9:   0%|                               | 0/1999 [00:00<?, ?it/s]"
     ]
    },
    {
     "name": "stdout",
     "output_type": "stream",
     "text": [
      "train loss: 0.48470, test loss: 0.63997\n"
     ]
    },
    {
     "name": "stderr",
     "output_type": "stream",
     "text": [
      "Epoch 3/5, Training 1/9: 100%|█████████████████████| 4534/4534 [00:21<00:00, 207.10it/s]\n",
      "Epoch 3/5, Validation 1/9: 100%|████████████████████| 1999/1999 [00:27<00:00, 72.21it/s]\n",
      "Epoch 4/5, Validation 1/9:   0%|                               | 0/1999 [00:00<?, ?it/s]"
     ]
    },
    {
     "name": "stdout",
     "output_type": "stream",
     "text": [
      "train loss: 0.47324, test loss: 0.65561\n"
     ]
    },
    {
     "name": "stderr",
     "output_type": "stream",
     "text": [
      "Epoch 4/5, Training 1/9: 100%|█████████████████████| 4534/4534 [00:21<00:00, 208.69it/s]\n",
      "Epoch 4/5, Validation 1/9: 100%|████████████████████| 1999/1999 [00:26<00:00, 75.28it/s]\n",
      "Epoch 5/5, Validation 1/9:   0%|                               | 0/1999 [00:00<?, ?it/s]"
     ]
    },
    {
     "name": "stdout",
     "output_type": "stream",
     "text": [
      "train loss: 0.46933, test loss: 0.67694\n"
     ]
    },
    {
     "name": "stderr",
     "output_type": "stream",
     "text": [
      "Epoch 5/5, Training 1/9: 100%|█████████████████████| 4534/4534 [00:20<00:00, 216.44it/s]\n",
      "Epoch 5/5, Validation 1/9: 100%|████████████████████| 1999/1999 [00:26<00:00, 75.39it/s]\n"
     ]
    },
    {
     "name": "stdout",
     "output_type": "stream",
     "text": [
      "train loss: 0.46701, test loss: 0.69114\n"
     ]
    },
    {
     "name": "stderr",
     "output_type": "stream",
     "text": [
      "Epoch 1/5, Training 2/9: 100%|██████████████████████| 4508/4508 [00:46<00:00, 95.95it/s]\n",
      "Epoch 1/5, Validation 2/9: 100%|████████████████████| 1999/1999 [00:51<00:00, 38.89it/s]\n",
      "Epoch 2/5, Validation 2/9:   0%|                               | 0/1999 [00:00<?, ?it/s]"
     ]
    },
    {
     "name": "stdout",
     "output_type": "stream",
     "text": [
      "train loss: 0.53490, test loss: 0.59129\n"
     ]
    },
    {
     "name": "stderr",
     "output_type": "stream",
     "text": [
      "Epoch 2/5, Training 2/9: 100%|█████████████████████| 4508/4508 [00:18<00:00, 241.59it/s]\n",
      "Epoch 2/5, Validation 2/9: 100%|████████████████████| 1999/1999 [00:23<00:00, 85.95it/s]\n",
      "Epoch 3/5, Validation 2/9:   0%|                               | 0/1999 [00:00<?, ?it/s]"
     ]
    },
    {
     "name": "stdout",
     "output_type": "stream",
     "text": [
      "train loss: 0.48062, test loss: 0.63735\n"
     ]
    },
    {
     "name": "stderr",
     "output_type": "stream",
     "text": [
      "Epoch 3/5, Training 2/9: 100%|█████████████████████| 4508/4508 [00:19<00:00, 228.82it/s]\n",
      "Epoch 3/5, Validation 2/9: 100%|████████████████████| 1999/1999 [00:24<00:00, 80.82it/s]\n",
      "Epoch 4/5, Validation 2/9:   0%|                               | 0/1999 [00:00<?, ?it/s]"
     ]
    },
    {
     "name": "stdout",
     "output_type": "stream",
     "text": [
      "train loss: 0.47040, test loss: 0.66966\n"
     ]
    },
    {
     "name": "stderr",
     "output_type": "stream",
     "text": [
      "Epoch 4/5, Training 2/9: 100%|█████████████████████| 4508/4508 [00:20<00:00, 217.71it/s]\n",
      "Epoch 4/5, Validation 2/9: 100%|████████████████████| 1999/1999 [00:26<00:00, 76.17it/s]\n",
      "Epoch 5/5, Validation 2/9:   0%|                               | 0/1999 [00:00<?, ?it/s]"
     ]
    },
    {
     "name": "stdout",
     "output_type": "stream",
     "text": [
      "train loss: 0.46607, test loss: 0.68181\n"
     ]
    },
    {
     "name": "stderr",
     "output_type": "stream",
     "text": [
      "Epoch 5/5, Training 2/9: 100%|█████████████████████| 4508/4508 [00:21<00:00, 212.63it/s]\n",
      "Epoch 5/5, Validation 2/9: 100%|████████████████████| 1999/1999 [00:26<00:00, 74.08it/s]\n"
     ]
    },
    {
     "name": "stdout",
     "output_type": "stream",
     "text": [
      "train loss: 0.46368, test loss: 0.68311\n"
     ]
    },
    {
     "name": "stderr",
     "output_type": "stream",
     "text": [
      "Epoch 1/5, Training 3/9: 100%|██████████████████████| 4470/4470 [00:47<00:00, 93.85it/s]\n",
      "Epoch 1/5, Validation 3/9: 100%|████████████████████| 1999/1999 [00:52<00:00, 38.32it/s]\n",
      "Epoch 2/5, Validation 3/9:   0%|                               | 0/1999 [00:00<?, ?it/s]"
     ]
    },
    {
     "name": "stdout",
     "output_type": "stream",
     "text": [
      "train loss: 0.54301, test loss: 0.57737\n"
     ]
    },
    {
     "name": "stderr",
     "output_type": "stream",
     "text": [
      "Epoch 2/5, Training 3/9: 100%|█████████████████████| 4470/4470 [00:22<00:00, 195.97it/s]\n",
      "Epoch 2/5, Validation 3/9: 100%|████████████████████| 1999/1999 [00:28<00:00, 69.16it/s]\n",
      "Epoch 3/5, Validation 3/9:   0%|                               | 0/1999 [00:00<?, ?it/s]"
     ]
    },
    {
     "name": "stdout",
     "output_type": "stream",
     "text": [
      "train loss: 0.48821, test loss: 0.64818\n"
     ]
    },
    {
     "name": "stderr",
     "output_type": "stream",
     "text": [
      "Epoch 3/5, Training 3/9: 100%|█████████████████████| 4470/4470 [00:23<00:00, 192.91it/s]\n",
      "Epoch 3/5, Validation 3/9: 100%|████████████████████| 1999/1999 [00:28<00:00, 70.45it/s]\n",
      "Epoch 4/5, Validation 3/9:   0%|                               | 0/1999 [00:00<?, ?it/s]"
     ]
    },
    {
     "name": "stdout",
     "output_type": "stream",
     "text": [
      "train loss: 0.47739, test loss: 0.65977\n"
     ]
    },
    {
     "name": "stderr",
     "output_type": "stream",
     "text": [
      "Epoch 4/5, Training 3/9: 100%|█████████████████████| 4470/4470 [00:23<00:00, 190.69it/s]\n",
      "Epoch 4/5, Validation 3/9: 100%|████████████████████| 1999/1999 [00:28<00:00, 69.28it/s]\n",
      "Epoch 5/5, Validation 3/9:   0%|                               | 0/1999 [00:00<?, ?it/s]"
     ]
    },
    {
     "name": "stdout",
     "output_type": "stream",
     "text": [
      "train loss: 0.47380, test loss: 0.66694\n"
     ]
    },
    {
     "name": "stderr",
     "output_type": "stream",
     "text": [
      "Epoch 5/5, Training 3/9: 100%|█████████████████████| 4470/4470 [00:24<00:00, 181.00it/s]\n",
      "Epoch 5/5, Validation 3/9: 100%|████████████████████| 1999/1999 [00:30<00:00, 64.70it/s]\n"
     ]
    },
    {
     "name": "stdout",
     "output_type": "stream",
     "text": [
      "train loss: 0.47184, test loss: 0.66952\n"
     ]
    },
    {
     "name": "stderr",
     "output_type": "stream",
     "text": [
      "Epoch 1/5, Training 4/9: 100%|██████████████████████| 4309/4309 [00:51<00:00, 83.52it/s]\n",
      "Epoch 1/5, Validation 4/9: 100%|████████████████████| 1999/1999 [00:58<00:00, 33.88it/s]\n",
      "Epoch 2/5, Validation 4/9:   0%|                               | 0/1999 [00:00<?, ?it/s]"
     ]
    },
    {
     "name": "stdout",
     "output_type": "stream",
     "text": [
      "train loss: 0.53681, test loss: 0.57989\n"
     ]
    },
    {
     "name": "stderr",
     "output_type": "stream",
     "text": [
      "Epoch 2/5, Training 4/9: 100%|█████████████████████| 4309/4309 [00:22<00:00, 193.22it/s]\n",
      "Epoch 2/5, Validation 4/9: 100%|████████████████████| 1999/1999 [00:28<00:00, 71.24it/s]\n",
      "Epoch 3/5, Validation 4/9:   0%|                               | 0/1999 [00:00<?, ?it/s]"
     ]
    },
    {
     "name": "stdout",
     "output_type": "stream",
     "text": [
      "train loss: 0.46685, test loss: 0.64060\n"
     ]
    },
    {
     "name": "stderr",
     "output_type": "stream",
     "text": [
      "Epoch 3/5, Training 4/9: 100%|█████████████████████| 4309/4309 [00:19<00:00, 217.82it/s]\n",
      "Epoch 3/5, Validation 4/9: 100%|████████████████████| 1999/1999 [00:24<00:00, 81.67it/s]\n",
      "Epoch 4/5, Validation 4/9:   0%|                               | 0/1999 [00:00<?, ?it/s]"
     ]
    },
    {
     "name": "stdout",
     "output_type": "stream",
     "text": [
      "train loss: 0.45444, test loss: 0.65326\n"
     ]
    },
    {
     "name": "stderr",
     "output_type": "stream",
     "text": [
      "Epoch 4/5, Training 4/9: 100%|█████████████████████| 4309/4309 [00:19<00:00, 219.87it/s]\n",
      "Epoch 4/5, Validation 4/9: 100%|████████████████████| 1999/1999 [00:24<00:00, 80.99it/s]\n",
      "Epoch 5/5, Validation 4/9:   0%|                               | 0/1999 [00:00<?, ?it/s]"
     ]
    },
    {
     "name": "stdout",
     "output_type": "stream",
     "text": [
      "train loss: 0.45051, test loss: 0.66095\n"
     ]
    },
    {
     "name": "stderr",
     "output_type": "stream",
     "text": [
      "Epoch 5/5, Training 4/9: 100%|█████████████████████| 4309/4309 [00:20<00:00, 209.66it/s]\n",
      "Epoch 5/5, Validation 4/9: 100%|████████████████████| 1999/1999 [00:26<00:00, 75.79it/s]\n"
     ]
    },
    {
     "name": "stdout",
     "output_type": "stream",
     "text": [
      "train loss: 0.44813, test loss: 0.67458\n"
     ]
    },
    {
     "name": "stderr",
     "output_type": "stream",
     "text": [
      "Epoch 1/5, Training 5/9: 100%|██████████████████████| 4333/4333 [00:46<00:00, 92.63it/s]\n",
      "Epoch 1/5, Validation 5/9: 100%|████████████████████| 1999/1999 [00:52<00:00, 37.97it/s]\n",
      "Epoch 2/5, Validation 5/9:   0%|                               | 0/1999 [00:00<?, ?it/s]"
     ]
    },
    {
     "name": "stdout",
     "output_type": "stream",
     "text": [
      "train loss: 0.53404, test loss: 0.58997\n"
     ]
    },
    {
     "name": "stderr",
     "output_type": "stream",
     "text": [
      "Epoch 2/5, Training 5/9: 100%|█████████████████████| 4333/4333 [00:21<00:00, 202.18it/s]\n",
      "Epoch 2/5, Validation 5/9: 100%|████████████████████| 1999/1999 [00:27<00:00, 73.09it/s]\n",
      "Epoch 3/5, Validation 5/9:   0%|                               | 0/1999 [00:00<?, ?it/s]"
     ]
    },
    {
     "name": "stdout",
     "output_type": "stream",
     "text": [
      "train loss: 0.47091, test loss: 0.69035\n"
     ]
    },
    {
     "name": "stderr",
     "output_type": "stream",
     "text": [
      "Epoch 3/5, Training 5/9: 100%|█████████████████████| 4333/4333 [00:20<00:00, 206.97it/s]\n",
      "Epoch 3/5, Validation 5/9: 100%|████████████████████| 1999/1999 [00:25<00:00, 77.82it/s]\n",
      "Epoch 4/5, Validation 5/9:   0%|                               | 0/1999 [00:00<?, ?it/s]"
     ]
    },
    {
     "name": "stdout",
     "output_type": "stream",
     "text": [
      "train loss: 0.45985, test loss: 0.71614\n"
     ]
    },
    {
     "name": "stderr",
     "output_type": "stream",
     "text": [
      "Epoch 4/5, Training 5/9: 100%|█████████████████████| 4333/4333 [00:23<00:00, 187.82it/s]\n",
      "Epoch 4/5, Validation 5/9: 100%|████████████████████| 1999/1999 [00:28<00:00, 70.24it/s]\n",
      "Epoch 5/5, Validation 5/9:   0%|                               | 0/1999 [00:00<?, ?it/s]"
     ]
    },
    {
     "name": "stdout",
     "output_type": "stream",
     "text": [
      "train loss: 0.45569, test loss: 0.73245\n"
     ]
    },
    {
     "name": "stderr",
     "output_type": "stream",
     "text": [
      "Epoch 5/5, Training 5/9: 100%|█████████████████████| 4333/4333 [00:24<00:00, 179.02it/s]\n",
      "Epoch 5/5, Validation 5/9: 100%|████████████████████| 1999/1999 [00:30<00:00, 65.13it/s]\n"
     ]
    },
    {
     "name": "stdout",
     "output_type": "stream",
     "text": [
      "train loss: 0.45324, test loss: 0.73995\n"
     ]
    },
    {
     "name": "stderr",
     "output_type": "stream",
     "text": [
      "Epoch 1/5, Training 6/9: 100%|██████████████████████| 4295/4295 [00:52<00:00, 81.51it/s]\n",
      "Epoch 1/5, Validation 6/9: 100%|████████████████████| 1999/1999 [00:58<00:00, 34.16it/s]\n",
      "Epoch 2/5, Validation 6/9:   0%|                               | 0/1999 [00:00<?, ?it/s]"
     ]
    },
    {
     "name": "stdout",
     "output_type": "stream",
     "text": [
      "train loss: 0.54249, test loss: 0.58798\n"
     ]
    },
    {
     "name": "stderr",
     "output_type": "stream",
     "text": [
      "Epoch 2/5, Training 6/9: 100%|█████████████████████| 4295/4295 [00:23<00:00, 185.20it/s]\n",
      "Epoch 2/5, Validation 6/9: 100%|████████████████████| 1999/1999 [00:28<00:00, 70.15it/s]\n",
      "Epoch 3/5, Validation 6/9:   0%|                               | 0/1999 [00:00<?, ?it/s]"
     ]
    },
    {
     "name": "stdout",
     "output_type": "stream",
     "text": [
      "train loss: 0.48354, test loss: 0.62804\n"
     ]
    },
    {
     "name": "stderr",
     "output_type": "stream",
     "text": [
      "Epoch 3/5, Training 6/9: 100%|█████████████████████| 4295/4295 [00:21<00:00, 198.84it/s]\n",
      "Epoch 3/5, Validation 6/9: 100%|████████████████████| 1999/1999 [00:25<00:00, 77.06it/s]\n",
      "Epoch 4/5, Validation 6/9:   0%|                               | 0/1999 [00:00<?, ?it/s]"
     ]
    },
    {
     "name": "stdout",
     "output_type": "stream",
     "text": [
      "train loss: 0.47174, test loss: 0.64840\n"
     ]
    },
    {
     "name": "stderr",
     "output_type": "stream",
     "text": [
      "Epoch 4/5, Training 6/9: 100%|█████████████████████| 4295/4295 [00:20<00:00, 208.08it/s]\n",
      "Epoch 4/5, Validation 6/9: 100%|████████████████████| 1999/1999 [00:25<00:00, 78.59it/s]\n",
      "Epoch 5/5, Validation 6/9:   0%|                               | 0/1999 [00:00<?, ?it/s]"
     ]
    },
    {
     "name": "stdout",
     "output_type": "stream",
     "text": [
      "train loss: 0.46715, test loss: 0.66488\n"
     ]
    },
    {
     "name": "stderr",
     "output_type": "stream",
     "text": [
      "Epoch 5/5, Training 6/9: 100%|█████████████████████| 4295/4295 [00:20<00:00, 209.70it/s]\n",
      "Epoch 5/5, Validation 6/9: 100%|████████████████████| 1999/1999 [00:26<00:00, 76.47it/s]\n"
     ]
    },
    {
     "name": "stdout",
     "output_type": "stream",
     "text": [
      "train loss: 0.46477, test loss: 0.67445\n"
     ]
    },
    {
     "name": "stderr",
     "output_type": "stream",
     "text": [
      "Epoch 1/5, Training 7/9: 100%|██████████████████████| 4340/4340 [00:46<00:00, 94.05it/s]\n",
      "Epoch 1/5, Validation 7/9: 100%|████████████████████| 1999/1999 [00:51<00:00, 38.61it/s]\n",
      "Epoch 2/5, Validation 7/9:   0%|                               | 0/1999 [00:00<?, ?it/s]"
     ]
    },
    {
     "name": "stdout",
     "output_type": "stream",
     "text": [
      "train loss: 0.53159, test loss: 0.59178\n"
     ]
    },
    {
     "name": "stderr",
     "output_type": "stream",
     "text": [
      "Epoch 2/5, Training 7/9: 100%|█████████████████████| 4340/4340 [00:20<00:00, 208.03it/s]\n",
      "Epoch 2/5, Validation 7/9: 100%|████████████████████| 1999/1999 [00:26<00:00, 75.51it/s]\n",
      "Epoch 3/5, Validation 7/9:   0%|                               | 0/1999 [00:00<?, ?it/s]"
     ]
    },
    {
     "name": "stdout",
     "output_type": "stream",
     "text": [
      "train loss: 0.47242, test loss: 0.66613\n"
     ]
    },
    {
     "name": "stderr",
     "output_type": "stream",
     "text": [
      "Epoch 3/5, Training 7/9: 100%|█████████████████████| 4340/4340 [00:20<00:00, 207.49it/s]\n",
      "Epoch 3/5, Validation 7/9: 100%|████████████████████| 1999/1999 [00:26<00:00, 76.17it/s]\n",
      "Epoch 4/5, Validation 7/9:   0%|                               | 0/1999 [00:00<?, ?it/s]"
     ]
    },
    {
     "name": "stdout",
     "output_type": "stream",
     "text": [
      "train loss: 0.46033, test loss: 0.68080\n"
     ]
    },
    {
     "name": "stderr",
     "output_type": "stream",
     "text": [
      "Epoch 4/5, Training 7/9: 100%|█████████████████████| 4340/4340 [00:21<00:00, 202.88it/s]\n",
      "Epoch 4/5, Validation 7/9: 100%|████████████████████| 1999/1999 [00:27<00:00, 72.86it/s]\n",
      "Epoch 5/5, Validation 7/9:   0%|                               | 0/1999 [00:00<?, ?it/s]"
     ]
    },
    {
     "name": "stdout",
     "output_type": "stream",
     "text": [
      "train loss: 0.45645, test loss: 0.68311\n"
     ]
    },
    {
     "name": "stderr",
     "output_type": "stream",
     "text": [
      "Epoch 5/5, Training 7/9: 100%|█████████████████████| 4340/4340 [00:22<00:00, 193.10it/s]\n",
      "Epoch 5/5, Validation 7/9: 100%|████████████████████| 1999/1999 [00:27<00:00, 72.49it/s]\n"
     ]
    },
    {
     "name": "stdout",
     "output_type": "stream",
     "text": [
      "train loss: 0.45405, test loss: 0.69676\n"
     ]
    },
    {
     "name": "stderr",
     "output_type": "stream",
     "text": [
      "Epoch 1/5, Training 8/9: 100%|██████████████████████| 4565/4565 [00:53<00:00, 84.86it/s]\n",
      "Epoch 1/5, Validation 8/9: 100%|████████████████████| 1999/1999 [00:59<00:00, 33.42it/s]\n",
      "Epoch 2/5, Validation 8/9:   0%|                               | 0/1999 [00:00<?, ?it/s]"
     ]
    },
    {
     "name": "stdout",
     "output_type": "stream",
     "text": [
      "train loss: 0.55366, test loss: 0.58695\n"
     ]
    },
    {
     "name": "stderr",
     "output_type": "stream",
     "text": [
      "Epoch 2/5, Training 8/9: 100%|█████████████████████| 4565/4565 [00:21<00:00, 208.30it/s]\n",
      "Epoch 2/5, Validation 8/9: 100%|████████████████████| 1999/1999 [00:26<00:00, 74.13it/s]\n",
      "Epoch 3/5, Validation 8/9:   0%|                               | 0/1999 [00:00<?, ?it/s]"
     ]
    },
    {
     "name": "stdout",
     "output_type": "stream",
     "text": [
      "train loss: 0.49627, test loss: 0.63544\n"
     ]
    },
    {
     "name": "stderr",
     "output_type": "stream",
     "text": [
      "Epoch 3/5, Training 8/9: 100%|█████████████████████| 4565/4565 [00:18<00:00, 243.82it/s]\n",
      "Epoch 3/5, Validation 8/9: 100%|████████████████████| 1999/1999 [00:22<00:00, 88.99it/s]\n",
      "Epoch 4/5, Validation 8/9:   0%|                               | 0/1999 [00:00<?, ?it/s]"
     ]
    },
    {
     "name": "stdout",
     "output_type": "stream",
     "text": [
      "train loss: 0.48525, test loss: 0.63457\n"
     ]
    },
    {
     "name": "stderr",
     "output_type": "stream",
     "text": [
      "Epoch 4/5, Training 8/9: 100%|█████████████████████| 4565/4565 [00:18<00:00, 242.53it/s]\n",
      "Epoch 4/5, Validation 8/9: 100%|████████████████████| 1999/1999 [00:24<00:00, 81.72it/s]\n",
      "Epoch 5/5, Validation 8/9:   0%|                               | 0/1999 [00:00<?, ?it/s]"
     ]
    },
    {
     "name": "stdout",
     "output_type": "stream",
     "text": [
      "train loss: 0.48061, test loss: 0.64247\n"
     ]
    },
    {
     "name": "stderr",
     "output_type": "stream",
     "text": [
      "Epoch 5/5, Training 8/9: 100%|█████████████████████| 4565/4565 [00:21<00:00, 215.15it/s]\n",
      "Epoch 5/5, Validation 8/9: 100%|████████████████████| 1999/1999 [00:26<00:00, 75.50it/s]\n"
     ]
    },
    {
     "name": "stdout",
     "output_type": "stream",
     "text": [
      "train loss: 0.47812, test loss: 0.64384\n"
     ]
    },
    {
     "name": "stderr",
     "output_type": "stream",
     "text": [
      "Epoch 1/5, Training 9/9: 100%|██████████████████████| 4300/4300 [00:43<00:00, 98.89it/s]\n",
      "Epoch 1/5, Validation 9/9: 100%|████████████████████| 1999/1999 [00:48<00:00, 41.35it/s]\n",
      "Epoch 2/5, Validation 9/9:   0%|                               | 0/1999 [00:00<?, ?it/s]"
     ]
    },
    {
     "name": "stdout",
     "output_type": "stream",
     "text": [
      "train loss: 0.54354, test loss: 0.58648\n"
     ]
    },
    {
     "name": "stderr",
     "output_type": "stream",
     "text": [
      "Epoch 2/5, Training 9/9: 100%|█████████████████████| 4300/4300 [00:20<00:00, 214.14it/s]\n",
      "Epoch 2/5, Validation 9/9: 100%|████████████████████| 1999/1999 [00:25<00:00, 77.44it/s]\n",
      "Epoch 3/5, Validation 9/9:   0%|                               | 0/1999 [00:00<?, ?it/s]"
     ]
    },
    {
     "name": "stdout",
     "output_type": "stream",
     "text": [
      "train loss: 0.49216, test loss: 0.63518\n"
     ]
    },
    {
     "name": "stderr",
     "output_type": "stream",
     "text": [
      "Epoch 3/5, Training 9/9: 100%|█████████████████████| 4300/4300 [00:20<00:00, 209.64it/s]\n",
      "Epoch 3/5, Validation 9/9: 100%|████████████████████| 1999/1999 [00:25<00:00, 78.96it/s]\n",
      "Epoch 4/5, Validation 9/9:   0%|                               | 0/1999 [00:00<?, ?it/s]"
     ]
    },
    {
     "name": "stdout",
     "output_type": "stream",
     "text": [
      "train loss: 0.48185, test loss: 0.63928\n"
     ]
    },
    {
     "name": "stderr",
     "output_type": "stream",
     "text": [
      "Epoch 4/5, Training 9/9: 100%|█████████████████████| 4300/4300 [00:20<00:00, 210.80it/s]\n",
      "Epoch 4/5, Validation 9/9: 100%|████████████████████| 1999/1999 [00:26<00:00, 76.58it/s]\n",
      "Epoch 5/5, Validation 9/9:   0%|                               | 0/1999 [00:00<?, ?it/s]"
     ]
    },
    {
     "name": "stdout",
     "output_type": "stream",
     "text": [
      "train loss: 0.47833, test loss: 0.65052\n"
     ]
    },
    {
     "name": "stderr",
     "output_type": "stream",
     "text": [
      "Epoch 5/5, Training 9/9: 100%|█████████████████████| 4300/4300 [00:20<00:00, 208.48it/s]\n",
      "Epoch 5/5, Validation 9/9: 100%|████████████████████| 1999/1999 [00:26<00:00, 74.13it/s]"
     ]
    },
    {
     "name": "stdout",
     "output_type": "stream",
     "text": [
      "train loss: 0.47599, test loss: 0.65672\n"
     ]
    },
    {
     "name": "stderr",
     "output_type": "stream",
     "text": [
      "\n"
     ]
    }
   ],
   "source": [
    "NUM_EPOCHS = 5\n",
    "model_list = []\n",
    "BATCH_SIZE = 1024\n",
    "\n",
    "for model_idx in range(9):\n",
    "    \n",
    "    train_data = []\n",
    "    for link_idx in np.random.choice(200,size=200,replace=True):\n",
    "        train_data.append(link_dataset[link_idx])\n",
    "    test_data = link_dataset[200:]\n",
    "    \n",
    "    train_x = torch.cat(tuple(link[0] for link in train_data),dim=0)\n",
    "    train_y = torch.cat(tuple(link[1] for link in train_data),dim=0)\n",
    "    test_x = torch.cat(tuple(link[0] for link in test_data),dim=0)\n",
    "    test_y = torch.cat(tuple(link[1] for link in test_data),dim=0)\n",
    "    \n",
    "    train_x = train_x.view(-1,1,20)\n",
    "    test_x = test_x.view(-1,1,20)\n",
    "\n",
    "    model = CNN()\n",
    "    model.cuda()\n",
    "\n",
    "    loss_function = nn.CrossEntropyLoss(weight=torch.tensor([1.0,1.0])).cuda()\n",
    "    optimizer = optim.Adam(model.parameters(), 0.001)\n",
    "\n",
    "    train_dataloader = data.DataLoader(\n",
    "        dataset=data.TensorDataset(train_x,train_y), \n",
    "        batch_size=BATCH_SIZE, shuffle=True, num_workers=16, pin_memory=True)\n",
    "\n",
    "    test_dataloader = data.DataLoader(\n",
    "        data.TensorDataset(test_x,test_y), \n",
    "        batch_size=BATCH_SIZE, shuffle=False, num_workers=16, pin_memory=True)\n",
    "\n",
    "    model.train()\n",
    "    for epoch_idx in range(NUM_EPOCHS):  # again, normally you would NOT do 300 epochs, it is toy data\n",
    "\n",
    "        progress_training_epoch = tqdm(\n",
    "            train_dataloader, \n",
    "            desc=f'Epoch {epoch_idx+1}/{NUM_EPOCHS}, Training {model_idx+1}/9',\n",
    "            miniters=1, ncols=88, position=0,\n",
    "            leave=True, total=len(train_dataloader), smoothing=.9)\n",
    "\n",
    "        progress_validation_epoch = tqdm(\n",
    "            test_dataloader, \n",
    "            desc=f'Epoch {epoch_idx+1}/{NUM_EPOCHS}, Validation {model_idx+1}/9',\n",
    "            miniters=1, ncols=88, position=0, \n",
    "            leave=True, total=len(test_dataloader), smoothing=.9)\n",
    "\n",
    "        train_loss = 0\n",
    "        train_size = 0\n",
    "        for idx, (input, target) in enumerate(progress_training_epoch):\n",
    "            input = input.cuda()\n",
    "            target = target.cuda()\n",
    "            model.zero_grad()\n",
    "            predict = model(input)\n",
    "            loss = loss_function(predict, target)\n",
    "            loss.backward()\n",
    "            optimizer.step()\n",
    "            train_loss += loss * target.size()[0]\n",
    "            train_size += target.size()[0]\n",
    "\n",
    "        test_loss = 0\n",
    "        test_size = 0\n",
    "        model.eval()\n",
    "        with torch.no_grad():\n",
    "            for idx, (batch_input, batch_target) in enumerate(progress_validation_epoch):\n",
    "                batch_input = batch_input.cuda()\n",
    "                batch_target = batch_target.cuda()\n",
    "                batch_predict = model(batch_input)\n",
    "                loss = loss_function(batch_predict, batch_target)\n",
    "                test_loss += loss * batch_target.size()[0]\n",
    "                test_size += batch_target.size()[0]\n",
    "\n",
    "        print(f'train loss:{train_loss.item()/train_size: .5f}, '\n",
    "              f'test loss:{test_loss.item()/test_size: .5f}')\n",
    "        \n",
    "    model_list.append(model) "
   ]
  },
  {
   "cell_type": "markdown",
   "metadata": {},
   "source": [
    "# Test"
   ]
  },
  {
   "cell_type": "code",
   "execution_count": 23,
   "metadata": {},
   "outputs": [
    {
     "name": "stderr",
     "output_type": "stream",
     "text": [
      "Epoch 5/5, Validation: 100%|███████████████████████| 1999/1999 [00:04<00:00, 416.07it/s]\n",
      "Epoch 5/5, Validation: 100%|███████████████████████| 1999/1999 [00:05<00:00, 348.52it/s]\n",
      "Epoch 5/5, Validation: 100%|███████████████████████| 1999/1999 [00:05<00:00, 370.81it/s]\n",
      "Epoch 5/5, Validation: 100%|███████████████████████| 1999/1999 [00:06<00:00, 296.05it/s]\n",
      "Epoch 5/5, Validation: 100%|███████████████████████| 1999/1999 [00:06<00:00, 330.16it/s]\n",
      "Epoch 5/5, Validation: 100%|███████████████████████| 1999/1999 [00:05<00:00, 344.70it/s]\n",
      "Epoch 5/5, Validation: 100%|███████████████████████| 1999/1999 [00:04<00:00, 403.74it/s]\n",
      "Epoch 5/5, Validation: 100%|███████████████████████| 1999/1999 [00:05<00:00, 391.15it/s]\n",
      "Epoch 5/5, Validation: 100%|███████████████████████| 1999/1999 [00:05<00:00, 369.04it/s]"
     ]
    },
    {
     "name": "stdout",
     "output_type": "stream",
     "text": [
      "True Positive:1146511, True Negative:286288, False Positive:405130, False Negative:209001\n"
     ]
    },
    {
     "name": "stderr",
     "output_type": "stream",
     "text": [
      "\n"
     ]
    }
   ],
   "source": [
    "predict_agg = []\n",
    "target_agg = []\n",
    "\n",
    "for model in model_list:\n",
    "    \n",
    "    test_dataloader = data.DataLoader(\n",
    "        data.TensorDataset(test_x,test_y), \n",
    "        batch_size=BATCH_SIZE, shuffle=False, num_workers=16, pin_memory=True)\n",
    "\n",
    "    progress_validation_epoch = tqdm(\n",
    "        test_dataloader, \n",
    "        desc=f'Epoch {epoch_idx+1}/{NUM_EPOCHS}, Validation',\n",
    "        miniters=1, ncols=88, position=0, \n",
    "        leave=True, total=len(test_dataloader), smoothing=.9)\n",
    "    \n",
    "    predict = []\n",
    "    target = []\n",
    "    model.eval()\n",
    "    with torch.no_grad():\n",
    "        for idx, (batch_input, batch_target) in enumerate(progress_validation_epoch):\n",
    "            batch_input = batch_input.cuda()\n",
    "            batch_target = batch_target.cuda()\n",
    "            batch_predict = model(batch_input)\n",
    "            predict.append(batch_predict.argmax(dim=1).cpu().numpy())\n",
    "            target.append(batch_target.cpu().numpy())        \n",
    "    predict = np.concatenate(predict, axis=0)\n",
    "    target = np.concatenate(target, axis=0)\n",
    "    \n",
    "    predict_agg.append(predict)\n",
    "    target_agg.append(target)\n",
    "\n",
    "predict = (np.array(predict_agg).sum(axis=0) > 4.5)\n",
    "target = target_agg[0]\n",
    "tp = predict[target==1].sum()\n",
    "tn = (target==0).sum() - predict[target==0].sum()\n",
    "fp = predict[target==0].sum()\n",
    "fn = (target==1).sum() - predict[target==1].sum()\n",
    "\n",
    "print(f'True Positive:{tp}, '\n",
    "      f'True Negative:{tn}, '\n",
    "      f'False Positive:{fp}, '\n",
    "      f'False Negative:{fn}')"
   ]
  },
  {
   "cell_type": "code",
   "execution_count": 24,
   "metadata": {},
   "outputs": [
    {
     "name": "stdout",
     "output_type": "stream",
     "text": [
      "Accuracy:0.6999745961024558, Positive Accuracy:0.7389022331840935, Negative Accuracy:0.5780221244566304, Weighted Accuracy:0.658462178820362\n"
     ]
    }
   ],
   "source": [
    "accr = (tp+tn)/(tp+tn+fp+fn)\n",
    "posaccr = tp/(tp+fp)\n",
    "negaccr = tn/(tn+fn)\n",
    "print(f'Accuracy:{accr}, '\n",
    "      f'Positive Accuracy:{posaccr}, '\n",
    "      f'Negative Accuracy:{negaccr}, '\n",
    "      f'Weighted Accuracy:{0.5*(posaccr+negaccr)}')"
   ]
  },
  {
   "cell_type": "code",
   "execution_count": null,
   "metadata": {},
   "outputs": [],
   "source": []
  }
 ],
 "metadata": {
  "kernelspec": {
   "display_name": "Python 3",
   "language": "python",
   "name": "python3"
  },
  "language_info": {
   "codemirror_mode": {
    "name": "ipython",
    "version": 3
   },
   "file_extension": ".py",
   "mimetype": "text/x-python",
   "name": "python",
   "nbconvert_exporter": "python",
   "pygments_lexer": "ipython3",
   "version": "3.7.5"
  }
 },
 "nbformat": 4,
 "nbformat_minor": 2
}
