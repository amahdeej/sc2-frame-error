{
 "cells": [
  {
   "cell_type": "markdown",
   "metadata": {},
   "source": [
    "# Libraries"
   ]
  },
  {
   "cell_type": "code",
   "execution_count": 1,
   "metadata": {},
   "outputs": [],
   "source": [
    "import sqlite3\n",
    "import numpy as np\n",
    "from collections import OrderedDict, namedtuple\n",
    "from distutils.spawn import find_executable\n",
    "import matplotlib.pyplot as plt\n",
    "\n",
    "import sys\n",
    "import subprocess\n",
    "import pathlib\n",
    "import tempfile\n",
    "import importlib\n",
    "import os\n",
    "import time\n",
    "import random\n",
    "import pickle\n",
    "\n",
    "import math\n",
    "\n",
    "from configparser import ConfigParser\n",
    "\n",
    "# from google.protobuf.json_format import MessageToDict"
   ]
  },
  {
   "cell_type": "code",
   "execution_count": 2,
   "metadata": {},
   "outputs": [],
   "source": [
    "# DEVICE = 0\n",
    "\n",
    "import os\n",
    "import time\n",
    "import pickle\n",
    "import numpy as np\n",
    "from tqdm import tqdm\n",
    "import matplotlib.pyplot as plt\n",
    "import seaborn as sn\n",
    "import pandas as pd\n",
    "\n",
    "import torch\n",
    "torch.backends.cudnn.benchmark = True\n",
    "import torch.optim as optim\n",
    "import torch.nn as nn\n",
    "import torch.nn.functional as F\n",
    "from torch.autograd import Variable\n",
    "from torch.utils import data\n",
    "\n",
    "# torch.cuda.set_device(DEVICE)\n",
    "torch.cuda.empty_cache() \n",
    "torch.backends.cudnn.benchmark=True"
   ]
  },
  {
   "cell_type": "code",
   "execution_count": 3,
   "metadata": {},
   "outputs": [],
   "source": [
    "np.random.seed(0)\n",
    "torch.manual_seed(0)\n",
    "\n",
    "import os\n",
    "os.environ['CUDA_VISIBLE_DEVICES']='0'"
   ]
  },
  {
   "cell_type": "markdown",
   "metadata": {},
   "source": [
    "# load the dataset"
   ]
  },
  {
   "cell_type": "code",
   "execution_count": 4,
   "metadata": {},
   "outputs": [],
   "source": [
    "with open('scrimmage5_link_dataset.pickle', 'rb') as file:\n",
    "    link_dataset = pickle.load(file)"
   ]
  },
  {
   "cell_type": "code",
   "execution_count": 5,
   "metadata": {},
   "outputs": [],
   "source": [
    "train_x_npn = []\n",
    "train_y_npn = []\n",
    "test_x_npn = []\n",
    "test_y_npn = []\n",
    "\n",
    "train_data = []\n",
    "test_data = []\n",
    "\n",
    "\n",
    "for i in range(len(link_dataset)):\n",
    "    datalen = len(link_dataset[i][1])\n",
    "    trainlen = round(datalen*2/3)\n",
    "    testlen = datalen -trainlen        \n",
    "    train_x_npn = link_dataset[i][0][0:trainlen].numpy()   \n",
    "    train_y_npn = link_dataset[i][1][0:trainlen].numpy()\n",
    "    test_x_npn = link_dataset[i][0][trainlen:trainlen+testlen].numpy()\n",
    "    test_y_npn = link_dataset[i][1][trainlen:trainlen+testlen].numpy()\n",
    "\n",
    "    train_data.append([torch.from_numpy(train_x_npn), torch.from_numpy(train_y_npn)])\n",
    "    test_data.append([torch.from_numpy(test_x_npn), torch.from_numpy(test_y_npn)])"
   ]
  },
  {
   "cell_type": "code",
   "execution_count": 6,
   "metadata": {},
   "outputs": [],
   "source": [
    "class LSTMTagger(nn.Module):\n",
    "\n",
    "    def __init__(self, embedding_dim, hidden_dim, tagset_size):\n",
    "        super(LSTMTagger, self).__init__()\n",
    "        self.hidden_dim = hidden_dim\n",
    "\n",
    "        # The LSTM takes word embeddings as inputs, and outputs hidden states\n",
    "        # with dimensionality hidden_dim.\n",
    "        self.lstm = nn.LSTM(embedding_dim, hidden_dim)\n",
    "\n",
    "        # The linear layer that maps from hidden state space to tag space\n",
    "        self.hidden2tag = nn.Linear(hidden_dim, tagset_size)\n",
    "\n",
    "    def forward(self, sentence):\n",
    "        lstm_out, _ = self.lstm(sentence.view(len(sentence), 1, -1))\n",
    "        tag_space = self.hidden2tag(lstm_out.view(len(sentence), -1))\n",
    "        tag_scores = F.log_softmax(tag_space, dim=1)\n",
    "        return tag_scores"
   ]
  },
  {
   "cell_type": "markdown",
   "metadata": {},
   "source": [
    "# Train Model 10 Epoch"
   ]
  },
  {
   "cell_type": "code",
   "execution_count": 7,
   "metadata": {
    "scrolled": false
   },
   "outputs": [
    {
     "name": "stderr",
     "output_type": "stream",
     "text": [
      "Epoch 0/10, Training: 100%|███████████████████████████| 627/627 [11:20<00:00,  1.09s/it]\n",
      "Epoch 0/10, Validation: 100%|█████████████████████████| 627/627 [13:45<00:00,  1.32s/it]\n",
      "Epoch 1/10, Validation:   0%|                                   | 0/627 [00:00<?, ?it/s]"
     ]
    },
    {
     "name": "stdout",
     "output_type": "stream",
     "text": [
      "train loss: 0.52205, test loss: 0.54678\n"
     ]
    },
    {
     "name": "stderr",
     "output_type": "stream",
     "text": [
      "Epoch 1/10, Training: 100%|███████████████████████████| 627/627 [10:07<00:00,  1.03it/s]\n",
      "Epoch 1/10, Validation: 100%|█████████████████████████| 627/627 [12:29<00:00,  1.20s/it]\n",
      "Epoch 2/10, Validation:   0%|                                   | 0/627 [00:00<?, ?it/s]"
     ]
    },
    {
     "name": "stdout",
     "output_type": "stream",
     "text": [
      "train loss: 0.50612, test loss: 0.54447\n"
     ]
    },
    {
     "name": "stderr",
     "output_type": "stream",
     "text": [
      "Epoch 2/10, Training: 100%|███████████████████████████| 627/627 [10:10<00:00,  1.03it/s]\n",
      "Epoch 2/10, Validation: 100%|█████████████████████████| 627/627 [12:32<00:00,  1.20s/it]\n",
      "Epoch 3/10, Validation:   0%|                                   | 0/627 [00:00<?, ?it/s]"
     ]
    },
    {
     "name": "stdout",
     "output_type": "stream",
     "text": [
      "train loss: 0.50319, test loss: 0.54831\n"
     ]
    },
    {
     "name": "stderr",
     "output_type": "stream",
     "text": [
      "Epoch 3/10, Training: 100%|███████████████████████████| 627/627 [10:08<00:00,  1.03it/s]\n",
      "Epoch 3/10, Validation: 100%|█████████████████████████| 627/627 [12:30<00:00,  1.20s/it]\n",
      "Epoch 4/10, Validation:   0%|                                   | 0/627 [00:00<?, ?it/s]"
     ]
    },
    {
     "name": "stdout",
     "output_type": "stream",
     "text": [
      "train loss: 0.50050, test loss: 0.54790\n"
     ]
    },
    {
     "name": "stderr",
     "output_type": "stream",
     "text": [
      "Epoch 4/10, Training: 100%|███████████████████████████| 627/627 [10:08<00:00,  1.03it/s]\n",
      "Epoch 4/10, Validation: 100%|█████████████████████████| 627/627 [12:29<00:00,  1.20s/it]\n",
      "Epoch 5/10, Validation:   0%|                                   | 0/627 [00:00<?, ?it/s]"
     ]
    },
    {
     "name": "stdout",
     "output_type": "stream",
     "text": [
      "train loss: 0.49744, test loss: 0.55008\n"
     ]
    },
    {
     "name": "stderr",
     "output_type": "stream",
     "text": [
      "Epoch 5/10, Training: 100%|███████████████████████████| 627/627 [10:06<00:00,  1.03it/s]\n",
      "Epoch 5/10, Validation: 100%|█████████████████████████| 627/627 [12:28<00:00,  1.19s/it]\n",
      "Epoch 6/10, Validation:   0%|                                   | 0/627 [00:00<?, ?it/s]"
     ]
    },
    {
     "name": "stdout",
     "output_type": "stream",
     "text": [
      "train loss: 0.49549, test loss: 0.54504\n"
     ]
    },
    {
     "name": "stderr",
     "output_type": "stream",
     "text": [
      "Epoch 6/10, Training: 100%|███████████████████████████| 627/627 [10:08<00:00,  1.03it/s]\n",
      "Epoch 6/10, Validation: 100%|█████████████████████████| 627/627 [12:30<00:00,  1.20s/it]\n",
      "Epoch 7/10, Validation:   0%|                                   | 0/627 [00:00<?, ?it/s]"
     ]
    },
    {
     "name": "stdout",
     "output_type": "stream",
     "text": [
      "train loss: 0.49409, test loss: 0.55051\n"
     ]
    },
    {
     "name": "stderr",
     "output_type": "stream",
     "text": [
      "Epoch 7/10, Training: 100%|███████████████████████████| 627/627 [10:08<00:00,  1.03it/s]\n",
      "Epoch 7/10, Validation: 100%|█████████████████████████| 627/627 [12:30<00:00,  1.20s/it]\n",
      "Epoch 8/10, Validation:   0%|                                   | 0/627 [00:00<?, ?it/s]"
     ]
    },
    {
     "name": "stdout",
     "output_type": "stream",
     "text": [
      "train loss: 0.49116, test loss: 0.54975\n"
     ]
    },
    {
     "name": "stderr",
     "output_type": "stream",
     "text": [
      "Epoch 8/10, Training: 100%|███████████████████████████| 627/627 [10:09<00:00,  1.03it/s]\n",
      "Epoch 8/10, Validation: 100%|█████████████████████████| 627/627 [12:31<00:00,  1.20s/it]\n",
      "Epoch 9/10, Validation:   0%|                                   | 0/627 [00:00<?, ?it/s]"
     ]
    },
    {
     "name": "stdout",
     "output_type": "stream",
     "text": [
      "train loss: 0.49374, test loss: 0.55193\n"
     ]
    },
    {
     "name": "stderr",
     "output_type": "stream",
     "text": [
      "Epoch 9/10, Training: 100%|███████████████████████████| 627/627 [10:14<00:00,  1.02it/s]\n",
      "Epoch 9/10, Validation: 100%|█████████████████████████| 627/627 [12:35<00:00,  1.21s/it]"
     ]
    },
    {
     "name": "stdout",
     "output_type": "stream",
     "text": [
      "train loss: 0.49208, test loss: 0.55714\n"
     ]
    },
    {
     "name": "stderr",
     "output_type": "stream",
     "text": [
      "\n"
     ]
    }
   ],
   "source": [
    "EMBEDDING_DIM = 20\n",
    "HIDDEN_DIM = 100\n",
    "TAGSET_SIZE = 2\n",
    "NUM_EPOCHS = 10\n",
    "\n",
    "model = LSTMTagger(EMBEDDING_DIM, HIDDEN_DIM, TAGSET_SIZE).cuda()\n",
    "model.cuda()\n",
    "\n",
    "loss_function = nn.NLLLoss().cuda()\n",
    "optimizer = optim.Adam(model.parameters(), 0.001)\n",
    "\n",
    "for epoch_idx in range(NUM_EPOCHS): \n",
    "\n",
    "    progress_training_epoch = tqdm(\n",
    "        train_data, \n",
    "        desc=f'Epoch {epoch_idx}/{NUM_EPOCHS}, Training',\n",
    "        miniters=1, ncols=88, position=0,\n",
    "        leave=True, total=len(train_data), smoothing=.9)\n",
    "\n",
    "    progress_validation_epoch = tqdm(\n",
    "        test_data, \n",
    "        desc=f'Epoch {epoch_idx}/{NUM_EPOCHS}, Validation',\n",
    "        miniters=1, ncols=88, position=0, \n",
    "        leave=True, total=len(test_data), smoothing=.9)\n",
    "\n",
    "    train_loss = 0\n",
    "    train_size = 0\n",
    "    model.train()\n",
    "    for idx, (sentence, tags) in enumerate(progress_training_epoch):\n",
    "        sentence = sentence.cuda()\n",
    "        tags = tags.cuda()\n",
    "        model.zero_grad()\n",
    "        tag_scores = model(sentence)\n",
    "        loss = loss_function(tag_scores, tags)\n",
    "        loss.backward()\n",
    "        optimizer.step()\n",
    "        train_loss += loss * tags.size()[0]\n",
    "        train_size += tags.size()[0]\n",
    "\n",
    "    test_loss = 0\n",
    "    test_size = 0\n",
    "    predict = []\n",
    "    target = []\n",
    "    model.eval()\n",
    "    with torch.no_grad():\n",
    "        for idx, (sentence, tags) in enumerate(progress_validation_epoch):\n",
    "            sentence = sentence.cuda()\n",
    "            tags = tags.cuda()\n",
    "            tag_scores = model(sentence)\n",
    "            loss = loss_function(tag_scores, tags)\n",
    "            predict.append(tag_scores.argmax(dim=1).cpu().numpy())\n",
    "            target.append(tags.cpu().numpy())        \n",
    "            test_loss += loss * tags.size()[0]\n",
    "            test_size += tags.size()[0]\n",
    "    predict = np.concatenate(predict, axis=0)\n",
    "    target = np.concatenate(target, axis=0)\n",
    "\n",
    "    print(f'train loss:{train_loss.item()/train_size: .5f}, '\n",
    "          f'test loss:{test_loss.item()/test_size: .5f}')"
   ]
  },
  {
   "cell_type": "markdown",
   "metadata": {},
   "source": [
    "# Test"
   ]
  },
  {
   "cell_type": "code",
   "execution_count": 8,
   "metadata": {},
   "outputs": [
    {
     "name": "stderr",
     "output_type": "stream",
     "text": [
      "Epoch 9/10, Validation: 100%|█████████████████████████| 627/627 [02:18<00:00,  4.53it/s]\n"
     ]
    },
    {
     "name": "stdout",
     "output_type": "stream",
     "text": [
      "True Positive:2492005, True Negative:297662, False Positive:1025820, False Negative:74363\n"
     ]
    }
   ],
   "source": [
    "progress_validation_epoch = tqdm(\n",
    "    test_data, \n",
    "    desc=f'Epoch {epoch_idx}/{NUM_EPOCHS}, Validation',\n",
    "    miniters=1, ncols=88, position=0, \n",
    "    leave=True, total=len(test_data), smoothing=.9)\n",
    "\n",
    "predict = []\n",
    "target = []\n",
    "model.eval()\n",
    "with torch.no_grad():\n",
    "    for idx, (sentence, tags) in enumerate(progress_validation_epoch):\n",
    "        sentence = sentence.cuda()\n",
    "        tags = tags.cuda()\n",
    "        tag_scores = model(sentence)\n",
    "        predict.append(tag_scores.argmax(dim=1).cpu().numpy())\n",
    "        target.append(tags.cpu().numpy())        \n",
    "predict = np.concatenate(predict, axis=0)\n",
    "target = np.concatenate(target, axis=0)\n",
    "\n",
    "tp = predict[target==1].sum()\n",
    "tn = (target==0).sum() - predict[target==0].sum()\n",
    "fp = predict[target==0].sum()\n",
    "fn = (target==1).sum() - predict[target==1].sum()\n",
    "\n",
    "print(f'True Positive:{tp}, '\n",
    "      f'True Negative:{tn}, '\n",
    "      f'False Positive:{fp}, '\n",
    "      f'False Negative:{fn}')\n"
   ]
  },
  {
   "cell_type": "code",
   "execution_count": 9,
   "metadata": {},
   "outputs": [
    {
     "name": "stdout",
     "output_type": "stream",
     "text": [
      "Accuracy:0.7171657004768821, Positive Accuracy:0.7083936807544434, Negative Accuracy:0.800112895638734, Weighted Accuracy:0.7542532881965887\n"
     ]
    }
   ],
   "source": [
    "accr = (tp+tn)/(tp+tn+fp+fn)\n",
    "posaccr = tp/(tp+fp)\n",
    "negaccr = tn/(tn+fn)\n",
    "print(f'Accuracy:{accr}, '\n",
    "      f'Positive Accuracy:{posaccr}, '\n",
    "      f'Negative Accuracy:{negaccr}, '\n",
    "      f'Weighted Accuracy:{0.5*(posaccr+negaccr)}')"
   ]
  },
  {
   "cell_type": "markdown",
   "metadata": {},
   "source": [
    "# Bagging 9"
   ]
  },
  {
   "cell_type": "code",
   "execution_count": 7,
   "metadata": {},
   "outputs": [],
   "source": [
    "with open('scrimmage5_link_dataset.pickle', 'rb') as file:\n",
    "    link_dataset = pickle.load(file)"
   ]
  },
  {
   "cell_type": "code",
   "execution_count": 7,
   "metadata": {
    "scrolled": false
   },
   "outputs": [
    {
     "name": "stderr",
     "output_type": "stream",
     "text": [
      "Epoch 0/3, Training: 100%|████████████████████████████| 200/200 [03:03<00:00,  1.09it/s]\n",
      "Epoch 0/3, Validation: 100%|██████████████████████████| 627/627 [04:57<00:00,  2.11it/s]\n",
      "Epoch 1/3, Validation:   0%|                                    | 0/627 [00:00<?, ?it/s]"
     ]
    },
    {
     "name": "stdout",
     "output_type": "stream",
     "text": [
      "train loss: 0.52163, test loss: 0.54226\n"
     ]
    },
    {
     "name": "stderr",
     "output_type": "stream",
     "text": [
      "Epoch 1/3, Training: 100%|████████████████████████████| 200/200 [03:52<00:00,  1.16s/it]\n",
      "Epoch 1/3, Validation: 100%|██████████████████████████| 627/627 [05:43<00:00,  1.82it/s]\n",
      "Epoch 2/3, Validation:   0%|                                    | 0/627 [00:00<?, ?it/s]"
     ]
    },
    {
     "name": "stdout",
     "output_type": "stream",
     "text": [
      "train loss: 0.48213, test loss: 0.54379\n"
     ]
    },
    {
     "name": "stderr",
     "output_type": "stream",
     "text": [
      "Epoch 2/3, Training: 100%|████████████████████████████| 200/200 [04:04<00:00,  1.22s/it]\n",
      "Epoch 2/3, Validation: 100%|██████████████████████████| 627/627 [06:00<00:00,  1.74it/s]\n",
      "Epoch 0/3, Validation:   0%|                                    | 0/627 [00:00<?, ?it/s]"
     ]
    },
    {
     "name": "stdout",
     "output_type": "stream",
     "text": [
      "train loss: 0.47600, test loss: 0.54329\n"
     ]
    },
    {
     "name": "stderr",
     "output_type": "stream",
     "text": [
      "Epoch 0/3, Training: 100%|████████████████████████████| 200/200 [04:03<00:00,  1.22s/it]\n",
      "Epoch 0/3, Validation: 100%|██████████████████████████| 627/627 [06:02<00:00,  1.73it/s]\n",
      "Epoch 1/3, Validation:   0%|                                    | 0/627 [00:00<?, ?it/s]"
     ]
    },
    {
     "name": "stdout",
     "output_type": "stream",
     "text": [
      "train loss: 0.50847, test loss: 0.58690\n"
     ]
    },
    {
     "name": "stderr",
     "output_type": "stream",
     "text": [
      "Epoch 1/3, Training: 100%|████████████████████████████| 200/200 [03:38<00:00,  1.09s/it]\n",
      "Epoch 1/3, Validation: 100%|██████████████████████████| 627/627 [05:09<00:00,  2.02it/s]\n",
      "Epoch 2/3, Validation:   0%|                                    | 0/627 [00:00<?, ?it/s]"
     ]
    },
    {
     "name": "stdout",
     "output_type": "stream",
     "text": [
      "train loss: 0.47427, test loss: 0.59228\n"
     ]
    },
    {
     "name": "stderr",
     "output_type": "stream",
     "text": [
      "Epoch 2/3, Training: 100%|████████████████████████████| 200/200 [03:01<00:00,  1.10it/s]\n",
      "Epoch 2/3, Validation: 100%|██████████████████████████| 627/627 [04:29<00:00,  2.33it/s]\n",
      "Epoch 0/3, Validation:   0%|                                    | 0/627 [00:00<?, ?it/s]"
     ]
    },
    {
     "name": "stdout",
     "output_type": "stream",
     "text": [
      "train loss: 0.47106, test loss: 0.58071\n"
     ]
    },
    {
     "name": "stderr",
     "output_type": "stream",
     "text": [
      "Epoch 0/3, Training: 100%|████████████████████████████| 200/200 [02:53<00:00,  1.15it/s]\n",
      "Epoch 0/3, Validation: 100%|██████████████████████████| 627/627 [04:15<00:00,  2.46it/s]\n",
      "Epoch 1/3, Validation:   0%|                                    | 0/627 [00:00<?, ?it/s]"
     ]
    },
    {
     "name": "stdout",
     "output_type": "stream",
     "text": [
      "train loss: 0.52137, test loss: 0.59540\n"
     ]
    },
    {
     "name": "stderr",
     "output_type": "stream",
     "text": [
      "Epoch 1/3, Training: 100%|████████████████████████████| 200/200 [02:35<00:00,  1.29it/s]\n",
      "Epoch 1/3, Validation: 100%|██████████████████████████| 627/627 [03:50<00:00,  2.72it/s]\n",
      "Epoch 2/3, Validation:   0%|                                    | 0/627 [00:00<?, ?it/s]"
     ]
    },
    {
     "name": "stdout",
     "output_type": "stream",
     "text": [
      "train loss: 0.47101, test loss: 0.59263\n"
     ]
    },
    {
     "name": "stderr",
     "output_type": "stream",
     "text": [
      "Epoch 2/3, Training: 100%|████████████████████████████| 200/200 [02:25<00:00,  1.38it/s]\n",
      "Epoch 2/3, Validation: 100%|██████████████████████████| 627/627 [03:45<00:00,  2.78it/s]\n",
      "Epoch 0/3, Validation:   0%|                                    | 0/627 [00:00<?, ?it/s]"
     ]
    },
    {
     "name": "stdout",
     "output_type": "stream",
     "text": [
      "train loss: 0.46509, test loss: 0.58387\n"
     ]
    },
    {
     "name": "stderr",
     "output_type": "stream",
     "text": [
      "Epoch 0/3, Training: 100%|████████████████████████████| 200/200 [02:44<00:00,  1.22it/s]\n",
      "Epoch 0/3, Validation: 100%|██████████████████████████| 627/627 [04:04<00:00,  2.57it/s]\n",
      "Epoch 1/3, Validation:   0%|                                    | 0/627 [00:00<?, ?it/s]"
     ]
    },
    {
     "name": "stdout",
     "output_type": "stream",
     "text": [
      "train loss: 0.54676, test loss: 0.58501\n"
     ]
    },
    {
     "name": "stderr",
     "output_type": "stream",
     "text": [
      "Epoch 1/3, Training: 100%|████████████████████████████| 200/200 [02:41<00:00,  1.24it/s]\n",
      "Epoch 1/3, Validation: 100%|██████████████████████████| 627/627 [04:00<00:00,  2.61it/s]\n",
      "Epoch 2/3, Validation:   0%|                                    | 0/627 [00:00<?, ?it/s]"
     ]
    },
    {
     "name": "stdout",
     "output_type": "stream",
     "text": [
      "train loss: 0.50288, test loss: 0.56364\n"
     ]
    },
    {
     "name": "stderr",
     "output_type": "stream",
     "text": [
      "Epoch 2/3, Training: 100%|████████████████████████████| 200/200 [02:43<00:00,  1.22it/s]\n",
      "Epoch 2/3, Validation: 100%|██████████████████████████| 627/627 [04:01<00:00,  2.60it/s]\n",
      "Epoch 0/3, Validation:   0%|                                    | 0/627 [00:00<?, ?it/s]"
     ]
    },
    {
     "name": "stdout",
     "output_type": "stream",
     "text": [
      "train loss: 0.49496, test loss: 0.57046\n"
     ]
    },
    {
     "name": "stderr",
     "output_type": "stream",
     "text": [
      "Epoch 0/3, Training: 100%|████████████████████████████| 200/200 [02:34<00:00,  1.30it/s]\n",
      "Epoch 0/3, Validation: 100%|██████████████████████████| 627/627 [03:53<00:00,  2.68it/s]\n",
      "Epoch 1/3, Validation:   0%|                                    | 0/627 [00:00<?, ?it/s]"
     ]
    },
    {
     "name": "stdout",
     "output_type": "stream",
     "text": [
      "train loss: 0.51409, test loss: 0.60030\n"
     ]
    },
    {
     "name": "stderr",
     "output_type": "stream",
     "text": [
      "Epoch 1/3, Training: 100%|████████████████████████████| 200/200 [02:35<00:00,  1.29it/s]\n",
      "Epoch 1/3, Validation: 100%|██████████████████████████| 627/627 [03:53<00:00,  2.69it/s]\n",
      "Epoch 2/3, Validation:   0%|                                    | 0/627 [00:00<?, ?it/s]"
     ]
    },
    {
     "name": "stdout",
     "output_type": "stream",
     "text": [
      "train loss: 0.47113, test loss: 0.61570\n"
     ]
    },
    {
     "name": "stderr",
     "output_type": "stream",
     "text": [
      "Epoch 2/3, Training: 100%|████████████████████████████| 200/200 [02:36<00:00,  1.27it/s]\n",
      "Epoch 2/3, Validation: 100%|██████████████████████████| 627/627 [03:56<00:00,  2.66it/s]\n",
      "Epoch 0/3, Validation:   0%|                                    | 0/627 [00:00<?, ?it/s]"
     ]
    },
    {
     "name": "stdout",
     "output_type": "stream",
     "text": [
      "train loss: 0.46755, test loss: 0.59637\n"
     ]
    },
    {
     "name": "stderr",
     "output_type": "stream",
     "text": [
      "Epoch 0/3, Training: 100%|████████████████████████████| 200/200 [02:39<00:00,  1.25it/s]\n",
      "Epoch 0/3, Validation: 100%|██████████████████████████| 627/627 [04:00<00:00,  2.60it/s]\n",
      "Epoch 1/3, Validation:   0%|                                    | 0/627 [00:00<?, ?it/s]"
     ]
    },
    {
     "name": "stdout",
     "output_type": "stream",
     "text": [
      "train loss: 0.55313, test loss: 0.59836\n"
     ]
    },
    {
     "name": "stderr",
     "output_type": "stream",
     "text": [
      "Epoch 1/3, Training: 100%|████████████████████████████| 200/200 [02:43<00:00,  1.23it/s]\n",
      "Epoch 1/3, Validation: 100%|██████████████████████████| 627/627 [04:00<00:00,  2.61it/s]\n",
      "Epoch 2/3, Validation:   0%|                                    | 0/627 [00:00<?, ?it/s]"
     ]
    },
    {
     "name": "stdout",
     "output_type": "stream",
     "text": [
      "train loss: 0.53042, test loss: 0.57159\n"
     ]
    },
    {
     "name": "stderr",
     "output_type": "stream",
     "text": [
      "Epoch 2/3, Training: 100%|████████████████████████████| 200/200 [02:33<00:00,  1.30it/s]\n",
      "Epoch 2/3, Validation: 100%|██████████████████████████| 627/627 [03:52<00:00,  2.70it/s]\n",
      "Epoch 0/3, Validation:   0%|                                    | 0/627 [00:00<?, ?it/s]"
     ]
    },
    {
     "name": "stdout",
     "output_type": "stream",
     "text": [
      "train loss: 0.52417, test loss: 0.56435\n"
     ]
    },
    {
     "name": "stderr",
     "output_type": "stream",
     "text": [
      "Epoch 0/3, Training: 100%|████████████████████████████| 200/200 [02:43<00:00,  1.23it/s]\n",
      "Epoch 0/3, Validation: 100%|██████████████████████████| 627/627 [04:02<00:00,  2.59it/s]\n",
      "Epoch 1/3, Validation:   0%|                                    | 0/627 [00:00<?, ?it/s]"
     ]
    },
    {
     "name": "stdout",
     "output_type": "stream",
     "text": [
      "train loss: 0.52533, test loss: 0.56291\n"
     ]
    },
    {
     "name": "stderr",
     "output_type": "stream",
     "text": [
      "Epoch 1/3, Training: 100%|████████████████████████████| 200/200 [02:46<00:00,  1.20it/s]\n",
      "Epoch 1/3, Validation: 100%|██████████████████████████| 627/627 [04:03<00:00,  2.58it/s]\n",
      "Epoch 2/3, Validation:   0%|                                    | 0/627 [00:00<?, ?it/s]"
     ]
    },
    {
     "name": "stdout",
     "output_type": "stream",
     "text": [
      "train loss: 0.47571, test loss: 0.54868\n"
     ]
    },
    {
     "name": "stderr",
     "output_type": "stream",
     "text": [
      "Epoch 2/3, Training: 100%|████████████████████████████| 200/200 [02:44<00:00,  1.22it/s]\n",
      "Epoch 2/3, Validation: 100%|██████████████████████████| 627/627 [04:01<00:00,  2.59it/s]\n",
      "Epoch 0/3, Validation:   0%|                                    | 0/627 [00:00<?, ?it/s]"
     ]
    },
    {
     "name": "stdout",
     "output_type": "stream",
     "text": [
      "train loss: 0.46703, test loss: 0.54929\n"
     ]
    },
    {
     "name": "stderr",
     "output_type": "stream",
     "text": [
      "Epoch 0/3, Training: 100%|████████████████████████████| 200/200 [02:37<00:00,  1.27it/s]\n",
      "Epoch 0/3, Validation: 100%|██████████████████████████| 627/627 [03:55<00:00,  2.66it/s]\n",
      "Epoch 1/3, Validation:   0%|                                    | 0/627 [00:00<?, ?it/s]"
     ]
    },
    {
     "name": "stdout",
     "output_type": "stream",
     "text": [
      "train loss: 0.55086, test loss: 0.57860\n"
     ]
    },
    {
     "name": "stderr",
     "output_type": "stream",
     "text": [
      "Epoch 1/3, Training: 100%|████████████████████████████| 200/200 [02:40<00:00,  1.24it/s]\n",
      "Epoch 1/3, Validation: 100%|██████████████████████████| 627/627 [03:57<00:00,  2.64it/s]\n",
      "Epoch 2/3, Validation:   0%|                                    | 0/627 [00:00<?, ?it/s]"
     ]
    },
    {
     "name": "stdout",
     "output_type": "stream",
     "text": [
      "train loss: 0.50788, test loss: 0.57910\n"
     ]
    },
    {
     "name": "stderr",
     "output_type": "stream",
     "text": [
      "Epoch 2/3, Training: 100%|████████████████████████████| 200/200 [02:42<00:00,  1.23it/s]\n",
      "Epoch 2/3, Validation: 100%|██████████████████████████| 627/627 [04:01<00:00,  2.60it/s]\n",
      "Epoch 0/3, Validation:   0%|                                    | 0/627 [00:00<?, ?it/s]"
     ]
    },
    {
     "name": "stdout",
     "output_type": "stream",
     "text": [
      "train loss: 0.49832, test loss: 0.57083\n"
     ]
    },
    {
     "name": "stderr",
     "output_type": "stream",
     "text": [
      "Epoch 0/3, Training: 100%|████████████████████████████| 200/200 [02:39<00:00,  1.25it/s]\n",
      "Epoch 0/3, Validation: 100%|██████████████████████████| 627/627 [03:57<00:00,  2.64it/s]\n",
      "Epoch 1/3, Validation:   0%|                                    | 0/627 [00:00<?, ?it/s]"
     ]
    },
    {
     "name": "stdout",
     "output_type": "stream",
     "text": [
      "train loss: 0.55269, test loss: 0.58592\n"
     ]
    },
    {
     "name": "stderr",
     "output_type": "stream",
     "text": [
      "Epoch 1/3, Training: 100%|████████████████████████████| 200/200 [03:24<00:00,  1.02s/it]\n",
      "Epoch 1/3, Validation: 100%|██████████████████████████| 627/627 [05:10<00:00,  2.02it/s]\n",
      "Epoch 2/3, Validation:   0%|                                    | 0/627 [00:00<?, ?it/s]"
     ]
    },
    {
     "name": "stdout",
     "output_type": "stream",
     "text": [
      "train loss: 0.50917, test loss: 0.55248\n"
     ]
    },
    {
     "name": "stderr",
     "output_type": "stream",
     "text": [
      "Epoch 2/3, Training: 100%|████████████████████████████| 200/200 [03:42<00:00,  1.11s/it]\n",
      "Epoch 2/3, Validation: 100%|██████████████████████████| 627/627 [05:28<00:00,  1.91it/s]"
     ]
    },
    {
     "name": "stdout",
     "output_type": "stream",
     "text": [
      "train loss: 0.49878, test loss: 0.55000\n"
     ]
    },
    {
     "name": "stderr",
     "output_type": "stream",
     "text": [
      "\n"
     ]
    }
   ],
   "source": [
    "EMBEDDING_DIM = 20\n",
    "HIDDEN_DIM = 100\n",
    "TAGSET_SIZE = 2\n",
    "NUM_EPOCHS = 3\n",
    "model_list = []\n",
    "\n",
    "for model_idx in range(9):\n",
    "    \n",
    "    train_data = []\n",
    "    for link_idx in np.random.choice(200,size=200,replace=True):\n",
    "        train_data.append(link_dataset[link_idx])\n",
    "    \n",
    "    model = LSTMTagger(EMBEDDING_DIM, HIDDEN_DIM, TAGSET_SIZE)\n",
    "    model.cuda()\n",
    "    loss_function = nn.NLLLoss().cuda()\n",
    "    optimizer = optim.Adam(model.parameters(), 0.001)\n",
    "\n",
    "    model.train()\n",
    "    for epoch_idx in range(NUM_EPOCHS):  \n",
    "\n",
    "        progress_training_epoch = tqdm(\n",
    "            train_data, \n",
    "            desc=f'Epoch {epoch_idx}/{NUM_EPOCHS}, Training',\n",
    "            miniters=1, ncols=88, position=0,\n",
    "            leave=True, total=len(train_data), smoothing=.9)\n",
    "\n",
    "        progress_validation_epoch = tqdm(\n",
    "            test_data, \n",
    "            desc=f'Epoch {epoch_idx}/{NUM_EPOCHS}, Validation',\n",
    "            miniters=1, ncols=88, position=0, \n",
    "            leave=True, total=len(test_data), smoothing=.9)\n",
    "\n",
    "        train_loss = 0\n",
    "        train_size = 0\n",
    "        model.train()\n",
    "        for idx, (sentence, tags) in enumerate(progress_training_epoch):\n",
    "            sentence = sentence.cuda()\n",
    "            tags = tags.cuda()\n",
    "            model.zero_grad()\n",
    "            tag_scores = model(sentence)\n",
    "            loss = loss_function(tag_scores, tags)\n",
    "            loss.backward()\n",
    "            optimizer.step()\n",
    "            train_loss += loss * tags.size()[0]\n",
    "            train_size += tags.size()[0]\n",
    "\n",
    "        test_loss = 0\n",
    "        test_size = 0\n",
    "        model.eval()\n",
    "        with torch.no_grad():\n",
    "            for idx, (sentence, tags) in enumerate(progress_validation_epoch):\n",
    "                sentence = sentence.cuda()\n",
    "                tags = tags.cuda()\n",
    "                tag_scores = model(sentence)\n",
    "                loss = loss_function(tag_scores, tags) \n",
    "                test_loss += loss * tags.size()[0]\n",
    "                test_size += tags.size()[0]\n",
    "\n",
    "        print(f'train loss:{train_loss.item()/train_size: .5f}, '\n",
    "              f'test loss:{test_loss.item()/test_size: .5f}')\n",
    "        \n",
    "    model_list.append(model)"
   ]
  },
  {
   "cell_type": "markdown",
   "metadata": {},
   "source": [
    "# Test"
   ]
  },
  {
   "cell_type": "code",
   "execution_count": 8,
   "metadata": {},
   "outputs": [
    {
     "name": "stderr",
     "output_type": "stream",
     "text": [
      "Epoch 2/3, Validation: 100%|██████████████████████████| 627/627 [01:45<00:00,  5.92it/s]\n",
      "Epoch 2/3, Validation: 100%|██████████████████████████| 627/627 [01:45<00:00,  5.96it/s]\n",
      "Epoch 2/3, Validation: 100%|██████████████████████████| 627/627 [02:35<00:00,  4.04it/s]\n",
      "Epoch 2/3, Validation: 100%|██████████████████████████| 627/627 [02:56<00:00,  3.55it/s]\n",
      "Epoch 2/3, Validation: 100%|██████████████████████████| 627/627 [02:57<00:00,  3.54it/s]\n",
      "Epoch 2/3, Validation: 100%|██████████████████████████| 627/627 [02:57<00:00,  3.54it/s]\n",
      "Epoch 2/3, Validation: 100%|██████████████████████████| 627/627 [02:56<00:00,  3.55it/s]\n",
      "Epoch 2/3, Validation: 100%|██████████████████████████| 627/627 [02:57<00:00,  3.53it/s]\n",
      "Epoch 2/3, Validation: 100%|██████████████████████████| 627/627 [02:57<00:00,  3.54it/s]\n"
     ]
    },
    {
     "name": "stdout",
     "output_type": "stream",
     "text": [
      "True Positive:2495048, True Negative:312782, False Positive:1010700, False Negative:71320\n"
     ]
    }
   ],
   "source": [
    "predict_agg = []\n",
    "target_agg = []\n",
    "\n",
    "for model in model_list:\n",
    "    \n",
    "    progress_validation_epoch = tqdm(\n",
    "        test_data, \n",
    "        desc=f'Epoch {epoch_idx}/{NUM_EPOCHS}, Validation',\n",
    "        miniters=1, ncols=88, position=0, \n",
    "        leave=True, total=len(test_data), smoothing=.9)\n",
    "    \n",
    "    predict = []\n",
    "    target = []\n",
    "    model.eval()\n",
    "    with torch.no_grad():\n",
    "        for idx, (sentence, tags) in enumerate(progress_validation_epoch):\n",
    "            sentence = sentence.cuda()\n",
    "            tags = tags.cuda()\n",
    "            tag_scores = model(sentence)\n",
    "            predict.append(tag_scores.argmax(dim=1).cpu().numpy())\n",
    "            target.append(tags.cpu().numpy())        \n",
    "    predict = np.concatenate(predict, axis=0)\n",
    "    target = np.concatenate(target, axis=0)\n",
    "    \n",
    "    predict_agg.append(predict)\n",
    "    target_agg.append(target)\n",
    "    \n",
    "predict = (np.array(predict_agg).sum(axis=0) > 4.5)\n",
    "target = target_agg[0]\n",
    "tp = predict[target==1].sum()\n",
    "tn = (target==0).sum() - predict[target==0].sum()\n",
    "fp = predict[target==0].sum()\n",
    "fn = (target==1).sum() - predict[target==1].sum()\n",
    "\n",
    "tp = predict[target==1].sum()\n",
    "tn = (target==0).sum() - predict[target==0].sum()\n",
    "fp = predict[target==0].sum()\n",
    "fn = (target==1).sum() - predict[target==1].sum()\n",
    "\n",
    "print(f'True Positive:{tp}, '\n",
    "      f'True Negative:{tn}, '\n",
    "      f'False Positive:{fp}, '\n",
    "      f'False Negative:{fn}')\n"
   ]
  },
  {
   "cell_type": "code",
   "execution_count": 9,
   "metadata": {},
   "outputs": [
    {
     "name": "stdout",
     "output_type": "stream",
     "text": [
      "Accuracy:0.7218350321991851, Positive Accuracy:0.7117020390512951, Negative Accuracy:0.814320154542283, Weighted Accuracy:0.7630110967967891\n"
     ]
    }
   ],
   "source": [
    "accr = (tp+tn)/(tp+tn+fp+fn)\n",
    "posaccr = tp/(tp+fp)\n",
    "negaccr = tn/(tn+fn)\n",
    "print(f'Accuracy:{accr}, '\n",
    "      f'Positive Accuracy:{posaccr}, '\n",
    "      f'Negative Accuracy:{negaccr}, '\n",
    "      f'Weighted Accuracy:{0.5*(posaccr+negaccr)}')"
   ]
  },
  {
   "cell_type": "code",
   "execution_count": null,
   "metadata": {},
   "outputs": [],
   "source": []
  }
 ],
 "metadata": {
  "kernelspec": {
   "display_name": "Python 3",
   "language": "python",
   "name": "python3"
  },
  "language_info": {
   "codemirror_mode": {
    "name": "ipython",
    "version": 3
   },
   "file_extension": ".py",
   "mimetype": "text/x-python",
   "name": "python",
   "nbconvert_exporter": "python",
   "pygments_lexer": "ipython3",
   "version": "3.7.5"
  }
 },
 "nbformat": 4,
 "nbformat_minor": 2
}
