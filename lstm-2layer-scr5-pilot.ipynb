{
 "cells": [
  {
   "cell_type": "markdown",
   "metadata": {},
   "source": [
    "# Libraries"
   ]
  },
  {
   "cell_type": "code",
   "execution_count": 1,
   "metadata": {},
   "outputs": [],
   "source": [
    "import sqlite3\n",
    "import numpy as np\n",
    "from collections import OrderedDict, namedtuple\n",
    "from distutils.spawn import find_executable\n",
    "import matplotlib.pyplot as plt\n",
    "\n",
    "import sys\n",
    "import subprocess\n",
    "import pathlib\n",
    "import tempfile\n",
    "import importlib\n",
    "import os\n",
    "import time\n",
    "import random\n",
    "import pickle\n",
    "\n",
    "import math\n",
    "\n",
    "from configparser import ConfigParser\n",
    "\n",
    "# from google.protobuf.json_format import MessageToDict"
   ]
  },
  {
   "cell_type": "code",
   "execution_count": 2,
   "metadata": {},
   "outputs": [],
   "source": [
    "# DEVICE = 0\n",
    "\n",
    "import os\n",
    "import time\n",
    "import pickle\n",
    "import numpy as np\n",
    "from tqdm import tqdm\n",
    "import matplotlib.pyplot as plt\n",
    "import seaborn as sn\n",
    "import pandas as pd\n",
    "\n",
    "import torch\n",
    "torch.backends.cudnn.benchmark = True\n",
    "import torch.optim as optim\n",
    "import torch.nn as nn\n",
    "import torch.nn.functional as F\n",
    "from torch.autograd import Variable\n",
    "from torch.utils import data\n",
    "\n",
    "# torch.cuda.set_device(DEVICE)\n",
    "torch.cuda.empty_cache() \n",
    "torch.backends.cudnn.benchmark=True"
   ]
  },
  {
   "cell_type": "code",
   "execution_count": 3,
   "metadata": {},
   "outputs": [],
   "source": [
    "np.random.seed(0)\n",
    "torch.manual_seed(0)\n",
    "\n",
    "import os\n",
    "os.environ['CUDA_VISIBLE_DEVICES']='1'"
   ]
  },
  {
   "cell_type": "markdown",
   "metadata": {},
   "source": [
    "# load the dataset"
   ]
  },
  {
   "cell_type": "code",
   "execution_count": 4,
   "metadata": {},
   "outputs": [],
   "source": [
    "with open('scrimmage5_link_dataset.pickle', 'rb') as file:\n",
    "    link_dataset = pickle.load(file)"
   ]
  },
  {
   "cell_type": "code",
   "execution_count": 5,
   "metadata": {},
   "outputs": [],
   "source": [
    "train_x_npn = []\n",
    "train_y_npn = []\n",
    "test_x_npn = []\n",
    "test_y_npn = []\n",
    "\n",
    "train_data = []\n",
    "test_data = []\n",
    "\n",
    "\n",
    "for i in range(len(link_dataset)):\n",
    "    datalen = len(link_dataset[i][1])\n",
    "    trainlen = round(datalen*2/3)\n",
    "    testlen = datalen -trainlen        \n",
    "    train_x_npn = link_dataset[i][0][0:trainlen].numpy()   \n",
    "    train_y_npn = link_dataset[i][1][0:trainlen].numpy()\n",
    "    test_x_npn = link_dataset[i][0][trainlen:trainlen+testlen].numpy()\n",
    "    test_y_npn = link_dataset[i][1][trainlen:trainlen+testlen].numpy()\n",
    "\n",
    "    train_data.append([torch.from_numpy(train_x_npn), torch.from_numpy(train_y_npn)])\n",
    "    test_data.append([torch.from_numpy(test_x_npn), torch.from_numpy(test_y_npn)])"
   ]
  },
  {
   "cell_type": "code",
   "execution_count": 6,
   "metadata": {},
   "outputs": [],
   "source": [
    "class LSTMTagger(nn.Module):\n",
    "\n",
    "    def __init__(self, embedding_dim, hidden_dim, tagset_size):\n",
    "        super(LSTMTagger, self).__init__()\n",
    "        self.hidden_dim = hidden_dim\n",
    "\n",
    "        # The LSTM takes word embeddings as inputs, and outputs hidden states\n",
    "        # with dimensionality hidden_dim.\n",
    "        self.lstm = nn.LSTM(embedding_dim, hidden_dim, 2)\n",
    "\n",
    "        # The linear layer that maps from hidden state space to tag space\n",
    "        self.hidden2tag = nn.Linear(hidden_dim, tagset_size)\n",
    "\n",
    "    def forward(self, sentence):\n",
    "        lstm_out, _ = self.lstm(sentence.view(len(sentence), 1, -1))\n",
    "        tag_space = self.hidden2tag(lstm_out.view(len(sentence), -1))\n",
    "        tag_scores = F.log_softmax(tag_space, dim=1)\n",
    "        return tag_scores"
   ]
  },
  {
   "cell_type": "markdown",
   "metadata": {},
   "source": [
    "# Train Model 10 Epoch"
   ]
  },
  {
   "cell_type": "code",
   "execution_count": 7,
   "metadata": {
    "scrolled": false
   },
   "outputs": [
    {
     "name": "stderr",
     "output_type": "stream",
     "text": [
      "Epoch 0/10, Training: 100%|███████████████████████████| 627/627 [19:49<00:00,  1.90s/it]\n",
      "Epoch 0/10, Validation: 100%|█████████████████████████| 627/627 [24:41<00:00,  2.36s/it]\n",
      "Epoch 1/10, Validation:   0%|                                   | 0/627 [00:00<?, ?it/s]"
     ]
    },
    {
     "name": "stdout",
     "output_type": "stream",
     "text": [
      "train loss: 0.52056, test loss: 0.56526\n"
     ]
    },
    {
     "name": "stderr",
     "output_type": "stream",
     "text": [
      "Epoch 1/10, Training: 100%|███████████████████████████| 627/627 [19:55<00:00,  1.91s/it]\n",
      "Epoch 1/10, Validation: 100%|█████████████████████████| 627/627 [24:43<00:00,  2.37s/it]\n",
      "Epoch 2/10, Validation:   0%|                                   | 0/627 [00:00<?, ?it/s]"
     ]
    },
    {
     "name": "stdout",
     "output_type": "stream",
     "text": [
      "train loss: 0.50676, test loss: 0.55638\n"
     ]
    },
    {
     "name": "stderr",
     "output_type": "stream",
     "text": [
      "Epoch 2/10, Training: 100%|███████████████████████████| 627/627 [19:54<00:00,  1.91s/it]\n",
      "Epoch 2/10, Validation: 100%|█████████████████████████| 627/627 [24:46<00:00,  2.37s/it]\n",
      "Epoch 3/10, Validation:   0%|                                   | 0/627 [00:00<?, ?it/s]"
     ]
    },
    {
     "name": "stdout",
     "output_type": "stream",
     "text": [
      "train loss: 0.50247, test loss: 0.55643\n"
     ]
    },
    {
     "name": "stderr",
     "output_type": "stream",
     "text": [
      "Epoch 3/10, Training: 100%|███████████████████████████| 627/627 [19:47<00:00,  1.89s/it]\n",
      "Epoch 3/10, Validation: 100%|█████████████████████████| 627/627 [24:42<00:00,  2.36s/it]\n",
      "Epoch 4/10, Validation:   0%|                                   | 0/627 [00:00<?, ?it/s]"
     ]
    },
    {
     "name": "stdout",
     "output_type": "stream",
     "text": [
      "train loss: 0.49932, test loss: 0.54983\n"
     ]
    },
    {
     "name": "stderr",
     "output_type": "stream",
     "text": [
      "Epoch 4/10, Training: 100%|███████████████████████████| 627/627 [20:00<00:00,  1.91s/it]\n",
      "Epoch 4/10, Validation: 100%|█████████████████████████| 627/627 [24:53<00:00,  2.38s/it]\n",
      "Epoch 5/10, Validation:   0%|                                   | 0/627 [00:00<?, ?it/s]"
     ]
    },
    {
     "name": "stdout",
     "output_type": "stream",
     "text": [
      "train loss: 0.49698, test loss: 0.54979\n"
     ]
    },
    {
     "name": "stderr",
     "output_type": "stream",
     "text": [
      "Epoch 5/10, Training: 100%|███████████████████████████| 627/627 [19:52<00:00,  1.90s/it]\n",
      "Epoch 5/10, Validation: 100%|█████████████████████████| 627/627 [24:49<00:00,  2.38s/it]\n",
      "Epoch 6/10, Validation:   0%|                                   | 0/627 [00:00<?, ?it/s]"
     ]
    },
    {
     "name": "stdout",
     "output_type": "stream",
     "text": [
      "train loss: 0.49976, test loss: 0.54625\n"
     ]
    },
    {
     "name": "stderr",
     "output_type": "stream",
     "text": [
      "Epoch 6/10, Training: 100%|███████████████████████████| 627/627 [19:56<00:00,  1.91s/it]\n",
      "Epoch 6/10, Validation: 100%|█████████████████████████| 627/627 [24:53<00:00,  2.38s/it]\n",
      "Epoch 7/10, Validation:   0%|                                   | 0/627 [00:00<?, ?it/s]"
     ]
    },
    {
     "name": "stdout",
     "output_type": "stream",
     "text": [
      "train loss: 0.49591, test loss: 0.54826\n"
     ]
    },
    {
     "name": "stderr",
     "output_type": "stream",
     "text": [
      "Epoch 7/10, Training: 100%|███████████████████████████| 627/627 [20:03<00:00,  1.92s/it]\n",
      "Epoch 7/10, Validation: 100%|█████████████████████████| 627/627 [24:57<00:00,  2.39s/it]\n",
      "Epoch 8/10, Validation:   0%|                                   | 0/627 [00:00<?, ?it/s]"
     ]
    },
    {
     "name": "stdout",
     "output_type": "stream",
     "text": [
      "train loss: 0.49333, test loss: 0.55127\n"
     ]
    },
    {
     "name": "stderr",
     "output_type": "stream",
     "text": [
      "Epoch 8/10, Training: 100%|███████████████████████████| 627/627 [20:03<00:00,  1.92s/it]\n",
      "Epoch 8/10, Validation: 100%|█████████████████████████| 627/627 [25:03<00:00,  2.40s/it]\n",
      "Epoch 9/10, Validation:   0%|                                   | 0/627 [00:00<?, ?it/s]"
     ]
    },
    {
     "name": "stdout",
     "output_type": "stream",
     "text": [
      "train loss: 0.49199, test loss: 0.54500\n"
     ]
    },
    {
     "name": "stderr",
     "output_type": "stream",
     "text": [
      "Epoch 9/10, Training: 100%|███████████████████████████| 627/627 [19:56<00:00,  1.91s/it]\n",
      "Epoch 9/10, Validation: 100%|█████████████████████████| 627/627 [24:52<00:00,  2.38s/it]"
     ]
    },
    {
     "name": "stdout",
     "output_type": "stream",
     "text": [
      "train loss: 0.48915, test loss: 0.54792\n"
     ]
    },
    {
     "name": "stderr",
     "output_type": "stream",
     "text": [
      "\n"
     ]
    }
   ],
   "source": [
    "EMBEDDING_DIM = 20\n",
    "HIDDEN_DIM = 100\n",
    "TAGSET_SIZE = 2\n",
    "NUM_EPOCHS = 10\n",
    "\n",
    "model = LSTMTagger(EMBEDDING_DIM, HIDDEN_DIM, TAGSET_SIZE).cuda()\n",
    "model.cuda()\n",
    "\n",
    "loss_function = nn.NLLLoss().cuda()\n",
    "optimizer = optim.Adam(model.parameters(), 0.001)\n",
    "\n",
    "for epoch_idx in range(NUM_EPOCHS): \n",
    "\n",
    "    progress_training_epoch = tqdm(\n",
    "        train_data, \n",
    "        desc=f'Epoch {epoch_idx}/{NUM_EPOCHS}, Training',\n",
    "        miniters=1, ncols=88, position=0,\n",
    "        leave=True, total=len(train_data), smoothing=.9)\n",
    "\n",
    "    progress_validation_epoch = tqdm(\n",
    "        test_data, \n",
    "        desc=f'Epoch {epoch_idx}/{NUM_EPOCHS}, Validation',\n",
    "        miniters=1, ncols=88, position=0, \n",
    "        leave=True, total=len(test_data), smoothing=.9)\n",
    "\n",
    "    train_loss = 0\n",
    "    train_size = 0\n",
    "    model.train()\n",
    "    for idx, (sentence, tags) in enumerate(progress_training_epoch):\n",
    "        sentence = sentence.cuda()\n",
    "        tags = tags.cuda()\n",
    "        model.zero_grad()\n",
    "        tag_scores = model(sentence)\n",
    "        loss = loss_function(tag_scores, tags)\n",
    "        loss.backward()\n",
    "        optimizer.step()\n",
    "        train_loss += loss * tags.size()[0]\n",
    "        train_size += tags.size()[0]\n",
    "\n",
    "    test_loss = 0\n",
    "    test_size = 0\n",
    "    predict = []\n",
    "    target = []\n",
    "    model.eval()\n",
    "    with torch.no_grad():\n",
    "        for idx, (sentence, tags) in enumerate(progress_validation_epoch):\n",
    "            sentence = sentence.cuda()\n",
    "            tags = tags.cuda()\n",
    "            tag_scores = model(sentence)\n",
    "            loss = loss_function(tag_scores, tags)\n",
    "            predict.append(tag_scores.argmax(dim=1).cpu().numpy())\n",
    "            target.append(tags.cpu().numpy())        \n",
    "            test_loss += loss * tags.size()[0]\n",
    "            test_size += tags.size()[0]\n",
    "    predict = np.concatenate(predict, axis=0)\n",
    "    target = np.concatenate(target, axis=0)\n",
    "\n",
    "    print(f'train loss:{train_loss.item()/train_size: .5f}, '\n",
    "          f'test loss:{test_loss.item()/test_size: .5f}')"
   ]
  },
  {
   "cell_type": "markdown",
   "metadata": {},
   "source": [
    "# Test"
   ]
  },
  {
   "cell_type": "code",
   "execution_count": 8,
   "metadata": {},
   "outputs": [
    {
     "name": "stderr",
     "output_type": "stream",
     "text": [
      "Epoch 9/10, Validation: 100%|█████████████████████████| 627/627 [04:53<00:00,  2.14it/s]"
     ]
    },
    {
     "name": "stdout",
     "output_type": "stream",
     "text": [
      "True Positive:2497201, True Negative:319133, False Positive:1004349, False Negative:69167\n"
     ]
    },
    {
     "name": "stderr",
     "output_type": "stream",
     "text": [
      "\n"
     ]
    }
   ],
   "source": [
    "progress_validation_epoch = tqdm(\n",
    "    test_data, \n",
    "    desc=f'Epoch {epoch_idx}/{NUM_EPOCHS}, Validation',\n",
    "    miniters=1, ncols=88, position=0, \n",
    "    leave=True, total=len(test_data), smoothing=.9)\n",
    "\n",
    "predict = []\n",
    "target = []\n",
    "model.eval()\n",
    "with torch.no_grad():\n",
    "    for idx, (sentence, tags) in enumerate(progress_validation_epoch):\n",
    "        sentence = sentence.cuda()\n",
    "        tags = tags.cuda()\n",
    "        tag_scores = model(sentence)\n",
    "        predict.append(tag_scores.argmax(dim=1).cpu().numpy())\n",
    "        target.append(tags.cpu().numpy())\n",
    "        \n",
    "predict = np.concatenate(predict, axis=0)\n",
    "target = np.concatenate(target, axis=0)\n",
    "\n",
    "tp = predict[target==1].sum()\n",
    "tn = (target==0).sum() - predict[target==0].sum()\n",
    "fp = predict[target==0].sum()\n",
    "fn = (target==1).sum() - predict[target==1].sum()\n",
    "\n",
    "print(f'True Positive:{tp}, '\n",
    "      f'True Negative:{tn}, '\n",
    "      f'False Positive:{fp}, '\n",
    "      f'False Negative:{fn}')"
   ]
  },
  {
   "cell_type": "code",
   "execution_count": 9,
   "metadata": {},
   "outputs": [
    {
     "name": "stdout",
     "output_type": "stream",
     "text": [
      "Accuracy:0.7240212347519828, Positive Accuracy:0.7131701674972513, Negative Accuracy:0.8218722637136235, Weighted Accuracy:0.7675212156054374\n"
     ]
    }
   ],
   "source": [
    "accr = (tp+tn)/(tp+tn+fp+fn)\n",
    "posaccr = tp/(tp+fp)\n",
    "negaccr = tn/(tn+fn)\n",
    "print(f'Accuracy:{accr}, '\n",
    "      f'Positive Accuracy:{posaccr}, '\n",
    "      f'Negative Accuracy:{negaccr}, '\n",
    "      f'Weighted Accuracy:{0.5*(posaccr+negaccr)}')"
   ]
  },
  {
   "cell_type": "markdown",
   "metadata": {},
   "source": [
    "# Bagging 9"
   ]
  },
  {
   "cell_type": "code",
   "execution_count": 7,
   "metadata": {},
   "outputs": [],
   "source": [
    "with open('scrimmage5_link_dataset.pickle', 'rb') as file:\n",
    "    link_dataset = pickle.load(file)"
   ]
  },
  {
   "cell_type": "code",
   "execution_count": 8,
   "metadata": {},
   "outputs": [
    {
     "name": "stderr",
     "output_type": "stream",
     "text": [
      "Epoch 0/6, Training: 100%|████████████████████████████| 200/200 [03:46<00:00,  1.13s/it]\n",
      "Epoch 0/6, Validation: 100%|██████████████████████████| 627/627 [06:34<00:00,  1.59it/s]\n",
      "Epoch 1/6, Validation:   0%|                                    | 0/627 [00:00<?, ?it/s]"
     ]
    },
    {
     "name": "stdout",
     "output_type": "stream",
     "text": [
      "train loss: 0.51933, test loss: 0.55458\n"
     ]
    },
    {
     "name": "stderr",
     "output_type": "stream",
     "text": [
      "Epoch 1/6, Training: 100%|████████████████████████████| 200/200 [09:14<00:00,  2.77s/it]\n",
      "Epoch 1/6, Validation: 100%|██████████████████████████| 627/627 [14:06<00:00,  1.35s/it]\n",
      "Epoch 2/6, Validation:   0%|                                    | 0/627 [00:00<?, ?it/s]"
     ]
    },
    {
     "name": "stdout",
     "output_type": "stream",
     "text": [
      "train loss: 0.48233, test loss: 0.56065\n"
     ]
    },
    {
     "name": "stderr",
     "output_type": "stream",
     "text": [
      "Epoch 2/6, Training: 100%|████████████████████████████| 200/200 [09:07<00:00,  2.74s/it]\n",
      "Epoch 2/6, Validation: 100%|██████████████████████████| 627/627 [13:59<00:00,  1.34s/it]\n",
      "Epoch 3/6, Validation:   0%|                                    | 0/627 [00:00<?, ?it/s]"
     ]
    },
    {
     "name": "stdout",
     "output_type": "stream",
     "text": [
      "train loss: 0.47815, test loss: 0.54768\n"
     ]
    },
    {
     "name": "stderr",
     "output_type": "stream",
     "text": [
      "Epoch 3/6, Training: 100%|████████████████████████████| 200/200 [09:09<00:00,  2.75s/it]\n",
      "Epoch 3/6, Validation: 100%|██████████████████████████| 627/627 [14:03<00:00,  1.35s/it]\n",
      "Epoch 4/6, Validation:   0%|                                    | 0/627 [00:00<?, ?it/s]"
     ]
    },
    {
     "name": "stdout",
     "output_type": "stream",
     "text": [
      "train loss: 0.47190, test loss: 0.54192\n"
     ]
    },
    {
     "name": "stderr",
     "output_type": "stream",
     "text": [
      "Epoch 4/6, Training: 100%|████████████████████████████| 200/200 [09:10<00:00,  2.75s/it]\n",
      "Epoch 4/6, Validation: 100%|██████████████████████████| 627/627 [14:06<00:00,  1.35s/it]\n",
      "Epoch 5/6, Validation:   0%|                                    | 0/627 [00:00<?, ?it/s]"
     ]
    },
    {
     "name": "stdout",
     "output_type": "stream",
     "text": [
      "train loss: 0.46865, test loss: 0.54585\n"
     ]
    },
    {
     "name": "stderr",
     "output_type": "stream",
     "text": [
      "Epoch 5/6, Training: 100%|████████████████████████████| 200/200 [09:15<00:00,  2.78s/it]\n",
      "Epoch 5/6, Validation: 100%|██████████████████████████| 627/627 [14:06<00:00,  1.35s/it]\n",
      "Epoch 0/6, Validation:   0%|                                    | 0/627 [00:00<?, ?it/s]"
     ]
    },
    {
     "name": "stdout",
     "output_type": "stream",
     "text": [
      "train loss: 0.46439, test loss: 0.54163\n"
     ]
    },
    {
     "name": "stderr",
     "output_type": "stream",
     "text": [
      "Epoch 0/6, Training: 100%|████████████████████████████| 200/200 [09:05<00:00,  2.73s/it]\n",
      "Epoch 0/6, Validation: 100%|██████████████████████████| 627/627 [13:58<00:00,  1.34s/it]\n",
      "Epoch 1/6, Validation:   0%|                                    | 0/627 [00:00<?, ?it/s]"
     ]
    },
    {
     "name": "stdout",
     "output_type": "stream",
     "text": [
      "train loss: 0.50574, test loss: 0.60154\n"
     ]
    },
    {
     "name": "stderr",
     "output_type": "stream",
     "text": [
      "Epoch 1/6, Training: 100%|████████████████████████████| 200/200 [09:06<00:00,  2.73s/it]\n",
      "Epoch 1/6, Validation: 100%|██████████████████████████| 627/627 [13:56<00:00,  1.33s/it]\n",
      "Epoch 2/6, Validation:   0%|                                    | 0/627 [00:00<?, ?it/s]"
     ]
    },
    {
     "name": "stdout",
     "output_type": "stream",
     "text": [
      "train loss: 0.47777, test loss: 0.61318\n"
     ]
    },
    {
     "name": "stderr",
     "output_type": "stream",
     "text": [
      "Epoch 2/6, Training: 100%|████████████████████████████| 200/200 [09:09<00:00,  2.75s/it]\n",
      "Epoch 2/6, Validation: 100%|██████████████████████████| 627/627 [14:01<00:00,  1.34s/it]\n",
      "Epoch 3/6, Validation:   0%|                                    | 0/627 [00:00<?, ?it/s]"
     ]
    },
    {
     "name": "stdout",
     "output_type": "stream",
     "text": [
      "train loss: 0.46644, test loss: 0.59703\n"
     ]
    },
    {
     "name": "stderr",
     "output_type": "stream",
     "text": [
      "Epoch 3/6, Training: 100%|████████████████████████████| 200/200 [09:05<00:00,  2.73s/it]\n",
      "Epoch 3/6, Validation: 100%|██████████████████████████| 627/627 [13:57<00:00,  1.34s/it]\n",
      "Epoch 4/6, Validation:   0%|                                    | 0/627 [00:00<?, ?it/s]"
     ]
    },
    {
     "name": "stdout",
     "output_type": "stream",
     "text": [
      "train loss: 0.46244, test loss: 0.59242\n"
     ]
    },
    {
     "name": "stderr",
     "output_type": "stream",
     "text": [
      "Epoch 4/6, Training: 100%|████████████████████████████| 200/200 [09:08<00:00,  2.74s/it]\n",
      "Epoch 4/6, Validation: 100%|██████████████████████████| 627/627 [14:01<00:00,  1.34s/it]\n",
      "Epoch 5/6, Validation:   0%|                                    | 0/627 [00:00<?, ?it/s]"
     ]
    },
    {
     "name": "stdout",
     "output_type": "stream",
     "text": [
      "train loss: 0.45877, test loss: 0.58361\n"
     ]
    },
    {
     "name": "stderr",
     "output_type": "stream",
     "text": [
      "Epoch 5/6, Training: 100%|████████████████████████████| 200/200 [10:08<00:00,  3.04s/it]\n",
      "Epoch 5/6, Validation: 100%|██████████████████████████| 627/627 [18:03<00:00,  1.73s/it]\n",
      "Epoch 0/6, Validation:   0%|                                    | 0/627 [00:00<?, ?it/s]"
     ]
    },
    {
     "name": "stdout",
     "output_type": "stream",
     "text": [
      "train loss: 0.45520, test loss: 0.58020\n"
     ]
    },
    {
     "name": "stderr",
     "output_type": "stream",
     "text": [
      "Epoch 0/6, Training: 100%|████████████████████████████| 200/200 [13:47<00:00,  4.14s/it]\n",
      "Epoch 0/6, Validation: 100%|██████████████████████████| 627/627 [21:31<00:00,  2.06s/it]\n",
      "Epoch 1/6, Validation:   0%|                                    | 0/627 [00:00<?, ?it/s]"
     ]
    },
    {
     "name": "stdout",
     "output_type": "stream",
     "text": [
      "train loss: 0.50520, test loss: 0.62202\n"
     ]
    },
    {
     "name": "stderr",
     "output_type": "stream",
     "text": [
      "Epoch 1/6, Training: 100%|████████████████████████████| 200/200 [13:37<00:00,  4.09s/it]\n",
      "Epoch 1/6, Validation: 100%|██████████████████████████| 627/627 [21:24<00:00,  2.05s/it]\n",
      "Epoch 2/6, Validation:   0%|                                    | 0/627 [00:00<?, ?it/s]"
     ]
    },
    {
     "name": "stdout",
     "output_type": "stream",
     "text": [
      "train loss: 0.47246, test loss: 0.59272\n"
     ]
    },
    {
     "name": "stderr",
     "output_type": "stream",
     "text": [
      "Epoch 2/6, Training: 100%|████████████████████████████| 200/200 [13:41<00:00,  4.11s/it]\n",
      "Epoch 2/6, Validation: 100%|██████████████████████████| 627/627 [21:23<00:00,  2.05s/it]\n",
      "Epoch 3/6, Validation:   0%|                                    | 0/627 [00:00<?, ?it/s]"
     ]
    },
    {
     "name": "stdout",
     "output_type": "stream",
     "text": [
      "train loss: 0.46421, test loss: 0.59611\n"
     ]
    },
    {
     "name": "stderr",
     "output_type": "stream",
     "text": [
      "Epoch 3/6, Training: 100%|████████████████████████████| 200/200 [13:46<00:00,  4.13s/it]\n",
      "Epoch 3/6, Validation: 100%|██████████████████████████| 627/627 [21:36<00:00,  2.07s/it]\n",
      "Epoch 4/6, Validation:   0%|                                    | 0/627 [00:00<?, ?it/s]"
     ]
    },
    {
     "name": "stdout",
     "output_type": "stream",
     "text": [
      "train loss: 0.46274, test loss: 0.59342\n"
     ]
    },
    {
     "name": "stderr",
     "output_type": "stream",
     "text": [
      "Epoch 4/6, Training: 100%|████████████████████████████| 200/200 [13:41<00:00,  4.11s/it]\n",
      "Epoch 4/6, Validation: 100%|██████████████████████████| 627/627 [21:30<00:00,  2.06s/it]\n",
      "Epoch 5/6, Validation:   0%|                                    | 0/627 [00:00<?, ?it/s]"
     ]
    },
    {
     "name": "stdout",
     "output_type": "stream",
     "text": [
      "train loss: 0.45992, test loss: 0.59162\n"
     ]
    },
    {
     "name": "stderr",
     "output_type": "stream",
     "text": [
      "Epoch 5/6, Training: 100%|████████████████████████████| 200/200 [13:45<00:00,  4.13s/it]\n",
      "Epoch 5/6, Validation: 100%|██████████████████████████| 627/627 [21:39<00:00,  2.07s/it]\n",
      "Epoch 0/6, Validation:   0%|                                    | 0/627 [00:00<?, ?it/s]"
     ]
    },
    {
     "name": "stdout",
     "output_type": "stream",
     "text": [
      "train loss: 0.45675, test loss: 0.59182\n"
     ]
    },
    {
     "name": "stderr",
     "output_type": "stream",
     "text": [
      "Epoch 0/6, Training: 100%|████████████████████████████| 200/200 [15:02<00:00,  4.51s/it]\n",
      "Epoch 0/6, Validation: 100%|██████████████████████████| 627/627 [22:52<00:00,  2.19s/it]\n",
      "Epoch 1/6, Validation:   0%|                                    | 0/627 [00:00<?, ?it/s]"
     ]
    },
    {
     "name": "stdout",
     "output_type": "stream",
     "text": [
      "train loss: 0.54279, test loss: 0.60984\n"
     ]
    },
    {
     "name": "stderr",
     "output_type": "stream",
     "text": [
      "Epoch 1/6, Training: 100%|████████████████████████████| 200/200 [15:10<00:00,  4.55s/it]\n",
      "Epoch 1/6, Validation: 100%|██████████████████████████| 627/627 [22:57<00:00,  2.20s/it]\n",
      "Epoch 2/6, Validation:   0%|                                    | 0/627 [00:00<?, ?it/s]"
     ]
    },
    {
     "name": "stdout",
     "output_type": "stream",
     "text": [
      "train loss: 0.50287, test loss: 0.58248\n"
     ]
    },
    {
     "name": "stderr",
     "output_type": "stream",
     "text": [
      "Epoch 2/6, Training: 100%|████████████████████████████| 200/200 [15:15<00:00,  4.58s/it]\n",
      "Epoch 2/6, Validation: 100%|██████████████████████████| 627/627 [23:02<00:00,  2.21s/it]\n",
      "Epoch 3/6, Validation:   0%|                                    | 0/627 [00:00<?, ?it/s]"
     ]
    },
    {
     "name": "stdout",
     "output_type": "stream",
     "text": [
      "train loss: 0.49489, test loss: 0.57570\n"
     ]
    },
    {
     "name": "stderr",
     "output_type": "stream",
     "text": [
      "Epoch 3/6, Training: 100%|████████████████████████████| 200/200 [15:10<00:00,  4.55s/it]\n",
      "Epoch 3/6, Validation: 100%|██████████████████████████| 627/627 [23:02<00:00,  2.21s/it]\n",
      "Epoch 4/6, Validation:   0%|                                    | 0/627 [00:00<?, ?it/s]"
     ]
    },
    {
     "name": "stdout",
     "output_type": "stream",
     "text": [
      "train loss: 0.49014, test loss: 0.57771\n"
     ]
    },
    {
     "name": "stderr",
     "output_type": "stream",
     "text": [
      "Epoch 4/6, Training: 100%|████████████████████████████| 200/200 [15:15<00:00,  4.58s/it]\n",
      "Epoch 4/6, Validation: 100%|██████████████████████████| 627/627 [23:06<00:00,  2.21s/it]\n",
      "Epoch 5/6, Validation:   0%|                                    | 0/627 [00:00<?, ?it/s]"
     ]
    },
    {
     "name": "stdout",
     "output_type": "stream",
     "text": [
      "train loss: 0.48609, test loss: 0.57897\n"
     ]
    },
    {
     "name": "stderr",
     "output_type": "stream",
     "text": [
      "Epoch 5/6, Training: 100%|████████████████████████████| 200/200 [15:09<00:00,  4.55s/it]\n",
      "Epoch 5/6, Validation: 100%|██████████████████████████| 627/627 [23:02<00:00,  2.20s/it]\n",
      "Epoch 0/6, Validation:   0%|                                    | 0/627 [00:00<?, ?it/s]"
     ]
    },
    {
     "name": "stdout",
     "output_type": "stream",
     "text": [
      "train loss: 0.48311, test loss: 0.58153\n"
     ]
    },
    {
     "name": "stderr",
     "output_type": "stream",
     "text": [
      "Epoch 0/6, Training: 100%|████████████████████████████| 200/200 [14:34<00:00,  4.37s/it]\n",
      "Epoch 0/6, Validation: 100%|██████████████████████████| 627/627 [22:27<00:00,  2.15s/it]\n",
      "Epoch 1/6, Validation:   0%|                                    | 0/627 [00:00<?, ?it/s]"
     ]
    },
    {
     "name": "stdout",
     "output_type": "stream",
     "text": [
      "train loss: 0.50922, test loss: 0.62053\n"
     ]
    },
    {
     "name": "stderr",
     "output_type": "stream",
     "text": [
      "Epoch 1/6, Training: 100%|████████████████████████████| 200/200 [14:43<00:00,  4.42s/it]\n",
      "Epoch 1/6, Validation: 100%|██████████████████████████| 627/627 [22:34<00:00,  2.16s/it]\n",
      "Epoch 2/6, Validation:   0%|                                    | 0/627 [00:00<?, ?it/s]"
     ]
    },
    {
     "name": "stdout",
     "output_type": "stream",
     "text": [
      "train loss: 0.47205, test loss: 0.60189\n"
     ]
    },
    {
     "name": "stderr",
     "output_type": "stream",
     "text": [
      "Epoch 2/6, Training: 100%|████████████████████████████| 200/200 [14:38<00:00,  4.39s/it]\n",
      "Epoch 2/6, Validation: 100%|██████████████████████████| 627/627 [22:32<00:00,  2.16s/it]\n",
      "Epoch 3/6, Validation:   0%|                                    | 0/627 [00:00<?, ?it/s]"
     ]
    },
    {
     "name": "stdout",
     "output_type": "stream",
     "text": [
      "train loss: 0.46776, test loss: 0.59976\n"
     ]
    },
    {
     "name": "stderr",
     "output_type": "stream",
     "text": [
      "Epoch 3/6, Training: 100%|████████████████████████████| 200/200 [14:40<00:00,  4.40s/it]\n",
      "Epoch 3/6, Validation: 100%|██████████████████████████| 627/627 [22:31<00:00,  2.16s/it]\n",
      "Epoch 4/6, Validation:   0%|                                    | 0/627 [00:00<?, ?it/s]"
     ]
    },
    {
     "name": "stdout",
     "output_type": "stream",
     "text": [
      "train loss: 0.46471, test loss: 0.59013\n"
     ]
    },
    {
     "name": "stderr",
     "output_type": "stream",
     "text": [
      "Epoch 4/6, Training: 100%|████████████████████████████| 200/200 [14:35<00:00,  4.38s/it]\n",
      "Epoch 4/6, Validation: 100%|██████████████████████████| 627/627 [22:30<00:00,  2.15s/it]\n",
      "Epoch 5/6, Validation:   0%|                                    | 0/627 [00:00<?, ?it/s]"
     ]
    },
    {
     "name": "stdout",
     "output_type": "stream",
     "text": [
      "train loss: 0.45988, test loss: 0.58876\n"
     ]
    },
    {
     "name": "stderr",
     "output_type": "stream",
     "text": [
      "Epoch 5/6, Training: 100%|████████████████████████████| 200/200 [14:40<00:00,  4.40s/it]\n",
      "Epoch 5/6, Validation: 100%|██████████████████████████| 627/627 [22:35<00:00,  2.16s/it]\n",
      "Epoch 0/6, Validation:   0%|                                    | 0/627 [00:00<?, ?it/s]"
     ]
    },
    {
     "name": "stdout",
     "output_type": "stream",
     "text": [
      "train loss: 0.45558, test loss: 0.58514\n"
     ]
    },
    {
     "name": "stderr",
     "output_type": "stream",
     "text": [
      "Epoch 0/6, Training: 100%|████████████████████████████| 200/200 [14:50<00:00,  4.45s/it]\n",
      "Epoch 0/6, Validation: 100%|██████████████████████████| 627/627 [22:40<00:00,  2.17s/it]\n",
      "Epoch 1/6, Validation:   0%|                                    | 0/627 [00:00<?, ?it/s]"
     ]
    },
    {
     "name": "stdout",
     "output_type": "stream",
     "text": [
      "train loss: 0.55369, test loss: 0.58353\n"
     ]
    },
    {
     "name": "stderr",
     "output_type": "stream",
     "text": [
      "Epoch 1/6, Training: 100%|████████████████████████████| 200/200 [14:56<00:00,  4.48s/it]\n",
      "Epoch 1/6, Validation: 100%|██████████████████████████| 627/627 [22:45<00:00,  2.18s/it]\n",
      "Epoch 2/6, Validation:   0%|                                    | 0/627 [00:00<?, ?it/s]"
     ]
    },
    {
     "name": "stdout",
     "output_type": "stream",
     "text": [
      "train loss: 0.53122, test loss: 0.56264\n"
     ]
    },
    {
     "name": "stderr",
     "output_type": "stream",
     "text": [
      "Epoch 2/6, Training: 100%|████████████████████████████| 200/200 [15:03<00:00,  4.52s/it]\n",
      "Epoch 2/6, Validation: 100%|██████████████████████████| 627/627 [22:52<00:00,  2.19s/it]\n",
      "Epoch 3/6, Validation:   0%|                                    | 0/627 [00:00<?, ?it/s]"
     ]
    },
    {
     "name": "stdout",
     "output_type": "stream",
     "text": [
      "train loss: 0.52319, test loss: 0.55830\n"
     ]
    },
    {
     "name": "stderr",
     "output_type": "stream",
     "text": [
      "Epoch 3/6, Training: 100%|████████████████████████████| 200/200 [14:50<00:00,  4.45s/it]\n",
      "Epoch 3/6, Validation: 100%|██████████████████████████| 627/627 [22:37<00:00,  2.17s/it]\n",
      "Epoch 4/6, Validation:   0%|                                    | 0/627 [00:00<?, ?it/s]"
     ]
    },
    {
     "name": "stdout",
     "output_type": "stream",
     "text": [
      "train loss: 0.51865, test loss: 0.55405\n"
     ]
    },
    {
     "name": "stderr",
     "output_type": "stream",
     "text": [
      "Epoch 4/6, Training: 100%|████████████████████████████| 200/200 [14:55<00:00,  4.48s/it]\n",
      "Epoch 4/6, Validation: 100%|██████████████████████████| 627/627 [22:45<00:00,  2.18s/it]\n",
      "Epoch 5/6, Validation:   0%|                                    | 0/627 [00:00<?, ?it/s]"
     ]
    },
    {
     "name": "stdout",
     "output_type": "stream",
     "text": [
      "train loss: 0.51306, test loss: 0.54865\n"
     ]
    },
    {
     "name": "stderr",
     "output_type": "stream",
     "text": [
      "Epoch 5/6, Training: 100%|████████████████████████████| 200/200 [14:53<00:00,  4.47s/it]\n",
      "Epoch 5/6, Validation: 100%|██████████████████████████| 627/627 [22:45<00:00,  2.18s/it]\n",
      "Epoch 0/6, Validation:   0%|                                    | 0/627 [00:00<?, ?it/s]"
     ]
    },
    {
     "name": "stdout",
     "output_type": "stream",
     "text": [
      "train loss: 0.50958, test loss: 0.55365\n"
     ]
    },
    {
     "name": "stderr",
     "output_type": "stream",
     "text": [
      "Epoch 0/6, Training: 100%|████████████████████████████| 200/200 [15:10<00:00,  4.55s/it]\n",
      "Epoch 0/6, Validation: 100%|██████████████████████████| 627/627 [22:57<00:00,  2.20s/it]\n",
      "Epoch 1/6, Validation:   0%|                                    | 0/627 [00:00<?, ?it/s]"
     ]
    },
    {
     "name": "stdout",
     "output_type": "stream",
     "text": [
      "train loss: 0.51341, test loss: 0.55432\n"
     ]
    },
    {
     "name": "stderr",
     "output_type": "stream",
     "text": [
      "Epoch 1/6, Training: 100%|████████████████████████████| 200/200 [15:12<00:00,  4.56s/it]\n",
      "Epoch 1/6, Validation: 100%|██████████████████████████| 627/627 [22:59<00:00,  2.20s/it]\n",
      "Epoch 2/6, Validation:   0%|                                    | 0/627 [00:00<?, ?it/s]"
     ]
    },
    {
     "name": "stdout",
     "output_type": "stream",
     "text": [
      "train loss: 0.47527, test loss: 0.55021\n"
     ]
    },
    {
     "name": "stderr",
     "output_type": "stream",
     "text": [
      "Epoch 2/6, Training: 100%|████████████████████████████| 200/200 [15:15<00:00,  4.58s/it]\n",
      "Epoch 2/6, Validation: 100%|██████████████████████████| 627/627 [23:04<00:00,  2.21s/it]\n",
      "Epoch 3/6, Validation:   0%|                                    | 0/627 [00:00<?, ?it/s]"
     ]
    },
    {
     "name": "stdout",
     "output_type": "stream",
     "text": [
      "train loss: 0.46631, test loss: 0.55377\n"
     ]
    },
    {
     "name": "stderr",
     "output_type": "stream",
     "text": [
      "Epoch 3/6, Training: 100%|████████████████████████████| 200/200 [15:14<00:00,  4.57s/it]\n",
      "Epoch 3/6, Validation: 100%|██████████████████████████| 627/627 [23:02<00:00,  2.20s/it]\n",
      "Epoch 4/6, Validation:   0%|                                    | 0/627 [00:00<?, ?it/s]"
     ]
    },
    {
     "name": "stdout",
     "output_type": "stream",
     "text": [
      "train loss: 0.46255, test loss: 0.55646\n"
     ]
    },
    {
     "name": "stderr",
     "output_type": "stream",
     "text": [
      "Epoch 4/6, Training: 100%|████████████████████████████| 200/200 [15:08<00:00,  4.54s/it]\n",
      "Epoch 4/6, Validation: 100%|██████████████████████████| 627/627 [22:57<00:00,  2.20s/it]\n",
      "Epoch 5/6, Validation:   0%|                                    | 0/627 [00:00<?, ?it/s]"
     ]
    },
    {
     "name": "stdout",
     "output_type": "stream",
     "text": [
      "train loss: 0.45598, test loss: 0.55726\n"
     ]
    },
    {
     "name": "stderr",
     "output_type": "stream",
     "text": [
      "Epoch 5/6, Training: 100%|████████████████████████████| 200/200 [15:14<00:00,  4.57s/it]\n",
      "Epoch 5/6, Validation: 100%|██████████████████████████| 627/627 [23:05<00:00,  2.21s/it]\n",
      "Epoch 0/6, Validation:   0%|                                    | 0/627 [00:00<?, ?it/s]"
     ]
    },
    {
     "name": "stdout",
     "output_type": "stream",
     "text": [
      "train loss: 0.45239, test loss: 0.55428\n"
     ]
    },
    {
     "name": "stderr",
     "output_type": "stream",
     "text": [
      "Epoch 0/6, Training: 100%|████████████████████████████| 200/200 [14:29<00:00,  4.35s/it]\n",
      "Epoch 0/6, Validation: 100%|██████████████████████████| 627/627 [22:17<00:00,  2.13s/it]\n",
      "Epoch 1/6, Validation:   0%|                                    | 0/627 [00:00<?, ?it/s]"
     ]
    },
    {
     "name": "stdout",
     "output_type": "stream",
     "text": [
      "train loss: 0.54833, test loss: 0.58975\n"
     ]
    },
    {
     "name": "stderr",
     "output_type": "stream",
     "text": [
      "Epoch 1/6, Training: 100%|████████████████████████████| 200/200 [14:37<00:00,  4.39s/it]\n",
      "Epoch 1/6, Validation: 100%|██████████████████████████| 627/627 [22:24<00:00,  2.14s/it]\n",
      "Epoch 2/6, Validation:   0%|                                    | 0/627 [00:00<?, ?it/s]"
     ]
    },
    {
     "name": "stdout",
     "output_type": "stream",
     "text": [
      "train loss: 0.51077, test loss: 0.58068\n"
     ]
    },
    {
     "name": "stderr",
     "output_type": "stream",
     "text": [
      "Epoch 2/6, Training: 100%|████████████████████████████| 200/200 [14:36<00:00,  4.38s/it]\n",
      "Epoch 2/6, Validation: 100%|██████████████████████████| 627/627 [22:25<00:00,  2.15s/it]\n",
      "Epoch 3/6, Validation:   0%|                                    | 0/627 [00:00<?, ?it/s]"
     ]
    },
    {
     "name": "stdout",
     "output_type": "stream",
     "text": [
      "train loss: 0.50164, test loss: 0.57578\n"
     ]
    },
    {
     "name": "stderr",
     "output_type": "stream",
     "text": [
      "Epoch 3/6, Training: 100%|████████████████████████████| 200/200 [14:34<00:00,  4.37s/it]\n",
      "Epoch 3/6, Validation: 100%|██████████████████████████| 627/627 [22:23<00:00,  2.14s/it]\n",
      "Epoch 4/6, Validation:   0%|                                    | 0/627 [00:00<?, ?it/s]"
     ]
    },
    {
     "name": "stdout",
     "output_type": "stream",
     "text": [
      "train loss: 0.49586, test loss: 0.56870\n"
     ]
    },
    {
     "name": "stderr",
     "output_type": "stream",
     "text": [
      "Epoch 4/6, Training: 100%|████████████████████████████| 200/200 [14:37<00:00,  4.39s/it]\n",
      "Epoch 4/6, Validation: 100%|██████████████████████████| 627/627 [22:26<00:00,  2.15s/it]\n",
      "Epoch 5/6, Validation:   0%|                                    | 0/627 [00:00<?, ?it/s]"
     ]
    },
    {
     "name": "stdout",
     "output_type": "stream",
     "text": [
      "train loss: 0.49233, test loss: 0.56678\n"
     ]
    },
    {
     "name": "stderr",
     "output_type": "stream",
     "text": [
      "Epoch 5/6, Training: 100%|████████████████████████████| 200/200 [14:42<00:00,  4.41s/it]\n",
      "Epoch 5/6, Validation: 100%|██████████████████████████| 627/627 [22:34<00:00,  2.16s/it]\n",
      "Epoch 0/6, Validation:   0%|                                    | 0/627 [00:00<?, ?it/s]"
     ]
    },
    {
     "name": "stdout",
     "output_type": "stream",
     "text": [
      "train loss: 0.48921, test loss: 0.56053\n"
     ]
    },
    {
     "name": "stderr",
     "output_type": "stream",
     "text": [
      "Epoch 0/6, Training: 100%|████████████████████████████| 200/200 [14:39<00:00,  4.40s/it]\n",
      "Epoch 0/6, Validation: 100%|██████████████████████████| 627/627 [22:24<00:00,  2.14s/it]\n",
      "Epoch 1/6, Validation:   0%|                                    | 0/627 [00:00<?, ?it/s]"
     ]
    },
    {
     "name": "stdout",
     "output_type": "stream",
     "text": [
      "train loss: 0.53252, test loss: 0.55717\n"
     ]
    },
    {
     "name": "stderr",
     "output_type": "stream",
     "text": [
      "Epoch 1/6, Training: 100%|████████████████████████████| 200/200 [14:45<00:00,  4.43s/it]\n",
      "Epoch 1/6, Validation: 100%|██████████████████████████| 627/627 [22:31<00:00,  2.16s/it]\n",
      "Epoch 2/6, Validation:   0%|                                    | 0/627 [00:00<?, ?it/s]"
     ]
    },
    {
     "name": "stdout",
     "output_type": "stream",
     "text": [
      "train loss: 0.50077, test loss: 0.55650\n"
     ]
    },
    {
     "name": "stderr",
     "output_type": "stream",
     "text": [
      "Epoch 2/6, Training: 100%|████████████████████████████| 200/200 [14:49<00:00,  4.45s/it]\n",
      "Epoch 2/6, Validation: 100%|██████████████████████████| 627/627 [22:36<00:00,  2.16s/it]\n",
      "Epoch 3/6, Validation:   0%|                                    | 0/627 [00:00<?, ?it/s]"
     ]
    },
    {
     "name": "stdout",
     "output_type": "stream",
     "text": [
      "train loss: 0.49472, test loss: 0.55596\n"
     ]
    },
    {
     "name": "stderr",
     "output_type": "stream",
     "text": [
      "Epoch 3/6, Training: 100%|████████████████████████████| 200/200 [14:51<00:00,  4.46s/it]\n",
      "Epoch 3/6, Validation: 100%|██████████████████████████| 627/627 [22:41<00:00,  2.17s/it]\n",
      "Epoch 4/6, Validation:   0%|                                    | 0/627 [00:00<?, ?it/s]"
     ]
    },
    {
     "name": "stdout",
     "output_type": "stream",
     "text": [
      "train loss: 0.48899, test loss: 0.55241\n"
     ]
    },
    {
     "name": "stderr",
     "output_type": "stream",
     "text": [
      "Epoch 4/6, Training: 100%|████████████████████████████| 200/200 [14:46<00:00,  4.43s/it]\n",
      "Epoch 4/6, Validation: 100%|██████████████████████████| 627/627 [22:36<00:00,  2.16s/it]\n",
      "Epoch 5/6, Validation:   0%|                                    | 0/627 [00:00<?, ?it/s]"
     ]
    },
    {
     "name": "stdout",
     "output_type": "stream",
     "text": [
      "train loss: 0.48554, test loss: 0.54940\n"
     ]
    },
    {
     "name": "stderr",
     "output_type": "stream",
     "text": [
      "Epoch 5/6, Training: 100%|████████████████████████████| 200/200 [14:49<00:00,  4.45s/it]\n",
      "Epoch 5/6, Validation: 100%|██████████████████████████| 627/627 [22:41<00:00,  2.17s/it]"
     ]
    },
    {
     "name": "stdout",
     "output_type": "stream",
     "text": [
      "train loss: 0.48185, test loss: 0.54680\n"
     ]
    },
    {
     "name": "stderr",
     "output_type": "stream",
     "text": [
      "\n"
     ]
    }
   ],
   "source": [
    "EMBEDDING_DIM = 20\n",
    "HIDDEN_DIM = 100\n",
    "TAGSET_SIZE = 2\n",
    "NUM_EPOCHS = 6\n",
    "model_list = []\n",
    "\n",
    "for model_idx in range(9):\n",
    "    \n",
    "    train_data = []\n",
    "    for link_idx in np.random.choice(200,size=200,replace=True):\n",
    "        train_data.append(link_dataset[link_idx])\n",
    "    \n",
    "    model = LSTMTagger(EMBEDDING_DIM, HIDDEN_DIM, TAGSET_SIZE)\n",
    "    model.cuda()\n",
    "    loss_function = nn.NLLLoss().cuda()\n",
    "    optimizer = optim.Adam(model.parameters(), 0.001)\n",
    "\n",
    "    model.train()\n",
    "    for epoch_idx in range(NUM_EPOCHS):  \n",
    "\n",
    "        progress_training_epoch = tqdm(\n",
    "            train_data, \n",
    "            desc=f'Epoch {epoch_idx}/{NUM_EPOCHS}, Training',\n",
    "            miniters=1, ncols=88, position=0,\n",
    "            leave=True, total=len(train_data), smoothing=.9)\n",
    "\n",
    "        progress_validation_epoch = tqdm(\n",
    "            test_data, \n",
    "            desc=f'Epoch {epoch_idx}/{NUM_EPOCHS}, Validation',\n",
    "            miniters=1, ncols=88, position=0, \n",
    "            leave=True, total=len(test_data), smoothing=.9)\n",
    "\n",
    "        train_loss = 0\n",
    "        train_size = 0\n",
    "        model.train()\n",
    "        for idx, (sentence, tags) in enumerate(progress_training_epoch):\n",
    "            sentence = sentence.cuda()\n",
    "            tags = tags.cuda()\n",
    "            model.zero_grad()\n",
    "            tag_scores = model(sentence)\n",
    "            loss = loss_function(tag_scores, tags)\n",
    "            loss.backward()\n",
    "            optimizer.step()\n",
    "            train_loss += loss * tags.size()[0]\n",
    "            train_size += tags.size()[0]\n",
    "\n",
    "        test_loss = 0\n",
    "        test_size = 0\n",
    "        model.eval()\n",
    "        with torch.no_grad():\n",
    "            for idx, (sentence, tags) in enumerate(progress_validation_epoch):\n",
    "                sentence = sentence.cuda()\n",
    "                tags = tags.cuda()\n",
    "                tag_scores = model(sentence)\n",
    "                loss = loss_function(tag_scores, tags) \n",
    "                test_loss += loss * tags.size()[0]\n",
    "                test_size += tags.size()[0]\n",
    "\n",
    "        print(f'train loss:{train_loss.item()/train_size: .5f}, '\n",
    "              f'test loss:{test_loss.item()/test_size: .5f}')\n",
    "        \n",
    "    model_list.append(model)"
   ]
  },
  {
   "cell_type": "markdown",
   "metadata": {},
   "source": [
    "# Test"
   ]
  },
  {
   "cell_type": "code",
   "execution_count": 9,
   "metadata": {},
   "outputs": [
    {
     "name": "stderr",
     "output_type": "stream",
     "text": [
      "Epoch 5/6, Validation: 100%|██████████████████████████| 627/627 [07:48<00:00,  1.34it/s]\n",
      "Epoch 5/6, Validation: 100%|██████████████████████████| 627/627 [07:44<00:00,  1.35it/s]\n",
      "Epoch 5/6, Validation: 100%|██████████████████████████| 627/627 [07:50<00:00,  1.33it/s]\n",
      "Epoch 5/6, Validation: 100%|██████████████████████████| 627/627 [07:46<00:00,  1.34it/s]\n",
      "Epoch 5/6, Validation: 100%|██████████████████████████| 627/627 [07:46<00:00,  1.34it/s]\n",
      "Epoch 5/6, Validation: 100%|██████████████████████████| 627/627 [06:29<00:00,  1.61it/s]\n",
      "Epoch 5/6, Validation: 100%|██████████████████████████| 627/627 [06:29<00:00,  1.61it/s]\n",
      "Epoch 5/6, Validation: 100%|██████████████████████████| 627/627 [06:27<00:00,  1.62it/s]\n",
      "Epoch 5/6, Validation: 100%|██████████████████████████| 627/627 [06:29<00:00,  1.61it/s]\n"
     ]
    },
    {
     "name": "stdout",
     "output_type": "stream",
     "text": [
      "True Positive:2482197, True Negative:334426, False Positive:989056, False Negative:84171\n"
     ]
    }
   ],
   "source": [
    "predict_agg = []\n",
    "target_agg = []\n",
    "\n",
    "for model in model_list:\n",
    "    \n",
    "    progress_validation_epoch = tqdm(\n",
    "        test_data, \n",
    "        desc=f'Epoch {epoch_idx}/{NUM_EPOCHS}, Validation',\n",
    "        miniters=1, ncols=88, position=0, \n",
    "        leave=True, total=len(test_data), smoothing=.9)\n",
    "    \n",
    "    predict = []\n",
    "    target = []\n",
    "    model.eval()\n",
    "    with torch.no_grad():\n",
    "        for idx, (sentence, tags) in enumerate(progress_validation_epoch):\n",
    "            sentence = sentence.cuda()\n",
    "            tags = tags.cuda()\n",
    "            tag_scores = model(sentence)\n",
    "            predict.append(tag_scores.argmax(dim=1).cpu().numpy())\n",
    "            target.append(tags.cpu().numpy())        \n",
    "    predict = np.concatenate(predict, axis=0)\n",
    "    target = np.concatenate(target, axis=0)\n",
    "    \n",
    "    predict_agg.append(predict)\n",
    "    target_agg.append(target)\n",
    "    \n",
    "predict = (np.array(predict_agg).sum(axis=0) > 4.5)\n",
    "target = target_agg[0]\n",
    "tp = predict[target==1].sum()\n",
    "tn = (target==0).sum() - predict[target==0].sum()\n",
    "fp = predict[target==0].sum()\n",
    "fn = (target==1).sum() - predict[target==1].sum()\n",
    "\n",
    "print(f'True Positive:{tp}, '\n",
    "      f'True Negative:{tn}, '\n",
    "      f'False Positive:{fp}, '\n",
    "      f'False Negative:{fn}')\n"
   ]
  },
  {
   "cell_type": "code",
   "execution_count": 10,
   "metadata": {},
   "outputs": [
    {
     "name": "stdout",
     "output_type": "stream",
     "text": [
      "Accuracy:0.7240955306759901, Positive Accuracy:0.7150723384322606, Negative Accuracy:0.7989211580589445, Weighted Accuracy:0.7569967482456026\n"
     ]
    }
   ],
   "source": [
    "accr = (tp+tn)/(tp+tn+fp+fn)\n",
    "posaccr = tp/(tp+fp)\n",
    "negaccr = tn/(tn+fn)\n",
    "print(f'Accuracy:{accr}, '\n",
    "      f'Positive Accuracy:{posaccr}, '\n",
    "      f'Negative Accuracy:{negaccr}, '\n",
    "      f'Weighted Accuracy:{0.5*(posaccr+negaccr)}')"
   ]
  },
  {
   "cell_type": "code",
   "execution_count": null,
   "metadata": {},
   "outputs": [],
   "source": []
  }
 ],
 "metadata": {
  "kernelspec": {
   "display_name": "Python 3",
   "language": "python",
   "name": "python3"
  },
  "language_info": {
   "codemirror_mode": {
    "name": "ipython",
    "version": 3
   },
   "file_extension": ".py",
   "mimetype": "text/x-python",
   "name": "python",
   "nbconvert_exporter": "python",
   "pygments_lexer": "ipython3",
   "version": "3.7.5"
  }
 },
 "nbformat": 4,
 "nbformat_minor": 2
}
