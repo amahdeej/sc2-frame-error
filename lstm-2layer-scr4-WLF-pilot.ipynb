{
 "cells": [
  {
   "cell_type": "markdown",
   "metadata": {},
   "source": [
    "# Libraries"
   ]
  },
  {
   "cell_type": "code",
   "execution_count": 1,
   "metadata": {},
   "outputs": [],
   "source": [
    "import sqlite3\n",
    "import numpy as np\n",
    "from collections import OrderedDict, namedtuple\n",
    "from distutils.spawn import find_executable\n",
    "import matplotlib.pyplot as plt\n",
    "\n",
    "import sys\n",
    "import subprocess\n",
    "import pathlib\n",
    "import tempfile\n",
    "import importlib\n",
    "import os\n",
    "import time\n",
    "import random\n",
    "import pickle\n",
    "\n",
    "import math\n",
    "\n",
    "from configparser import ConfigParser\n",
    "\n",
    "# from google.protobuf.json_format import MessageToDict"
   ]
  },
  {
   "cell_type": "code",
   "execution_count": 2,
   "metadata": {},
   "outputs": [],
   "source": [
    "# DEVICE = 0\n",
    "\n",
    "import os\n",
    "import time\n",
    "import pickle\n",
    "import numpy as np\n",
    "from tqdm import tqdm\n",
    "import matplotlib.pyplot as plt\n",
    "import seaborn as sn\n",
    "import pandas as pd\n",
    "\n",
    "import torch\n",
    "torch.backends.cudnn.benchmark = True\n",
    "import torch.optim as optim\n",
    "import torch.nn as nn\n",
    "import torch.nn.functional as F\n",
    "from torch.autograd import Variable\n",
    "from torch.utils import data\n",
    "\n",
    "# torch.cuda.set_device(DEVICE)\n",
    "torch.cuda.empty_cache() \n",
    "torch.backends.cudnn.benchmark=True"
   ]
  },
  {
   "cell_type": "code",
   "execution_count": 3,
   "metadata": {},
   "outputs": [],
   "source": [
    "np.random.seed(0)\n",
    "torch.manual_seed(0)\n",
    "\n",
    "import os\n",
    "os.environ['CUDA_VISIBLE_DEVICES']='1'"
   ]
  },
  {
   "cell_type": "markdown",
   "metadata": {},
   "source": [
    "# load the dataset"
   ]
  },
  {
   "cell_type": "code",
   "execution_count": 4,
   "metadata": {},
   "outputs": [],
   "source": [
    "with open('scrimmage4_link_dataset.pickle', 'rb') as file:\n",
    "    link_dataset = pickle.load(file)"
   ]
  },
  {
   "cell_type": "code",
   "execution_count": 5,
   "metadata": {},
   "outputs": [],
   "source": [
    "train_x_npn = []\n",
    "train_y_npn = []\n",
    "test_x_npn = []\n",
    "test_y_npn = []\n",
    "\n",
    "train_data = []\n",
    "test_data = []\n",
    "\n",
    "\n",
    "for i in range(len(link_dataset)):\n",
    "    datalen = len(link_dataset[i][1])\n",
    "    trainlen = round(datalen*2/3)\n",
    "    testlen = datalen -trainlen        \n",
    "    train_x_npn = link_dataset[i][0][0:trainlen].numpy()   \n",
    "    train_y_npn = link_dataset[i][1][0:trainlen].numpy()\n",
    "    test_x_npn = link_dataset[i][0][trainlen:trainlen+testlen].numpy()\n",
    "    test_y_npn = link_dataset[i][1][trainlen:trainlen+testlen].numpy()\n",
    "\n",
    "    train_data.append([torch.from_numpy(train_x_npn), torch.from_numpy(train_y_npn)])\n",
    "    test_data.append([torch.from_numpy(test_x_npn), torch.from_numpy(test_y_npn)])"
   ]
  },
  {
   "cell_type": "code",
   "execution_count": 6,
   "metadata": {},
   "outputs": [],
   "source": [
    "class LSTMTagger(nn.Module):\n",
    "\n",
    "    def __init__(self, embedding_dim, hidden_dim, tagset_size):\n",
    "        super(LSTMTagger, self).__init__()\n",
    "        self.hidden_dim = hidden_dim\n",
    "\n",
    "        # The LSTM takes word embeddings as inputs, and outputs hidden states\n",
    "        # with dimensionality hidden_dim.\n",
    "        self.lstm = nn.LSTM(embedding_dim, hidden_dim, 2)\n",
    "\n",
    "        # The linear layer that maps from hidden state space to tag space\n",
    "        self.hidden2tag = nn.Linear(hidden_dim, tagset_size)\n",
    "\n",
    "    def forward(self, sentence):\n",
    "        lstm_out, _ = self.lstm(sentence.view(len(sentence), 1, -1))\n",
    "        tag_space = self.hidden2tag(lstm_out.view(len(sentence), -1))\n",
    "        tag_scores = F.log_softmax(tag_space, dim=1)\n",
    "        return tag_scores"
   ]
  },
  {
   "cell_type": "markdown",
   "metadata": {},
   "source": [
    "# Train Model 10 Epoch"
   ]
  },
  {
   "cell_type": "code",
   "execution_count": 7,
   "metadata": {
    "scrolled": false
   },
   "outputs": [
    {
     "name": "stderr",
     "output_type": "stream",
     "text": [
      "Epoch 0/10, Training: 100%|███████████████████████████| 284/284 [05:40<00:00,  1.20s/it]\n",
      "Epoch 0/10, Validation: 100%|█████████████████████████| 284/284 [07:07<00:00,  1.50s/it]\n",
      "Epoch 1/10, Validation:   0%|                                   | 0/284 [00:00<?, ?it/s]"
     ]
    },
    {
     "name": "stdout",
     "output_type": "stream",
     "text": [
      "train loss: 0.63496, test loss: 0.55751\n"
     ]
    },
    {
     "name": "stderr",
     "output_type": "stream",
     "text": [
      "Epoch 1/10, Training: 100%|███████████████████████████| 284/284 [05:54<00:00,  1.25s/it]\n",
      "Epoch 1/10, Validation: 100%|█████████████████████████| 284/284 [07:20<00:00,  1.55s/it]\n",
      "Epoch 2/10, Validation:   0%|                                   | 0/284 [00:00<?, ?it/s]"
     ]
    },
    {
     "name": "stdout",
     "output_type": "stream",
     "text": [
      "train loss: 0.61700, test loss: 0.53619\n"
     ]
    },
    {
     "name": "stderr",
     "output_type": "stream",
     "text": [
      "Epoch 2/10, Training: 100%|███████████████████████████| 284/284 [05:57<00:00,  1.26s/it]\n",
      "Epoch 2/10, Validation: 100%|█████████████████████████| 284/284 [07:23<00:00,  1.56s/it]\n",
      "Epoch 3/10, Validation:   0%|                                   | 0/284 [00:00<?, ?it/s]"
     ]
    },
    {
     "name": "stdout",
     "output_type": "stream",
     "text": [
      "train loss: 0.61314, test loss: 0.53418\n"
     ]
    },
    {
     "name": "stderr",
     "output_type": "stream",
     "text": [
      "Epoch 3/10, Training: 100%|███████████████████████████| 284/284 [07:14<00:00,  1.53s/it]\n",
      "Epoch 3/10, Validation: 100%|█████████████████████████| 284/284 [10:02<00:00,  2.12s/it]\n",
      "Epoch 4/10, Validation:   0%|                                   | 0/284 [00:00<?, ?it/s]"
     ]
    },
    {
     "name": "stdout",
     "output_type": "stream",
     "text": [
      "train loss: 0.60813, test loss: 0.53183\n"
     ]
    },
    {
     "name": "stderr",
     "output_type": "stream",
     "text": [
      "Epoch 4/10, Training: 100%|███████████████████████████| 284/284 [11:17<00:00,  2.39s/it]\n",
      "Epoch 4/10, Validation: 100%|█████████████████████████| 284/284 [14:06<00:00,  2.98s/it]\n",
      "Epoch 5/10, Validation:   0%|                                   | 0/284 [00:00<?, ?it/s]"
     ]
    },
    {
     "name": "stdout",
     "output_type": "stream",
     "text": [
      "train loss: 0.60634, test loss: 0.53218\n"
     ]
    },
    {
     "name": "stderr",
     "output_type": "stream",
     "text": [
      "Epoch 5/10, Training: 100%|███████████████████████████| 284/284 [11:10<00:00,  2.36s/it]\n",
      "Epoch 5/10, Validation: 100%|█████████████████████████| 284/284 [14:00<00:00,  2.96s/it]\n",
      "Epoch 6/10, Validation:   0%|                                   | 0/284 [00:00<?, ?it/s]"
     ]
    },
    {
     "name": "stdout",
     "output_type": "stream",
     "text": [
      "train loss: 0.60221, test loss: 0.53764\n"
     ]
    },
    {
     "name": "stderr",
     "output_type": "stream",
     "text": [
      "Epoch 6/10, Training: 100%|███████████████████████████| 284/284 [11:15<00:00,  2.38s/it]\n",
      "Epoch 6/10, Validation: 100%|█████████████████████████| 284/284 [13:58<00:00,  2.95s/it]\n",
      "Epoch 7/10, Validation:   0%|                                   | 0/284 [00:00<?, ?it/s]"
     ]
    },
    {
     "name": "stdout",
     "output_type": "stream",
     "text": [
      "train loss: 0.59788, test loss: 0.54687\n"
     ]
    },
    {
     "name": "stderr",
     "output_type": "stream",
     "text": [
      "Epoch 7/10, Training: 100%|███████████████████████████| 284/284 [11:19<00:00,  2.39s/it]\n",
      "Epoch 7/10, Validation: 100%|█████████████████████████| 284/284 [14:10<00:00,  2.99s/it]\n",
      "Epoch 8/10, Validation:   0%|                                   | 0/284 [00:00<?, ?it/s]"
     ]
    },
    {
     "name": "stdout",
     "output_type": "stream",
     "text": [
      "train loss: 0.59498, test loss: 0.53458\n"
     ]
    },
    {
     "name": "stderr",
     "output_type": "stream",
     "text": [
      "Epoch 8/10, Training: 100%|███████████████████████████| 284/284 [11:14<00:00,  2.38s/it]\n",
      "Epoch 8/10, Validation: 100%|█████████████████████████| 284/284 [14:03<00:00,  2.97s/it]\n",
      "Epoch 9/10, Validation:   0%|                                   | 0/284 [00:00<?, ?it/s]"
     ]
    },
    {
     "name": "stdout",
     "output_type": "stream",
     "text": [
      "train loss: 0.59226, test loss: 0.54276\n"
     ]
    },
    {
     "name": "stderr",
     "output_type": "stream",
     "text": [
      "Epoch 9/10, Training: 100%|███████████████████████████| 284/284 [11:28<00:00,  2.42s/it]\n",
      "Epoch 9/10, Validation: 100%|█████████████████████████| 284/284 [14:20<00:00,  3.03s/it]"
     ]
    },
    {
     "name": "stdout",
     "output_type": "stream",
     "text": [
      "train loss: 0.58316, test loss: 0.53019\n"
     ]
    },
    {
     "name": "stderr",
     "output_type": "stream",
     "text": [
      "\n"
     ]
    }
   ],
   "source": [
    "EMBEDDING_DIM = 20\n",
    "HIDDEN_DIM = 100\n",
    "TAGSET_SIZE = 2\n",
    "NUM_EPOCHS = 10\n",
    "\n",
    "model = LSTMTagger(EMBEDDING_DIM, HIDDEN_DIM, TAGSET_SIZE).cuda()\n",
    "model.cuda()\n",
    "\n",
    "loss_function = nn.NLLLoss(weight=torch.tensor([2.0,1.0])).cuda()\n",
    "optimizer = optim.Adam(model.parameters(), 0.001)\n",
    "\n",
    "for epoch_idx in range(NUM_EPOCHS): \n",
    "\n",
    "    progress_training_epoch = tqdm(\n",
    "        train_data, \n",
    "        desc=f'Epoch {epoch_idx}/{NUM_EPOCHS}, Training',\n",
    "        miniters=1, ncols=88, position=0,\n",
    "        leave=True, total=len(train_data), smoothing=.9)\n",
    "\n",
    "    progress_validation_epoch = tqdm(\n",
    "        test_data, \n",
    "        desc=f'Epoch {epoch_idx}/{NUM_EPOCHS}, Validation',\n",
    "        miniters=1, ncols=88, position=0, \n",
    "        leave=True, total=len(test_data), smoothing=.9)\n",
    "\n",
    "    train_loss = 0\n",
    "    train_size = 0\n",
    "    model.train()\n",
    "    for idx, (sentence, tags) in enumerate(progress_training_epoch):\n",
    "        sentence = sentence.cuda()\n",
    "        tags = tags.cuda()\n",
    "        model.zero_grad()\n",
    "        tag_scores = model(sentence)\n",
    "        loss = loss_function(tag_scores, tags)\n",
    "        loss.backward()\n",
    "        optimizer.step()\n",
    "        train_loss += loss * tags.size()[0]\n",
    "        train_size += tags.size()[0]\n",
    "\n",
    "    test_loss = 0\n",
    "    test_size = 0\n",
    "    predict = []\n",
    "    target = []\n",
    "    model.eval()\n",
    "    with torch.no_grad():\n",
    "        for idx, (sentence, tags) in enumerate(progress_validation_epoch):\n",
    "            sentence = sentence.cuda()\n",
    "            tags = tags.cuda()\n",
    "            tag_scores = model(sentence)\n",
    "            loss = loss_function(tag_scores, tags)\n",
    "            predict.append(tag_scores.argmax(dim=1).cpu().numpy())\n",
    "            target.append(tags.cpu().numpy())        \n",
    "            test_loss += loss * tags.size()[0]\n",
    "            test_size += tags.size()[0]\n",
    "    predict = np.concatenate(predict, axis=0)\n",
    "    target = np.concatenate(target, axis=0)\n",
    "\n",
    "    print(f'train loss:{train_loss.item()/train_size: .5f}, '\n",
    "          f'test loss:{test_loss.item()/test_size: .5f}')"
   ]
  },
  {
   "cell_type": "markdown",
   "metadata": {},
   "source": [
    "# Test"
   ]
  },
  {
   "cell_type": "code",
   "execution_count": 8,
   "metadata": {},
   "outputs": [
    {
     "name": "stderr",
     "output_type": "stream",
     "text": [
      "Epoch 9/10, Validation: 100%|█████████████████████████| 284/284 [02:46<00:00,  1.70it/s]"
     ]
    },
    {
     "name": "stdout",
     "output_type": "stream",
     "text": [
      "True Positive:964272, True Negative:661405, False Positive:305594, False Negative:242811\n"
     ]
    },
    {
     "name": "stderr",
     "output_type": "stream",
     "text": [
      "\n"
     ]
    }
   ],
   "source": [
    "progress_validation_epoch = tqdm(\n",
    "    test_data, \n",
    "    desc=f'Epoch {epoch_idx}/{NUM_EPOCHS}, Validation',\n",
    "    miniters=1, ncols=88, position=0, \n",
    "    leave=True, total=len(test_data), smoothing=.9)\n",
    "\n",
    "predict = []\n",
    "target = []\n",
    "model.eval()\n",
    "with torch.no_grad():\n",
    "    for idx, (sentence, tags) in enumerate(progress_validation_epoch):\n",
    "        sentence = sentence.cuda()\n",
    "        tags = tags.cuda()\n",
    "        tag_scores = model(sentence)\n",
    "        predict.append(tag_scores.argmax(dim=1).cpu().numpy())\n",
    "        target.append(tags.cpu().numpy())\n",
    "        \n",
    "predict = np.concatenate(predict, axis=0)\n",
    "target = np.concatenate(target, axis=0)\n",
    "tp = predict[target==1].sum()\n",
    "tn = (target==0).sum() - predict[target==0].sum()\n",
    "fp = predict[target==0].sum()\n",
    "fn = (target==1).sum() - predict[target==1].sum()\n",
    "\n",
    "print(f'True Positive:{tp}, '\n",
    "      f'True Negative:{tn}, '\n",
    "      f'False Positive:{fp}, '\n",
    "      f'False Negative:{fn}')\n"
   ]
  },
  {
   "cell_type": "code",
   "execution_count": 9,
   "metadata": {},
   "outputs": [
    {
     "name": "stdout",
     "output_type": "stream",
     "text": [
      "Accuracy:0.7477533046131655, Positive Accuracy:0.7593494116702078, Negative Accuracy:0.7314679235934777, Weighted Accuracy:0.7454086676318428\n"
     ]
    }
   ],
   "source": [
    "accr = (tp+tn)/(tp+tn+fp+fn)\n",
    "posaccr = tp/(tp+fp)\n",
    "negaccr = tn/(tn+fn)\n",
    "print(f'Accuracy:{accr}, '\n",
    "      f'Positive Accuracy:{posaccr}, '\n",
    "      f'Negative Accuracy:{negaccr}, '\n",
    "      f'Weighted Accuracy:{0.5*(posaccr+negaccr)}')"
   ]
  },
  {
   "cell_type": "markdown",
   "metadata": {},
   "source": [
    "# Bagging 9"
   ]
  },
  {
   "cell_type": "code",
   "execution_count": 10,
   "metadata": {},
   "outputs": [],
   "source": [
    "with open('scrimmage4_link_dataset.pickle', 'rb') as file:\n",
    "    link_dataset = pickle.load(file)"
   ]
  },
  {
   "cell_type": "code",
   "execution_count": 11,
   "metadata": {},
   "outputs": [
    {
     "name": "stderr",
     "output_type": "stream",
     "text": [
      "Epoch 0/6, Training: 100%|████████████████████████████| 200/200 [12:13<00:00,  3.67s/it]\n",
      "Epoch 0/6, Validation: 100%|██████████████████████████| 284/284 [15:00<00:00,  3.17s/it]\n",
      "Epoch 1/6, Validation:   0%|                                    | 0/284 [00:00<?, ?it/s]"
     ]
    },
    {
     "name": "stdout",
     "output_type": "stream",
     "text": [
      "train loss: 0.60677, test loss: 0.55527\n"
     ]
    },
    {
     "name": "stderr",
     "output_type": "stream",
     "text": [
      "Epoch 1/6, Training: 100%|████████████████████████████| 200/200 [12:17<00:00,  3.69s/it]\n",
      "Epoch 1/6, Validation: 100%|██████████████████████████| 284/284 [15:01<00:00,  3.18s/it]\n",
      "Epoch 2/6, Validation:   0%|                                    | 0/284 [00:00<?, ?it/s]"
     ]
    },
    {
     "name": "stdout",
     "output_type": "stream",
     "text": [
      "train loss: 0.56729, test loss: 0.53924\n"
     ]
    },
    {
     "name": "stderr",
     "output_type": "stream",
     "text": [
      "Epoch 2/6, Training: 100%|████████████████████████████| 200/200 [12:25<00:00,  3.73s/it]\n",
      "Epoch 2/6, Validation: 100%|██████████████████████████| 284/284 [15:12<00:00,  3.21s/it]\n",
      "Epoch 3/6, Validation:   0%|                                    | 0/284 [00:00<?, ?it/s]"
     ]
    },
    {
     "name": "stdout",
     "output_type": "stream",
     "text": [
      "train loss: 0.55389, test loss: 0.53835\n"
     ]
    },
    {
     "name": "stderr",
     "output_type": "stream",
     "text": [
      "Epoch 3/6, Training: 100%|████████████████████████████| 200/200 [12:15<00:00,  3.68s/it]\n",
      "Epoch 3/6, Validation: 100%|██████████████████████████| 284/284 [15:04<00:00,  3.18s/it]\n",
      "Epoch 4/6, Validation:   0%|                                    | 0/284 [00:00<?, ?it/s]"
     ]
    },
    {
     "name": "stdout",
     "output_type": "stream",
     "text": [
      "train loss: 0.54636, test loss: 0.54020\n"
     ]
    },
    {
     "name": "stderr",
     "output_type": "stream",
     "text": [
      "Epoch 4/6, Training: 100%|████████████████████████████| 200/200 [12:29<00:00,  3.75s/it]\n",
      "Epoch 4/6, Validation: 100%|██████████████████████████| 284/284 [15:15<00:00,  3.22s/it]\n",
      "Epoch 5/6, Validation:   0%|                                    | 0/284 [00:00<?, ?it/s]"
     ]
    },
    {
     "name": "stdout",
     "output_type": "stream",
     "text": [
      "train loss: 0.53650, test loss: 0.52793\n"
     ]
    },
    {
     "name": "stderr",
     "output_type": "stream",
     "text": [
      "Epoch 5/6, Training: 100%|████████████████████████████| 200/200 [12:27<00:00,  3.74s/it]\n",
      "Epoch 5/6, Validation: 100%|██████████████████████████| 284/284 [15:16<00:00,  3.23s/it]\n",
      "Epoch 0/6, Validation:   0%|                                    | 0/284 [00:00<?, ?it/s]"
     ]
    },
    {
     "name": "stdout",
     "output_type": "stream",
     "text": [
      "train loss: 0.52542, test loss: 0.53178\n"
     ]
    },
    {
     "name": "stderr",
     "output_type": "stream",
     "text": [
      "Epoch 0/6, Training: 100%|████████████████████████████| 200/200 [11:56<00:00,  3.58s/it]\n",
      "Epoch 0/6, Validation: 100%|██████████████████████████| 284/284 [14:41<00:00,  3.10s/it]\n",
      "Epoch 1/6, Validation:   0%|                                    | 0/284 [00:00<?, ?it/s]"
     ]
    },
    {
     "name": "stdout",
     "output_type": "stream",
     "text": [
      "train loss: 0.63231, test loss: 0.55615\n"
     ]
    },
    {
     "name": "stderr",
     "output_type": "stream",
     "text": [
      "Epoch 1/6, Training: 100%|████████████████████████████| 200/200 [11:53<00:00,  3.57s/it]\n",
      "Epoch 1/6, Validation: 100%|██████████████████████████| 284/284 [14:37<00:00,  3.09s/it]\n",
      "Epoch 2/6, Validation:   0%|                                    | 0/284 [00:00<?, ?it/s]"
     ]
    },
    {
     "name": "stdout",
     "output_type": "stream",
     "text": [
      "train loss: 0.58434, test loss: 0.55152\n"
     ]
    },
    {
     "name": "stderr",
     "output_type": "stream",
     "text": [
      "Epoch 2/6, Training: 100%|████████████████████████████| 200/200 [11:47<00:00,  3.54s/it]\n",
      "Epoch 2/6, Validation: 100%|██████████████████████████| 284/284 [14:33<00:00,  3.08s/it]\n",
      "Epoch 3/6, Validation:   0%|                                    | 0/284 [00:00<?, ?it/s]"
     ]
    },
    {
     "name": "stdout",
     "output_type": "stream",
     "text": [
      "train loss: 0.56768, test loss: 0.53718\n"
     ]
    },
    {
     "name": "stderr",
     "output_type": "stream",
     "text": [
      "Epoch 3/6, Training: 100%|████████████████████████████| 200/200 [11:52<00:00,  3.56s/it]\n",
      "Epoch 3/6, Validation: 100%|██████████████████████████| 284/284 [14:36<00:00,  3.09s/it]\n",
      "Epoch 4/6, Validation:   0%|                                    | 0/284 [00:00<?, ?it/s]"
     ]
    },
    {
     "name": "stdout",
     "output_type": "stream",
     "text": [
      "train loss: 0.55763, test loss: 0.53037\n"
     ]
    },
    {
     "name": "stderr",
     "output_type": "stream",
     "text": [
      "Epoch 4/6, Training: 100%|████████████████████████████| 200/200 [12:00<00:00,  3.60s/it]\n",
      "Epoch 4/6, Validation: 100%|██████████████████████████| 284/284 [14:47<00:00,  3.13s/it]\n",
      "Epoch 5/6, Validation:   0%|                                    | 0/284 [00:00<?, ?it/s]"
     ]
    },
    {
     "name": "stdout",
     "output_type": "stream",
     "text": [
      "train loss: 0.55025, test loss: 0.52230\n"
     ]
    },
    {
     "name": "stderr",
     "output_type": "stream",
     "text": [
      "Epoch 5/6, Training: 100%|████████████████████████████| 200/200 [12:08<00:00,  3.64s/it]\n",
      "Epoch 5/6, Validation: 100%|██████████████████████████| 284/284 [14:56<00:00,  3.16s/it]\n",
      "Epoch 0/6, Validation:   0%|                                    | 0/284 [00:00<?, ?it/s]"
     ]
    },
    {
     "name": "stdout",
     "output_type": "stream",
     "text": [
      "train loss: 0.54204, test loss: 0.52420\n"
     ]
    },
    {
     "name": "stderr",
     "output_type": "stream",
     "text": [
      "Epoch 0/6, Training: 100%|████████████████████████████| 200/200 [11:46<00:00,  3.53s/it]\n",
      "Epoch 0/6, Validation: 100%|██████████████████████████| 284/284 [14:31<00:00,  3.07s/it]\n",
      "Epoch 1/6, Validation:   0%|                                    | 0/284 [00:00<?, ?it/s]"
     ]
    },
    {
     "name": "stdout",
     "output_type": "stream",
     "text": [
      "train loss: 0.62900, test loss: 0.59712\n"
     ]
    },
    {
     "name": "stderr",
     "output_type": "stream",
     "text": [
      "Epoch 1/6, Training: 100%|████████████████████████████| 200/200 [11:43<00:00,  3.52s/it]\n",
      "Epoch 1/6, Validation: 100%|██████████████████████████| 284/284 [14:28<00:00,  3.06s/it]\n",
      "Epoch 2/6, Validation:   0%|                                    | 0/284 [00:00<?, ?it/s]"
     ]
    },
    {
     "name": "stdout",
     "output_type": "stream",
     "text": [
      "train loss: 0.59139, test loss: 0.57873\n"
     ]
    },
    {
     "name": "stderr",
     "output_type": "stream",
     "text": [
      "Epoch 2/6, Training: 100%|████████████████████████████| 200/200 [11:46<00:00,  3.53s/it]\n",
      "Epoch 2/6, Validation: 100%|██████████████████████████| 284/284 [14:34<00:00,  3.08s/it]\n",
      "Epoch 3/6, Validation:   0%|                                    | 0/284 [00:00<?, ?it/s]"
     ]
    },
    {
     "name": "stdout",
     "output_type": "stream",
     "text": [
      "train loss: 0.57399, test loss: 0.56740\n"
     ]
    },
    {
     "name": "stderr",
     "output_type": "stream",
     "text": [
      "Epoch 3/6, Training: 100%|████████████████████████████| 200/200 [11:48<00:00,  3.54s/it]\n",
      "Epoch 3/6, Validation: 100%|██████████████████████████| 284/284 [14:37<00:00,  3.09s/it]\n",
      "Epoch 4/6, Validation:   0%|                                    | 0/284 [00:00<?, ?it/s]"
     ]
    },
    {
     "name": "stdout",
     "output_type": "stream",
     "text": [
      "train loss: 0.56278, test loss: 0.56571\n"
     ]
    },
    {
     "name": "stderr",
     "output_type": "stream",
     "text": [
      "Epoch 4/6, Training: 100%|████████████████████████████| 200/200 [11:51<00:00,  3.56s/it]\n",
      "Epoch 4/6, Validation: 100%|██████████████████████████| 284/284 [14:37<00:00,  3.09s/it]\n",
      "Epoch 5/6, Validation:   0%|                                    | 0/284 [00:00<?, ?it/s]"
     ]
    },
    {
     "name": "stdout",
     "output_type": "stream",
     "text": [
      "train loss: 0.55431, test loss: 0.57292\n"
     ]
    },
    {
     "name": "stderr",
     "output_type": "stream",
     "text": [
      "Epoch 5/6, Training: 100%|████████████████████████████| 200/200 [11:53<00:00,  3.57s/it]\n",
      "Epoch 5/6, Validation: 100%|██████████████████████████| 284/284 [14:41<00:00,  3.10s/it]\n",
      "Epoch 0/6, Validation:   0%|                                    | 0/284 [00:00<?, ?it/s]"
     ]
    },
    {
     "name": "stdout",
     "output_type": "stream",
     "text": [
      "train loss: 0.54470, test loss: 0.55461\n"
     ]
    },
    {
     "name": "stderr",
     "output_type": "stream",
     "text": [
      "Epoch 0/6, Training: 100%|████████████████████████████| 200/200 [10:40<00:00,  3.20s/it]\n",
      "Epoch 0/6, Validation: 100%|██████████████████████████| 284/284 [13:25<00:00,  2.84s/it]\n",
      "Epoch 1/6, Validation:   0%|                                    | 0/284 [00:00<?, ?it/s]"
     ]
    },
    {
     "name": "stdout",
     "output_type": "stream",
     "text": [
      "train loss: 0.60777, test loss: 0.58488\n"
     ]
    },
    {
     "name": "stderr",
     "output_type": "stream",
     "text": [
      "Epoch 1/6, Training: 100%|████████████████████████████| 200/200 [10:46<00:00,  3.23s/it]\n",
      "Epoch 1/6, Validation: 100%|██████████████████████████| 284/284 [13:32<00:00,  2.86s/it]\n",
      "Epoch 2/6, Validation:   0%|                                    | 0/284 [00:00<?, ?it/s]"
     ]
    },
    {
     "name": "stdout",
     "output_type": "stream",
     "text": [
      "train loss: 0.56496, test loss: 0.57900\n"
     ]
    },
    {
     "name": "stderr",
     "output_type": "stream",
     "text": [
      "Epoch 2/6, Training: 100%|████████████████████████████| 200/200 [10:39<00:00,  3.20s/it]\n",
      "Epoch 2/6, Validation: 100%|██████████████████████████| 284/284 [13:28<00:00,  2.85s/it]\n",
      "Epoch 3/6, Validation:   0%|                                    | 0/284 [00:00<?, ?it/s]"
     ]
    },
    {
     "name": "stdout",
     "output_type": "stream",
     "text": [
      "train loss: 0.55771, test loss: 0.57734\n"
     ]
    },
    {
     "name": "stderr",
     "output_type": "stream",
     "text": [
      "Epoch 3/6, Training: 100%|████████████████████████████| 200/200 [10:41<00:00,  3.21s/it]\n",
      "Epoch 3/6, Validation: 100%|██████████████████████████| 284/284 [13:32<00:00,  2.86s/it]\n",
      "Epoch 4/6, Validation:   0%|                                    | 0/284 [00:00<?, ?it/s]"
     ]
    },
    {
     "name": "stdout",
     "output_type": "stream",
     "text": [
      "train loss: 0.55143, test loss: 0.55735\n"
     ]
    },
    {
     "name": "stderr",
     "output_type": "stream",
     "text": [
      "Epoch 4/6, Training: 100%|████████████████████████████| 200/200 [10:44<00:00,  3.22s/it]\n",
      "Epoch 4/6, Validation: 100%|██████████████████████████| 284/284 [13:32<00:00,  2.86s/it]\n",
      "Epoch 5/6, Validation:   0%|                                    | 0/284 [00:00<?, ?it/s]"
     ]
    },
    {
     "name": "stdout",
     "output_type": "stream",
     "text": [
      "train loss: 0.54062, test loss: 0.56466\n"
     ]
    },
    {
     "name": "stderr",
     "output_type": "stream",
     "text": [
      "Epoch 5/6, Training: 100%|████████████████████████████| 200/200 [10:50<00:00,  3.25s/it]\n",
      "Epoch 5/6, Validation: 100%|██████████████████████████| 284/284 [13:37<00:00,  2.88s/it]\n",
      "Epoch 0/6, Validation:   0%|                                    | 0/284 [00:00<?, ?it/s]"
     ]
    },
    {
     "name": "stdout",
     "output_type": "stream",
     "text": [
      "train loss: 0.53716, test loss: 0.56202\n"
     ]
    },
    {
     "name": "stderr",
     "output_type": "stream",
     "text": [
      "Epoch 0/6, Training: 100%|████████████████████████████| 200/200 [11:41<00:00,  3.51s/it]\n",
      "Epoch 0/6, Validation: 100%|██████████████████████████| 284/284 [14:25<00:00,  3.05s/it]\n",
      "Epoch 1/6, Validation:   0%|                                    | 0/284 [00:00<?, ?it/s]"
     ]
    },
    {
     "name": "stdout",
     "output_type": "stream",
     "text": [
      "train loss: 0.60386, test loss: 0.55816\n"
     ]
    },
    {
     "name": "stderr",
     "output_type": "stream",
     "text": [
      "Epoch 1/6, Training: 100%|████████████████████████████| 200/200 [11:36<00:00,  3.48s/it]\n",
      "Epoch 1/6, Validation: 100%|██████████████████████████| 284/284 [14:23<00:00,  3.04s/it]\n",
      "Epoch 2/6, Validation:   0%|                                    | 0/284 [00:00<?, ?it/s]"
     ]
    },
    {
     "name": "stdout",
     "output_type": "stream",
     "text": [
      "train loss: 0.57502, test loss: 0.56285\n"
     ]
    },
    {
     "name": "stderr",
     "output_type": "stream",
     "text": [
      "Epoch 2/6, Training: 100%|████████████████████████████| 200/200 [11:46<00:00,  3.53s/it]\n",
      "Epoch 2/6, Validation: 100%|██████████████████████████| 284/284 [14:33<00:00,  3.08s/it]\n",
      "Epoch 3/6, Validation:   0%|                                    | 0/284 [00:00<?, ?it/s]"
     ]
    },
    {
     "name": "stdout",
     "output_type": "stream",
     "text": [
      "train loss: 0.57068, test loss: 0.57313\n"
     ]
    },
    {
     "name": "stderr",
     "output_type": "stream",
     "text": [
      "Epoch 3/6, Training: 100%|████████████████████████████| 200/200 [11:40<00:00,  3.50s/it]\n",
      "Epoch 3/6, Validation: 100%|██████████████████████████| 284/284 [14:29<00:00,  3.06s/it]\n",
      "Epoch 4/6, Validation:   0%|                                    | 0/284 [00:00<?, ?it/s]"
     ]
    },
    {
     "name": "stdout",
     "output_type": "stream",
     "text": [
      "train loss: 0.56064, test loss: 0.58400\n"
     ]
    },
    {
     "name": "stderr",
     "output_type": "stream",
     "text": [
      "Epoch 4/6, Training: 100%|████████████████████████████| 200/200 [11:45<00:00,  3.53s/it]\n",
      "Epoch 4/6, Validation: 100%|██████████████████████████| 284/284 [14:34<00:00,  3.08s/it]\n",
      "Epoch 5/6, Validation:   0%|                                    | 0/284 [00:00<?, ?it/s]"
     ]
    },
    {
     "name": "stdout",
     "output_type": "stream",
     "text": [
      "train loss: 0.55336, test loss: 0.57160\n"
     ]
    },
    {
     "name": "stderr",
     "output_type": "stream",
     "text": [
      "Epoch 5/6, Training: 100%|████████████████████████████| 200/200 [11:48<00:00,  3.54s/it]\n",
      "Epoch 5/6, Validation: 100%|██████████████████████████| 284/284 [14:36<00:00,  3.09s/it]\n",
      "Epoch 0/6, Validation:   0%|                                    | 0/284 [00:00<?, ?it/s]"
     ]
    },
    {
     "name": "stdout",
     "output_type": "stream",
     "text": [
      "train loss: 0.54411, test loss: 0.55605\n"
     ]
    },
    {
     "name": "stderr",
     "output_type": "stream",
     "text": [
      "Epoch 0/6, Training: 100%|████████████████████████████| 200/200 [12:19<00:00,  3.70s/it]\n",
      "Epoch 0/6, Validation: 100%|██████████████████████████| 284/284 [15:06<00:00,  3.19s/it]\n",
      "Epoch 1/6, Validation:   0%|                                    | 0/284 [00:00<?, ?it/s]"
     ]
    },
    {
     "name": "stdout",
     "output_type": "stream",
     "text": [
      "train loss: 0.59782, test loss: 0.55301\n"
     ]
    },
    {
     "name": "stderr",
     "output_type": "stream",
     "text": [
      "Epoch 1/6, Training: 100%|████████████████████████████| 200/200 [12:20<00:00,  3.70s/it]\n",
      "Epoch 1/6, Validation: 100%|██████████████████████████| 284/284 [15:08<00:00,  3.20s/it]\n",
      "Epoch 2/6, Validation:   0%|                                    | 0/284 [00:00<?, ?it/s]"
     ]
    },
    {
     "name": "stdout",
     "output_type": "stream",
     "text": [
      "train loss: 0.56791, test loss: 0.53976\n"
     ]
    },
    {
     "name": "stderr",
     "output_type": "stream",
     "text": [
      "Epoch 2/6, Training: 100%|████████████████████████████| 200/200 [12:24<00:00,  3.72s/it]\n",
      "Epoch 2/6, Validation: 100%|██████████████████████████| 284/284 [15:12<00:00,  3.21s/it]\n",
      "Epoch 3/6, Validation:   0%|                                    | 0/284 [00:00<?, ?it/s]"
     ]
    },
    {
     "name": "stdout",
     "output_type": "stream",
     "text": [
      "train loss: 0.55888, test loss: 0.54126\n"
     ]
    },
    {
     "name": "stderr",
     "output_type": "stream",
     "text": [
      "Epoch 3/6, Training: 100%|████████████████████████████| 200/200 [12:27<00:00,  3.74s/it]\n",
      "Epoch 3/6, Validation: 100%|██████████████████████████| 284/284 [15:14<00:00,  3.22s/it]\n",
      "Epoch 4/6, Validation:   0%|                                    | 0/284 [00:00<?, ?it/s]"
     ]
    },
    {
     "name": "stdout",
     "output_type": "stream",
     "text": [
      "train loss: 0.54797, test loss: 0.54131\n"
     ]
    },
    {
     "name": "stderr",
     "output_type": "stream",
     "text": [
      "Epoch 4/6, Training: 100%|████████████████████████████| 200/200 [12:32<00:00,  3.76s/it]\n",
      "Epoch 4/6, Validation: 100%|██████████████████████████| 284/284 [15:21<00:00,  3.24s/it]\n",
      "Epoch 5/6, Validation:   0%|                                    | 0/284 [00:00<?, ?it/s]"
     ]
    },
    {
     "name": "stdout",
     "output_type": "stream",
     "text": [
      "train loss: 0.54003, test loss: 0.53618\n"
     ]
    },
    {
     "name": "stderr",
     "output_type": "stream",
     "text": [
      "Epoch 5/6, Training: 100%|████████████████████████████| 200/200 [12:37<00:00,  3.79s/it]\n",
      "Epoch 5/6, Validation: 100%|██████████████████████████| 284/284 [15:28<00:00,  3.27s/it]\n",
      "Epoch 0/6, Validation:   0%|                                    | 0/284 [00:00<?, ?it/s]"
     ]
    },
    {
     "name": "stdout",
     "output_type": "stream",
     "text": [
      "train loss: 0.52854, test loss: 0.53823\n"
     ]
    },
    {
     "name": "stderr",
     "output_type": "stream",
     "text": [
      "Epoch 0/6, Training: 100%|████████████████████████████| 200/200 [11:07<00:00,  3.34s/it]\n",
      "Epoch 0/6, Validation: 100%|██████████████████████████| 284/284 [13:53<00:00,  2.94s/it]\n",
      "Epoch 1/6, Validation:   0%|                                    | 0/284 [00:00<?, ?it/s]"
     ]
    },
    {
     "name": "stdout",
     "output_type": "stream",
     "text": [
      "train loss: 0.62368, test loss: 0.54866\n"
     ]
    },
    {
     "name": "stderr",
     "output_type": "stream",
     "text": [
      "Epoch 1/6, Training: 100%|████████████████████████████| 200/200 [11:05<00:00,  3.33s/it]\n",
      "Epoch 1/6, Validation: 100%|██████████████████████████| 284/284 [13:52<00:00,  2.93s/it]\n",
      "Epoch 2/6, Validation:   0%|                                    | 0/284 [00:00<?, ?it/s]"
     ]
    },
    {
     "name": "stdout",
     "output_type": "stream",
     "text": [
      "train loss: 0.57435, test loss: 0.54094\n"
     ]
    },
    {
     "name": "stderr",
     "output_type": "stream",
     "text": [
      "Epoch 2/6, Training: 100%|████████████████████████████| 200/200 [11:11<00:00,  3.36s/it]\n",
      "Epoch 2/6, Validation: 100%|██████████████████████████| 284/284 [13:58<00:00,  2.95s/it]\n",
      "Epoch 3/6, Validation:   0%|                                    | 0/284 [00:00<?, ?it/s]"
     ]
    },
    {
     "name": "stdout",
     "output_type": "stream",
     "text": [
      "train loss: 0.56109, test loss: 0.54906\n"
     ]
    },
    {
     "name": "stderr",
     "output_type": "stream",
     "text": [
      "Epoch 3/6, Training: 100%|████████████████████████████| 200/200 [11:11<00:00,  3.36s/it]\n",
      "Epoch 3/6, Validation: 100%|██████████████████████████| 284/284 [13:58<00:00,  2.95s/it]\n",
      "Epoch 4/6, Validation:   0%|                                    | 0/284 [00:00<?, ?it/s]"
     ]
    },
    {
     "name": "stdout",
     "output_type": "stream",
     "text": [
      "train loss: 0.55109, test loss: 0.55024\n"
     ]
    },
    {
     "name": "stderr",
     "output_type": "stream",
     "text": [
      "Epoch 4/6, Training: 100%|████████████████████████████| 200/200 [11:19<00:00,  3.40s/it]\n",
      "Epoch 4/6, Validation: 100%|██████████████████████████| 284/284 [14:07<00:00,  2.98s/it]\n",
      "Epoch 5/6, Validation:   0%|                                    | 0/284 [00:00<?, ?it/s]"
     ]
    },
    {
     "name": "stdout",
     "output_type": "stream",
     "text": [
      "train loss: 0.54123, test loss: 0.53335\n"
     ]
    },
    {
     "name": "stderr",
     "output_type": "stream",
     "text": [
      "Epoch 5/6, Training: 100%|████████████████████████████| 200/200 [11:12<00:00,  3.36s/it]\n",
      "Epoch 5/6, Validation: 100%|██████████████████████████| 284/284 [14:01<00:00,  2.96s/it]\n",
      "Epoch 0/6, Validation:   0%|                                    | 0/284 [00:00<?, ?it/s]"
     ]
    },
    {
     "name": "stdout",
     "output_type": "stream",
     "text": [
      "train loss: 0.54304, test loss: 0.52731\n"
     ]
    },
    {
     "name": "stderr",
     "output_type": "stream",
     "text": [
      "Epoch 0/6, Training: 100%|████████████████████████████| 200/200 [11:37<00:00,  3.49s/it]\n",
      "Epoch 0/6, Validation: 100%|██████████████████████████| 284/284 [14:24<00:00,  3.04s/it]\n",
      "Epoch 1/6, Validation:   0%|                                    | 0/284 [00:00<?, ?it/s]"
     ]
    },
    {
     "name": "stdout",
     "output_type": "stream",
     "text": [
      "train loss: 0.61991, test loss: 0.54304\n"
     ]
    },
    {
     "name": "stderr",
     "output_type": "stream",
     "text": [
      "Epoch 1/6, Training: 100%|████████████████████████████| 200/200 [11:47<00:00,  3.54s/it]\n",
      "Epoch 1/6, Validation: 100%|██████████████████████████| 284/284 [14:36<00:00,  3.09s/it]\n",
      "Epoch 2/6, Validation:   0%|                                    | 0/284 [00:00<?, ?it/s]"
     ]
    },
    {
     "name": "stdout",
     "output_type": "stream",
     "text": [
      "train loss: 0.57644, test loss: 0.53681\n"
     ]
    },
    {
     "name": "stderr",
     "output_type": "stream",
     "text": [
      "Epoch 2/6, Training: 100%|████████████████████████████| 200/200 [11:51<00:00,  3.56s/it]\n",
      "Epoch 2/6, Validation: 100%|██████████████████████████| 284/284 [14:37<00:00,  3.09s/it]\n",
      "Epoch 3/6, Validation:   0%|                                    | 0/284 [00:00<?, ?it/s]"
     ]
    },
    {
     "name": "stdout",
     "output_type": "stream",
     "text": [
      "train loss: 0.56296, test loss: 0.53686\n"
     ]
    },
    {
     "name": "stderr",
     "output_type": "stream",
     "text": [
      "Epoch 3/6, Training: 100%|████████████████████████████| 200/200 [11:54<00:00,  3.57s/it]\n",
      "Epoch 3/6, Validation: 100%|██████████████████████████| 284/284 [14:42<00:00,  3.11s/it]\n",
      "Epoch 4/6, Validation:   0%|                                    | 0/284 [00:00<?, ?it/s]"
     ]
    },
    {
     "name": "stdout",
     "output_type": "stream",
     "text": [
      "train loss: 0.55410, test loss: 0.53516\n"
     ]
    },
    {
     "name": "stderr",
     "output_type": "stream",
     "text": [
      "Epoch 4/6, Training: 100%|████████████████████████████| 200/200 [11:53<00:00,  3.57s/it]\n",
      "Epoch 4/6, Validation: 100%|██████████████████████████| 284/284 [14:43<00:00,  3.11s/it]\n",
      "Epoch 5/6, Validation:   0%|                                    | 0/284 [00:00<?, ?it/s]"
     ]
    },
    {
     "name": "stdout",
     "output_type": "stream",
     "text": [
      "train loss: 0.54469, test loss: 0.53986\n"
     ]
    },
    {
     "name": "stderr",
     "output_type": "stream",
     "text": [
      "Epoch 5/6, Training: 100%|████████████████████████████| 200/200 [11:56<00:00,  3.58s/it]\n",
      "Epoch 5/6, Validation: 100%|██████████████████████████| 284/284 [14:45<00:00,  3.12s/it]\n",
      "Epoch 0/6, Validation:   0%|                                    | 0/284 [00:00<?, ?it/s]"
     ]
    },
    {
     "name": "stdout",
     "output_type": "stream",
     "text": [
      "train loss: 0.53968, test loss: 0.53537\n"
     ]
    },
    {
     "name": "stderr",
     "output_type": "stream",
     "text": [
      "Epoch 0/6, Training: 100%|████████████████████████████| 200/200 [11:13<00:00,  3.37s/it]\n",
      "Epoch 0/6, Validation: 100%|██████████████████████████| 284/284 [13:58<00:00,  2.95s/it]\n",
      "Epoch 1/6, Validation:   0%|                                    | 0/284 [00:00<?, ?it/s]"
     ]
    },
    {
     "name": "stdout",
     "output_type": "stream",
     "text": [
      "train loss: 0.62848, test loss: 0.57255\n"
     ]
    },
    {
     "name": "stderr",
     "output_type": "stream",
     "text": [
      "Epoch 1/6, Training: 100%|████████████████████████████| 200/200 [11:16<00:00,  3.38s/it]\n",
      "Epoch 1/6, Validation: 100%|██████████████████████████| 284/284 [14:05<00:00,  2.98s/it]\n",
      "Epoch 2/6, Validation:   0%|                                    | 0/284 [00:00<?, ?it/s]"
     ]
    },
    {
     "name": "stdout",
     "output_type": "stream",
     "text": [
      "train loss: 0.58257, test loss: 0.54061\n"
     ]
    },
    {
     "name": "stderr",
     "output_type": "stream",
     "text": [
      "Epoch 2/6, Training: 100%|████████████████████████████| 200/200 [11:20<00:00,  3.40s/it]\n",
      "Epoch 2/6, Validation: 100%|██████████████████████████| 284/284 [14:08<00:00,  2.99s/it]\n",
      "Epoch 3/6, Validation:   0%|                                    | 0/284 [00:00<?, ?it/s]"
     ]
    },
    {
     "name": "stdout",
     "output_type": "stream",
     "text": [
      "train loss: 0.57327, test loss: 0.54641\n"
     ]
    },
    {
     "name": "stderr",
     "output_type": "stream",
     "text": [
      "Epoch 3/6, Training: 100%|████████████████████████████| 200/200 [11:21<00:00,  3.41s/it]\n",
      "Epoch 3/6, Validation: 100%|██████████████████████████| 284/284 [14:09<00:00,  2.99s/it]\n",
      "Epoch 4/6, Validation:   0%|                                    | 0/284 [00:00<?, ?it/s]"
     ]
    },
    {
     "name": "stdout",
     "output_type": "stream",
     "text": [
      "train loss: 0.56357, test loss: 0.54404\n"
     ]
    },
    {
     "name": "stderr",
     "output_type": "stream",
     "text": [
      "Epoch 4/6, Training: 100%|████████████████████████████| 200/200 [11:25<00:00,  3.43s/it]\n",
      "Epoch 4/6, Validation: 100%|██████████████████████████| 284/284 [14:16<00:00,  3.02s/it]\n",
      "Epoch 5/6, Validation:   0%|                                    | 0/284 [00:00<?, ?it/s]"
     ]
    },
    {
     "name": "stdout",
     "output_type": "stream",
     "text": [
      "train loss: 0.55459, test loss: 0.53930\n"
     ]
    },
    {
     "name": "stderr",
     "output_type": "stream",
     "text": [
      "Epoch 5/6, Training: 100%|████████████████████████████| 200/200 [11:21<00:00,  3.41s/it]\n",
      "Epoch 5/6, Validation: 100%|██████████████████████████| 284/284 [14:12<00:00,  3.00s/it]"
     ]
    },
    {
     "name": "stdout",
     "output_type": "stream",
     "text": [
      "train loss: 0.54629, test loss: 0.53233\n"
     ]
    },
    {
     "name": "stderr",
     "output_type": "stream",
     "text": [
      "\n"
     ]
    }
   ],
   "source": [
    "EMBEDDING_DIM = 20\n",
    "HIDDEN_DIM = 100\n",
    "TAGSET_SIZE = 2\n",
    "NUM_EPOCHS = 6\n",
    "model_list = []\n",
    "\n",
    "for model_idx in range(9):\n",
    "    \n",
    "    train_data = []\n",
    "    for link_idx in np.random.choice(200,size=200,replace=True):\n",
    "        train_data.append(link_dataset[link_idx])\n",
    "    \n",
    "    model = LSTMTagger(EMBEDDING_DIM, HIDDEN_DIM, TAGSET_SIZE)\n",
    "    model.cuda()\n",
    "    loss_function = nn.NLLLoss(weight=torch.tensor([2.0,1.0])).cuda()\n",
    "    optimizer = optim.Adam(model.parameters(), 0.001)\n",
    "\n",
    "    model.train()\n",
    "    for epoch_idx in range(NUM_EPOCHS):  \n",
    "\n",
    "        progress_training_epoch = tqdm(\n",
    "            train_data, \n",
    "            desc=f'Epoch {epoch_idx}/{NUM_EPOCHS}, Training',\n",
    "            miniters=1, ncols=88, position=0,\n",
    "            leave=True, total=len(train_data), smoothing=.9)\n",
    "\n",
    "        progress_validation_epoch = tqdm(\n",
    "            test_data, \n",
    "            desc=f'Epoch {epoch_idx}/{NUM_EPOCHS}, Validation',\n",
    "            miniters=1, ncols=88, position=0, \n",
    "            leave=True, total=len(test_data), smoothing=.9)\n",
    "\n",
    "        train_loss = 0\n",
    "        train_size = 0\n",
    "        model.train()\n",
    "        for idx, (sentence, tags) in enumerate(progress_training_epoch):\n",
    "            sentence = sentence.cuda()\n",
    "            tags = tags.cuda()\n",
    "            model.zero_grad()\n",
    "            tag_scores = model(sentence)\n",
    "            loss = loss_function(tag_scores, tags)\n",
    "            loss.backward()\n",
    "            optimizer.step()\n",
    "            train_loss += loss * tags.size()[0]\n",
    "            train_size += tags.size()[0]\n",
    "\n",
    "        test_loss = 0\n",
    "        test_size = 0\n",
    "        model.eval()\n",
    "        with torch.no_grad():\n",
    "            for idx, (sentence, tags) in enumerate(progress_validation_epoch):\n",
    "                sentence = sentence.cuda()\n",
    "                tags = tags.cuda()\n",
    "                tag_scores = model(sentence)\n",
    "                loss = loss_function(tag_scores, tags) \n",
    "                test_loss += loss * tags.size()[0]\n",
    "                test_size += tags.size()[0]\n",
    "\n",
    "        print(f'train loss:{train_loss.item()/train_size: .5f}, '\n",
    "              f'test loss:{test_loss.item()/test_size: .5f}')\n",
    "        \n",
    "    model_list.append(model)"
   ]
  },
  {
   "cell_type": "markdown",
   "metadata": {},
   "source": [
    "# Test"
   ]
  },
  {
   "cell_type": "code",
   "execution_count": 12,
   "metadata": {},
   "outputs": [
    {
     "name": "stderr",
     "output_type": "stream",
     "text": [
      "Epoch 5/6, Validation: 100%|██████████████████████████| 284/284 [02:46<00:00,  1.70it/s]\n",
      "Epoch 5/6, Validation: 100%|██████████████████████████| 284/284 [02:45<00:00,  1.71it/s]\n",
      "Epoch 5/6, Validation: 100%|██████████████████████████| 284/284 [02:45<00:00,  1.72it/s]\n",
      "Epoch 5/6, Validation: 100%|██████████████████████████| 284/284 [02:46<00:00,  1.71it/s]\n",
      "Epoch 5/6, Validation: 100%|██████████████████████████| 284/284 [02:49<00:00,  1.67it/s]\n",
      "Epoch 5/6, Validation: 100%|██████████████████████████| 284/284 [02:49<00:00,  1.68it/s]\n",
      "Epoch 5/6, Validation: 100%|██████████████████████████| 284/284 [02:46<00:00,  1.70it/s]\n",
      "Epoch 5/6, Validation: 100%|██████████████████████████| 284/284 [02:46<00:00,  1.71it/s]\n",
      "Epoch 5/6, Validation: 100%|██████████████████████████| 284/284 [02:15<00:00,  2.09it/s]"
     ]
    },
    {
     "name": "stdout",
     "output_type": "stream",
     "text": [
      "True Positive:954007, True Negative:696588, False Positive:270411, False Negative:253076\n"
     ]
    },
    {
     "name": "stderr",
     "output_type": "stream",
     "text": [
      "\n"
     ]
    }
   ],
   "source": [
    "predict_agg = []\n",
    "target_agg = []\n",
    "\n",
    "for model in model_list:\n",
    "    \n",
    "    progress_validation_epoch = tqdm(\n",
    "        test_data, \n",
    "        desc=f'Epoch {epoch_idx}/{NUM_EPOCHS}, Validation',\n",
    "        miniters=1, ncols=88, position=0, \n",
    "        leave=True, total=len(test_data), smoothing=.9)\n",
    "    \n",
    "    predict = []\n",
    "    target = []\n",
    "    model.eval()\n",
    "    with torch.no_grad():\n",
    "        for idx, (sentence, tags) in enumerate(progress_validation_epoch):\n",
    "            sentence = sentence.cuda()\n",
    "            tags = tags.cuda()\n",
    "            tag_scores = model(sentence)\n",
    "            predict.append(tag_scores.argmax(dim=1).cpu().numpy())\n",
    "            target.append(tags.cpu().numpy())        \n",
    "    predict = np.concatenate(predict, axis=0)\n",
    "    target = np.concatenate(target, axis=0)\n",
    "    \n",
    "    predict_agg.append(predict)\n",
    "    target_agg.append(target)\n",
    "    \n",
    "predict = (np.array(predict_agg).sum(axis=0) > 4.5)\n",
    "target = target_agg[0]\n",
    "tp = predict[target==1].sum()\n",
    "tn = (target==0).sum() - predict[target==0].sum()\n",
    "fp = predict[target==0].sum()\n",
    "fn = (target==1).sum() - predict[target==1].sum()\n",
    "\n",
    "print(f'True Positive:{tp}, '\n",
    "      f'True Negative:{tn}, '\n",
    "      f'False Positive:{fp}, '\n",
    "      f'False Negative:{fn}')"
   ]
  },
  {
   "cell_type": "code",
   "execution_count": 13,
   "metadata": {},
   "outputs": [
    {
     "name": "stdout",
     "output_type": "stream",
     "text": [
      "Accuracy:0.7592146938339952, Positive Accuracy:0.7791514009104734, Negative Accuracy:0.733509957205917, Weighted Accuracy:0.7563306790581952\n"
     ]
    }
   ],
   "source": [
    "accr = (tp+tn)/(tp+tn+fp+fn)\n",
    "posaccr = tp/(tp+fp)\n",
    "negaccr = tn/(tn+fn)\n",
    "print(f'Accuracy:{accr}, '\n",
    "      f'Positive Accuracy:{posaccr}, '\n",
    "      f'Negative Accuracy:{negaccr}, '\n",
    "      f'Weighted Accuracy:{0.5*(posaccr+negaccr)}')"
   ]
  }
 ],
 "metadata": {
  "kernelspec": {
   "display_name": "Python 3",
   "language": "python",
   "name": "python3"
  },
  "language_info": {
   "codemirror_mode": {
    "name": "ipython",
    "version": 3
   },
   "file_extension": ".py",
   "mimetype": "text/x-python",
   "name": "python",
   "nbconvert_exporter": "python",
   "pygments_lexer": "ipython3",
   "version": "3.7.5"
  }
 },
 "nbformat": 4,
 "nbformat_minor": 2
}
