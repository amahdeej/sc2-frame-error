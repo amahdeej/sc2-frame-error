{
 "cells": [
  {
   "cell_type": "markdown",
   "metadata": {},
   "source": [
    "# Libraries"
   ]
  },
  {
   "cell_type": "code",
   "execution_count": 1,
   "metadata": {},
   "outputs": [],
   "source": [
    "import sqlite3\n",
    "import numpy as np\n",
    "from collections import OrderedDict, namedtuple\n",
    "from distutils.spawn import find_executable\n",
    "import matplotlib.pyplot as plt\n",
    "\n",
    "import sys\n",
    "import subprocess\n",
    "import pathlib\n",
    "import tempfile\n",
    "import importlib\n",
    "import os\n",
    "import time\n",
    "import random\n",
    "import pickle\n",
    "\n",
    "import math\n",
    "\n",
    "from configparser import ConfigParser\n",
    "\n",
    "# from google.protobuf.json_format import MessageToDict"
   ]
  },
  {
   "cell_type": "code",
   "execution_count": 2,
   "metadata": {},
   "outputs": [],
   "source": [
    "# DEVICE = 0\n",
    "\n",
    "import os\n",
    "import time\n",
    "import pickle\n",
    "import numpy as np\n",
    "from tqdm import tqdm\n",
    "import matplotlib.pyplot as plt\n",
    "import seaborn as sn\n",
    "import pandas as pd\n",
    "\n",
    "import torch\n",
    "torch.backends.cudnn.benchmark = True\n",
    "import torch.optim as optim\n",
    "import torch.nn as nn\n",
    "import torch.nn.functional as F\n",
    "from torch.autograd import Variable\n",
    "from torch.utils import data\n",
    "\n",
    "# torch.cuda.set_device(DEVICE)\n",
    "torch.cuda.empty_cache() \n",
    "torch.backends.cudnn.benchmark=True"
   ]
  },
  {
   "cell_type": "code",
   "execution_count": 3,
   "metadata": {},
   "outputs": [],
   "source": [
    "np.random.seed(0)\n",
    "torch.manual_seed(0)\n",
    "\n",
    "import os\n",
    "os.environ['CUDA_VISIBLE_DEVICES']='0'"
   ]
  },
  {
   "cell_type": "markdown",
   "metadata": {},
   "source": [
    "# load the dataset"
   ]
  },
  {
   "cell_type": "code",
   "execution_count": 4,
   "metadata": {},
   "outputs": [],
   "source": [
    "with open('scrimmage5_link_dataset.pickle', 'rb') as file:\n",
    "    link_dataset = pickle.load(file)"
   ]
  },
  {
   "cell_type": "code",
   "execution_count": 5,
   "metadata": {},
   "outputs": [],
   "source": [
    "train_data = link_dataset[:400] \n",
    "test_data = link_dataset[400:]"
   ]
  },
  {
   "cell_type": "code",
   "execution_count": 6,
   "metadata": {},
   "outputs": [],
   "source": [
    "class LSTMTagger(nn.Module):\n",
    "\n",
    "    def __init__(self, embedding_dim, hidden_dim, tagset_size):\n",
    "        super(LSTMTagger, self).__init__()\n",
    "        self.hidden_dim = hidden_dim\n",
    "\n",
    "        # The LSTM takes word embeddings as inputs, and outputs hidden states\n",
    "        # with dimensionality hidden_dim.\n",
    "        self.lstm = nn.LSTM(embedding_dim, hidden_dim)\n",
    "\n",
    "        # The linear layer that maps from hidden state space to tag space\n",
    "        self.hidden2tag = nn.Linear(hidden_dim, tagset_size)\n",
    "\n",
    "    def forward(self, sentence):\n",
    "        lstm_out, _ = self.lstm(sentence.view(len(sentence), 1, -1))\n",
    "        tag_space = self.hidden2tag(lstm_out.view(len(sentence), -1))\n",
    "        tag_scores = F.log_softmax(tag_space, dim=1)\n",
    "        return tag_scores"
   ]
  },
  {
   "cell_type": "markdown",
   "metadata": {},
   "source": [
    "# Train Model 10 Epoch"
   ]
  },
  {
   "cell_type": "code",
   "execution_count": 7,
   "metadata": {
    "scrolled": false
   },
   "outputs": [
    {
     "name": "stderr",
     "output_type": "stream",
     "text": [
      "Epoch 0/10, Training: 100%|███████████████████████████| 400/400 [12:02<00:00,  1.81s/it]\n",
      "Epoch 0/10, Validation: 100%|█████████████████████████| 227/227 [15:02<00:00,  3.98s/it]\n",
      "Epoch 1/10, Validation:   0%|                                   | 0/227 [00:00<?, ?it/s]"
     ]
    },
    {
     "name": "stdout",
     "output_type": "stream",
     "text": [
      "train loss: 0.61936, test loss: 0.59383\n"
     ]
    },
    {
     "name": "stderr",
     "output_type": "stream",
     "text": [
      "Epoch 1/10, Training: 100%|███████████████████████████| 400/400 [10:41<00:00,  1.60s/it]\n",
      "Epoch 1/10, Validation: 100%|█████████████████████████| 227/227 [12:31<00:00,  3.31s/it]\n",
      "Epoch 2/10, Validation:   0%|                                   | 0/227 [00:00<?, ?it/s]"
     ]
    },
    {
     "name": "stdout",
     "output_type": "stream",
     "text": [
      "train loss: 0.59913, test loss: 0.59046\n"
     ]
    },
    {
     "name": "stderr",
     "output_type": "stream",
     "text": [
      "Epoch 2/10, Training: 100%|███████████████████████████| 400/400 [07:32<00:00,  1.13s/it]\n",
      "Epoch 2/10, Validation: 100%|█████████████████████████| 227/227 [09:22<00:00,  2.48s/it]\n",
      "Epoch 3/10, Validation:   0%|                                   | 0/227 [00:00<?, ?it/s]"
     ]
    },
    {
     "name": "stdout",
     "output_type": "stream",
     "text": [
      "train loss: 0.59552, test loss: 0.59212\n"
     ]
    },
    {
     "name": "stderr",
     "output_type": "stream",
     "text": [
      "Epoch 3/10, Training: 100%|███████████████████████████| 400/400 [07:28<00:00,  1.12s/it]\n",
      "Epoch 3/10, Validation: 100%|█████████████████████████| 227/227 [09:18<00:00,  2.46s/it]\n",
      "Epoch 4/10, Validation:   0%|                                   | 0/227 [00:00<?, ?it/s]"
     ]
    },
    {
     "name": "stdout",
     "output_type": "stream",
     "text": [
      "train loss: 0.59232, test loss: 0.59005\n"
     ]
    },
    {
     "name": "stderr",
     "output_type": "stream",
     "text": [
      "Epoch 4/10, Training: 100%|███████████████████████████| 400/400 [07:32<00:00,  1.13s/it]\n",
      "Epoch 4/10, Validation: 100%|█████████████████████████| 227/227 [09:22<00:00,  2.48s/it]\n",
      "Epoch 5/10, Validation:   0%|                                   | 0/227 [00:00<?, ?it/s]"
     ]
    },
    {
     "name": "stdout",
     "output_type": "stream",
     "text": [
      "train loss: 0.59051, test loss: 0.59244\n"
     ]
    },
    {
     "name": "stderr",
     "output_type": "stream",
     "text": [
      "Epoch 5/10, Training: 100%|███████████████████████████| 400/400 [07:32<00:00,  1.13s/it]\n",
      "Epoch 5/10, Validation: 100%|█████████████████████████| 227/227 [09:22<00:00,  2.48s/it]\n",
      "Epoch 6/10, Validation:   0%|                                   | 0/227 [00:00<?, ?it/s]"
     ]
    },
    {
     "name": "stdout",
     "output_type": "stream",
     "text": [
      "train loss: 0.58718, test loss: 0.59116\n"
     ]
    },
    {
     "name": "stderr",
     "output_type": "stream",
     "text": [
      "Epoch 6/10, Training: 100%|███████████████████████████| 400/400 [07:31<00:00,  1.13s/it]\n",
      "Epoch 6/10, Validation: 100%|█████████████████████████| 227/227 [09:18<00:00,  2.46s/it]\n",
      "Epoch 7/10, Validation:   0%|                                   | 0/227 [00:00<?, ?it/s]"
     ]
    },
    {
     "name": "stdout",
     "output_type": "stream",
     "text": [
      "train loss: 0.58493, test loss: 0.59322\n"
     ]
    },
    {
     "name": "stderr",
     "output_type": "stream",
     "text": [
      "Epoch 7/10, Training: 100%|███████████████████████████| 400/400 [07:33<00:00,  1.13s/it]\n",
      "Epoch 7/10, Validation: 100%|█████████████████████████| 227/227 [09:22<00:00,  2.48s/it]\n",
      "Epoch 8/10, Validation:   0%|                                   | 0/227 [00:00<?, ?it/s]"
     ]
    },
    {
     "name": "stdout",
     "output_type": "stream",
     "text": [
      "train loss: 0.57987, test loss: 0.59382\n"
     ]
    },
    {
     "name": "stderr",
     "output_type": "stream",
     "text": [
      "Epoch 8/10, Training: 100%|███████████████████████████| 400/400 [07:32<00:00,  1.13s/it]\n",
      "Epoch 8/10, Validation: 100%|█████████████████████████| 227/227 [09:22<00:00,  2.48s/it]\n",
      "Epoch 9/10, Validation:   0%|                                   | 0/227 [00:00<?, ?it/s]"
     ]
    },
    {
     "name": "stdout",
     "output_type": "stream",
     "text": [
      "train loss: 0.57586, test loss: 0.59552\n"
     ]
    },
    {
     "name": "stderr",
     "output_type": "stream",
     "text": [
      "Epoch 9/10, Training: 100%|███████████████████████████| 400/400 [07:33<00:00,  1.13s/it]\n",
      "Epoch 9/10, Validation: 100%|█████████████████████████| 227/227 [09:23<00:00,  2.48s/it]"
     ]
    },
    {
     "name": "stdout",
     "output_type": "stream",
     "text": [
      "train loss: 0.57271, test loss: 0.59589\n"
     ]
    },
    {
     "name": "stderr",
     "output_type": "stream",
     "text": [
      "\n"
     ]
    }
   ],
   "source": [
    "EMBEDDING_DIM = 20\n",
    "HIDDEN_DIM = 100\n",
    "TAGSET_SIZE = 2\n",
    "NUM_EPOCHS = 10\n",
    "\n",
    "model = LSTMTagger(EMBEDDING_DIM, HIDDEN_DIM, TAGSET_SIZE).cuda()\n",
    "model.cuda()\n",
    "\n",
    "loss_function = nn.NLLLoss(weight=torch.tensor([2.0,1.0])).cuda()\n",
    "optimizer = optim.Adam(model.parameters(), 0.001)\n",
    "\n",
    "for epoch_idx in range(NUM_EPOCHS): \n",
    "\n",
    "    progress_training_epoch = tqdm(\n",
    "        train_data, \n",
    "        desc=f'Epoch {epoch_idx}/{NUM_EPOCHS}, Training',\n",
    "        miniters=1, ncols=88, position=0,\n",
    "        leave=True, total=len(train_data), smoothing=.9)\n",
    "\n",
    "    progress_validation_epoch = tqdm(\n",
    "        test_data, \n",
    "        desc=f'Epoch {epoch_idx}/{NUM_EPOCHS}, Validation',\n",
    "        miniters=1, ncols=88, position=0, \n",
    "        leave=True, total=len(test_data), smoothing=.9)\n",
    "\n",
    "    train_loss = 0\n",
    "    train_size = 0\n",
    "    model.train()\n",
    "    for idx, (sentence, tags) in enumerate(progress_training_epoch):\n",
    "        sentence = sentence.cuda()\n",
    "        tags = tags.cuda()\n",
    "        model.zero_grad()\n",
    "        tag_scores = model(sentence)\n",
    "        loss = loss_function(tag_scores, tags)\n",
    "        loss.backward()\n",
    "        optimizer.step()\n",
    "        train_loss += loss * tags.size()[0]\n",
    "        train_size += tags.size()[0]\n",
    "\n",
    "    test_loss = 0\n",
    "    test_size = 0\n",
    "    predict = []\n",
    "    target = []\n",
    "    model.eval()\n",
    "    with torch.no_grad():\n",
    "        for idx, (sentence, tags) in enumerate(progress_validation_epoch):\n",
    "            sentence = sentence.cuda()\n",
    "            tags = tags.cuda()\n",
    "            tag_scores = model(sentence)\n",
    "            loss = loss_function(tag_scores, tags)\n",
    "            predict.append(tag_scores.argmax(dim=1).cpu().numpy())\n",
    "            target.append(tags.cpu().numpy())        \n",
    "            test_loss += loss * tags.size()[0]\n",
    "            test_size += tags.size()[0]\n",
    "    predict = np.concatenate(predict, axis=0)\n",
    "    target = np.concatenate(target, axis=0)\n",
    "\n",
    "    print(f'train loss:{train_loss.item()/train_size: .5f}, '\n",
    "          f'test loss:{test_loss.item()/test_size: .5f}')"
   ]
  },
  {
   "cell_type": "markdown",
   "metadata": {},
   "source": [
    "# Test"
   ]
  },
  {
   "cell_type": "code",
   "execution_count": 8,
   "metadata": {},
   "outputs": [
    {
     "name": "stderr",
     "output_type": "stream",
     "text": [
      "Epoch 9/10, Validation: 100%|█████████████████████████| 227/227 [01:49<00:00,  2.07it/s]"
     ]
    },
    {
     "name": "stdout",
     "output_type": "stream",
     "text": [
      "True Positive:2459124, True Negative:542667, False Positive:578177, False Negative:482682\n"
     ]
    },
    {
     "name": "stderr",
     "output_type": "stream",
     "text": [
      "\n"
     ]
    }
   ],
   "source": [
    "progress_validation_epoch = tqdm(\n",
    "    test_data, \n",
    "    desc=f'Epoch {epoch_idx}/{NUM_EPOCHS}, Validation',\n",
    "    miniters=1, ncols=88, position=0, \n",
    "    leave=True, total=len(test_data), smoothing=.9)\n",
    "\n",
    "predict = []\n",
    "target = []\n",
    "model.eval()\n",
    "with torch.no_grad():\n",
    "    for idx, (sentence, tags) in enumerate(progress_validation_epoch):\n",
    "        sentence = sentence.cuda()\n",
    "        tags = tags.cuda()\n",
    "        tag_scores = model(sentence)\n",
    "        predict.append(tag_scores.argmax(dim=1).cpu().numpy())\n",
    "        target.append(tags.cpu().numpy())        \n",
    "predict = np.concatenate(predict, axis=0)\n",
    "target = np.concatenate(target, axis=0)\n",
    "tp = predict[target==1].sum()\n",
    "tn = (target==0).sum() - predict[target==0].sum()\n",
    "fp = predict[target==0].sum()\n",
    "fn = (target==1).sum() - predict[target==1].sum()\n",
    "\n",
    "print(f'True Positive:{tp}, '\n",
    "      f'True Negative:{tn}, '\n",
    "      f'False Positive:{fp}, '\n",
    "      f'False Negative:{fn}')\n"
   ]
  },
  {
   "cell_type": "code",
   "execution_count": 9,
   "metadata": {},
   "outputs": [
    {
     "name": "stdout",
     "output_type": "stream",
     "text": [
      "Accuracy:0.7388751184571647, Positive Accuracy:0.8096411913076774, Negative Accuracy:0.5292510159955294, Weighted Accuracy:0.6694461036516034\n"
     ]
    }
   ],
   "source": [
    "accr = (tp+tn)/(tp+tn+fp+fn)\n",
    "posaccr = tp/(tp+fp)\n",
    "negaccr = tn/(tn+fn)\n",
    "print(f'Accuracy:{accr}, '\n",
    "      f'Positive Accuracy:{posaccr}, '\n",
    "      f'Negative Accuracy:{negaccr}, '\n",
    "      f'Weighted Accuracy:{0.5*(posaccr+negaccr)}')"
   ]
  },
  {
   "cell_type": "markdown",
   "metadata": {},
   "source": [
    "# Bagging 9"
   ]
  },
  {
   "cell_type": "code",
   "execution_count": 7,
   "metadata": {},
   "outputs": [],
   "source": [
    "with open('scrimmage5_link_dataset.pickle', 'rb') as file:\n",
    "    link_dataset = pickle.load(file)"
   ]
  },
  {
   "cell_type": "code",
   "execution_count": 8,
   "metadata": {
    "scrolled": false
   },
   "outputs": [
    {
     "name": "stderr",
     "output_type": "stream",
     "text": [
      "Epoch 0/6, Training: 100%|████████████████████████████| 200/200 [02:16<00:00,  1.47it/s]\n",
      "Epoch 0/6, Validation: 100%|██████████████████████████| 227/227 [03:26<00:00,  1.10it/s]\n",
      "Epoch 1/6, Validation:   0%|                                    | 0/227 [00:00<?, ?it/s]"
     ]
    },
    {
     "name": "stdout",
     "output_type": "stream",
     "text": [
      "train loss: 0.60488, test loss: 0.60676\n"
     ]
    },
    {
     "name": "stderr",
     "output_type": "stream",
     "text": [
      "Epoch 1/6, Training: 100%|████████████████████████████| 200/200 [02:16<00:00,  1.46it/s]\n",
      "Epoch 1/6, Validation: 100%|██████████████████████████| 227/227 [03:27<00:00,  1.10it/s]\n",
      "Epoch 2/6, Validation:   0%|                                    | 0/227 [00:00<?, ?it/s]"
     ]
    },
    {
     "name": "stdout",
     "output_type": "stream",
     "text": [
      "train loss: 0.56239, test loss: 0.60690\n"
     ]
    },
    {
     "name": "stderr",
     "output_type": "stream",
     "text": [
      "Epoch 2/6, Training: 100%|████████████████████████████| 200/200 [02:16<00:00,  1.47it/s]\n",
      "Epoch 2/6, Validation: 100%|██████████████████████████| 227/227 [03:26<00:00,  1.10it/s]\n",
      "Epoch 3/6, Validation:   0%|                                    | 0/227 [00:00<?, ?it/s]"
     ]
    },
    {
     "name": "stdout",
     "output_type": "stream",
     "text": [
      "train loss: 0.55722, test loss: 0.59506\n"
     ]
    },
    {
     "name": "stderr",
     "output_type": "stream",
     "text": [
      "Epoch 3/6, Training: 100%|████████████████████████████| 200/200 [02:17<00:00,  1.46it/s]\n",
      "Epoch 3/6, Validation: 100%|██████████████████████████| 227/227 [03:27<00:00,  1.10it/s]\n",
      "Epoch 4/6, Validation:   0%|                                    | 0/227 [00:00<?, ?it/s]"
     ]
    },
    {
     "name": "stdout",
     "output_type": "stream",
     "text": [
      "train loss: 0.55365, test loss: 0.59586\n"
     ]
    },
    {
     "name": "stderr",
     "output_type": "stream",
     "text": [
      "Epoch 4/6, Training: 100%|████████████████████████████| 200/200 [02:16<00:00,  1.46it/s]\n",
      "Epoch 4/6, Validation: 100%|██████████████████████████| 227/227 [03:27<00:00,  1.10it/s]\n",
      "Epoch 5/6, Validation:   0%|                                    | 0/227 [00:00<?, ?it/s]"
     ]
    },
    {
     "name": "stdout",
     "output_type": "stream",
     "text": [
      "train loss: 0.55206, test loss: 0.59542\n"
     ]
    },
    {
     "name": "stderr",
     "output_type": "stream",
     "text": [
      "Epoch 5/6, Training: 100%|████████████████████████████| 200/200 [02:17<00:00,  1.46it/s]\n",
      "Epoch 5/6, Validation: 100%|██████████████████████████| 227/227 [03:27<00:00,  1.09it/s]\n",
      "Epoch 0/6, Validation:   0%|                                    | 0/227 [00:00<?, ?it/s]"
     ]
    },
    {
     "name": "stdout",
     "output_type": "stream",
     "text": [
      "train loss: 0.54540, test loss: 0.59590\n"
     ]
    },
    {
     "name": "stderr",
     "output_type": "stream",
     "text": [
      "Epoch 0/6, Training: 100%|████████████████████████████| 200/200 [02:17<00:00,  1.45it/s]\n",
      "Epoch 0/6, Validation: 100%|██████████████████████████| 227/227 [03:28<00:00,  1.09it/s]\n",
      "Epoch 1/6, Validation:   0%|                                    | 0/227 [00:00<?, ?it/s]"
     ]
    },
    {
     "name": "stdout",
     "output_type": "stream",
     "text": [
      "train loss: 0.59955, test loss: 0.62144\n"
     ]
    },
    {
     "name": "stderr",
     "output_type": "stream",
     "text": [
      "Epoch 1/6, Training: 100%|████████████████████████████| 200/200 [02:17<00:00,  1.45it/s]\n",
      "Epoch 1/6, Validation: 100%|██████████████████████████| 227/227 [03:28<00:00,  1.09it/s]\n",
      "Epoch 2/6, Validation:   0%|                                    | 0/227 [00:00<?, ?it/s]"
     ]
    },
    {
     "name": "stdout",
     "output_type": "stream",
     "text": [
      "train loss: 0.56374, test loss: 0.62319\n"
     ]
    },
    {
     "name": "stderr",
     "output_type": "stream",
     "text": [
      "Epoch 2/6, Training: 100%|████████████████████████████| 200/200 [02:18<00:00,  1.45it/s]\n",
      "Epoch 2/6, Validation: 100%|██████████████████████████| 227/227 [03:28<00:00,  1.09it/s]\n",
      "Epoch 3/6, Validation:   0%|                                    | 0/227 [00:00<?, ?it/s]"
     ]
    },
    {
     "name": "stdout",
     "output_type": "stream",
     "text": [
      "train loss: 0.55566, test loss: 0.61698\n"
     ]
    },
    {
     "name": "stderr",
     "output_type": "stream",
     "text": [
      "Epoch 3/6, Training: 100%|████████████████████████████| 200/200 [02:17<00:00,  1.45it/s]\n",
      "Epoch 3/6, Validation: 100%|██████████████████████████| 227/227 [03:28<00:00,  1.09it/s]\n",
      "Epoch 4/6, Validation:   0%|                                    | 0/227 [00:00<?, ?it/s]"
     ]
    },
    {
     "name": "stdout",
     "output_type": "stream",
     "text": [
      "train loss: 0.55011, test loss: 0.62369\n"
     ]
    },
    {
     "name": "stderr",
     "output_type": "stream",
     "text": [
      "Epoch 4/6, Training: 100%|████████████████████████████| 200/200 [02:17<00:00,  1.45it/s]\n",
      "Epoch 4/6, Validation: 100%|██████████████████████████| 227/227 [03:28<00:00,  1.09it/s]\n",
      "Epoch 5/6, Validation:   0%|                                    | 0/227 [00:00<?, ?it/s]"
     ]
    },
    {
     "name": "stdout",
     "output_type": "stream",
     "text": [
      "train loss: 0.54640, test loss: 0.62461\n"
     ]
    },
    {
     "name": "stderr",
     "output_type": "stream",
     "text": [
      "Epoch 5/6, Training: 100%|████████████████████████████| 200/200 [02:18<00:00,  1.45it/s]\n",
      "Epoch 5/6, Validation: 100%|██████████████████████████| 227/227 [03:28<00:00,  1.09it/s]\n",
      "Epoch 0/6, Validation:   0%|                                    | 0/227 [00:00<?, ?it/s]"
     ]
    },
    {
     "name": "stdout",
     "output_type": "stream",
     "text": [
      "train loss: 0.54311, test loss: 0.62386\n"
     ]
    },
    {
     "name": "stderr",
     "output_type": "stream",
     "text": [
      "Epoch 0/6, Training: 100%|████████████████████████████| 200/200 [02:13<00:00,  1.50it/s]\n",
      "Epoch 0/6, Validation: 100%|██████████████████████████| 227/227 [03:23<00:00,  1.11it/s]\n",
      "Epoch 1/6, Validation:   0%|                                    | 0/227 [00:00<?, ?it/s]"
     ]
    },
    {
     "name": "stdout",
     "output_type": "stream",
     "text": [
      "train loss: 0.60262, test loss: 0.61646\n"
     ]
    },
    {
     "name": "stderr",
     "output_type": "stream",
     "text": [
      "Epoch 1/6, Training: 100%|████████████████████████████| 200/200 [02:13<00:00,  1.49it/s]\n",
      "Epoch 1/6, Validation: 100%|██████████████████████████| 227/227 [03:24<00:00,  1.11it/s]\n",
      "Epoch 2/6, Validation:   0%|                                    | 0/227 [00:00<?, ?it/s]"
     ]
    },
    {
     "name": "stdout",
     "output_type": "stream",
     "text": [
      "train loss: 0.55997, test loss: 0.61586\n"
     ]
    },
    {
     "name": "stderr",
     "output_type": "stream",
     "text": [
      "Epoch 2/6, Training: 100%|████████████████████████████| 200/200 [02:14<00:00,  1.49it/s]\n",
      "Epoch 2/6, Validation: 100%|██████████████████████████| 227/227 [03:24<00:00,  1.11it/s]\n",
      "Epoch 3/6, Validation:   0%|                                    | 0/227 [00:00<?, ?it/s]"
     ]
    },
    {
     "name": "stdout",
     "output_type": "stream",
     "text": [
      "train loss: 0.55241, test loss: 0.61253\n"
     ]
    },
    {
     "name": "stderr",
     "output_type": "stream",
     "text": [
      "Epoch 3/6, Training: 100%|████████████████████████████| 200/200 [02:14<00:00,  1.49it/s]\n",
      "Epoch 3/6, Validation: 100%|██████████████████████████| 227/227 [03:24<00:00,  1.11it/s]\n",
      "Epoch 4/6, Validation:   0%|                                    | 0/227 [00:00<?, ?it/s]"
     ]
    },
    {
     "name": "stdout",
     "output_type": "stream",
     "text": [
      "train loss: 0.54772, test loss: 0.61017\n"
     ]
    },
    {
     "name": "stderr",
     "output_type": "stream",
     "text": [
      "Epoch 4/6, Training: 100%|████████████████████████████| 200/200 [02:14<00:00,  1.49it/s]\n",
      "Epoch 4/6, Validation: 100%|██████████████████████████| 227/227 [03:24<00:00,  1.11it/s]\n",
      "Epoch 5/6, Validation:   0%|                                    | 0/227 [00:00<?, ?it/s]"
     ]
    },
    {
     "name": "stdout",
     "output_type": "stream",
     "text": [
      "train loss: 0.54330, test loss: 0.61442\n"
     ]
    },
    {
     "name": "stderr",
     "output_type": "stream",
     "text": [
      "Epoch 5/6, Training: 100%|████████████████████████████| 200/200 [02:14<00:00,  1.49it/s]\n",
      "Epoch 5/6, Validation: 100%|██████████████████████████| 227/227 [03:25<00:00,  1.11it/s]\n",
      "Epoch 0/6, Validation:   0%|                                    | 0/227 [00:00<?, ?it/s]"
     ]
    },
    {
     "name": "stdout",
     "output_type": "stream",
     "text": [
      "train loss: 0.54059, test loss: 0.61733\n"
     ]
    },
    {
     "name": "stderr",
     "output_type": "stream",
     "text": [
      "Epoch 0/6, Training: 100%|████████████████████████████| 200/200 [02:23<00:00,  1.40it/s]\n",
      "Epoch 0/6, Validation: 100%|██████████████████████████| 227/227 [03:33<00:00,  1.06it/s]\n",
      "Epoch 1/6, Validation:   0%|                                    | 0/227 [00:00<?, ?it/s]"
     ]
    },
    {
     "name": "stdout",
     "output_type": "stream",
     "text": [
      "train loss: 0.62133, test loss: 0.61167\n"
     ]
    },
    {
     "name": "stderr",
     "output_type": "stream",
     "text": [
      "Epoch 1/6, Training: 100%|████████████████████████████| 200/200 [02:23<00:00,  1.39it/s]\n",
      "Epoch 1/6, Validation: 100%|██████████████████████████| 227/227 [03:33<00:00,  1.06it/s]\n",
      "Epoch 2/6, Validation:   0%|                                    | 0/227 [00:00<?, ?it/s]"
     ]
    },
    {
     "name": "stdout",
     "output_type": "stream",
     "text": [
      "train loss: 0.58054, test loss: 0.62141\n"
     ]
    },
    {
     "name": "stderr",
     "output_type": "stream",
     "text": [
      "Epoch 2/6, Training: 100%|████████████████████████████| 200/200 [02:23<00:00,  1.39it/s]\n",
      "Epoch 2/6, Validation: 100%|██████████████████████████| 227/227 [03:33<00:00,  1.06it/s]\n",
      "Epoch 3/6, Validation:   0%|                                    | 0/227 [00:00<?, ?it/s]"
     ]
    },
    {
     "name": "stdout",
     "output_type": "stream",
     "text": [
      "train loss: 0.57195, test loss: 0.60919\n"
     ]
    },
    {
     "name": "stderr",
     "output_type": "stream",
     "text": [
      "Epoch 3/6, Training: 100%|████████████████████████████| 200/200 [02:23<00:00,  1.39it/s]\n",
      "Epoch 3/6, Validation: 100%|██████████████████████████| 227/227 [03:33<00:00,  1.06it/s]\n",
      "Epoch 4/6, Validation:   0%|                                    | 0/227 [00:00<?, ?it/s]"
     ]
    },
    {
     "name": "stdout",
     "output_type": "stream",
     "text": [
      "train loss: 0.56430, test loss: 0.61979\n"
     ]
    },
    {
     "name": "stderr",
     "output_type": "stream",
     "text": [
      "Epoch 4/6, Training: 100%|████████████████████████████| 200/200 [02:23<00:00,  1.39it/s]\n",
      "Epoch 4/6, Validation: 100%|██████████████████████████| 227/227 [03:34<00:00,  1.06it/s]\n",
      "Epoch 5/6, Validation:   0%|                                    | 0/227 [00:00<?, ?it/s]"
     ]
    },
    {
     "name": "stdout",
     "output_type": "stream",
     "text": [
      "train loss: 0.56077, test loss: 0.62181\n"
     ]
    },
    {
     "name": "stderr",
     "output_type": "stream",
     "text": [
      "Epoch 5/6, Training: 100%|████████████████████████████| 200/200 [02:23<00:00,  1.39it/s]\n",
      "Epoch 5/6, Validation: 100%|██████████████████████████| 227/227 [03:34<00:00,  1.06it/s]\n",
      "Epoch 0/6, Validation:   0%|                                    | 0/227 [00:00<?, ?it/s]"
     ]
    },
    {
     "name": "stdout",
     "output_type": "stream",
     "text": [
      "train loss: 0.55608, test loss: 0.63090\n"
     ]
    },
    {
     "name": "stderr",
     "output_type": "stream",
     "text": [
      "Epoch 0/6, Training: 100%|████████████████████████████| 200/200 [02:17<00:00,  1.45it/s]\n",
      "Epoch 0/6, Validation: 100%|██████████████████████████| 227/227 [03:27<00:00,  1.09it/s]\n",
      "Epoch 1/6, Validation:   0%|                                    | 0/227 [00:00<?, ?it/s]"
     ]
    },
    {
     "name": "stdout",
     "output_type": "stream",
     "text": [
      "train loss: 0.59667, test loss: 0.61838\n"
     ]
    },
    {
     "name": "stderr",
     "output_type": "stream",
     "text": [
      "Epoch 1/6, Training: 100%|████████████████████████████| 200/200 [02:18<00:00,  1.45it/s]\n",
      "Epoch 1/6, Validation: 100%|██████████████████████████| 227/227 [03:29<00:00,  1.09it/s]\n",
      "Epoch 2/6, Validation:   0%|                                    | 0/227 [00:00<?, ?it/s]"
     ]
    },
    {
     "name": "stdout",
     "output_type": "stream",
     "text": [
      "train loss: 0.55771, test loss: 0.62598\n"
     ]
    },
    {
     "name": "stderr",
     "output_type": "stream",
     "text": [
      "Epoch 2/6, Training: 100%|████████████████████████████| 200/200 [02:18<00:00,  1.44it/s]\n",
      "Epoch 2/6, Validation: 100%|██████████████████████████| 227/227 [03:28<00:00,  1.09it/s]\n",
      "Epoch 3/6, Validation:   0%|                                    | 0/227 [00:00<?, ?it/s]"
     ]
    },
    {
     "name": "stdout",
     "output_type": "stream",
     "text": [
      "train loss: 0.55347, test loss: 0.62633\n"
     ]
    },
    {
     "name": "stderr",
     "output_type": "stream",
     "text": [
      "Epoch 3/6, Training: 100%|████████████████████████████| 200/200 [02:18<00:00,  1.45it/s]\n",
      "Epoch 3/6, Validation: 100%|██████████████████████████| 227/227 [03:28<00:00,  1.09it/s]\n",
      "Epoch 4/6, Validation:   0%|                                    | 0/227 [00:00<?, ?it/s]"
     ]
    },
    {
     "name": "stdout",
     "output_type": "stream",
     "text": [
      "train loss: 0.54964, test loss: 0.62427\n"
     ]
    },
    {
     "name": "stderr",
     "output_type": "stream",
     "text": [
      "Epoch 4/6, Training: 100%|████████████████████████████| 200/200 [02:18<00:00,  1.45it/s]\n",
      "Epoch 4/6, Validation: 100%|██████████████████████████| 227/227 [03:28<00:00,  1.09it/s]\n",
      "Epoch 5/6, Validation:   0%|                                    | 0/227 [00:00<?, ?it/s]"
     ]
    },
    {
     "name": "stdout",
     "output_type": "stream",
     "text": [
      "train loss: 0.55178, test loss: 0.62484\n"
     ]
    },
    {
     "name": "stderr",
     "output_type": "stream",
     "text": [
      "Epoch 5/6, Training: 100%|████████████████████████████| 200/200 [02:18<00:00,  1.44it/s]\n",
      "Epoch 5/6, Validation: 100%|██████████████████████████| 227/227 [03:29<00:00,  1.08it/s]\n",
      "Epoch 0/6, Validation:   0%|                                    | 0/227 [00:00<?, ?it/s]"
     ]
    },
    {
     "name": "stdout",
     "output_type": "stream",
     "text": [
      "train loss: 0.54528, test loss: 0.61688\n"
     ]
    },
    {
     "name": "stderr",
     "output_type": "stream",
     "text": [
      "Epoch 0/6, Training: 100%|████████████████████████████| 200/200 [02:23<00:00,  1.39it/s]\n",
      "Epoch 0/6, Validation: 100%|██████████████████████████| 227/227 [03:33<00:00,  1.06it/s]\n",
      "Epoch 1/6, Validation:   0%|                                    | 0/227 [00:00<?, ?it/s]"
     ]
    },
    {
     "name": "stdout",
     "output_type": "stream",
     "text": [
      "train loss: 0.63102, test loss: 0.60888\n"
     ]
    },
    {
     "name": "stderr",
     "output_type": "stream",
     "text": [
      "Epoch 1/6, Training: 100%|████████████████████████████| 200/200 [02:24<00:00,  1.39it/s]\n",
      "Epoch 1/6, Validation: 100%|██████████████████████████| 227/227 [03:34<00:00,  1.06it/s]\n",
      "Epoch 2/6, Validation:   0%|                                    | 0/227 [00:00<?, ?it/s]"
     ]
    },
    {
     "name": "stdout",
     "output_type": "stream",
     "text": [
      "train loss: 0.61068, test loss: 0.60259\n"
     ]
    },
    {
     "name": "stderr",
     "output_type": "stream",
     "text": [
      "Epoch 2/6, Training: 100%|████████████████████████████| 200/200 [02:23<00:00,  1.39it/s]\n",
      "Epoch 2/6, Validation: 100%|██████████████████████████| 227/227 [03:34<00:00,  1.06it/s]\n",
      "Epoch 3/6, Validation:   0%|                                    | 0/227 [00:00<?, ?it/s]"
     ]
    },
    {
     "name": "stdout",
     "output_type": "stream",
     "text": [
      "train loss: 0.60188, test loss: 0.59748\n"
     ]
    },
    {
     "name": "stderr",
     "output_type": "stream",
     "text": [
      "Epoch 3/6, Training: 100%|████████████████████████████| 200/200 [02:23<00:00,  1.39it/s]\n",
      "Epoch 3/6, Validation: 100%|██████████████████████████| 227/227 [03:33<00:00,  1.06it/s]\n",
      "Epoch 4/6, Validation:   0%|                                    | 0/227 [00:00<?, ?it/s]"
     ]
    },
    {
     "name": "stdout",
     "output_type": "stream",
     "text": [
      "train loss: 0.59697, test loss: 0.59768\n"
     ]
    },
    {
     "name": "stderr",
     "output_type": "stream",
     "text": [
      "Epoch 4/6, Training: 100%|████████████████████████████| 200/200 [02:23<00:00,  1.39it/s]\n",
      "Epoch 4/6, Validation: 100%|██████████████████████████| 227/227 [03:34<00:00,  1.06it/s]\n",
      "Epoch 5/6, Validation:   0%|                                    | 0/227 [00:00<?, ?it/s]"
     ]
    },
    {
     "name": "stdout",
     "output_type": "stream",
     "text": [
      "train loss: 0.59242, test loss: 0.59582\n"
     ]
    },
    {
     "name": "stderr",
     "output_type": "stream",
     "text": [
      "Epoch 5/6, Training: 100%|████████████████████████████| 200/200 [02:24<00:00,  1.38it/s]\n",
      "Epoch 5/6, Validation: 100%|██████████████████████████| 227/227 [03:35<00:00,  1.05it/s]\n",
      "Epoch 0/6, Validation:   0%|                                    | 0/227 [00:00<?, ?it/s]"
     ]
    },
    {
     "name": "stdout",
     "output_type": "stream",
     "text": [
      "train loss: 0.58719, test loss: 0.59886\n"
     ]
    },
    {
     "name": "stderr",
     "output_type": "stream",
     "text": [
      "Epoch 0/6, Training: 100%|████████████████████████████| 200/200 [02:26<00:00,  1.37it/s]\n",
      "Epoch 0/6, Validation: 100%|██████████████████████████| 227/227 [03:36<00:00,  1.05it/s]\n",
      "Epoch 1/6, Validation:   0%|                                    | 0/227 [00:00<?, ?it/s]"
     ]
    },
    {
     "name": "stdout",
     "output_type": "stream",
     "text": [
      "train loss: 0.61101, test loss: 0.60826\n"
     ]
    },
    {
     "name": "stderr",
     "output_type": "stream",
     "text": [
      "Epoch 1/6, Training: 100%|████████████████████████████| 200/200 [02:26<00:00,  1.37it/s]\n",
      "Epoch 1/6, Validation: 100%|██████████████████████████| 227/227 [03:36<00:00,  1.05it/s]\n",
      "Epoch 2/6, Validation:   0%|                                    | 0/227 [00:00<?, ?it/s]"
     ]
    },
    {
     "name": "stdout",
     "output_type": "stream",
     "text": [
      "train loss: 0.56408, test loss: 0.61080\n"
     ]
    },
    {
     "name": "stderr",
     "output_type": "stream",
     "text": [
      "Epoch 2/6, Training: 100%|████████████████████████████| 200/200 [02:26<00:00,  1.36it/s]\n",
      "Epoch 2/6, Validation: 100%|██████████████████████████| 227/227 [03:37<00:00,  1.04it/s]\n",
      "Epoch 3/6, Validation:   0%|                                    | 0/227 [00:00<?, ?it/s]"
     ]
    },
    {
     "name": "stdout",
     "output_type": "stream",
     "text": [
      "train loss: 0.55443, test loss: 0.61385\n"
     ]
    },
    {
     "name": "stderr",
     "output_type": "stream",
     "text": [
      "Epoch 3/6, Training: 100%|████████████████████████████| 200/200 [02:27<00:00,  1.36it/s]\n",
      "Epoch 3/6, Validation: 100%|██████████████████████████| 227/227 [03:37<00:00,  1.04it/s]\n",
      "Epoch 4/6, Validation:   0%|                                    | 0/227 [00:00<?, ?it/s]"
     ]
    },
    {
     "name": "stdout",
     "output_type": "stream",
     "text": [
      "train loss: 0.54706, test loss: 0.61337\n"
     ]
    },
    {
     "name": "stderr",
     "output_type": "stream",
     "text": [
      "Epoch 4/6, Training: 100%|████████████████████████████| 200/200 [02:26<00:00,  1.36it/s]\n",
      "Epoch 4/6, Validation: 100%|██████████████████████████| 227/227 [03:37<00:00,  1.04it/s]\n",
      "Epoch 5/6, Validation:   0%|                                    | 0/227 [00:00<?, ?it/s]"
     ]
    },
    {
     "name": "stdout",
     "output_type": "stream",
     "text": [
      "train loss: 0.54549, test loss: 0.60800\n"
     ]
    },
    {
     "name": "stderr",
     "output_type": "stream",
     "text": [
      "Epoch 5/6, Training: 100%|████████████████████████████| 200/200 [02:27<00:00,  1.36it/s]\n",
      "Epoch 5/6, Validation: 100%|██████████████████████████| 227/227 [03:37<00:00,  1.04it/s]\n",
      "Epoch 0/6, Validation:   0%|                                    | 0/227 [00:00<?, ?it/s]"
     ]
    },
    {
     "name": "stdout",
     "output_type": "stream",
     "text": [
      "train loss: 0.53841, test loss: 0.60167\n"
     ]
    },
    {
     "name": "stderr",
     "output_type": "stream",
     "text": [
      "Epoch 0/6, Training: 100%|████████████████████████████| 200/200 [02:22<00:00,  1.40it/s]\n",
      "Epoch 0/6, Validation: 100%|██████████████████████████| 227/227 [03:32<00:00,  1.07it/s]\n",
      "Epoch 1/6, Validation:   0%|                                    | 0/227 [00:00<?, ?it/s]"
     ]
    },
    {
     "name": "stdout",
     "output_type": "stream",
     "text": [
      "train loss: 0.62954, test loss: 0.62591\n"
     ]
    },
    {
     "name": "stderr",
     "output_type": "stream",
     "text": [
      "Epoch 1/6, Training: 100%|████████████████████████████| 200/200 [02:23<00:00,  1.40it/s]\n",
      "Epoch 1/6, Validation: 100%|██████████████████████████| 227/227 [03:33<00:00,  1.06it/s]\n",
      "Epoch 2/6, Validation:   0%|                                    | 0/227 [00:00<?, ?it/s]"
     ]
    },
    {
     "name": "stdout",
     "output_type": "stream",
     "text": [
      "train loss: 0.61211, test loss: 0.62518\n"
     ]
    },
    {
     "name": "stderr",
     "output_type": "stream",
     "text": [
      "Epoch 2/6, Training: 100%|████████████████████████████| 200/200 [02:23<00:00,  1.40it/s]\n",
      "Epoch 2/6, Validation: 100%|██████████████████████████| 227/227 [03:33<00:00,  1.06it/s]\n",
      "Epoch 3/6, Validation:   0%|                                    | 0/227 [00:00<?, ?it/s]"
     ]
    },
    {
     "name": "stdout",
     "output_type": "stream",
     "text": [
      "train loss: 0.59303, test loss: 0.61176\n"
     ]
    },
    {
     "name": "stderr",
     "output_type": "stream",
     "text": [
      "Epoch 3/6, Training: 100%|████████████████████████████| 200/200 [02:23<00:00,  1.40it/s]\n",
      "Epoch 3/6, Validation: 100%|██████████████████████████| 227/227 [03:33<00:00,  1.06it/s]\n",
      "Epoch 4/6, Validation:   0%|                                    | 0/227 [00:00<?, ?it/s]"
     ]
    },
    {
     "name": "stdout",
     "output_type": "stream",
     "text": [
      "train loss: 0.57838, test loss: 0.61410\n"
     ]
    },
    {
     "name": "stderr",
     "output_type": "stream",
     "text": [
      "Epoch 4/6, Training: 100%|████████████████████████████| 200/200 [02:23<00:00,  1.39it/s]\n",
      "Epoch 4/6, Validation: 100%|██████████████████████████| 227/227 [03:33<00:00,  1.06it/s]\n",
      "Epoch 5/6, Validation:   0%|                                    | 0/227 [00:00<?, ?it/s]"
     ]
    },
    {
     "name": "stdout",
     "output_type": "stream",
     "text": [
      "train loss: 0.57123, test loss: 0.61088\n"
     ]
    },
    {
     "name": "stderr",
     "output_type": "stream",
     "text": [
      "Epoch 5/6, Training: 100%|████████████████████████████| 200/200 [02:23<00:00,  1.40it/s]\n",
      "Epoch 5/6, Validation: 100%|██████████████████████████| 227/227 [03:33<00:00,  1.06it/s]\n",
      "Epoch 0/6, Validation:   0%|                                    | 0/227 [00:00<?, ?it/s]"
     ]
    },
    {
     "name": "stdout",
     "output_type": "stream",
     "text": [
      "train loss: 0.56753, test loss: 0.61003\n"
     ]
    },
    {
     "name": "stderr",
     "output_type": "stream",
     "text": [
      "Epoch 0/6, Training: 100%|████████████████████████████| 200/200 [02:24<00:00,  1.38it/s]\n",
      "Epoch 0/6, Validation: 100%|██████████████████████████| 227/227 [03:35<00:00,  1.06it/s]\n",
      "Epoch 1/6, Validation:   0%|                                    | 0/227 [00:00<?, ?it/s]"
     ]
    },
    {
     "name": "stdout",
     "output_type": "stream",
     "text": [
      "train loss: 0.63825, test loss: 0.61072\n"
     ]
    },
    {
     "name": "stderr",
     "output_type": "stream",
     "text": [
      "Epoch 1/6, Training: 100%|████████████████████████████| 200/200 [02:24<00:00,  1.38it/s]\n",
      "Epoch 1/6, Validation: 100%|██████████████████████████| 227/227 [03:35<00:00,  1.05it/s]\n",
      "Epoch 2/6, Validation:   0%|                                    | 0/227 [00:00<?, ?it/s]"
     ]
    },
    {
     "name": "stdout",
     "output_type": "stream",
     "text": [
      "train loss: 0.59759, test loss: 0.59572\n"
     ]
    },
    {
     "name": "stderr",
     "output_type": "stream",
     "text": [
      "Epoch 2/6, Training: 100%|████████████████████████████| 200/200 [02:25<00:00,  1.38it/s]\n",
      "Epoch 2/6, Validation: 100%|██████████████████████████| 227/227 [03:35<00:00,  1.05it/s]\n",
      "Epoch 3/6, Validation:   0%|                                    | 0/227 [00:00<?, ?it/s]"
     ]
    },
    {
     "name": "stdout",
     "output_type": "stream",
     "text": [
      "train loss: 0.59602, test loss: 0.59866\n"
     ]
    },
    {
     "name": "stderr",
     "output_type": "stream",
     "text": [
      "Epoch 3/6, Training: 100%|████████████████████████████| 200/200 [02:25<00:00,  1.38it/s]\n",
      "Epoch 3/6, Validation: 100%|██████████████████████████| 227/227 [03:35<00:00,  1.05it/s]\n",
      "Epoch 4/6, Validation:   0%|                                    | 0/227 [00:00<?, ?it/s]"
     ]
    },
    {
     "name": "stdout",
     "output_type": "stream",
     "text": [
      "train loss: 0.59040, test loss: 0.60477\n"
     ]
    },
    {
     "name": "stderr",
     "output_type": "stream",
     "text": [
      "Epoch 4/6, Training: 100%|████████████████████████████| 200/200 [02:24<00:00,  1.38it/s]\n",
      "Epoch 4/6, Validation: 100%|██████████████████████████| 227/227 [03:34<00:00,  1.06it/s]\n",
      "Epoch 5/6, Validation:   0%|                                    | 0/227 [00:00<?, ?it/s]"
     ]
    },
    {
     "name": "stdout",
     "output_type": "stream",
     "text": [
      "train loss: 0.57802, test loss: 0.60087\n"
     ]
    },
    {
     "name": "stderr",
     "output_type": "stream",
     "text": [
      "Epoch 5/6, Training: 100%|████████████████████████████| 200/200 [02:24<00:00,  1.39it/s]\n",
      "Epoch 5/6, Validation: 100%|██████████████████████████| 227/227 [03:34<00:00,  1.06it/s]"
     ]
    },
    {
     "name": "stdout",
     "output_type": "stream",
     "text": [
      "train loss: 0.57158, test loss: 0.60276\n"
     ]
    },
    {
     "name": "stderr",
     "output_type": "stream",
     "text": [
      "\n"
     ]
    }
   ],
   "source": [
    "EMBEDDING_DIM = 20\n",
    "HIDDEN_DIM = 100\n",
    "TAGSET_SIZE = 2\n",
    "NUM_EPOCHS = 6\n",
    "model_list = []\n",
    "\n",
    "for model_idx in range(9):\n",
    "    \n",
    "    train_data = []\n",
    "    for link_idx in np.random.choice(200,size=200,replace=True):\n",
    "        train_data.append(link_dataset[link_idx])\n",
    "    \n",
    "    model = LSTMTagger(EMBEDDING_DIM, HIDDEN_DIM, TAGSET_SIZE)\n",
    "    model.cuda()\n",
    "    loss_function = nn.NLLLoss(weight=torch.tensor([2.0,1.0])).cuda()\n",
    "    optimizer = optim.Adam(model.parameters(), 0.001)\n",
    "\n",
    "    model.train()\n",
    "    for epoch_idx in range(NUM_EPOCHS):  \n",
    "\n",
    "        progress_training_epoch = tqdm(\n",
    "            train_data, \n",
    "            desc=f'Epoch {epoch_idx}/{NUM_EPOCHS}, Training',\n",
    "            miniters=1, ncols=88, position=0,\n",
    "            leave=True, total=len(train_data), smoothing=.9)\n",
    "\n",
    "        progress_validation_epoch = tqdm(\n",
    "            test_data, \n",
    "            desc=f'Epoch {epoch_idx}/{NUM_EPOCHS}, Validation',\n",
    "            miniters=1, ncols=88, position=0, \n",
    "            leave=True, total=len(test_data), smoothing=.9)\n",
    "\n",
    "        train_loss = 0\n",
    "        train_size = 0\n",
    "        model.train()\n",
    "        for idx, (sentence, tags) in enumerate(progress_training_epoch):\n",
    "            sentence = sentence.cuda()\n",
    "            tags = tags.cuda()\n",
    "            model.zero_grad()\n",
    "            tag_scores = model(sentence)\n",
    "            loss = loss_function(tag_scores, tags)\n",
    "            loss.backward()\n",
    "            optimizer.step()\n",
    "            train_loss += loss * tags.size()[0]\n",
    "            train_size += tags.size()[0]\n",
    "\n",
    "        test_loss = 0\n",
    "        test_size = 0\n",
    "        model.eval()\n",
    "        with torch.no_grad():\n",
    "            for idx, (sentence, tags) in enumerate(progress_validation_epoch):\n",
    "                sentence = sentence.cuda()\n",
    "                tags = tags.cuda()\n",
    "                tag_scores = model(sentence)\n",
    "                loss = loss_function(tag_scores, tags) \n",
    "                test_loss += loss * tags.size()[0]\n",
    "                test_size += tags.size()[0]\n",
    "\n",
    "        print(f'train loss:{train_loss.item()/train_size: .5f}, '\n",
    "              f'test loss:{test_loss.item()/test_size: .5f}')\n",
    "        \n",
    "    model_list.append(model)"
   ]
  },
  {
   "cell_type": "markdown",
   "metadata": {},
   "source": [
    "# Test"
   ]
  },
  {
   "cell_type": "code",
   "execution_count": 9,
   "metadata": {},
   "outputs": [
    {
     "name": "stderr",
     "output_type": "stream",
     "text": [
      "Epoch 5/6, Validation: 100%|██████████████████████████| 227/227 [00:40<00:00,  5.67it/s]\n",
      "Epoch 5/6, Validation: 100%|██████████████████████████| 227/227 [00:39<00:00,  5.77it/s]\n",
      "Epoch 5/6, Validation: 100%|██████████████████████████| 227/227 [00:39<00:00,  5.72it/s]\n",
      "Epoch 5/6, Validation: 100%|██████████████████████████| 227/227 [00:39<00:00,  5.76it/s]\n",
      "Epoch 5/6, Validation: 100%|██████████████████████████| 227/227 [00:39<00:00,  5.76it/s]\n",
      "Epoch 5/6, Validation: 100%|██████████████████████████| 227/227 [00:39<00:00,  5.76it/s]\n",
      "Epoch 5/6, Validation: 100%|██████████████████████████| 227/227 [00:39<00:00,  5.76it/s]\n",
      "Epoch 5/6, Validation: 100%|██████████████████████████| 227/227 [00:39<00:00,  5.76it/s]\n",
      "Epoch 5/6, Validation: 100%|██████████████████████████| 227/227 [00:39<00:00,  5.76it/s]\n"
     ]
    },
    {
     "name": "stdout",
     "output_type": "stream",
     "text": [
      "True Positive:2710940, True Negative:376518, False Positive:744326, False Negative:230866\n"
     ]
    }
   ],
   "source": [
    "predict_agg = []\n",
    "target_agg = []\n",
    "\n",
    "for model in model_list:\n",
    "    \n",
    "    progress_validation_epoch = tqdm(\n",
    "        test_data, \n",
    "        desc=f'Epoch {epoch_idx}/{NUM_EPOCHS}, Validation',\n",
    "        miniters=1, ncols=88, position=0, \n",
    "        leave=True, total=len(test_data), smoothing=.9)\n",
    "    \n",
    "    predict = []\n",
    "    target = []\n",
    "    model.eval()\n",
    "    with torch.no_grad():\n",
    "        for idx, (sentence, tags) in enumerate(progress_validation_epoch):\n",
    "            sentence = sentence.cuda()\n",
    "            tags = tags.cuda()\n",
    "            tag_scores = model(sentence)\n",
    "            predict.append(tag_scores.argmax(dim=1).cpu().numpy())\n",
    "            target.append(tags.cpu().numpy())        \n",
    "    predict = np.concatenate(predict, axis=0)\n",
    "    target = np.concatenate(target, axis=0)\n",
    "    \n",
    "    predict_agg.append(predict)\n",
    "    target_agg.append(target)\n",
    "    \n",
    "predict = (np.array(predict_agg).sum(axis=0) > 4.5)\n",
    "target = target_agg[0]\n",
    "tp = predict[target==1].sum()\n",
    "tn = (target==0).sum() - predict[target==0].sum()\n",
    "fp = predict[target==0].sum()\n",
    "fn = (target==1).sum() - predict[target==1].sum()\n",
    "\n",
    "print(f'True Positive:{tp}, '\n",
    "      f'True Negative:{tn}, '\n",
    "      f'False Positive:{fp}, '\n",
    "      f'False Negative:{fn}')\n"
   ]
  },
  {
   "cell_type": "code",
   "execution_count": 10,
   "metadata": {},
   "outputs": [
    {
     "name": "stdout",
     "output_type": "stream",
     "text": [
      "Accuracy:0.7599616014177938, Positive Accuracy:0.7845821421563491, Negative Accuracy:0.6199010839929929, Weighted Accuracy:0.702241613074671\n"
     ]
    }
   ],
   "source": [
    "accr = (tp+tn)/(tp+tn+fp+fn)\n",
    "posaccr = tp/(tp+fp)\n",
    "negaccr = tn/(tn+fn)\n",
    "print(f'Accuracy:{accr}, '\n",
    "      f'Positive Accuracy:{posaccr}, '\n",
    "      f'Negative Accuracy:{negaccr}, '\n",
    "      f'Weighted Accuracy:{0.5*(posaccr+negaccr)}')"
   ]
  },
  {
   "cell_type": "code",
   "execution_count": null,
   "metadata": {},
   "outputs": [],
   "source": []
  }
 ],
 "metadata": {
  "kernelspec": {
   "display_name": "Python 3",
   "language": "python",
   "name": "python3"
  },
  "language_info": {
   "codemirror_mode": {
    "name": "ipython",
    "version": 3
   },
   "file_extension": ".py",
   "mimetype": "text/x-python",
   "name": "python",
   "nbconvert_exporter": "python",
   "pygments_lexer": "ipython3",
   "version": "3.7.5"
  }
 },
 "nbformat": 4,
 "nbformat_minor": 2
}
