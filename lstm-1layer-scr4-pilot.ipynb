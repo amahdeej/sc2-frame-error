{
 "cells": [
  {
   "cell_type": "markdown",
   "metadata": {},
   "source": [
    "# Libraries"
   ]
  },
  {
   "cell_type": "code",
   "execution_count": 1,
   "metadata": {},
   "outputs": [],
   "source": [
    "import sqlite3\n",
    "import numpy as np\n",
    "from collections import OrderedDict, namedtuple\n",
    "from distutils.spawn import find_executable\n",
    "import matplotlib.pyplot as plt\n",
    "\n",
    "import sys\n",
    "import subprocess\n",
    "import pathlib\n",
    "import tempfile\n",
    "import importlib\n",
    "import os\n",
    "import time\n",
    "import random\n",
    "import pickle\n",
    "\n",
    "import math\n",
    "\n",
    "from configparser import ConfigParser\n",
    "\n",
    "# from google.protobuf.json_format import MessageToDict"
   ]
  },
  {
   "cell_type": "code",
   "execution_count": 2,
   "metadata": {},
   "outputs": [],
   "source": [
    "# DEVICE = 0\n",
    "\n",
    "import os\n",
    "import time\n",
    "import pickle\n",
    "import numpy as np\n",
    "from tqdm import tqdm\n",
    "import matplotlib.pyplot as plt\n",
    "import seaborn as sn\n",
    "import pandas as pd\n",
    "\n",
    "import torch\n",
    "torch.backends.cudnn.benchmark = True\n",
    "import torch.optim as optim\n",
    "import torch.nn as nn\n",
    "import torch.nn.functional as F\n",
    "from torch.autograd import Variable\n",
    "from torch.utils import data\n",
    "\n",
    "# torch.cuda.set_device(DEVICE)\n",
    "torch.cuda.empty_cache() \n",
    "torch.backends.cudnn.benchmark=True"
   ]
  },
  {
   "cell_type": "code",
   "execution_count": 3,
   "metadata": {},
   "outputs": [],
   "source": [
    "np.random.seed(0)\n",
    "torch.manual_seed(0)\n",
    "\n",
    "import os\n",
    "os.environ['CUDA_VISIBLE_DEVICES']='0'"
   ]
  },
  {
   "cell_type": "markdown",
   "metadata": {},
   "source": [
    "# load the dataset"
   ]
  },
  {
   "cell_type": "code",
   "execution_count": 4,
   "metadata": {},
   "outputs": [],
   "source": [
    "with open('scrimmage4_link_dataset.pickle', 'rb') as file:\n",
    "    link_dataset = pickle.load(file)"
   ]
  },
  {
   "cell_type": "code",
   "execution_count": 5,
   "metadata": {},
   "outputs": [],
   "source": [
    "train_x_npn = []\n",
    "train_y_npn = []\n",
    "test_x_npn = []\n",
    "test_y_npn = []\n",
    "\n",
    "train_data = []\n",
    "test_data = []\n",
    "\n",
    "\n",
    "for i in range(len(link_dataset)):\n",
    "    datalen = len(link_dataset[i][1])\n",
    "    trainlen = round(datalen*2/3)\n",
    "    testlen = datalen -trainlen        \n",
    "    train_x_npn = link_dataset[i][0][0:trainlen].numpy()   \n",
    "    train_y_npn = link_dataset[i][1][0:trainlen].numpy()\n",
    "    test_x_npn = link_dataset[i][0][trainlen:trainlen+testlen].numpy()\n",
    "    test_y_npn = link_dataset[i][1][trainlen:trainlen+testlen].numpy()\n",
    "\n",
    "    train_data.append([torch.from_numpy(train_x_npn), torch.from_numpy(train_y_npn)])\n",
    "    test_data.append([torch.from_numpy(test_x_npn), torch.from_numpy(test_y_npn)])"
   ]
  },
  {
   "cell_type": "code",
   "execution_count": 6,
   "metadata": {},
   "outputs": [],
   "source": [
    "class LSTMTagger(nn.Module):\n",
    "\n",
    "    def __init__(self, embedding_dim, hidden_dim, tagset_size):\n",
    "        super(LSTMTagger, self).__init__()\n",
    "        self.hidden_dim = hidden_dim\n",
    "\n",
    "        # The LSTM takes word embeddings as inputs, and outputs hidden states\n",
    "        # with dimensionality hidden_dim.\n",
    "        self.lstm = nn.LSTM(embedding_dim, hidden_dim)\n",
    "\n",
    "        # The linear layer that maps from hidden state space to tag space\n",
    "        self.hidden2tag = nn.Linear(hidden_dim, tagset_size)\n",
    "\n",
    "    def forward(self, sentence):\n",
    "        lstm_out, _ = self.lstm(sentence.view(len(sentence), 1, -1))\n",
    "        tag_space = self.hidden2tag(lstm_out.view(len(sentence), -1))\n",
    "        tag_scores = F.log_softmax(tag_space, dim=1)\n",
    "        return tag_scores"
   ]
  },
  {
   "cell_type": "markdown",
   "metadata": {},
   "source": [
    "# Train Model 10 Epoch"
   ]
  },
  {
   "cell_type": "code",
   "execution_count": 7,
   "metadata": {
    "scrolled": false
   },
   "outputs": [
    {
     "name": "stderr",
     "output_type": "stream",
     "text": [
      "Epoch 0/10, Training: 100%|███████████████████████████| 284/284 [05:40<00:00,  1.20s/it]\n",
      "Epoch 0/10, Validation: 100%|█████████████████████████| 284/284 [06:58<00:00,  1.47s/it]\n",
      "Epoch 1/10, Validation:   0%|                                   | 0/284 [00:00<?, ?it/s]"
     ]
    },
    {
     "name": "stdout",
     "output_type": "stream",
     "text": [
      "train loss: 0.56100, test loss: 0.56258\n"
     ]
    },
    {
     "name": "stderr",
     "output_type": "stream",
     "text": [
      "Epoch 1/10, Training: 100%|███████████████████████████| 284/284 [05:41<00:00,  1.20s/it]\n",
      "Epoch 1/10, Validation: 100%|█████████████████████████| 284/284 [07:00<00:00,  1.48s/it]\n",
      "Epoch 2/10, Validation:   0%|                                   | 0/284 [00:00<?, ?it/s]"
     ]
    },
    {
     "name": "stdout",
     "output_type": "stream",
     "text": [
      "train loss: 0.53797, test loss: 0.54172\n"
     ]
    },
    {
     "name": "stderr",
     "output_type": "stream",
     "text": [
      "Epoch 2/10, Training: 100%|███████████████████████████| 284/284 [05:41<00:00,  1.20s/it]\n",
      "Epoch 2/10, Validation: 100%|█████████████████████████| 284/284 [07:00<00:00,  1.48s/it]\n",
      "Epoch 3/10, Validation:   0%|                                   | 0/284 [00:00<?, ?it/s]"
     ]
    },
    {
     "name": "stdout",
     "output_type": "stream",
     "text": [
      "train loss: 0.53564, test loss: 0.54181\n"
     ]
    },
    {
     "name": "stderr",
     "output_type": "stream",
     "text": [
      "Epoch 3/10, Training: 100%|███████████████████████████| 284/284 [05:42<00:00,  1.21s/it]\n",
      "Epoch 3/10, Validation: 100%|█████████████████████████| 284/284 [07:00<00:00,  1.48s/it]\n",
      "Epoch 4/10, Validation:   0%|                                   | 0/284 [00:00<?, ?it/s]"
     ]
    },
    {
     "name": "stdout",
     "output_type": "stream",
     "text": [
      "train loss: 0.53428, test loss: 0.54196\n"
     ]
    },
    {
     "name": "stderr",
     "output_type": "stream",
     "text": [
      "Epoch 4/10, Training: 100%|███████████████████████████| 284/284 [05:40<00:00,  1.20s/it]\n",
      "Epoch 4/10, Validation: 100%|█████████████████████████| 284/284 [06:58<00:00,  1.47s/it]\n",
      "Epoch 5/10, Validation:   0%|                                   | 0/284 [00:00<?, ?it/s]"
     ]
    },
    {
     "name": "stdout",
     "output_type": "stream",
     "text": [
      "train loss: 0.53264, test loss: 0.54200\n"
     ]
    },
    {
     "name": "stderr",
     "output_type": "stream",
     "text": [
      "Epoch 5/10, Training: 100%|███████████████████████████| 284/284 [05:39<00:00,  1.20s/it]\n",
      "Epoch 5/10, Validation: 100%|█████████████████████████| 284/284 [06:57<00:00,  1.47s/it]\n",
      "Epoch 6/10, Validation:   0%|                                   | 0/284 [00:00<?, ?it/s]"
     ]
    },
    {
     "name": "stdout",
     "output_type": "stream",
     "text": [
      "train loss: 0.53020, test loss: 0.54934\n"
     ]
    },
    {
     "name": "stderr",
     "output_type": "stream",
     "text": [
      "Epoch 6/10, Training: 100%|███████████████████████████| 284/284 [05:40<00:00,  1.20s/it]\n",
      "Epoch 6/10, Validation: 100%|█████████████████████████| 284/284 [06:40<00:00,  1.41s/it]\n",
      "Epoch 7/10, Validation:   0%|                                   | 0/284 [00:00<?, ?it/s]"
     ]
    },
    {
     "name": "stdout",
     "output_type": "stream",
     "text": [
      "train loss: 0.52663, test loss: 0.54797\n"
     ]
    },
    {
     "name": "stderr",
     "output_type": "stream",
     "text": [
      "Epoch 7/10, Training: 100%|███████████████████████████| 284/284 [03:11<00:00,  1.48it/s]\n",
      "Epoch 7/10, Validation: 100%|█████████████████████████| 284/284 [03:52<00:00,  1.22it/s]\n",
      "Epoch 8/10, Training:   0%|                             | 1/284 [00:00<00:56,  5.05it/s]"
     ]
    },
    {
     "name": "stdout",
     "output_type": "stream",
     "text": [
      "train loss: 0.52323, test loss: 0.54965\n"
     ]
    },
    {
     "name": "stderr",
     "output_type": "stream",
     "text": [
      "Epoch 8/10, Training: 100%|███████████████████████████| 284/284 [03:06<00:00,  1.52it/s]\n",
      "Epoch 8/10, Validation: 100%|█████████████████████████| 284/284 [03:48<00:00,  1.24it/s]\n",
      "Epoch 9/10, Validation:   0%|                                   | 0/284 [00:00<?, ?it/s]"
     ]
    },
    {
     "name": "stdout",
     "output_type": "stream",
     "text": [
      "train loss: 0.52036, test loss: 0.55179\n"
     ]
    },
    {
     "name": "stderr",
     "output_type": "stream",
     "text": [
      "Epoch 9/10, Training: 100%|███████████████████████████| 284/284 [03:06<00:00,  1.52it/s]\n",
      "Epoch 9/10, Validation: 100%|█████████████████████████| 284/284 [03:48<00:00,  1.24it/s]\n"
     ]
    },
    {
     "name": "stdout",
     "output_type": "stream",
     "text": [
      "train loss: 0.51796, test loss: 0.54505\n"
     ]
    }
   ],
   "source": [
    "EMBEDDING_DIM = 20\n",
    "HIDDEN_DIM = 100\n",
    "TAGSET_SIZE = 2\n",
    "NUM_EPOCHS = 10\n",
    "\n",
    "model = LSTMTagger(EMBEDDING_DIM, HIDDEN_DIM, TAGSET_SIZE).cuda()\n",
    "model.cuda()\n",
    "\n",
    "loss_function = nn.NLLLoss().cuda()\n",
    "optimizer = optim.Adam(model.parameters(), 0.001)\n",
    "\n",
    "for epoch_idx in range(NUM_EPOCHS): \n",
    "\n",
    "    progress_training_epoch = tqdm(\n",
    "        train_data, \n",
    "        desc=f'Epoch {epoch_idx}/{NUM_EPOCHS}, Training',\n",
    "        miniters=1, ncols=88, position=0,\n",
    "        leave=True, total=len(train_data), smoothing=.9)\n",
    "\n",
    "    progress_validation_epoch = tqdm(\n",
    "        test_data, \n",
    "        desc=f'Epoch {epoch_idx}/{NUM_EPOCHS}, Validation',\n",
    "        miniters=1, ncols=88, position=0, \n",
    "        leave=True, total=len(test_data), smoothing=.9)\n",
    "\n",
    "    train_loss = 0\n",
    "    train_size = 0\n",
    "    model.train()\n",
    "    for idx, (sentence, tags) in enumerate(progress_training_epoch):\n",
    "        sentence = sentence.cuda()\n",
    "        tags = tags.cuda()\n",
    "        model.zero_grad()\n",
    "        tag_scores = model(sentence)\n",
    "        loss = loss_function(tag_scores, tags)\n",
    "        loss.backward()\n",
    "        optimizer.step()\n",
    "        train_loss += loss * tags.size()[0]\n",
    "        train_size += tags.size()[0]\n",
    "\n",
    "    test_loss = 0\n",
    "    test_size = 0\n",
    "    predict = []\n",
    "    target = []\n",
    "    model.eval()\n",
    "    with torch.no_grad():\n",
    "        for idx, (sentence, tags) in enumerate(progress_validation_epoch):\n",
    "            sentence = sentence.cuda()\n",
    "            tags = tags.cuda()\n",
    "            tag_scores = model(sentence)\n",
    "            loss = loss_function(tag_scores, tags)\n",
    "            predict.append(tag_scores.argmax(dim=1).cpu().numpy())\n",
    "            target.append(tags.cpu().numpy())        \n",
    "            test_loss += loss * tags.size()[0]\n",
    "            test_size += tags.size()[0]\n",
    "    predict = np.concatenate(predict, axis=0)\n",
    "    target = np.concatenate(target, axis=0)\n",
    "\n",
    "    print(f'train loss:{train_loss.item()/train_size: .5f}, '\n",
    "          f'test loss:{test_loss.item()/test_size: .5f}')"
   ]
  },
  {
   "cell_type": "markdown",
   "metadata": {},
   "source": [
    "# Test"
   ]
  },
  {
   "cell_type": "code",
   "execution_count": 8,
   "metadata": {},
   "outputs": [
    {
     "name": "stderr",
     "output_type": "stream",
     "text": [
      "Epoch 9/10, Validation: 100%|█████████████████████████| 284/284 [00:43<00:00,  6.57it/s]\n"
     ]
    },
    {
     "name": "stdout",
     "output_type": "stream",
     "text": [
      "True Positive:1084080, True Negative:522956, False Positive:444043, False Negative:123003\n"
     ]
    }
   ],
   "source": [
    "progress_validation_epoch = tqdm(\n",
    "    test_data, \n",
    "    desc=f'Epoch {epoch_idx}/{NUM_EPOCHS}, Validation',\n",
    "    miniters=1, ncols=88, position=0, \n",
    "    leave=True, total=len(test_data), smoothing=.9)\n",
    "\n",
    "predict = []\n",
    "target = []\n",
    "model.eval()\n",
    "with torch.no_grad():\n",
    "    for idx, (sentence, tags) in enumerate(progress_validation_epoch):\n",
    "        sentence = sentence.cuda()\n",
    "        tags = tags.cuda()\n",
    "        tag_scores = model(sentence)\n",
    "        predict.append(tag_scores.argmax(dim=1).cpu().numpy())\n",
    "        target.append(tags.cpu().numpy())        \n",
    "predict = np.concatenate(predict, axis=0)\n",
    "target = np.concatenate(target, axis=0)\n",
    "\n",
    "tp = predict[target==1].sum()\n",
    "tn = (target==0).sum() - predict[target==0].sum()\n",
    "fp = predict[target==0].sum()\n",
    "fn = (target==1).sum() - predict[target==1].sum()\n",
    "\n",
    "print(f'True Positive:{tp}, '\n",
    "      f'True Negative:{tn}, '\n",
    "      f'False Positive:{fp}, '\n",
    "      f'False Negative:{fn}')\n"
   ]
  },
  {
   "cell_type": "code",
   "execution_count": 9,
   "metadata": {},
   "outputs": [
    {
     "name": "stdout",
     "output_type": "stream",
     "text": [
      "Accuracy:0.7391791109994931, Positive Accuracy:0.7094193333913565, Negative Accuracy:0.8095807938274721, Weighted Accuracy:0.7595000636094142\n"
     ]
    }
   ],
   "source": [
    "accr = (tp+tn)/(tp+tn+fp+fn)\n",
    "posaccr = tp/(tp+fp)\n",
    "negaccr = tn/(tn+fn)\n",
    "print(f'Accuracy:{accr}, '\n",
    "      f'Positive Accuracy:{posaccr}, '\n",
    "      f'Negative Accuracy:{negaccr}, '\n",
    "      f'Weighted Accuracy:{0.5*(posaccr+negaccr)}')"
   ]
  },
  {
   "cell_type": "markdown",
   "metadata": {},
   "source": [
    "# Bagging 9"
   ]
  },
  {
   "cell_type": "code",
   "execution_count": 10,
   "metadata": {},
   "outputs": [],
   "source": [
    "with open('scrimmage4_link_dataset.pickle', 'rb') as file:\n",
    "    link_dataset = pickle.load(file)"
   ]
  },
  {
   "cell_type": "code",
   "execution_count": 11,
   "metadata": {
    "scrolled": false
   },
   "outputs": [
    {
     "name": "stderr",
     "output_type": "stream",
     "text": [
      "Epoch 0/3, Training: 100%|████████████████████████████| 200/200 [02:32<00:00,  1.31it/s]\n",
      "Epoch 0/3, Validation: 100%|██████████████████████████| 284/284 [03:14<00:00,  1.46it/s]\n",
      "Epoch 1/3, Validation:   0%|                                    | 0/284 [00:00<?, ?it/s]"
     ]
    },
    {
     "name": "stdout",
     "output_type": "stream",
     "text": [
      "train loss: 0.52637, test loss: 0.61945\n"
     ]
    },
    {
     "name": "stderr",
     "output_type": "stream",
     "text": [
      "Epoch 1/3, Training: 100%|████████████████████████████| 200/200 [02:33<00:00,  1.30it/s]\n",
      "Epoch 1/3, Validation: 100%|██████████████████████████| 284/284 [03:15<00:00,  1.45it/s]\n",
      "Epoch 2/3, Validation:   0%|                                    | 0/284 [00:00<?, ?it/s]"
     ]
    },
    {
     "name": "stdout",
     "output_type": "stream",
     "text": [
      "train loss: 0.48752, test loss: 0.60570\n"
     ]
    },
    {
     "name": "stderr",
     "output_type": "stream",
     "text": [
      "Epoch 2/3, Training: 100%|████████████████████████████| 200/200 [02:33<00:00,  1.30it/s]\n",
      "Epoch 2/3, Validation: 100%|██████████████████████████| 284/284 [03:15<00:00,  1.45it/s]\n",
      "Epoch 0/3, Validation:   0%|                                    | 0/284 [00:00<?, ?it/s]"
     ]
    },
    {
     "name": "stdout",
     "output_type": "stream",
     "text": [
      "train loss: 0.47997, test loss: 0.59305\n"
     ]
    },
    {
     "name": "stderr",
     "output_type": "stream",
     "text": [
      "Epoch 0/3, Training: 100%|████████████████████████████| 200/200 [02:32<00:00,  1.31it/s]\n",
      "Epoch 0/3, Validation: 100%|██████████████████████████| 284/284 [03:14<00:00,  1.46it/s]\n",
      "Epoch 1/3, Validation:   0%|                                    | 0/284 [00:00<?, ?it/s]"
     ]
    },
    {
     "name": "stdout",
     "output_type": "stream",
     "text": [
      "train loss: 0.51610, test loss: 0.68405\n"
     ]
    },
    {
     "name": "stderr",
     "output_type": "stream",
     "text": [
      "Epoch 1/3, Training: 100%|████████████████████████████| 200/200 [02:33<00:00,  1.30it/s]\n",
      "Epoch 1/3, Validation: 100%|██████████████████████████| 284/284 [03:15<00:00,  1.45it/s]\n",
      "Epoch 2/3, Validation:   0%|                                    | 0/284 [00:00<?, ?it/s]"
     ]
    },
    {
     "name": "stdout",
     "output_type": "stream",
     "text": [
      "train loss: 0.47402, test loss: 0.67790\n"
     ]
    },
    {
     "name": "stderr",
     "output_type": "stream",
     "text": [
      "Epoch 2/3, Training: 100%|████████████████████████████| 200/200 [02:33<00:00,  1.30it/s]\n",
      "Epoch 2/3, Validation: 100%|██████████████████████████| 284/284 [03:15<00:00,  1.45it/s]\n",
      "Epoch 0/3, Validation:   0%|                                    | 0/284 [00:00<?, ?it/s]"
     ]
    },
    {
     "name": "stdout",
     "output_type": "stream",
     "text": [
      "train loss: 0.46551, test loss: 0.65726\n"
     ]
    },
    {
     "name": "stderr",
     "output_type": "stream",
     "text": [
      "Epoch 0/3, Training: 100%|████████████████████████████| 200/200 [02:30<00:00,  1.33it/s]\n",
      "Epoch 0/3, Validation: 100%|██████████████████████████| 284/284 [03:13<00:00,  1.47it/s]\n",
      "Epoch 1/3, Validation:   0%|                                    | 0/284 [00:00<?, ?it/s]"
     ]
    },
    {
     "name": "stdout",
     "output_type": "stream",
     "text": [
      "train loss: 0.51894, test loss: 0.62452\n"
     ]
    },
    {
     "name": "stderr",
     "output_type": "stream",
     "text": [
      "Epoch 1/3, Training: 100%|████████████████████████████| 200/200 [02:29<00:00,  1.33it/s]\n",
      "Epoch 1/3, Validation: 100%|██████████████████████████| 284/284 [03:13<00:00,  1.47it/s]\n",
      "Epoch 2/3, Validation:   0%|                                    | 0/284 [00:00<?, ?it/s]"
     ]
    },
    {
     "name": "stdout",
     "output_type": "stream",
     "text": [
      "train loss: 0.46999, test loss: 0.61700\n"
     ]
    },
    {
     "name": "stderr",
     "output_type": "stream",
     "text": [
      "Epoch 2/3, Training: 100%|████████████████████████████| 200/200 [02:29<00:00,  1.34it/s]\n",
      "Epoch 2/3, Validation: 100%|██████████████████████████| 284/284 [03:12<00:00,  1.48it/s]\n",
      "Epoch 0/3, Validation:   0%|                                    | 0/284 [00:00<?, ?it/s]"
     ]
    },
    {
     "name": "stdout",
     "output_type": "stream",
     "text": [
      "train loss: 0.46562, test loss: 0.60258\n"
     ]
    },
    {
     "name": "stderr",
     "output_type": "stream",
     "text": [
      "Epoch 0/3, Training: 100%|████████████████████████████| 200/200 [02:41<00:00,  1.23it/s]\n",
      "Epoch 0/3, Validation: 100%|██████████████████████████| 284/284 [03:27<00:00,  1.37it/s]\n",
      "Epoch 1/3, Validation:   0%|                                    | 0/284 [00:00<?, ?it/s]"
     ]
    },
    {
     "name": "stdout",
     "output_type": "stream",
     "text": [
      "train loss: 0.54736, test loss: 0.67148\n"
     ]
    },
    {
     "name": "stderr",
     "output_type": "stream",
     "text": [
      "Epoch 1/3, Training: 100%|████████████████████████████| 200/200 [02:41<00:00,  1.24it/s]\n",
      "Epoch 1/3, Validation: 100%|██████████████████████████| 284/284 [03:23<00:00,  1.39it/s]\n",
      "Epoch 2/3, Validation:   0%|                                    | 0/284 [00:00<?, ?it/s]"
     ]
    },
    {
     "name": "stdout",
     "output_type": "stream",
     "text": [
      "train loss: 0.50443, test loss: 0.63552\n"
     ]
    },
    {
     "name": "stderr",
     "output_type": "stream",
     "text": [
      "Epoch 2/3, Training: 100%|████████████████████████████| 200/200 [02:42<00:00,  1.23it/s]\n",
      "Epoch 2/3, Validation: 100%|██████████████████████████| 284/284 [03:24<00:00,  1.39it/s]\n",
      "Epoch 0/3, Validation:   0%|                                    | 0/284 [00:00<?, ?it/s]"
     ]
    },
    {
     "name": "stdout",
     "output_type": "stream",
     "text": [
      "train loss: 0.49696, test loss: 0.65959\n"
     ]
    },
    {
     "name": "stderr",
     "output_type": "stream",
     "text": [
      "Epoch 0/3, Training: 100%|████████████████████████████| 200/200 [02:33<00:00,  1.30it/s]\n",
      "Epoch 0/3, Validation: 100%|██████████████████████████| 284/284 [03:16<00:00,  1.45it/s]\n",
      "Epoch 1/3, Validation:   0%|                                    | 0/284 [00:00<?, ?it/s]"
     ]
    },
    {
     "name": "stdout",
     "output_type": "stream",
     "text": [
      "train loss: 0.51486, test loss: 0.67207\n"
     ]
    },
    {
     "name": "stderr",
     "output_type": "stream",
     "text": [
      "Epoch 1/3, Training: 100%|████████████████████████████| 200/200 [02:34<00:00,  1.30it/s]\n",
      "Epoch 1/3, Validation: 100%|██████████████████████████| 284/284 [03:18<00:00,  1.43it/s]\n",
      "Epoch 2/3, Validation:   0%|                                    | 0/284 [00:00<?, ?it/s]"
     ]
    },
    {
     "name": "stdout",
     "output_type": "stream",
     "text": [
      "train loss: 0.47063, test loss: 0.65771\n"
     ]
    },
    {
     "name": "stderr",
     "output_type": "stream",
     "text": [
      "Epoch 2/3, Training: 100%|████████████████████████████| 200/200 [02:33<00:00,  1.30it/s]\n",
      "Epoch 2/3, Validation: 100%|██████████████████████████| 284/284 [03:16<00:00,  1.45it/s]\n",
      "Epoch 0/3, Validation:   0%|                                    | 0/284 [00:00<?, ?it/s]"
     ]
    },
    {
     "name": "stdout",
     "output_type": "stream",
     "text": [
      "train loss: 0.46510, test loss: 0.66209\n"
     ]
    },
    {
     "name": "stderr",
     "output_type": "stream",
     "text": [
      "Epoch 0/3, Training: 100%|████████████████████████████| 200/200 [02:40<00:00,  1.25it/s]\n",
      "Epoch 0/3, Validation: 100%|██████████████████████████| 284/284 [03:23<00:00,  1.40it/s]\n",
      "Epoch 1/3, Validation:   0%|                                    | 0/284 [00:00<?, ?it/s]"
     ]
    },
    {
     "name": "stdout",
     "output_type": "stream",
     "text": [
      "train loss: 0.55408, test loss: 0.72815\n"
     ]
    },
    {
     "name": "stderr",
     "output_type": "stream",
     "text": [
      "Epoch 1/3, Training: 100%|████████████████████████████| 200/200 [02:41<00:00,  1.24it/s]\n",
      "Epoch 1/3, Validation: 100%|██████████████████████████| 284/284 [03:24<00:00,  1.39it/s]\n",
      "Epoch 2/3, Validation:   0%|                                    | 0/284 [00:00<?, ?it/s]"
     ]
    },
    {
     "name": "stdout",
     "output_type": "stream",
     "text": [
      "train loss: 0.53155, test loss: 0.68205\n"
     ]
    },
    {
     "name": "stderr",
     "output_type": "stream",
     "text": [
      "Epoch 2/3, Training: 100%|████████████████████████████| 200/200 [02:41<00:00,  1.24it/s]\n",
      "Epoch 2/3, Validation: 100%|██████████████████████████| 284/284 [03:23<00:00,  1.39it/s]\n",
      "Epoch 0/3, Validation:   0%|                                    | 0/284 [00:00<?, ?it/s]"
     ]
    },
    {
     "name": "stdout",
     "output_type": "stream",
     "text": [
      "train loss: 0.52351, test loss: 0.66858\n"
     ]
    },
    {
     "name": "stderr",
     "output_type": "stream",
     "text": [
      "Epoch 0/3, Training: 100%|████████████████████████████| 200/200 [02:42<00:00,  1.23it/s]\n",
      "Epoch 0/3, Validation: 100%|██████████████████████████| 284/284 [03:24<00:00,  1.39it/s]\n",
      "Epoch 1/3, Validation:   0%|                                    | 0/284 [00:00<?, ?it/s]"
     ]
    },
    {
     "name": "stdout",
     "output_type": "stream",
     "text": [
      "train loss: 0.52193, test loss: 0.65689\n"
     ]
    },
    {
     "name": "stderr",
     "output_type": "stream",
     "text": [
      "Epoch 1/3, Training: 100%|████████████████████████████| 200/200 [02:42<00:00,  1.23it/s]\n",
      "Epoch 1/3, Validation: 100%|██████████████████████████| 284/284 [03:28<00:00,  1.36it/s]\n",
      "Epoch 2/3, Validation:   0%|                                    | 0/284 [00:00<?, ?it/s]"
     ]
    },
    {
     "name": "stdout",
     "output_type": "stream",
     "text": [
      "train loss: 0.47314, test loss: 0.62247\n"
     ]
    },
    {
     "name": "stderr",
     "output_type": "stream",
     "text": [
      "Epoch 2/3, Training: 100%|████████████████████████████| 200/200 [02:43<00:00,  1.22it/s]\n",
      "Epoch 2/3, Validation: 100%|██████████████████████████| 284/284 [03:26<00:00,  1.37it/s]\n",
      "Epoch 0/3, Validation:   0%|                                    | 0/284 [00:00<?, ?it/s]"
     ]
    },
    {
     "name": "stdout",
     "output_type": "stream",
     "text": [
      "train loss: 0.46500, test loss: 0.60786\n"
     ]
    },
    {
     "name": "stderr",
     "output_type": "stream",
     "text": [
      "Epoch 0/3, Training: 100%|████████████████████████████| 200/200 [02:41<00:00,  1.24it/s]\n",
      "Epoch 0/3, Validation: 100%|██████████████████████████| 284/284 [03:24<00:00,  1.39it/s]\n",
      "Epoch 1/3, Validation:   0%|                                    | 0/284 [00:00<?, ?it/s]"
     ]
    },
    {
     "name": "stdout",
     "output_type": "stream",
     "text": [
      "train loss: 0.56473, test loss: 0.68043\n"
     ]
    },
    {
     "name": "stderr",
     "output_type": "stream",
     "text": [
      "Epoch 1/3, Training: 100%|████████████████████████████| 200/200 [02:38<00:00,  1.26it/s]\n",
      "Epoch 1/3, Validation: 100%|██████████████████████████| 284/284 [03:20<00:00,  1.41it/s]\n",
      "Epoch 2/3, Validation:   0%|                                    | 0/284 [00:00<?, ?it/s]"
     ]
    },
    {
     "name": "stdout",
     "output_type": "stream",
     "text": [
      "train loss: 0.51480, test loss: 0.64163\n"
     ]
    },
    {
     "name": "stderr",
     "output_type": "stream",
     "text": [
      "Epoch 2/3, Training: 100%|████████████████████████████| 200/200 [02:38<00:00,  1.26it/s]\n",
      "Epoch 2/3, Validation: 100%|██████████████████████████| 284/284 [03:22<00:00,  1.41it/s]\n",
      "Epoch 0/3, Validation:   0%|                                    | 0/284 [00:00<?, ?it/s]"
     ]
    },
    {
     "name": "stdout",
     "output_type": "stream",
     "text": [
      "train loss: 0.50344, test loss: 0.63209\n"
     ]
    },
    {
     "name": "stderr",
     "output_type": "stream",
     "text": [
      "Epoch 0/3, Training: 100%|████████████████████████████| 200/200 [02:39<00:00,  1.25it/s]\n",
      "Epoch 0/3, Validation: 100%|██████████████████████████| 284/284 [03:25<00:00,  1.38it/s]\n",
      "Epoch 1/3, Validation:   0%|                                    | 0/284 [00:00<?, ?it/s]"
     ]
    },
    {
     "name": "stdout",
     "output_type": "stream",
     "text": [
      "train loss: 0.54801, test loss: 0.66584\n"
     ]
    },
    {
     "name": "stderr",
     "output_type": "stream",
     "text": [
      "Epoch 1/3, Training: 100%|████████████████████████████| 200/200 [02:42<00:00,  1.23it/s]\n",
      "Epoch 1/3, Validation: 100%|██████████████████████████| 284/284 [03:24<00:00,  1.39it/s]\n",
      "Epoch 2/3, Validation:   0%|                                    | 0/284 [00:00<?, ?it/s]"
     ]
    },
    {
     "name": "stdout",
     "output_type": "stream",
     "text": [
      "train loss: 0.50838, test loss: 0.61845\n"
     ]
    },
    {
     "name": "stderr",
     "output_type": "stream",
     "text": [
      "Epoch 2/3, Training: 100%|████████████████████████████| 200/200 [02:40<00:00,  1.24it/s]\n",
      "Epoch 2/3, Validation: 100%|██████████████████████████| 284/284 [03:23<00:00,  1.39it/s]"
     ]
    },
    {
     "name": "stdout",
     "output_type": "stream",
     "text": [
      "train loss: 0.49943, test loss: 0.56930\n"
     ]
    },
    {
     "name": "stderr",
     "output_type": "stream",
     "text": [
      "\n"
     ]
    }
   ],
   "source": [
    "EMBEDDING_DIM = 20\n",
    "HIDDEN_DIM = 100\n",
    "TAGSET_SIZE = 2\n",
    "NUM_EPOCHS = 3\n",
    "model_list = []\n",
    "\n",
    "for model_idx in range(9):\n",
    "    \n",
    "    train_data = []\n",
    "    for link_idx in np.random.choice(200,size=200,replace=True):\n",
    "        train_data.append(link_dataset[link_idx])\n",
    "    \n",
    "    model = LSTMTagger(EMBEDDING_DIM, HIDDEN_DIM, TAGSET_SIZE)\n",
    "    model.cuda()\n",
    "    loss_function = nn.NLLLoss().cuda()\n",
    "    optimizer = optim.Adam(model.parameters(), 0.001)\n",
    "\n",
    "    model.train()\n",
    "    for epoch_idx in range(NUM_EPOCHS):  \n",
    "\n",
    "        progress_training_epoch = tqdm(\n",
    "            train_data, \n",
    "            desc=f'Epoch {epoch_idx}/{NUM_EPOCHS}, Training',\n",
    "            miniters=1, ncols=88, position=0,\n",
    "            leave=True, total=len(train_data), smoothing=.9)\n",
    "\n",
    "        progress_validation_epoch = tqdm(\n",
    "            test_data, \n",
    "            desc=f'Epoch {epoch_idx}/{NUM_EPOCHS}, Validation',\n",
    "            miniters=1, ncols=88, position=0, \n",
    "            leave=True, total=len(test_data), smoothing=.9)\n",
    "\n",
    "        train_loss = 0\n",
    "        train_size = 0\n",
    "        model.train()\n",
    "        for idx, (sentence, tags) in enumerate(progress_training_epoch):\n",
    "            sentence = sentence.cuda()\n",
    "            tags = tags.cuda()\n",
    "            model.zero_grad()\n",
    "            tag_scores = model(sentence)\n",
    "            loss = loss_function(tag_scores, tags)\n",
    "            loss.backward()\n",
    "            optimizer.step()\n",
    "            train_loss += loss * tags.size()[0]\n",
    "            train_size += tags.size()[0]\n",
    "\n",
    "        test_loss = 0\n",
    "        test_size = 0\n",
    "        model.eval()\n",
    "        with torch.no_grad():\n",
    "            for idx, (sentence, tags) in enumerate(progress_validation_epoch):\n",
    "                sentence = sentence.cuda()\n",
    "                tags = tags.cuda()\n",
    "                tag_scores = model(sentence)\n",
    "                loss = loss_function(tag_scores, tags) \n",
    "                test_loss += loss * tags.size()[0]\n",
    "                test_size += tags.size()[0]\n",
    "\n",
    "        print(f'train loss:{train_loss.item()/train_size: .5f}, '\n",
    "              f'test loss:{test_loss.item()/test_size: .5f}')\n",
    "        \n",
    "    model_list.append(model)"
   ]
  },
  {
   "cell_type": "markdown",
   "metadata": {},
   "source": [
    "# Test"
   ]
  },
  {
   "cell_type": "code",
   "execution_count": 12,
   "metadata": {},
   "outputs": [
    {
     "name": "stderr",
     "output_type": "stream",
     "text": [
      "Epoch 2/3, Validation: 100%|██████████████████████████| 284/284 [00:41<00:00,  6.78it/s]\n",
      "Epoch 2/3, Validation: 100%|██████████████████████████| 284/284 [00:41<00:00,  6.83it/s]\n",
      "Epoch 2/3, Validation: 100%|██████████████████████████| 284/284 [00:42<00:00,  6.65it/s]\n",
      "Epoch 2/3, Validation: 100%|██████████████████████████| 284/284 [00:43<00:00,  6.55it/s]\n",
      "Epoch 2/3, Validation: 100%|██████████████████████████| 284/284 [00:42<00:00,  6.65it/s]\n",
      "Epoch 2/3, Validation: 100%|██████████████████████████| 284/284 [00:41<00:00,  6.80it/s]\n",
      "Epoch 2/3, Validation: 100%|██████████████████████████| 284/284 [00:43<00:00,  6.56it/s]\n",
      "Epoch 2/3, Validation: 100%|██████████████████████████| 284/284 [00:48<00:00,  5.88it/s]\n",
      "Epoch 2/3, Validation: 100%|██████████████████████████| 284/284 [00:42<00:00,  6.67it/s]\n"
     ]
    },
    {
     "name": "stdout",
     "output_type": "stream",
     "text": [
      "True Positive:1147496, True Negative:370755, False Positive:596244, False Negative:59587\n"
     ]
    }
   ],
   "source": [
    "predict_agg = []\n",
    "target_agg = []\n",
    "\n",
    "for model in model_list:\n",
    "    \n",
    "    progress_validation_epoch = tqdm(\n",
    "        test_data, \n",
    "        desc=f'Epoch {epoch_idx}/{NUM_EPOCHS}, Validation',\n",
    "        miniters=1, ncols=88, position=0, \n",
    "        leave=True, total=len(test_data), smoothing=.9)\n",
    "    \n",
    "    predict = []\n",
    "    target = []\n",
    "    model.eval()\n",
    "    with torch.no_grad():\n",
    "        for idx, (sentence, tags) in enumerate(progress_validation_epoch):\n",
    "            sentence = sentence.cuda()\n",
    "            tags = tags.cuda()\n",
    "            tag_scores = model(sentence)\n",
    "            predict.append(tag_scores.argmax(dim=1).cpu().numpy())\n",
    "            target.append(tags.cpu().numpy())        \n",
    "    predict = np.concatenate(predict, axis=0)\n",
    "    target = np.concatenate(target, axis=0)\n",
    "    \n",
    "    predict_agg.append(predict)\n",
    "    target_agg.append(target)\n",
    "    \n",
    "predict = (np.array(predict_agg).sum(axis=0) > 4.5)\n",
    "target = target_agg[0]\n",
    "\n",
    "\n",
    "tp = predict[target==1].sum()\n",
    "tn = (target==0).sum() - predict[target==0].sum()\n",
    "fp = predict[target==0].sum()\n",
    "fn = (target==1).sum() - predict[target==1].sum()\n",
    "\n",
    "print(f'True Positive:{tp}, '\n",
    "      f'True Negative:{tn}, '\n",
    "      f'False Positive:{fp}, '\n",
    "      f'False Negative:{fn}')\n"
   ]
  },
  {
   "cell_type": "code",
   "execution_count": 13,
   "metadata": {},
   "outputs": [
    {
     "name": "stdout",
     "output_type": "stream",
     "text": [
      "Accuracy:0.6983411849231078, Positive Accuracy:0.6580659960773969, Negative Accuracy:0.8615357088083432, Weighted Accuracy:0.7598008524428701\n"
     ]
    }
   ],
   "source": [
    "accr = (tp+tn)/(tp+tn+fp+fn)\n",
    "posaccr = tp/(tp+fp)\n",
    "negaccr = tn/(tn+fn)\n",
    "print(f'Accuracy:{accr}, '\n",
    "      f'Positive Accuracy:{posaccr}, '\n",
    "      f'Negative Accuracy:{negaccr}, '\n",
    "      f'Weighted Accuracy:{0.5*(posaccr+negaccr)}')"
   ]
  }
 ],
 "metadata": {
  "kernelspec": {
   "display_name": "Python 3",
   "language": "python",
   "name": "python3"
  },
  "language_info": {
   "codemirror_mode": {
    "name": "ipython",
    "version": 3
   },
   "file_extension": ".py",
   "mimetype": "text/x-python",
   "name": "python",
   "nbconvert_exporter": "python",
   "pygments_lexer": "ipython3",
   "version": "3.7.5"
  }
 },
 "nbformat": 4,
 "nbformat_minor": 2
}
