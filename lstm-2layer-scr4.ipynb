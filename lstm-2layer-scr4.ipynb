{
 "cells": [
  {
   "cell_type": "markdown",
   "metadata": {},
   "source": [
    "# Libraries"
   ]
  },
  {
   "cell_type": "code",
   "execution_count": 1,
   "metadata": {},
   "outputs": [],
   "source": [
    "import sqlite3\n",
    "import numpy as np\n",
    "from collections import OrderedDict, namedtuple\n",
    "from distutils.spawn import find_executable\n",
    "import matplotlib.pyplot as plt\n",
    "\n",
    "import sys\n",
    "import subprocess\n",
    "import pathlib\n",
    "import tempfile\n",
    "import importlib\n",
    "import os\n",
    "import time\n",
    "import random\n",
    "import pickle\n",
    "\n",
    "import math\n",
    "\n",
    "from configparser import ConfigParser\n",
    "\n",
    "# from google.protobuf.json_format import MessageToDict"
   ]
  },
  {
   "cell_type": "code",
   "execution_count": 2,
   "metadata": {},
   "outputs": [],
   "source": [
    "# DEVICE = 0\n",
    "\n",
    "import os\n",
    "import time\n",
    "import pickle\n",
    "import numpy as np\n",
    "from tqdm import tqdm\n",
    "import matplotlib.pyplot as plt\n",
    "import seaborn as sn\n",
    "import pandas as pd\n",
    "\n",
    "import torch\n",
    "torch.backends.cudnn.benchmark = True\n",
    "import torch.optim as optim\n",
    "import torch.nn as nn\n",
    "import torch.nn.functional as F\n",
    "from torch.autograd import Variable\n",
    "from torch.utils import data\n",
    "\n",
    "# torch.cuda.set_device(DEVICE)\n",
    "torch.cuda.empty_cache() \n",
    "torch.backends.cudnn.benchmark=True"
   ]
  },
  {
   "cell_type": "code",
   "execution_count": 3,
   "metadata": {},
   "outputs": [],
   "source": [
    "np.random.seed(0)\n",
    "torch.manual_seed(0)\n",
    "\n",
    "import os\n",
    "os.environ['CUDA_VISIBLE_DEVICES']='1'"
   ]
  },
  {
   "cell_type": "markdown",
   "metadata": {},
   "source": [
    "# load the dataset"
   ]
  },
  {
   "cell_type": "code",
   "execution_count": 4,
   "metadata": {},
   "outputs": [],
   "source": [
    "with open('scrimmage4_link_dataset.pickle', 'rb') as file:\n",
    "    link_dataset = pickle.load(file)"
   ]
  },
  {
   "cell_type": "code",
   "execution_count": 5,
   "metadata": {},
   "outputs": [],
   "source": [
    "train_data = link_dataset[:200] \n",
    "test_data = link_dataset[200:]"
   ]
  },
  {
   "cell_type": "code",
   "execution_count": 6,
   "metadata": {},
   "outputs": [],
   "source": [
    "class LSTMTagger(nn.Module):\n",
    "\n",
    "    def __init__(self, embedding_dim, hidden_dim, tagset_size):\n",
    "        super(LSTMTagger, self).__init__()\n",
    "        self.hidden_dim = hidden_dim\n",
    "\n",
    "        # The LSTM takes word embeddings as inputs, and outputs hidden states\n",
    "        # with dimensionality hidden_dim.\n",
    "        self.lstm = nn.LSTM(embedding_dim, hidden_dim, 2)\n",
    "\n",
    "        # The linear layer that maps from hidden state space to tag space\n",
    "        self.hidden2tag = nn.Linear(hidden_dim, tagset_size)\n",
    "\n",
    "    def forward(self, sentence):\n",
    "        lstm_out, _ = self.lstm(sentence.view(len(sentence), 1, -1))\n",
    "        tag_space = self.hidden2tag(lstm_out.view(len(sentence), -1))\n",
    "        tag_scores = F.log_softmax(tag_space, dim=1)\n",
    "        return tag_scores"
   ]
  },
  {
   "cell_type": "markdown",
   "metadata": {},
   "source": [
    "# Train Model 10 Epoch"
   ]
  },
  {
   "cell_type": "code",
   "execution_count": 7,
   "metadata": {
    "scrolled": false
   },
   "outputs": [
    {
     "name": "stderr",
     "output_type": "stream",
     "text": [
      "Epoch 0/10, Training: 100%|███████████████████████████| 200/200 [11:37<00:00,  3.49s/it]\n",
      "Epoch 0/10, Validation: 100%|███████████████████████████| 84/84 [14:13<00:00, 10.16s/it]\n",
      "Epoch 1/10, Validation:   0%|                                    | 0/84 [00:00<?, ?it/s]"
     ]
    },
    {
     "name": "stdout",
     "output_type": "stream",
     "text": [
      "train loss: 0.56438, test loss: 0.60508\n"
     ]
    },
    {
     "name": "stderr",
     "output_type": "stream",
     "text": [
      "Epoch 1/10, Training: 100%|███████████████████████████| 200/200 [11:42<00:00,  3.51s/it]\n",
      "Epoch 1/10, Validation: 100%|███████████████████████████| 84/84 [14:16<00:00, 10.19s/it]\n",
      "Epoch 2/10, Validation:   0%|                                    | 0/84 [00:00<?, ?it/s]"
     ]
    },
    {
     "name": "stdout",
     "output_type": "stream",
     "text": [
      "train loss: 0.54149, test loss: 0.58041\n"
     ]
    },
    {
     "name": "stderr",
     "output_type": "stream",
     "text": [
      "Epoch 2/10, Training: 100%|███████████████████████████| 200/200 [11:48<00:00,  3.54s/it]\n",
      "Epoch 2/10, Validation: 100%|███████████████████████████| 84/84 [14:22<00:00, 10.26s/it]\n",
      "Epoch 3/10, Validation:   0%|                                    | 0/84 [00:00<?, ?it/s]"
     ]
    },
    {
     "name": "stdout",
     "output_type": "stream",
     "text": [
      "train loss: 0.53441, test loss: 0.57332\n"
     ]
    },
    {
     "name": "stderr",
     "output_type": "stream",
     "text": [
      "Epoch 3/10, Training: 100%|███████████████████████████| 200/200 [11:45<00:00,  3.53s/it]\n",
      "Epoch 3/10, Validation: 100%|███████████████████████████| 84/84 [14:17<00:00, 10.21s/it]\n",
      "Epoch 4/10, Validation:   0%|                                    | 0/84 [00:00<?, ?it/s]"
     ]
    },
    {
     "name": "stdout",
     "output_type": "stream",
     "text": [
      "train loss: 0.52901, test loss: 0.56997\n"
     ]
    },
    {
     "name": "stderr",
     "output_type": "stream",
     "text": [
      "Epoch 4/10, Training: 100%|███████████████████████████| 200/200 [11:49<00:00,  3.55s/it]\n",
      "Epoch 4/10, Validation: 100%|███████████████████████████| 84/84 [14:18<00:00, 10.22s/it]\n",
      "Epoch 5/10, Validation:   0%|                                    | 0/84 [00:00<?, ?it/s]"
     ]
    },
    {
     "name": "stdout",
     "output_type": "stream",
     "text": [
      "train loss: 0.52419, test loss: 0.56808\n"
     ]
    },
    {
     "name": "stderr",
     "output_type": "stream",
     "text": [
      "Epoch 5/10, Training: 100%|███████████████████████████| 200/200 [11:50<00:00,  3.55s/it]\n",
      "Epoch 5/10, Validation: 100%|███████████████████████████| 84/84 [14:24<00:00, 10.29s/it]\n",
      "Epoch 6/10, Validation:   0%|                                    | 0/84 [00:00<?, ?it/s]"
     ]
    },
    {
     "name": "stdout",
     "output_type": "stream",
     "text": [
      "train loss: 0.52067, test loss: 0.56617\n"
     ]
    },
    {
     "name": "stderr",
     "output_type": "stream",
     "text": [
      "Epoch 6/10, Training: 100%|███████████████████████████| 200/200 [11:46<00:00,  3.53s/it]\n",
      "Epoch 6/10, Validation: 100%|███████████████████████████| 84/84 [14:21<00:00, 10.25s/it]\n",
      "Epoch 7/10, Validation:   0%|                                    | 0/84 [00:00<?, ?it/s]"
     ]
    },
    {
     "name": "stdout",
     "output_type": "stream",
     "text": [
      "train loss: 0.51699, test loss: 0.57168\n"
     ]
    },
    {
     "name": "stderr",
     "output_type": "stream",
     "text": [
      "Epoch 7/10, Training: 100%|███████████████████████████| 200/200 [11:49<00:00,  3.55s/it]\n",
      "Epoch 7/10, Validation: 100%|███████████████████████████| 84/84 [14:26<00:00, 10.31s/it]\n",
      "Epoch 8/10, Validation:   0%|                                    | 0/84 [00:00<?, ?it/s]"
     ]
    },
    {
     "name": "stdout",
     "output_type": "stream",
     "text": [
      "train loss: 0.51640, test loss: 0.56885\n"
     ]
    },
    {
     "name": "stderr",
     "output_type": "stream",
     "text": [
      "Epoch 8/10, Training: 100%|███████████████████████████| 200/200 [11:46<00:00,  3.53s/it]\n",
      "Epoch 8/10, Validation: 100%|███████████████████████████| 84/84 [14:27<00:00, 10.32s/it]\n",
      "Epoch 9/10, Validation:   0%|                                    | 0/84 [00:00<?, ?it/s]"
     ]
    },
    {
     "name": "stdout",
     "output_type": "stream",
     "text": [
      "train loss: 0.50826, test loss: 0.56735\n"
     ]
    },
    {
     "name": "stderr",
     "output_type": "stream",
     "text": [
      "Epoch 9/10, Training: 100%|███████████████████████████| 200/200 [11:50<00:00,  3.55s/it]\n",
      "Epoch 9/10, Validation: 100%|███████████████████████████| 84/84 [14:28<00:00, 10.34s/it]"
     ]
    },
    {
     "name": "stdout",
     "output_type": "stream",
     "text": [
      "train loss: 0.50074, test loss: 0.57301\n"
     ]
    },
    {
     "name": "stderr",
     "output_type": "stream",
     "text": [
      "\n"
     ]
    }
   ],
   "source": [
    "EMBEDDING_DIM = 20\n",
    "HIDDEN_DIM = 100\n",
    "TAGSET_SIZE = 2\n",
    "NUM_EPOCHS = 10\n",
    "\n",
    "model = LSTMTagger(EMBEDDING_DIM, HIDDEN_DIM, TAGSET_SIZE).cuda()\n",
    "model.cuda()\n",
    "\n",
    "loss_function = nn.NLLLoss().cuda()\n",
    "optimizer = optim.Adam(model.parameters(), 0.001)\n",
    "\n",
    "for epoch_idx in range(NUM_EPOCHS): \n",
    "\n",
    "    progress_training_epoch = tqdm(\n",
    "        train_data, \n",
    "        desc=f'Epoch {epoch_idx}/{NUM_EPOCHS}, Training',\n",
    "        miniters=1, ncols=88, position=0,\n",
    "        leave=True, total=len(train_data), smoothing=.9)\n",
    "\n",
    "    progress_validation_epoch = tqdm(\n",
    "        test_data, \n",
    "        desc=f'Epoch {epoch_idx}/{NUM_EPOCHS}, Validation',\n",
    "        miniters=1, ncols=88, position=0, \n",
    "        leave=True, total=len(test_data), smoothing=.9)\n",
    "\n",
    "    train_loss = 0\n",
    "    train_size = 0\n",
    "    model.train()\n",
    "    for idx, (sentence, tags) in enumerate(progress_training_epoch):\n",
    "        sentence = sentence.cuda()\n",
    "        tags = tags.cuda()\n",
    "        model.zero_grad()\n",
    "        tag_scores = model(sentence)\n",
    "        loss = loss_function(tag_scores, tags)\n",
    "        loss.backward()\n",
    "        optimizer.step()\n",
    "        train_loss += loss * tags.size()[0]\n",
    "        train_size += tags.size()[0]\n",
    "\n",
    "    test_loss = 0\n",
    "    test_size = 0\n",
    "    predict = []\n",
    "    target = []\n",
    "    model.eval()\n",
    "    with torch.no_grad():\n",
    "        for idx, (sentence, tags) in enumerate(progress_validation_epoch):\n",
    "            sentence = sentence.cuda()\n",
    "            tags = tags.cuda()\n",
    "            tag_scores = model(sentence)\n",
    "            loss = loss_function(tag_scores, tags)\n",
    "            predict.append(tag_scores.argmax(dim=1).cpu().numpy())\n",
    "            target.append(tags.cpu().numpy())        \n",
    "            test_loss += loss * tags.size()[0]\n",
    "            test_size += tags.size()[0]\n",
    "    predict = np.concatenate(predict, axis=0)\n",
    "    target = np.concatenate(target, axis=0)\n",
    "\n",
    "    print(f'train loss:{train_loss.item()/train_size: .5f}, '\n",
    "          f'test loss:{test_loss.item()/test_size: .5f}')"
   ]
  },
  {
   "cell_type": "markdown",
   "metadata": {},
   "source": [
    "# Test"
   ]
  },
  {
   "cell_type": "code",
   "execution_count": 8,
   "metadata": {},
   "outputs": [
    {
     "name": "stderr",
     "output_type": "stream",
     "text": [
      "Epoch 9/10, Validation: 100%|███████████████████████████| 84/84 [02:38<00:00,  1.89s/it]"
     ]
    },
    {
     "name": "stdout",
     "output_type": "stream",
     "text": [
      "True Positive:1281279, True Negative:223380, False Positive:468038, False Negative:74233\n"
     ]
    },
    {
     "name": "stderr",
     "output_type": "stream",
     "text": [
      "\n"
     ]
    }
   ],
   "source": [
    "progress_validation_epoch = tqdm(\n",
    "    test_data, \n",
    "    desc=f'Epoch {epoch_idx}/{NUM_EPOCHS}, Validation',\n",
    "    miniters=1, ncols=88, position=0, \n",
    "    leave=True, total=len(test_data), smoothing=.9)\n",
    "\n",
    "predict = []\n",
    "target = []\n",
    "model.eval()\n",
    "with torch.no_grad():\n",
    "    for idx, (sentence, tags) in enumerate(progress_validation_epoch):\n",
    "        sentence = sentence.cuda()\n",
    "        tags = tags.cuda()\n",
    "        tag_scores = model(sentence)\n",
    "        predict.append(tag_scores.argmax(dim=1).cpu().numpy())\n",
    "        target.append(tags.cpu().numpy())\n",
    "        \n",
    "predict = np.concatenate(predict, axis=0)\n",
    "target = np.concatenate(target, axis=0)\n",
    "\n",
    "tp = predict[target==1].sum()\n",
    "tn = (target==0).sum() - predict[target==0].sum()\n",
    "fp = predict[target==0].sum()\n",
    "fn = (target==1).sum() - predict[target==1].sum()\n",
    "\n",
    "print(f'True Positive:{tp}, '\n",
    "      f'True Negative:{tn}, '\n",
    "      f'False Positive:{fp}, '\n",
    "      f'False Negative:{fn}')"
   ]
  },
  {
   "cell_type": "code",
   "execution_count": 9,
   "metadata": {},
   "outputs": [
    {
     "name": "stdout",
     "output_type": "stream",
     "text": [
      "Accuracy:0.7350808283624746, Positive Accuracy:0.7324452915051989, Negative Accuracy:0.750572051624089, Weighted Accuracy:0.741508671564644\n"
     ]
    }
   ],
   "source": [
    "accr = (tp+tn)/(tp+tn+fp+fn)\n",
    "posaccr = tp/(tp+fp)\n",
    "negaccr = tn/(tn+fn)\n",
    "print(f'Accuracy:{accr}, '\n",
    "      f'Positive Accuracy:{posaccr}, '\n",
    "      f'Negative Accuracy:{negaccr}, '\n",
    "      f'Weighted Accuracy:{0.5*(posaccr+negaccr)}')"
   ]
  },
  {
   "cell_type": "markdown",
   "metadata": {},
   "source": [
    "# Bagging 9"
   ]
  },
  {
   "cell_type": "code",
   "execution_count": 10,
   "metadata": {},
   "outputs": [],
   "source": [
    "with open('scrimmage4_link_dataset.pickle', 'rb') as file:\n",
    "    link_dataset = pickle.load(file)"
   ]
  },
  {
   "cell_type": "code",
   "execution_count": 11,
   "metadata": {},
   "outputs": [
    {
     "name": "stderr",
     "output_type": "stream",
     "text": [
      "Epoch 0/6, Training: 100%|████████████████████████████| 200/200 [17:32<00:00,  5.26s/it]\n",
      "Epoch 0/6, Validation: 100%|████████████████████████████| 84/84 [21:44<00:00, 15.53s/it]\n",
      "Epoch 1/6, Validation:   0%|                                     | 0/84 [00:00<?, ?it/s]"
     ]
    },
    {
     "name": "stdout",
     "output_type": "stream",
     "text": [
      "train loss: 0.56260, test loss: 0.56916\n"
     ]
    },
    {
     "name": "stderr",
     "output_type": "stream",
     "text": [
      "Epoch 1/6, Training: 100%|████████████████████████████| 200/200 [18:35<00:00,  5.58s/it]\n",
      "Epoch 1/6, Validation: 100%|████████████████████████████| 84/84 [22:47<00:00, 16.28s/it]\n",
      "Epoch 2/6, Validation:   0%|                                     | 0/84 [00:00<?, ?it/s]"
     ]
    },
    {
     "name": "stdout",
     "output_type": "stream",
     "text": [
      "train loss: 0.52249, test loss: 0.57076\n"
     ]
    },
    {
     "name": "stderr",
     "output_type": "stream",
     "text": [
      "Epoch 2/6, Training: 100%|████████████████████████████| 200/200 [18:43<00:00,  5.62s/it]\n",
      "Epoch 2/6, Validation: 100%|████████████████████████████| 84/84 [22:58<00:00, 16.41s/it]\n",
      "Epoch 3/6, Validation:   0%|                                     | 0/84 [00:00<?, ?it/s]"
     ]
    },
    {
     "name": "stdout",
     "output_type": "stream",
     "text": [
      "train loss: 0.51187, test loss: 0.57194\n"
     ]
    },
    {
     "name": "stderr",
     "output_type": "stream",
     "text": [
      "Epoch 3/6, Training: 100%|████████████████████████████| 200/200 [18:38<00:00,  5.59s/it]\n",
      "Epoch 3/6, Validation: 100%|████████████████████████████| 84/84 [22:51<00:00, 16.32s/it]\n",
      "Epoch 4/6, Validation:   0%|                                     | 0/84 [00:00<?, ?it/s]"
     ]
    },
    {
     "name": "stdout",
     "output_type": "stream",
     "text": [
      "train loss: 0.50476, test loss: 0.57602\n"
     ]
    },
    {
     "name": "stderr",
     "output_type": "stream",
     "text": [
      "Epoch 4/6, Training: 100%|████████████████████████████| 200/200 [18:39<00:00,  5.60s/it]\n",
      "Epoch 4/6, Validation: 100%|████████████████████████████| 84/84 [22:48<00:00, 16.30s/it]\n",
      "Epoch 5/6, Validation:   0%|                                     | 0/84 [00:00<?, ?it/s]"
     ]
    },
    {
     "name": "stdout",
     "output_type": "stream",
     "text": [
      "train loss: 0.49907, test loss: 0.57046\n"
     ]
    },
    {
     "name": "stderr",
     "output_type": "stream",
     "text": [
      "Epoch 5/6, Training: 100%|████████████████████████████| 200/200 [18:49<00:00,  5.65s/it]\n",
      "Epoch 5/6, Validation: 100%|████████████████████████████| 84/84 [23:02<00:00, 16.46s/it]\n",
      "Epoch 0/6, Validation:   0%|                                     | 0/84 [00:00<?, ?it/s]"
     ]
    },
    {
     "name": "stdout",
     "output_type": "stream",
     "text": [
      "train loss: 0.49557, test loss: 0.56577\n"
     ]
    },
    {
     "name": "stderr",
     "output_type": "stream",
     "text": [
      "Epoch 0/6, Training: 100%|████████████████████████████| 200/200 [18:14<00:00,  5.47s/it]\n",
      "Epoch 0/6, Validation: 100%|████████████████████████████| 84/84 [22:18<00:00, 15.93s/it]\n",
      "Epoch 1/6, Validation:   0%|                                     | 0/84 [00:00<?, ?it/s]"
     ]
    },
    {
     "name": "stdout",
     "output_type": "stream",
     "text": [
      "train loss: 0.58235, test loss: 0.57536\n"
     ]
    },
    {
     "name": "stderr",
     "output_type": "stream",
     "text": [
      "Epoch 1/6, Training: 100%|████████████████████████████| 200/200 [18:23<00:00,  5.52s/it]\n",
      "Epoch 1/6, Validation: 100%|████████████████████████████| 84/84 [22:25<00:00, 16.02s/it]\n",
      "Epoch 2/6, Validation:   0%|                                     | 0/84 [00:00<?, ?it/s]"
     ]
    },
    {
     "name": "stdout",
     "output_type": "stream",
     "text": [
      "train loss: 0.53539, test loss: 0.59165\n"
     ]
    },
    {
     "name": "stderr",
     "output_type": "stream",
     "text": [
      "Epoch 2/6, Training: 100%|████████████████████████████| 200/200 [18:19<00:00,  5.50s/it]\n",
      "Epoch 2/6, Validation: 100%|████████████████████████████| 84/84 [22:23<00:00, 15.99s/it]\n",
      "Epoch 3/6, Validation:   0%|                                     | 0/84 [00:00<?, ?it/s]"
     ]
    },
    {
     "name": "stdout",
     "output_type": "stream",
     "text": [
      "train loss: 0.52352, test loss: 0.58043\n"
     ]
    },
    {
     "name": "stderr",
     "output_type": "stream",
     "text": [
      "Epoch 3/6, Training: 100%|████████████████████████████| 200/200 [18:20<00:00,  5.50s/it]\n",
      "Epoch 3/6, Validation: 100%|████████████████████████████| 84/84 [22:22<00:00, 15.98s/it]\n",
      "Epoch 4/6, Validation:   0%|                                     | 0/84 [00:00<?, ?it/s]"
     ]
    },
    {
     "name": "stdout",
     "output_type": "stream",
     "text": [
      "train loss: 0.51893, test loss: 0.57197\n"
     ]
    },
    {
     "name": "stderr",
     "output_type": "stream",
     "text": [
      "Epoch 4/6, Training: 100%|████████████████████████████| 200/200 [18:19<00:00,  5.50s/it]\n",
      "Epoch 4/6, Validation: 100%|████████████████████████████| 84/84 [22:24<00:00, 16.01s/it]\n",
      "Epoch 5/6, Validation:   0%|                                     | 0/84 [00:00<?, ?it/s]"
     ]
    },
    {
     "name": "stdout",
     "output_type": "stream",
     "text": [
      "train loss: 0.50816, test loss: 0.57504\n"
     ]
    },
    {
     "name": "stderr",
     "output_type": "stream",
     "text": [
      "Epoch 5/6, Training: 100%|████████████████████████████| 200/200 [18:22<00:00,  5.51s/it]\n",
      "Epoch 5/6, Validation: 100%|████████████████████████████| 84/84 [22:26<00:00, 16.03s/it]\n",
      "Epoch 0/6, Validation:   0%|                                     | 0/84 [00:00<?, ?it/s]"
     ]
    },
    {
     "name": "stdout",
     "output_type": "stream",
     "text": [
      "train loss: 0.50241, test loss: 0.56622\n"
     ]
    },
    {
     "name": "stderr",
     "output_type": "stream",
     "text": [
      "Epoch 0/6, Training: 100%|████████████████████████████| 200/200 [17:31<00:00,  5.26s/it]\n",
      "Epoch 0/6, Validation: 100%|████████████████████████████| 84/84 [21:34<00:00, 15.41s/it]\n",
      "Epoch 1/6, Validation:   0%|                                     | 0/84 [00:00<?, ?it/s]"
     ]
    },
    {
     "name": "stdout",
     "output_type": "stream",
     "text": [
      "train loss: 0.58557, test loss: 0.59579\n"
     ]
    },
    {
     "name": "stderr",
     "output_type": "stream",
     "text": [
      "Epoch 1/6, Training: 100%|████████████████████████████| 200/200 [17:37<00:00,  5.29s/it]\n",
      "Epoch 1/6, Validation: 100%|████████████████████████████| 84/84 [21:39<00:00, 15.47s/it]\n",
      "Epoch 2/6, Validation:   0%|                                     | 0/84 [00:00<?, ?it/s]"
     ]
    },
    {
     "name": "stdout",
     "output_type": "stream",
     "text": [
      "train loss: 0.55008, test loss: 0.59439\n"
     ]
    },
    {
     "name": "stderr",
     "output_type": "stream",
     "text": [
      "Epoch 2/6, Training: 100%|████████████████████████████| 200/200 [17:42<00:00,  5.31s/it]\n",
      "Epoch 2/6, Validation: 100%|████████████████████████████| 84/84 [21:43<00:00, 15.52s/it]\n",
      "Epoch 3/6, Validation:   0%|                                     | 0/84 [00:00<?, ?it/s]"
     ]
    },
    {
     "name": "stdout",
     "output_type": "stream",
     "text": [
      "train loss: 0.53327, test loss: 0.59096\n"
     ]
    },
    {
     "name": "stderr",
     "output_type": "stream",
     "text": [
      "Epoch 3/6, Training: 100%|████████████████████████████| 200/200 [17:44<00:00,  5.32s/it]\n",
      "Epoch 3/6, Validation: 100%|████████████████████████████| 84/84 [21:48<00:00, 15.58s/it]\n",
      "Epoch 4/6, Validation:   0%|                                     | 0/84 [00:00<?, ?it/s]"
     ]
    },
    {
     "name": "stdout",
     "output_type": "stream",
     "text": [
      "train loss: 0.52568, test loss: 0.59356\n"
     ]
    },
    {
     "name": "stderr",
     "output_type": "stream",
     "text": [
      "Epoch 4/6, Training: 100%|████████████████████████████| 200/200 [17:46<00:00,  5.33s/it]\n",
      "Epoch 4/6, Validation: 100%|████████████████████████████| 84/84 [21:48<00:00, 15.58s/it]\n",
      "Epoch 5/6, Validation:   0%|                                     | 0/84 [00:00<?, ?it/s]"
     ]
    },
    {
     "name": "stdout",
     "output_type": "stream",
     "text": [
      "train loss: 0.51686, test loss: 0.59644\n"
     ]
    },
    {
     "name": "stderr",
     "output_type": "stream",
     "text": [
      "Epoch 5/6, Training: 100%|████████████████████████████| 200/200 [17:54<00:00,  5.37s/it]\n",
      "Epoch 5/6, Validation: 100%|████████████████████████████| 84/84 [21:59<00:00, 15.70s/it]\n",
      "Epoch 0/6, Validation:   0%|                                     | 0/84 [00:00<?, ?it/s]"
     ]
    },
    {
     "name": "stdout",
     "output_type": "stream",
     "text": [
      "train loss: 0.51068, test loss: 0.59521\n"
     ]
    },
    {
     "name": "stderr",
     "output_type": "stream",
     "text": [
      "Epoch 0/6, Training: 100%|████████████████████████████| 200/200 [15:57<00:00,  4.79s/it]\n",
      "Epoch 0/6, Validation: 100%|████████████████████████████| 84/84 [20:03<00:00, 14.33s/it]\n",
      "Epoch 1/6, Validation:   0%|                                     | 0/84 [00:00<?, ?it/s]"
     ]
    },
    {
     "name": "stdout",
     "output_type": "stream",
     "text": [
      "train loss: 0.55815, test loss: 0.58449\n"
     ]
    },
    {
     "name": "stderr",
     "output_type": "stream",
     "text": [
      "Epoch 1/6, Training: 100%|████████████████████████████| 200/200 [16:03<00:00,  4.82s/it]\n",
      "Epoch 1/6, Validation: 100%|████████████████████████████| 84/84 [20:13<00:00, 14.44s/it]\n",
      "Epoch 2/6, Validation:   0%|                                     | 0/84 [00:00<?, ?it/s]"
     ]
    },
    {
     "name": "stdout",
     "output_type": "stream",
     "text": [
      "train loss: 0.51756, test loss: 0.59201\n"
     ]
    },
    {
     "name": "stderr",
     "output_type": "stream",
     "text": [
      "Epoch 2/6, Training: 100%|████████████████████████████| 200/200 [16:00<00:00,  4.80s/it]\n",
      "Epoch 2/6, Validation: 100%|████████████████████████████| 84/84 [20:10<00:00, 14.41s/it]\n",
      "Epoch 3/6, Validation:   0%|                                     | 0/84 [00:00<?, ?it/s]"
     ]
    },
    {
     "name": "stdout",
     "output_type": "stream",
     "text": [
      "train loss: 0.51025, test loss: 0.59550\n"
     ]
    },
    {
     "name": "stderr",
     "output_type": "stream",
     "text": [
      "Epoch 3/6, Training: 100%|████████████████████████████| 200/200 [16:02<00:00,  4.81s/it]\n",
      "Epoch 3/6, Validation: 100%|████████████████████████████| 84/84 [20:12<00:00, 14.43s/it]\n",
      "Epoch 4/6, Validation:   0%|                                     | 0/84 [00:00<?, ?it/s]"
     ]
    },
    {
     "name": "stdout",
     "output_type": "stream",
     "text": [
      "train loss: 0.50231, test loss: 0.59109\n"
     ]
    },
    {
     "name": "stderr",
     "output_type": "stream",
     "text": [
      "Epoch 4/6, Training: 100%|████████████████████████████| 200/200 [16:04<00:00,  4.82s/it]\n",
      "Epoch 4/6, Validation: 100%|████████████████████████████| 84/84 [20:15<00:00, 14.47s/it]\n",
      "Epoch 5/6, Validation:   0%|                                     | 0/84 [00:00<?, ?it/s]"
     ]
    },
    {
     "name": "stdout",
     "output_type": "stream",
     "text": [
      "train loss: 0.49148, test loss: 0.59066\n"
     ]
    },
    {
     "name": "stderr",
     "output_type": "stream",
     "text": [
      "Epoch 5/6, Training: 100%|████████████████████████████| 200/200 [16:09<00:00,  4.85s/it]\n",
      "Epoch 5/6, Validation: 100%|████████████████████████████| 84/84 [20:18<00:00, 14.51s/it]\n",
      "Epoch 0/6, Validation:   0%|                                     | 0/84 [00:00<?, ?it/s]"
     ]
    },
    {
     "name": "stdout",
     "output_type": "stream",
     "text": [
      "train loss: 0.48841, test loss: 0.58961\n"
     ]
    },
    {
     "name": "stderr",
     "output_type": "stream",
     "text": [
      "Epoch 0/6, Training: 100%|████████████████████████████| 200/200 [17:46<00:00,  5.33s/it]\n",
      "Epoch 0/6, Validation: 100%|████████████████████████████| 84/84 [21:49<00:00, 15.59s/it]\n",
      "Epoch 1/6, Validation:   0%|                                     | 0/84 [00:00<?, ?it/s]"
     ]
    },
    {
     "name": "stdout",
     "output_type": "stream",
     "text": [
      "train loss: 0.56641, test loss: 0.56702\n"
     ]
    },
    {
     "name": "stderr",
     "output_type": "stream",
     "text": [
      "Epoch 1/6, Training: 100%|████████████████████████████| 200/200 [17:47<00:00,  5.34s/it]\n",
      "Epoch 1/6, Validation: 100%|████████████████████████████| 84/84 [21:52<00:00, 15.62s/it]\n",
      "Epoch 2/6, Validation:   0%|                                     | 0/84 [00:00<?, ?it/s]"
     ]
    },
    {
     "name": "stdout",
     "output_type": "stream",
     "text": [
      "train loss: 0.53694, test loss: 0.56956\n"
     ]
    },
    {
     "name": "stderr",
     "output_type": "stream",
     "text": [
      "Epoch 2/6, Training: 100%|████████████████████████████| 200/200 [17:46<00:00,  5.33s/it]\n",
      "Epoch 2/6, Validation: 100%|████████████████████████████| 84/84 [21:54<00:00, 15.65s/it]\n",
      "Epoch 3/6, Validation:   0%|                                     | 0/84 [00:00<?, ?it/s]"
     ]
    },
    {
     "name": "stdout",
     "output_type": "stream",
     "text": [
      "train loss: 0.53282, test loss: 0.57687\n"
     ]
    },
    {
     "name": "stderr",
     "output_type": "stream",
     "text": [
      "Epoch 3/6, Training: 100%|████████████████████████████| 200/200 [17:43<00:00,  5.32s/it]\n",
      "Epoch 3/6, Validation: 100%|████████████████████████████| 84/84 [21:55<00:00, 15.66s/it]\n",
      "Epoch 4/6, Validation:   0%|                                     | 0/84 [00:00<?, ?it/s]"
     ]
    },
    {
     "name": "stdout",
     "output_type": "stream",
     "text": [
      "train loss: 0.52469, test loss: 0.60092\n"
     ]
    },
    {
     "name": "stderr",
     "output_type": "stream",
     "text": [
      "Epoch 4/6, Training: 100%|████████████████████████████| 200/200 [17:40<00:00,  5.30s/it]\n",
      "Epoch 4/6, Validation: 100%|████████████████████████████| 84/84 [21:50<00:00, 15.60s/it]\n",
      "Epoch 5/6, Validation:   0%|                                     | 0/84 [00:00<?, ?it/s]"
     ]
    },
    {
     "name": "stdout",
     "output_type": "stream",
     "text": [
      "train loss: 0.51826, test loss: 0.60369\n"
     ]
    },
    {
     "name": "stderr",
     "output_type": "stream",
     "text": [
      "Epoch 5/6, Training: 100%|████████████████████████████| 200/200 [17:45<00:00,  5.33s/it]\n",
      "Epoch 5/6, Validation: 100%|████████████████████████████| 84/84 [21:58<00:00, 15.69s/it]\n",
      "Epoch 0/6, Validation:   0%|                                     | 0/84 [00:00<?, ?it/s]"
     ]
    },
    {
     "name": "stdout",
     "output_type": "stream",
     "text": [
      "train loss: 0.51797, test loss: 0.59789\n"
     ]
    },
    {
     "name": "stderr",
     "output_type": "stream",
     "text": [
      "Epoch 0/6, Training: 100%|████████████████████████████| 200/200 [18:19<00:00,  5.50s/it]\n",
      "Epoch 0/6, Validation: 100%|████████████████████████████| 84/84 [22:30<00:00, 16.07s/it]\n",
      "Epoch 1/6, Validation:   0%|                                     | 0/84 [00:00<?, ?it/s]"
     ]
    },
    {
     "name": "stdout",
     "output_type": "stream",
     "text": [
      "train loss: 0.54300, test loss: 0.55889\n"
     ]
    },
    {
     "name": "stderr",
     "output_type": "stream",
     "text": [
      "Epoch 1/6, Training: 100%|████████████████████████████| 200/200 [18:31<00:00,  5.56s/it]\n",
      "Epoch 1/6, Validation: 100%|████████████████████████████| 84/84 [22:41<00:00, 16.21s/it]\n",
      "Epoch 2/6, Validation:   0%|                                     | 0/84 [00:00<?, ?it/s]"
     ]
    },
    {
     "name": "stdout",
     "output_type": "stream",
     "text": [
      "train loss: 0.51479, test loss: 0.55702\n"
     ]
    },
    {
     "name": "stderr",
     "output_type": "stream",
     "text": [
      "Epoch 2/6, Training: 100%|████████████████████████████| 200/200 [18:27<00:00,  5.54s/it]\n",
      "Epoch 2/6, Validation: 100%|████████████████████████████| 84/84 [22:37<00:00, 16.16s/it]\n",
      "Epoch 3/6, Validation:   0%|                                     | 0/84 [00:00<?, ?it/s]"
     ]
    },
    {
     "name": "stdout",
     "output_type": "stream",
     "text": [
      "train loss: 0.50741, test loss: 0.55930\n"
     ]
    },
    {
     "name": "stderr",
     "output_type": "stream",
     "text": [
      "Epoch 3/6, Training: 100%|████████████████████████████| 200/200 [18:29<00:00,  5.55s/it]\n",
      "Epoch 3/6, Validation: 100%|████████████████████████████| 84/84 [22:40<00:00, 16.19s/it]\n",
      "Epoch 4/6, Validation:   0%|                                     | 0/84 [00:00<?, ?it/s]"
     ]
    },
    {
     "name": "stdout",
     "output_type": "stream",
     "text": [
      "train loss: 0.49908, test loss: 0.56434\n"
     ]
    },
    {
     "name": "stderr",
     "output_type": "stream",
     "text": [
      "Epoch 4/6, Training: 100%|████████████████████████████| 200/200 [18:36<00:00,  5.58s/it]\n",
      "Epoch 4/6, Validation: 100%|████████████████████████████| 84/84 [22:46<00:00, 16.27s/it]\n",
      "Epoch 5/6, Validation:   0%|                                     | 0/84 [00:00<?, ?it/s]"
     ]
    },
    {
     "name": "stdout",
     "output_type": "stream",
     "text": [
      "train loss: 0.48797, test loss: 0.57351\n"
     ]
    },
    {
     "name": "stderr",
     "output_type": "stream",
     "text": [
      "Epoch 5/6, Training: 100%|████████████████████████████| 200/200 [18:38<00:00,  5.59s/it]\n",
      "Epoch 5/6, Validation: 100%|████████████████████████████| 84/84 [22:50<00:00, 16.31s/it]\n",
      "Epoch 0/6, Validation:   0%|                                     | 0/84 [00:00<?, ?it/s]"
     ]
    },
    {
     "name": "stdout",
     "output_type": "stream",
     "text": [
      "train loss: 0.48430, test loss: 0.57830\n"
     ]
    },
    {
     "name": "stderr",
     "output_type": "stream",
     "text": [
      "Epoch 0/6, Training: 100%|████████████████████████████| 200/200 [16:09<00:00,  4.85s/it]\n",
      "Epoch 0/6, Validation: 100%|████████████████████████████| 84/84 [20:17<00:00, 14.50s/it]\n",
      "Epoch 1/6, Validation:   0%|                                     | 0/84 [00:00<?, ?it/s]"
     ]
    },
    {
     "name": "stdout",
     "output_type": "stream",
     "text": [
      "train loss: 0.57763, test loss: 0.56526\n"
     ]
    },
    {
     "name": "stderr",
     "output_type": "stream",
     "text": [
      "Epoch 1/6, Training: 100%|████████████████████████████| 200/200 [16:11<00:00,  4.86s/it]\n",
      "Epoch 1/6, Validation: 100%|████████████████████████████| 84/84 [20:22<00:00, 14.55s/it]\n",
      "Epoch 2/6, Validation:   0%|                                     | 0/84 [00:00<?, ?it/s]"
     ]
    },
    {
     "name": "stdout",
     "output_type": "stream",
     "text": [
      "train loss: 0.52610, test loss: 0.56495\n"
     ]
    },
    {
     "name": "stderr",
     "output_type": "stream",
     "text": [
      "Epoch 2/6, Training: 100%|████████████████████████████| 200/200 [16:14<00:00,  4.87s/it]\n",
      "Epoch 2/6, Validation: 100%|████████████████████████████| 84/84 [20:24<00:00, 14.58s/it]\n",
      "Epoch 3/6, Validation:   0%|                                     | 0/84 [00:00<?, ?it/s]"
     ]
    },
    {
     "name": "stdout",
     "output_type": "stream",
     "text": [
      "train loss: 0.51723, test loss: 0.58275\n"
     ]
    },
    {
     "name": "stderr",
     "output_type": "stream",
     "text": [
      "Epoch 3/6, Training: 100%|████████████████████████████| 200/200 [16:16<00:00,  4.88s/it]\n",
      "Epoch 3/6, Validation: 100%|████████████████████████████| 84/84 [20:27<00:00, 14.61s/it]\n",
      "Epoch 4/6, Validation:   0%|                                     | 0/84 [00:00<?, ?it/s]"
     ]
    },
    {
     "name": "stdout",
     "output_type": "stream",
     "text": [
      "train loss: 0.50608, test loss: 0.60837\n"
     ]
    },
    {
     "name": "stderr",
     "output_type": "stream",
     "text": [
      "Epoch 4/6, Training: 100%|████████████████████████████| 200/200 [16:21<00:00,  4.91s/it]\n",
      "Epoch 4/6, Validation: 100%|████████████████████████████| 84/84 [20:29<00:00, 14.64s/it]\n",
      "Epoch 5/6, Validation:   0%|                                     | 0/84 [00:00<?, ?it/s]"
     ]
    },
    {
     "name": "stdout",
     "output_type": "stream",
     "text": [
      "train loss: 0.50363, test loss: 0.58897\n"
     ]
    },
    {
     "name": "stderr",
     "output_type": "stream",
     "text": [
      "Epoch 5/6, Training: 100%|████████████████████████████| 200/200 [16:21<00:00,  4.91s/it]\n",
      "Epoch 5/6, Validation: 100%|████████████████████████████| 84/84 [20:28<00:00, 14.63s/it]\n",
      "Epoch 0/6, Validation:   0%|                                     | 0/84 [00:00<?, ?it/s]"
     ]
    },
    {
     "name": "stdout",
     "output_type": "stream",
     "text": [
      "train loss: 0.48916, test loss: 0.58217\n"
     ]
    },
    {
     "name": "stderr",
     "output_type": "stream",
     "text": [
      "Epoch 0/6, Training: 100%|████████████████████████████| 200/200 [18:25<00:00,  5.53s/it]\n",
      "Epoch 0/6, Validation: 100%|████████████████████████████| 84/84 [22:25<00:00, 16.01s/it]\n",
      "Epoch 1/6, Validation:   0%|                                     | 0/84 [00:00<?, ?it/s]"
     ]
    },
    {
     "name": "stdout",
     "output_type": "stream",
     "text": [
      "train loss: 0.57455, test loss: 0.56535\n"
     ]
    },
    {
     "name": "stderr",
     "output_type": "stream",
     "text": [
      "Epoch 1/6, Training: 100%|████████████████████████████| 200/200 [18:26<00:00,  5.53s/it]\n",
      "Epoch 1/6, Validation: 100%|████████████████████████████| 84/84 [22:28<00:00, 16.05s/it]\n",
      "Epoch 2/6, Validation:   0%|                                     | 0/84 [00:00<?, ?it/s]"
     ]
    },
    {
     "name": "stdout",
     "output_type": "stream",
     "text": [
      "train loss: 0.53155, test loss: 0.56374\n"
     ]
    },
    {
     "name": "stderr",
     "output_type": "stream",
     "text": [
      "Epoch 2/6, Training: 100%|████████████████████████████| 200/200 [18:22<00:00,  5.51s/it]\n",
      "Epoch 2/6, Validation: 100%|████████████████████████████| 84/84 [22:26<00:00, 16.03s/it]\n",
      "Epoch 3/6, Validation:   0%|                                     | 0/84 [00:00<?, ?it/s]"
     ]
    },
    {
     "name": "stdout",
     "output_type": "stream",
     "text": [
      "train loss: 0.52217, test loss: 0.57023\n"
     ]
    },
    {
     "name": "stderr",
     "output_type": "stream",
     "text": [
      "Epoch 3/6, Training: 100%|████████████████████████████| 200/200 [18:26<00:00,  5.53s/it]\n",
      "Epoch 3/6, Validation: 100%|████████████████████████████| 84/84 [21:57<00:00, 15.68s/it]\n",
      "Epoch 4/6, Validation:   0%|                                     | 0/84 [00:00<?, ?it/s]"
     ]
    },
    {
     "name": "stdout",
     "output_type": "stream",
     "text": [
      "train loss: 0.51153, test loss: 0.57385\n"
     ]
    },
    {
     "name": "stderr",
     "output_type": "stream",
     "text": [
      "Epoch 4/6, Training: 100%|████████████████████████████| 200/200 [15:18<00:00,  4.59s/it]\n",
      "Epoch 4/6, Validation: 100%|████████████████████████████| 84/84 [18:41<00:00, 13.35s/it]\n",
      "Epoch 5/6, Validation:   0%|                                     | 0/84 [00:00<?, ?it/s]"
     ]
    },
    {
     "name": "stdout",
     "output_type": "stream",
     "text": [
      "train loss: 0.50608, test loss: 0.57661\n"
     ]
    },
    {
     "name": "stderr",
     "output_type": "stream",
     "text": [
      "Epoch 5/6, Training: 100%|████████████████████████████| 200/200 [13:11<00:00,  3.96s/it]\n",
      "Epoch 5/6, Validation: 100%|████████████████████████████| 84/84 [15:51<00:00, 11.33s/it]\n",
      "Epoch 0/6, Validation:   0%|                                     | 0/84 [00:00<?, ?it/s]"
     ]
    },
    {
     "name": "stdout",
     "output_type": "stream",
     "text": [
      "train loss: 0.49759, test loss: 0.58288\n"
     ]
    },
    {
     "name": "stderr",
     "output_type": "stream",
     "text": [
      "Epoch 0/6, Training: 100%|████████████████████████████| 200/200 [11:04<00:00,  3.32s/it]\n",
      "Epoch 0/6, Validation: 100%|████████████████████████████| 84/84 [13:39<00:00,  9.75s/it]\n",
      "Epoch 1/6, Validation:   0%|                                     | 0/84 [00:00<?, ?it/s]"
     ]
    },
    {
     "name": "stdout",
     "output_type": "stream",
     "text": [
      "train loss: 0.56758, test loss: 0.58420\n"
     ]
    },
    {
     "name": "stderr",
     "output_type": "stream",
     "text": [
      "Epoch 1/6, Training: 100%|████████████████████████████| 200/200 [11:06<00:00,  3.33s/it]\n",
      "Epoch 1/6, Validation: 100%|████████████████████████████| 84/84 [13:41<00:00,  9.78s/it]\n",
      "Epoch 2/6, Validation:   0%|                                     | 0/84 [00:00<?, ?it/s]"
     ]
    },
    {
     "name": "stdout",
     "output_type": "stream",
     "text": [
      "train loss: 0.52811, test loss: 0.57311\n"
     ]
    },
    {
     "name": "stderr",
     "output_type": "stream",
     "text": [
      "Epoch 2/6, Training: 100%|████████████████████████████| 200/200 [11:05<00:00,  3.33s/it]\n",
      "Epoch 2/6, Validation: 100%|████████████████████████████| 84/84 [13:41<00:00,  9.78s/it]\n",
      "Epoch 3/6, Validation:   0%|                                     | 0/84 [00:00<?, ?it/s]"
     ]
    },
    {
     "name": "stdout",
     "output_type": "stream",
     "text": [
      "train loss: 0.52141, test loss: 0.58014\n"
     ]
    },
    {
     "name": "stderr",
     "output_type": "stream",
     "text": [
      "Epoch 3/6, Training: 100%|████████████████████████████| 200/200 [11:08<00:00,  3.34s/it]\n",
      "Epoch 3/6, Validation: 100%|████████████████████████████| 84/84 [13:45<00:00,  9.82s/it]\n",
      "Epoch 4/6, Validation:   0%|                                     | 0/84 [00:00<?, ?it/s]"
     ]
    },
    {
     "name": "stdout",
     "output_type": "stream",
     "text": [
      "train loss: 0.51313, test loss: 0.58475\n"
     ]
    },
    {
     "name": "stderr",
     "output_type": "stream",
     "text": [
      "Epoch 4/6, Training: 100%|████████████████████████████| 200/200 [11:11<00:00,  3.36s/it]\n",
      "Epoch 4/6, Validation: 100%|████████████████████████████| 84/84 [13:49<00:00,  9.87s/it]\n",
      "Epoch 5/6, Validation:   0%|                                     | 0/84 [00:00<?, ?it/s]"
     ]
    },
    {
     "name": "stdout",
     "output_type": "stream",
     "text": [
      "train loss: 0.50629, test loss: 0.57919\n"
     ]
    },
    {
     "name": "stderr",
     "output_type": "stream",
     "text": [
      "Epoch 5/6, Training: 100%|████████████████████████████| 200/200 [11:07<00:00,  3.34s/it]\n",
      "Epoch 5/6, Validation: 100%|████████████████████████████| 84/84 [13:48<00:00,  9.86s/it]"
     ]
    },
    {
     "name": "stdout",
     "output_type": "stream",
     "text": [
      "train loss: 0.49545, test loss: 0.57831\n"
     ]
    },
    {
     "name": "stderr",
     "output_type": "stream",
     "text": [
      "\n"
     ]
    }
   ],
   "source": [
    "EMBEDDING_DIM = 20\n",
    "HIDDEN_DIM = 100\n",
    "TAGSET_SIZE = 2\n",
    "NUM_EPOCHS = 6\n",
    "model_list = []\n",
    "\n",
    "for model_idx in range(9):\n",
    "    \n",
    "    train_data = []\n",
    "    for link_idx in np.random.choice(200,size=200,replace=True):\n",
    "        train_data.append(link_dataset[link_idx])\n",
    "    \n",
    "    model = LSTMTagger(EMBEDDING_DIM, HIDDEN_DIM, TAGSET_SIZE)\n",
    "    model.cuda()\n",
    "    loss_function = nn.NLLLoss().cuda()\n",
    "    optimizer = optim.Adam(model.parameters(), 0.001)\n",
    "\n",
    "    model.train()\n",
    "    for epoch_idx in range(NUM_EPOCHS):  \n",
    "\n",
    "        progress_training_epoch = tqdm(\n",
    "            train_data, \n",
    "            desc=f'Epoch {epoch_idx}/{NUM_EPOCHS}, Training',\n",
    "            miniters=1, ncols=88, position=0,\n",
    "            leave=True, total=len(train_data), smoothing=.9)\n",
    "\n",
    "        progress_validation_epoch = tqdm(\n",
    "            test_data, \n",
    "            desc=f'Epoch {epoch_idx}/{NUM_EPOCHS}, Validation',\n",
    "            miniters=1, ncols=88, position=0, \n",
    "            leave=True, total=len(test_data), smoothing=.9)\n",
    "\n",
    "        train_loss = 0\n",
    "        train_size = 0\n",
    "        model.train()\n",
    "        for idx, (sentence, tags) in enumerate(progress_training_epoch):\n",
    "            sentence = sentence.cuda()\n",
    "            tags = tags.cuda()\n",
    "            model.zero_grad()\n",
    "            tag_scores = model(sentence)\n",
    "            loss = loss_function(tag_scores, tags)\n",
    "            loss.backward()\n",
    "            optimizer.step()\n",
    "            train_loss += loss * tags.size()[0]\n",
    "            train_size += tags.size()[0]\n",
    "\n",
    "        test_loss = 0\n",
    "        test_size = 0\n",
    "        model.eval()\n",
    "        with torch.no_grad():\n",
    "            for idx, (sentence, tags) in enumerate(progress_validation_epoch):\n",
    "                sentence = sentence.cuda()\n",
    "                tags = tags.cuda()\n",
    "                tag_scores = model(sentence)\n",
    "                loss = loss_function(tag_scores, tags) \n",
    "                test_loss += loss * tags.size()[0]\n",
    "                test_size += tags.size()[0]\n",
    "\n",
    "        print(f'train loss:{train_loss.item()/train_size: .5f}, '\n",
    "              f'test loss:{test_loss.item()/test_size: .5f}')\n",
    "        \n",
    "    model_list.append(model)"
   ]
  },
  {
   "cell_type": "markdown",
   "metadata": {},
   "source": [
    "# Test"
   ]
  },
  {
   "cell_type": "code",
   "execution_count": 12,
   "metadata": {},
   "outputs": [
    {
     "name": "stderr",
     "output_type": "stream",
     "text": [
      "Epoch 5/6, Validation: 100%|████████████████████████████| 84/84 [02:41<00:00,  1.92s/it]\n",
      "Epoch 5/6, Validation: 100%|████████████████████████████| 84/84 [02:40<00:00,  1.91s/it]\n",
      "Epoch 5/6, Validation: 100%|████████████████████████████| 84/84 [02:39<00:00,  1.90s/it]\n",
      "Epoch 5/6, Validation: 100%|████████████████████████████| 84/84 [02:37<00:00,  1.88s/it]\n",
      "Epoch 5/6, Validation: 100%|████████████████████████████| 84/84 [02:40<00:00,  1.91s/it]\n",
      "Epoch 5/6, Validation: 100%|████████████████████████████| 84/84 [02:40<00:00,  1.91s/it]\n",
      "Epoch 5/6, Validation: 100%|████████████████████████████| 84/84 [02:38<00:00,  1.89s/it]\n",
      "Epoch 5/6, Validation: 100%|████████████████████████████| 84/84 [02:42<00:00,  1.93s/it]\n",
      "Epoch 5/6, Validation: 100%|████████████████████████████| 84/84 [02:38<00:00,  1.89s/it]"
     ]
    },
    {
     "name": "stdout",
     "output_type": "stream",
     "text": [
      "True Positive:1258900, True Negative:253869, False Positive:437549, False Negative:96612\n"
     ]
    },
    {
     "name": "stderr",
     "output_type": "stream",
     "text": [
      "\n"
     ]
    }
   ],
   "source": [
    "predict_agg = []\n",
    "target_agg = []\n",
    "\n",
    "for model in model_list:\n",
    "    \n",
    "    progress_validation_epoch = tqdm(\n",
    "        test_data, \n",
    "        desc=f'Epoch {epoch_idx}/{NUM_EPOCHS}, Validation',\n",
    "        miniters=1, ncols=88, position=0, \n",
    "        leave=True, total=len(test_data), smoothing=.9)\n",
    "    \n",
    "    predict = []\n",
    "    target = []\n",
    "    model.eval()\n",
    "    with torch.no_grad():\n",
    "        for idx, (sentence, tags) in enumerate(progress_validation_epoch):\n",
    "            sentence = sentence.cuda()\n",
    "            tags = tags.cuda()\n",
    "            tag_scores = model(sentence)\n",
    "            predict.append(tag_scores.argmax(dim=1).cpu().numpy())\n",
    "            target.append(tags.cpu().numpy())        \n",
    "    predict = np.concatenate(predict, axis=0)\n",
    "    target = np.concatenate(target, axis=0)\n",
    "    \n",
    "    predict_agg.append(predict)\n",
    "    target_agg.append(target)\n",
    "    \n",
    "predict = (np.array(predict_agg).sum(axis=0) > 4.5)\n",
    "target = target_agg[0]\n",
    "tp = predict[target==1].sum()\n",
    "tn = (target==0).sum() - predict[target==0].sum()\n",
    "fp = predict[target==0].sum()\n",
    "fn = (target==1).sum() - predict[target==1].sum()\n",
    "\n",
    "print(f'True Positive:{tp}, '\n",
    "      f'True Negative:{tn}, '\n",
    "      f'False Positive:{fp}, '\n",
    "      f'False Negative:{fn}')\n"
   ]
  },
  {
   "cell_type": "code",
   "execution_count": 13,
   "metadata": {},
   "outputs": [
    {
     "name": "stdout",
     "output_type": "stream",
     "text": [
      "Accuracy:0.7390428593063759, Positive Accuracy:0.7420794848533614, Negative Accuracy:0.7243445436414527, Weighted Accuracy:0.733212014247407\n"
     ]
    }
   ],
   "source": [
    "accr = (tp+tn)/(tp+tn+fp+fn)\n",
    "posaccr = tp/(tp+fp)\n",
    "negaccr = tn/(tn+fn)\n",
    "print(f'Accuracy:{accr}, '\n",
    "      f'Positive Accuracy:{posaccr}, '\n",
    "      f'Negative Accuracy:{negaccr}, '\n",
    "      f'Weighted Accuracy:{0.5*(posaccr+negaccr)}')"
   ]
  }
 ],
 "metadata": {
  "kernelspec": {
   "display_name": "Python 3",
   "language": "python",
   "name": "python3"
  },
  "language_info": {
   "codemirror_mode": {
    "name": "ipython",
    "version": 3
   },
   "file_extension": ".py",
   "mimetype": "text/x-python",
   "name": "python",
   "nbconvert_exporter": "python",
   "pygments_lexer": "ipython3",
   "version": "3.7.5"
  }
 },
 "nbformat": 4,
 "nbformat_minor": 2
}
