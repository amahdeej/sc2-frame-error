{
 "cells": [
  {
   "cell_type": "markdown",
   "metadata": {},
   "source": [
    "# Libraries"
   ]
  },
  {
   "cell_type": "code",
   "execution_count": 1,
   "metadata": {},
   "outputs": [],
   "source": [
    "import sqlite3\n",
    "import numpy as np\n",
    "from collections import OrderedDict, namedtuple\n",
    "from distutils.spawn import find_executable\n",
    "import matplotlib.pyplot as plt\n",
    "\n",
    "import sys\n",
    "import subprocess\n",
    "import pathlib\n",
    "import tempfile\n",
    "import importlib\n",
    "import os\n",
    "import time\n",
    "import random\n",
    "import pickle\n",
    "\n",
    "import math\n",
    "\n",
    "from configparser import ConfigParser\n",
    "\n",
    "# from google.protobuf.json_format import MessageToDict"
   ]
  },
  {
   "cell_type": "code",
   "execution_count": 2,
   "metadata": {},
   "outputs": [],
   "source": [
    "# DEVICE = 0\n",
    "\n",
    "import os\n",
    "import time\n",
    "import pickle\n",
    "import numpy as np\n",
    "from tqdm import tqdm\n",
    "import matplotlib.pyplot as plt\n",
    "import seaborn as sn\n",
    "import pandas as pd\n",
    "\n",
    "import torch\n",
    "torch.backends.cudnn.benchmark = True\n",
    "import torch.optim as optim\n",
    "import torch.nn as nn\n",
    "import torch.nn.functional as F\n",
    "from torch.autograd import Variable\n",
    "from torch.utils import data\n",
    "\n",
    "# torch.cuda.set_device(DEVICE)\n",
    "torch.cuda.empty_cache() \n",
    "torch.backends.cudnn.benchmark=True"
   ]
  },
  {
   "cell_type": "code",
   "execution_count": 3,
   "metadata": {},
   "outputs": [],
   "source": [
    "np.random.seed(0)\n",
    "torch.manual_seed(0)\n",
    "\n",
    "import os\n",
    "os.environ['CUDA_VISIBLE_DEVICES']='1'"
   ]
  },
  {
   "cell_type": "markdown",
   "metadata": {},
   "source": [
    "# load the dataset"
   ]
  },
  {
   "cell_type": "code",
   "execution_count": 4,
   "metadata": {},
   "outputs": [],
   "source": [
    "with open('scrimmage4_link_dataset.pickle', 'rb') as file:\n",
    "    link_dataset = pickle.load(file)"
   ]
  },
  {
   "cell_type": "code",
   "execution_count": 5,
   "metadata": {},
   "outputs": [],
   "source": [
    "train_x_npn = []\n",
    "train_y_npn = []\n",
    "test_x_npn = []\n",
    "test_y_npn = []\n",
    "\n",
    "train_data = []\n",
    "test_data = []\n",
    "\n",
    "\n",
    "for i in range(len(link_dataset)):\n",
    "    datalen = len(link_dataset[i][1])\n",
    "    trainlen = round(datalen*2/3)\n",
    "    testlen = datalen -trainlen        \n",
    "    train_x_npn = link_dataset[i][0][0:trainlen].numpy()   \n",
    "    train_y_npn = link_dataset[i][1][0:trainlen].numpy()\n",
    "    test_x_npn = link_dataset[i][0][trainlen:trainlen+testlen].numpy()\n",
    "    test_y_npn = link_dataset[i][1][trainlen:trainlen+testlen].numpy()\n",
    "\n",
    "    train_data.append([torch.from_numpy(train_x_npn), torch.from_numpy(train_y_npn)])\n",
    "    test_data.append([torch.from_numpy(test_x_npn), torch.from_numpy(test_y_npn)])"
   ]
  },
  {
   "cell_type": "code",
   "execution_count": 6,
   "metadata": {},
   "outputs": [],
   "source": [
    "class LSTMTagger(nn.Module):\n",
    "\n",
    "    def __init__(self, embedding_dim, hidden_dim, tagset_size):\n",
    "        super(LSTMTagger, self).__init__()\n",
    "        self.hidden_dim = hidden_dim\n",
    "\n",
    "        # The LSTM takes word embeddings as inputs, and outputs hidden states\n",
    "        # with dimensionality hidden_dim.\n",
    "        self.lstm = nn.LSTM(embedding_dim, hidden_dim, 2)\n",
    "\n",
    "        # The linear layer that maps from hidden state space to tag space\n",
    "        self.hidden2tag = nn.Linear(hidden_dim, tagset_size)\n",
    "\n",
    "    def forward(self, sentence):\n",
    "        lstm_out, _ = self.lstm(sentence.view(len(sentence), 1, -1))\n",
    "        tag_space = self.hidden2tag(lstm_out.view(len(sentence), -1))\n",
    "        tag_scores = F.log_softmax(tag_space, dim=1)\n",
    "        return tag_scores"
   ]
  },
  {
   "cell_type": "markdown",
   "metadata": {},
   "source": [
    "# Train Model 10 Epoch"
   ]
  },
  {
   "cell_type": "code",
   "execution_count": 7,
   "metadata": {
    "scrolled": false
   },
   "outputs": [
    {
     "name": "stderr",
     "output_type": "stream",
     "text": [
      "Epoch 0/10, Training: 100%|███████████████████████████| 284/284 [05:32<00:00,  1.17s/it]\n",
      "Epoch 0/10, Validation: 100%|█████████████████████████| 284/284 [06:56<00:00,  1.46s/it]\n",
      "Epoch 1/10, Validation:   0%|                                   | 0/284 [00:00<?, ?it/s]"
     ]
    },
    {
     "name": "stdout",
     "output_type": "stream",
     "text": [
      "train loss: 0.55874, test loss: 0.54806\n"
     ]
    },
    {
     "name": "stderr",
     "output_type": "stream",
     "text": [
      "Epoch 1/10, Training: 100%|███████████████████████████| 284/284 [05:54<00:00,  1.25s/it]\n",
      "Epoch 1/10, Validation: 100%|█████████████████████████| 284/284 [07:18<00:00,  1.54s/it]\n",
      "Epoch 2/10, Validation:   0%|                                   | 0/284 [00:00<?, ?it/s]"
     ]
    },
    {
     "name": "stdout",
     "output_type": "stream",
     "text": [
      "train loss: 0.53973, test loss: 0.54236\n"
     ]
    },
    {
     "name": "stderr",
     "output_type": "stream",
     "text": [
      "Epoch 2/10, Training: 100%|███████████████████████████| 284/284 [05:54<00:00,  1.25s/it]\n",
      "Epoch 2/10, Validation: 100%|█████████████████████████| 284/284 [07:17<00:00,  1.54s/it]\n",
      "Epoch 3/10, Validation:   0%|                                   | 0/284 [00:00<?, ?it/s]"
     ]
    },
    {
     "name": "stdout",
     "output_type": "stream",
     "text": [
      "train loss: 0.53634, test loss: 0.54060\n"
     ]
    },
    {
     "name": "stderr",
     "output_type": "stream",
     "text": [
      "Epoch 3/10, Training: 100%|███████████████████████████| 284/284 [06:45<00:00,  1.43s/it]\n",
      "Epoch 3/10, Validation: 100%|█████████████████████████| 284/284 [09:35<00:00,  2.03s/it]\n",
      "Epoch 4/10, Validation:   0%|                                   | 0/284 [00:00<?, ?it/s]"
     ]
    },
    {
     "name": "stdout",
     "output_type": "stream",
     "text": [
      "train loss: 0.53427, test loss: 0.53987\n"
     ]
    },
    {
     "name": "stderr",
     "output_type": "stream",
     "text": [
      "Epoch 4/10, Training: 100%|███████████████████████████| 284/284 [11:28<00:00,  2.43s/it]\n",
      "Epoch 4/10, Validation: 100%|█████████████████████████| 284/284 [14:19<00:00,  3.02s/it]\n",
      "Epoch 5/10, Validation:   0%|                                   | 0/284 [00:00<?, ?it/s]"
     ]
    },
    {
     "name": "stdout",
     "output_type": "stream",
     "text": [
      "train loss: 0.53150, test loss: 0.54224\n"
     ]
    },
    {
     "name": "stderr",
     "output_type": "stream",
     "text": [
      "Epoch 5/10, Training: 100%|███████████████████████████| 284/284 [11:22<00:00,  2.40s/it]\n",
      "Epoch 5/10, Validation: 100%|█████████████████████████| 284/284 [14:13<00:00,  3.01s/it]\n",
      "Epoch 6/10, Validation:   0%|                                   | 0/284 [00:00<?, ?it/s]"
     ]
    },
    {
     "name": "stdout",
     "output_type": "stream",
     "text": [
      "train loss: 0.52799, test loss: 0.54185\n"
     ]
    },
    {
     "name": "stderr",
     "output_type": "stream",
     "text": [
      "Epoch 6/10, Training: 100%|███████████████████████████| 284/284 [11:32<00:00,  2.44s/it]\n",
      "Epoch 6/10, Validation: 100%|█████████████████████████| 284/284 [14:15<00:00,  3.01s/it]\n",
      "Epoch 7/10, Validation:   0%|                                   | 0/284 [00:00<?, ?it/s]"
     ]
    },
    {
     "name": "stdout",
     "output_type": "stream",
     "text": [
      "train loss: 0.52310, test loss: 0.54798\n"
     ]
    },
    {
     "name": "stderr",
     "output_type": "stream",
     "text": [
      "Epoch 7/10, Training: 100%|███████████████████████████| 284/284 [11:35<00:00,  2.45s/it]\n",
      "Epoch 7/10, Validation: 100%|█████████████████████████| 284/284 [14:26<00:00,  3.05s/it]\n",
      "Epoch 8/10, Validation:   0%|                                   | 0/284 [00:00<?, ?it/s]"
     ]
    },
    {
     "name": "stdout",
     "output_type": "stream",
     "text": [
      "train loss: 0.51852, test loss: 0.54206\n"
     ]
    },
    {
     "name": "stderr",
     "output_type": "stream",
     "text": [
      "Epoch 8/10, Training: 100%|███████████████████████████| 284/284 [11:30<00:00,  2.43s/it]\n",
      "Epoch 8/10, Validation: 100%|█████████████████████████| 284/284 [14:22<00:00,  3.04s/it]\n",
      "Epoch 9/10, Validation:   0%|                                   | 0/284 [00:00<?, ?it/s]"
     ]
    },
    {
     "name": "stdout",
     "output_type": "stream",
     "text": [
      "train loss: 0.52103, test loss: 0.54786\n"
     ]
    },
    {
     "name": "stderr",
     "output_type": "stream",
     "text": [
      "Epoch 9/10, Training: 100%|███████████████████████████| 284/284 [11:38<00:00,  2.46s/it]\n",
      "Epoch 9/10, Validation: 100%|█████████████████████████| 284/284 [14:30<00:00,  3.07s/it]"
     ]
    },
    {
     "name": "stdout",
     "output_type": "stream",
     "text": [
      "train loss: 0.51901, test loss: 0.55966\n"
     ]
    },
    {
     "name": "stderr",
     "output_type": "stream",
     "text": [
      "\n"
     ]
    }
   ],
   "source": [
    "EMBEDDING_DIM = 20\n",
    "HIDDEN_DIM = 100\n",
    "TAGSET_SIZE = 2\n",
    "NUM_EPOCHS = 10\n",
    "\n",
    "model = LSTMTagger(EMBEDDING_DIM, HIDDEN_DIM, TAGSET_SIZE).cuda()\n",
    "model.cuda()\n",
    "\n",
    "loss_function = nn.NLLLoss().cuda()\n",
    "optimizer = optim.Adam(model.parameters(), 0.001)\n",
    "\n",
    "for epoch_idx in range(NUM_EPOCHS): \n",
    "\n",
    "    progress_training_epoch = tqdm(\n",
    "        train_data, \n",
    "        desc=f'Epoch {epoch_idx}/{NUM_EPOCHS}, Training',\n",
    "        miniters=1, ncols=88, position=0,\n",
    "        leave=True, total=len(train_data), smoothing=.9)\n",
    "\n",
    "    progress_validation_epoch = tqdm(\n",
    "        test_data, \n",
    "        desc=f'Epoch {epoch_idx}/{NUM_EPOCHS}, Validation',\n",
    "        miniters=1, ncols=88, position=0, \n",
    "        leave=True, total=len(test_data), smoothing=.9)\n",
    "\n",
    "    train_loss = 0\n",
    "    train_size = 0\n",
    "    model.train()\n",
    "    for idx, (sentence, tags) in enumerate(progress_training_epoch):\n",
    "        sentence = sentence.cuda()\n",
    "        tags = tags.cuda()\n",
    "        model.zero_grad()\n",
    "        tag_scores = model(sentence)\n",
    "        loss = loss_function(tag_scores, tags)\n",
    "        loss.backward()\n",
    "        optimizer.step()\n",
    "        train_loss += loss * tags.size()[0]\n",
    "        train_size += tags.size()[0]\n",
    "\n",
    "    test_loss = 0\n",
    "    test_size = 0\n",
    "    predict = []\n",
    "    target = []\n",
    "    model.eval()\n",
    "    with torch.no_grad():\n",
    "        for idx, (sentence, tags) in enumerate(progress_validation_epoch):\n",
    "            sentence = sentence.cuda()\n",
    "            tags = tags.cuda()\n",
    "            tag_scores = model(sentence)\n",
    "            loss = loss_function(tag_scores, tags)\n",
    "            predict.append(tag_scores.argmax(dim=1).cpu().numpy())\n",
    "            target.append(tags.cpu().numpy())        \n",
    "            test_loss += loss * tags.size()[0]\n",
    "            test_size += tags.size()[0]\n",
    "    predict = np.concatenate(predict, axis=0)\n",
    "    target = np.concatenate(target, axis=0)\n",
    "\n",
    "    print(f'train loss:{train_loss.item()/train_size: .5f}, '\n",
    "          f'test loss:{test_loss.item()/test_size: .5f}')"
   ]
  },
  {
   "cell_type": "markdown",
   "metadata": {},
   "source": [
    "# Test"
   ]
  },
  {
   "cell_type": "code",
   "execution_count": 8,
   "metadata": {},
   "outputs": [
    {
     "name": "stderr",
     "output_type": "stream",
     "text": [
      "Epoch 9/10, Validation: 100%|█████████████████████████| 284/284 [02:46<00:00,  1.70it/s]"
     ]
    },
    {
     "name": "stdout",
     "output_type": "stream",
     "text": [
      "True Positive:1022481, True Negative:554698, False Positive:412301, False Negative:184602\n"
     ]
    },
    {
     "name": "stderr",
     "output_type": "stream",
     "text": [
      "\n"
     ]
    }
   ],
   "source": [
    "progress_validation_epoch = tqdm(\n",
    "    test_data, \n",
    "    desc=f'Epoch {epoch_idx}/{NUM_EPOCHS}, Validation',\n",
    "    miniters=1, ncols=88, position=0, \n",
    "    leave=True, total=len(test_data), smoothing=.9)\n",
    "\n",
    "predict = []\n",
    "target = []\n",
    "model.eval()\n",
    "with torch.no_grad():\n",
    "    for idx, (sentence, tags) in enumerate(progress_validation_epoch):\n",
    "        sentence = sentence.cuda()\n",
    "        tags = tags.cuda()\n",
    "        tag_scores = model(sentence)\n",
    "        predict.append(tag_scores.argmax(dim=1).cpu().numpy())\n",
    "        target.append(tags.cpu().numpy())\n",
    "        \n",
    "predict = np.concatenate(predict, axis=0)\n",
    "target = np.concatenate(target, axis=0)\n",
    "\n",
    "tp = predict[target==1].sum()\n",
    "tn = (target==0).sum() - predict[target==0].sum()\n",
    "fp = predict[target==0].sum()\n",
    "fn = (target==1).sum() - predict[target==1].sum()\n",
    "\n",
    "print(f'True Positive:{tp}, '\n",
    "      f'True Negative:{tn}, '\n",
    "      f'False Positive:{fp}, '\n",
    "      f'False Negative:{fn}')"
   ]
  },
  {
   "cell_type": "code",
   "execution_count": 9,
   "metadata": {},
   "outputs": [
    {
     "name": "stdout",
     "output_type": "stream",
     "text": [
      "Accuracy:0.7254459583401178, Positive Accuracy:0.7126385750587895, Negative Accuracy:0.7503016366833491, Weighted Accuracy:0.7314701058710693\n"
     ]
    }
   ],
   "source": [
    "accr = (tp+tn)/(tp+tn+fp+fn)\n",
    "posaccr = tp/(tp+fp)\n",
    "negaccr = tn/(tn+fn)\n",
    "print(f'Accuracy:{accr}, '\n",
    "      f'Positive Accuracy:{posaccr}, '\n",
    "      f'Negative Accuracy:{negaccr}, '\n",
    "      f'Weighted Accuracy:{0.5*(posaccr+negaccr)}')"
   ]
  },
  {
   "cell_type": "markdown",
   "metadata": {},
   "source": [
    "# Bagging 9"
   ]
  },
  {
   "cell_type": "code",
   "execution_count": 10,
   "metadata": {},
   "outputs": [],
   "source": [
    "with open('scrimmage4_link_dataset.pickle', 'rb') as file:\n",
    "    link_dataset = pickle.load(file)"
   ]
  },
  {
   "cell_type": "code",
   "execution_count": 11,
   "metadata": {},
   "outputs": [
    {
     "name": "stderr",
     "output_type": "stream",
     "text": [
      "Epoch 0/6, Training: 100%|████████████████████████████| 200/200 [11:59<00:00,  3.60s/it]\n",
      "Epoch 0/6, Validation: 100%|██████████████████████████| 284/284 [14:47<00:00,  3.13s/it]\n",
      "Epoch 1/6, Validation:   0%|                                    | 0/284 [00:00<?, ?it/s]"
     ]
    },
    {
     "name": "stdout",
     "output_type": "stream",
     "text": [
      "train loss: 0.56260, test loss: 0.56232\n"
     ]
    },
    {
     "name": "stderr",
     "output_type": "stream",
     "text": [
      "Epoch 1/6, Training: 100%|████████████████████████████| 200/200 [12:11<00:00,  3.66s/it]\n",
      "Epoch 1/6, Validation: 100%|██████████████████████████| 284/284 [14:56<00:00,  3.16s/it]\n",
      "Epoch 2/6, Validation:   0%|                                    | 0/284 [00:00<?, ?it/s]"
     ]
    },
    {
     "name": "stdout",
     "output_type": "stream",
     "text": [
      "train loss: 0.52249, test loss: 0.54733\n"
     ]
    },
    {
     "name": "stderr",
     "output_type": "stream",
     "text": [
      "Epoch 2/6, Training: 100%|████████████████████████████| 200/200 [12:18<00:00,  3.69s/it]\n",
      "Epoch 2/6, Validation: 100%|██████████████████████████| 284/284 [15:07<00:00,  3.19s/it]\n",
      "Epoch 3/6, Validation:   0%|                                    | 0/284 [00:00<?, ?it/s]"
     ]
    },
    {
     "name": "stdout",
     "output_type": "stream",
     "text": [
      "train loss: 0.51187, test loss: 0.54358\n"
     ]
    },
    {
     "name": "stderr",
     "output_type": "stream",
     "text": [
      "Epoch 3/6, Training: 100%|████████████████████████████| 200/200 [12:03<00:00,  3.62s/it]\n",
      "Epoch 3/6, Validation: 100%|██████████████████████████| 284/284 [14:52<00:00,  3.14s/it]\n",
      "Epoch 4/6, Validation:   0%|                                    | 0/284 [00:00<?, ?it/s]"
     ]
    },
    {
     "name": "stdout",
     "output_type": "stream",
     "text": [
      "train loss: 0.50476, test loss: 0.54698\n"
     ]
    },
    {
     "name": "stderr",
     "output_type": "stream",
     "text": [
      "Epoch 4/6, Training: 100%|████████████████████████████| 200/200 [12:21<00:00,  3.71s/it]\n",
      "Epoch 4/6, Validation: 100%|██████████████████████████| 284/284 [15:07<00:00,  3.20s/it]\n",
      "Epoch 5/6, Validation:   0%|                                    | 0/284 [00:00<?, ?it/s]"
     ]
    },
    {
     "name": "stdout",
     "output_type": "stream",
     "text": [
      "train loss: 0.49907, test loss: 0.54655\n"
     ]
    },
    {
     "name": "stderr",
     "output_type": "stream",
     "text": [
      "Epoch 5/6, Training: 100%|████████████████████████████| 200/200 [12:19<00:00,  3.70s/it]\n",
      "Epoch 5/6, Validation: 100%|██████████████████████████| 284/284 [15:09<00:00,  3.20s/it]\n",
      "Epoch 0/6, Validation:   0%|                                    | 0/284 [00:00<?, ?it/s]"
     ]
    },
    {
     "name": "stdout",
     "output_type": "stream",
     "text": [
      "train loss: 0.49557, test loss: 0.52962\n"
     ]
    },
    {
     "name": "stderr",
     "output_type": "stream",
     "text": [
      "Epoch 0/6, Training: 100%|████████████████████████████| 200/200 [11:47<00:00,  3.54s/it]\n",
      "Epoch 0/6, Validation: 100%|██████████████████████████| 284/284 [14:31<00:00,  3.07s/it]\n",
      "Epoch 1/6, Validation:   0%|                                    | 0/284 [00:00<?, ?it/s]"
     ]
    },
    {
     "name": "stdout",
     "output_type": "stream",
     "text": [
      "train loss: 0.58235, test loss: 0.56740\n"
     ]
    },
    {
     "name": "stderr",
     "output_type": "stream",
     "text": [
      "Epoch 1/6, Training: 100%|████████████████████████████| 200/200 [11:54<00:00,  3.57s/it]\n",
      "Epoch 1/6, Validation: 100%|██████████████████████████| 284/284 [14:42<00:00,  3.11s/it]\n",
      "Epoch 2/6, Validation:   0%|                                    | 0/284 [00:00<?, ?it/s]"
     ]
    },
    {
     "name": "stdout",
     "output_type": "stream",
     "text": [
      "train loss: 0.53539, test loss: 0.56506\n"
     ]
    },
    {
     "name": "stderr",
     "output_type": "stream",
     "text": [
      "Epoch 2/6, Training: 100%|████████████████████████████| 200/200 [11:49<00:00,  3.55s/it]\n",
      "Epoch 2/6, Validation: 100%|██████████████████████████| 284/284 [14:38<00:00,  3.09s/it]\n",
      "Epoch 3/6, Validation:   0%|                                    | 0/284 [00:00<?, ?it/s]"
     ]
    },
    {
     "name": "stdout",
     "output_type": "stream",
     "text": [
      "train loss: 0.52352, test loss: 0.55227\n"
     ]
    },
    {
     "name": "stderr",
     "output_type": "stream",
     "text": [
      "Epoch 3/6, Training: 100%|████████████████████████████| 200/200 [11:56<00:00,  3.58s/it]\n",
      "Epoch 3/6, Validation: 100%|██████████████████████████| 284/284 [14:41<00:00,  3.10s/it]\n",
      "Epoch 4/6, Validation:   0%|                                    | 0/284 [00:00<?, ?it/s]"
     ]
    },
    {
     "name": "stdout",
     "output_type": "stream",
     "text": [
      "train loss: 0.51893, test loss: 0.53872\n"
     ]
    },
    {
     "name": "stderr",
     "output_type": "stream",
     "text": [
      "Epoch 4/6, Training: 100%|████████████████████████████| 200/200 [11:52<00:00,  3.56s/it]\n",
      "Epoch 4/6, Validation: 100%|██████████████████████████| 284/284 [14:40<00:00,  3.10s/it]\n",
      "Epoch 5/6, Validation:   0%|                                    | 0/284 [00:00<?, ?it/s]"
     ]
    },
    {
     "name": "stdout",
     "output_type": "stream",
     "text": [
      "train loss: 0.50816, test loss: 0.53980\n"
     ]
    },
    {
     "name": "stderr",
     "output_type": "stream",
     "text": [
      "Epoch 5/6, Training: 100%|████████████████████████████| 200/200 [11:59<00:00,  3.60s/it]\n",
      "Epoch 5/6, Validation: 100%|██████████████████████████| 284/284 [14:46<00:00,  3.12s/it]\n",
      "Epoch 0/6, Validation:   0%|                                    | 0/284 [00:00<?, ?it/s]"
     ]
    },
    {
     "name": "stdout",
     "output_type": "stream",
     "text": [
      "train loss: 0.50241, test loss: 0.52820\n"
     ]
    },
    {
     "name": "stderr",
     "output_type": "stream",
     "text": [
      "Epoch 0/6, Training: 100%|████████████████████████████| 200/200 [11:29<00:00,  3.45s/it]\n",
      "Epoch 0/6, Validation: 100%|██████████████████████████| 284/284 [14:14<00:00,  3.01s/it]\n",
      "Epoch 1/6, Validation:   0%|                                    | 0/284 [00:00<?, ?it/s]"
     ]
    },
    {
     "name": "stdout",
     "output_type": "stream",
     "text": [
      "train loss: 0.58557, test loss: 0.60111\n"
     ]
    },
    {
     "name": "stderr",
     "output_type": "stream",
     "text": [
      "Epoch 1/6, Training: 100%|████████████████████████████| 200/200 [11:29<00:00,  3.45s/it]\n",
      "Epoch 1/6, Validation: 100%|██████████████████████████| 284/284 [14:16<00:00,  3.01s/it]\n",
      "Epoch 2/6, Validation:   0%|                                    | 0/284 [00:00<?, ?it/s]"
     ]
    },
    {
     "name": "stdout",
     "output_type": "stream",
     "text": [
      "train loss: 0.55008, test loss: 0.59383\n"
     ]
    },
    {
     "name": "stderr",
     "output_type": "stream",
     "text": [
      "Epoch 2/6, Training: 100%|████████████████████████████| 200/200 [11:29<00:00,  3.45s/it]\n",
      "Epoch 2/6, Validation: 100%|██████████████████████████| 284/284 [14:17<00:00,  3.02s/it]\n",
      "Epoch 3/6, Validation:   0%|                                    | 0/284 [00:00<?, ?it/s]"
     ]
    },
    {
     "name": "stdout",
     "output_type": "stream",
     "text": [
      "train loss: 0.53327, test loss: 0.58073\n"
     ]
    },
    {
     "name": "stderr",
     "output_type": "stream",
     "text": [
      "Epoch 3/6, Training: 100%|████████████████████████████| 200/200 [11:37<00:00,  3.49s/it]\n",
      "Epoch 3/6, Validation: 100%|██████████████████████████| 284/284 [14:24<00:00,  3.04s/it]\n",
      "Epoch 4/6, Validation:   0%|                                    | 0/284 [00:00<?, ?it/s]"
     ]
    },
    {
     "name": "stdout",
     "output_type": "stream",
     "text": [
      "train loss: 0.52568, test loss: 0.57468\n"
     ]
    },
    {
     "name": "stderr",
     "output_type": "stream",
     "text": [
      "Epoch 4/6, Training: 100%|████████████████████████████| 200/200 [11:42<00:00,  3.51s/it]\n",
      "Epoch 4/6, Validation: 100%|██████████████████████████| 284/284 [14:29<00:00,  3.06s/it]\n",
      "Epoch 5/6, Validation:   0%|                                    | 0/284 [00:00<?, ?it/s]"
     ]
    },
    {
     "name": "stdout",
     "output_type": "stream",
     "text": [
      "train loss: 0.51686, test loss: 0.58161\n"
     ]
    },
    {
     "name": "stderr",
     "output_type": "stream",
     "text": [
      "Epoch 5/6, Training: 100%|████████████████████████████| 200/200 [11:39<00:00,  3.50s/it]\n",
      "Epoch 5/6, Validation: 100%|██████████████████████████| 284/284 [14:27<00:00,  3.05s/it]\n",
      "Epoch 0/6, Validation:   0%|                                    | 0/284 [00:00<?, ?it/s]"
     ]
    },
    {
     "name": "stdout",
     "output_type": "stream",
     "text": [
      "train loss: 0.51068, test loss: 0.57934\n"
     ]
    },
    {
     "name": "stderr",
     "output_type": "stream",
     "text": [
      "Epoch 0/6, Training: 100%|████████████████████████████| 200/200 [10:37<00:00,  3.19s/it]\n",
      "Epoch 0/6, Validation: 100%|██████████████████████████| 284/284 [13:22<00:00,  2.83s/it]\n",
      "Epoch 1/6, Validation:   0%|                                    | 0/284 [00:00<?, ?it/s]"
     ]
    },
    {
     "name": "stdout",
     "output_type": "stream",
     "text": [
      "train loss: 0.55815, test loss: 0.58633\n"
     ]
    },
    {
     "name": "stderr",
     "output_type": "stream",
     "text": [
      "Epoch 1/6, Training: 100%|████████████████████████████| 200/200 [10:39<00:00,  3.20s/it]\n",
      "Epoch 1/6, Validation: 100%|██████████████████████████| 284/284 [13:29<00:00,  2.85s/it]\n",
      "Epoch 2/6, Validation:   0%|                                    | 0/284 [00:00<?, ?it/s]"
     ]
    },
    {
     "name": "stdout",
     "output_type": "stream",
     "text": [
      "train loss: 0.51756, test loss: 0.58103\n"
     ]
    },
    {
     "name": "stderr",
     "output_type": "stream",
     "text": [
      "Epoch 2/6, Training: 100%|████████████████████████████| 200/200 [10:38<00:00,  3.19s/it]\n",
      "Epoch 2/6, Validation: 100%|██████████████████████████| 284/284 [13:26<00:00,  2.84s/it]\n",
      "Epoch 3/6, Validation:   0%|                                    | 0/284 [00:00<?, ?it/s]"
     ]
    },
    {
     "name": "stdout",
     "output_type": "stream",
     "text": [
      "train loss: 0.51025, test loss: 0.57936\n"
     ]
    },
    {
     "name": "stderr",
     "output_type": "stream",
     "text": [
      "Epoch 3/6, Training: 100%|████████████████████████████| 200/200 [10:38<00:00,  3.19s/it]\n",
      "Epoch 3/6, Validation: 100%|██████████████████████████| 284/284 [13:26<00:00,  2.84s/it]\n",
      "Epoch 4/6, Validation:   0%|                                    | 0/284 [00:00<?, ?it/s]"
     ]
    },
    {
     "name": "stdout",
     "output_type": "stream",
     "text": [
      "train loss: 0.50231, test loss: 0.56928\n"
     ]
    },
    {
     "name": "stderr",
     "output_type": "stream",
     "text": [
      "Epoch 4/6, Training: 100%|████████████████████████████| 200/200 [10:49<00:00,  3.25s/it]\n",
      "Epoch 4/6, Validation: 100%|██████████████████████████| 284/284 [13:35<00:00,  2.87s/it]\n",
      "Epoch 5/6, Validation:   0%|                                    | 0/284 [00:00<?, ?it/s]"
     ]
    },
    {
     "name": "stdout",
     "output_type": "stream",
     "text": [
      "train loss: 0.49148, test loss: 0.56322\n"
     ]
    },
    {
     "name": "stderr",
     "output_type": "stream",
     "text": [
      "Epoch 5/6, Training: 100%|████████████████████████████| 200/200 [10:53<00:00,  3.27s/it]\n",
      "Epoch 5/6, Validation: 100%|██████████████████████████| 284/284 [13:40<00:00,  2.89s/it]\n",
      "Epoch 0/6, Validation:   0%|                                    | 0/284 [00:00<?, ?it/s]"
     ]
    },
    {
     "name": "stdout",
     "output_type": "stream",
     "text": [
      "train loss: 0.48841, test loss: 0.56703\n"
     ]
    },
    {
     "name": "stderr",
     "output_type": "stream",
     "text": [
      "Epoch 0/6, Training: 100%|████████████████████████████| 200/200 [11:53<00:00,  3.57s/it]\n",
      "Epoch 0/6, Validation: 100%|██████████████████████████| 284/284 [14:38<00:00,  3.09s/it]\n",
      "Epoch 1/6, Validation:   0%|                                    | 0/284 [00:00<?, ?it/s]"
     ]
    },
    {
     "name": "stdout",
     "output_type": "stream",
     "text": [
      "train loss: 0.56641, test loss: 0.56449\n"
     ]
    },
    {
     "name": "stderr",
     "output_type": "stream",
     "text": [
      "Epoch 1/6, Training: 100%|████████████████████████████| 200/200 [11:54<00:00,  3.57s/it]\n",
      "Epoch 1/6, Validation: 100%|██████████████████████████| 284/284 [14:41<00:00,  3.11s/it]\n",
      "Epoch 2/6, Validation:   0%|                                    | 0/284 [00:00<?, ?it/s]"
     ]
    },
    {
     "name": "stdout",
     "output_type": "stream",
     "text": [
      "train loss: 0.53694, test loss: 0.55833\n"
     ]
    },
    {
     "name": "stderr",
     "output_type": "stream",
     "text": [
      "Epoch 2/6, Training: 100%|████████████████████████████| 200/200 [11:56<00:00,  3.58s/it]\n",
      "Epoch 2/6, Validation: 100%|██████████████████████████| 284/284 [14:45<00:00,  3.12s/it]\n",
      "Epoch 3/6, Validation:   0%|                                    | 0/284 [00:00<?, ?it/s]"
     ]
    },
    {
     "name": "stdout",
     "output_type": "stream",
     "text": [
      "train loss: 0.53282, test loss: 0.55844\n"
     ]
    },
    {
     "name": "stderr",
     "output_type": "stream",
     "text": [
      "Epoch 3/6, Training: 100%|████████████████████████████| 200/200 [11:56<00:00,  3.58s/it]\n",
      "Epoch 3/6, Validation: 100%|██████████████████████████| 284/284 [14:44<00:00,  3.12s/it]\n",
      "Epoch 4/6, Validation:   0%|                                    | 0/284 [00:00<?, ?it/s]"
     ]
    },
    {
     "name": "stdout",
     "output_type": "stream",
     "text": [
      "train loss: 0.52469, test loss: 0.57222\n"
     ]
    },
    {
     "name": "stderr",
     "output_type": "stream",
     "text": [
      "Epoch 4/6, Training: 100%|████████████████████████████| 200/200 [11:53<00:00,  3.57s/it]\n",
      "Epoch 4/6, Validation: 100%|██████████████████████████| 284/284 [14:42<00:00,  3.11s/it]\n",
      "Epoch 5/6, Validation:   0%|                                    | 0/284 [00:00<?, ?it/s]"
     ]
    },
    {
     "name": "stdout",
     "output_type": "stream",
     "text": [
      "train loss: 0.51826, test loss: 0.56737\n"
     ]
    },
    {
     "name": "stderr",
     "output_type": "stream",
     "text": [
      "Epoch 5/6, Training: 100%|████████████████████████████| 200/200 [12:03<00:00,  3.62s/it]\n",
      "Epoch 5/6, Validation: 100%|██████████████████████████| 284/284 [14:52<00:00,  3.14s/it]\n",
      "Epoch 0/6, Validation:   0%|                                    | 0/284 [00:00<?, ?it/s]"
     ]
    },
    {
     "name": "stdout",
     "output_type": "stream",
     "text": [
      "train loss: 0.51797, test loss: 0.56316\n"
     ]
    },
    {
     "name": "stderr",
     "output_type": "stream",
     "text": [
      "Epoch 0/6, Training: 100%|████████████████████████████| 200/200 [12:15<00:00,  3.68s/it]\n",
      "Epoch 0/6, Validation: 100%|██████████████████████████| 284/284 [15:01<00:00,  3.17s/it]\n",
      "Epoch 1/6, Validation:   0%|                                    | 0/284 [00:00<?, ?it/s]"
     ]
    },
    {
     "name": "stdout",
     "output_type": "stream",
     "text": [
      "train loss: 0.54300, test loss: 0.55118\n"
     ]
    },
    {
     "name": "stderr",
     "output_type": "stream",
     "text": [
      "Epoch 1/6, Training: 100%|████████████████████████████| 200/200 [12:14<00:00,  3.67s/it]\n",
      "Epoch 1/6, Validation: 100%|██████████████████████████| 284/284 [15:01<00:00,  3.17s/it]\n",
      "Epoch 2/6, Validation:   0%|                                    | 0/284 [00:00<?, ?it/s]"
     ]
    },
    {
     "name": "stdout",
     "output_type": "stream",
     "text": [
      "train loss: 0.51479, test loss: 0.54108\n"
     ]
    },
    {
     "name": "stderr",
     "output_type": "stream",
     "text": [
      "Epoch 2/6, Training: 100%|████████████████████████████| 200/200 [12:21<00:00,  3.71s/it]\n",
      "Epoch 2/6, Validation: 100%|██████████████████████████| 284/284 [15:09<00:00,  3.20s/it]\n",
      "Epoch 3/6, Validation:   0%|                                    | 0/284 [00:00<?, ?it/s]"
     ]
    },
    {
     "name": "stdout",
     "output_type": "stream",
     "text": [
      "train loss: 0.50741, test loss: 0.53899\n"
     ]
    },
    {
     "name": "stderr",
     "output_type": "stream",
     "text": [
      "Epoch 3/6, Training: 100%|████████████████████████████| 200/200 [12:25<00:00,  3.73s/it]\n",
      "Epoch 3/6, Validation: 100%|██████████████████████████| 284/284 [15:13<00:00,  3.22s/it]\n",
      "Epoch 4/6, Validation:   0%|                                    | 0/284 [00:00<?, ?it/s]"
     ]
    },
    {
     "name": "stdout",
     "output_type": "stream",
     "text": [
      "train loss: 0.49908, test loss: 0.53761\n"
     ]
    },
    {
     "name": "stderr",
     "output_type": "stream",
     "text": [
      "Epoch 4/6, Training: 100%|████████████████████████████| 200/200 [12:27<00:00,  3.74s/it]\n",
      "Epoch 4/6, Validation: 100%|██████████████████████████| 284/284 [15:15<00:00,  3.22s/it]\n",
      "Epoch 5/6, Validation:   0%|                                    | 0/284 [00:00<?, ?it/s]"
     ]
    },
    {
     "name": "stdout",
     "output_type": "stream",
     "text": [
      "train loss: 0.48797, test loss: 0.53658\n"
     ]
    },
    {
     "name": "stderr",
     "output_type": "stream",
     "text": [
      "Epoch 5/6, Training: 100%|████████████████████████████| 200/200 [12:22<00:00,  3.71s/it]\n",
      "Epoch 5/6, Validation: 100%|██████████████████████████| 284/284 [15:11<00:00,  3.21s/it]\n",
      "Epoch 0/6, Validation:   0%|                                    | 0/284 [00:00<?, ?it/s]"
     ]
    },
    {
     "name": "stdout",
     "output_type": "stream",
     "text": [
      "train loss: 0.48430, test loss: 0.54092\n"
     ]
    },
    {
     "name": "stderr",
     "output_type": "stream",
     "text": [
      "Epoch 0/6, Training: 100%|████████████████████████████| 200/200 [11:01<00:00,  3.31s/it]\n",
      "Epoch 0/6, Validation: 100%|██████████████████████████| 284/284 [13:47<00:00,  2.91s/it]\n",
      "Epoch 1/6, Validation:   0%|                                    | 0/284 [00:00<?, ?it/s]"
     ]
    },
    {
     "name": "stdout",
     "output_type": "stream",
     "text": [
      "train loss: 0.57763, test loss: 0.56507\n"
     ]
    },
    {
     "name": "stderr",
     "output_type": "stream",
     "text": [
      "Epoch 1/6, Training: 100%|████████████████████████████| 200/200 [11:03<00:00,  3.32s/it]\n",
      "Epoch 1/6, Validation: 100%|██████████████████████████| 284/284 [13:49<00:00,  2.92s/it]\n",
      "Epoch 2/6, Validation:   0%|                                    | 0/284 [00:00<?, ?it/s]"
     ]
    },
    {
     "name": "stdout",
     "output_type": "stream",
     "text": [
      "train loss: 0.52610, test loss: 0.54648\n"
     ]
    },
    {
     "name": "stderr",
     "output_type": "stream",
     "text": [
      "Epoch 2/6, Training: 100%|████████████████████████████| 200/200 [11:01<00:00,  3.31s/it]\n",
      "Epoch 2/6, Validation: 100%|██████████████████████████| 284/284 [13:47<00:00,  2.91s/it]\n",
      "Epoch 3/6, Validation:   0%|                                    | 0/284 [00:00<?, ?it/s]"
     ]
    },
    {
     "name": "stdout",
     "output_type": "stream",
     "text": [
      "train loss: 0.51723, test loss: 0.55251\n"
     ]
    },
    {
     "name": "stderr",
     "output_type": "stream",
     "text": [
      "Epoch 3/6, Training: 100%|████████████████████████████| 200/200 [11:10<00:00,  3.35s/it]\n",
      "Epoch 3/6, Validation: 100%|██████████████████████████| 284/284 [13:59<00:00,  2.96s/it]\n",
      "Epoch 4/6, Validation:   0%|                                    | 0/284 [00:00<?, ?it/s]"
     ]
    },
    {
     "name": "stdout",
     "output_type": "stream",
     "text": [
      "train loss: 0.50608, test loss: 0.57621\n"
     ]
    },
    {
     "name": "stderr",
     "output_type": "stream",
     "text": [
      "Epoch 4/6, Training: 100%|████████████████████████████| 200/200 [11:10<00:00,  3.35s/it]\n",
      "Epoch 4/6, Validation: 100%|██████████████████████████| 284/284 [14:00<00:00,  2.96s/it]\n",
      "Epoch 5/6, Validation:   0%|                                    | 0/284 [00:00<?, ?it/s]"
     ]
    },
    {
     "name": "stdout",
     "output_type": "stream",
     "text": [
      "train loss: 0.50363, test loss: 0.54715\n"
     ]
    },
    {
     "name": "stderr",
     "output_type": "stream",
     "text": [
      "Epoch 5/6, Training: 100%|████████████████████████████| 200/200 [11:07<00:00,  3.34s/it]\n",
      "Epoch 5/6, Validation: 100%|██████████████████████████| 284/284 [13:57<00:00,  2.95s/it]\n",
      "Epoch 0/6, Validation:   0%|                                    | 0/284 [00:00<?, ?it/s]"
     ]
    },
    {
     "name": "stdout",
     "output_type": "stream",
     "text": [
      "train loss: 0.48916, test loss: 0.53306\n"
     ]
    },
    {
     "name": "stderr",
     "output_type": "stream",
     "text": [
      "Epoch 0/6, Training: 100%|████████████████████████████| 200/200 [11:28<00:00,  3.44s/it]\n",
      "Epoch 0/6, Validation: 100%|██████████████████████████| 284/284 [14:16<00:00,  3.01s/it]\n",
      "Epoch 1/6, Validation:   0%|                                    | 0/284 [00:00<?, ?it/s]"
     ]
    },
    {
     "name": "stdout",
     "output_type": "stream",
     "text": [
      "train loss: 0.57455, test loss: 0.54776\n"
     ]
    },
    {
     "name": "stderr",
     "output_type": "stream",
     "text": [
      "Epoch 1/6, Training: 100%|████████████████████████████| 200/200 [11:39<00:00,  3.50s/it]\n",
      "Epoch 1/6, Validation: 100%|██████████████████████████| 284/284 [14:25<00:00,  3.05s/it]\n",
      "Epoch 2/6, Validation:   0%|                                    | 0/284 [00:00<?, ?it/s]"
     ]
    },
    {
     "name": "stdout",
     "output_type": "stream",
     "text": [
      "train loss: 0.53155, test loss: 0.53702\n"
     ]
    },
    {
     "name": "stderr",
     "output_type": "stream",
     "text": [
      "Epoch 2/6, Training: 100%|████████████████████████████| 200/200 [11:46<00:00,  3.53s/it]\n",
      "Epoch 2/6, Validation: 100%|██████████████████████████| 284/284 [14:33<00:00,  3.08s/it]\n",
      "Epoch 3/6, Validation:   0%|                                    | 0/284 [00:00<?, ?it/s]"
     ]
    },
    {
     "name": "stdout",
     "output_type": "stream",
     "text": [
      "train loss: 0.52217, test loss: 0.53654\n"
     ]
    },
    {
     "name": "stderr",
     "output_type": "stream",
     "text": [
      "Epoch 3/6, Training: 100%|████████████████████████████| 200/200 [11:37<00:00,  3.49s/it]\n",
      "Epoch 3/6, Validation: 100%|██████████████████████████| 284/284 [14:27<00:00,  3.05s/it]\n",
      "Epoch 4/6, Validation:   0%|                                    | 0/284 [00:00<?, ?it/s]"
     ]
    },
    {
     "name": "stdout",
     "output_type": "stream",
     "text": [
      "train loss: 0.51153, test loss: 0.53607\n"
     ]
    },
    {
     "name": "stderr",
     "output_type": "stream",
     "text": [
      "Epoch 4/6, Training: 100%|████████████████████████████| 200/200 [11:45<00:00,  3.53s/it]\n",
      "Epoch 4/6, Validation: 100%|██████████████████████████| 284/284 [14:34<00:00,  3.08s/it]\n",
      "Epoch 5/6, Validation:   0%|                                    | 0/284 [00:00<?, ?it/s]"
     ]
    },
    {
     "name": "stdout",
     "output_type": "stream",
     "text": [
      "train loss: 0.50608, test loss: 0.54341\n"
     ]
    },
    {
     "name": "stderr",
     "output_type": "stream",
     "text": [
      "Epoch 5/6, Training: 100%|████████████████████████████| 200/200 [11:49<00:00,  3.55s/it]\n",
      "Epoch 5/6, Validation: 100%|██████████████████████████| 284/284 [14:39<00:00,  3.10s/it]\n",
      "Epoch 0/6, Validation:   0%|                                    | 0/284 [00:00<?, ?it/s]"
     ]
    },
    {
     "name": "stdout",
     "output_type": "stream",
     "text": [
      "train loss: 0.49759, test loss: 0.54182\n"
     ]
    },
    {
     "name": "stderr",
     "output_type": "stream",
     "text": [
      "Epoch 0/6, Training: 100%|████████████████████████████| 200/200 [11:14<00:00,  3.37s/it]\n",
      "Epoch 0/6, Validation: 100%|██████████████████████████| 284/284 [14:02<00:00,  2.97s/it]\n",
      "Epoch 1/6, Validation:   0%|                                    | 0/284 [00:00<?, ?it/s]"
     ]
    },
    {
     "name": "stdout",
     "output_type": "stream",
     "text": [
      "train loss: 0.56758, test loss: 0.57860\n"
     ]
    },
    {
     "name": "stderr",
     "output_type": "stream",
     "text": [
      "Epoch 1/6, Training: 100%|████████████████████████████| 200/200 [11:22<00:00,  3.41s/it]\n",
      "Epoch 1/6, Validation: 100%|██████████████████████████| 284/284 [14:09<00:00,  2.99s/it]\n",
      "Epoch 2/6, Validation:   0%|                                    | 0/284 [00:00<?, ?it/s]"
     ]
    },
    {
     "name": "stdout",
     "output_type": "stream",
     "text": [
      "train loss: 0.52811, test loss: 0.54510\n"
     ]
    },
    {
     "name": "stderr",
     "output_type": "stream",
     "text": [
      "Epoch 2/6, Training: 100%|████████████████████████████| 200/200 [11:25<00:00,  3.43s/it]\n",
      "Epoch 2/6, Validation: 100%|██████████████████████████| 284/284 [14:13<00:00,  3.01s/it]\n",
      "Epoch 3/6, Validation:   0%|                                    | 0/284 [00:00<?, ?it/s]"
     ]
    },
    {
     "name": "stdout",
     "output_type": "stream",
     "text": [
      "train loss: 0.52141, test loss: 0.54794\n"
     ]
    },
    {
     "name": "stderr",
     "output_type": "stream",
     "text": [
      "Epoch 3/6, Training: 100%|████████████████████████████| 200/200 [11:26<00:00,  3.43s/it]\n",
      "Epoch 3/6, Validation: 100%|██████████████████████████| 284/284 [14:16<00:00,  3.02s/it]\n",
      "Epoch 4/6, Validation:   0%|                                    | 0/284 [00:00<?, ?it/s]"
     ]
    },
    {
     "name": "stdout",
     "output_type": "stream",
     "text": [
      "train loss: 0.51313, test loss: 0.54682\n"
     ]
    },
    {
     "name": "stderr",
     "output_type": "stream",
     "text": [
      "Epoch 4/6, Training: 100%|████████████████████████████| 200/200 [11:23<00:00,  3.42s/it]\n",
      "Epoch 4/6, Validation: 100%|██████████████████████████| 284/284 [14:14<00:00,  3.01s/it]\n",
      "Epoch 5/6, Validation:   0%|                                    | 0/284 [00:00<?, ?it/s]"
     ]
    },
    {
     "name": "stdout",
     "output_type": "stream",
     "text": [
      "train loss: 0.50629, test loss: 0.53550\n"
     ]
    },
    {
     "name": "stderr",
     "output_type": "stream",
     "text": [
      "Epoch 5/6, Training: 100%|████████████████████████████| 200/200 [11:26<00:00,  3.43s/it]\n",
      "Epoch 5/6, Validation: 100%|██████████████████████████| 284/284 [14:18<00:00,  3.02s/it]"
     ]
    },
    {
     "name": "stdout",
     "output_type": "stream",
     "text": [
      "train loss: 0.49545, test loss: 0.53037\n"
     ]
    },
    {
     "name": "stderr",
     "output_type": "stream",
     "text": [
      "\n"
     ]
    }
   ],
   "source": [
    "EMBEDDING_DIM = 20\n",
    "HIDDEN_DIM = 100\n",
    "TAGSET_SIZE = 2\n",
    "NUM_EPOCHS = 6\n",
    "model_list = []\n",
    "\n",
    "for model_idx in range(9):\n",
    "    \n",
    "    train_data = []\n",
    "    for link_idx in np.random.choice(200,size=200,replace=True):\n",
    "        train_data.append(link_dataset[link_idx])\n",
    "    \n",
    "    model = LSTMTagger(EMBEDDING_DIM, HIDDEN_DIM, TAGSET_SIZE)\n",
    "    model.cuda()\n",
    "    loss_function = nn.NLLLoss().cuda()\n",
    "    optimizer = optim.Adam(model.parameters(), 0.001)\n",
    "\n",
    "    model.train()\n",
    "    for epoch_idx in range(NUM_EPOCHS):  \n",
    "\n",
    "        progress_training_epoch = tqdm(\n",
    "            train_data, \n",
    "            desc=f'Epoch {epoch_idx}/{NUM_EPOCHS}, Training',\n",
    "            miniters=1, ncols=88, position=0,\n",
    "            leave=True, total=len(train_data), smoothing=.9)\n",
    "\n",
    "        progress_validation_epoch = tqdm(\n",
    "            test_data, \n",
    "            desc=f'Epoch {epoch_idx}/{NUM_EPOCHS}, Validation',\n",
    "            miniters=1, ncols=88, position=0, \n",
    "            leave=True, total=len(test_data), smoothing=.9)\n",
    "\n",
    "        train_loss = 0\n",
    "        train_size = 0\n",
    "        model.train()\n",
    "        for idx, (sentence, tags) in enumerate(progress_training_epoch):\n",
    "            sentence = sentence.cuda()\n",
    "            tags = tags.cuda()\n",
    "            model.zero_grad()\n",
    "            tag_scores = model(sentence)\n",
    "            loss = loss_function(tag_scores, tags)\n",
    "            loss.backward()\n",
    "            optimizer.step()\n",
    "            train_loss += loss * tags.size()[0]\n",
    "            train_size += tags.size()[0]\n",
    "\n",
    "        test_loss = 0\n",
    "        test_size = 0\n",
    "        model.eval()\n",
    "        with torch.no_grad():\n",
    "            for idx, (sentence, tags) in enumerate(progress_validation_epoch):\n",
    "                sentence = sentence.cuda()\n",
    "                tags = tags.cuda()\n",
    "                tag_scores = model(sentence)\n",
    "                loss = loss_function(tag_scores, tags) \n",
    "                test_loss += loss * tags.size()[0]\n",
    "                test_size += tags.size()[0]\n",
    "\n",
    "        print(f'train loss:{train_loss.item()/train_size: .5f}, '\n",
    "              f'test loss:{test_loss.item()/test_size: .5f}')\n",
    "        \n",
    "    model_list.append(model)"
   ]
  },
  {
   "cell_type": "markdown",
   "metadata": {},
   "source": [
    "# Test"
   ]
  },
  {
   "cell_type": "code",
   "execution_count": 12,
   "metadata": {},
   "outputs": [
    {
     "name": "stderr",
     "output_type": "stream",
     "text": [
      "Epoch 5/6, Validation: 100%|██████████████████████████| 284/284 [02:49<00:00,  1.68it/s]\n",
      "Epoch 5/6, Validation: 100%|██████████████████████████| 284/284 [02:47<00:00,  1.69it/s]\n",
      "Epoch 5/6, Validation: 100%|██████████████████████████| 284/284 [02:45<00:00,  1.72it/s]\n",
      "Epoch 5/6, Validation: 100%|██████████████████████████| 284/284 [02:46<00:00,  1.70it/s]\n",
      "Epoch 5/6, Validation: 100%|██████████████████████████| 284/284 [02:48<00:00,  1.68it/s]\n",
      "Epoch 5/6, Validation: 100%|██████████████████████████| 284/284 [02:49<00:00,  1.67it/s]\n",
      "Epoch 5/6, Validation: 100%|██████████████████████████| 284/284 [02:49<00:00,  1.68it/s]\n",
      "Epoch 5/6, Validation: 100%|██████████████████████████| 284/284 [02:48<00:00,  1.69it/s]\n",
      "Epoch 5/6, Validation: 100%|██████████████████████████| 284/284 [02:46<00:00,  1.71it/s]\n"
     ]
    },
    {
     "name": "stdout",
     "output_type": "stream",
     "text": [
      "True Positive:1076652, True Negative:571788, False Positive:395211, False Negative:130431\n"
     ]
    }
   ],
   "source": [
    "predict_agg = []\n",
    "target_agg = []\n",
    "\n",
    "for model in model_list:\n",
    "    \n",
    "    progress_validation_epoch = tqdm(\n",
    "        test_data, \n",
    "        desc=f'Epoch {epoch_idx}/{NUM_EPOCHS}, Validation',\n",
    "        miniters=1, ncols=88, position=0, \n",
    "        leave=True, total=len(test_data), smoothing=.9)\n",
    "    \n",
    "    predict = []\n",
    "    target = []\n",
    "    model.eval()\n",
    "    with torch.no_grad():\n",
    "        for idx, (sentence, tags) in enumerate(progress_validation_epoch):\n",
    "            sentence = sentence.cuda()\n",
    "            tags = tags.cuda()\n",
    "            tag_scores = model(sentence)\n",
    "            predict.append(tag_scores.argmax(dim=1).cpu().numpy())\n",
    "            target.append(tags.cpu().numpy())        \n",
    "    predict = np.concatenate(predict, axis=0)\n",
    "    target = np.concatenate(target, axis=0)\n",
    "    \n",
    "    predict_agg.append(predict)\n",
    "    target_agg.append(target)\n",
    "    \n",
    "predict = (np.array(predict_agg).sum(axis=0) > 4.5)\n",
    "target = target_agg[0]\n",
    "tp = predict[target==1].sum()\n",
    "tn = (target==0).sum() - predict[target==0].sum()\n",
    "fp = predict[target==0].sum()\n",
    "fn = (target==1).sum() - predict[target==1].sum()\n",
    "\n",
    "print(f'True Positive:{tp}, '\n",
    "      f'True Negative:{tn}, '\n",
    "      f'False Positive:{fp}, '\n",
    "      f'False Negative:{fn}')\n"
   ]
  },
  {
   "cell_type": "code",
   "execution_count": 13,
   "metadata": {},
   "outputs": [
    {
     "name": "stdout",
     "output_type": "stream",
     "text": [
      "Accuracy:0.7582234708718438, Positive Accuracy:0.7314892758361342, Negative Accuracy:0.8142587996052514, Weighted Accuracy:0.7728740377206929\n"
     ]
    }
   ],
   "source": [
    "accr = (tp+tn)/(tp+tn+fp+fn)\n",
    "posaccr = tp/(tp+fp)\n",
    "negaccr = tn/(tn+fn)\n",
    "print(f'Accuracy:{accr}, '\n",
    "      f'Positive Accuracy:{posaccr}, '\n",
    "      f'Negative Accuracy:{negaccr}, '\n",
    "      f'Weighted Accuracy:{0.5*(posaccr+negaccr)}')"
   ]
  }
 ],
 "metadata": {
  "kernelspec": {
   "display_name": "Python 3",
   "language": "python",
   "name": "python3"
  },
  "language_info": {
   "codemirror_mode": {
    "name": "ipython",
    "version": 3
   },
   "file_extension": ".py",
   "mimetype": "text/x-python",
   "name": "python",
   "nbconvert_exporter": "python",
   "pygments_lexer": "ipython3",
   "version": "3.7.5"
  }
 },
 "nbformat": 4,
 "nbformat_minor": 2
}
