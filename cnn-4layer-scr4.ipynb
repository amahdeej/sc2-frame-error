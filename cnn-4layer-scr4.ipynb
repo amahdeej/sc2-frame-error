{
 "cells": [
  {
   "cell_type": "markdown",
   "metadata": {},
   "source": [
    "# Libraries"
   ]
  },
  {
   "cell_type": "code",
   "execution_count": 1,
   "metadata": {},
   "outputs": [],
   "source": [
    "import sqlite3\n",
    "import numpy as np\n",
    "from collections import OrderedDict, namedtuple\n",
    "from distutils.spawn import find_executable\n",
    "import matplotlib.pyplot as plt\n",
    "\n",
    "import sys\n",
    "import subprocess\n",
    "import pathlib\n",
    "import tempfile\n",
    "import importlib\n",
    "import time\n",
    "import random\n",
    "import pickle\n",
    "\n",
    "import math\n",
    "\n",
    "from configparser import ConfigParser\n",
    "\n",
    "# from google.protobuf.json_format import MessageToDict"
   ]
  },
  {
   "cell_type": "code",
   "execution_count": 2,
   "metadata": {},
   "outputs": [],
   "source": [
    "# DEVICE = 0\n",
    "\n",
    "import os\n",
    "import time\n",
    "import pickle\n",
    "import numpy as np\n",
    "from tqdm import tqdm\n",
    "import matplotlib.pyplot as plt\n",
    "import seaborn as sn\n",
    "import pandas as pd\n",
    "\n",
    "import torch\n",
    "torch.backends.cudnn.benchmark = True\n",
    "import torch.optim as optim\n",
    "import torch.nn as nn\n",
    "import torch.nn.functional as F\n",
    "from torch.autograd import Variable\n",
    "from torch.utils import data\n",
    "\n",
    "# torch.cuda.set_device(DEVICE)\n",
    "torch.cuda.empty_cache() \n",
    "torch.backends.cudnn.benchmark=True"
   ]
  },
  {
   "cell_type": "code",
   "execution_count": 3,
   "metadata": {},
   "outputs": [],
   "source": [
    "np.random.seed(0)\n",
    "torch.manual_seed(0)\n",
    "\n",
    "import os\n",
    "os.environ['CUDA_VISIBLE_DEVICES']='0'"
   ]
  },
  {
   "cell_type": "markdown",
   "metadata": {},
   "source": [
    "# load the dataset"
   ]
  },
  {
   "cell_type": "code",
   "execution_count": 4,
   "metadata": {},
   "outputs": [],
   "source": [
    "with open('scrimmage4_link_dataset.pickle', 'rb') as file:\n",
    "    link_dataset = pickle.load(file)"
   ]
  },
  {
   "cell_type": "code",
   "execution_count": 5,
   "metadata": {},
   "outputs": [],
   "source": [
    "train_data = link_dataset[:200] \n",
    "test_data = link_dataset[200:]"
   ]
  },
  {
   "cell_type": "code",
   "execution_count": 6,
   "metadata": {},
   "outputs": [],
   "source": [
    "train_x = torch.cat(tuple(link[0] for link in train_data),dim=0)\n",
    "train_y = torch.cat(tuple(link[1] for link in train_data),dim=0)\n",
    "\n",
    "test_x = torch.cat(tuple(link[0] for link in test_data),dim=0)\n",
    "test_y = torch.cat(tuple(link[1] for link in test_data),dim=0)"
   ]
  },
  {
   "cell_type": "code",
   "execution_count": 7,
   "metadata": {},
   "outputs": [],
   "source": [
    "train_x = train_x.view(-1,1,20)\n",
    "test_x = test_x.view(-1,1,20)"
   ]
  },
  {
   "cell_type": "code",
   "execution_count": 8,
   "metadata": {},
   "outputs": [
    {
     "data": {
      "text/plain": [
       "torch.Size([2046930, 1, 20])"
      ]
     },
     "execution_count": 8,
     "metadata": {},
     "output_type": "execute_result"
    }
   ],
   "source": [
    "test_x.size()"
   ]
  },
  {
   "cell_type": "code",
   "execution_count": 9,
   "metadata": {},
   "outputs": [],
   "source": [
    "class CNN(nn.Module):\n",
    "\n",
    "    def __init__(self):\n",
    "        super(CNN, self).__init__()\n",
    "        self.conv1 = nn.Conv1d(in_channels=1, out_channels=16, kernel_size=3, padding=1)\n",
    "        self.norm1 = nn.BatchNorm1d(num_features=16)\n",
    "        \n",
    "        self.conv2 = nn.Conv1d(in_channels=16, out_channels=16, kernel_size=3, padding=1)\n",
    "        self.norm2 = nn.BatchNorm1d(num_features=16)\n",
    "        \n",
    "        self.conv3 = nn.Conv1d(in_channels=16, out_channels=16, kernel_size=3, padding=1)\n",
    "        self.norm3 = nn.BatchNorm1d(num_features=16)\n",
    "        \n",
    "        self.conv4 = nn.Conv1d(in_channels=16, out_channels=16, kernel_size=3, padding=1)\n",
    "        self.norm4 = nn.BatchNorm1d(num_features=16)\n",
    "        \n",
    "        self.dropout = nn.Dropout(p=0.5)\n",
    "        self.linear = nn.Linear(in_features=16*20, out_features=2)\n",
    "\n",
    "    def forward(self, input):\n",
    "        output = self.conv1(input)\n",
    "        output = self.norm1(output)\n",
    "        output = F.relu(output)\n",
    "        \n",
    "        output = self.conv2(output)\n",
    "        output = self.norm2(output)\n",
    "        output = F.relu(output)\n",
    "        \n",
    "        output = self.conv3(output)\n",
    "        output = self.norm3(output)\n",
    "        output = F.relu(output)\n",
    "        \n",
    "        output = self.conv4(output)\n",
    "        output = self.norm4(output)\n",
    "        output = F.relu(output)\n",
    "        \n",
    "        output = output.view(-1,16*20)\n",
    "        output = self.dropout(output)\n",
    "        output = self.linear(output)\n",
    "        \n",
    "        return output"
   ]
  },
  {
   "cell_type": "markdown",
   "metadata": {},
   "source": [
    "# Train Model"
   ]
  },
  {
   "cell_type": "code",
   "execution_count": 10,
   "metadata": {
    "scrolled": false
   },
   "outputs": [
    {
     "name": "stderr",
     "output_type": "stream",
     "text": [
      "Epoch 0/10, Training: 100%|█████████████████████████| 4371/4371 [02:04<00:00, 35.16it/s]\n",
      "Epoch 0/10, Validation: 100%|███████████████████████| 1999/1999 [02:44<00:00, 12.13it/s]\n",
      "Epoch 1/10, Validation:   0%|                                  | 0/1999 [00:00<?, ?it/s]"
     ]
    },
    {
     "name": "stdout",
     "output_type": "stream",
     "text": [
      "train loss: 0.50448, test loss: 0.59082\n"
     ]
    },
    {
     "name": "stderr",
     "output_type": "stream",
     "text": [
      "Epoch 1/10, Training: 100%|█████████████████████████| 4371/4371 [02:00<00:00, 36.39it/s]\n",
      "Epoch 1/10, Validation: 100%|███████████████████████| 1999/1999 [02:45<00:00, 12.09it/s]\n",
      "Epoch 2/10, Validation:   0%|                                  | 0/1999 [00:00<?, ?it/s]"
     ]
    },
    {
     "name": "stdout",
     "output_type": "stream",
     "text": [
      "train loss: 0.46001, test loss: 0.64298\n"
     ]
    },
    {
     "name": "stderr",
     "output_type": "stream",
     "text": [
      "Epoch 2/10, Training: 100%|█████████████████████████| 4371/4371 [01:54<00:00, 38.30it/s]\n",
      "Epoch 2/10, Validation: 100%|███████████████████████| 1999/1999 [02:33<00:00, 13.05it/s]\n",
      "Epoch 3/10, Validation:   0%|                                  | 0/1999 [00:00<?, ?it/s]"
     ]
    },
    {
     "name": "stdout",
     "output_type": "stream",
     "text": [
      "train loss: 0.44988, test loss: 0.67951\n"
     ]
    },
    {
     "name": "stderr",
     "output_type": "stream",
     "text": [
      "Epoch 3/10, Training: 100%|█████████████████████████| 4371/4371 [02:00<00:00, 36.33it/s]\n",
      "Epoch 3/10, Validation: 100%|███████████████████████| 1999/1999 [02:50<00:00, 11.74it/s]\n",
      "Epoch 4/10, Validation:   0%|                                  | 0/1999 [00:00<?, ?it/s]"
     ]
    },
    {
     "name": "stdout",
     "output_type": "stream",
     "text": [
      "train loss: 0.44564, test loss: 0.69015\n"
     ]
    },
    {
     "name": "stderr",
     "output_type": "stream",
     "text": [
      "Epoch 4/10, Training: 100%|█████████████████████████| 4371/4371 [01:44<00:00, 41.72it/s]\n",
      "Epoch 4/10, Validation: 100%|███████████████████████| 1999/1999 [02:34<00:00, 12.97it/s]\n",
      "Epoch 5/10, Validation:   0%|                                  | 0/1999 [00:00<?, ?it/s]"
     ]
    },
    {
     "name": "stdout",
     "output_type": "stream",
     "text": [
      "train loss: 0.44286, test loss: 0.70586\n"
     ]
    },
    {
     "name": "stderr",
     "output_type": "stream",
     "text": [
      "Epoch 5/10, Training: 100%|█████████████████████████| 4371/4371 [02:00<00:00, 36.29it/s]\n",
      "Epoch 5/10, Validation: 100%|███████████████████████| 1999/1999 [02:41<00:00, 12.36it/s]\n",
      "Epoch 6/10, Validation:   0%|                                  | 0/1999 [00:00<?, ?it/s]"
     ]
    },
    {
     "name": "stdout",
     "output_type": "stream",
     "text": [
      "train loss: 0.44113, test loss: 0.69217\n"
     ]
    },
    {
     "name": "stderr",
     "output_type": "stream",
     "text": [
      "Epoch 6/10, Training: 100%|█████████████████████████| 4371/4371 [01:54<00:00, 38.33it/s]\n",
      "Epoch 6/10, Validation: 100%|███████████████████████| 1999/1999 [02:39<00:00, 12.56it/s]\n",
      "Epoch 7/10, Validation:   0%|                                  | 0/1999 [00:00<?, ?it/s]"
     ]
    },
    {
     "name": "stdout",
     "output_type": "stream",
     "text": [
      "train loss: 0.44012, test loss: 0.70263\n"
     ]
    },
    {
     "name": "stderr",
     "output_type": "stream",
     "text": [
      "Epoch 7/10, Training: 100%|█████████████████████████| 4371/4371 [02:03<00:00, 35.53it/s]\n",
      "Epoch 7/10, Validation: 100%|███████████████████████| 1999/1999 [02:40<00:00, 12.47it/s]\n",
      "Epoch 8/10, Validation:   0%|                                  | 0/1999 [00:00<?, ?it/s]"
     ]
    },
    {
     "name": "stdout",
     "output_type": "stream",
     "text": [
      "train loss: 0.43927, test loss: 0.70478\n"
     ]
    },
    {
     "name": "stderr",
     "output_type": "stream",
     "text": [
      "Epoch 8/10, Training: 100%|█████████████████████████| 4371/4371 [01:53<00:00, 38.53it/s]\n",
      "Epoch 8/10, Validation: 100%|███████████████████████| 1999/1999 [02:38<00:00, 12.58it/s]\n",
      "Epoch 9/10, Validation:   0%|                                  | 0/1999 [00:00<?, ?it/s]"
     ]
    },
    {
     "name": "stdout",
     "output_type": "stream",
     "text": [
      "train loss: 0.43855, test loss: 0.70946\n"
     ]
    },
    {
     "name": "stderr",
     "output_type": "stream",
     "text": [
      "Epoch 9/10, Training: 100%|█████████████████████████| 4371/4371 [01:51<00:00, 39.27it/s]\n",
      "Epoch 9/10, Validation: 100%|███████████████████████| 1999/1999 [02:28<00:00, 13.44it/s]"
     ]
    },
    {
     "name": "stdout",
     "output_type": "stream",
     "text": [
      "train loss: 0.43804, test loss: 0.69988\n"
     ]
    },
    {
     "name": "stderr",
     "output_type": "stream",
     "text": [
      "\n"
     ]
    }
   ],
   "source": [
    "NUM_EPOCHS = 10\n",
    "BATCH_SIZE = 1024\n",
    "\n",
    "model = CNN()\n",
    "model.cuda()\n",
    "\n",
    "loss_function = nn.CrossEntropyLoss(weight=torch.tensor([1.0,1.0])).cuda()\n",
    "optimizer = optim.Adam(model.parameters(), 0.001)\n",
    "# optimizer = optim.SGD(model.parameters(), lr=0.001)\n",
    "\n",
    "train_dataloader = data.DataLoader(\n",
    "    dataset=data.TensorDataset(train_x,train_y), \n",
    "    batch_size=BATCH_SIZE, shuffle=True, num_workers=16, pin_memory=True)\n",
    "\n",
    "test_dataloader = data.DataLoader(\n",
    "    data.TensorDataset(test_x,test_y), \n",
    "    batch_size=BATCH_SIZE, shuffle=False, num_workers=16, pin_memory=True)\n",
    "\n",
    "model.train()\n",
    "for epoch_idx in range(NUM_EPOCHS):  # again, normally you would NOT do 300 epochs, it is toy data\n",
    "\n",
    "    progress_training_epoch = tqdm(\n",
    "        train_dataloader, \n",
    "        desc=f'Epoch {epoch_idx}/{NUM_EPOCHS}, Training',\n",
    "        miniters=1, ncols=88, position=0,\n",
    "        leave=True, total=len(train_dataloader), smoothing=.9)\n",
    "\n",
    "    progress_validation_epoch = tqdm(\n",
    "        test_dataloader, \n",
    "        desc=f'Epoch {epoch_idx}/{NUM_EPOCHS}, Validation',\n",
    "        miniters=1, ncols=88, position=0, \n",
    "        leave=True, total=len(test_dataloader), smoothing=.9)\n",
    "\n",
    "    train_loss = 0\n",
    "    train_size = 0\n",
    "    for idx, (input, target) in enumerate(progress_training_epoch):\n",
    "        input = input.cuda()\n",
    "        target = target.cuda()\n",
    "        model.zero_grad()\n",
    "        predict = model(input)\n",
    "        loss = loss_function(predict, target)\n",
    "        loss.backward()\n",
    "        optimizer.step()\n",
    "        train_loss += loss * target.size()[0]\n",
    "        train_size += target.size()[0]\n",
    "\n",
    "    test_loss = 0\n",
    "    test_size = 0\n",
    "    predict = []\n",
    "    target = []\n",
    "    model.eval()\n",
    "    with torch.no_grad():\n",
    "        for idx, (batch_input, batch_target) in enumerate(progress_validation_epoch):\n",
    "            batch_input = batch_input.cuda()\n",
    "            batch_target = batch_target.cuda()\n",
    "            batch_predict = model(batch_input)\n",
    "            loss = loss_function(batch_predict, batch_target)\n",
    "            predict.append(batch_predict.argmax(dim=1).cpu().numpy())\n",
    "            target.append(batch_target.cpu().numpy())        \n",
    "            test_loss += loss * batch_target.size()[0]\n",
    "            test_size += batch_target.size()[0]\n",
    "    predict = np.concatenate(predict, axis=0)\n",
    "    target = np.concatenate(target, axis=0)\n",
    "\n",
    "#     print(f'train loss:{train_loss.item()/train_size: .5f}, '\n",
    "#           f'test loss:{test_loss.item()/test_size: .5f}, '\n",
    "#           f'overall accuracy:{(predict == target).sum() / target.size}, '\n",
    "#           f'positive accuracy:{predict[target==1].sum() / target.sum()}, '\n",
    "#           f'negative accuracy:{(np.logical_not(target).sum() - predict[np.logical_not(target)].sum()) / np.logical_not(target).sum()}')\n",
    "    \n",
    "    print(f'train loss:{train_loss.item()/train_size: .5f}, '\n",
    "          f'test loss:{test_loss.item()/test_size: .5f}')"
   ]
  },
  {
   "cell_type": "code",
   "execution_count": 11,
   "metadata": {},
   "outputs": [
    {
     "name": "stdout",
     "output_type": "stream",
     "text": [
      "True Positive:1017523, True Negative:288909, False Positive:402509, False Negative:337989\n"
     ]
    }
   ],
   "source": [
    "test_dataloader = data.DataLoader(\n",
    "    data.TensorDataset(test_x,test_y), \n",
    "    batch_size=BATCH_SIZE, shuffle=False, num_workers=16, pin_memory=True)\n",
    "\n",
    "predict = []\n",
    "target = []\n",
    "model.eval()\n",
    "with torch.no_grad():\n",
    "    for idx, (batch_input, batch_target) in enumerate(progress_validation_epoch):\n",
    "        batch_input = batch_input.cuda()\n",
    "        batch_target = batch_target.cuda()\n",
    "        batch_predict = model(batch_input)\n",
    "        predict.append(batch_predict.argmax(dim=1).cpu().numpy())\n",
    "        target.append(batch_target.cpu().numpy())        \n",
    "predict = np.concatenate(predict, axis=0)\n",
    "target = np.concatenate(target, axis=0)\n",
    "tp = predict[target==1].sum()\n",
    "tn = (target==0).sum() - predict[target==0].sum()\n",
    "fp = predict[target==0].sum()\n",
    "fn = (target==1).sum() - predict[target==1].sum()\n",
    "\n",
    "print(f'True Positive:{tp}, '\n",
    "      f'True Negative:{tn}, '\n",
    "      f'False Positive:{fp}, '\n",
    "      f'False Negative:{fn}')\n",
    "\n"
   ]
  },
  {
   "cell_type": "code",
   "execution_count": 12,
   "metadata": {},
   "outputs": [
    {
     "name": "stdout",
     "output_type": "stream",
     "text": [
      "Accuracy:0.6382397053147885, Positive Accuracy:0.716549345366865, Negative Accuracy:0.4608548759128279, Weighted Accuracy:0.5887021106398465\n"
     ]
    }
   ],
   "source": [
    "accr = (tp+tn)/(tp+tn+fp+fn)\n",
    "posaccr = tp/(tp+fp)\n",
    "negaccr = tn/(tn+fn)\n",
    "print(f'Accuracy:{accr}, '\n",
    "      f'Positive Accuracy:{posaccr}, '\n",
    "      f'Negative Accuracy:{negaccr}, '\n",
    "      f'Weighted Accuracy:{0.5*(posaccr+negaccr)}')"
   ]
  },
  {
   "cell_type": "markdown",
   "metadata": {},
   "source": [
    "# Train Model 1 Epoch"
   ]
  },
  {
   "cell_type": "code",
   "execution_count": 13,
   "metadata": {},
   "outputs": [
    {
     "name": "stderr",
     "output_type": "stream",
     "text": [
      "Epoch 0/1, Training: 100%|██████████████████████████| 4371/4371 [01:59<00:00, 36.65it/s]\n",
      "Epoch 0/1, Validation: 100%|████████████████████████| 1999/1999 [02:42<00:00, 12.32it/s]\n"
     ]
    },
    {
     "name": "stdout",
     "output_type": "stream",
     "text": [
      "train loss: 0.50791, test loss: 0.58586\n"
     ]
    }
   ],
   "source": [
    "NUM_EPOCHS = 1\n",
    "BATCH_SIZE = 1024\n",
    "\n",
    "model = CNN()\n",
    "model.cuda()\n",
    "\n",
    "loss_function = nn.CrossEntropyLoss(weight=torch.tensor([1.0,1.0])).cuda()\n",
    "optimizer = optim.Adam(model.parameters(), 0.001)\n",
    "# optimizer = optim.SGD(model.parameters(), lr=0.001)\n",
    "\n",
    "train_dataloader = data.DataLoader(\n",
    "    dataset=data.TensorDataset(train_x,train_y), \n",
    "    batch_size=BATCH_SIZE, shuffle=True, num_workers=16, pin_memory=True)\n",
    "\n",
    "test_dataloader = data.DataLoader(\n",
    "    data.TensorDataset(test_x,test_y), \n",
    "    batch_size=BATCH_SIZE, shuffle=False, num_workers=16, pin_memory=True)\n",
    "\n",
    "model.train()\n",
    "for epoch_idx in range(NUM_EPOCHS):  # again, normally you would NOT do 300 epochs, it is toy data\n",
    "\n",
    "    progress_training_epoch = tqdm(\n",
    "        train_dataloader, \n",
    "        desc=f'Epoch {epoch_idx}/{NUM_EPOCHS}, Training',\n",
    "        miniters=1, ncols=88, position=0,\n",
    "        leave=True, total=len(train_dataloader), smoothing=.9)\n",
    "\n",
    "    progress_validation_epoch = tqdm(\n",
    "        test_dataloader, \n",
    "        desc=f'Epoch {epoch_idx}/{NUM_EPOCHS}, Validation',\n",
    "        miniters=1, ncols=88, position=0, \n",
    "        leave=True, total=len(test_dataloader), smoothing=.9)\n",
    "\n",
    "    train_loss = 0\n",
    "    train_size = 0\n",
    "    for idx, (input, target) in enumerate(progress_training_epoch):\n",
    "        input = input.cuda()\n",
    "        target = target.cuda()\n",
    "        model.zero_grad()\n",
    "        predict = model(input)\n",
    "        loss = loss_function(predict, target)\n",
    "        loss.backward()\n",
    "        optimizer.step()\n",
    "        train_loss += loss * target.size()[0]\n",
    "        train_size += target.size()[0]\n",
    "\n",
    "    test_loss = 0\n",
    "    test_size = 0\n",
    "    predict = []\n",
    "    target = []\n",
    "    model.eval()\n",
    "    with torch.no_grad():\n",
    "        for idx, (batch_input, batch_target) in enumerate(progress_validation_epoch):\n",
    "            batch_input = batch_input.cuda()\n",
    "            batch_target = batch_target.cuda()\n",
    "            batch_predict = model(batch_input)\n",
    "            loss = loss_function(batch_predict, batch_target)\n",
    "            predict.append(batch_predict.argmax(dim=1).cpu().numpy())\n",
    "            target.append(batch_target.cpu().numpy())        \n",
    "            test_loss += loss * batch_target.size()[0]\n",
    "            test_size += batch_target.size()[0]\n",
    "    predict = np.concatenate(predict, axis=0)\n",
    "    target = np.concatenate(target, axis=0)\n",
    "\n",
    "#     print(f'train loss:{train_loss.item()/train_size: .5f}, '\n",
    "#           f'test loss:{test_loss.item()/test_size: .5f}, '\n",
    "#           f'overall accuracy:{(predict == target).sum() / target.size}, '\n",
    "#           f'positive accuracy:{predict[target==1].sum() / target.sum()}, '\n",
    "#           f'negative accuracy:{(np.logical_not(target).sum() - predict[np.logical_not(target)].sum()) / np.logical_not(target).sum()}')\n",
    "    \n",
    "    print(f'train loss:{train_loss.item()/train_size: .5f}, '\n",
    "          f'test loss:{test_loss.item()/test_size: .5f}')"
   ]
  },
  {
   "cell_type": "markdown",
   "metadata": {},
   "source": [
    "# Test"
   ]
  },
  {
   "cell_type": "code",
   "execution_count": 14,
   "metadata": {},
   "outputs": [
    {
     "name": "stdout",
     "output_type": "stream",
     "text": [
      "True Positive:1209779, True Negative:273477, False Positive:417941, False Negative:145733\n"
     ]
    }
   ],
   "source": [
    "test_dataloader = data.DataLoader(\n",
    "    data.TensorDataset(test_x,test_y), \n",
    "    batch_size=BATCH_SIZE, shuffle=False, num_workers=16, pin_memory=True)\n",
    "\n",
    "predict = []\n",
    "target = []\n",
    "model.eval()\n",
    "with torch.no_grad():\n",
    "    for idx, (batch_input, batch_target) in enumerate(progress_validation_epoch):\n",
    "        batch_input = batch_input.cuda()\n",
    "        batch_target = batch_target.cuda()\n",
    "        batch_predict = model(batch_input)\n",
    "        predict.append(batch_predict.argmax(dim=1).cpu().numpy())\n",
    "        target.append(batch_target.cpu().numpy())        \n",
    "predict = np.concatenate(predict, axis=0)\n",
    "target = np.concatenate(target, axis=0)\n",
    "tp = predict[target==1].sum()\n",
    "tn = (target==0).sum() - predict[target==0].sum()\n",
    "fp = predict[target==0].sum()\n",
    "fn = (target==1).sum() - predict[target==1].sum()\n",
    "\n",
    "print(f'True Positive:{tp}, '\n",
    "      f'True Negative:{tn}, '\n",
    "      f'False Positive:{fp}, '\n",
    "      f'False Negative:{fn}')\n"
   ]
  },
  {
   "cell_type": "code",
   "execution_count": 15,
   "metadata": {},
   "outputs": [
    {
     "name": "stdout",
     "output_type": "stream",
     "text": [
      "Accuracy:0.7246246818406101, Positive Accuracy:0.7432353230285307, Negative Accuracy:0.6523627776054961, Weighted Accuracy:0.6977990503170134\n"
     ]
    }
   ],
   "source": [
    "accr = (tp+tn)/(tp+tn+fp+fn)\n",
    "posaccr = tp/(tp+fp)\n",
    "negaccr = tn/(tn+fn)\n",
    "print(f'Accuracy:{accr}, '\n",
    "      f'Positive Accuracy:{posaccr}, '\n",
    "      f'Negative Accuracy:{negaccr}, '\n",
    "      f'Weighted Accuracy:{0.5*(posaccr+negaccr)}')"
   ]
  },
  {
   "cell_type": "markdown",
   "metadata": {},
   "source": [
    "# Bagging 9"
   ]
  },
  {
   "cell_type": "code",
   "execution_count": 16,
   "metadata": {},
   "outputs": [],
   "source": [
    "with open('scrimmage4_link_dataset.pickle', 'rb') as file:\n",
    "    link_dataset = pickle.load(file)"
   ]
  },
  {
   "cell_type": "code",
   "execution_count": 17,
   "metadata": {},
   "outputs": [
    {
     "name": "stderr",
     "output_type": "stream",
     "text": [
      "Epoch 0/1, Training: 100%|██████████████████████████| 4473/4473 [01:56<00:00, 38.36it/s]\n",
      "Epoch 0/1, Validation: 100%|████████████████████████| 1999/1999 [02:28<00:00, 13.47it/s]\n"
     ]
    },
    {
     "name": "stdout",
     "output_type": "stream",
     "text": [
      "train loss: 0.47584, test loss: 0.61303\n"
     ]
    },
    {
     "name": "stderr",
     "output_type": "stream",
     "text": [
      "Epoch 0/1, Training: 100%|██████████████████████████| 4415/4415 [01:56<00:00, 37.77it/s]\n",
      "Epoch 0/1, Validation: 100%|████████████████████████| 1999/1999 [02:23<00:00, 13.97it/s]\n"
     ]
    },
    {
     "name": "stdout",
     "output_type": "stream",
     "text": [
      "train loss: 0.49091, test loss: 0.60807\n"
     ]
    },
    {
     "name": "stderr",
     "output_type": "stream",
     "text": [
      "Epoch 0/1, Training: 100%|██████████████████████████| 4283/4283 [01:53<00:00, 37.79it/s]\n",
      "Epoch 0/1, Validation: 100%|████████████████████████| 1999/1999 [02:24<00:00, 13.79it/s]\n"
     ]
    },
    {
     "name": "stdout",
     "output_type": "stream",
     "text": [
      "train loss: 0.49414, test loss: 0.59227\n"
     ]
    },
    {
     "name": "stderr",
     "output_type": "stream",
     "text": [
      "Epoch 0/1, Training: 100%|██████████████████████████| 3929/3929 [01:44<00:00, 37.53it/s]\n",
      "Epoch 0/1, Validation: 100%|████████████████████████| 1999/1999 [02:12<00:00, 15.13it/s]\n"
     ]
    },
    {
     "name": "stdout",
     "output_type": "stream",
     "text": [
      "train loss: 0.46438, test loss: 0.60191\n"
     ]
    },
    {
     "name": "stderr",
     "output_type": "stream",
     "text": [
      "Epoch 0/1, Training: 100%|██████████████████████████| 4327/4327 [01:54<00:00, 37.94it/s]\n",
      "Epoch 0/1, Validation: 100%|████████████████████████| 1999/1999 [02:24<00:00, 13.80it/s]\n"
     ]
    },
    {
     "name": "stdout",
     "output_type": "stream",
     "text": [
      "train loss: 0.48858, test loss: 0.62317\n"
     ]
    },
    {
     "name": "stderr",
     "output_type": "stream",
     "text": [
      "Epoch 0/1, Training: 100%|██████████████████████████| 4549/4549 [01:55<00:00, 39.26it/s]\n",
      "Epoch 0/1, Validation: 100%|████████████████████████| 1999/1999 [02:21<00:00, 14.15it/s]\n"
     ]
    },
    {
     "name": "stdout",
     "output_type": "stream",
     "text": [
      "train loss: 0.47191, test loss: 0.60497\n"
     ]
    },
    {
     "name": "stderr",
     "output_type": "stream",
     "text": [
      "Epoch 0/1, Training: 100%|██████████████████████████| 4049/4049 [01:36<00:00, 41.82it/s]\n",
      "Epoch 0/1, Validation: 100%|████████████████████████| 1999/1999 [02:07<00:00, 15.63it/s]\n"
     ]
    },
    {
     "name": "stdout",
     "output_type": "stream",
     "text": [
      "train loss: 0.47516, test loss: 0.61168\n"
     ]
    },
    {
     "name": "stderr",
     "output_type": "stream",
     "text": [
      "Epoch 0/1, Training: 100%|██████████████████████████| 4322/4322 [01:56<00:00, 37.00it/s]\n",
      "Epoch 0/1, Validation: 100%|████████████████████████| 1999/1999 [02:25<00:00, 13.77it/s]\n"
     ]
    },
    {
     "name": "stdout",
     "output_type": "stream",
     "text": [
      "train loss: 0.48544, test loss: 0.61019\n"
     ]
    },
    {
     "name": "stderr",
     "output_type": "stream",
     "text": [
      "Epoch 0/1, Training: 100%|██████████████████████████| 4186/4186 [01:37<00:00, 42.94it/s]\n",
      "Epoch 0/1, Validation: 100%|████████████████████████| 1999/1999 [02:02<00:00, 16.30it/s]"
     ]
    },
    {
     "name": "stdout",
     "output_type": "stream",
     "text": [
      "train loss: 0.48720, test loss: 0.59842\n"
     ]
    },
    {
     "name": "stderr",
     "output_type": "stream",
     "text": [
      "\n"
     ]
    }
   ],
   "source": [
    "NUM_EPOCHS = 1\n",
    "model_list = []\n",
    "BATCH_SIZE = 1024\n",
    "\n",
    "for model_idx in range(9):\n",
    "    \n",
    "    train_data = []\n",
    "    for link_idx in np.random.choice(200,size=200,replace=True):\n",
    "        train_data.append(link_dataset[link_idx])\n",
    "    test_data = link_dataset[200:]\n",
    "    \n",
    "    train_x = torch.cat(tuple(link[0] for link in train_data),dim=0)\n",
    "    train_y = torch.cat(tuple(link[1] for link in train_data),dim=0)\n",
    "    test_x = torch.cat(tuple(link[0] for link in test_data),dim=0)\n",
    "    test_y = torch.cat(tuple(link[1] for link in test_data),dim=0)\n",
    "    \n",
    "    train_x = train_x.view(-1,1,20)\n",
    "    test_x = test_x.view(-1,1,20)\n",
    "\n",
    "    model = CNN()\n",
    "    model.cuda()\n",
    "\n",
    "    loss_function = nn.CrossEntropyLoss(weight=torch.tensor([1.0,1.0])).cuda()\n",
    "    optimizer = optim.Adam(model.parameters(), 0.001)\n",
    "\n",
    "    train_dataloader = data.DataLoader(\n",
    "        dataset=data.TensorDataset(train_x,train_y), \n",
    "        batch_size=BATCH_SIZE, shuffle=True, num_workers=16, pin_memory=True)\n",
    "\n",
    "    test_dataloader = data.DataLoader(\n",
    "        data.TensorDataset(test_x,test_y), \n",
    "        batch_size=BATCH_SIZE, shuffle=False, num_workers=16, pin_memory=True)\n",
    "\n",
    "    model.train()\n",
    "    for epoch_idx in range(NUM_EPOCHS):  # again, normally you would NOT do 300 epochs, it is toy data\n",
    "\n",
    "        progress_training_epoch = tqdm(\n",
    "            train_dataloader, \n",
    "            desc=f'Epoch {epoch_idx}/{NUM_EPOCHS}, Training',\n",
    "            miniters=1, ncols=88, position=0,\n",
    "            leave=True, total=len(train_dataloader), smoothing=.9)\n",
    "\n",
    "        progress_validation_epoch = tqdm(\n",
    "            test_dataloader, \n",
    "            desc=f'Epoch {epoch_idx}/{NUM_EPOCHS}, Validation',\n",
    "            miniters=1, ncols=88, position=0, \n",
    "            leave=True, total=len(test_dataloader), smoothing=.9)\n",
    "\n",
    "        train_loss = 0\n",
    "        train_size = 0\n",
    "        for idx, (input, target) in enumerate(progress_training_epoch):\n",
    "            input = input.cuda()\n",
    "            target = target.cuda()\n",
    "            model.zero_grad()\n",
    "            predict = model(input)\n",
    "            loss = loss_function(predict, target)\n",
    "            loss.backward()\n",
    "            optimizer.step()\n",
    "            train_loss += loss * target.size()[0]\n",
    "            train_size += target.size()[0]\n",
    "\n",
    "        test_loss = 0\n",
    "        test_size = 0\n",
    "        model.eval()\n",
    "        with torch.no_grad():\n",
    "            for idx, (batch_input, batch_target) in enumerate(progress_validation_epoch):\n",
    "                batch_input = batch_input.cuda()\n",
    "                batch_target = batch_target.cuda()\n",
    "                batch_predict = model(batch_input)\n",
    "                loss = loss_function(batch_predict, batch_target)\n",
    "                test_loss += loss * batch_target.size()[0]\n",
    "                test_size += batch_target.size()[0]\n",
    "\n",
    "        print(f'train loss:{train_loss.item()/train_size: .5f}, '\n",
    "              f'test loss:{test_loss.item()/test_size: .5f}')\n",
    "        \n",
    "    model_list.append(model) "
   ]
  },
  {
   "cell_type": "markdown",
   "metadata": {},
   "source": [
    "# Test"
   ]
  },
  {
   "cell_type": "code",
   "execution_count": 18,
   "metadata": {},
   "outputs": [
    {
     "name": "stderr",
     "output_type": "stream",
     "text": [
      "Epoch 0/1, Validation: 100%|████████████████████████| 1999/1999 [00:29<00:00, 68.34it/s]\n",
      "Epoch 0/1, Validation: 100%|████████████████████████| 1999/1999 [00:32<00:00, 62.18it/s]\n",
      "Epoch 0/1, Validation: 100%|████████████████████████| 1999/1999 [00:30<00:00, 65.02it/s]\n",
      "Epoch 0/1, Validation: 100%|████████████████████████| 1999/1999 [00:26<00:00, 76.31it/s]\n",
      "Epoch 0/1, Validation: 100%|████████████████████████| 1999/1999 [00:26<00:00, 76.24it/s]\n",
      "Epoch 0/1, Validation: 100%|████████████████████████| 1999/1999 [00:26<00:00, 75.70it/s]\n",
      "Epoch 0/1, Validation: 100%|████████████████████████| 1999/1999 [00:28<00:00, 70.51it/s]\n",
      "Epoch 0/1, Validation: 100%|████████████████████████| 1999/1999 [00:31<00:00, 63.55it/s]\n",
      "Epoch 0/1, Validation: 100%|████████████████████████| 1999/1999 [00:32<00:00, 61.71it/s]\n"
     ]
    },
    {
     "name": "stdout",
     "output_type": "stream",
     "text": [
      "True Positive:1220301, True Negative:273680, False Positive:417738, False Negative:135211\n"
     ]
    }
   ],
   "source": [
    "predict_agg = []\n",
    "target_agg = []\n",
    "\n",
    "for model in model_list:\n",
    "    \n",
    "    test_dataloader = data.DataLoader(\n",
    "        data.TensorDataset(test_x,test_y), \n",
    "        batch_size=BATCH_SIZE, shuffle=False, num_workers=16, pin_memory=True)\n",
    "\n",
    "    progress_validation_epoch = tqdm(\n",
    "        test_dataloader, \n",
    "        desc=f'Epoch {epoch_idx}/{NUM_EPOCHS}, Validation',\n",
    "        miniters=1, ncols=88, position=0, \n",
    "        leave=True, total=len(test_dataloader), smoothing=.9)\n",
    "    \n",
    "    predict = []\n",
    "    target = []\n",
    "    model.eval()\n",
    "    with torch.no_grad():\n",
    "        for idx, (batch_input, batch_target) in enumerate(progress_validation_epoch):\n",
    "            batch_input = batch_input.cuda()\n",
    "            batch_target = batch_target.cuda()\n",
    "            batch_predict = model(batch_input)\n",
    "            predict.append(batch_predict.argmax(dim=1).cpu().numpy())\n",
    "            target.append(batch_target.cpu().numpy())        \n",
    "    predict = np.concatenate(predict, axis=0)\n",
    "    target = np.concatenate(target, axis=0)\n",
    "    \n",
    "    predict_agg.append(predict)\n",
    "    target_agg.append(target)\n",
    "\n",
    "predict = (np.array(predict_agg).sum(axis=0) > 4.5)\n",
    "target = target_agg[0]\n",
    "tp = predict[target==1].sum()\n",
    "tn = (target==0).sum() - predict[target==0].sum()\n",
    "fp = predict[target==0].sum()\n",
    "fn = (target==1).sum() - predict[target==1].sum()\n",
    "\n",
    "print(f'True Positive:{tp}, '\n",
    "      f'True Negative:{tn}, '\n",
    "      f'False Positive:{fp}, '\n",
    "      f'False Negative:{fn}')\n"
   ]
  },
  {
   "cell_type": "code",
   "execution_count": 19,
   "metadata": {},
   "outputs": [
    {
     "name": "stdout",
     "output_type": "stream",
     "text": [
      "Accuracy:0.7298642357090863, Positive Accuracy:0.7449767679524114, Negative Accuracy:0.6693226312146758, Weighted Accuracy:0.7071496995835436\n"
     ]
    }
   ],
   "source": [
    "accr = (tp+tn)/(tp+tn+fp+fn)\n",
    "posaccr = tp/(tp+fp)\n",
    "negaccr = tn/(tn+fn)\n",
    "print(f'Accuracy:{accr}, '\n",
    "      f'Positive Accuracy:{posaccr}, '\n",
    "      f'Negative Accuracy:{negaccr}, '\n",
    "      f'Weighted Accuracy:{0.5*(posaccr+negaccr)}')"
   ]
  }
 ],
 "metadata": {
  "kernelspec": {
   "display_name": "Python 3",
   "language": "python",
   "name": "python3"
  },
  "language_info": {
   "codemirror_mode": {
    "name": "ipython",
    "version": 3
   },
   "file_extension": ".py",
   "mimetype": "text/x-python",
   "name": "python",
   "nbconvert_exporter": "python",
   "pygments_lexer": "ipython3",
   "version": "3.7.5"
  }
 },
 "nbformat": 4,
 "nbformat_minor": 2
}
