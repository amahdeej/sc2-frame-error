{
 "cells": [
  {
   "cell_type": "markdown",
   "metadata": {},
   "source": [
    "# Libraries"
   ]
  },
  {
   "cell_type": "code",
   "execution_count": 1,
   "metadata": {},
   "outputs": [],
   "source": [
    "import sqlite3\n",
    "import numpy as np\n",
    "from collections import OrderedDict, namedtuple\n",
    "from distutils.spawn import find_executable\n",
    "import matplotlib.pyplot as plt\n",
    "\n",
    "import sys\n",
    "import subprocess\n",
    "import pathlib\n",
    "import tempfile\n",
    "import importlib\n",
    "import os\n",
    "import time\n",
    "import random\n",
    "import pickle\n",
    "\n",
    "import math\n",
    "\n",
    "from configparser import ConfigParser\n",
    "\n",
    "# from google.protobuf.json_format import MessageToDict"
   ]
  },
  {
   "cell_type": "code",
   "execution_count": 2,
   "metadata": {},
   "outputs": [],
   "source": [
    "# DEVICE = 0\n",
    "\n",
    "import os\n",
    "import time\n",
    "import pickle\n",
    "import numpy as np\n",
    "from tqdm import tqdm\n",
    "import matplotlib.pyplot as plt\n",
    "import seaborn as sn\n",
    "import pandas as pd\n",
    "\n",
    "import torch\n",
    "torch.backends.cudnn.benchmark = True\n",
    "import torch.optim as optim\n",
    "import torch.nn as nn\n",
    "import torch.nn.functional as F\n",
    "from torch.autograd import Variable\n",
    "from torch.utils import data\n",
    "\n",
    "# torch.cuda.set_device(DEVICE)\n",
    "torch.cuda.empty_cache() \n",
    "torch.backends.cudnn.benchmark=True"
   ]
  },
  {
   "cell_type": "code",
   "execution_count": 3,
   "metadata": {},
   "outputs": [],
   "source": [
    "np.random.seed(0)\n",
    "torch.manual_seed(0)\n",
    "\n",
    "import os\n",
    "os.environ['CUDA_VISIBLE_DEVICES']='1'"
   ]
  },
  {
   "cell_type": "markdown",
   "metadata": {},
   "source": [
    "# load the dataset"
   ]
  },
  {
   "cell_type": "code",
   "execution_count": 4,
   "metadata": {},
   "outputs": [],
   "source": [
    "with open('scrimmage4_link_dataset.pickle', 'rb') as file:\n",
    "    link_dataset = pickle.load(file)"
   ]
  },
  {
   "cell_type": "code",
   "execution_count": 5,
   "metadata": {},
   "outputs": [],
   "source": [
    "train_data = link_dataset[:200] \n",
    "test_data = link_dataset[200:]"
   ]
  },
  {
   "cell_type": "code",
   "execution_count": 6,
   "metadata": {},
   "outputs": [],
   "source": [
    "class LSTMTagger(nn.Module):\n",
    "\n",
    "    def __init__(self, embedding_dim, hidden_dim, tagset_size):\n",
    "        super(LSTMTagger, self).__init__()\n",
    "        self.hidden_dim = hidden_dim\n",
    "\n",
    "        # The LSTM takes word embeddings as inputs, and outputs hidden states\n",
    "        # with dimensionality hidden_dim.\n",
    "        self.lstm = nn.LSTM(embedding_dim, hidden_dim, 2)\n",
    "\n",
    "        # The linear layer that maps from hidden state space to tag space\n",
    "        self.hidden2tag = nn.Linear(hidden_dim, tagset_size)\n",
    "\n",
    "    def forward(self, sentence):\n",
    "        lstm_out, _ = self.lstm(sentence.view(len(sentence), 1, -1))\n",
    "        tag_space = self.hidden2tag(lstm_out.view(len(sentence), -1))\n",
    "        tag_scores = F.log_softmax(tag_space, dim=1)\n",
    "        return tag_scores"
   ]
  },
  {
   "cell_type": "markdown",
   "metadata": {},
   "source": [
    "# Train Model 10 Epoch"
   ]
  },
  {
   "cell_type": "code",
   "execution_count": 7,
   "metadata": {
    "scrolled": false
   },
   "outputs": [
    {
     "name": "stderr",
     "output_type": "stream",
     "text": [
      "Epoch 0/10, Training: 100%|███████████████████████████| 200/200 [16:48<00:00,  5.04s/it]\n",
      "Epoch 0/10, Validation: 100%|███████████████████████████| 84/84 [20:33<00:00, 14.68s/it]\n",
      "Epoch 1/10, Validation:   0%|                                    | 0/84 [00:00<?, ?it/s]"
     ]
    },
    {
     "name": "stdout",
     "output_type": "stream",
     "text": [
      "train loss: 0.61298, test loss: 0.65171\n"
     ]
    },
    {
     "name": "stderr",
     "output_type": "stream",
     "text": [
      "Epoch 1/10, Training: 100%|███████████████████████████| 200/200 [16:44<00:00,  5.02s/it]\n",
      "Epoch 1/10, Validation: 100%|███████████████████████████| 84/84 [20:29<00:00, 14.63s/it]\n",
      "Epoch 2/10, Validation:   0%|                                    | 0/84 [00:00<?, ?it/s]"
     ]
    },
    {
     "name": "stdout",
     "output_type": "stream",
     "text": [
      "train loss: 0.58743, test loss: 0.63043\n"
     ]
    },
    {
     "name": "stderr",
     "output_type": "stream",
     "text": [
      "Epoch 2/10, Training: 100%|███████████████████████████| 200/200 [16:50<00:00,  5.05s/it]\n",
      "Epoch 2/10, Validation: 100%|███████████████████████████| 84/84 [20:35<00:00, 14.71s/it]\n",
      "Epoch 3/10, Validation:   0%|                                    | 0/84 [00:00<?, ?it/s]"
     ]
    },
    {
     "name": "stdout",
     "output_type": "stream",
     "text": [
      "train loss: 0.57773, test loss: 0.62400\n"
     ]
    },
    {
     "name": "stderr",
     "output_type": "stream",
     "text": [
      "Epoch 3/10, Training: 100%|███████████████████████████| 200/200 [16:46<00:00,  5.03s/it]\n",
      "Epoch 3/10, Validation: 100%|███████████████████████████| 84/84 [20:31<00:00, 14.67s/it]\n",
      "Epoch 4/10, Validation:   0%|                                    | 0/84 [00:00<?, ?it/s]"
     ]
    },
    {
     "name": "stdout",
     "output_type": "stream",
     "text": [
      "train loss: 0.57294, test loss: 0.61831\n"
     ]
    },
    {
     "name": "stderr",
     "output_type": "stream",
     "text": [
      "Epoch 4/10, Training: 100%|███████████████████████████| 200/200 [16:51<00:00,  5.06s/it]\n",
      "Epoch 4/10, Validation: 100%|███████████████████████████| 84/84 [20:37<00:00, 14.73s/it]\n",
      "Epoch 5/10, Validation:   0%|                                    | 0/84 [00:00<?, ?it/s]"
     ]
    },
    {
     "name": "stdout",
     "output_type": "stream",
     "text": [
      "train loss: 0.56789, test loss: 0.61766\n"
     ]
    },
    {
     "name": "stderr",
     "output_type": "stream",
     "text": [
      "Epoch 5/10, Training: 100%|███████████████████████████| 200/200 [16:49<00:00,  5.05s/it]\n",
      "Epoch 5/10, Validation: 100%|███████████████████████████| 84/84 [20:35<00:00, 14.71s/it]\n",
      "Epoch 6/10, Validation:   0%|                                    | 0/84 [00:00<?, ?it/s]"
     ]
    },
    {
     "name": "stdout",
     "output_type": "stream",
     "text": [
      "train loss: 0.56309, test loss: 0.63224\n"
     ]
    },
    {
     "name": "stderr",
     "output_type": "stream",
     "text": [
      "Epoch 6/10, Training: 100%|███████████████████████████| 200/200 [16:53<00:00,  5.07s/it]\n",
      "Epoch 6/10, Validation: 100%|███████████████████████████| 84/84 [20:39<00:00, 14.75s/it]\n",
      "Epoch 7/10, Validation:   0%|                                    | 0/84 [00:00<?, ?it/s]"
     ]
    },
    {
     "name": "stdout",
     "output_type": "stream",
     "text": [
      "train loss: 0.56042, test loss: 0.61939\n"
     ]
    },
    {
     "name": "stderr",
     "output_type": "stream",
     "text": [
      "Epoch 7/10, Training: 100%|███████████████████████████| 200/200 [16:51<00:00,  5.06s/it]\n",
      "Epoch 7/10, Validation: 100%|███████████████████████████| 84/84 [20:38<00:00, 14.74s/it]\n",
      "Epoch 8/10, Validation:   0%|                                    | 0/84 [00:00<?, ?it/s]"
     ]
    },
    {
     "name": "stdout",
     "output_type": "stream",
     "text": [
      "train loss: 0.56027, test loss: 0.62080\n"
     ]
    },
    {
     "name": "stderr",
     "output_type": "stream",
     "text": [
      "Epoch 8/10, Training: 100%|███████████████████████████| 200/200 [16:57<00:00,  5.09s/it]\n",
      "Epoch 8/10, Validation: 100%|███████████████████████████| 84/84 [20:42<00:00, 14.80s/it]\n",
      "Epoch 9/10, Validation:   0%|                                    | 0/84 [00:00<?, ?it/s]"
     ]
    },
    {
     "name": "stdout",
     "output_type": "stream",
     "text": [
      "train loss: 0.55017, test loss: 0.62259\n"
     ]
    },
    {
     "name": "stderr",
     "output_type": "stream",
     "text": [
      "Epoch 9/10, Training: 100%|███████████████████████████| 200/200 [16:58<00:00,  5.09s/it]\n",
      "Epoch 9/10, Validation: 100%|███████████████████████████| 84/84 [20:45<00:00, 14.82s/it]"
     ]
    },
    {
     "name": "stdout",
     "output_type": "stream",
     "text": [
      "train loss: 0.54607, test loss: 0.62399\n"
     ]
    },
    {
     "name": "stderr",
     "output_type": "stream",
     "text": [
      "\n"
     ]
    }
   ],
   "source": [
    "EMBEDDING_DIM = 20\n",
    "HIDDEN_DIM = 100\n",
    "TAGSET_SIZE = 2\n",
    "NUM_EPOCHS = 10\n",
    "\n",
    "model = LSTMTagger(EMBEDDING_DIM, HIDDEN_DIM, TAGSET_SIZE).cuda()\n",
    "model.cuda()\n",
    "\n",
    "loss_function = nn.NLLLoss(weight=torch.tensor([2.0,1.0])).cuda()\n",
    "optimizer = optim.Adam(model.parameters(), 0.001)\n",
    "\n",
    "for epoch_idx in range(NUM_EPOCHS): \n",
    "\n",
    "    progress_training_epoch = tqdm(\n",
    "        train_data, \n",
    "        desc=f'Epoch {epoch_idx}/{NUM_EPOCHS}, Training',\n",
    "        miniters=1, ncols=88, position=0,\n",
    "        leave=True, total=len(train_data), smoothing=.9)\n",
    "\n",
    "    progress_validation_epoch = tqdm(\n",
    "        test_data, \n",
    "        desc=f'Epoch {epoch_idx}/{NUM_EPOCHS}, Validation',\n",
    "        miniters=1, ncols=88, position=0, \n",
    "        leave=True, total=len(test_data), smoothing=.9)\n",
    "\n",
    "    train_loss = 0\n",
    "    train_size = 0\n",
    "    model.train()\n",
    "    for idx, (sentence, tags) in enumerate(progress_training_epoch):\n",
    "        sentence = sentence.cuda()\n",
    "        tags = tags.cuda()\n",
    "        model.zero_grad()\n",
    "        tag_scores = model(sentence)\n",
    "        loss = loss_function(tag_scores, tags)\n",
    "        loss.backward()\n",
    "        optimizer.step()\n",
    "        train_loss += loss * tags.size()[0]\n",
    "        train_size += tags.size()[0]\n",
    "\n",
    "    test_loss = 0\n",
    "    test_size = 0\n",
    "    predict = []\n",
    "    target = []\n",
    "    model.eval()\n",
    "    with torch.no_grad():\n",
    "        for idx, (sentence, tags) in enumerate(progress_validation_epoch):\n",
    "            sentence = sentence.cuda()\n",
    "            tags = tags.cuda()\n",
    "            tag_scores = model(sentence)\n",
    "            loss = loss_function(tag_scores, tags)\n",
    "            predict.append(tag_scores.argmax(dim=1).cpu().numpy())\n",
    "            target.append(tags.cpu().numpy())        \n",
    "            test_loss += loss * tags.size()[0]\n",
    "            test_size += tags.size()[0]\n",
    "    predict = np.concatenate(predict, axis=0)\n",
    "    target = np.concatenate(target, axis=0)\n",
    "\n",
    "    print(f'train loss:{train_loss.item()/train_size: .5f}, '\n",
    "          f'test loss:{test_loss.item()/test_size: .5f}')"
   ]
  },
  {
   "cell_type": "markdown",
   "metadata": {},
   "source": [
    "# Test"
   ]
  },
  {
   "cell_type": "code",
   "execution_count": 8,
   "metadata": {},
   "outputs": [
    {
     "name": "stderr",
     "output_type": "stream",
     "text": [
      "Epoch 9/10, Validation: 100%|███████████████████████████| 84/84 [03:45<00:00,  2.69s/it]"
     ]
    },
    {
     "name": "stdout",
     "output_type": "stream",
     "text": [
      "True Positive:1202618, True Negative:314460, False Positive:376958, False Negative:152894\n"
     ]
    },
    {
     "name": "stderr",
     "output_type": "stream",
     "text": [
      "\n"
     ]
    }
   ],
   "source": [
    "progress_validation_epoch = tqdm(\n",
    "    test_data, \n",
    "    desc=f'Epoch {epoch_idx}/{NUM_EPOCHS}, Validation',\n",
    "    miniters=1, ncols=88, position=0, \n",
    "    leave=True, total=len(test_data), smoothing=.9)\n",
    "\n",
    "predict = []\n",
    "target = []\n",
    "model.eval()\n",
    "with torch.no_grad():\n",
    "    for idx, (sentence, tags) in enumerate(progress_validation_epoch):\n",
    "        sentence = sentence.cuda()\n",
    "        tags = tags.cuda()\n",
    "        tag_scores = model(sentence)\n",
    "        predict.append(tag_scores.argmax(dim=1).cpu().numpy())\n",
    "        target.append(tags.cpu().numpy())\n",
    "        \n",
    "predict = np.concatenate(predict, axis=0)\n",
    "target = np.concatenate(target, axis=0)\n",
    "tp = predict[target==1].sum()\n",
    "tn = (target==0).sum() - predict[target==0].sum()\n",
    "fp = predict[target==0].sum()\n",
    "fn = (target==1).sum() - predict[target==1].sum()\n",
    "\n",
    "print(f'True Positive:{tp}, '\n",
    "      f'True Negative:{tn}, '\n",
    "      f'False Positive:{fp}, '\n",
    "      f'False Negative:{fn}')\n"
   ]
  },
  {
   "cell_type": "code",
   "execution_count": 9,
   "metadata": {},
   "outputs": [
    {
     "name": "stdout",
     "output_type": "stream",
     "text": [
      "Accuracy:0.7411479630470998, Positive Accuracy:0.7613549458842119, Negative Accuracy:0.6728518425005456, Weighted Accuracy:0.7171033941923788\n"
     ]
    }
   ],
   "source": [
    "accr = (tp+tn)/(tp+tn+fp+fn)\n",
    "posaccr = tp/(tp+fp)\n",
    "negaccr = tn/(tn+fn)\n",
    "print(f'Accuracy:{accr}, '\n",
    "      f'Positive Accuracy:{posaccr}, '\n",
    "      f'Negative Accuracy:{negaccr}, '\n",
    "      f'Weighted Accuracy:{0.5*(posaccr+negaccr)}')"
   ]
  },
  {
   "cell_type": "markdown",
   "metadata": {},
   "source": [
    "# Bagging 9"
   ]
  },
  {
   "cell_type": "code",
   "execution_count": 10,
   "metadata": {},
   "outputs": [],
   "source": [
    "with open('scrimmage4_link_dataset.pickle', 'rb') as file:\n",
    "    link_dataset = pickle.load(file)"
   ]
  },
  {
   "cell_type": "code",
   "execution_count": null,
   "metadata": {},
   "outputs": [
    {
     "name": "stderr",
     "output_type": "stream",
     "text": [
      "Epoch 0/6, Training: 100%|████████████████████████████| 200/200 [17:16<00:00,  5.18s/it]\n",
      "Epoch 0/6, Validation: 100%|████████████████████████████| 84/84 [21:00<00:00, 15.00s/it]\n",
      "Epoch 1/6, Validation:   0%|                                     | 0/84 [00:00<?, ?it/s]"
     ]
    },
    {
     "name": "stdout",
     "output_type": "stream",
     "text": [
      "train loss: 0.60677, test loss: 0.61736\n"
     ]
    },
    {
     "name": "stderr",
     "output_type": "stream",
     "text": [
      "Epoch 1/6, Training: 100%|████████████████████████████| 200/200 [17:20<00:00,  5.20s/it]\n",
      "Epoch 1/6, Validation: 100%|████████████████████████████| 84/84 [21:04<00:00, 15.05s/it]\n",
      "Epoch 2/6, Validation:   0%|                                     | 0/84 [00:00<?, ?it/s]"
     ]
    },
    {
     "name": "stdout",
     "output_type": "stream",
     "text": [
      "train loss: 0.56729, test loss: 0.61041\n"
     ]
    },
    {
     "name": "stderr",
     "output_type": "stream",
     "text": [
      "Epoch 2/6, Training: 100%|████████████████████████████| 200/200 [17:19<00:00,  5.20s/it]\n",
      "Epoch 2/6, Validation: 100%|████████████████████████████| 84/84 [21:04<00:00, 15.05s/it]\n",
      "Epoch 3/6, Validation:   0%|                                     | 0/84 [00:00<?, ?it/s]"
     ]
    },
    {
     "name": "stdout",
     "output_type": "stream",
     "text": [
      "train loss: 0.55389, test loss: 0.61681\n"
     ]
    },
    {
     "name": "stderr",
     "output_type": "stream",
     "text": [
      "Epoch 3/6, Training: 100%|████████████████████████████| 200/200 [17:24<00:00,  5.22s/it]\n",
      "Epoch 3/6, Validation: 100%|████████████████████████████| 84/84 [21:09<00:00, 15.11s/it]\n",
      "Epoch 4/6, Validation:   0%|                                     | 0/84 [00:00<?, ?it/s]"
     ]
    },
    {
     "name": "stdout",
     "output_type": "stream",
     "text": [
      "train loss: 0.54636, test loss: 0.61964\n"
     ]
    },
    {
     "name": "stderr",
     "output_type": "stream",
     "text": [
      "Epoch 4/6, Training: 100%|████████████████████████████| 200/200 [17:28<00:00,  5.24s/it]\n",
      "Epoch 4/6, Validation: 100%|████████████████████████████| 84/84 [21:14<00:00, 15.17s/it]\n",
      "Epoch 5/6, Validation:   0%|                                     | 0/84 [00:00<?, ?it/s]"
     ]
    },
    {
     "name": "stdout",
     "output_type": "stream",
     "text": [
      "train loss: 0.53650, test loss: 0.61367\n"
     ]
    },
    {
     "name": "stderr",
     "output_type": "stream",
     "text": [
      "Epoch 5/6, Training: 100%|████████████████████████████| 200/200 [17:29<00:00,  5.25s/it]\n",
      "Epoch 5/6, Validation: 100%|████████████████████████████| 84/84 [21:15<00:00, 15.18s/it]\n",
      "Epoch 0/6, Validation:   0%|                                     | 0/84 [00:00<?, ?it/s]"
     ]
    },
    {
     "name": "stdout",
     "output_type": "stream",
     "text": [
      "train loss: 0.52542, test loss: 0.61726\n"
     ]
    },
    {
     "name": "stderr",
     "output_type": "stream",
     "text": [
      "Epoch 0/6, Training: 100%|████████████████████████████| 200/200 [17:01<00:00,  5.11s/it]\n",
      "Epoch 0/6, Validation: 100%|████████████████████████████| 84/84 [20:45<00:00, 14.82s/it]\n",
      "Epoch 1/6, Validation:   0%|                                     | 0/84 [00:00<?, ?it/s]"
     ]
    },
    {
     "name": "stdout",
     "output_type": "stream",
     "text": [
      "train loss: 0.63231, test loss: 0.61595\n"
     ]
    },
    {
     "name": "stderr",
     "output_type": "stream",
     "text": [
      "Epoch 1/6, Training: 100%|████████████████████████████| 200/200 [17:01<00:00,  5.11s/it]\n",
      "Epoch 1/6, Validation: 100%|████████████████████████████| 84/84 [20:44<00:00, 14.82s/it]\n",
      "Epoch 2/6, Validation:   0%|                                     | 0/84 [00:00<?, ?it/s]"
     ]
    },
    {
     "name": "stdout",
     "output_type": "stream",
     "text": [
      "train loss: 0.58434, test loss: 0.63091\n"
     ]
    },
    {
     "name": "stderr",
     "output_type": "stream",
     "text": [
      "Epoch 2/6, Training: 100%|████████████████████████████| 200/200 [17:04<00:00,  5.12s/it]\n",
      "Epoch 2/6, Validation: 100%|████████████████████████████| 84/84 [20:48<00:00, 14.86s/it]\n",
      "Epoch 3/6, Validation:   0%|                                     | 0/84 [00:00<?, ?it/s]"
     ]
    },
    {
     "name": "stdout",
     "output_type": "stream",
     "text": [
      "train loss: 0.56768, test loss: 0.61712\n"
     ]
    },
    {
     "name": "stderr",
     "output_type": "stream",
     "text": [
      "Epoch 3/6, Training: 100%|████████████████████████████| 200/200 [17:04<00:00,  5.12s/it]\n",
      "Epoch 3/6, Validation: 100%|████████████████████████████| 84/84 [20:49<00:00, 14.87s/it]\n",
      "Epoch 4/6, Validation:   0%|                                     | 0/84 [00:00<?, ?it/s]"
     ]
    },
    {
     "name": "stdout",
     "output_type": "stream",
     "text": [
      "train loss: 0.55763, test loss: 0.61769\n"
     ]
    },
    {
     "name": "stderr",
     "output_type": "stream",
     "text": [
      "Epoch 4/6, Training: 100%|████████████████████████████| 200/200 [17:05<00:00,  5.13s/it]\n",
      "Epoch 4/6, Validation: 100%|████████████████████████████| 84/84 [20:49<00:00, 14.88s/it]\n",
      "Epoch 5/6, Validation:   0%|                                     | 0/84 [00:00<?, ?it/s]"
     ]
    },
    {
     "name": "stdout",
     "output_type": "stream",
     "text": [
      "train loss: 0.55025, test loss: 0.61384\n"
     ]
    },
    {
     "name": "stderr",
     "output_type": "stream",
     "text": [
      "Epoch 5/6, Training: 100%|████████████████████████████| 200/200 [17:09<00:00,  5.15s/it]\n",
      "Epoch 5/6, Validation: 100%|████████████████████████████| 84/84 [20:54<00:00, 14.94s/it]\n",
      "Epoch 0/6, Validation:   0%|                                     | 0/84 [00:00<?, ?it/s]"
     ]
    },
    {
     "name": "stdout",
     "output_type": "stream",
     "text": [
      "train loss: 0.54204, test loss: 0.62194\n"
     ]
    },
    {
     "name": "stderr",
     "output_type": "stream",
     "text": [
      "Epoch 0/6, Training: 100%|████████████████████████████| 200/200 [16:29<00:00,  4.95s/it]\n",
      "Epoch 0/6, Validation: 100%|████████████████████████████| 84/84 [20:13<00:00, 14.44s/it]\n",
      "Epoch 1/6, Validation:   0%|                                     | 0/84 [00:00<?, ?it/s]"
     ]
    },
    {
     "name": "stdout",
     "output_type": "stream",
     "text": [
      "train loss: 0.62900, test loss: 0.65375\n"
     ]
    },
    {
     "name": "stderr",
     "output_type": "stream",
     "text": [
      "Epoch 1/6, Training: 100%|████████████████████████████| 200/200 [16:31<00:00,  4.96s/it]\n",
      "Epoch 1/6, Validation: 100%|████████████████████████████| 84/84 [20:15<00:00, 14.47s/it]\n",
      "Epoch 2/6, Validation:   0%|                                     | 0/84 [00:00<?, ?it/s]"
     ]
    },
    {
     "name": "stdout",
     "output_type": "stream",
     "text": [
      "train loss: 0.59139, test loss: 0.64435\n"
     ]
    },
    {
     "name": "stderr",
     "output_type": "stream",
     "text": [
      "Epoch 2/6, Training: 100%|████████████████████████████| 200/200 [16:35<00:00,  4.98s/it]\n",
      "Epoch 2/6, Validation: 100%|████████████████████████████| 84/84 [20:18<00:00, 14.51s/it]\n",
      "Epoch 3/6, Validation:   0%|                                     | 0/84 [00:00<?, ?it/s]"
     ]
    },
    {
     "name": "stdout",
     "output_type": "stream",
     "text": [
      "train loss: 0.57399, test loss: 0.63911\n"
     ]
    },
    {
     "name": "stderr",
     "output_type": "stream",
     "text": [
      "Epoch 3/6, Training: 100%|████████████████████████████| 200/200 [16:37<00:00,  4.99s/it]\n",
      "Epoch 3/6, Validation: 100%|████████████████████████████| 84/84 [20:22<00:00, 14.55s/it]\n",
      "Epoch 4/6, Validation:   0%|                                     | 0/84 [00:00<?, ?it/s]"
     ]
    },
    {
     "name": "stdout",
     "output_type": "stream",
     "text": [
      "train loss: 0.56278, test loss: 0.64822\n"
     ]
    },
    {
     "name": "stderr",
     "output_type": "stream",
     "text": [
      "Epoch 4/6, Training: 100%|████████████████████████████| 200/200 [16:38<00:00,  4.99s/it]\n",
      "Epoch 4/6, Validation: 100%|████████████████████████████| 84/84 [20:23<00:00, 14.57s/it]\n",
      "Epoch 5/6, Validation:   0%|                                     | 0/84 [00:00<?, ?it/s]"
     ]
    },
    {
     "name": "stdout",
     "output_type": "stream",
     "text": [
      "train loss: 0.55431, test loss: 0.65197\n"
     ]
    },
    {
     "name": "stderr",
     "output_type": "stream",
     "text": [
      "Epoch 5/6, Training: 100%|████████████████████████████| 200/200 [16:40<00:00,  5.00s/it]\n",
      "Epoch 5/6, Validation: 100%|████████████████████████████| 84/84 [20:25<00:00, 14.59s/it]\n",
      "Epoch 0/6, Validation:   0%|                                     | 0/84 [00:00<?, ?it/s]"
     ]
    },
    {
     "name": "stdout",
     "output_type": "stream",
     "text": [
      "train loss: 0.54470, test loss: 0.63911\n"
     ]
    },
    {
     "name": "stderr",
     "output_type": "stream",
     "text": [
      "Epoch 0/6, Training: 100%|████████████████████████████| 200/200 [15:13<00:00,  4.57s/it]\n",
      "Epoch 0/6, Validation: 100%|████████████████████████████| 84/84 [18:58<00:00, 13.56s/it]\n",
      "Epoch 1/6, Validation:   0%|                                     | 0/84 [00:00<?, ?it/s]"
     ]
    },
    {
     "name": "stdout",
     "output_type": "stream",
     "text": [
      "train loss: 0.60777, test loss: 0.64970\n"
     ]
    },
    {
     "name": "stderr",
     "output_type": "stream",
     "text": [
      "Epoch 1/6, Training: 100%|████████████████████████████| 200/200 [15:18<00:00,  4.59s/it]\n",
      "Epoch 1/6, Validation: 100%|████████████████████████████| 84/84 [19:02<00:00, 13.60s/it]\n",
      "Epoch 2/6, Validation:   0%|                                     | 0/84 [00:00<?, ?it/s]"
     ]
    },
    {
     "name": "stdout",
     "output_type": "stream",
     "text": [
      "train loss: 0.56496, test loss: 0.65249\n"
     ]
    },
    {
     "name": "stderr",
     "output_type": "stream",
     "text": [
      "Epoch 2/6, Training: 100%|████████████████████████████| 200/200 [15:18<00:00,  4.59s/it]\n",
      "Epoch 2/6, Validation: 100%|████████████████████████████| 84/84 [19:02<00:00, 13.60s/it]\n",
      "Epoch 3/6, Validation:   0%|                                     | 0/84 [00:00<?, ?it/s]"
     ]
    },
    {
     "name": "stdout",
     "output_type": "stream",
     "text": [
      "train loss: 0.55771, test loss: 0.65398\n"
     ]
    },
    {
     "name": "stderr",
     "output_type": "stream",
     "text": [
      "Epoch 3/6, Training: 100%|████████████████████████████| 200/200 [15:20<00:00,  4.60s/it]\n",
      "Epoch 3/6, Validation: 100%|████████████████████████████| 84/84 [19:04<00:00, 13.62s/it]\n",
      "Epoch 4/6, Validation:   0%|                                     | 0/84 [00:00<?, ?it/s]"
     ]
    },
    {
     "name": "stdout",
     "output_type": "stream",
     "text": [
      "train loss: 0.55143, test loss: 0.63788\n"
     ]
    },
    {
     "name": "stderr",
     "output_type": "stream",
     "text": [
      "Epoch 4/6, Training: 100%|████████████████████████████| 200/200 [15:21<00:00,  4.61s/it]\n",
      "Epoch 4/6, Validation: 100%|████████████████████████████| 84/84 [19:06<00:00, 13.65s/it]\n",
      "Epoch 5/6, Validation:   0%|                                     | 0/84 [00:00<?, ?it/s]"
     ]
    },
    {
     "name": "stdout",
     "output_type": "stream",
     "text": [
      "train loss: 0.54062, test loss: 0.65483\n"
     ]
    },
    {
     "name": "stderr",
     "output_type": "stream",
     "text": [
      "Epoch 5/6, Training: 100%|████████████████████████████| 200/200 [15:21<00:00,  4.61s/it]\n",
      "Epoch 5/6, Validation: 100%|████████████████████████████| 84/84 [19:07<00:00, 13.66s/it]\n",
      "Epoch 0/6, Validation:   0%|                                     | 0/84 [00:00<?, ?it/s]"
     ]
    },
    {
     "name": "stdout",
     "output_type": "stream",
     "text": [
      "train loss: 0.53716, test loss: 0.65088\n"
     ]
    },
    {
     "name": "stderr",
     "output_type": "stream",
     "text": [
      "Epoch 0/6, Training: 100%|████████████████████████████| 200/200 [16:40<00:00,  5.00s/it]\n",
      "Epoch 0/6, Validation: 100%|████████████████████████████| 84/84 [20:24<00:00, 14.58s/it]\n",
      "Epoch 1/6, Validation:   0%|                                     | 0/84 [00:00<?, ?it/s]"
     ]
    },
    {
     "name": "stdout",
     "output_type": "stream",
     "text": [
      "train loss: 0.60386, test loss: 0.61257\n"
     ]
    },
    {
     "name": "stderr",
     "output_type": "stream",
     "text": [
      "Epoch 1/6, Training: 100%|████████████████████████████| 200/200 [16:42<00:00,  5.01s/it]\n",
      "Epoch 1/6, Validation: 100%|████████████████████████████| 84/84 [20:27<00:00, 14.62s/it]\n",
      "Epoch 2/6, Validation:   0%|                                     | 0/84 [00:00<?, ?it/s]"
     ]
    },
    {
     "name": "stdout",
     "output_type": "stream",
     "text": [
      "train loss: 0.57502, test loss: 0.63085\n"
     ]
    },
    {
     "name": "stderr",
     "output_type": "stream",
     "text": [
      "Epoch 2/6, Training: 100%|████████████████████████████| 200/200 [16:45<00:00,  5.03s/it]\n",
      "Epoch 2/6, Validation: 100%|████████████████████████████| 84/84 [20:30<00:00, 14.65s/it]\n",
      "Epoch 3/6, Validation:   0%|                                     | 0/84 [00:00<?, ?it/s]"
     ]
    },
    {
     "name": "stdout",
     "output_type": "stream",
     "text": [
      "train loss: 0.57068, test loss: 0.64536\n"
     ]
    },
    {
     "name": "stderr",
     "output_type": "stream",
     "text": [
      "Epoch 3/6, Training: 100%|████████████████████████████| 200/200 [16:47<00:00,  5.04s/it]\n",
      "Epoch 3/6, Validation: 100%|████████████████████████████| 84/84 [20:32<00:00, 14.67s/it]\n",
      "Epoch 4/6, Validation:   0%|                                     | 0/84 [00:00<?, ?it/s]"
     ]
    },
    {
     "name": "stdout",
     "output_type": "stream",
     "text": [
      "train loss: 0.56064, test loss: 0.66458\n"
     ]
    },
    {
     "name": "stderr",
     "output_type": "stream",
     "text": [
      "Epoch 4/6, Training: 100%|████████████████████████████| 200/200 [16:48<00:00,  5.04s/it]\n",
      "Epoch 4/6, Validation: 100%|████████████████████████████| 84/84 [20:34<00:00, 14.69s/it]\n",
      "Epoch 5/6, Validation:   0%|                                     | 0/84 [00:00<?, ?it/s]"
     ]
    },
    {
     "name": "stdout",
     "output_type": "stream",
     "text": [
      "train loss: 0.55336, test loss: 0.65439\n"
     ]
    },
    {
     "name": "stderr",
     "output_type": "stream",
     "text": [
      "Epoch 5/6, Training: 100%|████████████████████████████| 200/200 [16:54<00:00,  5.07s/it]\n",
      "Epoch 5/6, Validation: 100%|████████████████████████████| 84/84 [20:39<00:00, 14.76s/it]\n",
      "Epoch 0/6, Validation:   0%|                                     | 0/84 [00:00<?, ?it/s]"
     ]
    },
    {
     "name": "stdout",
     "output_type": "stream",
     "text": [
      "train loss: 0.54411, test loss: 0.65613\n"
     ]
    },
    {
     "name": "stderr",
     "output_type": "stream",
     "text": [
      "Epoch 0/6, Training: 100%|████████████████████████████| 200/200 [17:28<00:00,  5.24s/it]\n",
      "Epoch 0/6, Validation: 100%|████████████████████████████| 84/84 [21:11<00:00, 15.14s/it]\n",
      "Epoch 1/6, Validation:   0%|                                     | 0/84 [00:00<?, ?it/s]"
     ]
    },
    {
     "name": "stdout",
     "output_type": "stream",
     "text": [
      "train loss: 0.59782, test loss: 0.61386\n"
     ]
    },
    {
     "name": "stderr",
     "output_type": "stream",
     "text": [
      "Epoch 1/6, Training: 100%|████████████████████████████| 200/200 [17:32<00:00,  5.26s/it]\n",
      "Epoch 1/6, Validation: 100%|████████████████████████████| 84/84 [21:15<00:00, 15.19s/it]\n",
      "Epoch 2/6, Validation:   0%|                                     | 0/84 [00:00<?, ?it/s]"
     ]
    },
    {
     "name": "stdout",
     "output_type": "stream",
     "text": [
      "train loss: 0.56791, test loss: 0.61223\n"
     ]
    },
    {
     "name": "stderr",
     "output_type": "stream",
     "text": [
      "Epoch 2/6, Training: 100%|████████████████████████████| 200/200 [17:35<00:00,  5.28s/it]\n",
      "Epoch 2/6, Validation: 100%|████████████████████████████| 84/84 [21:19<00:00, 15.23s/it]\n",
      "Epoch 3/6, Validation:   0%|                                     | 0/84 [00:00<?, ?it/s]"
     ]
    },
    {
     "name": "stdout",
     "output_type": "stream",
     "text": [
      "train loss: 0.55888, test loss: 0.61601\n"
     ]
    },
    {
     "name": "stderr",
     "output_type": "stream",
     "text": [
      "Epoch 3/6, Training: 100%|████████████████████████████| 200/200 [17:38<00:00,  5.29s/it]\n",
      "Epoch 3/6, Validation: 100%|████████████████████████████| 84/84 [21:22<00:00, 15.27s/it]\n",
      "Epoch 4/6, Validation:   0%|                                     | 0/84 [00:00<?, ?it/s]"
     ]
    },
    {
     "name": "stdout",
     "output_type": "stream",
     "text": [
      "train loss: 0.54797, test loss: 0.62591\n"
     ]
    },
    {
     "name": "stderr",
     "output_type": "stream",
     "text": [
      "Epoch 4/6, Training: 100%|████████████████████████████| 200/200 [17:40<00:00,  5.30s/it]\n",
      "Epoch 4/6, Validation: 100%|████████████████████████████| 84/84 [21:25<00:00, 15.30s/it]\n",
      "Epoch 5/6, Validation:   0%|                                     | 0/84 [00:00<?, ?it/s]"
     ]
    },
    {
     "name": "stdout",
     "output_type": "stream",
     "text": [
      "train loss: 0.54003, test loss: 0.62676\n"
     ]
    },
    {
     "name": "stderr",
     "output_type": "stream",
     "text": [
      "Epoch 5/6, Training: 100%|████████████████████████████| 200/200 [17:39<00:00,  5.30s/it]\n",
      "Epoch 5/6, Validation: 100%|████████████████████████████| 84/84 [21:24<00:00, 15.29s/it]\n",
      "Epoch 0/6, Validation:   0%|                                     | 0/84 [00:00<?, ?it/s]"
     ]
    },
    {
     "name": "stdout",
     "output_type": "stream",
     "text": [
      "train loss: 0.52854, test loss: 0.63767\n"
     ]
    },
    {
     "name": "stderr",
     "output_type": "stream",
     "text": [
      "Epoch 0/6, Training: 100%|████████████████████████████| 200/200 [15:35<00:00,  4.68s/it]\n",
      "Epoch 0/6, Validation: 100%|████████████████████████████| 84/84 [19:17<00:00, 13.78s/it]\n",
      "Epoch 1/6, Validation:   0%|                                     | 0/84 [00:00<?, ?it/s]"
     ]
    },
    {
     "name": "stdout",
     "output_type": "stream",
     "text": [
      "train loss: 0.62368, test loss: 0.60705\n"
     ]
    },
    {
     "name": "stderr",
     "output_type": "stream",
     "text": [
      "Epoch 1/6, Training: 100%|████████████████████████████| 200/200 [15:36<00:00,  4.68s/it]\n",
      "Epoch 1/6, Validation: 100%|████████████████████████████| 84/84 [19:19<00:00, 13.80s/it]\n",
      "Epoch 2/6, Validation:   0%|                                     | 0/84 [00:00<?, ?it/s]"
     ]
    },
    {
     "name": "stdout",
     "output_type": "stream",
     "text": [
      "train loss: 0.57435, test loss: 0.61420\n"
     ]
    },
    {
     "name": "stderr",
     "output_type": "stream",
     "text": [
      "Epoch 2/6, Training: 100%|████████████████████████████| 200/200 [14:30<00:00,  4.35s/it]\n",
      "Epoch 2/6, Validation: 100%|████████████████████████████| 84/84 [17:35<00:00, 12.57s/it]\n",
      "Epoch 3/6, Validation:   0%|                                     | 0/84 [00:00<?, ?it/s]"
     ]
    },
    {
     "name": "stdout",
     "output_type": "stream",
     "text": [
      "train loss: 0.56109, test loss: 0.63833\n"
     ]
    },
    {
     "name": "stderr",
     "output_type": "stream",
     "text": [
      "Epoch 3/6, Training: 100%|████████████████████████████| 200/200 [12:59<00:00,  3.90s/it]\n",
      "Epoch 3/6, Validation: 100%|████████████████████████████| 84/84 [16:06<00:00, 11.50s/it]\n",
      "Epoch 4/6, Validation:   0%|                                     | 0/84 [00:00<?, ?it/s]"
     ]
    },
    {
     "name": "stdout",
     "output_type": "stream",
     "text": [
      "train loss: 0.55109, test loss: 0.64731\n"
     ]
    },
    {
     "name": "stderr",
     "output_type": "stream",
     "text": [
      "Epoch 4/6, Training: 100%|████████████████████████████| 200/200 [10:41<00:00,  3.21s/it]\n",
      "Epoch 4/6, Validation: 100%|████████████████████████████| 84/84 [13:09<00:00,  9.40s/it]\n",
      "Epoch 5/6, Validation:   0%|                                     | 0/84 [00:00<?, ?it/s]"
     ]
    },
    {
     "name": "stdout",
     "output_type": "stream",
     "text": [
      "train loss: 0.54123, test loss: 0.63949\n"
     ]
    },
    {
     "name": "stderr",
     "output_type": "stream",
     "text": [
      "Epoch 5/6, Training: 100%|████████████████████████████| 200/200 [10:22<00:00,  3.11s/it]\n",
      "Epoch 5/6, Validation: 100%|████████████████████████████| 84/84 [12:50<00:00,  9.17s/it]\n",
      "Epoch 0/6, Validation:   0%|                                     | 0/84 [00:00<?, ?it/s]"
     ]
    },
    {
     "name": "stdout",
     "output_type": "stream",
     "text": [
      "train loss: 0.54304, test loss: 0.63630\n"
     ]
    },
    {
     "name": "stderr",
     "output_type": "stream",
     "text": [
      "Epoch 0/6, Training: 100%|████████████████████████████| 200/200 [11:00<00:00,  3.30s/it]\n",
      "Epoch 0/6, Validation: 100%|████████████████████████████| 84/84 [13:27<00:00,  9.61s/it]\n",
      "Epoch 1/6, Validation:   0%|                                     | 0/84 [00:00<?, ?it/s]"
     ]
    },
    {
     "name": "stdout",
     "output_type": "stream",
     "text": [
      "train loss: 0.61991, test loss: 0.61326\n"
     ]
    },
    {
     "name": "stderr",
     "output_type": "stream",
     "text": [
      "Epoch 1/6, Training: 100%|████████████████████████████| 200/200 [11:04<00:00,  3.32s/it]\n",
      "Epoch 1/6, Validation: 100%|████████████████████████████| 84/84 [13:30<00:00,  9.65s/it]\n",
      "Epoch 2/6, Validation:   0%|                                     | 0/84 [00:00<?, ?it/s]"
     ]
    },
    {
     "name": "stdout",
     "output_type": "stream",
     "text": [
      "train loss: 0.57644, test loss: 0.61789\n"
     ]
    },
    {
     "name": "stderr",
     "output_type": "stream",
     "text": [
      "Epoch 2/6, Training: 100%|████████████████████████████| 200/200 [11:04<00:00,  3.32s/it]\n",
      "Epoch 2/6, Validation: 100%|████████████████████████████| 84/84 [13:31<00:00,  9.66s/it]\n",
      "Epoch 3/6, Validation:   0%|                                     | 0/84 [00:00<?, ?it/s]"
     ]
    },
    {
     "name": "stdout",
     "output_type": "stream",
     "text": [
      "train loss: 0.56296, test loss: 0.62830\n"
     ]
    },
    {
     "name": "stderr",
     "output_type": "stream",
     "text": [
      "Epoch 3/6, Training: 100%|████████████████████████████| 200/200 [11:04<00:00,  3.32s/it]\n",
      "Epoch 3/6, Validation: 100%|████████████████████████████| 84/84 [13:32<00:00,  9.67s/it]\n",
      "Epoch 4/6, Validation:   0%|                                     | 0/84 [00:00<?, ?it/s]"
     ]
    },
    {
     "name": "stdout",
     "output_type": "stream",
     "text": [
      "train loss: 0.55410, test loss: 0.63585\n"
     ]
    },
    {
     "name": "stderr",
     "output_type": "stream",
     "text": [
      "Epoch 4/6, Training: 100%|████████████████████████████| 200/200 [11:04<00:00,  3.32s/it]\n",
      "Epoch 4/6, Validation: 100%|████████████████████████████| 84/84 [13:33<00:00,  9.68s/it]\n",
      "Epoch 5/6, Validation:   0%|                                     | 0/84 [00:00<?, ?it/s]"
     ]
    },
    {
     "name": "stdout",
     "output_type": "stream",
     "text": [
      "train loss: 0.54469, test loss: 0.64323\n"
     ]
    },
    {
     "name": "stderr",
     "output_type": "stream",
     "text": [
      "Epoch 5/6, Training: 100%|████████████████████████████| 200/200 [11:02<00:00,  3.31s/it]\n",
      "Epoch 5/6, Validation: 100%|████████████████████████████| 84/84 [13:30<00:00,  9.65s/it]\n",
      "Epoch 0/6, Validation:   0%|                                     | 0/84 [00:00<?, ?it/s]"
     ]
    },
    {
     "name": "stdout",
     "output_type": "stream",
     "text": [
      "train loss: 0.53968, test loss: 0.63902\n"
     ]
    },
    {
     "name": "stderr",
     "output_type": "stream",
     "text": [
      "Epoch 0/6, Training: 100%|████████████████████████████| 200/200 [10:34<00:00,  3.17s/it]\n",
      "Epoch 0/6, Validation: 100%|████████████████████████████| 84/84 [12:45<00:00,  9.11s/it]\n",
      "Epoch 1/6, Validation:   0%|                                     | 0/84 [00:00<?, ?it/s]"
     ]
    },
    {
     "name": "stdout",
     "output_type": "stream",
     "text": [
      "train loss: 0.62848, test loss: 0.64781\n"
     ]
    },
    {
     "name": "stderr",
     "output_type": "stream",
     "text": [
      "Epoch 1/6, Training: 100%|████████████████████████████| 200/200 [07:58<00:00,  2.39s/it]\n",
      "Epoch 1/6, Validation:  99%|███████████████████████████▋| 83/84 [09:46<00:01,  1.14s/it]"
     ]
    }
   ],
   "source": [
    "EMBEDDING_DIM = 20\n",
    "HIDDEN_DIM = 100\n",
    "TAGSET_SIZE = 2\n",
    "NUM_EPOCHS = 6\n",
    "model_list = []\n",
    "\n",
    "for model_idx in range(9):\n",
    "    \n",
    "    train_data = []\n",
    "    for link_idx in np.random.choice(200,size=200,replace=True):\n",
    "        train_data.append(link_dataset[link_idx])\n",
    "    \n",
    "    model = LSTMTagger(EMBEDDING_DIM, HIDDEN_DIM, TAGSET_SIZE)\n",
    "    model.cuda()\n",
    "    loss_function = nn.NLLLoss(weight=torch.tensor([2.0,1.0])).cuda()\n",
    "    optimizer = optim.Adam(model.parameters(), 0.001)\n",
    "\n",
    "    model.train()\n",
    "    for epoch_idx in range(NUM_EPOCHS):  \n",
    "\n",
    "        progress_training_epoch = tqdm(\n",
    "            train_data, \n",
    "            desc=f'Epoch {epoch_idx}/{NUM_EPOCHS}, Training',\n",
    "            miniters=1, ncols=88, position=0,\n",
    "            leave=True, total=len(train_data), smoothing=.9)\n",
    "\n",
    "        progress_validation_epoch = tqdm(\n",
    "            test_data, \n",
    "            desc=f'Epoch {epoch_idx}/{NUM_EPOCHS}, Validation',\n",
    "            miniters=1, ncols=88, position=0, \n",
    "            leave=True, total=len(test_data), smoothing=.9)\n",
    "\n",
    "        train_loss = 0\n",
    "        train_size = 0\n",
    "        model.train()\n",
    "        for idx, (sentence, tags) in enumerate(progress_training_epoch):\n",
    "            sentence = sentence.cuda()\n",
    "            tags = tags.cuda()\n",
    "            model.zero_grad()\n",
    "            tag_scores = model(sentence)\n",
    "            loss = loss_function(tag_scores, tags)\n",
    "            loss.backward()\n",
    "            optimizer.step()\n",
    "            train_loss += loss * tags.size()[0]\n",
    "            train_size += tags.size()[0]\n",
    "\n",
    "        test_loss = 0\n",
    "        test_size = 0\n",
    "        model.eval()\n",
    "        with torch.no_grad():\n",
    "            for idx, (sentence, tags) in enumerate(progress_validation_epoch):\n",
    "                sentence = sentence.cuda()\n",
    "                tags = tags.cuda()\n",
    "                tag_scores = model(sentence)\n",
    "                loss = loss_function(tag_scores, tags) \n",
    "                test_loss += loss * tags.size()[0]\n",
    "                test_size += tags.size()[0]\n",
    "\n",
    "        print(f'train loss:{train_loss.item()/train_size: .5f}, '\n",
    "              f'test loss:{test_loss.item()/test_size: .5f}')\n",
    "        \n",
    "    model_list.append(model)"
   ]
  },
  {
   "cell_type": "markdown",
   "metadata": {},
   "source": [
    "# Test"
   ]
  },
  {
   "cell_type": "code",
   "execution_count": null,
   "metadata": {},
   "outputs": [],
   "source": [
    "predict_agg = []\n",
    "target_agg = []\n",
    "\n",
    "for model in model_list:\n",
    "    \n",
    "    progress_validation_epoch = tqdm(\n",
    "        test_data, \n",
    "        desc=f'Epoch {epoch_idx}/{NUM_EPOCHS}, Validation',\n",
    "        miniters=1, ncols=88, position=0, \n",
    "        leave=True, total=len(test_data), smoothing=.9)\n",
    "    \n",
    "    predict = []\n",
    "    target = []\n",
    "    model.eval()\n",
    "    with torch.no_grad():\n",
    "        for idx, (sentence, tags) in enumerate(progress_validation_epoch):\n",
    "            sentence = sentence.cuda()\n",
    "            tags = tags.cuda()\n",
    "            tag_scores = model(sentence)\n",
    "            predict.append(tag_scores.argmax(dim=1).cpu().numpy())\n",
    "            target.append(tags.cpu().numpy())        \n",
    "    predict = np.concatenate(predict, axis=0)\n",
    "    target = np.concatenate(target, axis=0)\n",
    "    \n",
    "    predict_agg.append(predict)\n",
    "    target_agg.append(target)\n",
    "    \n",
    "predict = (np.array(predict_agg).sum(axis=0) > 4.5)\n",
    "target = target_agg[0]\n",
    "tp = predict[target==1].sum()\n",
    "tn = (target==0).sum() - predict[target==0].sum()\n",
    "fp = predict[target==0].sum()\n",
    "fn = (target==1).sum() - predict[target==1].sum()\n",
    "\n",
    "print(f'True Positive:{tp}, '\n",
    "      f'True Negative:{tn}, '\n",
    "      f'False Positive:{fp}, '\n",
    "      f'False Negative:{fn}')"
   ]
  },
  {
   "cell_type": "code",
   "execution_count": null,
   "metadata": {},
   "outputs": [],
   "source": [
    "accr = (tp+tn)/(tp+tn+fp+fn)\n",
    "posaccr = tp/(tp+fp)\n",
    "negaccr = tn/(tn+fn)\n",
    "print(f'Accuracy:{accr}, '\n",
    "      f'Positive Accuracy:{posaccr}, '\n",
    "      f'Negative Accuracy:{negaccr}, '\n",
    "      f'Weighted Accuracy:{0.5*(posaccr+negaccr)}')"
   ]
  }
 ],
 "metadata": {
  "kernelspec": {
   "display_name": "Python 3",
   "language": "python",
   "name": "python3"
  },
  "language_info": {
   "codemirror_mode": {
    "name": "ipython",
    "version": 3
   },
   "file_extension": ".py",
   "mimetype": "text/x-python",
   "name": "python",
   "nbconvert_exporter": "python",
   "pygments_lexer": "ipython3",
   "version": "3.7.5"
  }
 },
 "nbformat": 4,
 "nbformat_minor": 2
}
