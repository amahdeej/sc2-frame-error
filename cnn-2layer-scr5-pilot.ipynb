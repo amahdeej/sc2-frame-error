{
 "cells": [
  {
   "cell_type": "markdown",
   "metadata": {},
   "source": [
    "# Libraries"
   ]
  },
  {
   "cell_type": "code",
   "execution_count": 1,
   "metadata": {},
   "outputs": [],
   "source": [
    "import sqlite3\n",
    "import numpy as np\n",
    "from collections import OrderedDict, namedtuple\n",
    "from distutils.spawn import find_executable\n",
    "import matplotlib.pyplot as plt\n",
    "\n",
    "import sys\n",
    "import subprocess\n",
    "import pathlib\n",
    "import tempfile\n",
    "import importlib\n",
    "import time\n",
    "import random\n",
    "import pickle\n",
    "\n",
    "import math\n",
    "\n",
    "from configparser import ConfigParser\n",
    "\n",
    "# from google.protobuf.json_format import MessageToDict"
   ]
  },
  {
   "cell_type": "code",
   "execution_count": 2,
   "metadata": {},
   "outputs": [],
   "source": [
    "# DEVICE = 0\n",
    "\n",
    "import os\n",
    "import time\n",
    "import pickle\n",
    "import numpy as np\n",
    "from tqdm import tqdm\n",
    "import matplotlib.pyplot as plt\n",
    "import seaborn as sn\n",
    "import pandas as pd\n",
    "\n",
    "import torch\n",
    "torch.backends.cudnn.benchmark = True\n",
    "import torch.optim as optim\n",
    "import torch.nn as nn\n",
    "import torch.nn.functional as F\n",
    "from torch.autograd import Variable\n",
    "from torch.utils import data\n",
    "\n",
    "# torch.cuda.set_device(DEVICE)\n",
    "torch.cuda.empty_cache() \n",
    "torch.backends.cudnn.benchmark=True"
   ]
  },
  {
   "cell_type": "code",
   "execution_count": 3,
   "metadata": {},
   "outputs": [],
   "source": [
    "np.random.seed(0)\n",
    "torch.manual_seed(0)\n",
    "\n",
    "import os\n",
    "os.environ['CUDA_VISIBLE_DEVICES']='0'"
   ]
  },
  {
   "cell_type": "markdown",
   "metadata": {},
   "source": [
    "# load the dataset"
   ]
  },
  {
   "cell_type": "code",
   "execution_count": 4,
   "metadata": {},
   "outputs": [],
   "source": [
    "with open('scrimmage5_link_dataset.pickle', 'rb') as file:\n",
    "    link_dataset = pickle.load(file)"
   ]
  },
  {
   "cell_type": "code",
   "execution_count": 5,
   "metadata": {},
   "outputs": [
    {
     "data": {
      "text/plain": [
       "627"
      ]
     },
     "execution_count": 5,
     "metadata": {},
     "output_type": "execute_result"
    }
   ],
   "source": [
    "len(link_dataset)"
   ]
  },
  {
   "cell_type": "code",
   "execution_count": 6,
   "metadata": {},
   "outputs": [],
   "source": [
    "train_x_npn = []\n",
    "train_y_npn = []\n",
    "test_x_npn = []\n",
    "test_y_npn = []\n",
    "\n",
    "for i in range(len(link_dataset)):\n",
    "    datalen = len(link_dataset[i][1])\n",
    "    trainlen = round(datalen*2/3)\n",
    "    testlen = datalen -trainlen        \n",
    "    train_x_npn.append(link_dataset[i][0][0:trainlen].numpy())    \n",
    "    train_y_npn.append(link_dataset[i][1][0:trainlen].numpy())\n",
    "    test_x_npn.append(link_dataset[i][0][trainlen:trainlen+testlen].numpy())\n",
    "    test_y_npn.append(link_dataset[i][1][trainlen:trainlen+testlen].numpy())"
   ]
  },
  {
   "cell_type": "code",
   "execution_count": 7,
   "metadata": {},
   "outputs": [],
   "source": [
    "train_x_np = np.concatenate(train_x_npn)\n",
    "train_y_np = np.concatenate(train_y_npn)\n",
    "test_x_np = np.concatenate(test_x_npn)\n",
    "test_y_np = np.concatenate(test_y_npn)"
   ]
  },
  {
   "cell_type": "code",
   "execution_count": 8,
   "metadata": {},
   "outputs": [],
   "source": [
    "train_x = torch.from_numpy(train_x_np)\n",
    "train_x = train_x.view(-1,1,20)\n",
    "test_x = torch.from_numpy(test_x_np)\n",
    "test_x = test_x.view(-1,1,20)\n",
    "train_y = torch.from_numpy(train_y_np)\n",
    "test_y = torch.from_numpy(test_y_np)"
   ]
  },
  {
   "cell_type": "code",
   "execution_count": 9,
   "metadata": {},
   "outputs": [],
   "source": [
    "class CNN(nn.Module):\n",
    "\n",
    "    def __init__(self):\n",
    "        super(CNN, self).__init__()\n",
    "        self.conv1 = nn.Conv1d(in_channels=1, out_channels=16, kernel_size=3, padding=1)\n",
    "        self.norm1 = nn.BatchNorm1d(num_features=16)\n",
    "        self.conv2 = nn.Conv1d(in_channels=16, out_channels=16, kernel_size=3, padding=1)\n",
    "        self.norm2 = nn.BatchNorm1d(num_features=16)\n",
    "        #self.dropout = nn.Dropout(p=0.5)\n",
    "        self.linear = nn.Linear(in_features=16*20, out_features=2)\n",
    "\n",
    "    def forward(self, input):\n",
    "        output = self.conv1(input)\n",
    "        output = self.norm1(output)\n",
    "        output = F.relu(output)\n",
    "        output = self.conv2(output)\n",
    "        output = self.norm2(output)\n",
    "        output = F.relu(output)\n",
    "        \n",
    "        output = output.view(-1,16*20)\n",
    "        #output = self.dropout(output)\n",
    "        output = self.linear(output)\n",
    "        \n",
    "        return output"
   ]
  },
  {
   "cell_type": "markdown",
   "metadata": {},
   "source": [
    "# Train Model"
   ]
  },
  {
   "cell_type": "code",
   "execution_count": 10,
   "metadata": {
    "scrolled": false
   },
   "outputs": [
    {
     "name": "stderr",
     "output_type": "stream",
     "text": [
      "Epoch 0/10, Training: 100%|████████████████████████| 7598/7598 [01:07<00:00, 112.04it/s]\n",
      "Epoch 0/10, Validation: 100%|███████████████████████| 3799/3799 [01:31<00:00, 41.43it/s]\n",
      "Epoch 1/10, Validation:   0%|                                  | 0/3799 [00:00<?, ?it/s]"
     ]
    },
    {
     "name": "stdout",
     "output_type": "stream",
     "text": [
      "train loss: 0.48111, test loss: 0.57695\n"
     ]
    },
    {
     "name": "stderr",
     "output_type": "stream",
     "text": [
      "Epoch 1/10, Training: 100%|█████████████████████████| 7598/7598 [02:13<00:00, 56.83it/s]\n",
      "Epoch 1/10, Validation: 100%|███████████████████████| 3799/3799 [03:54<00:00, 16.21it/s]\n",
      "Epoch 2/10, Validation:   0%|                                  | 0/3799 [00:00<?, ?it/s]"
     ]
    },
    {
     "name": "stdout",
     "output_type": "stream",
     "text": [
      "train loss: 0.46915, test loss: 0.57830\n"
     ]
    },
    {
     "name": "stderr",
     "output_type": "stream",
     "text": [
      "Epoch 2/10, Training: 100%|█████████████████████████| 7598/7598 [01:38<00:00, 76.86it/s]\n",
      "Epoch 2/10, Validation: 100%|███████████████████████| 3799/3799 [02:17<00:00, 27.70it/s]\n",
      "Epoch 3/10, Validation:   0%|                                  | 0/3799 [00:00<?, ?it/s]"
     ]
    },
    {
     "name": "stdout",
     "output_type": "stream",
     "text": [
      "train loss: 0.46582, test loss: 0.57221\n"
     ]
    },
    {
     "name": "stderr",
     "output_type": "stream",
     "text": [
      "Epoch 3/10, Training: 100%|█████████████████████████| 7598/7598 [01:40<00:00, 75.32it/s]\n",
      "Epoch 3/10, Validation: 100%|███████████████████████| 3799/3799 [02:20<00:00, 27.11it/s]\n",
      "Epoch 4/10, Validation:   0%|                                  | 0/3799 [00:00<?, ?it/s]"
     ]
    },
    {
     "name": "stdout",
     "output_type": "stream",
     "text": [
      "train loss: 0.46397, test loss: 0.57155\n"
     ]
    },
    {
     "name": "stderr",
     "output_type": "stream",
     "text": [
      "Epoch 4/10, Training: 100%|█████████████████████████| 7598/7598 [01:40<00:00, 75.67it/s]\n",
      "Epoch 4/10, Validation: 100%|███████████████████████| 3799/3799 [02:17<00:00, 27.56it/s]\n",
      "Epoch 5/10, Validation:   0%|                                  | 0/3799 [00:00<?, ?it/s]"
     ]
    },
    {
     "name": "stdout",
     "output_type": "stream",
     "text": [
      "train loss: 0.46261, test loss: 0.57291\n"
     ]
    },
    {
     "name": "stderr",
     "output_type": "stream",
     "text": [
      "Epoch 5/10, Training: 100%|█████████████████████████| 7598/7598 [01:42<00:00, 74.22it/s]\n",
      "Epoch 5/10, Validation: 100%|███████████████████████| 3799/3799 [02:19<00:00, 27.31it/s]\n",
      "Epoch 6/10, Validation:   0%|                                  | 0/3799 [00:00<?, ?it/s]"
     ]
    },
    {
     "name": "stdout",
     "output_type": "stream",
     "text": [
      "train loss: 0.46162, test loss: 0.59372\n"
     ]
    },
    {
     "name": "stderr",
     "output_type": "stream",
     "text": [
      "Epoch 6/10, Training: 100%|█████████████████████████| 7598/7598 [01:42<00:00, 74.08it/s]\n",
      "Epoch 6/10, Validation: 100%|███████████████████████| 3799/3799 [02:16<00:00, 27.84it/s]\n",
      "Epoch 7/10, Validation:   0%|                                  | 0/3799 [00:00<?, ?it/s]"
     ]
    },
    {
     "name": "stdout",
     "output_type": "stream",
     "text": [
      "train loss: 0.46083, test loss: 0.57280\n"
     ]
    },
    {
     "name": "stderr",
     "output_type": "stream",
     "text": [
      "Epoch 7/10, Training: 100%|█████████████████████████| 7598/7598 [01:44<00:00, 72.51it/s]\n",
      "Epoch 7/10, Validation: 100%|███████████████████████| 3799/3799 [02:13<00:00, 28.35it/s]\n",
      "Epoch 8/10, Validation:   0%|                                  | 0/3799 [00:00<?, ?it/s]"
     ]
    },
    {
     "name": "stdout",
     "output_type": "stream",
     "text": [
      "train loss: 0.46015, test loss: 0.56958\n"
     ]
    },
    {
     "name": "stderr",
     "output_type": "stream",
     "text": [
      "Epoch 8/10, Training: 100%|█████████████████████████| 7598/7598 [01:43<00:00, 73.31it/s]\n",
      "Epoch 8/10, Validation: 100%|███████████████████████| 3799/3799 [02:21<00:00, 26.86it/s]\n",
      "Epoch 9/10, Validation:   0%|                                  | 0/3799 [00:00<?, ?it/s]"
     ]
    },
    {
     "name": "stdout",
     "output_type": "stream",
     "text": [
      "train loss: 0.45950, test loss: 0.57810\n"
     ]
    },
    {
     "name": "stderr",
     "output_type": "stream",
     "text": [
      "Epoch 9/10, Training: 100%|█████████████████████████| 7598/7598 [01:43<00:00, 73.11it/s]\n",
      "Epoch 9/10, Validation: 100%|███████████████████████| 3799/3799 [02:18<00:00, 27.33it/s]"
     ]
    },
    {
     "name": "stdout",
     "output_type": "stream",
     "text": [
      "train loss: 0.45894, test loss: 0.56992\n"
     ]
    },
    {
     "name": "stderr",
     "output_type": "stream",
     "text": [
      "\n"
     ]
    }
   ],
   "source": [
    "NUM_EPOCHS = 10\n",
    "BATCH_SIZE = 1024\n",
    "\n",
    "model = CNN()\n",
    "model.cuda()\n",
    "\n",
    "loss_function = nn.CrossEntropyLoss(weight=torch.tensor([1.0,1.0])).cuda()\n",
    "optimizer = optim.Adam(model.parameters(), 0.001)\n",
    "# optimizer = optim.SGD(model.parameters(), lr=0.001)\n",
    "\n",
    "train_dataloader = data.DataLoader(\n",
    "    dataset=data.TensorDataset(train_x,train_y), \n",
    "    batch_size=BATCH_SIZE, shuffle=True, num_workers=16, pin_memory=True)\n",
    "\n",
    "test_dataloader = data.DataLoader(\n",
    "    data.TensorDataset(test_x,test_y), \n",
    "    batch_size=BATCH_SIZE, shuffle=False, num_workers=16, pin_memory=True)\n",
    "\n",
    "model.train()\n",
    "for epoch_idx in range(NUM_EPOCHS):  # again, normally you would NOT do 300 epochs, it is toy data\n",
    "\n",
    "    progress_training_epoch = tqdm(\n",
    "        train_dataloader, \n",
    "        desc=f'Epoch {epoch_idx}/{NUM_EPOCHS}, Training',\n",
    "        miniters=1, ncols=88, position=0,\n",
    "        leave=True, total=len(train_dataloader), smoothing=.9)\n",
    "\n",
    "    progress_validation_epoch = tqdm(\n",
    "        test_dataloader, \n",
    "        desc=f'Epoch {epoch_idx}/{NUM_EPOCHS}, Validation',\n",
    "        miniters=1, ncols=88, position=0, \n",
    "        leave=True, total=len(test_dataloader), smoothing=.9)\n",
    "\n",
    "    train_loss = 0\n",
    "    train_size = 0\n",
    "    for idx, (input, target) in enumerate(progress_training_epoch):\n",
    "        input = input.cuda()\n",
    "        target = target.cuda()\n",
    "        model.zero_grad()\n",
    "        predict = model(input)\n",
    "        loss = loss_function(predict, target)\n",
    "        loss.backward()\n",
    "        optimizer.step()\n",
    "        train_loss += loss * target.size()[0]\n",
    "        train_size += target.size()[0]\n",
    "\n",
    "    test_loss = 0\n",
    "    test_size = 0\n",
    "    predict = []\n",
    "    target = []\n",
    "    model.eval()\n",
    "    with torch.no_grad():\n",
    "        for idx, (batch_input, batch_target) in enumerate(progress_validation_epoch):\n",
    "            batch_input = batch_input.cuda()\n",
    "            batch_target = batch_target.cuda()\n",
    "            batch_predict = model(batch_input)\n",
    "            loss = loss_function(batch_predict, batch_target)\n",
    "            predict.append(batch_predict.argmax(dim=1).cpu().numpy())\n",
    "            target.append(batch_target.cpu().numpy())        \n",
    "            test_loss += loss * batch_target.size()[0]\n",
    "            test_size += batch_target.size()[0]\n",
    "    predict = np.concatenate(predict, axis=0)\n",
    "    target = np.concatenate(target, axis=0)\n",
    "\n",
    "#     print(f'train loss:{train_loss.item()/train_size: .5f}, '\n",
    "#           f'test loss:{test_loss.item()/test_size: .5f}, '\n",
    "#           f'overall accuracy:{(predict == target).sum() / target.size}, '\n",
    "#           f'positive accuracy:{predict[target==1].sum() / target.sum()}, '\n",
    "#           f'negative accuracy:{(np.logical_not(target).sum() - predict[np.logical_not(target)].sum()) / np.logical_not(target).sum()}')\n",
    "    \n",
    "    print(f'train loss:{train_loss.item()/train_size: .5f}, '\n",
    "          f'test loss:{test_loss.item()/test_size: .5f}')"
   ]
  },
  {
   "cell_type": "code",
   "execution_count": 11,
   "metadata": {},
   "outputs": [
    {
     "name": "stdout",
     "output_type": "stream",
     "text": [
      "True Positive:2367952, True Negative:415608, False Positive:907874, False Negative:198416\n"
     ]
    }
   ],
   "source": [
    "test_dataloader = data.DataLoader(\n",
    "    data.TensorDataset(test_x,test_y), \n",
    "    batch_size=BATCH_SIZE, shuffle=False, num_workers=16, pin_memory=True)\n",
    "\n",
    "predict = []\n",
    "target = []\n",
    "model.eval()\n",
    "with torch.no_grad():\n",
    "    for idx, (batch_input, batch_target) in enumerate(progress_validation_epoch):\n",
    "        batch_input = batch_input.cuda()\n",
    "        batch_target = batch_target.cuda()\n",
    "        batch_predict = model(batch_input)\n",
    "        predict.append(batch_predict.argmax(dim=1).cpu().numpy())\n",
    "        target.append(batch_target.cpu().numpy())        \n",
    "predict = np.concatenate(predict, axis=0)\n",
    "target = np.concatenate(target, axis=0)\n",
    "\n",
    "tp = predict[target==1].sum()\n",
    "tn = (target==0).sum() - predict[target==0].sum()\n",
    "fp = predict[target==0].sum()\n",
    "fn = (target==1).sum() - predict[target==1].sum()\n",
    "\n",
    "print(f'True Positive:{tp}, '\n",
    "      f'True Negative:{tn}, '\n",
    "      f'False Positive:{fp}, '\n",
    "      f'False Negative:{fn}')"
   ]
  },
  {
   "cell_type": "code",
   "execution_count": 12,
   "metadata": {},
   "outputs": [
    {
     "name": "stdout",
     "output_type": "stream",
     "text": [
      "Accuracy:0.7155957170584984, Positive Accuracy:0.7228564642932805, Negative Accuracy:0.6768595364350579, Weighted Accuracy:0.6998580003641692\n"
     ]
    }
   ],
   "source": [
    "accr = (tp+tn)/(tp+tn+fp+fn)\n",
    "posaccr = tp/(tp+fp)\n",
    "negaccr = tn/(tn+fn)\n",
    "print(f'Accuracy:{accr}, '\n",
    "      f'Positive Accuracy:{posaccr}, '\n",
    "      f'Negative Accuracy:{negaccr}, '\n",
    "      f'Weighted Accuracy:{0.5*(posaccr+negaccr)}')"
   ]
  },
  {
   "cell_type": "markdown",
   "metadata": {},
   "source": [
    "# Train Model 1 Epoch"
   ]
  },
  {
   "cell_type": "code",
   "execution_count": 13,
   "metadata": {},
   "outputs": [
    {
     "name": "stderr",
     "output_type": "stream",
     "text": [
      "Epoch 1/1, Training: 100%|██████████████████████████| 7598/7598 [01:43<00:00, 73.07it/s]\n",
      "Epoch 1/1, Validation: 100%|████████████████████████| 3799/3799 [02:16<00:00, 27.88it/s]"
     ]
    },
    {
     "name": "stdout",
     "output_type": "stream",
     "text": [
      "train loss: 0.48300, test loss: 0.57899\n"
     ]
    },
    {
     "name": "stderr",
     "output_type": "stream",
     "text": [
      "\n"
     ]
    }
   ],
   "source": [
    "NUM_EPOCHS = 1\n",
    "BATCH_SIZE = 1024\n",
    "\n",
    "model = CNN()\n",
    "model.cuda()\n",
    "\n",
    "loss_function = nn.CrossEntropyLoss(weight=torch.tensor([1.0,1.0])).cuda()\n",
    "optimizer = optim.Adam(model.parameters(), 0.001)\n",
    "# optimizer = optim.SGD(model.parameters(), lr=0.001)\n",
    "\n",
    "train_dataloader = data.DataLoader(\n",
    "    dataset=data.TensorDataset(train_x,train_y), \n",
    "    batch_size=BATCH_SIZE, shuffle=True, num_workers=16, pin_memory=True)\n",
    "\n",
    "test_dataloader = data.DataLoader(\n",
    "    data.TensorDataset(test_x,test_y), \n",
    "    batch_size=BATCH_SIZE, shuffle=False, num_workers=16, pin_memory=True)\n",
    "\n",
    "model.train()\n",
    "for epoch_idx in range(NUM_EPOCHS):  # again, normally you would NOT do 300 epochs, it is toy data\n",
    "\n",
    "    progress_training_epoch = tqdm(\n",
    "        train_dataloader, \n",
    "        desc=f'Epoch {epoch_idx+1}/{NUM_EPOCHS}, Training',\n",
    "        miniters=1, ncols=88, position=0,\n",
    "        leave=True, total=len(train_dataloader), smoothing=.9)\n",
    "\n",
    "    progress_validation_epoch = tqdm(\n",
    "        test_dataloader, \n",
    "        desc=f'Epoch {epoch_idx+1}/{NUM_EPOCHS}, Validation',\n",
    "        miniters=1, ncols=88, position=0, \n",
    "        leave=True, total=len(test_dataloader), smoothing=.9)\n",
    "\n",
    "    train_loss = 0\n",
    "    train_size = 0\n",
    "    for idx, (input, target) in enumerate(progress_training_epoch):\n",
    "        input = input.cuda()\n",
    "        target = target.cuda()\n",
    "        model.zero_grad()\n",
    "        predict = model(input)\n",
    "        loss = loss_function(predict, target)\n",
    "        loss.backward()\n",
    "        optimizer.step()\n",
    "        train_loss += loss * target.size()[0]\n",
    "        train_size += target.size()[0]\n",
    "\n",
    "    test_loss = 0\n",
    "    test_size = 0\n",
    "    predict = []\n",
    "    target = []\n",
    "    model.eval()\n",
    "    with torch.no_grad():\n",
    "        for idx, (batch_input, batch_target) in enumerate(progress_validation_epoch):\n",
    "            batch_input = batch_input.cuda()\n",
    "            batch_target = batch_target.cuda()\n",
    "            batch_predict = model(batch_input)\n",
    "            loss = loss_function(batch_predict, batch_target)\n",
    "            predict.append(batch_predict.argmax(dim=1).cpu().numpy())\n",
    "            target.append(batch_target.cpu().numpy())        \n",
    "            test_loss += loss * batch_target.size()[0]\n",
    "            test_size += batch_target.size()[0]\n",
    "    predict = np.concatenate(predict, axis=0)\n",
    "    target = np.concatenate(target, axis=0)\n",
    "\n",
    "#     print(f'train loss:{train_loss.item()/train_size: .5f}, '\n",
    "#           f'test loss:{test_loss.item()/test_size: .5f}, '\n",
    "#           f'overall accuracy:{(predict == target).sum() / target.size}, '\n",
    "#           f'positive accuracy:{predict[target==1].sum() / target.sum()}, '\n",
    "#           f'negative accuracy:{(np.logical_not(target).sum() - predict[np.logical_not(target)].sum()) / np.logical_not(target).sum()}')\n",
    "    \n",
    "    print(f'train loss:{train_loss.item()/train_size: .5f}, '\n",
    "          f'test loss:{test_loss.item()/test_size: .5f}')"
   ]
  },
  {
   "cell_type": "markdown",
   "metadata": {},
   "source": [
    "# Test"
   ]
  },
  {
   "cell_type": "code",
   "execution_count": 14,
   "metadata": {},
   "outputs": [
    {
     "name": "stdout",
     "output_type": "stream",
     "text": [
      "True Positive:2428412, True Negative:321621, False Positive:1001861, False Negative:137956\n"
     ]
    }
   ],
   "source": [
    "test_dataloader = data.DataLoader(\n",
    "    data.TensorDataset(test_x,test_y), \n",
    "    batch_size=BATCH_SIZE, shuffle=False, num_workers=16, pin_memory=True)\n",
    "\n",
    "predict = []\n",
    "target = []\n",
    "model.eval()\n",
    "with torch.no_grad():\n",
    "    for idx, (batch_input, batch_target) in enumerate(progress_validation_epoch):\n",
    "        batch_input = batch_input.cuda()\n",
    "        batch_target = batch_target.cuda()\n",
    "        batch_predict = model(batch_input)\n",
    "        predict.append(batch_predict.argmax(dim=1).cpu().numpy())\n",
    "        target.append(batch_target.cpu().numpy())        \n",
    "predict = np.concatenate(predict, axis=0)\n",
    "target = np.concatenate(target, axis=0)\n",
    "\n",
    "tp = predict[target==1].sum()\n",
    "tn = (target==0).sum() - predict[target==0].sum()\n",
    "fp = predict[target==0].sum()\n",
    "fn = (target==1).sum() - predict[target==1].sum()\n",
    "\n",
    "print(f'True Positive:{tp}, '\n",
    "      f'True Negative:{tn}, '\n",
    "      f'False Positive:{fp}, '\n",
    "      f'False Negative:{fn}')"
   ]
  },
  {
   "cell_type": "code",
   "execution_count": 15,
   "metadata": {},
   "outputs": [
    {
     "name": "stdout",
     "output_type": "stream",
     "text": [
      "Accuracy:0.7069766186356801, Positive Accuracy:0.7079354908486876, Negative Accuracy:0.6998196167345189, Weighted Accuracy:0.7038775537916032\n"
     ]
    }
   ],
   "source": [
    "accr = (tp+tn)/(tp+tn+fp+fn)\n",
    "posaccr = tp/(tp+fp)\n",
    "negaccr = tn/(tn+fn)\n",
    "print(f'Accuracy:{accr}, '\n",
    "      f'Positive Accuracy:{posaccr}, '\n",
    "      f'Negative Accuracy:{negaccr}, '\n",
    "      f'Weighted Accuracy:{0.5*(posaccr+negaccr)}')"
   ]
  },
  {
   "cell_type": "markdown",
   "metadata": {},
   "source": [
    "# Bagging 9"
   ]
  },
  {
   "cell_type": "code",
   "execution_count": 10,
   "metadata": {},
   "outputs": [],
   "source": [
    "with open('scrimmage5_link_dataset.pickle', 'rb') as file:\n",
    "    link_dataset = pickle.load(file)"
   ]
  },
  {
   "cell_type": "code",
   "execution_count": 11,
   "metadata": {},
   "outputs": [
    {
     "name": "stderr",
     "output_type": "stream",
     "text": [
      "Epoch 1/1, Training 1/9: 100%|██████████████████████| 3472/3472 [00:59<00:00, 58.26it/s]\n",
      "Epoch 1/1, Validation 1/9: 100%|████████████████████| 7810/7810 [02:26<00:00, 53.44it/s]\n"
     ]
    },
    {
     "name": "stdout",
     "output_type": "stream",
     "text": [
      "train loss: 0.44301, test loss: 0.59474\n"
     ]
    },
    {
     "name": "stderr",
     "output_type": "stream",
     "text": [
      "Epoch 1/1, Training 2/9: 100%|██████████████████████| 3482/3482 [01:00<00:00, 57.81it/s]\n",
      "Epoch 1/1, Validation 2/9: 100%|████████████████████| 7810/7810 [02:29<00:00, 52.21it/s]\n"
     ]
    },
    {
     "name": "stdout",
     "output_type": "stream",
     "text": [
      "train loss: 0.42563, test loss: 0.61922\n"
     ]
    },
    {
     "name": "stderr",
     "output_type": "stream",
     "text": [
      "Epoch 1/1, Training 3/9: 100%|██████████████████████| 3408/3408 [01:00<00:00, 56.36it/s]\n",
      "Epoch 1/1, Validation 3/9: 100%|████████████████████| 7810/7810 [02:30<00:00, 51.94it/s]\n"
     ]
    },
    {
     "name": "stdout",
     "output_type": "stream",
     "text": [
      "train loss: 0.43849, test loss: 0.59427\n"
     ]
    },
    {
     "name": "stderr",
     "output_type": "stream",
     "text": [
      "Epoch 1/1, Training 4/9: 100%|██████████████████████| 3643/3643 [01:00<00:00, 59.91it/s]\n",
      "Epoch 1/1, Validation 4/9: 100%|████████████████████| 7810/7810 [02:26<00:00, 53.20it/s]\n"
     ]
    },
    {
     "name": "stdout",
     "output_type": "stream",
     "text": [
      "train loss: 0.45604, test loss: 0.60293\n"
     ]
    },
    {
     "name": "stderr",
     "output_type": "stream",
     "text": [
      "Epoch 1/1, Training 5/9: 100%|██████████████████████| 3495/3495 [00:58<00:00, 59.60it/s]\n",
      "Epoch 1/1, Validation 5/9: 100%|████████████████████| 7810/7810 [02:18<00:00, 56.29it/s]\n"
     ]
    },
    {
     "name": "stdout",
     "output_type": "stream",
     "text": [
      "train loss: 0.43735, test loss: 0.58403\n"
     ]
    },
    {
     "name": "stderr",
     "output_type": "stream",
     "text": [
      "Epoch 1/1, Training 6/9: 100%|██████████████████████| 3657/3657 [01:04<00:00, 57.11it/s]\n",
      "Epoch 1/1, Validation 6/9: 100%|████████████████████| 7810/7810 [02:28<00:00, 52.58it/s]\n"
     ]
    },
    {
     "name": "stdout",
     "output_type": "stream",
     "text": [
      "train loss: 0.48539, test loss: 0.59150\n"
     ]
    },
    {
     "name": "stderr",
     "output_type": "stream",
     "text": [
      "Epoch 1/1, Training 7/9: 100%|██████████████████████| 3698/3698 [01:02<00:00, 58.94it/s]\n",
      "Epoch 1/1, Validation 7/9: 100%|████████████████████| 7810/7810 [02:31<00:00, 51.62it/s]\n"
     ]
    },
    {
     "name": "stdout",
     "output_type": "stream",
     "text": [
      "train loss: 0.42854, test loss: 0.58386\n"
     ]
    },
    {
     "name": "stderr",
     "output_type": "stream",
     "text": [
      "Epoch 1/1, Training 8/9: 100%|██████████████████████| 3623/3623 [00:56<00:00, 63.90it/s]\n",
      "Epoch 1/1, Validation 8/9: 100%|████████████████████| 7810/7810 [02:37<00:00, 49.53it/s]\n"
     ]
    },
    {
     "name": "stdout",
     "output_type": "stream",
     "text": [
      "train loss: 0.46210, test loss: 0.59818\n"
     ]
    },
    {
     "name": "stderr",
     "output_type": "stream",
     "text": [
      "Epoch 1/1, Training 9/9: 100%|██████████████████████| 3669/3669 [00:58<00:00, 63.26it/s]\n",
      "Epoch 1/1, Validation 9/9: 100%|████████████████████| 7810/7810 [02:20<00:00, 55.41it/s]"
     ]
    },
    {
     "name": "stdout",
     "output_type": "stream",
     "text": [
      "train loss: 0.46159, test loss: 0.59785\n"
     ]
    },
    {
     "name": "stderr",
     "output_type": "stream",
     "text": [
      "\n"
     ]
    }
   ],
   "source": [
    "NUM_EPOCHS = 1\n",
    "model_list = []\n",
    "BATCH_SIZE = 1024\n",
    "\n",
    "for model_idx in range(9):\n",
    "    \n",
    "    train_data = []\n",
    "    for link_idx in np.random.choice(200,size=200,replace=True):\n",
    "        train_data.append(link_dataset[link_idx])\n",
    "    test_data = link_dataset[200:]\n",
    "    \n",
    "    train_x = torch.cat(tuple(link[0] for link in train_data),dim=0)\n",
    "    train_y = torch.cat(tuple(link[1] for link in train_data),dim=0)\n",
    "    test_x = torch.cat(tuple(link[0] for link in test_data),dim=0)\n",
    "    test_y = torch.cat(tuple(link[1] for link in test_data),dim=0)\n",
    "    \n",
    "    train_x = train_x.view(-1,1,20)\n",
    "    test_x = test_x.view(-1,1,20)\n",
    "\n",
    "    model = CNN()\n",
    "    model.cuda()\n",
    "\n",
    "    loss_function = nn.CrossEntropyLoss(weight=torch.tensor([1.0,1.0])).cuda()\n",
    "    optimizer = optim.Adam(model.parameters(), 0.001)\n",
    "\n",
    "    train_dataloader = data.DataLoader(\n",
    "        dataset=data.TensorDataset(train_x,train_y), \n",
    "        batch_size=BATCH_SIZE, shuffle=True, num_workers=16, pin_memory=True)\n",
    "\n",
    "    test_dataloader = data.DataLoader(\n",
    "        data.TensorDataset(test_x,test_y), \n",
    "        batch_size=BATCH_SIZE, shuffle=False, num_workers=16, pin_memory=True)\n",
    "\n",
    "    model.train()\n",
    "    for epoch_idx in range(NUM_EPOCHS):  # again, normally you would NOT do 300 epochs, it is toy data\n",
    "\n",
    "        progress_training_epoch = tqdm(\n",
    "            train_dataloader, \n",
    "            desc=f'Epoch {epoch_idx+1}/{NUM_EPOCHS}, Training {model_idx+1}/9',\n",
    "            miniters=1, ncols=88, position=0,\n",
    "            leave=True, total=len(train_dataloader), smoothing=.9)\n",
    "\n",
    "        progress_validation_epoch = tqdm(\n",
    "            test_dataloader, \n",
    "            desc=f'Epoch {epoch_idx+1}/{NUM_EPOCHS}, Validation {model_idx+1}/9',\n",
    "            miniters=1, ncols=88, position=0, \n",
    "            leave=True, total=len(test_dataloader), smoothing=.9)\n",
    "\n",
    "        train_loss = 0\n",
    "        train_size = 0\n",
    "        for idx, (input, target) in enumerate(progress_training_epoch):\n",
    "            input = input.cuda()\n",
    "            target = target.cuda()\n",
    "            model.zero_grad()\n",
    "            predict = model(input)\n",
    "            loss = loss_function(predict, target)\n",
    "            loss.backward()\n",
    "            optimizer.step()\n",
    "            train_loss += loss * target.size()[0]\n",
    "            train_size += target.size()[0]\n",
    "\n",
    "        test_loss = 0\n",
    "        test_size = 0\n",
    "        model.eval()\n",
    "        with torch.no_grad():\n",
    "            for idx, (batch_input, batch_target) in enumerate(progress_validation_epoch):\n",
    "                batch_input = batch_input.cuda()\n",
    "                batch_target = batch_target.cuda()\n",
    "                batch_predict = model(batch_input)\n",
    "                loss = loss_function(batch_predict, batch_target)\n",
    "                test_loss += loss * batch_target.size()[0]\n",
    "                test_size += batch_target.size()[0]\n",
    "\n",
    "        print(f'train loss:{train_loss.item()/train_size: .5f}, '\n",
    "              f'test loss:{test_loss.item()/test_size: .5f}')\n",
    "        \n",
    "    model_list.append(model) "
   ]
  },
  {
   "cell_type": "markdown",
   "metadata": {},
   "source": [
    "# Test"
   ]
  },
  {
   "cell_type": "code",
   "execution_count": 12,
   "metadata": {},
   "outputs": [
    {
     "name": "stderr",
     "output_type": "stream",
     "text": [
      "Epoch 1/1, Validation: 100%|███████████████████████| 7810/7810 [01:10<00:00, 111.36it/s]\n",
      "Epoch 1/1, Validation: 100%|███████████████████████| 7810/7810 [01:02<00:00, 125.20it/s]\n",
      "Epoch 1/1, Validation: 100%|███████████████████████| 7810/7810 [01:01<00:00, 127.31it/s]\n",
      "Epoch 1/1, Validation: 100%|███████████████████████| 7810/7810 [01:00<00:00, 129.33it/s]\n",
      "Epoch 1/1, Validation: 100%|███████████████████████| 7810/7810 [00:59<00:00, 131.56it/s]\n",
      "Epoch 1/1, Validation: 100%|███████████████████████| 7810/7810 [01:00<00:00, 129.37it/s]\n",
      "Epoch 1/1, Validation: 100%|███████████████████████| 7810/7810 [00:59<00:00, 130.61it/s]\n",
      "Epoch 1/1, Validation: 100%|███████████████████████| 7810/7810 [01:01<00:00, 127.24it/s]\n",
      "Epoch 1/1, Validation: 100%|███████████████████████| 7810/7810 [01:00<00:00, 129.44it/s]\n"
     ]
    },
    {
     "name": "stdout",
     "output_type": "stream",
     "text": [
      "True Positive:5385793, True Negative:488792, False Positive:1814506, False Negative:307847\n"
     ]
    }
   ],
   "source": [
    "predict_agg = []\n",
    "target_agg = []\n",
    "\n",
    "for model in model_list:\n",
    "    \n",
    "    test_dataloader = data.DataLoader(\n",
    "        data.TensorDataset(test_x,test_y), \n",
    "        batch_size=BATCH_SIZE, shuffle=False, num_workers=16, pin_memory=True)\n",
    "\n",
    "    progress_validation_epoch = tqdm(\n",
    "        test_dataloader, \n",
    "        desc=f'Epoch {epoch_idx+1}/{NUM_EPOCHS}, Validation',\n",
    "        miniters=1, ncols=88, position=0, \n",
    "        leave=True, total=len(test_dataloader), smoothing=.9)\n",
    "    \n",
    "    predict = []\n",
    "    target = []\n",
    "    model.eval()\n",
    "    with torch.no_grad():\n",
    "        for idx, (batch_input, batch_target) in enumerate(progress_validation_epoch):\n",
    "            batch_input = batch_input.cuda()\n",
    "            batch_target = batch_target.cuda()\n",
    "            batch_predict = model(batch_input)\n",
    "            predict.append(batch_predict.argmax(dim=1).cpu().numpy())\n",
    "            target.append(batch_target.cpu().numpy())        \n",
    "    predict = np.concatenate(predict, axis=0)\n",
    "    target = np.concatenate(target, axis=0)\n",
    "    \n",
    "    predict_agg.append(predict)\n",
    "    target_agg.append(target)\n",
    "\n",
    "predict = (np.array(predict_agg).sum(axis=0) > 4.5)\n",
    "target = target_agg[0]\n",
    "tp = predict[target==1].sum()\n",
    "tn = (target==0).sum() - predict[target==0].sum()\n",
    "fp = predict[target==0].sum()\n",
    "fn = (target==1).sum() - predict[target==1].sum()\n",
    "\n",
    "print(f'True Positive:{tp}, '\n",
    "      f'True Negative:{tn}, '\n",
    "      f'False Positive:{fp}, '\n",
    "      f'False Negative:{fn}')"
   ]
  },
  {
   "cell_type": "code",
   "execution_count": 13,
   "metadata": {},
   "outputs": [
    {
     "name": "stdout",
     "output_type": "stream",
     "text": [
      "Accuracy:0.7346042947938324, Positive Accuracy:0.7479957429545634, Negative Accuracy:0.6135677515160568, Weighted Accuracy:0.6807817472353102\n"
     ]
    }
   ],
   "source": [
    "accr = (tp+tn)/(tp+tn+fp+fn)\n",
    "posaccr = tp/(tp+fp)\n",
    "negaccr = tn/(tn+fn)\n",
    "print(f'Accuracy:{accr}, '\n",
    "      f'Positive Accuracy:{posaccr}, '\n",
    "      f'Negative Accuracy:{negaccr}, '\n",
    "      f'Weighted Accuracy:{0.5*(posaccr+negaccr)}')"
   ]
  },
  {
   "cell_type": "code",
   "execution_count": null,
   "metadata": {},
   "outputs": [],
   "source": []
  }
 ],
 "metadata": {
  "kernelspec": {
   "display_name": "Python 3",
   "language": "python",
   "name": "python3"
  },
  "language_info": {
   "codemirror_mode": {
    "name": "ipython",
    "version": 3
   },
   "file_extension": ".py",
   "mimetype": "text/x-python",
   "name": "python",
   "nbconvert_exporter": "python",
   "pygments_lexer": "ipython3",
   "version": "3.7.5"
  }
 },
 "nbformat": 4,
 "nbformat_minor": 2
}
