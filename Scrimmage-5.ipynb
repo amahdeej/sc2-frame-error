{
 "cells": [
  {
   "cell_type": "markdown",
   "metadata": {},
   "source": [
    "# Import Libraries"
   ]
  },
  {
   "cell_type": "code",
   "execution_count": 1,
   "metadata": {},
   "outputs": [],
   "source": [
    "import os\n",
    "import sys\n",
    "import time\n",
    "import math\n",
    "import pickle\n",
    "import random\n",
    "import pathlib\n",
    "import sqlite3\n",
    "import tempfile\n",
    "import importlib\n",
    "import subprocess\n",
    "\n",
    "import numpy as np\n",
    "import pandas as pd\n",
    "import seaborn as sn\n",
    "from tqdm import tqdm\n",
    "import matplotlib.pyplot as plt\n",
    "from configparser import ConfigParser\n",
    "from distutils.spawn import find_executable\n",
    "from collections import OrderedDict, namedtuple\n",
    "from mlxtend.feature_selection import ColumnSelector\n",
    "\n",
    "import torch\n",
    "import torch.nn as nn\n",
    "import torch.optim as optim\n",
    "from torch.utils import data\n",
    "import torch.nn.functional as F\n",
    "from torch.autograd import Variable\n",
    "from sru import SRU, SRUCell"
   ]
  },
  {
   "cell_type": "markdown",
   "metadata": {},
   "source": [
    "# Set Parameters"
   ]
  },
  {
   "cell_type": "code",
   "execution_count": 2,
   "metadata": {},
   "outputs": [],
   "source": [
    "np.random.seed(0)\n",
    "\n",
    "torch.cuda.empty_cache()\n",
    "torch.manual_seed(0)\n",
    "torch.backends.cudnn.benchmark=True\n",
    "\n",
    "os.environ['CUDA_VISIBLE_DEVICES'] = '1' # GPU Number\n",
    "os.environ['TORCH_EXTENSIONS_DIR'] = os.popen('pwd').read().strip('\\n') # SRU Temp Folder"
   ]
  },
  {
   "cell_type": "code",
   "execution_count": 3,
   "metadata": {},
   "outputs": [],
   "source": [
    "# Mean and Standard Deviation for Noise - used for SNR analysis\n",
    "scr5_mean = 33.17964\n",
    "scr5_std = 6.6672482"
   ]
  },
  {
   "cell_type": "code",
   "execution_count": 4,
   "metadata": {},
   "outputs": [],
   "source": [
    "NUM_EPOCHS = 10 # No Of Training Epochs\n",
    "TRAIN_BATCH_SIZE = 1024 # Batch size for Training\n",
    "VAL_BATCH_SIZE = 128 # Batch size for Validation and Testing\n",
    "\n",
    "# Parameters for RNN based Architectures\n",
    "EMBEDDING_DIM = 3\n",
    "HIDDEN_DIM = 100\n",
    "TAGSET_SIZE = 2"
   ]
  },
  {
   "cell_type": "markdown",
   "metadata": {},
   "source": [
    "# DNN Modules"
   ]
  },
  {
   "cell_type": "code",
   "execution_count": 5,
   "metadata": {},
   "outputs": [],
   "source": [
    "class CNN(nn.Module):\n",
    "\n",
    "    def __init__(self):\n",
    "        super(CNN, self).__init__()\n",
    "        self.conv1 = nn.Conv1d(in_channels=1, out_channels=16, kernel_size=3, padding=1)\n",
    "        self.selu = nn.SELU()\n",
    "        self.drop = nn.AlphaDropout(p=0.5)\n",
    "        self.conv2 = nn.Conv1d(in_channels=16, out_channels=16, kernel_size=3, padding=1)\n",
    "        self.linear = nn.Linear(in_features=16*3, out_features=2)\n",
    "\n",
    "    def forward(self, input):\n",
    "        output = self.conv1(input)\n",
    "        output = self.selu(output)\n",
    "        output = self.conv2(output)\n",
    "        output = self.selu(output)\n",
    "        output = output.view(-1,16*3)\n",
    "        output = self.drop(output)\n",
    "        output = self.linear(output)\n",
    "        return output\n",
    "    \n",
    "    "
   ]
  },
  {
   "cell_type": "code",
   "execution_count": 6,
   "metadata": {},
   "outputs": [],
   "source": [
    "class GRUTagger(nn.Module):\n",
    "\n",
    "    def __init__(self, embedding_dim, hidden_dim, tagset_size):\n",
    "        super(GRUTagger, self).__init__()\n",
    "        \n",
    "        self.hidden_dim = hidden_dim\n",
    "        self.gru = nn.GRU(embedding_dim, hidden_dim)\n",
    "        \n",
    "        self.hidden2tag = nn.Linear(hidden_dim, tagset_size)\n",
    "        \n",
    "    \n",
    "    def forward(self, sentence):\n",
    "        gru_out, _ = self.gru(sentence.view(len(sentence), 1, -1))\n",
    "        tag_space = self.hidden2tag(gru_out.view(len(sentence), -1))\n",
    "        tag_scores = F.log_softmax(tag_space, dim=1)\n",
    "        return tag_scores\n",
    "    "
   ]
  },
  {
   "cell_type": "code",
   "execution_count": 7,
   "metadata": {},
   "outputs": [],
   "source": [
    "class BGRUTagger(nn.Module):\n",
    "\n",
    "    def __init__(self, embedding_dim, hidden_dim, tagset_size):\n",
    "        super(BGRUTagger, self).__init__()\n",
    "        \n",
    "        self.hidden_dim = hidden_dim\n",
    "        self.bgru = nn.GRU(embedding_dim, hidden_dim,bidirectional=True)\n",
    "        \n",
    "        self.hidden2tag = nn.Linear(hidden_dim*2, tagset_size)\n",
    "        \n",
    "    \n",
    "    def forward(self, sentence):\n",
    "        gru_out, _ = self.bgru(sentence.view(len(sentence), 1, -1))\n",
    "        tag_space = self.hidden2tag(gru_out.view(len(sentence), -1))\n",
    "        tag_scores = F.log_softmax(tag_space, dim=1)\n",
    "        return tag_scores\n",
    "    "
   ]
  },
  {
   "cell_type": "code",
   "execution_count": 8,
   "metadata": {},
   "outputs": [],
   "source": [
    "class BSRUTagger(nn.Module):\n",
    "\n",
    "    def __init__(self, embedding_dim, hidden_dim, tagset_size):\n",
    "        super(BSRUTagger, self).__init__()\n",
    "        \n",
    "        self.hidden_dim = hidden_dim\n",
    "        self.bsru = SRU(embedding_dim, hidden_dim,2,bidirectional=True)\n",
    "        \n",
    "        self.hidden2tag = nn.Linear(hidden_dim*2, tagset_size)\n",
    "        \n",
    "    \n",
    "    def forward(self, sentence):\n",
    "        sru_out, _ = self.bsru(sentence.view(len(sentence), 1, -1))\n",
    "        tag_space = self.hidden2tag(sru_out.view(len(sentence), -1))\n",
    "        tag_scores = F.log_softmax(tag_space, dim=1)\n",
    "        return tag_scores\n",
    "    "
   ]
  },
  {
   "cell_type": "code",
   "execution_count": 9,
   "metadata": {},
   "outputs": [],
   "source": [
    "class CBSDNN(nn.Module):\n",
    "    def __init__(self):\n",
    "        super().__init__()\n",
    "        \n",
    "        self.conv1 = nn.Conv1d(in_channels=1, out_channels=16, kernel_size=3, padding=1)\n",
    "        nn.init.xavier_normal_(self.conv1.weight)\n",
    "\n",
    "        self.conv2 = nn.Conv1d(in_channels=16, out_channels=16, kernel_size=3, padding=1)\n",
    "        nn.init.xavier_normal_(self.conv2.weight)\n",
    "\n",
    "        self.linear1 = nn.Linear(16*3, 100)\n",
    "        \n",
    "        self.bsru = SRU(input_size=100, hidden_size=100,num_layers=2,bidirectional=True)\n",
    "        self.linear2 = nn.Linear(100*2, 100*2)\n",
    "        nn.init.xavier_normal_(self.linear2.weight)\n",
    "\n",
    "        self.linear3 = nn.Linear(100*2, 2)\n",
    "\n",
    "        self.relu = nn.ReLU()\n",
    "\n",
    "        self.dropout1 = nn.Dropout(0.2)\n",
    "        self.dropout2 = nn.Dropout(0.2)\n",
    "\n",
    "        self.softmax = nn.Softmax(dim=1)\n",
    "\n",
    "    def forward(self, input):\n",
    "        \n",
    "        output = self.conv1(input)\n",
    "        output = self.relu(output)\n",
    "\n",
    "        output = self.conv2(output)\n",
    "        output = self.relu(output)\n",
    "        output = self.dropout1(output)\n",
    "                \n",
    "        output = output.view(-1, 16*3)\n",
    "        output1 = self.linear1(output)\n",
    "\n",
    "        output = output1.view(len(output1),1 ,-1 )\n",
    "        output, _ = self.bsru(output)\n",
    "        \n",
    "        output = output.view(len(output1), -1)\n",
    "\n",
    "        output = self.linear2(output)\n",
    "        output = self.relu(output)\n",
    "\n",
    "        output = self.dropout2(output)\n",
    "\n",
    "        output = self.linear3(output)\n",
    "\n",
    "        output = F.log_softmax(output, dim=1)\n",
    "        return output\n"
   ]
  },
  {
   "cell_type": "markdown",
   "metadata": {},
   "source": [
    "# Acquire and Prepare Data"
   ]
  },
  {
   "cell_type": "code",
   "execution_count": 10,
   "metadata": {},
   "outputs": [],
   "source": [
    "with open('../ssp_cldnn/scrimmage5_link_dataset.pickle', 'rb') as file:\n",
    "    link_dataset = pickle.load(file)"
   ]
  },
  {
   "cell_type": "code",
   "execution_count": 11,
   "metadata": {},
   "outputs": [],
   "source": [
    "# Retain only the features selected by the RFE method\n",
    "# Columns : 0 - SNR, 1 - MCS, 2 - Center Frequency, 3 - Bandwidth, [4:19] - PSD\n",
    "\n",
    "cols = torch.LongTensor([0,1,3]) \n",
    "\n",
    "link_data = [(link_datas[0][:,cols], link_datas[1]) for link_datas in link_dataset] "
   ]
  },
  {
   "cell_type": "code",
   "execution_count": 12,
   "metadata": {},
   "outputs": [],
   "source": [
    "# Without Pilot\n",
    "\n",
    "# Do a 40:10:50 train:validation:test split \n",
    "train_data = link_data[:251]\n",
    "val_data = link_data[251:314]\n",
    "test_data = link_data[314:]\n",
    "\n",
    "train_x = torch.cat(tuple(link[0] for link in train_data),dim=0)\n",
    "train_y = torch.cat(tuple(link[1] for link in train_data),dim=0)\n",
    "\n",
    "val_x = torch.cat(tuple(link[0] for link in val_data),dim=0)\n",
    "val_y = torch.cat(tuple(link[1] for link in val_data),dim=0)\n",
    "\n",
    "test_x = torch.cat(tuple(link[0] for link in test_data),dim=0)\n",
    "test_y = torch.cat(tuple(link[1] for link in test_data),dim=0)\n",
    "\n",
    "# Reshape data for CNN and CBSDNN\n",
    "train_x_cnn = train_x.view(-1,1,3)\n",
    "val_x_cnn = val_x.view(-1,1,3)\n",
    "test_x_cnn = test_x.view(-1,1,3)"
   ]
  },
  {
   "cell_type": "code",
   "execution_count": 13,
   "metadata": {},
   "outputs": [],
   "source": [
    "# With Pilot\n",
    "\n",
    "datadist = [0.4, 0.1, 0.5] # distribution among train, test and validation\n",
    "\n",
    "train_x_npn = []\n",
    "train_y_npn = []\n",
    "val_x_npn = []\n",
    "val_y_npn = []\n",
    "test_x_npn = []\n",
    "test_y_npn = []\n",
    "\n",
    "for i in range(len(link_data)):\n",
    "    datalen = len(link_data[i][1])\n",
    "    trainlen = int(datalen*datadist[0])\n",
    "    vallen = int(datalen*(datadist[0]+datadist[1]))\n",
    "\n",
    "    train_x_npn.append(link_data[i][0][0:trainlen].numpy())    \n",
    "    train_y_npn.append(link_data[i][1][0:trainlen].numpy())\n",
    "    \n",
    "    val_x_npn.append(link_data[i][0][trainlen:vallen].numpy())    \n",
    "    val_y_npn.append(link_data[i][1][trainlen:vallen].numpy())\n",
    "    \n",
    "    test_x_npn.append(link_data[i][0][vallen:datalen].numpy())\n",
    "    test_y_npn.append(link_data[i][1][vallen:datalen].numpy())\n",
    "\n",
    "train_x_np = np.concatenate(train_x_npn)\n",
    "train_y_np = np.concatenate(train_y_npn)\n",
    "val_x_np = np.concatenate(val_x_npn)\n",
    "val_y_np = np.concatenate(val_y_npn)\n",
    "test_x_np = np.concatenate(test_x_npn)\n",
    "test_y_np = np.concatenate(test_y_npn)\n",
    "\n",
    "train_x_plt = torch.from_numpy(train_x_np)\n",
    "val_x_plt = torch.from_numpy(val_x_np)\n",
    "test_x_plt = torch.from_numpy(test_x_np)\n",
    "train_y_plt = torch.from_numpy(train_y_np)\n",
    "val_y_plt = torch.from_numpy(val_y_np)\n",
    "test_y_plt = torch.from_numpy(test_y_np)\n",
    "\n",
    "# Reshape data for CNN and CBSDNN\n",
    "train_x_plt_cnn = train_x_plt.view(-1,1,3)\n",
    "val_x_plt_cnn = val_x_plt.view(-1,1,3)\n",
    "test_x_plt_cnn = test_x_plt.view(-1,1,3)"
   ]
  },
  {
   "cell_type": "markdown",
   "metadata": {},
   "source": [
    "# Running Tests"
   ]
  },
  {
   "cell_type": "code",
   "execution_count": 14,
   "metadata": {},
   "outputs": [],
   "source": [
    "# Initialize Result Variables\n",
    "cnn_scr5_res = {}\n",
    "gru_scr5_res = {}\n",
    "bgru_scr5_res = {}\n",
    "bsru_scr5_res = {}\n",
    "cbsdnn_scr5_res = {}"
   ]
  },
  {
   "cell_type": "markdown",
   "metadata": {},
   "source": [
    "# Without Pilot"
   ]
  },
  {
   "cell_type": "markdown",
   "metadata": {},
   "source": [
    "# CNN"
   ]
  },
  {
   "cell_type": "code",
   "execution_count": 15,
   "metadata": {},
   "outputs": [
    {
     "name": "stderr",
     "output_type": "stream",
     "text": [
      "Epoch 1/10, Training: 100%|████████████████████████| 4518/4518 [00:11<00:00, 402.24it/s]\n",
      "Epoch 1/10, Validation: 100%|██████████████████████| 9128/9128 [00:19<00:00, 463.88it/s]\n",
      "Epoch 2/10, Validation:   0%|                                  | 0/9128 [00:00<?, ?it/s]"
     ]
    },
    {
     "name": "stdout",
     "output_type": "stream",
     "text": [
      "train loss: 0.53788, validation loss: 0.61614\n"
     ]
    },
    {
     "name": "stderr",
     "output_type": "stream",
     "text": [
      "Epoch 2/10, Training: 100%|████████████████████████| 4518/4518 [00:10<00:00, 437.38it/s]\n",
      "Epoch 2/10, Validation: 100%|██████████████████████| 9128/9128 [00:18<00:00, 483.76it/s]\n",
      "Epoch 3/10, Validation:   0%|                                  | 0/9128 [00:00<?, ?it/s]"
     ]
    },
    {
     "name": "stdout",
     "output_type": "stream",
     "text": [
      "train loss: 0.51292, validation loss: 0.56793\n"
     ]
    },
    {
     "name": "stderr",
     "output_type": "stream",
     "text": [
      "Epoch 3/10, Training: 100%|████████████████████████| 4518/4518 [00:10<00:00, 440.29it/s]\n",
      "Epoch 3/10, Validation: 100%|██████████████████████| 9128/9128 [00:18<00:00, 486.68it/s]\n",
      "Epoch 4/10, Validation:   0%|                                  | 0/9128 [00:00<?, ?it/s]"
     ]
    },
    {
     "name": "stdout",
     "output_type": "stream",
     "text": [
      "train loss: 0.51105, validation loss: 0.56665\n"
     ]
    },
    {
     "name": "stderr",
     "output_type": "stream",
     "text": [
      "Epoch 4/10, Training: 100%|████████████████████████| 4518/4518 [00:10<00:00, 434.57it/s]\n",
      "Epoch 4/10, Validation: 100%|██████████████████████| 9128/9128 [00:18<00:00, 483.08it/s]\n",
      "Epoch 5/10, Validation:   0%|                                  | 0/9128 [00:00<?, ?it/s]"
     ]
    },
    {
     "name": "stdout",
     "output_type": "stream",
     "text": [
      "train loss: 0.50933, validation loss: 0.56306\n"
     ]
    },
    {
     "name": "stderr",
     "output_type": "stream",
     "text": [
      "Epoch 5/10, Training: 100%|████████████████████████| 4518/4518 [00:10<00:00, 433.62it/s]\n",
      "Epoch 5/10, Validation: 100%|██████████████████████| 9128/9128 [00:18<00:00, 481.13it/s]\n",
      "Epoch 6/10, Validation:   0%|                                  | 0/9128 [00:00<?, ?it/s]"
     ]
    },
    {
     "name": "stdout",
     "output_type": "stream",
     "text": [
      "train loss: 0.50756, validation loss: 0.56351\n"
     ]
    },
    {
     "name": "stderr",
     "output_type": "stream",
     "text": [
      "Epoch 6/10, Training: 100%|████████████████████████| 4518/4518 [00:10<00:00, 430.89it/s]\n",
      "Epoch 6/10, Validation: 100%|██████████████████████| 9128/9128 [00:18<00:00, 481.10it/s]\n",
      "Epoch 7/10, Validation:   0%|                                  | 0/9128 [00:00<?, ?it/s]"
     ]
    },
    {
     "name": "stdout",
     "output_type": "stream",
     "text": [
      "train loss: 0.50572, validation loss: 0.56121\n"
     ]
    },
    {
     "name": "stderr",
     "output_type": "stream",
     "text": [
      "Epoch 7/10, Training: 100%|████████████████████████| 4518/4518 [00:10<00:00, 433.15it/s]\n",
      "Epoch 7/10, Validation: 100%|██████████████████████| 9128/9128 [00:18<00:00, 484.09it/s]\n",
      "Epoch 8/10, Validation:   0%|                                  | 0/9128 [00:00<?, ?it/s]"
     ]
    },
    {
     "name": "stdout",
     "output_type": "stream",
     "text": [
      "train loss: 0.50388, validation loss: 0.55934\n"
     ]
    },
    {
     "name": "stderr",
     "output_type": "stream",
     "text": [
      "Epoch 8/10, Training: 100%|████████████████████████| 4518/4518 [00:10<00:00, 437.24it/s]\n",
      "Epoch 8/10, Validation: 100%|██████████████████████| 9128/9128 [00:18<00:00, 491.80it/s]\n",
      "Epoch 9/10, Validation:   0%|                                  | 0/9128 [00:00<?, ?it/s]"
     ]
    },
    {
     "name": "stdout",
     "output_type": "stream",
     "text": [
      "train loss: 0.50236, validation loss: 0.55974\n"
     ]
    },
    {
     "name": "stderr",
     "output_type": "stream",
     "text": [
      "Epoch 9/10, Training: 100%|████████████████████████| 4518/4518 [00:10<00:00, 438.98it/s]\n",
      "Epoch 9/10, Validation: 100%|██████████████████████| 9128/9128 [00:18<00:00, 489.25it/s]\n",
      "Epoch 10/10, Validation:   0%|                                 | 0/9128 [00:00<?, ?it/s]"
     ]
    },
    {
     "name": "stdout",
     "output_type": "stream",
     "text": [
      "train loss: 0.50126, validation loss: 0.55836\n"
     ]
    },
    {
     "name": "stderr",
     "output_type": "stream",
     "text": [
      "Epoch 10/10, Training: 100%|███████████████████████| 4518/4518 [00:10<00:00, 433.62it/s]\n",
      "Epoch 10/10, Validation: 100%|█████████████████████| 9128/9128 [00:18<00:00, 483.97it/s]\n"
     ]
    },
    {
     "name": "stdout",
     "output_type": "stream",
     "text": [
      "train loss: 0.50053, validation loss: 0.55715\n"
     ]
    }
   ],
   "source": [
    "# Train\n",
    "\n",
    "model = CNN()\n",
    "model.cuda()\n",
    "\n",
    "loss_function = nn.CrossEntropyLoss(weight=torch.tensor([1.0,1.0])).cuda()\n",
    "optimizer = optim.SGD(model.parameters(), lr = 0.01)\n",
    "\n",
    "train_dataloader=data.DataLoader(data.TensorDataset(train_x_cnn,train_y),batch_size=TRAIN_BATCH_SIZE, \n",
    "                                   shuffle=True, num_workers=16, pin_memory=True)\n",
    "\n",
    "val_dataloader=data.DataLoader(data.TensorDataset(val_x_cnn,val_y),batch_size=VAL_BATCH_SIZE, \n",
    "                                 shuffle=False, num_workers=16, pin_memory=True)\n",
    "\n",
    "test_dataloader=data.DataLoader(data.TensorDataset(test_x_cnn,test_y), batch_size=VAL_BATCH_SIZE,\n",
    "                                  shuffle=False, num_workers=16, pin_memory=True)\n",
    "\n",
    "model.train()\n",
    "\n",
    "for epoch_idx in range(NUM_EPOCHS):  # again, normally you would NOT do 300 epochs, it is toy data\n",
    "\n",
    "    progress_training_epoch = tqdm(\n",
    "        train_dataloader, \n",
    "        desc=f'Epoch {epoch_idx + 1}/{NUM_EPOCHS}, Training',\n",
    "        miniters=1, ncols=88, position=0,\n",
    "        leave=True, total=len(train_dataloader), smoothing=.9)\n",
    "\n",
    "    progress_validation_epoch = tqdm(\n",
    "        val_dataloader, \n",
    "        desc=f'Epoch {epoch_idx + 1}/{NUM_EPOCHS}, Validation',\n",
    "        miniters=1, ncols=88, position=0, \n",
    "        leave=True, total=len(val_dataloader), smoothing=.9)\n",
    "\n",
    "    train_loss = 0\n",
    "    train_size = 0\n",
    "    for idx, (input, target) in enumerate(progress_training_epoch):\n",
    "        input = input.cuda()\n",
    "        target = target.cuda()\n",
    "        model.zero_grad()\n",
    "        predict = model(input)\n",
    "        loss = loss_function(predict, target)\n",
    "        loss.backward()\n",
    "        optimizer.step()\n",
    "        train_loss += loss * target.size()[0]\n",
    "        train_size += target.size()[0]\n",
    "\n",
    "    test_loss = 0\n",
    "    test_size = 0\n",
    "    predict = []\n",
    "    target = []\n",
    "    model.eval()\n",
    "    with torch.no_grad():\n",
    "        for idx, (batch_input, batch_target) in enumerate(progress_validation_epoch):\n",
    "            batch_input = batch_input.cuda()\n",
    "            batch_target = batch_target.cuda()\n",
    "            batch_predict = model(batch_input)\n",
    "            loss = loss_function(batch_predict, batch_target)\n",
    "            predict.append(batch_predict.argmax(dim=1).cpu().numpy())\n",
    "            target.append(batch_target.cpu().numpy())        \n",
    "            test_loss += loss * batch_target.size()[0]\n",
    "            test_size += batch_target.size()[0]\n",
    "    predict = np.concatenate(predict, axis=0)\n",
    "    target = np.concatenate(target, axis=0)\n",
    "   \n",
    "    print(f'train loss:{train_loss.item()/train_size: .5f}, '\n",
    "          f'validation loss:{test_loss.item()/test_size: .5f}')"
   ]
  },
  {
   "cell_type": "code",
   "execution_count": 16,
   "metadata": {},
   "outputs": [
    {
     "name": "stderr",
     "output_type": "stream",
     "text": [
      "Epoch 10/10, Test: 100%|████████████████████████| 45899/45899 [00:35<00:00, 1308.28it/s]\n"
     ]
    }
   ],
   "source": [
    "# Test\n",
    "\n",
    "progress_test_epoch = tqdm(\n",
    "    test_dataloader, \n",
    "    desc=f'Epoch {epoch_idx + 1}/{NUM_EPOCHS}, Test',\n",
    "    miniters=1, ncols=88, position=0, \n",
    "    leave=True, total=len(test_dataloader), smoothing=.9)\n",
    "\n",
    "predict = [] # Predicted Label\n",
    "target = [] # Target Lable\n",
    "snrss = [] # SNR (Calculated from Noise Variance)\n",
    "model.eval()\n",
    "with torch.no_grad():\n",
    "    for idx, (batch_input, batch_target) in enumerate(progress_test_epoch):\n",
    "        batch_input = batch_input.cuda()\n",
    "        batch_target = batch_target.cuda()\n",
    "        batch_predict = model(batch_input)\n",
    "        predict.append(batch_predict.argmax(dim=1).cpu().numpy())\n",
    "        target.append(batch_target.cpu().numpy())        \n",
    "        snrss.append(batch_input.cpu().numpy()[:,0][:,0])\n",
    "predict = np.concatenate(predict, axis=0)\n",
    "target = np.concatenate(target, axis=0)\n",
    "snrss = np.concatenate(snrss, axis=0)\n",
    "\n",
    "cnn_scr5_res['cnn_scr5_prd'] = predict\n",
    "cnn_scr5_res['cnn_scr5_trg'] = target\n",
    "cnn_scr5_res['cnn_scr5_snr'] = snrss * scr5_std + scr5_mean"
   ]
  },
  {
   "cell_type": "markdown",
   "metadata": {},
   "source": [
    "# GRU"
   ]
  },
  {
   "cell_type": "code",
   "execution_count": 17,
   "metadata": {},
   "outputs": [
    {
     "name": "stderr",
     "output_type": "stream",
     "text": [
      "Epoch 1/10, Training: 100%|█████████████████████████| 4518/4518 [01:44<00:00, 43.07it/s]\n",
      "Epoch 1/10, Validation: 100%|███████████████████████| 9128/9128 [02:03<00:00, 73.89it/s]\n",
      "Epoch 2/10, Validation:   0%|                                  | 0/9128 [00:00<?, ?it/s]"
     ]
    },
    {
     "name": "stdout",
     "output_type": "stream",
     "text": [
      "train loss: 0.51048, validation loss: 0.54652\n"
     ]
    },
    {
     "name": "stderr",
     "output_type": "stream",
     "text": [
      "Epoch 2/10, Training: 100%|█████████████████████████| 4518/4518 [01:45<00:00, 42.67it/s]\n",
      "Epoch 2/10, Validation: 100%|███████████████████████| 9128/9128 [02:04<00:00, 73.20it/s]\n",
      "Epoch 3/10, Validation:   0%|                                  | 0/9128 [00:00<?, ?it/s]"
     ]
    },
    {
     "name": "stdout",
     "output_type": "stream",
     "text": [
      "train loss: 0.49632, validation loss: 0.54348\n"
     ]
    },
    {
     "name": "stderr",
     "output_type": "stream",
     "text": [
      "Epoch 3/10, Training: 100%|█████████████████████████| 4518/4518 [01:45<00:00, 42.68it/s]\n",
      "Epoch 3/10, Validation: 100%|███████████████████████| 9128/9128 [02:04<00:00, 73.17it/s]\n",
      "Epoch 4/10, Validation:   0%|                                  | 0/9128 [00:00<?, ?it/s]"
     ]
    },
    {
     "name": "stdout",
     "output_type": "stream",
     "text": [
      "train loss: 0.49401, validation loss: 0.54231\n"
     ]
    },
    {
     "name": "stderr",
     "output_type": "stream",
     "text": [
      "Epoch 4/10, Training: 100%|█████████████████████████| 4518/4518 [01:45<00:00, 42.86it/s]\n",
      "Epoch 4/10, Validation: 100%|███████████████████████| 9128/9128 [02:04<00:00, 73.26it/s]\n",
      "Epoch 5/10, Validation:   0%|                                  | 0/9128 [00:00<?, ?it/s]"
     ]
    },
    {
     "name": "stdout",
     "output_type": "stream",
     "text": [
      "train loss: 0.49201, validation loss: 0.54102\n"
     ]
    },
    {
     "name": "stderr",
     "output_type": "stream",
     "text": [
      "Epoch 5/10, Training: 100%|█████████████████████████| 4518/4518 [01:44<00:00, 43.12it/s]\n",
      "Epoch 5/10, Validation: 100%|███████████████████████| 9128/9128 [02:03<00:00, 74.02it/s]\n",
      "Epoch 6/10, Validation:   0%|                                  | 0/9128 [00:00<?, ?it/s]"
     ]
    },
    {
     "name": "stdout",
     "output_type": "stream",
     "text": [
      "train loss: 0.48997, validation loss: 0.53969\n"
     ]
    },
    {
     "name": "stderr",
     "output_type": "stream",
     "text": [
      "Epoch 6/10, Training: 100%|█████████████████████████| 4518/4518 [01:43<00:00, 43.44it/s]\n",
      "Epoch 6/10, Validation: 100%|███████████████████████| 9128/9128 [02:03<00:00, 74.03it/s]\n",
      "Epoch 7/10, Validation:   0%|                                  | 0/9128 [00:00<?, ?it/s]"
     ]
    },
    {
     "name": "stdout",
     "output_type": "stream",
     "text": [
      "train loss: 0.48793, validation loss: 0.53802\n"
     ]
    },
    {
     "name": "stderr",
     "output_type": "stream",
     "text": [
      "Epoch 7/10, Training: 100%|█████████████████████████| 4518/4518 [01:44<00:00, 43.18it/s]\n",
      "Epoch 7/10, Validation: 100%|███████████████████████| 9128/9128 [02:04<00:00, 73.34it/s]\n",
      "Epoch 8/10, Validation:   0%|                                  | 0/9128 [00:00<?, ?it/s]"
     ]
    },
    {
     "name": "stdout",
     "output_type": "stream",
     "text": [
      "train loss: 0.48544, validation loss: 0.53575\n"
     ]
    },
    {
     "name": "stderr",
     "output_type": "stream",
     "text": [
      "Epoch 8/10, Training: 100%|█████████████████████████| 4518/4518 [01:44<00:00, 43.43it/s]\n",
      "Epoch 8/10, Validation: 100%|███████████████████████| 9128/9128 [02:03<00:00, 74.01it/s]\n",
      "Epoch 9/10, Validation:   0%|                                  | 0/9128 [00:00<?, ?it/s]"
     ]
    },
    {
     "name": "stdout",
     "output_type": "stream",
     "text": [
      "train loss: 0.48160, validation loss: 0.53381\n"
     ]
    },
    {
     "name": "stderr",
     "output_type": "stream",
     "text": [
      "Epoch 9/10, Training: 100%|█████████████████████████| 4518/4518 [01:43<00:00, 43.81it/s]\n",
      "Epoch 9/10, Validation: 100%|███████████████████████| 9128/9128 [02:01<00:00, 74.98it/s]\n",
      "Epoch 10/10, Validation:   0%|                                 | 0/9128 [00:00<?, ?it/s]"
     ]
    },
    {
     "name": "stdout",
     "output_type": "stream",
     "text": [
      "train loss: 0.47457, validation loss: 0.54283\n"
     ]
    },
    {
     "name": "stderr",
     "output_type": "stream",
     "text": [
      "Epoch 10/10, Training: 100%|████████████████████████| 4518/4518 [01:42<00:00, 43.99it/s]\n",
      "Epoch 10/10, Validation: 100%|██████████████████████| 9128/9128 [02:01<00:00, 74.98it/s]\n"
     ]
    },
    {
     "name": "stdout",
     "output_type": "stream",
     "text": [
      "train loss: 0.46676, validation loss: 0.54178\n"
     ]
    }
   ],
   "source": [
    "# Train\n",
    "\n",
    "model = GRUTagger(EMBEDDING_DIM, HIDDEN_DIM, TAGSET_SIZE).cuda()\n",
    "model.cuda()\n",
    "loss_function = nn.NLLLoss(weight=torch.tensor([1.0,1.0])).cuda()\n",
    "optimizer = optim.Adam(model.parameters(), 0.0001)\n",
    "\n",
    "train_dataloader=data.DataLoader(data.TensorDataset(train_x,train_y),batch_size=TRAIN_BATCH_SIZE, \n",
    "                                   shuffle=False, num_workers=16, pin_memory=True)\n",
    "\n",
    "val_dataloader=data.DataLoader(data.TensorDataset(val_x,val_y),batch_size=VAL_BATCH_SIZE, \n",
    "                                 shuffle=False, num_workers=16, pin_memory=True)\n",
    "\n",
    "test_dataloader=data.DataLoader(data.TensorDataset(test_x,test_y), batch_size=VAL_BATCH_SIZE,\n",
    "                                  shuffle=False, num_workers=16, pin_memory=True)\n",
    "\n",
    "for epoch_idx in range(NUM_EPOCHS): \n",
    "\n",
    "    progress_training_epoch = tqdm(\n",
    "        train_dataloader, \n",
    "        desc=f'Epoch {epoch_idx+1}/{NUM_EPOCHS}, Training',\n",
    "        miniters=1, ncols=88, position=0,\n",
    "        leave=True, total=len(train_dataloader), smoothing=.9)\n",
    "\n",
    "    progress_validation_epoch = tqdm(\n",
    "        val_dataloader, \n",
    "        desc=f'Epoch {epoch_idx+1}/{NUM_EPOCHS}, Validation',\n",
    "        miniters=1, ncols=88, position=0, \n",
    "        leave=True, total=len(val_dataloader), smoothing=.9)\n",
    "\n",
    "    train_loss = 0\n",
    "    train_size = 0\n",
    "    model.train()\n",
    "    for idx, (sentence, tags) in enumerate(progress_training_epoch):\n",
    "        sentence = sentence.cuda()\n",
    "        tags = tags.cuda()\n",
    "        model.zero_grad()\n",
    "        tag_scores = model(sentence)\n",
    "        loss = loss_function(tag_scores, tags)\n",
    "        loss.backward()\n",
    "        optimizer.step()\n",
    "        train_loss += loss * tags.size()[0]\n",
    "        train_size += tags.size()[0]\n",
    "\n",
    "    test_loss = 0\n",
    "    test_size = 0\n",
    "    predict = []\n",
    "    target = []\n",
    "    model.eval()\n",
    "    with torch.no_grad():\n",
    "        for idx, (sentence, tags) in enumerate(progress_validation_epoch):\n",
    "            sentence = sentence.cuda()\n",
    "            tags = tags.cuda()\n",
    "            tag_scores = model(sentence)\n",
    "            loss = loss_function(tag_scores, tags)\n",
    "            predict.append(tag_scores.argmax(dim=1).cpu().numpy())\n",
    "            target.append(tags.cpu().numpy())        \n",
    "            test_loss += loss * tags.size()[0]\n",
    "            test_size += tags.size()[0]\n",
    "    predict = np.concatenate(predict, axis=0)\n",
    "    target = np.concatenate(target, axis=0)\n",
    "\n",
    "    print(f'train loss:{train_loss.item()/train_size: .5f}, '\n",
    "          f'validation loss:{test_loss.item()/test_size: .5f}')"
   ]
  },
  {
   "cell_type": "code",
   "execution_count": 18,
   "metadata": {},
   "outputs": [
    {
     "name": "stderr",
     "output_type": "stream",
     "text": [
      "Epoch 10/10, Test: 100%|█████████████████████████| 45899/45899 [01:27<00:00, 524.95it/s]\n"
     ]
    }
   ],
   "source": [
    "# Test\n",
    "\n",
    "progress_test_epoch = tqdm(\n",
    "    test_dataloader, \n",
    "    desc=f'Epoch {epoch_idx+1}/{NUM_EPOCHS}, Test',\n",
    "    miniters=1, ncols=88, position=0, \n",
    "    leave=True, total=len(test_dataloader), smoothing=.9)\n",
    "\n",
    "predict = []\n",
    "target = []\n",
    "snrss = []\n",
    "model.eval()\n",
    "with torch.no_grad():\n",
    "    for idx, (sentence, tags) in enumerate(progress_test_epoch):\n",
    "        sentence = sentence.cuda()\n",
    "        tags = tags.cuda()\n",
    "        tag_scores = model(sentence)\n",
    "        predict.append(tag_scores.argmax(dim=1).cpu().numpy())\n",
    "        target.append(tags.cpu().numpy())\n",
    "        snrss.append(sentence.cpu().numpy()[:,0])\n",
    "        \n",
    "predict = np.concatenate(predict, axis=0)\n",
    "target = np.concatenate(target, axis=0)\n",
    "snrss = np.concatenate(snrss, axis=0)\n",
    "\n",
    "gru_scr5_res['gru_scr5_prd'] = predict\n",
    "gru_scr5_res['gru_scr5_trg'] = target\n",
    "gru_scr5_res['gru_scr5_snr'] = snrss * scr5_std + scr5_mean"
   ]
  },
  {
   "cell_type": "markdown",
   "metadata": {},
   "source": [
    "# BGRU"
   ]
  },
  {
   "cell_type": "code",
   "execution_count": null,
   "metadata": {
    "scrolled": false
   },
   "outputs": [
    {
     "name": "stderr",
     "output_type": "stream",
     "text": [
      "Epoch 1/10, Training: 100%|█████████████████████████| 4518/4518 [03:09<00:00, 23.86it/s]\n",
      "Epoch 1/10, Validation: 100%|███████████████████████| 9128/9128 [03:38<00:00, 41.73it/s]\n",
      "Epoch 2/10, Validation:   0%|                                  | 0/9128 [00:00<?, ?it/s]"
     ]
    },
    {
     "name": "stdout",
     "output_type": "stream",
     "text": [
      "train loss: 0.47320, validation loss: 0.49137\n"
     ]
    },
    {
     "name": "stderr",
     "output_type": "stream",
     "text": [
      "Epoch 2/10, Training: 100%|█████████████████████████| 4518/4518 [03:08<00:00, 23.92it/s]\n",
      "Epoch 2/10, Validation: 100%|███████████████████████| 9128/9128 [03:38<00:00, 41.74it/s]\n",
      "Epoch 3/10, Validation:   0%|                                  | 0/9128 [00:00<?, ?it/s]"
     ]
    },
    {
     "name": "stdout",
     "output_type": "stream",
     "text": [
      "train loss: 0.42092, validation loss: 0.47439\n"
     ]
    },
    {
     "name": "stderr",
     "output_type": "stream",
     "text": [
      "Epoch 3/10, Training: 100%|█████████████████████████| 4518/4518 [03:11<00:00, 23.63it/s]\n",
      "Epoch 3/10, Validation: 100%|███████████████████████| 9128/9128 [03:41<00:00, 41.22it/s]\n",
      "Epoch 4/10, Validation:   0%|                                  | 0/9128 [00:00<?, ?it/s]"
     ]
    },
    {
     "name": "stdout",
     "output_type": "stream",
     "text": [
      "train loss: 0.41495, validation loss: 0.46993\n"
     ]
    },
    {
     "name": "stderr",
     "output_type": "stream",
     "text": [
      "Epoch 4/10, Training: 100%|█████████████████████████| 4518/4518 [03:08<00:00, 24.00it/s]\n",
      "Epoch 4/10, Validation: 100%|███████████████████████| 9128/9128 [03:38<00:00, 41.71it/s]\n",
      "Epoch 5/10, Validation:   0%|                                  | 0/9128 [00:00<?, ?it/s]"
     ]
    },
    {
     "name": "stdout",
     "output_type": "stream",
     "text": [
      "train loss: 0.41147, validation loss: 0.46790\n"
     ]
    },
    {
     "name": "stderr",
     "output_type": "stream",
     "text": [
      "Epoch 5/10, Training: 100%|█████████████████████████| 4518/4518 [03:09<00:00, 23.86it/s]\n",
      "Epoch 5/10, Validation: 100%|███████████████████████| 9128/9128 [03:39<00:00, 41.55it/s]\n",
      "Epoch 6/10, Validation:   0%|                                  | 0/9128 [00:00<?, ?it/s]"
     ]
    },
    {
     "name": "stdout",
     "output_type": "stream",
     "text": [
      "train loss: 0.40879, validation loss: 0.46697\n"
     ]
    },
    {
     "name": "stderr",
     "output_type": "stream",
     "text": [
      "Epoch 6/10, Training: 100%|█████████████████████████| 4518/4518 [03:11<00:00, 23.64it/s]\n",
      "Epoch 6/10, Validation: 100%|███████████████████████| 9128/9128 [03:41<00:00, 41.26it/s]\n",
      "Epoch 7/10, Validation:   0%|                                  | 0/9128 [00:00<?, ?it/s]"
     ]
    },
    {
     "name": "stdout",
     "output_type": "stream",
     "text": [
      "train loss: 0.40615, validation loss: 0.46880\n"
     ]
    },
    {
     "name": "stderr",
     "output_type": "stream",
     "text": [
      "Epoch 7/10, Training: 100%|█████████████████████████| 4518/4518 [03:18<00:00, 22.77it/s]\n",
      "Epoch 7/10, Validation: 100%|███████████████████████| 9128/9128 [03:49<00:00, 39.83it/s]\n",
      "Epoch 8/10, Validation:   0%|                                  | 0/9128 [00:00<?, ?it/s]"
     ]
    },
    {
     "name": "stdout",
     "output_type": "stream",
     "text": [
      "train loss: 0.40317, validation loss: 0.46803\n"
     ]
    },
    {
     "name": "stderr",
     "output_type": "stream",
     "text": [
      "Epoch 8/10, Training: 100%|█████████████████████████| 4518/4518 [03:07<00:00, 24.05it/s]\n",
      "Epoch 8/10, Validation: 100%|███████████████████████| 9128/9128 [03:41<00:00, 41.23it/s]\n",
      "Epoch 9/10, Validation:   0%|                                  | 0/9128 [00:00<?, ?it/s]"
     ]
    },
    {
     "name": "stdout",
     "output_type": "stream",
     "text": [
      "train loss: 0.39891, validation loss: 0.47492\n"
     ]
    },
    {
     "name": "stderr",
     "output_type": "stream",
     "text": [
      "Epoch 9/10, Training:  82%|████████████████████▌    | 3724/4518 [02:39<00:32, 24.23it/s]"
     ]
    }
   ],
   "source": [
    "# Train\n",
    "\n",
    "model = BGRUTagger(EMBEDDING_DIM, HIDDEN_DIM, TAGSET_SIZE).cuda()\n",
    "model.cuda()\n",
    "loss_function = nn.NLLLoss(weight=torch.tensor([1.0,1.0])).cuda()\n",
    "optimizer = optim.Adam(model.parameters(), 0.0001)\n",
    "\n",
    "train_dataloader=data.DataLoader(data.TensorDataset(train_x,train_y),batch_size=TRAIN_BATCH_SIZE, \n",
    "                                   shuffle=False, num_workers=16, pin_memory=True)\n",
    "\n",
    "val_dataloader=data.DataLoader(data.TensorDataset(val_x,val_y),batch_size=VAL_BATCH_SIZE, \n",
    "                                 shuffle=False, num_workers=16, pin_memory=True)\n",
    "\n",
    "test_dataloader=data.DataLoader(data.TensorDataset(test_x,test_y), batch_size=VAL_BATCH_SIZE,\n",
    "                                  shuffle=False, num_workers=16, pin_memory=True)\n",
    "\n",
    "for epoch_idx in range(NUM_EPOCHS): \n",
    "\n",
    "    progress_training_epoch = tqdm(\n",
    "        train_dataloader, \n",
    "        desc=f'Epoch {epoch_idx+1}/{NUM_EPOCHS}, Training',\n",
    "        miniters=1, ncols=88, position=0,\n",
    "        leave=True, total=len(train_dataloader), smoothing=.9)\n",
    "\n",
    "    progress_validation_epoch = tqdm(\n",
    "        val_dataloader, \n",
    "        desc=f'Epoch {epoch_idx+1}/{NUM_EPOCHS}, Validation',\n",
    "        miniters=1, ncols=88, position=0, \n",
    "        leave=True, total=len(val_dataloader), smoothing=.9)\n",
    "\n",
    "    train_loss = 0\n",
    "    train_size = 0\n",
    "    model.train()\n",
    "    for idx, (sentence, tags) in enumerate(progress_training_epoch):\n",
    "        sentence = sentence.cuda()\n",
    "        tags = tags.cuda()\n",
    "        model.zero_grad()\n",
    "        tag_scores = model(sentence)\n",
    "        loss = loss_function(tag_scores, tags)\n",
    "        loss.backward()\n",
    "        optimizer.step()\n",
    "        train_loss += loss * tags.size()[0]\n",
    "        train_size += tags.size()[0]\n",
    "\n",
    "    test_loss = 0\n",
    "    test_size = 0\n",
    "    predict = []\n",
    "    target = []\n",
    "    model.eval()\n",
    "    with torch.no_grad():\n",
    "        for idx, (sentence, tags) in enumerate(progress_validation_epoch):\n",
    "            sentence = sentence.cuda()\n",
    "            tags = tags.cuda()\n",
    "            tag_scores = model(sentence)\n",
    "            loss = loss_function(tag_scores, tags)\n",
    "            predict.append(tag_scores.argmax(dim=1).cpu().numpy())\n",
    "            target.append(tags.cpu().numpy())        \n",
    "            test_loss += loss * tags.size()[0]\n",
    "            test_size += tags.size()[0]\n",
    "    predict = np.concatenate(predict, axis=0)\n",
    "    target = np.concatenate(target, axis=0)\n",
    "\n",
    "    print(f'train loss:{train_loss.item()/train_size: .5f}, '\n",
    "          f'validation loss:{test_loss.item()/test_size: .5f}')"
   ]
  },
  {
   "cell_type": "code",
   "execution_count": null,
   "metadata": {},
   "outputs": [],
   "source": [
    "# Test\n",
    "\n",
    "progress_test_epoch = tqdm(\n",
    "    test_dataloader, \n",
    "    desc=f'Epoch {epoch_idx+1}/{NUM_EPOCHS}, Test',\n",
    "    miniters=1, ncols=88, position=0, \n",
    "    leave=True, total=len(test_dataloader), smoothing=.9)\n",
    "\n",
    "predict = []\n",
    "target = []\n",
    "snrss = []\n",
    "model.eval()\n",
    "with torch.no_grad():\n",
    "    for idx, (sentence, tags) in enumerate(progress_test_epoch):\n",
    "        sentence = sentence.cuda()\n",
    "        tags = tags.cuda()\n",
    "        tag_scores = model(sentence)\n",
    "        predict.append(tag_scores.argmax(dim=1).cpu().numpy())\n",
    "        target.append(tags.cpu().numpy())\n",
    "        snrss.append(sentence.cpu().numpy()[:,0])\n",
    "        \n",
    "predict = np.concatenate(predict, axis=0)\n",
    "target = np.concatenate(target, axis=0)\n",
    "snrss = np.concatenate(snrss, axis=0)\n",
    "\n",
    "bgru_scr5_res['bgru_scr5_prd'] = predict\n",
    "bgru_scr5_res['bgru_scr5_trg'] = target\n",
    "bgru_scr5_res['bgru_scr5_snr'] = snrss * scr5_std + scr5_mean"
   ]
  },
  {
   "cell_type": "markdown",
   "metadata": {},
   "source": [
    "# BSRU"
   ]
  },
  {
   "cell_type": "code",
   "execution_count": null,
   "metadata": {
    "scrolled": false
   },
   "outputs": [],
   "source": [
    "# Train\n",
    "\n",
    "model = BSRUTagger(EMBEDDING_DIM, HIDDEN_DIM, TAGSET_SIZE).cuda()\n",
    "model.cuda()\n",
    "loss_function = nn.NLLLoss(weight=torch.tensor([1.0,1.0])).cuda()\n",
    "optimizer = optim.Adam(model.parameters(), 0.0001)\n",
    "\n",
    "train_dataloader=data.DataLoader(data.TensorDataset(train_x,train_y),batch_size=TRAIN_BATCH_SIZE, \n",
    "                                   shuffle=False, num_workers=16, pin_memory=True)\n",
    "\n",
    "val_dataloader=data.DataLoader(data.TensorDataset(val_x,val_y),batch_size=VAL_BATCH_SIZE, \n",
    "                                 shuffle=False, num_workers=16, pin_memory=True)\n",
    "\n",
    "test_dataloader=data.DataLoader(data.TensorDataset(test_x,test_y), batch_size=VAL_BATCH_SIZE,\n",
    "                                  shuffle=False, num_workers=16, pin_memory=True)\n",
    "\n",
    "for epoch_idx in range(NUM_EPOCHS): \n",
    "\n",
    "    progress_training_epoch = tqdm(\n",
    "        train_dataloader, \n",
    "        desc=f'Epoch {epoch_idx+1}/{NUM_EPOCHS}, Training',\n",
    "        miniters=1, ncols=88, position=0,\n",
    "        leave=True, total=len(train_dataloader), smoothing=.9)\n",
    "\n",
    "    progress_validation_epoch = tqdm(\n",
    "        val_dataloader, \n",
    "        desc=f'Epoch {epoch_idx+1}/{NUM_EPOCHS}, Validation',\n",
    "        miniters=1, ncols=88, position=0, \n",
    "        leave=True, total=len(val_dataloader), smoothing=.9)\n",
    "\n",
    "    train_loss = 0\n",
    "    train_size = 0\n",
    "    model.train()\n",
    "    for idx, (sentence, tags) in enumerate(progress_training_epoch):\n",
    "        sentence = sentence.cuda()\n",
    "        tags = tags.cuda()\n",
    "        model.zero_grad()\n",
    "        tag_scores = model(sentence)\n",
    "        loss = loss_function(tag_scores, tags)\n",
    "        loss.backward()\n",
    "        optimizer.step()\n",
    "        train_loss += loss * tags.size()[0]\n",
    "        train_size += tags.size()[0]\n",
    "\n",
    "    test_loss = 0\n",
    "    test_size = 0\n",
    "    predict = []\n",
    "    target = []\n",
    "    model.eval()\n",
    "    with torch.no_grad():\n",
    "        for idx, (sentence, tags) in enumerate(progress_validation_epoch):\n",
    "            sentence = sentence.cuda()\n",
    "            tags = tags.cuda()\n",
    "            tag_scores = model(sentence)\n",
    "            loss = loss_function(tag_scores, tags)\n",
    "            predict.append(tag_scores.argmax(dim=1).cpu().numpy())\n",
    "            target.append(tags.cpu().numpy())        \n",
    "            test_loss += loss * tags.size()[0]\n",
    "            test_size += tags.size()[0]\n",
    "    predict = np.concatenate(predict, axis=0)\n",
    "    target = np.concatenate(target, axis=0)\n",
    "\n",
    "    print(f'train loss:{train_loss.item()/train_size: .5f}, '\n",
    "          f'validation loss:{test_loss.item()/test_size: .5f}')"
   ]
  },
  {
   "cell_type": "code",
   "execution_count": null,
   "metadata": {},
   "outputs": [],
   "source": [
    "# Test\n",
    "\n",
    "progress_test_epoch = tqdm(\n",
    "    test_dataloader, \n",
    "    desc=f'Epoch {epoch_idx+1}/{NUM_EPOCHS}, Test',\n",
    "    miniters=1, ncols=88, position=0, \n",
    "    leave=True, total=len(test_dataloader), smoothing=.9)\n",
    "\n",
    "predict = []\n",
    "target = []\n",
    "snrss = []\n",
    "model.eval()\n",
    "with torch.no_grad():\n",
    "    for idx, (sentence, tags) in enumerate(progress_test_epoch):\n",
    "        sentence = sentence.cuda()\n",
    "        tags = tags.cuda()\n",
    "        tag_scores = model(sentence)\n",
    "        predict.append(tag_scores.argmax(dim=1).cpu().numpy())\n",
    "        target.append(tags.cpu().numpy())\n",
    "        snrss.append(sentence.cpu().numpy()[:,0])\n",
    "        \n",
    "predict = np.concatenate(predict, axis=0)\n",
    "target = np.concatenate(target, axis=0)\n",
    "snrss = np.concatenate(snrss, axis=0)\n",
    "\n",
    "bsru_scr5_res['bsru_scr5_prd'] = predict\n",
    "bsru_scr5_res['bsru_scr5_trg'] = target\n",
    "bsru_scr5_res['bsru_scr5_snr'] = snrss * scr5_std + scr5_mean"
   ]
  },
  {
   "cell_type": "markdown",
   "metadata": {},
   "source": [
    "# CBSDNN"
   ]
  },
  {
   "cell_type": "code",
   "execution_count": null,
   "metadata": {
    "scrolled": false
   },
   "outputs": [],
   "source": [
    "# Train\n",
    "model = CBSDNN()\n",
    "model.cuda()\n",
    "\n",
    "\n",
    "loss_function = nn.NLLLoss(weight=torch.tensor([1.0,1.0])).cuda()\n",
    "optimizer = optim.Adam(model.parameters(), lr=0.0001)\n",
    "\n",
    "train_dataloader=data.DataLoader(data.TensorDataset(train_x_cnn,train_y),batch_size=TRAIN_BATCH_SIZE, \n",
    "                                   shuffle=False, num_workers=16, pin_memory=True)\n",
    "\n",
    "val_dataloader=data.DataLoader(data.TensorDataset(val_x_cnn,val_y),batch_size=VAL_BATCH_SIZE, \n",
    "                                 shuffle=False, num_workers=16, pin_memory=True)\n",
    "\n",
    "test_dataloader=data.DataLoader(data.TensorDataset(test_x_cnn,test_y), batch_size=VAL_BATCH_SIZE,\n",
    "                                  shuffle=False, num_workers=16, pin_memory=True)\n",
    "\n",
    "for epoch_idx in range(NUM_EPOCHS):  # again, normally you would NOT do 300 epochs, it is toy data\n",
    "\n",
    "    progress_training_epoch = tqdm(\n",
    "        train_dataloader, \n",
    "        desc=f'Epoch {epoch_idx}/{NUM_EPOCHS}, Training',\n",
    "        miniters=1, ncols=88, position=0,\n",
    "        leave=True, total=len(train_dataloader), smoothing=.9)\n",
    "\n",
    "    progress_validation_epoch = tqdm(\n",
    "        val_dataloader, \n",
    "        desc=f'Epoch {epoch_idx}/{NUM_EPOCHS}, Validation',\n",
    "        miniters=1, ncols=88, position=0, \n",
    "        leave=True, total=len(val_dataloader), smoothing=.9)\n",
    "\n",
    "    train_loss = 0\n",
    "    train_size = 0\n",
    "    model.train()\n",
    "\n",
    "    for idx, (input, target) in enumerate(progress_training_epoch):\n",
    "        input = input.cuda()\n",
    "        target = target.cuda()\n",
    "        model.zero_grad()\n",
    "        predict = model(input)\n",
    "        loss = loss_function(predict, target)\n",
    "        loss.backward()\n",
    "        optimizer.step()\n",
    "        train_loss += loss * target.size()[0]\n",
    "        train_size += target.size()[0]\n",
    "\n",
    "    test_loss = 0\n",
    "    test_size = 0\n",
    "    predict = []\n",
    "    target = []\n",
    "    model.eval()\n",
    "    with torch.no_grad():\n",
    "        for idx, (batch_input, batch_target) in enumerate(progress_validation_epoch):\n",
    "            batch_input = batch_input.cuda()\n",
    "            batch_target = batch_target.cuda()\n",
    "            batch_predict = model(batch_input)\n",
    "            loss = loss_function(batch_predict, batch_target)\n",
    "            predict.append(batch_predict.argmax(dim=1).cpu().numpy())\n",
    "            target.append(batch_target.cpu().numpy())        \n",
    "            test_loss += loss * batch_target.size()[0]\n",
    "            test_size += batch_target.size()[0]\n",
    "    predict = np.concatenate(predict, axis=0)\n",
    "    target = np.concatenate(target, axis=0)\n",
    "  \n",
    "    print(f'train loss:{train_loss.item()/train_size: .5f}, '\n",
    "          f'validation loss:{test_loss.item()/test_size: .5f}')"
   ]
  },
  {
   "cell_type": "code",
   "execution_count": null,
   "metadata": {},
   "outputs": [],
   "source": [
    "# Test\n",
    "\n",
    "progress_test_epoch = tqdm(\n",
    "    test_dataloader, \n",
    "    desc=f'Epoch {epoch_idx+1}/{NUM_EPOCHS}, Test',\n",
    "    miniters=1, ncols=88, position=0, \n",
    "    leave=True, total=len(test_dataloader), smoothing=.9)\n",
    "\n",
    "predict = []\n",
    "target = []\n",
    "snrss = []\n",
    "model.eval()\n",
    "with torch.no_grad():\n",
    "    for idx, (batch_input, batch_target) in enumerate(progress_test_epoch):\n",
    "        batch_input = batch_input.cuda()\n",
    "        batch_target = batch_target.cuda()\n",
    "        batch_predict = model(batch_input)\n",
    "        predict.append(batch_predict.argmax(dim=1).cpu().numpy())\n",
    "        target.append(batch_target.cpu().numpy())        \n",
    "        snrss.append(batch_input.cpu().numpy()[:,0][:,0])\n",
    "predict = np.concatenate(predict, axis=0)\n",
    "target = np.concatenate(target, axis=0)\n",
    "snrss = np.concatenate(snrss, axis=0)\n",
    "\n",
    "cbsdnn_scr5_res['cbsdnn_scr5_prd'] = predict\n",
    "cbsdnn_scr5_res['cbsdnn_scr5_trg'] = target\n",
    "cbsdnn_scr5_res['cbsdnn_scr5_snr'] = snrss * scr5_std + scr5_mean"
   ]
  },
  {
   "cell_type": "markdown",
   "metadata": {},
   "source": [
    "# With Pilot"
   ]
  },
  {
   "cell_type": "markdown",
   "metadata": {},
   "source": [
    "# CNN"
   ]
  },
  {
   "cell_type": "code",
   "execution_count": null,
   "metadata": {
    "scrolled": false
   },
   "outputs": [],
   "source": [
    "# Train\n",
    "\n",
    "model = CNN()\n",
    "model.cuda()\n",
    "\n",
    "loss_function = nn.CrossEntropyLoss(weight=torch.tensor([1.0,1.0])).cuda()\n",
    "optimizer = optim.SGD(model.parameters(), lr = 0.01)\n",
    "\n",
    "train_dataloader=data.DataLoader(data.TensorDataset(train_x_plt_cnn,train_y_plt),batch_size=TRAIN_BATCH_SIZE, \n",
    "                                   shuffle=True, num_workers=16, pin_memory=True)\n",
    "\n",
    "val_dataloader=data.DataLoader(data.TensorDataset(val_x_plt_cnn,val_y_plt),batch_size=VAL_BATCH_SIZE, \n",
    "                                 shuffle=False, num_workers=16, pin_memory=True)\n",
    "\n",
    "test_dataloader=data.DataLoader(data.TensorDataset(test_x_plt_cnn,test_y_plt), batch_size=VAL_BATCH_SIZE,\n",
    "                                  shuffle=False, num_workers=16, pin_memory=True)\n",
    "\n",
    "model.train()\n",
    "start_time = time.time()\n",
    "\n",
    "for epoch_idx in range(NUM_EPOCHS):  # again, normally you would NOT do 300 epochs, it is toy data\n",
    "\n",
    "    progress_training_epoch = tqdm(\n",
    "        train_dataloader, \n",
    "        desc=f'Epoch {epoch_idx + 1}/{NUM_EPOCHS}, Training',\n",
    "        miniters=1, ncols=88, position=0,\n",
    "        leave=True, total=len(train_dataloader), smoothing=.9)\n",
    "\n",
    "    progress_validation_epoch = tqdm(\n",
    "        val_dataloader, \n",
    "        desc=f'Epoch {epoch_idx + 1}/{NUM_EPOCHS}, Validation',\n",
    "        miniters=1, ncols=88, position=0, \n",
    "        leave=True, total=len(val_dataloader), smoothing=.9)\n",
    "\n",
    "    train_loss = 0\n",
    "    train_size = 0\n",
    "    for idx, (input, target) in enumerate(progress_training_epoch):\n",
    "        input = input.cuda()\n",
    "        target = target.cuda()\n",
    "        model.zero_grad()\n",
    "        predict = model(input)\n",
    "        loss = loss_function(predict, target)\n",
    "        loss.backward()\n",
    "        optimizer.step()\n",
    "        train_loss += loss * target.size()[0]\n",
    "        train_size += target.size()[0]\n",
    "\n",
    "    test_loss = 0\n",
    "    test_size = 0\n",
    "    predict = []\n",
    "    target = []\n",
    "    model.eval()\n",
    "    with torch.no_grad():\n",
    "        for idx, (batch_input, batch_target) in enumerate(progress_validation_epoch):\n",
    "            batch_input = batch_input.cuda()\n",
    "            batch_target = batch_target.cuda()\n",
    "            batch_predict = model(batch_input)\n",
    "            loss = loss_function(batch_predict, batch_target)\n",
    "            predict.append(batch_predict.argmax(dim=1).cpu().numpy())\n",
    "            target.append(batch_target.cpu().numpy())        \n",
    "            test_loss += loss * batch_target.size()[0]\n",
    "            test_size += batch_target.size()[0]\n",
    "    predict = np.concatenate(predict, axis=0)\n",
    "    target = np.concatenate(target, axis=0)\n",
    "   \n",
    "    print(f'train loss:{train_loss.item()/train_size: .5f}, '\n",
    "          f'validation loss:{test_loss.item()/test_size: .5f}')\n",
    "    print('Time elapsed: %.2f min' % ((time.time() - start_time)/60))\n",
    "\n",
    "print('Total Training Time: %.2f min' % ((time.time() - start_time)/60))"
   ]
  },
  {
   "cell_type": "code",
   "execution_count": null,
   "metadata": {},
   "outputs": [],
   "source": [
    "# Test\n",
    "\n",
    "progress_test_epoch = tqdm(\n",
    "    test_dataloader, \n",
    "    desc=f'Epoch {epoch_idx + 1}/{NUM_EPOCHS}, Test',\n",
    "    miniters=1, ncols=88, position=0, \n",
    "    leave=True, total=len(test_dataloader), smoothing=.9)\n",
    "\n",
    "predict = [] # Predicted Label\n",
    "target = [] # Target Lable\n",
    "snrss = [] # SNR (Calculated from Noise Variance)\n",
    "model.eval()\n",
    "with torch.no_grad():\n",
    "    for idx, (batch_input, batch_target) in enumerate(progress_test_epoch):\n",
    "        batch_input = batch_input.cuda()\n",
    "        batch_target = batch_target.cuda()\n",
    "        batch_predict = model(batch_input)\n",
    "        predict.append(batch_predict.argmax(dim=1).cpu().numpy())\n",
    "        target.append(batch_target.cpu().numpy())        \n",
    "        snrss.append(batch_input.cpu().numpy()[:,0][:,0])\n",
    "predict = np.concatenate(predict, axis=0)\n",
    "target = np.concatenate(target, axis=0)\n",
    "snrss = np.concatenate(snrss, axis=0)\n",
    "\n",
    "cnn_scr5_res['cnn_scr5_plt_prd'] = predict\n",
    "cnn_scr5_res['cnn_scr5_plt_trg'] = target\n",
    "cnn_scr5_res['cnn_scr5_plt_snr'] = snrss * scr5_std + scr5_mean"
   ]
  },
  {
   "cell_type": "markdown",
   "metadata": {},
   "source": [
    "# GRU"
   ]
  },
  {
   "cell_type": "code",
   "execution_count": null,
   "metadata": {
    "scrolled": false
   },
   "outputs": [],
   "source": [
    "# Train\n",
    "\n",
    "model = GRUTagger(EMBEDDING_DIM, HIDDEN_DIM, TAGSET_SIZE).cuda()\n",
    "model.cuda()\n",
    "loss_function = nn.NLLLoss(weight=torch.tensor([1.0,1.0])).cuda()\n",
    "optimizer = optim.Adam(model.parameters(), 0.0001)\n",
    "\n",
    "train_dataloader=data.DataLoader(data.TensorDataset(train_x_plt,train_y_plt),batch_size=TRAIN_BATCH_SIZE, \n",
    "                                   shuffle=False, num_workers=16, pin_memory=True)\n",
    "\n",
    "val_dataloader=data.DataLoader(data.TensorDataset(val_x_plt,val_y_plt),batch_size=VAL_BATCH_SIZE, \n",
    "                                 shuffle=False, num_workers=16, pin_memory=True)\n",
    "\n",
    "test_dataloader=data.DataLoader(data.TensorDataset(test_x_plt,test_y_plt), batch_size=VAL_BATCH_SIZE,\n",
    "                                  shuffle=False, num_workers=16, pin_memory=True)\n",
    "\n",
    "for epoch_idx in range(NUM_EPOCHS): \n",
    "\n",
    "    progress_training_epoch = tqdm(\n",
    "        train_dataloader, \n",
    "        desc=f'Epoch {epoch_idx+1}/{NUM_EPOCHS}, Training',\n",
    "        miniters=1, ncols=88, position=0,\n",
    "        leave=True, total=len(train_dataloader), smoothing=.9)\n",
    "\n",
    "    progress_validation_epoch = tqdm(\n",
    "        val_dataloader, \n",
    "        desc=f'Epoch {epoch_idx+1}/{NUM_EPOCHS}, Validation',\n",
    "        miniters=1, ncols=88, position=0, \n",
    "        leave=True, total=len(val_dataloader), smoothing=.9)\n",
    "\n",
    "    train_loss = 0\n",
    "    train_size = 0\n",
    "    model.train()\n",
    "    for idx, (sentence, tags) in enumerate(progress_training_epoch):\n",
    "        sentence = sentence.cuda()\n",
    "        tags = tags.cuda()\n",
    "        model.zero_grad()\n",
    "        tag_scores = model(sentence)\n",
    "        loss = loss_function(tag_scores, tags)\n",
    "        loss.backward()\n",
    "        optimizer.step()\n",
    "        train_loss += loss * tags.size()[0]\n",
    "        train_size += tags.size()[0]\n",
    "\n",
    "    test_loss = 0\n",
    "    test_size = 0\n",
    "    predict = []\n",
    "    target = []\n",
    "    model.eval()\n",
    "    with torch.no_grad():\n",
    "        for idx, (sentence, tags) in enumerate(progress_validation_epoch):\n",
    "            sentence = sentence.cuda()\n",
    "            tags = tags.cuda()\n",
    "            tag_scores = model(sentence)\n",
    "            loss = loss_function(tag_scores, tags)\n",
    "            predict.append(tag_scores.argmax(dim=1).cpu().numpy())\n",
    "            target.append(tags.cpu().numpy())        \n",
    "            test_loss += loss * tags.size()[0]\n",
    "            test_size += tags.size()[0]\n",
    "    predict = np.concatenate(predict, axis=0)\n",
    "    target = np.concatenate(target, axis=0)\n",
    "\n",
    "    print(f'train loss:{train_loss.item()/train_size: .5f}, '\n",
    "          f'validation loss:{test_loss.item()/test_size: .5f}')"
   ]
  },
  {
   "cell_type": "code",
   "execution_count": null,
   "metadata": {},
   "outputs": [],
   "source": [
    "# Test\n",
    "\n",
    "progress_test_epoch = tqdm(\n",
    "    test_dataloader, \n",
    "    desc=f'Epoch {epoch_idx+1}/{NUM_EPOCHS}, Test',\n",
    "    miniters=1, ncols=88, position=0, \n",
    "    leave=True, total=len(test_dataloader), smoothing=.9)\n",
    "\n",
    "predict = []\n",
    "target = []\n",
    "snrss = []\n",
    "model.eval()\n",
    "with torch.no_grad():\n",
    "    for idx, (sentence, tags) in enumerate(progress_test_epoch):\n",
    "        sentence = sentence.cuda()\n",
    "        tags = tags.cuda()\n",
    "        tag_scores = model(sentence)\n",
    "        predict.append(tag_scores.argmax(dim=1).cpu().numpy())\n",
    "        target.append(tags.cpu().numpy())\n",
    "        snrss.append(sentence.cpu().numpy()[:,0])\n",
    "        \n",
    "predict = np.concatenate(predict, axis=0)\n",
    "target = np.concatenate(target, axis=0)\n",
    "snrss = np.concatenate(snrss, axis=0)\n",
    "\n",
    "gru_scr5_res['gru_scr5_plt_prd'] = predict\n",
    "gru_scr5_res['gru_scr5_plt_trg'] = target\n",
    "gru_scr5_res['gru_scr5_plt_snr'] = snrss * scr5_std + scr5_mean"
   ]
  },
  {
   "cell_type": "markdown",
   "metadata": {},
   "source": [
    "# BGRU"
   ]
  },
  {
   "cell_type": "code",
   "execution_count": null,
   "metadata": {
    "scrolled": false
   },
   "outputs": [],
   "source": [
    "# Train\n",
    "\n",
    "model = BGRUTagger(EMBEDDING_DIM, HIDDEN_DIM, TAGSET_SIZE).cuda()\n",
    "model.cuda()\n",
    "loss_function = nn.NLLLoss(weight=torch.tensor([1.0,1.0])).cuda()\n",
    "optimizer = optim.Adam(model.parameters(), 0.0001)\n",
    "\n",
    "train_dataloader=data.DataLoader(data.TensorDataset(train_x_plt,train_y_plt),batch_size=TRAIN_BATCH_SIZE, \n",
    "                                   shuffle=False, num_workers=16, pin_memory=True)\n",
    "\n",
    "val_dataloader=data.DataLoader(data.TensorDataset(val_x_plt,val_y_plt),batch_size=VAL_BATCH_SIZE, \n",
    "                                 shuffle=False, num_workers=16, pin_memory=True)\n",
    "\n",
    "test_dataloader=data.DataLoader(data.TensorDataset(test_x_plt,test_y_plt), batch_size=VAL_BATCH_SIZE,\n",
    "                                  shuffle=False, num_workers=16, pin_memory=True)\n",
    "\n",
    "for epoch_idx in range(NUM_EPOCHS): \n",
    "\n",
    "    progress_training_epoch = tqdm(\n",
    "        train_dataloader, \n",
    "        desc=f'Epoch {epoch_idx+1}/{NUM_EPOCHS}, Training',\n",
    "        miniters=1, ncols=88, position=0,\n",
    "        leave=True, total=len(train_dataloader), smoothing=.9)\n",
    "\n",
    "    progress_validation_epoch = tqdm(\n",
    "        val_dataloader, \n",
    "        desc=f'Epoch {epoch_idx+1}/{NUM_EPOCHS}, Validation',\n",
    "        miniters=1, ncols=88, position=0, \n",
    "        leave=True, total=len(val_dataloader), smoothing=.9)\n",
    "\n",
    "    train_loss = 0\n",
    "    train_size = 0\n",
    "    model.train()\n",
    "    for idx, (sentence, tags) in enumerate(progress_training_epoch):\n",
    "        sentence = sentence.cuda()\n",
    "        tags = tags.cuda()\n",
    "        model.zero_grad()\n",
    "        tag_scores = model(sentence)\n",
    "        loss = loss_function(tag_scores, tags)\n",
    "        loss.backward()\n",
    "        optimizer.step()\n",
    "        train_loss += loss * tags.size()[0]\n",
    "        train_size += tags.size()[0]\n",
    "\n",
    "    test_loss = 0\n",
    "    test_size = 0\n",
    "    predict = []\n",
    "    target = []\n",
    "    model.eval()\n",
    "    with torch.no_grad():\n",
    "        for idx, (sentence, tags) in enumerate(progress_validation_epoch):\n",
    "            sentence = sentence.cuda()\n",
    "            tags = tags.cuda()\n",
    "            tag_scores = model(sentence)\n",
    "            loss = loss_function(tag_scores, tags)\n",
    "            predict.append(tag_scores.argmax(dim=1).cpu().numpy())\n",
    "            target.append(tags.cpu().numpy())        \n",
    "            test_loss += loss * tags.size()[0]\n",
    "            test_size += tags.size()[0]\n",
    "    predict = np.concatenate(predict, axis=0)\n",
    "    target = np.concatenate(target, axis=0)\n",
    "\n",
    "    print(f'train loss:{train_loss.item()/train_size: .5f}, '\n",
    "          f'validation loss:{test_loss.item()/test_size: .5f}')"
   ]
  },
  {
   "cell_type": "code",
   "execution_count": null,
   "metadata": {},
   "outputs": [],
   "source": [
    "# Test\n",
    "\n",
    "progress_test_epoch = tqdm(\n",
    "    test_dataloader, \n",
    "    desc=f'Epoch {epoch_idx+1}/{NUM_EPOCHS}, Test',\n",
    "    miniters=1, ncols=88, position=0, \n",
    "    leave=True, total=len(test_dataloader), smoothing=.9)\n",
    "\n",
    "predict = []\n",
    "target = []\n",
    "snrss = []\n",
    "model.eval()\n",
    "with torch.no_grad():\n",
    "    for idx, (sentence, tags) in enumerate(progress_test_epoch):\n",
    "        sentence = sentence.cuda()\n",
    "        tags = tags.cuda()\n",
    "        tag_scores = model(sentence)\n",
    "        predict.append(tag_scores.argmax(dim=1).cpu().numpy())\n",
    "        target.append(tags.cpu().numpy())\n",
    "        snrss.append(sentence.cpu().numpy()[:,0])\n",
    "        \n",
    "predict = np.concatenate(predict, axis=0)\n",
    "target = np.concatenate(target, axis=0)\n",
    "snrss = np.concatenate(snrss, axis=0)\n",
    "\n",
    "bgru_scr5_res['bgru_scr5_plt_prd'] = predict\n",
    "bgru_scr5_res['bgru_scr5_plt_trg'] = target\n",
    "bgru_scr5_res['bgru_scr5_plt_snr'] = snrss * scr5_std + scr5_mean"
   ]
  },
  {
   "cell_type": "markdown",
   "metadata": {},
   "source": [
    "# BSRU"
   ]
  },
  {
   "cell_type": "code",
   "execution_count": null,
   "metadata": {
    "scrolled": false
   },
   "outputs": [],
   "source": [
    "# Train\n",
    "\n",
    "model = BSRUTagger(EMBEDDING_DIM, HIDDEN_DIM, TAGSET_SIZE).cuda()\n",
    "model.cuda()\n",
    "loss_function = nn.NLLLoss(weight=torch.tensor([1.0,1.0])).cuda()\n",
    "optimizer = optim.Adam(model.parameters(), 0.0001)\n",
    "\n",
    "train_dataloader=data.DataLoader(data.TensorDataset(train_x_plt,train_y_plt),batch_size=TRAIN_BATCH_SIZE, \n",
    "                                   shuffle=False, num_workers=16, pin_memory=True)\n",
    "\n",
    "val_dataloader=data.DataLoader(data.TensorDataset(val_x_plt,val_y_plt),batch_size=VAL_BATCH_SIZE, \n",
    "                                 shuffle=False, num_workers=16, pin_memory=True)\n",
    "\n",
    "test_dataloader=data.DataLoader(data.TensorDataset(test_x_plt,test_y_plt), batch_size=VAL_BATCH_SIZE,\n",
    "                                  shuffle=False, num_workers=16, pin_memory=True)\n",
    "\n",
    "for epoch_idx in range(NUM_EPOCHS): \n",
    "\n",
    "    progress_training_epoch = tqdm(\n",
    "        train_dataloader, \n",
    "        desc=f'Epoch {epoch_idx+1}/{NUM_EPOCHS}, Training',\n",
    "        miniters=1, ncols=88, position=0,\n",
    "        leave=True, total=len(train_dataloader), smoothing=.9)\n",
    "\n",
    "    progress_validation_epoch = tqdm(\n",
    "        val_dataloader, \n",
    "        desc=f'Epoch {epoch_idx+1}/{NUM_EPOCHS}, Validation',\n",
    "        miniters=1, ncols=88, position=0, \n",
    "        leave=True, total=len(val_dataloader), smoothing=.9)\n",
    "\n",
    "    train_loss = 0\n",
    "    train_size = 0\n",
    "    model.train()\n",
    "    for idx, (sentence, tags) in enumerate(progress_training_epoch):\n",
    "        sentence = sentence.cuda()\n",
    "        tags = tags.cuda()\n",
    "        model.zero_grad()\n",
    "        tag_scores = model(sentence)\n",
    "        loss = loss_function(tag_scores, tags)\n",
    "        loss.backward()\n",
    "        optimizer.step()\n",
    "        train_loss += loss * tags.size()[0]\n",
    "        train_size += tags.size()[0]\n",
    "\n",
    "    test_loss = 0\n",
    "    test_size = 0\n",
    "    predict = []\n",
    "    target = []\n",
    "    model.eval()\n",
    "    with torch.no_grad():\n",
    "        for idx, (sentence, tags) in enumerate(progress_validation_epoch):\n",
    "            sentence = sentence.cuda()\n",
    "            tags = tags.cuda()\n",
    "            tag_scores = model(sentence)\n",
    "            loss = loss_function(tag_scores, tags)\n",
    "            predict.append(tag_scores.argmax(dim=1).cpu().numpy())\n",
    "            target.append(tags.cpu().numpy())        \n",
    "            test_loss += loss * tags.size()[0]\n",
    "            test_size += tags.size()[0]\n",
    "    predict = np.concatenate(predict, axis=0)\n",
    "    target = np.concatenate(target, axis=0)\n",
    "\n",
    "    print(f'train loss:{train_loss.item()/train_size: .5f}, '\n",
    "          f'validation loss:{test_loss.item()/test_size: .5f}')"
   ]
  },
  {
   "cell_type": "code",
   "execution_count": null,
   "metadata": {},
   "outputs": [],
   "source": [
    "# Test\n",
    "\n",
    "progress_test_epoch = tqdm(\n",
    "    test_dataloader, \n",
    "    desc=f'Epoch {epoch_idx+1}/{NUM_EPOCHS}, Test',\n",
    "    miniters=1, ncols=88, position=0, \n",
    "    leave=True, total=len(test_dataloader), smoothing=.9)\n",
    "\n",
    "predict = []\n",
    "target = []\n",
    "snrss = []\n",
    "model.eval()\n",
    "with torch.no_grad():\n",
    "    for idx, (sentence, tags) in enumerate(progress_test_epoch):\n",
    "        sentence = sentence.cuda()\n",
    "        tags = tags.cuda()\n",
    "        tag_scores = model(sentence)\n",
    "        predict.append(tag_scores.argmax(dim=1).cpu().numpy())\n",
    "        target.append(tags.cpu().numpy())\n",
    "        snrss.append(sentence.cpu().numpy()[:,0])\n",
    "        \n",
    "predict = np.concatenate(predict, axis=0)\n",
    "target = np.concatenate(target, axis=0)\n",
    "snrss = np.concatenate(snrss, axis=0)\n",
    "\n",
    "bsru_scr5_res['bsru_scr5_plt_prd'] = predict\n",
    "bsru_scr5_res['bsru_scr5_plt_trg'] = target\n",
    "bsru_scr5_res['bsru_scr5_plt_snr'] = snrss * scr5_std + scr5_mean"
   ]
  },
  {
   "cell_type": "markdown",
   "metadata": {},
   "source": [
    "# CBSDNN"
   ]
  },
  {
   "cell_type": "code",
   "execution_count": null,
   "metadata": {
    "scrolled": false
   },
   "outputs": [],
   "source": [
    "# Train\n",
    "model = CBSDNN()\n",
    "model.cuda()\n",
    "\n",
    "\n",
    "loss_function = nn.NLLLoss(weight=torch.tensor([1.0,1.0])).cuda()\n",
    "optimizer = optim.Adam(model.parameters(), lr=0.0001)\n",
    "\n",
    "train_dataloader=data.DataLoader(data.TensorDataset(train_x_plt_cnn,train_y_plt),batch_size=TRAIN_BATCH_SIZE, \n",
    "                                   shuffle=False, num_workers=16, pin_memory=True)\n",
    "\n",
    "val_dataloader=data.DataLoader(data.TensorDataset(val_x_plt_cnn,val_y_plt),batch_size=VAL_BATCH_SIZE, \n",
    "                                 shuffle=False, num_workers=16, pin_memory=True)\n",
    "\n",
    "test_dataloader=data.DataLoader(data.TensorDataset(test_x_plt_cnn,test_y_plt), batch_size=VAL_BATCH_SIZE,\n",
    "                                  shuffle=False, num_workers=16, pin_memory=True)\n",
    "\n",
    "start_time = time.time()\n",
    "\n",
    "for epoch_idx in range(NUM_EPOCHS):  # again, normally you would NOT do 300 epochs, it is toy data\n",
    "\n",
    "    progress_training_epoch = tqdm(\n",
    "        train_dataloader, \n",
    "        desc=f'Epoch {epoch_idx}/{NUM_EPOCHS}, Training',\n",
    "        miniters=1, ncols=88, position=0,\n",
    "        leave=True, total=len(train_dataloader), smoothing=.9)\n",
    "\n",
    "    progress_validation_epoch = tqdm(\n",
    "        val_dataloader, \n",
    "        desc=f'Epoch {epoch_idx}/{NUM_EPOCHS}, Validation',\n",
    "        miniters=1, ncols=88, position=0, \n",
    "        leave=True, total=len(val_dataloader), smoothing=.9)\n",
    "\n",
    "    train_loss = 0\n",
    "    train_size = 0\n",
    "    model.train()\n",
    "\n",
    "    for idx, (input, target) in enumerate(progress_training_epoch):\n",
    "        input = input.cuda()\n",
    "        target = target.cuda()\n",
    "        model.zero_grad()\n",
    "        predict = model(input)\n",
    "        loss = loss_function(predict, target)\n",
    "        loss.backward()\n",
    "        optimizer.step()\n",
    "        train_loss += loss * target.size()[0]\n",
    "        train_size += target.size()[0]\n",
    "\n",
    "    test_loss = 0\n",
    "    test_size = 0\n",
    "    predict = []\n",
    "    target = []\n",
    "    model.eval()\n",
    "    with torch.no_grad():\n",
    "        for idx, (batch_input, batch_target) in enumerate(progress_validation_epoch):\n",
    "            batch_input = batch_input.cuda()\n",
    "            batch_target = batch_target.cuda()\n",
    "            batch_predict = model(batch_input)\n",
    "            loss = loss_function(batch_predict, batch_target)\n",
    "            predict.append(batch_predict.argmax(dim=1).cpu().numpy())\n",
    "            target.append(batch_target.cpu().numpy())        \n",
    "            test_loss += loss * batch_target.size()[0]\n",
    "            test_size += batch_target.size()[0]\n",
    "    predict = np.concatenate(predict, axis=0)\n",
    "    target = np.concatenate(target, axis=0)\n",
    "  \n",
    "    print(f'train loss:{train_loss.item()/train_size: .5f}, '\n",
    "          f'validation loss:{test_loss.item()/test_size: .5f}')"
   ]
  },
  {
   "cell_type": "code",
   "execution_count": null,
   "metadata": {},
   "outputs": [],
   "source": [
    "# Test\n",
    "\n",
    "progress_test_epoch = tqdm(\n",
    "    test_dataloader, \n",
    "    desc=f'Epoch {epoch_idx+1}/{NUM_EPOCHS}, Test',\n",
    "    miniters=1, ncols=88, position=0, \n",
    "    leave=True, total=len(test_dataloader), smoothing=.9)\n",
    "\n",
    "predict = []\n",
    "target = []\n",
    "snrss = []\n",
    "model.eval()\n",
    "with torch.no_grad():\n",
    "    for idx, (batch_input, batch_target) in enumerate(progress_test_epoch):\n",
    "        batch_input = batch_input.cuda()\n",
    "        batch_target = batch_target.cuda()\n",
    "        batch_predict = model(batch_input)\n",
    "        predict.append(batch_predict.argmax(dim=1).cpu().numpy())\n",
    "        target.append(batch_target.cpu().numpy())        \n",
    "        snrss.append(batch_input.cpu().numpy()[:,0][:,0])\n",
    "predict = np.concatenate(predict, axis=0)\n",
    "target = np.concatenate(target, axis=0)\n",
    "snrss = np.concatenate(snrss, axis=0)\n",
    "\n",
    "cbsdnn_scr5_res['cbsdnn_scr5_plt_prd'] = predict\n",
    "cbsdnn_scr5_res['cbsdnn_scr5_plt_trg'] = target\n",
    "cbsdnn_scr5_res['cbsdnn_scr5_plt_snr'] = snrss * scr5_std + scr5_mean"
   ]
  },
  {
   "cell_type": "markdown",
   "metadata": {},
   "source": [
    "# Save Output Files"
   ]
  },
  {
   "cell_type": "code",
   "execution_count": null,
   "metadata": {},
   "outputs": [],
   "source": [
    "# CNN\n",
    "outfile = os.path.join(os.getcwd(), 'cnn_scr5_res.pickle')\n",
    "if os.path.exists(outfile):\n",
    "        os.replace(outfile, outfile + \".old\")\n",
    "        \n",
    "with open(outfile, 'wb') as file:\n",
    "    pickle.dump(cnn_scr5_res, file)\n",
    "    \n",
    "# GRU\n",
    "outfile = os.path.join(os.getcwd(), 'gru_scr5_res.pickle')\n",
    "if os.path.exists(outfile):\n",
    "        os.replace(outfile, outfile + \".old\")\n",
    "        \n",
    "with open(outfile, 'wb') as file:\n",
    "    pickle.dump(gru_scr5_res, file)\n",
    "    \n",
    "# BGRU\n",
    "outfile = os.path.join(os.getcwd(), 'bgru_scr5_res.pickle')\n",
    "if os.path.exists(outfile):\n",
    "        os.replace(outfile, outfile + \".old\")\n",
    "        \n",
    "with open(outfile, 'wb') as file:\n",
    "    pickle.dump(bgru_scr5_res, file)\n",
    "    \n",
    "# BSRU\n",
    "outfile = os.path.join(os.getcwd(), 'bsru_scr5_res.pickle')\n",
    "if os.path.exists(outfile):\n",
    "        os.replace(outfile, outfile + \".old\")\n",
    "        \n",
    "with open(outfile, 'wb') as file:\n",
    "    pickle.dump(bsru_scr5_res, file)\n",
    "\n",
    "# CBSDNN\n",
    "outfile = os.path.join(os.getcwd(), 'cbsdnn_scr5_res.pickle')\n",
    "if os.path.exists(outfile):\n",
    "        os.replace(outfile, outfile + \".old\")\n",
    "        \n",
    "with open(outfile, 'wb') as file:\n",
    "    pickle.dump(cbsdnn_scr5_res, file)"
   ]
  },
  {
   "cell_type": "code",
   "execution_count": null,
   "metadata": {},
   "outputs": [],
   "source": []
  }
 ],
 "metadata": {
  "kernelspec": {
   "display_name": "Python 3",
   "language": "python",
   "name": "python3"
  },
  "language_info": {
   "codemirror_mode": {
    "name": "ipython",
    "version": 3
   },
   "file_extension": ".py",
   "mimetype": "text/x-python",
   "name": "python",
   "nbconvert_exporter": "python",
   "pygments_lexer": "ipython3",
   "version": "3.7.4"
  }
 },
 "nbformat": 4,
 "nbformat_minor": 2
}
