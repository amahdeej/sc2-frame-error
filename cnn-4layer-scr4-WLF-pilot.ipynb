{
 "cells": [
  {
   "cell_type": "markdown",
   "metadata": {},
   "source": [
    "# Libraries"
   ]
  },
  {
   "cell_type": "code",
   "execution_count": 1,
   "metadata": {},
   "outputs": [],
   "source": [
    "import sqlite3\n",
    "import numpy as np\n",
    "from collections import OrderedDict, namedtuple\n",
    "from distutils.spawn import find_executable\n",
    "import matplotlib.pyplot as plt\n",
    "\n",
    "import sys\n",
    "import subprocess\n",
    "import pathlib\n",
    "import tempfile\n",
    "import importlib\n",
    "import time\n",
    "import random\n",
    "import pickle\n",
    "\n",
    "import math\n",
    "\n",
    "from configparser import ConfigParser\n",
    "\n",
    "# from google.protobuf.json_format import MessageToDict"
   ]
  },
  {
   "cell_type": "code",
   "execution_count": 2,
   "metadata": {},
   "outputs": [],
   "source": [
    "# DEVICE = 0\n",
    "\n",
    "import os\n",
    "import time\n",
    "import pickle\n",
    "import numpy as np\n",
    "from tqdm import tqdm\n",
    "import matplotlib.pyplot as plt\n",
    "import seaborn as sn\n",
    "import pandas as pd\n",
    "\n",
    "import torch\n",
    "torch.backends.cudnn.benchmark = True\n",
    "import torch.optim as optim\n",
    "import torch.nn as nn\n",
    "import torch.nn.functional as F\n",
    "from torch.autograd import Variable\n",
    "from torch.utils import data\n",
    "\n",
    "# torch.cuda.set_device(DEVICE)\n",
    "torch.cuda.empty_cache() \n",
    "torch.backends.cudnn.benchmark=True"
   ]
  },
  {
   "cell_type": "code",
   "execution_count": 3,
   "metadata": {},
   "outputs": [],
   "source": [
    "np.random.seed(0)\n",
    "torch.manual_seed(0)\n",
    "\n",
    "import os\n",
    "os.environ['CUDA_VISIBLE_DEVICES']='1'"
   ]
  },
  {
   "cell_type": "markdown",
   "metadata": {},
   "source": [
    "# load the dataset"
   ]
  },
  {
   "cell_type": "code",
   "execution_count": 4,
   "metadata": {},
   "outputs": [],
   "source": [
    "with open('scrimmage4_link_dataset.pickle', 'rb') as file:\n",
    "    link_dataset = pickle.load(file)"
   ]
  },
  {
   "cell_type": "code",
   "execution_count": 5,
   "metadata": {},
   "outputs": [],
   "source": [
    "train_x_npn = []\n",
    "train_y_npn = []\n",
    "test_x_npn = []\n",
    "test_y_npn = []\n",
    "\n",
    "for i in range(len(link_dataset)):\n",
    "    datalen = len(link_dataset[i][1])\n",
    "    trainlen = round(datalen*2/3)\n",
    "    testlen = datalen -trainlen        \n",
    "    train_x_npn.append(link_dataset[i][0][0:trainlen].numpy())    \n",
    "    train_y_npn.append(link_dataset[i][1][0:trainlen].numpy())\n",
    "    test_x_npn.append(link_dataset[i][0][trainlen:trainlen+testlen].numpy())\n",
    "    test_y_npn.append(link_dataset[i][1][trainlen:trainlen+testlen].numpy())"
   ]
  },
  {
   "cell_type": "code",
   "execution_count": 6,
   "metadata": {},
   "outputs": [],
   "source": [
    "train_x_np = np.concatenate(train_x_npn)\n",
    "train_y_np = np.concatenate(train_y_npn)\n",
    "test_x_np = np.concatenate(test_x_npn)\n",
    "test_y_np = np.concatenate(test_y_npn)"
   ]
  },
  {
   "cell_type": "code",
   "execution_count": 7,
   "metadata": {},
   "outputs": [],
   "source": [
    "train_x = torch.from_numpy(train_x_np)\n",
    "train_x = train_x.view(-1,1,20)\n",
    "test_x = torch.from_numpy(test_x_np)\n",
    "test_x = test_x.view(-1,1,20)\n",
    "train_y = torch.from_numpy(train_y_np)\n",
    "test_y = torch.from_numpy(test_y_np)"
   ]
  },
  {
   "cell_type": "code",
   "execution_count": 8,
   "metadata": {},
   "outputs": [
    {
     "data": {
      "text/plain": [
       "torch.Size([2174082, 1, 20])"
      ]
     },
     "execution_count": 8,
     "metadata": {},
     "output_type": "execute_result"
    }
   ],
   "source": [
    "test_x.size()"
   ]
  },
  {
   "cell_type": "code",
   "execution_count": 9,
   "metadata": {},
   "outputs": [],
   "source": [
    "class CNN(nn.Module):\n",
    "\n",
    "    def __init__(self):\n",
    "        super(CNN, self).__init__()\n",
    "        self.conv1 = nn.Conv1d(in_channels=1, out_channels=16, kernel_size=3, padding=1)\n",
    "        self.norm1 = nn.BatchNorm1d(num_features=16)\n",
    "        \n",
    "        self.conv2 = nn.Conv1d(in_channels=16, out_channels=16, kernel_size=3, padding=1)\n",
    "        self.norm2 = nn.BatchNorm1d(num_features=16)\n",
    "        \n",
    "        self.conv3 = nn.Conv1d(in_channels=16, out_channels=16, kernel_size=3, padding=1)\n",
    "        self.norm3 = nn.BatchNorm1d(num_features=16)\n",
    "        \n",
    "        self.conv4 = nn.Conv1d(in_channels=16, out_channels=16, kernel_size=3, padding=1)\n",
    "        self.norm4 = nn.BatchNorm1d(num_features=16)\n",
    "        \n",
    "        self.dropout = nn.Dropout(p=0.5)\n",
    "        self.linear = nn.Linear(in_features=16*20, out_features=2)\n",
    "\n",
    "    def forward(self, input):\n",
    "        output = self.conv1(input)\n",
    "        output = self.norm1(output)\n",
    "        output = F.relu(output)\n",
    "        \n",
    "        output = self.conv2(output)\n",
    "        output = self.norm2(output)\n",
    "        output = F.relu(output)\n",
    "        \n",
    "        output = self.conv3(output)\n",
    "        output = self.norm3(output)\n",
    "        output = F.relu(output)\n",
    "        \n",
    "        output = self.conv4(output)\n",
    "        output = self.norm4(output)\n",
    "        output = F.relu(output)\n",
    "        \n",
    "        output = output.view(-1,16*20)\n",
    "        output = self.dropout(output)\n",
    "        output = self.linear(output)\n",
    "        \n",
    "        return output"
   ]
  },
  {
   "cell_type": "markdown",
   "metadata": {},
   "source": [
    "# Train Model"
   ]
  },
  {
   "cell_type": "code",
   "execution_count": 10,
   "metadata": {
    "scrolled": false
   },
   "outputs": [
    {
     "name": "stderr",
     "output_type": "stream",
     "text": [
      "Epoch 0/10, Training: 100%|█████████████████████████| 4247/4247 [02:13<00:00, 31.80it/s]\n",
      "Epoch 0/10, Validation: 100%|███████████████████████| 2124/2124 [03:17<00:00, 10.78it/s]\n",
      "Epoch 1/10, Validation:   0%|                                  | 0/2124 [00:00<?, ?it/s]"
     ]
    },
    {
     "name": "stdout",
     "output_type": "stream",
     "text": [
      "train loss: 0.58359, test loss: 0.59531\n"
     ]
    },
    {
     "name": "stderr",
     "output_type": "stream",
     "text": [
      "Epoch 1/10, Training: 100%|█████████████████████████| 4247/4247 [02:18<00:00, 30.56it/s]\n",
      "Epoch 1/10, Validation: 100%|███████████████████████| 2124/2124 [03:14<00:00, 10.95it/s]\n",
      "Epoch 2/10, Validation:   0%|                                  | 0/2124 [00:00<?, ?it/s]"
     ]
    },
    {
     "name": "stdout",
     "output_type": "stream",
     "text": [
      "train loss: 0.53767, test loss: 0.63804\n"
     ]
    },
    {
     "name": "stderr",
     "output_type": "stream",
     "text": [
      "Epoch 2/10, Training: 100%|█████████████████████████| 4247/4247 [02:17<00:00, 30.96it/s]\n",
      "Epoch 2/10, Validation: 100%|███████████████████████| 2124/2124 [03:20<00:00, 10.61it/s]\n",
      "Epoch 3/10, Validation:   0%|                                  | 0/2124 [00:00<?, ?it/s]"
     ]
    },
    {
     "name": "stdout",
     "output_type": "stream",
     "text": [
      "train loss: 0.52705, test loss: 0.65061\n"
     ]
    },
    {
     "name": "stderr",
     "output_type": "stream",
     "text": [
      "Epoch 3/10, Training: 100%|█████████████████████████| 4247/4247 [02:12<00:00, 32.05it/s]\n",
      "Epoch 3/10, Validation: 100%|███████████████████████| 2124/2124 [03:08<00:00, 11.25it/s]\n",
      "Epoch 4/10, Validation:   0%|                                  | 0/2124 [00:00<?, ?it/s]"
     ]
    },
    {
     "name": "stdout",
     "output_type": "stream",
     "text": [
      "train loss: 0.52305, test loss: 0.66826\n"
     ]
    },
    {
     "name": "stderr",
     "output_type": "stream",
     "text": [
      "Epoch 4/10, Training: 100%|█████████████████████████| 4247/4247 [02:18<00:00, 30.57it/s]\n",
      "Epoch 4/10, Validation: 100%|███████████████████████| 2124/2124 [03:20<00:00, 10.57it/s]\n",
      "Epoch 5/10, Validation:   0%|                                  | 0/2124 [00:00<?, ?it/s]"
     ]
    },
    {
     "name": "stdout",
     "output_type": "stream",
     "text": [
      "train loss: 0.52070, test loss: 0.66507\n"
     ]
    },
    {
     "name": "stderr",
     "output_type": "stream",
     "text": [
      "Epoch 5/10, Training: 100%|█████████████████████████| 4247/4247 [02:05<00:00, 33.80it/s]\n",
      "Epoch 5/10, Validation: 100%|███████████████████████| 2124/2124 [03:07<00:00, 11.35it/s]\n",
      "Epoch 6/10, Validation:   0%|                                  | 0/2124 [00:00<?, ?it/s]"
     ]
    },
    {
     "name": "stdout",
     "output_type": "stream",
     "text": [
      "train loss: 0.51875, test loss: 0.68037\n"
     ]
    },
    {
     "name": "stderr",
     "output_type": "stream",
     "text": [
      "Epoch 6/10, Training: 100%|█████████████████████████| 4247/4247 [02:18<00:00, 30.62it/s]\n",
      "Epoch 6/10, Validation: 100%|███████████████████████| 2124/2124 [03:18<00:00, 10.68it/s]\n",
      "Epoch 7/10, Validation:   0%|                                  | 0/2124 [00:00<?, ?it/s]"
     ]
    },
    {
     "name": "stdout",
     "output_type": "stream",
     "text": [
      "train loss: 0.51732, test loss: 0.67788\n"
     ]
    },
    {
     "name": "stderr",
     "output_type": "stream",
     "text": [
      "Epoch 7/10, Training: 100%|█████████████████████████| 4247/4247 [02:07<00:00, 33.19it/s]\n",
      "Epoch 7/10, Validation: 100%|███████████████████████| 2124/2124 [03:10<00:00, 11.12it/s]\n",
      "Epoch 8/10, Validation:   0%|                                  | 0/2124 [00:00<?, ?it/s]"
     ]
    },
    {
     "name": "stdout",
     "output_type": "stream",
     "text": [
      "train loss: 0.51596, test loss: 0.67704\n"
     ]
    },
    {
     "name": "stderr",
     "output_type": "stream",
     "text": [
      "Epoch 8/10, Training: 100%|█████████████████████████| 4247/4247 [02:19<00:00, 30.45it/s]\n",
      "Epoch 8/10, Validation: 100%|███████████████████████| 2124/2124 [03:14<00:00, 10.92it/s]\n",
      "Epoch 9/10, Validation:   0%|                                  | 0/2124 [00:00<?, ?it/s]"
     ]
    },
    {
     "name": "stdout",
     "output_type": "stream",
     "text": [
      "train loss: 0.51492, test loss: 0.67261\n"
     ]
    },
    {
     "name": "stderr",
     "output_type": "stream",
     "text": [
      "Epoch 9/10, Training: 100%|█████████████████████████| 4247/4247 [02:13<00:00, 31.70it/s]\n",
      "Epoch 9/10, Validation: 100%|███████████████████████| 2124/2124 [03:16<00:00, 10.78it/s]"
     ]
    },
    {
     "name": "stdout",
     "output_type": "stream",
     "text": [
      "train loss: 0.51421, test loss: 0.68155\n"
     ]
    },
    {
     "name": "stderr",
     "output_type": "stream",
     "text": [
      "\n"
     ]
    }
   ],
   "source": [
    "NUM_EPOCHS = 10\n",
    "BATCH_SIZE = 1024\n",
    "\n",
    "model = CNN()\n",
    "model.cuda()\n",
    "\n",
    "loss_function = nn.CrossEntropyLoss(weight=torch.tensor([2.0,1.0])).cuda()\n",
    "optimizer = optim.Adam(model.parameters(), 0.001)\n",
    "# optimizer = optim.SGD(model.parameters(), lr=0.001)\n",
    "\n",
    "train_dataloader = data.DataLoader(\n",
    "    dataset=data.TensorDataset(train_x,train_y), \n",
    "    batch_size=BATCH_SIZE, shuffle=True, num_workers=16, pin_memory=True)\n",
    "\n",
    "test_dataloader = data.DataLoader(\n",
    "    data.TensorDataset(test_x,test_y), \n",
    "    batch_size=BATCH_SIZE, shuffle=False, num_workers=16, pin_memory=True)\n",
    "\n",
    "model.train()\n",
    "for epoch_idx in range(NUM_EPOCHS):  # again, normally you would NOT do 300 epochs, it is toy data\n",
    "\n",
    "    progress_training_epoch = tqdm(\n",
    "        train_dataloader, \n",
    "        desc=f'Epoch {epoch_idx}/{NUM_EPOCHS}, Training',\n",
    "        miniters=1, ncols=88, position=0,\n",
    "        leave=True, total=len(train_dataloader), smoothing=.9)\n",
    "\n",
    "    progress_validation_epoch = tqdm(\n",
    "        test_dataloader, \n",
    "        desc=f'Epoch {epoch_idx}/{NUM_EPOCHS}, Validation',\n",
    "        miniters=1, ncols=88, position=0, \n",
    "        leave=True, total=len(test_dataloader), smoothing=.9)\n",
    "\n",
    "    train_loss = 0\n",
    "    train_size = 0\n",
    "    for idx, (input, target) in enumerate(progress_training_epoch):\n",
    "        input = input.cuda()\n",
    "        target = target.cuda()\n",
    "        model.zero_grad()\n",
    "        predict = model(input)\n",
    "        loss = loss_function(predict, target)\n",
    "        loss.backward()\n",
    "        optimizer.step()\n",
    "        train_loss += loss * target.size()[0]\n",
    "        train_size += target.size()[0]\n",
    "\n",
    "    test_loss = 0\n",
    "    test_size = 0\n",
    "    predict = []\n",
    "    target = []\n",
    "    model.eval()\n",
    "    with torch.no_grad():\n",
    "        for idx, (batch_input, batch_target) in enumerate(progress_validation_epoch):\n",
    "            batch_input = batch_input.cuda()\n",
    "            batch_target = batch_target.cuda()\n",
    "            batch_predict = model(batch_input)\n",
    "            loss = loss_function(batch_predict, batch_target)\n",
    "            predict.append(batch_predict.argmax(dim=1).cpu().numpy())\n",
    "            target.append(batch_target.cpu().numpy())        \n",
    "            test_loss += loss * batch_target.size()[0]\n",
    "            test_size += batch_target.size()[0]\n",
    "    predict = np.concatenate(predict, axis=0)\n",
    "    target = np.concatenate(target, axis=0)\n",
    "\n",
    "#     print(f'train loss:{train_loss.item()/train_size: .5f}, '\n",
    "#           f'test loss:{test_loss.item()/test_size: .5f}, '\n",
    "#           f'overall accuracy:{(predict == target).sum() / target.size}, '\n",
    "#           f'positive accuracy:{predict[target==1].sum() / target.sum()}, '\n",
    "#           f'negative accuracy:{(np.logical_not(target).sum() - predict[np.logical_not(target)].sum()) / np.logical_not(target).sum()}')\n",
    "    \n",
    "    print(f'train loss:{train_loss.item()/train_size: .5f}, '\n",
    "          f'test loss:{test_loss.item()/test_size: .5f}')"
   ]
  },
  {
   "cell_type": "code",
   "execution_count": 11,
   "metadata": {},
   "outputs": [
    {
     "name": "stdout",
     "output_type": "stream",
     "text": [
      "True Positive:795754, True Negative:581573, False Positive:385426, False Negative:411329\n"
     ]
    }
   ],
   "source": [
    "test_dataloader = data.DataLoader(\n",
    "    data.TensorDataset(test_x,test_y), \n",
    "    batch_size=BATCH_SIZE, shuffle=False, num_workers=16, pin_memory=True)\n",
    "\n",
    "predict = []\n",
    "target = []\n",
    "model.eval()\n",
    "with torch.no_grad():\n",
    "    for idx, (batch_input, batch_target) in enumerate(progress_validation_epoch):\n",
    "        batch_input = batch_input.cuda()\n",
    "        batch_target = batch_target.cuda()\n",
    "        batch_predict = model(batch_input)\n",
    "        predict.append(batch_predict.argmax(dim=1).cpu().numpy())\n",
    "        target.append(batch_target.cpu().numpy())        \n",
    "predict = np.concatenate(predict, axis=0)\n",
    "target = np.concatenate(target, axis=0)\n",
    "tp = predict[target==1].sum()\n",
    "tn = (target==0).sum() - predict[target==0].sum()\n",
    "fp = predict[target==0].sum()\n",
    "fn = (target==1).sum() - predict[target==1].sum()\n",
    "print(f'True Positive:{predict[target==1].sum()}, '\n",
    "      f'True Negative:{(target==0).sum() - predict[target==0].sum()}, '\n",
    "      f'False Positive:{predict[target==0].sum()}, '\n",
    "      f'False Negative:{(target==1).sum() - predict[target==1].sum()}')\n"
   ]
  },
  {
   "cell_type": "code",
   "execution_count": 12,
   "metadata": {},
   "outputs": [
    {
     "name": "stdout",
     "output_type": "stream",
     "text": [
      "Accuracy:0.633521182733678, Positive Accuracy:0.6736941025076618, Negative Accuracy:0.5857305151968674, Weighted Accuracy:0.6297123088522646\n"
     ]
    }
   ],
   "source": [
    "accr = (tp+tn)/(tp+tn+fp+fn)\n",
    "posaccr = tp/(tp+fp)\n",
    "negaccr = tn/(tn+fn)\n",
    "print(f'Accuracy:{accr}, '\n",
    "      f'Positive Accuracy:{posaccr}, '\n",
    "      f'Negative Accuracy:{negaccr}, '\n",
    "      f'Weighted Accuracy:{0.5*(posaccr+negaccr)}')"
   ]
  },
  {
   "cell_type": "markdown",
   "metadata": {},
   "source": [
    "# Train Model 1 Epoch"
   ]
  },
  {
   "cell_type": "code",
   "execution_count": 13,
   "metadata": {},
   "outputs": [
    {
     "name": "stderr",
     "output_type": "stream",
     "text": [
      "Epoch 0/1, Training: 100%|██████████████████████████| 4247/4247 [02:09<00:00, 32.82it/s]\n",
      "Epoch 0/1, Validation: 100%|████████████████████████| 2124/2124 [03:09<00:00, 11.23it/s]\n"
     ]
    },
    {
     "name": "stdout",
     "output_type": "stream",
     "text": [
      "train loss: 0.58524, test loss: 0.58460\n"
     ]
    }
   ],
   "source": [
    "NUM_EPOCHS = 1\n",
    "BATCH_SIZE = 1024\n",
    "\n",
    "model = CNN()\n",
    "model.cuda()\n",
    "\n",
    "loss_function = nn.CrossEntropyLoss(weight=torch.tensor([2.0,1.0])).cuda()\n",
    "optimizer = optim.Adam(model.parameters(), 0.001)\n",
    "# optimizer = optim.SGD(model.parameters(), lr=0.001)\n",
    "\n",
    "train_dataloader = data.DataLoader(\n",
    "    dataset=data.TensorDataset(train_x,train_y), \n",
    "    batch_size=BATCH_SIZE, shuffle=True, num_workers=16, pin_memory=True)\n",
    "\n",
    "test_dataloader = data.DataLoader(\n",
    "    data.TensorDataset(test_x,test_y), \n",
    "    batch_size=BATCH_SIZE, shuffle=False, num_workers=16, pin_memory=True)\n",
    "\n",
    "model.train()\n",
    "for epoch_idx in range(NUM_EPOCHS):  # again, normally you would NOT do 300 epochs, it is toy data\n",
    "\n",
    "    progress_training_epoch = tqdm(\n",
    "        train_dataloader, \n",
    "        desc=f'Epoch {epoch_idx}/{NUM_EPOCHS}, Training',\n",
    "        miniters=1, ncols=88, position=0,\n",
    "        leave=True, total=len(train_dataloader), smoothing=.9)\n",
    "\n",
    "    progress_validation_epoch = tqdm(\n",
    "        test_dataloader, \n",
    "        desc=f'Epoch {epoch_idx}/{NUM_EPOCHS}, Validation',\n",
    "        miniters=1, ncols=88, position=0, \n",
    "        leave=True, total=len(test_dataloader), smoothing=.9)\n",
    "\n",
    "    train_loss = 0\n",
    "    train_size = 0\n",
    "    for idx, (input, target) in enumerate(progress_training_epoch):\n",
    "        input = input.cuda()\n",
    "        target = target.cuda()\n",
    "        model.zero_grad()\n",
    "        predict = model(input)\n",
    "        loss = loss_function(predict, target)\n",
    "        loss.backward()\n",
    "        optimizer.step()\n",
    "        train_loss += loss * target.size()[0]\n",
    "        train_size += target.size()[0]\n",
    "\n",
    "    test_loss = 0\n",
    "    test_size = 0\n",
    "    predict = []\n",
    "    target = []\n",
    "    model.eval()\n",
    "    with torch.no_grad():\n",
    "        for idx, (batch_input, batch_target) in enumerate(progress_validation_epoch):\n",
    "            batch_input = batch_input.cuda()\n",
    "            batch_target = batch_target.cuda()\n",
    "            batch_predict = model(batch_input)\n",
    "            loss = loss_function(batch_predict, batch_target)\n",
    "            predict.append(batch_predict.argmax(dim=1).cpu().numpy())\n",
    "            target.append(batch_target.cpu().numpy())        \n",
    "            test_loss += loss * batch_target.size()[0]\n",
    "            test_size += batch_target.size()[0]\n",
    "    predict = np.concatenate(predict, axis=0)\n",
    "    target = np.concatenate(target, axis=0)\n",
    "\n",
    "#     print(f'train loss:{train_loss.item()/train_size: .5f}, '\n",
    "#           f'test loss:{test_loss.item()/test_size: .5f}, '\n",
    "#           f'overall accuracy:{(predict == target).sum() / target.size}, '\n",
    "#           f'positive accuracy:{predict[target==1].sum() / target.sum()}, '\n",
    "#           f'negative accuracy:{(np.logical_not(target).sum() - predict[np.logical_not(target)].sum()) / np.logical_not(target).sum()}')\n",
    "    \n",
    "    print(f'train loss:{train_loss.item()/train_size: .5f}, '\n",
    "          f'test loss:{test_loss.item()/test_size: .5f}')"
   ]
  },
  {
   "cell_type": "markdown",
   "metadata": {},
   "source": [
    "# Test"
   ]
  },
  {
   "cell_type": "code",
   "execution_count": 14,
   "metadata": {},
   "outputs": [
    {
     "name": "stdout",
     "output_type": "stream",
     "text": [
      "True Positive:940057, True Negative:618523, False Positive:348476, False Negative:267026\n"
     ]
    }
   ],
   "source": [
    "test_dataloader = data.DataLoader(\n",
    "    data.TensorDataset(test_x,test_y), \n",
    "    batch_size=BATCH_SIZE, shuffle=False, num_workers=16, pin_memory=True)\n",
    "\n",
    "predict = []\n",
    "target = []\n",
    "model.eval()\n",
    "with torch.no_grad():\n",
    "    for idx, (batch_input, batch_target) in enumerate(progress_validation_epoch):\n",
    "        batch_input = batch_input.cuda()\n",
    "        batch_target = batch_target.cuda()\n",
    "        batch_predict = model(batch_input)\n",
    "        predict.append(batch_predict.argmax(dim=1).cpu().numpy())\n",
    "        target.append(batch_target.cpu().numpy())        \n",
    "predict = np.concatenate(predict, axis=0)\n",
    "target = np.concatenate(target, axis=0)\n",
    "tp = predict[target==1].sum()\n",
    "tn = (target==0).sum() - predict[target==0].sum()\n",
    "fp = predict[target==0].sum()\n",
    "fn = (target==1).sum() - predict[target==1].sum()\n",
    "print(f'True Positive:{predict[target==1].sum()}, '\n",
    "      f'True Negative:{(target==0).sum() - predict[target==0].sum()}, '\n",
    "      f'False Positive:{predict[target==0].sum()}, '\n",
    "      f'False Negative:{(target==1).sum() - predict[target==1].sum()}')"
   ]
  },
  {
   "cell_type": "code",
   "execution_count": 15,
   "metadata": {},
   "outputs": [
    {
     "name": "stdout",
     "output_type": "stream",
     "text": [
      "Accuracy:0.7168910832250117, Positive Accuracy:0.7295560144753762, Negative Accuracy:0.6984627615185608, Weighted Accuracy:0.7140093879969684\n"
     ]
    }
   ],
   "source": [
    "accr = (tp+tn)/(tp+tn+fp+fn)\n",
    "posaccr = tp/(tp+fp)\n",
    "negaccr = tn/(tn+fn)\n",
    "print(f'Accuracy:{accr}, '\n",
    "      f'Positive Accuracy:{posaccr}, '\n",
    "      f'Negative Accuracy:{negaccr}, '\n",
    "      f'Weighted Accuracy:{0.5*(posaccr+negaccr)}')"
   ]
  },
  {
   "cell_type": "markdown",
   "metadata": {},
   "source": [
    "# Bagging 9"
   ]
  },
  {
   "cell_type": "code",
   "execution_count": 16,
   "metadata": {},
   "outputs": [],
   "source": [
    "with open('scrimmage4_link_dataset.pickle', 'rb') as file:\n",
    "    link_dataset = pickle.load(file)"
   ]
  },
  {
   "cell_type": "code",
   "execution_count": 17,
   "metadata": {},
   "outputs": [
    {
     "name": "stderr",
     "output_type": "stream",
     "text": [
      "Epoch 0/1, Training: 100%|██████████████████████████| 4473/4473 [02:28<00:00, 30.09it/s]\n",
      "Epoch 0/1, Validation: 100%|████████████████████████| 1999/1999 [03:04<00:00, 10.82it/s]\n"
     ]
    },
    {
     "name": "stdout",
     "output_type": "stream",
     "text": [
      "train loss: 0.52020, test loss: 0.65089\n"
     ]
    },
    {
     "name": "stderr",
     "output_type": "stream",
     "text": [
      "Epoch 0/1, Training: 100%|██████████████████████████| 4415/4415 [02:18<00:00, 31.79it/s]\n",
      "Epoch 0/1, Validation: 100%|████████████████████████| 1999/1999 [03:00<00:00, 11.09it/s]\n"
     ]
    },
    {
     "name": "stdout",
     "output_type": "stream",
     "text": [
      "train loss: 0.53239, test loss: 0.67075\n"
     ]
    },
    {
     "name": "stderr",
     "output_type": "stream",
     "text": [
      "Epoch 0/1, Training: 100%|██████████████████████████| 4283/4283 [02:21<00:00, 30.25it/s]\n",
      "Epoch 0/1, Validation: 100%|████████████████████████| 1999/1999 [02:57<00:00, 11.24it/s]\n"
     ]
    },
    {
     "name": "stdout",
     "output_type": "stream",
     "text": [
      "train loss: 0.53174, test loss: 0.66762\n"
     ]
    },
    {
     "name": "stderr",
     "output_type": "stream",
     "text": [
      "Epoch 0/1, Training: 100%|██████████████████████████| 3929/3929 [02:03<00:00, 31.87it/s]\n",
      "Epoch 0/1, Validation: 100%|████████████████████████| 1999/1999 [02:44<00:00, 12.18it/s]\n"
     ]
    },
    {
     "name": "stdout",
     "output_type": "stream",
     "text": [
      "train loss: 0.51559, test loss: 0.64762\n"
     ]
    },
    {
     "name": "stderr",
     "output_type": "stream",
     "text": [
      "Epoch 0/1, Training: 100%|██████████████████████████| 4327/4327 [02:22<00:00, 30.29it/s]\n",
      "Epoch 0/1, Validation: 100%|████████████████████████| 1999/1999 [02:58<00:00, 11.17it/s]\n"
     ]
    },
    {
     "name": "stdout",
     "output_type": "stream",
     "text": [
      "train loss: 0.53158, test loss: 0.65797\n"
     ]
    },
    {
     "name": "stderr",
     "output_type": "stream",
     "text": [
      "Epoch 0/1, Training: 100%|██████████████████████████| 4549/4549 [02:23<00:00, 31.77it/s]\n",
      "Epoch 0/1, Validation: 100%|████████████████████████| 1999/1999 [03:04<00:00, 10.86it/s]\n"
     ]
    },
    {
     "name": "stdout",
     "output_type": "stream",
     "text": [
      "train loss: 0.52033, test loss: 0.64240\n"
     ]
    },
    {
     "name": "stderr",
     "output_type": "stream",
     "text": [
      "Epoch 0/1, Training: 100%|██████████████████████████| 4049/4049 [02:13<00:00, 30.37it/s]\n",
      "Epoch 0/1, Validation: 100%|████████████████████████| 1999/1999 [02:49<00:00, 11.79it/s]\n"
     ]
    },
    {
     "name": "stdout",
     "output_type": "stream",
     "text": [
      "train loss: 0.52361, test loss: 0.66737\n"
     ]
    },
    {
     "name": "stderr",
     "output_type": "stream",
     "text": [
      "Epoch 0/1, Training: 100%|██████████████████████████| 4322/4322 [02:09<00:00, 33.46it/s]\n",
      "Epoch 0/1, Validation: 100%|████████████████████████| 1999/1999 [02:50<00:00, 11.75it/s]\n"
     ]
    },
    {
     "name": "stdout",
     "output_type": "stream",
     "text": [
      "train loss: 0.52897, test loss: 0.65170\n"
     ]
    },
    {
     "name": "stderr",
     "output_type": "stream",
     "text": [
      "Epoch 0/1, Training: 100%|██████████████████████████| 4186/4186 [02:20<00:00, 29.73it/s]\n",
      "Epoch 0/1, Validation: 100%|████████████████████████| 1999/1999 [03:02<00:00, 10.97it/s]"
     ]
    },
    {
     "name": "stdout",
     "output_type": "stream",
     "text": [
      "train loss: 0.53520, test loss: 0.65645\n"
     ]
    },
    {
     "name": "stderr",
     "output_type": "stream",
     "text": [
      "\n"
     ]
    }
   ],
   "source": [
    "NUM_EPOCHS = 1\n",
    "model_list = []\n",
    "BATCH_SIZE = 1024\n",
    "\n",
    "for model_idx in range(9):\n",
    "    \n",
    "    train_data = []\n",
    "    for link_idx in np.random.choice(200,size=200,replace=True):\n",
    "        train_data.append(link_dataset[link_idx])\n",
    "    test_data = link_dataset[200:]\n",
    "    \n",
    "    train_x = torch.cat(tuple(link[0] for link in train_data),dim=0)\n",
    "    train_y = torch.cat(tuple(link[1] for link in train_data),dim=0)\n",
    "    test_x = torch.cat(tuple(link[0] for link in test_data),dim=0)\n",
    "    test_y = torch.cat(tuple(link[1] for link in test_data),dim=0)\n",
    "    \n",
    "    train_x = train_x.view(-1,1,20)\n",
    "    test_x = test_x.view(-1,1,20)\n",
    "\n",
    "    model = CNN()\n",
    "    model.cuda()\n",
    "\n",
    "    loss_function = nn.CrossEntropyLoss(weight=torch.tensor([2.0,1.0])).cuda()\n",
    "    optimizer = optim.Adam(model.parameters(), 0.001)\n",
    "\n",
    "    train_dataloader = data.DataLoader(\n",
    "        dataset=data.TensorDataset(train_x,train_y), \n",
    "        batch_size=BATCH_SIZE, shuffle=True, num_workers=16, pin_memory=True)\n",
    "\n",
    "    test_dataloader = data.DataLoader(\n",
    "        data.TensorDataset(test_x,test_y), \n",
    "        batch_size=BATCH_SIZE, shuffle=False, num_workers=16, pin_memory=True)\n",
    "\n",
    "    model.train()\n",
    "    for epoch_idx in range(NUM_EPOCHS):  # again, normally you would NOT do 300 epochs, it is toy data\n",
    "\n",
    "        progress_training_epoch = tqdm(\n",
    "            train_dataloader, \n",
    "            desc=f'Epoch {epoch_idx}/{NUM_EPOCHS}, Training',\n",
    "            miniters=1, ncols=88, position=0,\n",
    "            leave=True, total=len(train_dataloader), smoothing=.9)\n",
    "\n",
    "        progress_validation_epoch = tqdm(\n",
    "            test_dataloader, \n",
    "            desc=f'Epoch {epoch_idx}/{NUM_EPOCHS}, Validation',\n",
    "            miniters=1, ncols=88, position=0, \n",
    "            leave=True, total=len(test_dataloader), smoothing=.9)\n",
    "\n",
    "        train_loss = 0\n",
    "        train_size = 0\n",
    "        for idx, (input, target) in enumerate(progress_training_epoch):\n",
    "            input = input.cuda()\n",
    "            target = target.cuda()\n",
    "            model.zero_grad()\n",
    "            predict = model(input)\n",
    "            loss = loss_function(predict, target)\n",
    "            loss.backward()\n",
    "            optimizer.step()\n",
    "            train_loss += loss * target.size()[0]\n",
    "            train_size += target.size()[0]\n",
    "\n",
    "        test_loss = 0\n",
    "        test_size = 0\n",
    "        model.eval()\n",
    "        with torch.no_grad():\n",
    "            for idx, (batch_input, batch_target) in enumerate(progress_validation_epoch):\n",
    "                batch_input = batch_input.cuda()\n",
    "                batch_target = batch_target.cuda()\n",
    "                batch_predict = model(batch_input)\n",
    "                loss = loss_function(batch_predict, batch_target)\n",
    "                test_loss += loss * batch_target.size()[0]\n",
    "                test_size += batch_target.size()[0]\n",
    "\n",
    "        print(f'train loss:{train_loss.item()/train_size: .5f}, '\n",
    "              f'test loss:{test_loss.item()/test_size: .5f}')\n",
    "        \n",
    "    model_list.append(model) "
   ]
  },
  {
   "cell_type": "markdown",
   "metadata": {},
   "source": [
    "# Test"
   ]
  },
  {
   "cell_type": "code",
   "execution_count": 18,
   "metadata": {},
   "outputs": [
    {
     "name": "stderr",
     "output_type": "stream",
     "text": [
      "Epoch 0/1, Validation: 100%|████████████████████████| 1999/1999 [00:38<00:00, 51.35it/s]\n",
      "Epoch 0/1, Validation: 100%|████████████████████████| 1999/1999 [00:36<00:00, 54.04it/s]\n",
      "Epoch 0/1, Validation: 100%|████████████████████████| 1999/1999 [00:37<00:00, 53.59it/s]\n",
      "Epoch 0/1, Validation: 100%|████████████████████████| 1999/1999 [00:36<00:00, 54.75it/s]\n",
      "Epoch 0/1, Validation: 100%|████████████████████████| 1999/1999 [00:36<00:00, 54.04it/s]\n",
      "Epoch 0/1, Validation: 100%|████████████████████████| 1999/1999 [00:42<00:00, 47.45it/s]\n",
      "Epoch 0/1, Validation: 100%|████████████████████████| 1999/1999 [00:42<00:00, 47.50it/s]\n",
      "Epoch 0/1, Validation: 100%|████████████████████████| 1999/1999 [00:41<00:00, 47.64it/s]\n",
      "Epoch 0/1, Validation: 100%|████████████████████████| 1999/1999 [00:37<00:00, 53.60it/s]\n"
     ]
    },
    {
     "name": "stdout",
     "output_type": "stream",
     "text": [
      "True Positive:898469, True Negative:428595, False Positive:262823, False Negative:457043\n"
     ]
    }
   ],
   "source": [
    "predict_agg = []\n",
    "target_agg = []\n",
    "\n",
    "for model in model_list:\n",
    "    \n",
    "    test_dataloader = data.DataLoader(\n",
    "        data.TensorDataset(test_x,test_y), \n",
    "        batch_size=BATCH_SIZE, shuffle=False, num_workers=16, pin_memory=True)\n",
    "\n",
    "    progress_validation_epoch = tqdm(\n",
    "        test_dataloader, \n",
    "        desc=f'Epoch {epoch_idx}/{NUM_EPOCHS}, Validation',\n",
    "        miniters=1, ncols=88, position=0, \n",
    "        leave=True, total=len(test_dataloader), smoothing=.9)\n",
    "    \n",
    "    predict = []\n",
    "    target = []\n",
    "    model.eval()\n",
    "    with torch.no_grad():\n",
    "        for idx, (batch_input, batch_target) in enumerate(progress_validation_epoch):\n",
    "            batch_input = batch_input.cuda()\n",
    "            batch_target = batch_target.cuda()\n",
    "            batch_predict = model(batch_input)\n",
    "            predict.append(batch_predict.argmax(dim=1).cpu().numpy())\n",
    "            target.append(batch_target.cpu().numpy())        \n",
    "    predict = np.concatenate(predict, axis=0)\n",
    "    target = np.concatenate(target, axis=0)\n",
    "    \n",
    "    predict_agg.append(predict)\n",
    "    target_agg.append(target)\n",
    "\n",
    "predict = (np.array(predict_agg).sum(axis=0) > 4.5)\n",
    "target = target_agg[0]\n",
    "tp = predict[target==1].sum()\n",
    "tn = (target==0).sum() - predict[target==0].sum()\n",
    "fp = predict[target==0].sum()\n",
    "fn = (target==1).sum() - predict[target==1].sum()\n",
    "print(f'True Positive:{predict[target==1].sum()}, '\n",
    "      f'True Negative:{(target==0).sum() - predict[target==0].sum()}, '\n",
    "      f'False Positive:{predict[target==0].sum()}, '\n",
    "      f'False Negative:{(target==1).sum() - predict[target==1].sum()}')"
   ]
  },
  {
   "cell_type": "code",
   "execution_count": 19,
   "metadata": {},
   "outputs": [
    {
     "name": "stdout",
     "output_type": "stream",
     "text": [
      "Accuracy:0.6483191902019121, Positive Accuracy:0.773680521350358, Negative Accuracy:0.48393926186545744, Weighted Accuracy:0.6288098916079077\n"
     ]
    }
   ],
   "source": [
    "accr = (tp+tn)/(tp+tn+fp+fn)\n",
    "posaccr = tp/(tp+fp)\n",
    "negaccr = tn/(tn+fn)\n",
    "print(f'Accuracy:{accr}, '\n",
    "      f'Positive Accuracy:{posaccr}, '\n",
    "      f'Negative Accuracy:{negaccr}, '\n",
    "      f'Weighted Accuracy:{0.5*(posaccr+negaccr)}')"
   ]
  }
 ],
 "metadata": {
  "kernelspec": {
   "display_name": "Python 3",
   "language": "python",
   "name": "python3"
  },
  "language_info": {
   "codemirror_mode": {
    "name": "ipython",
    "version": 3
   },
   "file_extension": ".py",
   "mimetype": "text/x-python",
   "name": "python",
   "nbconvert_exporter": "python",
   "pygments_lexer": "ipython3",
   "version": "3.7.5"
  }
 },
 "nbformat": 4,
 "nbformat_minor": 2
}
