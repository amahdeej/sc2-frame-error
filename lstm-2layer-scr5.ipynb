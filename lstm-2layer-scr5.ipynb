{
 "cells": [
  {
   "cell_type": "markdown",
   "metadata": {},
   "source": [
    "# Libraries"
   ]
  },
  {
   "cell_type": "code",
   "execution_count": 1,
   "metadata": {},
   "outputs": [],
   "source": [
    "import sqlite3\n",
    "import numpy as np\n",
    "from collections import OrderedDict, namedtuple\n",
    "from distutils.spawn import find_executable\n",
    "import matplotlib.pyplot as plt\n",
    "\n",
    "import sys\n",
    "import subprocess\n",
    "import pathlib\n",
    "import tempfile\n",
    "import importlib\n",
    "import os\n",
    "import time\n",
    "import random\n",
    "import pickle\n",
    "\n",
    "import math\n",
    "\n",
    "from configparser import ConfigParser\n",
    "\n",
    "# from google.protobuf.json_format import MessageToDict"
   ]
  },
  {
   "cell_type": "code",
   "execution_count": 2,
   "metadata": {},
   "outputs": [],
   "source": [
    "# DEVICE = 0\n",
    "\n",
    "import os\n",
    "import time\n",
    "import pickle\n",
    "import numpy as np\n",
    "from tqdm import tqdm\n",
    "import matplotlib.pyplot as plt\n",
    "import seaborn as sn\n",
    "import pandas as pd\n",
    "\n",
    "import torch\n",
    "torch.backends.cudnn.benchmark = True\n",
    "import torch.optim as optim\n",
    "import torch.nn as nn\n",
    "import torch.nn.functional as F\n",
    "from torch.autograd import Variable\n",
    "from torch.utils import data\n",
    "\n",
    "# torch.cuda.set_device(DEVICE)\n",
    "torch.cuda.empty_cache() \n",
    "torch.backends.cudnn.benchmark=True"
   ]
  },
  {
   "cell_type": "code",
   "execution_count": 3,
   "metadata": {},
   "outputs": [],
   "source": [
    "np.random.seed(0)\n",
    "torch.manual_seed(0)\n",
    "\n",
    "import os\n",
    "os.environ['CUDA_VISIBLE_DEVICES']='1'"
   ]
  },
  {
   "cell_type": "markdown",
   "metadata": {},
   "source": [
    "# load the dataset"
   ]
  },
  {
   "cell_type": "code",
   "execution_count": 4,
   "metadata": {},
   "outputs": [],
   "source": [
    "with open('scrimmage5_link_dataset.pickle', 'rb') as file:\n",
    "    link_dataset = pickle.load(file)"
   ]
  },
  {
   "cell_type": "code",
   "execution_count": 5,
   "metadata": {},
   "outputs": [],
   "source": [
    "train_data = link_dataset[:400] \n",
    "test_data = link_dataset[400:]"
   ]
  },
  {
   "cell_type": "code",
   "execution_count": 6,
   "metadata": {},
   "outputs": [],
   "source": [
    "class LSTMTagger(nn.Module):\n",
    "\n",
    "    def __init__(self, embedding_dim, hidden_dim, tagset_size):\n",
    "        super(LSTMTagger, self).__init__()\n",
    "        self.hidden_dim = hidden_dim\n",
    "\n",
    "        # The LSTM takes word embeddings as inputs, and outputs hidden states\n",
    "        # with dimensionality hidden_dim.\n",
    "        self.lstm = nn.LSTM(embedding_dim, hidden_dim, 2)\n",
    "\n",
    "        # The linear layer that maps from hidden state space to tag space\n",
    "        self.hidden2tag = nn.Linear(hidden_dim, tagset_size)\n",
    "\n",
    "    def forward(self, sentence):\n",
    "        lstm_out, _ = self.lstm(sentence.view(len(sentence), 1, -1))\n",
    "        tag_space = self.hidden2tag(lstm_out.view(len(sentence), -1))\n",
    "        tag_scores = F.log_softmax(tag_space, dim=1)\n",
    "        return tag_scores"
   ]
  },
  {
   "cell_type": "markdown",
   "metadata": {},
   "source": [
    "# Train Model 10 Epoch"
   ]
  },
  {
   "cell_type": "code",
   "execution_count": 7,
   "metadata": {
    "scrolled": false
   },
   "outputs": [
    {
     "name": "stderr",
     "output_type": "stream",
     "text": [
      "Epoch 0/10, Training: 100%|███████████████████████████| 400/400 [19:14<00:00,  2.89s/it]\n",
      "Epoch 0/10, Validation: 100%|█████████████████████████| 227/227 [24:18<00:00,  6.43s/it]\n",
      "Epoch 1/10, Validation:   0%|                                   | 0/227 [00:00<?, ?it/s]"
     ]
    },
    {
     "name": "stdout",
     "output_type": "stream",
     "text": [
      "train loss: 0.54108, test loss: 0.52222\n"
     ]
    },
    {
     "name": "stderr",
     "output_type": "stream",
     "text": [
      "Epoch 1/10, Training: 100%|███████████████████████████| 400/400 [19:15<00:00,  2.89s/it]\n",
      "Epoch 1/10, Validation: 100%|█████████████████████████| 227/227 [24:17<00:00,  6.42s/it]\n",
      "Epoch 2/10, Validation:   0%|                                   | 0/227 [00:00<?, ?it/s]"
     ]
    },
    {
     "name": "stdout",
     "output_type": "stream",
     "text": [
      "train loss: 0.52237, test loss: 0.52457\n"
     ]
    },
    {
     "name": "stderr",
     "output_type": "stream",
     "text": [
      "Epoch 2/10, Training: 100%|███████████████████████████| 400/400 [19:25<00:00,  2.91s/it]\n",
      "Epoch 2/10, Validation: 100%|█████████████████████████| 227/227 [24:18<00:00,  6.43s/it]\n",
      "Epoch 3/10, Validation:   0%|                                   | 0/227 [00:00<?, ?it/s]"
     ]
    },
    {
     "name": "stdout",
     "output_type": "stream",
     "text": [
      "train loss: 0.51917, test loss: 0.52364\n"
     ]
    },
    {
     "name": "stderr",
     "output_type": "stream",
     "text": [
      "Epoch 3/10, Training: 100%|███████████████████████████| 400/400 [19:25<00:00,  2.91s/it]\n",
      "Epoch 3/10, Validation: 100%|█████████████████████████| 227/227 [24:23<00:00,  6.45s/it]\n",
      "Epoch 4/10, Validation:   0%|                                   | 0/227 [00:00<?, ?it/s]"
     ]
    },
    {
     "name": "stdout",
     "output_type": "stream",
     "text": [
      "train loss: 0.51608, test loss: 0.52181\n"
     ]
    },
    {
     "name": "stderr",
     "output_type": "stream",
     "text": [
      "Epoch 4/10, Training: 100%|███████████████████████████| 400/400 [19:23<00:00,  2.91s/it]\n",
      "Epoch 4/10, Validation: 100%|█████████████████████████| 227/227 [24:26<00:00,  6.46s/it]\n",
      "Epoch 5/10, Validation:   0%|                                   | 0/227 [00:00<?, ?it/s]"
     ]
    },
    {
     "name": "stdout",
     "output_type": "stream",
     "text": [
      "train loss: 0.51316, test loss: 0.52092\n"
     ]
    },
    {
     "name": "stderr",
     "output_type": "stream",
     "text": [
      "Epoch 5/10, Training: 100%|███████████████████████████| 400/400 [19:23<00:00,  2.91s/it]\n",
      "Epoch 5/10, Validation: 100%|█████████████████████████| 227/227 [24:22<00:00,  6.44s/it]\n",
      "Epoch 6/10, Validation:   0%|                                   | 0/227 [00:00<?, ?it/s]"
     ]
    },
    {
     "name": "stdout",
     "output_type": "stream",
     "text": [
      "train loss: 0.51178, test loss: 0.51904\n"
     ]
    },
    {
     "name": "stderr",
     "output_type": "stream",
     "text": [
      "Epoch 6/10, Training: 100%|███████████████████████████| 400/400 [29:09<00:00,  4.37s/it]\n",
      "Epoch 6/10, Validation: 100%|█████████████████████████| 227/227 [37:03<00:00,  9.79s/it]\n",
      "Epoch 7/10, Validation:   0%|                                   | 0/227 [00:00<?, ?it/s]"
     ]
    },
    {
     "name": "stdout",
     "output_type": "stream",
     "text": [
      "train loss: 0.50819, test loss: 0.51849\n"
     ]
    },
    {
     "name": "stderr",
     "output_type": "stream",
     "text": [
      "Epoch 7/10, Training: 100%|███████████████████████████| 400/400 [30:13<00:00,  4.53s/it]\n",
      "Epoch 7/10, Validation: 100%|█████████████████████████| 227/227 [38:12<00:00, 10.10s/it]\n",
      "Epoch 8/10, Validation:   0%|                                   | 0/227 [00:00<?, ?it/s]"
     ]
    },
    {
     "name": "stdout",
     "output_type": "stream",
     "text": [
      "train loss: 0.50759, test loss: 0.52431\n"
     ]
    },
    {
     "name": "stderr",
     "output_type": "stream",
     "text": [
      "Epoch 8/10, Training: 100%|███████████████████████████| 400/400 [30:19<00:00,  4.55s/it]\n",
      "Epoch 8/10, Validation: 100%|█████████████████████████| 227/227 [38:19<00:00, 10.13s/it]\n",
      "Epoch 9/10, Validation:   0%|                                   | 0/227 [00:00<?, ?it/s]"
     ]
    },
    {
     "name": "stdout",
     "output_type": "stream",
     "text": [
      "train loss: 0.50478, test loss: 0.51927\n"
     ]
    },
    {
     "name": "stderr",
     "output_type": "stream",
     "text": [
      "Epoch 9/10, Training: 100%|███████████████████████████| 400/400 [30:17<00:00,  4.54s/it]\n",
      "Epoch 9/10, Validation: 100%|█████████████████████████| 227/227 [38:24<00:00, 10.15s/it]"
     ]
    },
    {
     "name": "stdout",
     "output_type": "stream",
     "text": [
      "train loss: 0.50188, test loss: 0.52302\n"
     ]
    },
    {
     "name": "stderr",
     "output_type": "stream",
     "text": [
      "\n"
     ]
    }
   ],
   "source": [
    "EMBEDDING_DIM = 20\n",
    "HIDDEN_DIM = 100\n",
    "TAGSET_SIZE = 2\n",
    "NUM_EPOCHS = 10\n",
    "\n",
    "model = LSTMTagger(EMBEDDING_DIM, HIDDEN_DIM, TAGSET_SIZE).cuda()\n",
    "model.cuda()\n",
    "\n",
    "loss_function = nn.NLLLoss().cuda()\n",
    "optimizer = optim.Adam(model.parameters(), 0.001)\n",
    "\n",
    "for epoch_idx in range(NUM_EPOCHS): \n",
    "\n",
    "    progress_training_epoch = tqdm(\n",
    "        train_data, \n",
    "        desc=f'Epoch {epoch_idx}/{NUM_EPOCHS}, Training',\n",
    "        miniters=1, ncols=88, position=0,\n",
    "        leave=True, total=len(train_data), smoothing=.9)\n",
    "\n",
    "    progress_validation_epoch = tqdm(\n",
    "        test_data, \n",
    "        desc=f'Epoch {epoch_idx}/{NUM_EPOCHS}, Validation',\n",
    "        miniters=1, ncols=88, position=0, \n",
    "        leave=True, total=len(test_data), smoothing=.9)\n",
    "\n",
    "    train_loss = 0\n",
    "    train_size = 0\n",
    "    model.train()\n",
    "    for idx, (sentence, tags) in enumerate(progress_training_epoch):\n",
    "        sentence = sentence.cuda()\n",
    "        tags = tags.cuda()\n",
    "        model.zero_grad()\n",
    "        tag_scores = model(sentence)\n",
    "        loss = loss_function(tag_scores, tags)\n",
    "        loss.backward()\n",
    "        optimizer.step()\n",
    "        train_loss += loss * tags.size()[0]\n",
    "        train_size += tags.size()[0]\n",
    "\n",
    "    test_loss = 0\n",
    "    test_size = 0\n",
    "    predict = []\n",
    "    target = []\n",
    "    model.eval()\n",
    "    with torch.no_grad():\n",
    "        for idx, (sentence, tags) in enumerate(progress_validation_epoch):\n",
    "            sentence = sentence.cuda()\n",
    "            tags = tags.cuda()\n",
    "            tag_scores = model(sentence)\n",
    "            loss = loss_function(tag_scores, tags)\n",
    "            predict.append(tag_scores.argmax(dim=1).cpu().numpy())\n",
    "            target.append(tags.cpu().numpy())        \n",
    "            test_loss += loss * tags.size()[0]\n",
    "            test_size += tags.size()[0]\n",
    "    predict = np.concatenate(predict, axis=0)\n",
    "    target = np.concatenate(target, axis=0)\n",
    "\n",
    "    print(f'train loss:{train_loss.item()/train_size: .5f}, '\n",
    "          f'test loss:{test_loss.item()/test_size: .5f}')"
   ]
  },
  {
   "cell_type": "markdown",
   "metadata": {},
   "source": [
    "# Test"
   ]
  },
  {
   "cell_type": "code",
   "execution_count": 8,
   "metadata": {},
   "outputs": [
    {
     "name": "stderr",
     "output_type": "stream",
     "text": [
      "Epoch 9/10, Validation: 100%|█████████████████████████| 227/227 [07:59<00:00,  2.11s/it]"
     ]
    },
    {
     "name": "stdout",
     "output_type": "stream",
     "text": [
      "True Positive:2749148, True Negative:364252, False Positive:756592, False Negative:192658\n"
     ]
    },
    {
     "name": "stderr",
     "output_type": "stream",
     "text": [
      "\n"
     ]
    }
   ],
   "source": [
    "progress_validation_epoch = tqdm(\n",
    "    test_data, \n",
    "    desc=f'Epoch {epoch_idx}/{NUM_EPOCHS}, Validation',\n",
    "    miniters=1, ncols=88, position=0, \n",
    "    leave=True, total=len(test_data), smoothing=.9)\n",
    "\n",
    "predict = []\n",
    "target = []\n",
    "model.eval()\n",
    "with torch.no_grad():\n",
    "    for idx, (sentence, tags) in enumerate(progress_validation_epoch):\n",
    "        sentence = sentence.cuda()\n",
    "        tags = tags.cuda()\n",
    "        tag_scores = model(sentence)\n",
    "        predict.append(tag_scores.argmax(dim=1).cpu().numpy())\n",
    "        target.append(tags.cpu().numpy())\n",
    "        \n",
    "predict = np.concatenate(predict, axis=0)\n",
    "target = np.concatenate(target, axis=0)\n",
    "\n",
    "tp = predict[target==1].sum()\n",
    "tn = (target==0).sum() - predict[target==0].sum()\n",
    "fp = predict[target==0].sum()\n",
    "fn = (target==1).sum() - predict[target==1].sum()\n",
    "\n",
    "print(f'True Positive:{tp}, '\n",
    "      f'True Negative:{tn}, '\n",
    "      f'False Positive:{fp}, '\n",
    "      f'False Negative:{fn}')"
   ]
  },
  {
   "cell_type": "code",
   "execution_count": 9,
   "metadata": {},
   "outputs": [
    {
     "name": "stdout",
     "output_type": "stream",
     "text": [
      "Accuracy:0.7663470887228779, Positive Accuracy:0.784184794080565, Negative Accuracy:0.6540590041478874, Weighted Accuracy:0.7191218991142262\n"
     ]
    }
   ],
   "source": [
    "accr = (tp+tn)/(tp+tn+fp+fn)\n",
    "posaccr = tp/(tp+fp)\n",
    "negaccr = tn/(tn+fn)\n",
    "print(f'Accuracy:{accr}, '\n",
    "      f'Positive Accuracy:{posaccr}, '\n",
    "      f'Negative Accuracy:{negaccr}, '\n",
    "      f'Weighted Accuracy:{0.5*(posaccr+negaccr)}')"
   ]
  },
  {
   "cell_type": "markdown",
   "metadata": {},
   "source": [
    "# Bagging 9"
   ]
  },
  {
   "cell_type": "code",
   "execution_count": 10,
   "metadata": {},
   "outputs": [],
   "source": [
    "with open('scrimmage5_link_dataset.pickle', 'rb') as file:\n",
    "    link_dataset = pickle.load(file)"
   ]
  },
  {
   "cell_type": "code",
   "execution_count": 11,
   "metadata": {},
   "outputs": [
    {
     "name": "stderr",
     "output_type": "stream",
     "text": [
      "Epoch 0/6, Training: 100%|████████████████████████████| 200/200 [13:59<00:00,  4.20s/it]\n",
      "Epoch 0/6, Validation: 100%|██████████████████████████| 227/227 [21:41<00:00,  5.74s/it]\n",
      "Epoch 1/6, Validation:   0%|                                    | 0/227 [00:00<?, ?it/s]"
     ]
    },
    {
     "name": "stdout",
     "output_type": "stream",
     "text": [
      "train loss: 0.52671, test loss: 0.51853\n"
     ]
    },
    {
     "name": "stderr",
     "output_type": "stream",
     "text": [
      "Epoch 1/6, Training: 100%|████████████████████████████| 200/200 [14:01<00:00,  4.21s/it]\n",
      "Epoch 1/6, Validation: 100%|██████████████████████████| 227/227 [21:48<00:00,  5.77s/it]\n",
      "Epoch 2/6, Validation:   0%|                                    | 0/227 [00:00<?, ?it/s]"
     ]
    },
    {
     "name": "stdout",
     "output_type": "stream",
     "text": [
      "train loss: 0.48589, test loss: 0.52182\n"
     ]
    },
    {
     "name": "stderr",
     "output_type": "stream",
     "text": [
      "Epoch 2/6, Training: 100%|████████████████████████████| 200/200 [13:59<00:00,  4.20s/it]\n",
      "Epoch 2/6, Validation: 100%|██████████████████████████| 227/227 [21:46<00:00,  5.76s/it]\n",
      "Epoch 3/6, Validation:   0%|                                    | 0/227 [00:00<?, ?it/s]"
     ]
    },
    {
     "name": "stdout",
     "output_type": "stream",
     "text": [
      "train loss: 0.47927, test loss: 0.52081\n"
     ]
    },
    {
     "name": "stderr",
     "output_type": "stream",
     "text": [
      "Epoch 3/6, Training: 100%|████████████████████████████| 200/200 [14:03<00:00,  4.22s/it]\n",
      "Epoch 3/6, Validation: 100%|██████████████████████████| 227/227 [21:51<00:00,  5.78s/it]\n",
      "Epoch 4/6, Validation:   0%|                                    | 0/227 [00:00<?, ?it/s]"
     ]
    },
    {
     "name": "stdout",
     "output_type": "stream",
     "text": [
      "train loss: 0.47366, test loss: 0.52015\n"
     ]
    },
    {
     "name": "stderr",
     "output_type": "stream",
     "text": [
      "Epoch 4/6, Training: 100%|████████████████████████████| 200/200 [14:03<00:00,  4.22s/it]\n",
      "Epoch 4/6, Validation: 100%|██████████████████████████| 227/227 [21:55<00:00,  5.80s/it]\n",
      "Epoch 5/6, Validation:   0%|                                    | 0/227 [00:00<?, ?it/s]"
     ]
    },
    {
     "name": "stdout",
     "output_type": "stream",
     "text": [
      "train loss: 0.47492, test loss: 0.52219\n"
     ]
    },
    {
     "name": "stderr",
     "output_type": "stream",
     "text": [
      "Epoch 5/6, Training: 100%|████████████████████████████| 200/200 [14:01<00:00,  4.21s/it]\n",
      "Epoch 5/6, Validation: 100%|██████████████████████████| 227/227 [21:51<00:00,  5.78s/it]\n",
      "Epoch 0/6, Validation:   0%|                                    | 0/227 [00:00<?, ?it/s]"
     ]
    },
    {
     "name": "stdout",
     "output_type": "stream",
     "text": [
      "train loss: 0.46850, test loss: 0.52127\n"
     ]
    },
    {
     "name": "stderr",
     "output_type": "stream",
     "text": [
      "Epoch 0/6, Training: 100%|████████████████████████████| 200/200 [13:48<00:00,  4.14s/it]\n",
      "Epoch 0/6, Validation: 100%|██████████████████████████| 227/227 [21:35<00:00,  5.71s/it]\n",
      "Epoch 1/6, Validation:   0%|                                    | 0/227 [00:00<?, ?it/s]"
     ]
    },
    {
     "name": "stdout",
     "output_type": "stream",
     "text": [
      "train loss: 0.50615, test loss: 0.55228\n"
     ]
    },
    {
     "name": "stderr",
     "output_type": "stream",
     "text": [
      "Epoch 1/6, Training: 100%|████████████████████████████| 200/200 [13:55<00:00,  4.18s/it]\n",
      "Epoch 1/6, Validation: 100%|██████████████████████████| 227/227 [21:36<00:00,  5.71s/it]\n",
      "Epoch 2/6, Validation:   0%|                                    | 0/227 [00:00<?, ?it/s]"
     ]
    },
    {
     "name": "stdout",
     "output_type": "stream",
     "text": [
      "train loss: 0.47465, test loss: 0.55549\n"
     ]
    },
    {
     "name": "stderr",
     "output_type": "stream",
     "text": [
      "Epoch 2/6, Training: 100%|████████████████████████████| 200/200 [13:58<00:00,  4.19s/it]\n",
      "Epoch 2/6, Validation: 100%|██████████████████████████| 227/227 [21:41<00:00,  5.74s/it]\n",
      "Epoch 3/6, Validation:   0%|                                    | 0/227 [00:00<?, ?it/s]"
     ]
    },
    {
     "name": "stdout",
     "output_type": "stream",
     "text": [
      "train loss: 0.46750, test loss: 0.55145\n"
     ]
    },
    {
     "name": "stderr",
     "output_type": "stream",
     "text": [
      "Epoch 3/6, Training: 100%|████████████████████████████| 200/200 [13:58<00:00,  4.19s/it]\n",
      "Epoch 3/6, Validation: 100%|██████████████████████████| 227/227 [21:39<00:00,  5.73s/it]\n",
      "Epoch 4/6, Validation:   0%|                                    | 0/227 [00:00<?, ?it/s]"
     ]
    },
    {
     "name": "stdout",
     "output_type": "stream",
     "text": [
      "train loss: 0.46262, test loss: 0.54739\n"
     ]
    },
    {
     "name": "stderr",
     "output_type": "stream",
     "text": [
      "Epoch 4/6, Training: 100%|████████████████████████████| 200/200 [13:57<00:00,  4.19s/it]\n",
      "Epoch 4/6, Validation: 100%|██████████████████████████| 227/227 [21:43<00:00,  5.74s/it]\n",
      "Epoch 5/6, Validation:   0%|                                    | 0/227 [00:00<?, ?it/s]"
     ]
    },
    {
     "name": "stdout",
     "output_type": "stream",
     "text": [
      "train loss: 0.45786, test loss: 0.55003\n"
     ]
    },
    {
     "name": "stderr",
     "output_type": "stream",
     "text": [
      "Epoch 5/6, Training: 100%|████████████████████████████| 200/200 [14:06<00:00,  4.23s/it]\n",
      "Epoch 5/6, Validation: 100%|██████████████████████████| 227/227 [21:56<00:00,  5.80s/it]\n",
      "Epoch 0/6, Validation:   0%|                                    | 0/227 [00:00<?, ?it/s]"
     ]
    },
    {
     "name": "stdout",
     "output_type": "stream",
     "text": [
      "train loss: 0.46154, test loss: 0.53932\n"
     ]
    },
    {
     "name": "stderr",
     "output_type": "stream",
     "text": [
      "Epoch 0/6, Training: 100%|████████████████████████████| 200/200 [13:37<00:00,  4.09s/it]\n",
      "Epoch 0/6, Validation: 100%|██████████████████████████| 227/227 [21:21<00:00,  5.64s/it]\n",
      "Epoch 1/6, Validation:   0%|                                    | 0/227 [00:00<?, ?it/s]"
     ]
    },
    {
     "name": "stdout",
     "output_type": "stream",
     "text": [
      "train loss: 0.50550, test loss: 0.55283\n"
     ]
    },
    {
     "name": "stderr",
     "output_type": "stream",
     "text": [
      "Epoch 1/6, Training: 100%|████████████████████████████| 200/200 [13:40<00:00,  4.10s/it]\n",
      "Epoch 1/6, Validation: 100%|██████████████████████████| 227/227 [21:23<00:00,  5.65s/it]\n",
      "Epoch 2/6, Validation:   0%|                                    | 0/227 [00:00<?, ?it/s]"
     ]
    },
    {
     "name": "stdout",
     "output_type": "stream",
     "text": [
      "train loss: 0.47075, test loss: 0.54036\n"
     ]
    },
    {
     "name": "stderr",
     "output_type": "stream",
     "text": [
      "Epoch 2/6, Training: 100%|████████████████████████████| 200/200 [13:39<00:00,  4.10s/it]\n",
      "Epoch 2/6, Validation: 100%|██████████████████████████| 227/227 [21:20<00:00,  5.64s/it]\n",
      "Epoch 3/6, Validation:   0%|                                    | 0/227 [00:00<?, ?it/s]"
     ]
    },
    {
     "name": "stdout",
     "output_type": "stream",
     "text": [
      "train loss: 0.46525, test loss: 0.53770\n"
     ]
    },
    {
     "name": "stderr",
     "output_type": "stream",
     "text": [
      "Epoch 3/6, Training: 100%|████████████████████████████| 200/200 [13:38<00:00,  4.09s/it]\n",
      "Epoch 3/6, Validation: 100%|██████████████████████████| 227/227 [21:21<00:00,  5.64s/it]\n",
      "Epoch 4/6, Validation:   0%|                                    | 0/227 [00:00<?, ?it/s]"
     ]
    },
    {
     "name": "stdout",
     "output_type": "stream",
     "text": [
      "train loss: 0.46240, test loss: 0.53740\n"
     ]
    },
    {
     "name": "stderr",
     "output_type": "stream",
     "text": [
      "Epoch 4/6, Training: 100%|████████████████████████████| 200/200 [13:39<00:00,  4.10s/it]\n",
      "Epoch 4/6, Validation: 100%|██████████████████████████| 227/227 [21:23<00:00,  5.66s/it]\n",
      "Epoch 5/6, Validation:   0%|                                    | 0/227 [00:00<?, ?it/s]"
     ]
    },
    {
     "name": "stdout",
     "output_type": "stream",
     "text": [
      "train loss: 0.45967, test loss: 0.53891\n"
     ]
    },
    {
     "name": "stderr",
     "output_type": "stream",
     "text": [
      "Epoch 5/6, Training: 100%|████████████████████████████| 200/200 [13:42<00:00,  4.11s/it]\n",
      "Epoch 5/6, Validation: 100%|██████████████████████████| 227/227 [21:29<00:00,  5.68s/it]\n",
      "Epoch 0/6, Validation:   0%|                                    | 0/227 [00:00<?, ?it/s]"
     ]
    },
    {
     "name": "stdout",
     "output_type": "stream",
     "text": [
      "train loss: 0.45841, test loss: 0.53775\n"
     ]
    },
    {
     "name": "stderr",
     "output_type": "stream",
     "text": [
      "Epoch 0/6, Training: 100%|████████████████████████████| 200/200 [14:37<00:00,  4.39s/it]\n",
      "Epoch 0/6, Validation: 100%|██████████████████████████| 227/227 [22:30<00:00,  5.95s/it]\n",
      "Epoch 1/6, Validation:   0%|                                    | 0/227 [00:00<?, ?it/s]"
     ]
    },
    {
     "name": "stdout",
     "output_type": "stream",
     "text": [
      "train loss: 0.54664, test loss: 0.54709\n"
     ]
    },
    {
     "name": "stderr",
     "output_type": "stream",
     "text": [
      "Epoch 1/6, Training: 100%|████████████████████████████| 200/200 [14:42<00:00,  4.41s/it]\n",
      "Epoch 1/6, Validation: 100%|██████████████████████████| 227/227 [22:32<00:00,  5.96s/it]\n",
      "Epoch 2/6, Validation:   0%|                                    | 0/227 [00:00<?, ?it/s]"
     ]
    },
    {
     "name": "stdout",
     "output_type": "stream",
     "text": [
      "train loss: 0.50327, test loss: 0.54772\n"
     ]
    },
    {
     "name": "stderr",
     "output_type": "stream",
     "text": [
      "Epoch 2/6, Training: 100%|████████████████████████████| 200/200 [14:40<00:00,  4.40s/it]\n",
      "Epoch 2/6, Validation: 100%|██████████████████████████| 227/227 [22:29<00:00,  5.95s/it]\n",
      "Epoch 3/6, Validation:   0%|                                    | 0/227 [00:00<?, ?it/s]"
     ]
    },
    {
     "name": "stdout",
     "output_type": "stream",
     "text": [
      "train loss: 0.49560, test loss: 0.53676\n"
     ]
    },
    {
     "name": "stderr",
     "output_type": "stream",
     "text": [
      "Epoch 3/6, Training: 100%|████████████████████████████| 200/200 [14:40<00:00,  4.40s/it]\n",
      "Epoch 3/6, Validation: 100%|██████████████████████████| 227/227 [22:31<00:00,  5.96s/it]\n",
      "Epoch 4/6, Validation:   0%|                                    | 0/227 [00:00<?, ?it/s]"
     ]
    },
    {
     "name": "stdout",
     "output_type": "stream",
     "text": [
      "train loss: 0.49129, test loss: 0.54215\n"
     ]
    },
    {
     "name": "stderr",
     "output_type": "stream",
     "text": [
      "Epoch 4/6, Training: 100%|████████████████████████████| 200/200 [14:45<00:00,  4.43s/it]\n",
      "Epoch 4/6, Validation: 100%|██████████████████████████| 227/227 [22:33<00:00,  5.96s/it]\n",
      "Epoch 5/6, Validation:   0%|                                    | 0/227 [00:00<?, ?it/s]"
     ]
    },
    {
     "name": "stdout",
     "output_type": "stream",
     "text": [
      "train loss: 0.48397, test loss: 0.54160\n"
     ]
    },
    {
     "name": "stderr",
     "output_type": "stream",
     "text": [
      "Epoch 5/6, Training: 100%|████████████████████████████| 200/200 [14:47<00:00,  4.44s/it]\n",
      "Epoch 5/6, Validation: 100%|██████████████████████████| 227/227 [22:38<00:00,  5.98s/it]\n",
      "Epoch 0/6, Validation:   0%|                                    | 0/227 [00:00<?, ?it/s]"
     ]
    },
    {
     "name": "stdout",
     "output_type": "stream",
     "text": [
      "train loss: 0.47811, test loss: 0.54959\n"
     ]
    },
    {
     "name": "stderr",
     "output_type": "stream",
     "text": [
      "Epoch 0/6, Training: 100%|████████████████████████████| 200/200 [14:08<00:00,  4.24s/it]\n",
      "Epoch 0/6, Validation: 100%|██████████████████████████| 227/227 [21:57<00:00,  5.80s/it]\n",
      "Epoch 1/6, Validation:   0%|                                    | 0/227 [00:00<?, ?it/s]"
     ]
    },
    {
     "name": "stdout",
     "output_type": "stream",
     "text": [
      "train loss: 0.51229, test loss: 0.55827\n"
     ]
    },
    {
     "name": "stderr",
     "output_type": "stream",
     "text": [
      "Epoch 1/6, Training: 100%|████████████████████████████| 200/200 [14:14<00:00,  4.27s/it]\n",
      "Epoch 1/6, Validation: 100%|██████████████████████████| 227/227 [22:04<00:00,  5.84s/it]\n",
      "Epoch 2/6, Validation:   0%|                                    | 0/227 [00:00<?, ?it/s]"
     ]
    },
    {
     "name": "stdout",
     "output_type": "stream",
     "text": [
      "train loss: 0.47237, test loss: 0.55101\n"
     ]
    },
    {
     "name": "stderr",
     "output_type": "stream",
     "text": [
      "Epoch 2/6, Training: 100%|████████████████████████████| 200/200 [14:16<00:00,  4.28s/it]\n",
      "Epoch 2/6, Validation: 100%|██████████████████████████| 227/227 [22:09<00:00,  5.86s/it]\n",
      "Epoch 3/6, Validation:   0%|                                    | 0/227 [00:00<?, ?it/s]"
     ]
    },
    {
     "name": "stdout",
     "output_type": "stream",
     "text": [
      "train loss: 0.46608, test loss: 0.54987\n"
     ]
    },
    {
     "name": "stderr",
     "output_type": "stream",
     "text": [
      "Epoch 3/6, Training: 100%|████████████████████████████| 200/200 [14:17<00:00,  4.29s/it]\n",
      "Epoch 3/6, Validation: 100%|██████████████████████████| 227/227 [22:11<00:00,  5.87s/it]\n",
      "Epoch 4/6, Validation:   0%|                                    | 0/227 [00:00<?, ?it/s]"
     ]
    },
    {
     "name": "stdout",
     "output_type": "stream",
     "text": [
      "train loss: 0.46355, test loss: 0.54479\n"
     ]
    },
    {
     "name": "stderr",
     "output_type": "stream",
     "text": [
      "Epoch 4/6, Training: 100%|████████████████████████████| 200/200 [14:17<00:00,  4.29s/it]\n",
      "Epoch 4/6, Validation: 100%|██████████████████████████| 227/227 [22:06<00:00,  5.84s/it]\n",
      "Epoch 5/6, Validation:   0%|                                    | 0/227 [00:00<?, ?it/s]"
     ]
    },
    {
     "name": "stdout",
     "output_type": "stream",
     "text": [
      "train loss: 0.45832, test loss: 0.54204\n"
     ]
    },
    {
     "name": "stderr",
     "output_type": "stream",
     "text": [
      "Epoch 5/6, Training: 100%|████████████████████████████| 200/200 [14:15<00:00,  4.28s/it]\n",
      "Epoch 5/6, Validation: 100%|██████████████████████████| 227/227 [22:09<00:00,  5.85s/it]\n",
      "Epoch 0/6, Validation:   0%|                                    | 0/227 [00:00<?, ?it/s]"
     ]
    },
    {
     "name": "stdout",
     "output_type": "stream",
     "text": [
      "train loss: 0.45665, test loss: 0.54052\n"
     ]
    },
    {
     "name": "stderr",
     "output_type": "stream",
     "text": [
      "Epoch 0/6, Training: 100%|████████████████████████████| 200/200 [14:47<00:00,  4.44s/it]\n",
      "Epoch 0/6, Validation: 100%|██████████████████████████| 227/227 [22:40<00:00,  5.99s/it]\n",
      "Epoch 1/6, Validation:   0%|                                    | 0/227 [00:00<?, ?it/s]"
     ]
    },
    {
     "name": "stdout",
     "output_type": "stream",
     "text": [
      "train loss: 0.54713, test loss: 0.53895\n"
     ]
    },
    {
     "name": "stderr",
     "output_type": "stream",
     "text": [
      "Epoch 1/6, Training: 100%|████████████████████████████| 200/200 [14:49<00:00,  4.45s/it]\n",
      "Epoch 1/6, Validation: 100%|██████████████████████████| 227/227 [22:42<00:00,  6.00s/it]\n",
      "Epoch 2/6, Validation:   0%|                                    | 0/227 [00:00<?, ?it/s]"
     ]
    },
    {
     "name": "stdout",
     "output_type": "stream",
     "text": [
      "train loss: 0.52960, test loss: 0.53316\n"
     ]
    },
    {
     "name": "stderr",
     "output_type": "stream",
     "text": [
      "Epoch 2/6, Training: 100%|████████████████████████████| 200/200 [14:52<00:00,  4.46s/it]\n",
      "Epoch 2/6, Validation: 100%|██████████████████████████| 227/227 [22:43<00:00,  6.01s/it]\n",
      "Epoch 3/6, Validation:   0%|                                    | 0/227 [00:00<?, ?it/s]"
     ]
    },
    {
     "name": "stdout",
     "output_type": "stream",
     "text": [
      "train loss: 0.52238, test loss: 0.53129\n"
     ]
    },
    {
     "name": "stderr",
     "output_type": "stream",
     "text": [
      "Epoch 3/6, Training: 100%|████████████████████████████| 200/200 [14:55<00:00,  4.48s/it]\n",
      "Epoch 3/6, Validation: 100%|██████████████████████████| 227/227 [22:48<00:00,  6.03s/it]\n",
      "Epoch 4/6, Validation:   0%|                                    | 0/227 [00:00<?, ?it/s]"
     ]
    },
    {
     "name": "stdout",
     "output_type": "stream",
     "text": [
      "train loss: 0.51701, test loss: 0.52588\n"
     ]
    },
    {
     "name": "stderr",
     "output_type": "stream",
     "text": [
      "Epoch 4/6, Training: 100%|████████████████████████████| 200/200 [14:52<00:00,  4.46s/it]\n",
      "Epoch 4/6, Validation: 100%|██████████████████████████| 227/227 [22:39<00:00,  5.99s/it]\n",
      "Epoch 5/6, Validation:   0%|                                    | 0/227 [00:00<?, ?it/s]"
     ]
    },
    {
     "name": "stdout",
     "output_type": "stream",
     "text": [
      "train loss: 0.51245, test loss: 0.52432\n"
     ]
    },
    {
     "name": "stderr",
     "output_type": "stream",
     "text": [
      "Epoch 5/6, Training: 100%|████████████████████████████| 200/200 [14:48<00:00,  4.44s/it]\n",
      "Epoch 5/6, Validation: 100%|██████████████████████████| 227/227 [22:41<00:00,  6.00s/it]\n",
      "Epoch 0/6, Validation:   0%|                                    | 0/227 [00:00<?, ?it/s]"
     ]
    },
    {
     "name": "stdout",
     "output_type": "stream",
     "text": [
      "train loss: 0.50640, test loss: 0.52616\n"
     ]
    },
    {
     "name": "stderr",
     "output_type": "stream",
     "text": [
      "Epoch 0/6, Training: 100%|████████████████████████████| 200/200 [14:42<00:00,  4.41s/it]\n",
      "Epoch 0/6, Validation: 100%|██████████████████████████| 227/227 [22:23<00:00,  5.92s/it]\n",
      "Epoch 1/6, Validation:   0%|                                    | 0/227 [00:00<?, ?it/s]"
     ]
    },
    {
     "name": "stdout",
     "output_type": "stream",
     "text": [
      "train loss: 0.51868, test loss: 0.53293\n"
     ]
    },
    {
     "name": "stderr",
     "output_type": "stream",
     "text": [
      "Epoch 1/6, Training: 100%|████████████████████████████| 200/200 [14:47<00:00,  4.44s/it]\n",
      "Epoch 1/6, Validation: 100%|██████████████████████████| 227/227 [22:28<00:00,  5.94s/it]\n",
      "Epoch 2/6, Validation:   0%|                                    | 0/227 [00:00<?, ?it/s]"
     ]
    },
    {
     "name": "stdout",
     "output_type": "stream",
     "text": [
      "train loss: 0.47610, test loss: 0.53107\n"
     ]
    },
    {
     "name": "stderr",
     "output_type": "stream",
     "text": [
      "Epoch 2/6, Training: 100%|████████████████████████████| 200/200 [12:14<00:00,  3.67s/it]\n",
      "Epoch 2/6, Validation: 100%|██████████████████████████| 227/227 [18:39<00:00,  4.93s/it]\n",
      "Epoch 3/6, Validation:   0%|                                    | 0/227 [00:00<?, ?it/s]"
     ]
    },
    {
     "name": "stdout",
     "output_type": "stream",
     "text": [
      "train loss: 0.46763, test loss: 0.53312\n"
     ]
    },
    {
     "name": "stderr",
     "output_type": "stream",
     "text": [
      "Epoch 3/6, Training: 100%|████████████████████████████| 200/200 [11:16<00:00,  3.38s/it]\n",
      "Epoch 3/6, Validation: 100%|██████████████████████████| 227/227 [16:23<00:00,  4.33s/it]\n",
      "Epoch 4/6, Validation:   0%|                                    | 0/227 [00:00<?, ?it/s]"
     ]
    },
    {
     "name": "stdout",
     "output_type": "stream",
     "text": [
      "train loss: 0.46187, test loss: 0.53406\n"
     ]
    },
    {
     "name": "stderr",
     "output_type": "stream",
     "text": [
      "Epoch 4/6, Training: 100%|████████████████████████████| 200/200 [09:46<00:00,  2.93s/it]\n",
      "Epoch 4/6, Validation: 100%|██████████████████████████| 227/227 [14:53<00:00,  3.94s/it]\n",
      "Epoch 5/6, Validation:   0%|                                    | 0/227 [00:00<?, ?it/s]"
     ]
    },
    {
     "name": "stdout",
     "output_type": "stream",
     "text": [
      "train loss: 0.45674, test loss: 0.53921\n"
     ]
    },
    {
     "name": "stderr",
     "output_type": "stream",
     "text": [
      "Epoch 5/6, Training: 100%|████████████████████████████| 200/200 [09:51<00:00,  2.96s/it]\n",
      "Epoch 5/6, Validation: 100%|██████████████████████████| 227/227 [14:59<00:00,  3.96s/it]\n",
      "Epoch 0/6, Validation:   0%|                                    | 0/227 [00:00<?, ?it/s]"
     ]
    },
    {
     "name": "stdout",
     "output_type": "stream",
     "text": [
      "train loss: 0.45377, test loss: 0.53811\n"
     ]
    },
    {
     "name": "stderr",
     "output_type": "stream",
     "text": [
      "Epoch 0/6, Training: 100%|████████████████████████████| 200/200 [09:42<00:00,  2.91s/it]\n",
      "Epoch 0/6, Validation: 100%|██████████████████████████| 227/227 [14:42<00:00,  3.89s/it]\n",
      "Epoch 1/6, Validation:   0%|                                    | 0/227 [00:00<?, ?it/s]"
     ]
    },
    {
     "name": "stdout",
     "output_type": "stream",
     "text": [
      "train loss: 0.54252, test loss: 0.54005\n"
     ]
    },
    {
     "name": "stderr",
     "output_type": "stream",
     "text": [
      "Epoch 1/6, Training: 100%|████████████████████████████| 200/200 [09:45<00:00,  2.93s/it]\n",
      "Epoch 1/6, Validation: 100%|██████████████████████████| 227/227 [14:45<00:00,  3.90s/it]\n",
      "Epoch 2/6, Validation:   0%|                                    | 0/227 [00:00<?, ?it/s]"
     ]
    },
    {
     "name": "stdout",
     "output_type": "stream",
     "text": [
      "train loss: 0.50905, test loss: 0.53414\n"
     ]
    },
    {
     "name": "stderr",
     "output_type": "stream",
     "text": [
      "Epoch 2/6, Training: 100%|████████████████████████████| 200/200 [09:45<00:00,  2.93s/it]\n",
      "Epoch 2/6, Validation: 100%|██████████████████████████| 227/227 [14:48<00:00,  3.91s/it]\n",
      "Epoch 3/6, Validation:   0%|                                    | 0/227 [00:00<?, ?it/s]"
     ]
    },
    {
     "name": "stdout",
     "output_type": "stream",
     "text": [
      "train loss: 0.50016, test loss: 0.53270\n"
     ]
    },
    {
     "name": "stderr",
     "output_type": "stream",
     "text": [
      "Epoch 3/6, Training: 100%|████████████████████████████| 200/200 [09:43<00:00,  2.92s/it]\n",
      "Epoch 3/6, Validation: 100%|██████████████████████████| 227/227 [14:43<00:00,  3.89s/it]\n",
      "Epoch 4/6, Validation:   0%|                                    | 0/227 [00:00<?, ?it/s]"
     ]
    },
    {
     "name": "stdout",
     "output_type": "stream",
     "text": [
      "train loss: 0.49559, test loss: 0.52943\n"
     ]
    },
    {
     "name": "stderr",
     "output_type": "stream",
     "text": [
      "Epoch 4/6, Training: 100%|████████████████████████████| 200/200 [09:37<00:00,  2.89s/it]\n",
      "Epoch 4/6, Validation: 100%|██████████████████████████| 227/227 [14:33<00:00,  3.85s/it]\n",
      "Epoch 5/6, Validation:   0%|                                    | 0/227 [00:00<?, ?it/s]"
     ]
    },
    {
     "name": "stdout",
     "output_type": "stream",
     "text": [
      "train loss: 0.49172, test loss: 0.52800\n"
     ]
    },
    {
     "name": "stderr",
     "output_type": "stream",
     "text": [
      "Epoch 5/6, Training: 100%|████████████████████████████| 200/200 [08:30<00:00,  2.55s/it]\n",
      "Epoch 5/6, Validation: 100%|██████████████████████████| 227/227 [12:12<00:00,  3.23s/it]\n",
      "Epoch 0/6, Validation:   0%|                                    | 0/227 [00:00<?, ?it/s]"
     ]
    },
    {
     "name": "stdout",
     "output_type": "stream",
     "text": [
      "train loss: 0.48917, test loss: 0.53560\n"
     ]
    },
    {
     "name": "stderr",
     "output_type": "stream",
     "text": [
      "Epoch 0/6, Training: 100%|████████████████████████████| 200/200 [06:59<00:00,  2.10s/it]\n",
      "Epoch 0/6, Validation: 100%|██████████████████████████| 227/227 [10:40<00:00,  2.82s/it]\n",
      "Epoch 1/6, Validation:   0%|                                    | 0/227 [00:00<?, ?it/s]"
     ]
    },
    {
     "name": "stdout",
     "output_type": "stream",
     "text": [
      "train loss: 0.53079, test loss: 0.52426\n"
     ]
    },
    {
     "name": "stderr",
     "output_type": "stream",
     "text": [
      "Epoch 1/6, Training: 100%|████████████████████████████| 200/200 [07:02<00:00,  2.11s/it]\n",
      "Epoch 1/6, Validation: 100%|██████████████████████████| 227/227 [10:43<00:00,  2.83s/it]\n",
      "Epoch 2/6, Validation:   0%|                                    | 0/227 [00:00<?, ?it/s]"
     ]
    },
    {
     "name": "stdout",
     "output_type": "stream",
     "text": [
      "train loss: 0.50046, test loss: 0.52251\n"
     ]
    },
    {
     "name": "stderr",
     "output_type": "stream",
     "text": [
      "Epoch 2/6, Training: 100%|████████████████████████████| 200/200 [07:01<00:00,  2.11s/it]\n",
      "Epoch 2/6, Validation: 100%|██████████████████████████| 227/227 [10:44<00:00,  2.84s/it]\n",
      "Epoch 3/6, Validation:   0%|                                    | 0/227 [00:00<?, ?it/s]"
     ]
    },
    {
     "name": "stdout",
     "output_type": "stream",
     "text": [
      "train loss: 0.49424, test loss: 0.52607\n"
     ]
    },
    {
     "name": "stderr",
     "output_type": "stream",
     "text": [
      "Epoch 3/6, Training: 100%|████████████████████████████| 200/200 [07:03<00:00,  2.12s/it]\n",
      "Epoch 3/6, Validation: 100%|██████████████████████████| 227/227 [10:44<00:00,  2.84s/it]\n",
      "Epoch 4/6, Validation:   0%|                                    | 0/227 [00:00<?, ?it/s]"
     ]
    },
    {
     "name": "stdout",
     "output_type": "stream",
     "text": [
      "train loss: 0.48937, test loss: 0.52677\n"
     ]
    },
    {
     "name": "stderr",
     "output_type": "stream",
     "text": [
      "Epoch 4/6, Training: 100%|████████████████████████████| 200/200 [07:03<00:00,  2.12s/it]\n",
      "Epoch 4/6, Validation: 100%|██████████████████████████| 227/227 [10:45<00:00,  2.85s/it]\n",
      "Epoch 5/6, Validation:   0%|                                    | 0/227 [00:00<?, ?it/s]"
     ]
    },
    {
     "name": "stdout",
     "output_type": "stream",
     "text": [
      "train loss: 0.48462, test loss: 0.53129\n"
     ]
    },
    {
     "name": "stderr",
     "output_type": "stream",
     "text": [
      "Epoch 5/6, Training: 100%|████████████████████████████| 200/200 [06:41<00:00,  2.01s/it]\n",
      "Epoch 5/6, Validation: 100%|██████████████████████████| 227/227 [09:09<00:00,  2.42s/it]"
     ]
    },
    {
     "name": "stdout",
     "output_type": "stream",
     "text": [
      "train loss: 0.47917, test loss: 0.53214\n"
     ]
    },
    {
     "name": "stderr",
     "output_type": "stream",
     "text": [
      "\n"
     ]
    }
   ],
   "source": [
    "EMBEDDING_DIM = 20\n",
    "HIDDEN_DIM = 100\n",
    "TAGSET_SIZE = 2\n",
    "NUM_EPOCHS = 6\n",
    "model_list = []\n",
    "\n",
    "for model_idx in range(9):\n",
    "    \n",
    "    train_data = []\n",
    "    for link_idx in np.random.choice(200,size=200,replace=True):\n",
    "        train_data.append(link_dataset[link_idx])\n",
    "    \n",
    "    model = LSTMTagger(EMBEDDING_DIM, HIDDEN_DIM, TAGSET_SIZE)\n",
    "    model.cuda()\n",
    "    loss_function = nn.NLLLoss().cuda()\n",
    "    optimizer = optim.Adam(model.parameters(), 0.001)\n",
    "\n",
    "    model.train()\n",
    "    for epoch_idx in range(NUM_EPOCHS):  \n",
    "\n",
    "        progress_training_epoch = tqdm(\n",
    "            train_data, \n",
    "            desc=f'Epoch {epoch_idx}/{NUM_EPOCHS}, Training',\n",
    "            miniters=1, ncols=88, position=0,\n",
    "            leave=True, total=len(train_data), smoothing=.9)\n",
    "\n",
    "        progress_validation_epoch = tqdm(\n",
    "            test_data, \n",
    "            desc=f'Epoch {epoch_idx}/{NUM_EPOCHS}, Validation',\n",
    "            miniters=1, ncols=88, position=0, \n",
    "            leave=True, total=len(test_data), smoothing=.9)\n",
    "\n",
    "        train_loss = 0\n",
    "        train_size = 0\n",
    "        model.train()\n",
    "        for idx, (sentence, tags) in enumerate(progress_training_epoch):\n",
    "            sentence = sentence.cuda()\n",
    "            tags = tags.cuda()\n",
    "            model.zero_grad()\n",
    "            tag_scores = model(sentence)\n",
    "            loss = loss_function(tag_scores, tags)\n",
    "            loss.backward()\n",
    "            optimizer.step()\n",
    "            train_loss += loss * tags.size()[0]\n",
    "            train_size += tags.size()[0]\n",
    "\n",
    "        test_loss = 0\n",
    "        test_size = 0\n",
    "        model.eval()\n",
    "        with torch.no_grad():\n",
    "            for idx, (sentence, tags) in enumerate(progress_validation_epoch):\n",
    "                sentence = sentence.cuda()\n",
    "                tags = tags.cuda()\n",
    "                tag_scores = model(sentence)\n",
    "                loss = loss_function(tag_scores, tags) \n",
    "                test_loss += loss * tags.size()[0]\n",
    "                test_size += tags.size()[0]\n",
    "\n",
    "        print(f'train loss:{train_loss.item()/train_size: .5f}, '\n",
    "              f'test loss:{test_loss.item()/test_size: .5f}')\n",
    "        \n",
    "    model_list.append(model)"
   ]
  },
  {
   "cell_type": "markdown",
   "metadata": {},
   "source": [
    "# Test"
   ]
  },
  {
   "cell_type": "code",
   "execution_count": 12,
   "metadata": {},
   "outputs": [
    {
     "name": "stderr",
     "output_type": "stream",
     "text": [
      "Epoch 5/6, Validation: 100%|██████████████████████████| 227/227 [02:25<00:00,  1.56it/s]\n",
      "Epoch 5/6, Validation: 100%|██████████████████████████| 227/227 [02:28<00:00,  1.53it/s]\n",
      "Epoch 5/6, Validation: 100%|██████████████████████████| 227/227 [03:41<00:00,  1.02it/s]\n",
      "Epoch 5/6, Validation: 100%|██████████████████████████| 227/227 [03:39<00:00,  1.04it/s]\n",
      "Epoch 5/6, Validation: 100%|██████████████████████████| 227/227 [03:40<00:00,  1.03it/s]\n",
      "Epoch 5/6, Validation: 100%|██████████████████████████| 227/227 [03:42<00:00,  1.02it/s]\n",
      "Epoch 5/6, Validation: 100%|██████████████████████████| 227/227 [03:01<00:00,  1.25it/s]\n",
      "Epoch 5/6, Validation: 100%|██████████████████████████| 227/227 [02:27<00:00,  1.54it/s]\n",
      "Epoch 5/6, Validation: 100%|██████████████████████████| 227/227 [02:28<00:00,  1.53it/s]\n"
     ]
    },
    {
     "name": "stdout",
     "output_type": "stream",
     "text": [
      "True Positive:2859116, True Negative:248063, False Positive:872781, False Negative:82690\n"
     ]
    }
   ],
   "source": [
    "predict_agg = []\n",
    "target_agg = []\n",
    "\n",
    "for model in model_list:\n",
    "    \n",
    "    progress_validation_epoch = tqdm(\n",
    "        test_data, \n",
    "        desc=f'Epoch {epoch_idx}/{NUM_EPOCHS}, Validation',\n",
    "        miniters=1, ncols=88, position=0, \n",
    "        leave=True, total=len(test_data), smoothing=.9)\n",
    "    \n",
    "    predict = []\n",
    "    target = []\n",
    "    model.eval()\n",
    "    with torch.no_grad():\n",
    "        for idx, (sentence, tags) in enumerate(progress_validation_epoch):\n",
    "            sentence = sentence.cuda()\n",
    "            tags = tags.cuda()\n",
    "            tag_scores = model(sentence)\n",
    "            predict.append(tag_scores.argmax(dim=1).cpu().numpy())\n",
    "            target.append(tags.cpu().numpy())        \n",
    "    predict = np.concatenate(predict, axis=0)\n",
    "    target = np.concatenate(target, axis=0)\n",
    "    \n",
    "    predict_agg.append(predict)\n",
    "    target_agg.append(target)\n",
    "    \n",
    "predict = (np.array(predict_agg).sum(axis=0) > 4.5)\n",
    "target = target_agg[0]\n",
    "tp = predict[target==1].sum()\n",
    "tn = (target==0).sum() - predict[target==0].sum()\n",
    "fp = predict[target==0].sum()\n",
    "fn = (target==1).sum() - predict[target==1].sum()\n",
    "\n",
    "print(f'True Positive:{tp}, '\n",
    "      f'True Negative:{tn}, '\n",
    "      f'False Positive:{fp}, '\n",
    "      f'False Negative:{fn}')\n"
   ]
  },
  {
   "cell_type": "code",
   "execution_count": 13,
   "metadata": {},
   "outputs": [
    {
     "name": "stdout",
     "output_type": "stream",
     "text": [
      "Accuracy:0.764815822185027, Positive Accuracy:0.7661293974619342, Negative Accuracy:0.7499947090426995, Weighted Accuracy:0.7580620532523168\n"
     ]
    }
   ],
   "source": [
    "accr = (tp+tn)/(tp+tn+fp+fn)\n",
    "posaccr = tp/(tp+fp)\n",
    "negaccr = tn/(tn+fn)\n",
    "print(f'Accuracy:{accr}, '\n",
    "      f'Positive Accuracy:{posaccr}, '\n",
    "      f'Negative Accuracy:{negaccr}, '\n",
    "      f'Weighted Accuracy:{0.5*(posaccr+negaccr)}')"
   ]
  }
 ],
 "metadata": {
  "kernelspec": {
   "display_name": "Python 3",
   "language": "python",
   "name": "python3"
  },
  "language_info": {
   "codemirror_mode": {
    "name": "ipython",
    "version": 3
   },
   "file_extension": ".py",
   "mimetype": "text/x-python",
   "name": "python",
   "nbconvert_exporter": "python",
   "pygments_lexer": "ipython3",
   "version": "3.7.5"
  }
 },
 "nbformat": 4,
 "nbformat_minor": 2
}
